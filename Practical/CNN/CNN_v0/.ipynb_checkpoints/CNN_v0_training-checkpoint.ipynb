{
 "cells": [
  {
   "cell_type": "code",
   "execution_count": 1,
   "metadata": {},
   "outputs": [
    {
     "name": "stdout",
     "output_type": "stream",
     "text": [
      "/home/PJWSTK/s14028/Engine\n"
     ]
    }
   ],
   "source": [
    "%cd ../../"
   ]
  },
  {
   "cell_type": "code",
   "execution_count": 1,
   "metadata": {},
   "outputs": [
    {
     "name": "stderr",
     "output_type": "stream",
     "text": [
      "Using TensorFlow backend.\n"
     ]
    }
   ],
   "source": [
    "import keras\n",
    "\n",
    "from common import *\n",
    "\n",
    "from CNN.CNN_v0 import CNN_v0"
   ]
  },
  {
   "cell_type": "code",
   "execution_count": 2,
   "metadata": {},
   "outputs": [],
   "source": [
    "train, test = data_sets()\n",
    "image_tensors = train[0], test[0]\n",
    "person_coo_tensors = train[1], test[1]\n",
    "count_matrix = train[2], test[2]\n",
    "\n",
    "image_train, image_test = image_tensors\n",
    "person_coo_train, person_coo_test = person_coo_tensors\n",
    "count_train, count_test = count_matrix\n",
    "count_train = count_train.astype(np.uint16)\n",
    "count_test = count_test.astype(np.uint16)"
   ]
  },
  {
   "cell_type": "code",
   "execution_count": 3,
   "metadata": {},
   "outputs": [
    {
     "data": {
      "text/plain": [
       "<keras.engine.sequential.Sequential at 0x7f77fc64bfd0>"
      ]
     },
     "execution_count": 3,
     "metadata": {},
     "output_type": "execute_result"
    }
   ],
   "source": [
    "cnn_v0 = CNN_v0((480, 640, 3), split_into_parts=20)\n",
    "cnn_v0.def_model()"
   ]
  },
  {
   "cell_type": "code",
   "execution_count": 4,
   "metadata": {},
   "outputs": [],
   "source": [
    "images = cnn_v0._prepare_images(image_train)\n",
    "anwsers = cnn_v0._prepare_anwsers(person_coo_train)"
   ]
  },
  {
   "cell_type": "code",
   "execution_count": 5,
   "metadata": {},
   "outputs": [
    {
     "name": "stdout",
     "output_type": "stream",
     "text": [
      "Epoch 1/1\n",
      "1/1 [==============================] - 2s 2s/step - loss: 0.6931 - acc: 1.0000\n"
     ]
    }
   ],
   "source": [
    "history = cnn_v0.model.fit(images[:1], anwsers[:1])"
   ]
  },
  {
   "cell_type": "code",
   "execution_count": 6,
   "metadata": {},
   "outputs": [],
   "source": [
    "parallel_model = keras.utils.multi_gpu_model(\n",
    "        cnn_v0.model,\n",
    "        gpus=6,\n",
    "        cpu_merge=False)\n",
    "parallel_model.compile(\n",
    "        loss=\"binary_crossentropy\", \n",
    "        optimizer=\"adam\", \n",
    "        metrics=[\"accuracy\"])"
   ]
  },
  {
   "cell_type": "code",
   "execution_count": null,
   "metadata": {},
   "outputs": [],
   "source": [
    "parallel_model.fit(images, anwsers, batch_size=390000, epochs=1,\n",
    "                   validation_split=0.1)"
   ]
  },
  {
   "cell_type": "code",
   "execution_count": 7,
   "metadata": {},
   "outputs": [
    {
     "data": {
      "text/plain": [
       "<tf.Tensor 'Assign:0' shape=() dtype=float32_ref>"
      ]
     },
     "execution_count": 7,
     "metadata": {},
     "output_type": "execute_result"
    }
   ],
   "source": [
    "parallel_model.optimizer.lr.assign(1e-1)"
   ]
  },
  {
   "cell_type": "code",
   "execution_count": 8,
   "metadata": {},
   "outputs": [
    {
     "name": "stdout",
     "output_type": "stream",
     "text": [
      "Train on 612000 samples, validate on 68000 samples\n",
      "Epoch 1/50\n",
      "612000/612000 [==============================] - 18s 30us/step - loss: 0.7691 - acc: 0.5818 - val_loss: 0.7569 - val_acc: 0.6171\n",
      "Epoch 2/50\n",
      "612000/612000 [==============================] - 6s 9us/step - loss: 0.7324 - acc: 0.6346 - val_loss: 0.7639 - val_acc: 0.6029\n",
      "Epoch 3/50\n",
      "612000/612000 [==============================] - 6s 10us/step - loss: 0.7003 - acc: 0.6584 - val_loss: 0.7518 - val_acc: 0.5972\n",
      "Epoch 4/50\n",
      "612000/612000 [==============================] - 6s 10us/step - loss: 0.6713 - acc: 0.6842 - val_loss: 0.7253 - val_acc: 0.6107\n",
      "Epoch 5/50\n",
      "612000/612000 [==============================] - 6s 10us/step - loss: 0.6465 - acc: 0.7093 - val_loss: 0.7031 - val_acc: 0.6302\n",
      "Epoch 6/50\n",
      "612000/612000 [==============================] - 6s 10us/step - loss: 0.6248 - acc: 0.7360 - val_loss: 0.6898 - val_acc: 0.6309\n",
      "Epoch 7/50\n",
      "612000/612000 [==============================] - 6s 9us/step - loss: 0.6047 - acc: 0.7584 - val_loss: 0.6764 - val_acc: 0.6345\n",
      "Epoch 8/50\n",
      "612000/612000 [==============================] - 6s 10us/step - loss: 0.5861 - acc: 0.7755 - val_loss: 0.6549 - val_acc: 0.6536\n",
      "Epoch 9/50\n",
      "612000/612000 [==============================] - 6s 10us/step - loss: 0.5683 - acc: 0.7936 - val_loss: 0.6292 - val_acc: 0.6857\n",
      "Epoch 10/50\n",
      "612000/612000 [==============================] - 6s 10us/step - loss: 0.5512 - acc: 0.8130 - val_loss: 0.6039 - val_acc: 0.7198\n",
      "Epoch 11/50\n",
      "612000/612000 [==============================] - 6s 10us/step - loss: 0.5346 - acc: 0.8320 - val_loss: 0.5831 - val_acc: 0.7418\n",
      "Epoch 12/50\n",
      "612000/612000 [==============================] - 6s 10us/step - loss: 0.5186 - acc: 0.8475 - val_loss: 0.5612 - val_acc: 0.7602\n",
      "Epoch 13/50\n",
      "612000/612000 [==============================] - 6s 10us/step - loss: 0.5030 - acc: 0.8598 - val_loss: 0.5366 - val_acc: 0.7828\n",
      "Epoch 14/50\n",
      "612000/612000 [==============================] - 6s 9us/step - loss: 0.4876 - acc: 0.8710 - val_loss: 0.5124 - val_acc: 0.8098\n",
      "Epoch 15/50\n",
      "612000/612000 [==============================] - 6s 10us/step - loss: 0.4725 - acc: 0.8805 - val_loss: 0.4896 - val_acc: 0.8342\n",
      "Epoch 16/50\n",
      "612000/612000 [==============================] - 6s 10us/step - loss: 0.4576 - acc: 0.8887 - val_loss: 0.4679 - val_acc: 0.8543\n",
      "Epoch 17/50\n",
      "612000/612000 [==============================] - 6s 10us/step - loss: 0.4430 - acc: 0.8960 - val_loss: 0.4457 - val_acc: 0.8721\n",
      "Epoch 18/50\n",
      "612000/612000 [==============================] - 6s 10us/step - loss: 0.4287 - acc: 0.9018 - val_loss: 0.4244 - val_acc: 0.8861\n",
      "Epoch 19/50\n",
      "612000/612000 [==============================] - 6s 10us/step - loss: 0.4147 - acc: 0.9061 - val_loss: 0.4063 - val_acc: 0.8945\n",
      "Epoch 20/50\n",
      "612000/612000 [==============================] - 6s 10us/step - loss: 0.4009 - acc: 0.9095 - val_loss: 0.3910 - val_acc: 0.8994\n",
      "Epoch 21/50\n",
      "612000/612000 [==============================] - 6s 10us/step - loss: 0.3874 - acc: 0.9130 - val_loss: 0.3763 - val_acc: 0.9044\n",
      "Epoch 22/50\n",
      "612000/612000 [==============================] - 6s 10us/step - loss: 0.3743 - acc: 0.9164 - val_loss: 0.3618 - val_acc: 0.9092\n",
      "Epoch 23/50\n",
      "612000/612000 [==============================] - 6s 10us/step - loss: 0.3615 - acc: 0.9195 - val_loss: 0.3480 - val_acc: 0.9134\n",
      "Epoch 24/50\n",
      "612000/612000 [==============================] - 6s 10us/step - loss: 0.3492 - acc: 0.9223 - val_loss: 0.3357 - val_acc: 0.9165\n",
      "Epoch 25/50\n",
      "612000/612000 [==============================] - 6s 10us/step - loss: 0.3373 - acc: 0.9248 - val_loss: 0.3241 - val_acc: 0.9190\n",
      "Epoch 26/50\n",
      "612000/612000 [==============================] - 6s 10us/step - loss: 0.3259 - acc: 0.9271 - val_loss: 0.3132 - val_acc: 0.9218\n",
      "Epoch 27/50\n",
      "612000/612000 [==============================] - 6s 10us/step - loss: 0.3150 - acc: 0.9289 - val_loss: 0.3036 - val_acc: 0.9240\n",
      "Epoch 28/50\n",
      "612000/612000 [==============================] - 6s 10us/step - loss: 0.3046 - acc: 0.9304 - val_loss: 0.2949 - val_acc: 0.9260\n",
      "Epoch 29/50\n",
      "612000/612000 [==============================] - 6s 10us/step - loss: 0.2947 - acc: 0.9317 - val_loss: 0.2869 - val_acc: 0.9272\n",
      "Epoch 30/50\n",
      "612000/612000 [==============================] - 6s 10us/step - loss: 0.2854 - acc: 0.9327 - val_loss: 0.2793 - val_acc: 0.9282\n",
      "Epoch 31/50\n",
      "612000/612000 [==============================] - 6s 9us/step - loss: 0.2766 - acc: 0.9336 - val_loss: 0.2726 - val_acc: 0.9289\n",
      "Epoch 32/50\n",
      "612000/612000 [==============================] - 6s 10us/step - loss: 0.2684 - acc: 0.9342 - val_loss: 0.2664 - val_acc: 0.9293\n",
      "Epoch 33/50\n",
      "612000/612000 [==============================] - 6s 10us/step - loss: 0.2607 - acc: 0.9347 - val_loss: 0.2607 - val_acc: 0.9297\n",
      "Epoch 34/50\n",
      "612000/612000 [==============================] - 6s 10us/step - loss: 0.2535 - acc: 0.9351 - val_loss: 0.2551 - val_acc: 0.9298\n",
      "Epoch 35/50\n",
      "612000/612000 [==============================] - 6s 10us/step - loss: 0.2469 - acc: 0.9354 - val_loss: 0.2495 - val_acc: 0.9301\n",
      "Epoch 36/50\n",
      "612000/612000 [==============================] - 6s 10us/step - loss: 0.2407 - acc: 0.9358 - val_loss: 0.2437 - val_acc: 0.9305\n",
      "Epoch 37/50\n",
      "612000/612000 [==============================] - 6s 10us/step - loss: 0.2350 - acc: 0.9360 - val_loss: 0.2385 - val_acc: 0.9309\n",
      "Epoch 38/50\n",
      "612000/612000 [==============================] - 6s 10us/step - loss: 0.2297 - acc: 0.9363 - val_loss: 0.2335 - val_acc: 0.9312\n",
      "Epoch 39/50\n",
      "612000/612000 [==============================] - 6s 10us/step - loss: 0.2248 - acc: 0.9366 - val_loss: 0.2285 - val_acc: 0.9315\n",
      "Epoch 40/50\n",
      "612000/612000 [==============================] - 6s 10us/step - loss: 0.2203 - acc: 0.9367 - val_loss: 0.2242 - val_acc: 0.9319\n",
      "Epoch 41/50\n",
      "612000/612000 [==============================] - 6s 10us/step - loss: 0.2162 - acc: 0.9368 - val_loss: 0.2203 - val_acc: 0.9320\n",
      "Epoch 42/50\n",
      "612000/612000 [==============================] - 6s 10us/step - loss: 0.2124 - acc: 0.9370 - val_loss: 0.2165 - val_acc: 0.9324\n",
      "Epoch 43/50\n",
      "612000/612000 [==============================] - 6s 10us/step - loss: 0.2089 - acc: 0.9372 - val_loss: 0.2130 - val_acc: 0.9324\n",
      "Epoch 44/50\n",
      "612000/612000 [==============================] - 6s 10us/step - loss: 0.2056 - acc: 0.9374 - val_loss: 0.2100 - val_acc: 0.9325\n",
      "Epoch 45/50\n",
      "612000/612000 [==============================] - 6s 9us/step - loss: 0.2027 - acc: 0.9376 - val_loss: 0.2069 - val_acc: 0.9328\n",
      "Epoch 46/50\n",
      "612000/612000 [==============================] - 6s 10us/step - loss: 0.1999 - acc: 0.9377 - val_loss: 0.2040 - val_acc: 0.9330\n",
      "Epoch 47/50\n",
      "612000/612000 [==============================] - 6s 10us/step - loss: 0.1974 - acc: 0.9378 - val_loss: 0.2021 - val_acc: 0.9330\n",
      "Epoch 48/50\n",
      "612000/612000 [==============================] - 6s 10us/step - loss: 0.1950 - acc: 0.9381 - val_loss: 0.1998 - val_acc: 0.9330\n",
      "Epoch 49/50\n",
      "612000/612000 [==============================] - 6s 10us/step - loss: 0.1928 - acc: 0.9383 - val_loss: 0.1976 - val_acc: 0.9331\n",
      "Epoch 50/50\n",
      "612000/612000 [==============================] - 6s 10us/step - loss: 0.1907 - acc: 0.9384 - val_loss: 0.1959 - val_acc: 0.9332\n"
     ]
    },
    {
     "data": {
      "text/plain": [
       "<keras.callbacks.History at 0x7f9810083b70>"
      ]
     },
     "execution_count": 8,
     "metadata": {},
     "output_type": "execute_result"
    }
   ],
   "source": [
    "parallel_model.fit(images, anwsers, batch_size=390000, epochs=100,\n",
    "                   validation_split=0.1)"
   ]
  },
  {
   "cell_type": "code",
   "execution_count": 10,
   "metadata": {},
   "outputs": [],
   "source": [
    "parallel_model.save_weights(\"CNN/CNN_v0/weights/cnn_v0_1e_1_100\")"
   ]
  },
  {
   "cell_type": "code",
   "execution_count": 19,
   "metadata": {},
   "outputs": [],
   "source": [
    "parallel_model.load_weights(\"CNN/CNN_v0/weights/cnn_v0_1e_1_100\")"
   ]
  },
  {
   "cell_type": "code",
   "execution_count": 13,
   "metadata": {},
   "outputs": [
    {
     "data": {
      "text/plain": [
       "<tf.Tensor 'Assign_19:0' shape=() dtype=float32_ref>"
      ]
     },
     "execution_count": 13,
     "metadata": {},
     "output_type": "execute_result"
    }
   ],
   "source": [
    "parallel_model.optimizer.lr.assign(1e-3)"
   ]
  },
  {
   "cell_type": "code",
   "execution_count": 20,
   "metadata": {},
   "outputs": [
    {
     "name": "stdout",
     "output_type": "stream",
     "text": [
      "Train on 612000 samples, validate on 68000 samples\n",
      "Epoch 1/10\n",
      "612000/612000 [==============================] - 6s 11us/step - loss: 0.1524 - acc: 0.9463 - val_loss: 0.1640 - val_acc: 0.9426\n",
      "Epoch 2/10\n",
      "612000/612000 [==============================] - 6s 10us/step - loss: 0.1520 - acc: 0.9464 - val_loss: 0.1640 - val_acc: 0.9426\n",
      "Epoch 3/10\n",
      "612000/612000 [==============================] - 6s 10us/step - loss: 0.1516 - acc: 0.9465 - val_loss: 0.1630 - val_acc: 0.9427\n",
      "Epoch 4/10\n",
      "612000/612000 [==============================] - 6s 9us/step - loss: 0.1513 - acc: 0.9465 - val_loss: 0.1624 - val_acc: 0.9427\n",
      "Epoch 5/10\n",
      "612000/612000 [==============================] - 6s 9us/step - loss: 0.1509 - acc: 0.9467 - val_loss: 0.1618 - val_acc: 0.9428\n",
      "Epoch 6/10\n",
      "612000/612000 [==============================] - 6s 9us/step - loss: 0.1505 - acc: 0.9468 - val_loss: 0.1609 - val_acc: 0.9428\n",
      "Epoch 7/10\n",
      "612000/612000 [==============================] - 6s 10us/step - loss: 0.1501 - acc: 0.9468 - val_loss: 0.1610 - val_acc: 0.9429\n",
      "Epoch 8/10\n",
      "612000/612000 [==============================] - 6s 10us/step - loss: 0.1497 - acc: 0.9470 - val_loss: 0.1605 - val_acc: 0.9430\n",
      "Epoch 9/10\n",
      "612000/612000 [==============================] - 6s 10us/step - loss: 0.1494 - acc: 0.9470 - val_loss: 0.1600 - val_acc: 0.9428\n",
      "Epoch 10/10\n",
      "612000/612000 [==============================] - 6s 10us/step - loss: 0.1490 - acc: 0.9471 - val_loss: 0.1602 - val_acc: 0.9429\n"
     ]
    },
    {
     "data": {
      "text/plain": [
       "<keras.callbacks.History at 0x7f9738488f28>"
      ]
     },
     "execution_count": 20,
     "metadata": {},
     "output_type": "execute_result"
    }
   ],
   "source": [
    "parallel_model.fit(images, anwsers, batch_size=390000, epochs=10,\n",
    "                   validation_split=0.1)"
   ]
  },
  {
   "cell_type": "code",
   "execution_count": 21,
   "metadata": {},
   "outputs": [],
   "source": [
    "parallel_model.save_weights(\"CNN/CNN_v0/weights/cnn_v0_1e_3_10\")"
   ]
  },
  {
   "cell_type": "code",
   "execution_count": 33,
   "metadata": {},
   "outputs": [],
   "source": [
    "parallel_model.load_weights(\"CNN/CNN_v0/weights/cnn_v0_1e_3_10\")"
   ]
  },
  {
   "cell_type": "code",
   "execution_count": 34,
   "metadata": {},
   "outputs": [
    {
     "data": {
      "text/plain": [
       "<tf.Tensor 'Assign_23:0' shape=() dtype=float32_ref>"
      ]
     },
     "execution_count": 34,
     "metadata": {},
     "output_type": "execute_result"
    }
   ],
   "source": [
    "parallel_model.optimizer.lr.assign(1e-7)"
   ]
  },
  {
   "cell_type": "code",
   "execution_count": 35,
   "metadata": {},
   "outputs": [
    {
     "name": "stdout",
     "output_type": "stream",
     "text": [
      "Train on 612000 samples, validate on 68000 samples\n",
      "Epoch 1/5\n",
      "612000/612000 [==============================] - 6s 10us/step - loss: 0.1487 - acc: 0.9473 - val_loss: 0.1595 - val_acc: 0.9431\n",
      "Epoch 2/5\n",
      "612000/612000 [==============================] - 6s 10us/step - loss: 0.1483 - acc: 0.9472 - val_loss: 0.1585 - val_acc: 0.9432\n",
      "Epoch 3/5\n",
      "612000/612000 [==============================] - 6s 10us/step - loss: 0.1480 - acc: 0.9474 - val_loss: 0.1588 - val_acc: 0.9431\n",
      "Epoch 4/5\n",
      "612000/612000 [==============================] - 6s 10us/step - loss: 0.1477 - acc: 0.9476 - val_loss: 0.1580 - val_acc: 0.9430\n",
      "Epoch 5/5\n",
      "612000/612000 [==============================] - 6s 9us/step - loss: 0.1474 - acc: 0.9475 - val_loss: 0.1579 - val_acc: 0.9431\n"
     ]
    },
    {
     "data": {
      "text/plain": [
       "<keras.callbacks.History at 0x7f973848bc18>"
      ]
     },
     "execution_count": 35,
     "metadata": {},
     "output_type": "execute_result"
    }
   ],
   "source": [
    "parallel_model.fit(images, anwsers, batch_size=390000, epochs=5,\n",
    "                   validation_split=0.1)"
   ]
  },
  {
   "cell_type": "code",
   "execution_count": 36,
   "metadata": {},
   "outputs": [],
   "source": [
    "parallel_model.save_weights(\"CNN/CNN_v0/weights/cnn_v0_1e_7_5\")"
   ]
  },
  {
   "cell_type": "code",
   "execution_count": 7,
   "metadata": {},
   "outputs": [],
   "source": [
    "parallel_model.load_weights(\"CNN/CNN_v0/weights/cnn_v0_1e_7_5\")"
   ]
  },
  {
   "cell_type": "code",
   "execution_count": 11,
   "metadata": {},
   "outputs": [
    {
     "data": {
      "text/plain": [
       "<tf.Tensor 'Assign_18:0' shape=() dtype=float32_ref>"
      ]
     },
     "execution_count": 11,
     "metadata": {},
     "output_type": "execute_result"
    }
   ],
   "source": [
    "parallel_model.optimizer.lr.assign(1e-3)"
   ]
  },
  {
   "cell_type": "code",
   "execution_count": 12,
   "metadata": {},
   "outputs": [
    {
     "name": "stdout",
     "output_type": "stream",
     "text": [
      "Train on 612000 samples, validate on 68000 samples\n",
      "Epoch 1/50\n",
      "612000/612000 [==============================] - 19s 31us/step - loss: 0.1473 - acc: 0.9473 - val_loss: 0.1624 - val_acc: 0.9427\n",
      "Epoch 2/50\n",
      "612000/612000 [==============================] - 6s 9us/step - loss: 0.1471 - acc: 0.9479 - val_loss: 0.1572 - val_acc: 0.9427\n",
      "Epoch 3/50\n",
      "612000/612000 [==============================] - 6s 10us/step - loss: 0.1464 - acc: 0.9475 - val_loss: 0.1600 - val_acc: 0.9418\n",
      "Epoch 4/50\n",
      "612000/612000 [==============================] - 6s 9us/step - loss: 0.1462 - acc: 0.9473 - val_loss: 0.1595 - val_acc: 0.9424\n",
      "Epoch 5/50\n",
      "612000/612000 [==============================] - 6s 9us/step - loss: 0.1458 - acc: 0.9481 - val_loss: 0.1587 - val_acc: 0.9427\n",
      "Epoch 6/50\n",
      "612000/612000 [==============================] - 6s 9us/step - loss: 0.1455 - acc: 0.9480 - val_loss: 0.1569 - val_acc: 0.9427\n",
      "Epoch 7/50\n",
      "612000/612000 [==============================] - 6s 9us/step - loss: 0.1453 - acc: 0.9477 - val_loss: 0.1586 - val_acc: 0.9421\n",
      "Epoch 8/50\n",
      "612000/612000 [==============================] - 6s 9us/step - loss: 0.1448 - acc: 0.9480 - val_loss: 0.1584 - val_acc: 0.9423\n",
      "Epoch 9/50\n",
      "612000/612000 [==============================] - 6s 10us/step - loss: 0.1446 - acc: 0.9482 - val_loss: 0.1566 - val_acc: 0.9426\n",
      "Epoch 10/50\n",
      "612000/612000 [==============================] - 6s 9us/step - loss: 0.1442 - acc: 0.9481 - val_loss: 0.1556 - val_acc: 0.9427\n",
      "Epoch 11/50\n",
      "612000/612000 [==============================] - 6s 9us/step - loss: 0.1440 - acc: 0.9480 - val_loss: 0.1559 - val_acc: 0.9426\n",
      "Epoch 12/50\n",
      "612000/612000 [==============================] - 6s 9us/step - loss: 0.1437 - acc: 0.9483 - val_loss: 0.1566 - val_acc: 0.9424\n",
      "Epoch 13/50\n",
      "612000/612000 [==============================] - 6s 10us/step - loss: 0.1434 - acc: 0.9484 - val_loss: 0.1559 - val_acc: 0.9425\n",
      "Epoch 14/50\n",
      "612000/612000 [==============================] - 6s 9us/step - loss: 0.1431 - acc: 0.9483 - val_loss: 0.1545 - val_acc: 0.9427\n",
      "Epoch 15/50\n",
      "612000/612000 [==============================] - 6s 10us/step - loss: 0.1428 - acc: 0.9484 - val_loss: 0.1559 - val_acc: 0.9425\n",
      "Epoch 16/50\n",
      "612000/612000 [==============================] - 6s 9us/step - loss: 0.1425 - acc: 0.9486 - val_loss: 0.1565 - val_acc: 0.9423\n",
      "Epoch 17/50\n",
      "612000/612000 [==============================] - 6s 10us/step - loss: 0.1422 - acc: 0.9486 - val_loss: 0.1562 - val_acc: 0.9424\n",
      "Epoch 18/50\n",
      "612000/612000 [==============================] - 6s 9us/step - loss: 0.1420 - acc: 0.9487 - val_loss: 0.1559 - val_acc: 0.9423\n",
      "Epoch 19/50\n",
      "612000/612000 [==============================] - 6s 9us/step - loss: 0.1417 - acc: 0.9488 - val_loss: 0.1561 - val_acc: 0.9422\n",
      "Epoch 20/50\n",
      "612000/612000 [==============================] - 6s 9us/step - loss: 0.1414 - acc: 0.9488 - val_loss: 0.1570 - val_acc: 0.9422\n",
      "Epoch 21/50\n",
      "612000/612000 [==============================] - 6s 10us/step - loss: 0.1411 - acc: 0.9489 - val_loss: 0.1567 - val_acc: 0.9423\n",
      "Epoch 22/50\n",
      "612000/612000 [==============================] - 5s 9us/step - loss: 0.1408 - acc: 0.9491 - val_loss: 0.1564 - val_acc: 0.9424\n",
      "Epoch 23/50\n",
      "612000/612000 [==============================] - 6s 9us/step - loss: 0.1405 - acc: 0.9491 - val_loss: 0.1555 - val_acc: 0.9426\n",
      "Epoch 24/50\n",
      "612000/612000 [==============================] - 6s 10us/step - loss: 0.1403 - acc: 0.9491 - val_loss: 0.1570 - val_acc: 0.9422\n",
      "Epoch 25/50\n",
      "612000/612000 [==============================] - 6s 10us/step - loss: 0.1400 - acc: 0.9492 - val_loss: 0.1569 - val_acc: 0.9421\n",
      "Epoch 26/50\n",
      "612000/612000 [==============================] - 6s 9us/step - loss: 0.1397 - acc: 0.9494 - val_loss: 0.1563 - val_acc: 0.9422\n",
      "Epoch 27/50\n",
      "612000/612000 [==============================] - 6s 9us/step - loss: 0.1394 - acc: 0.9494 - val_loss: 0.1562 - val_acc: 0.9422\n",
      "Epoch 28/50\n",
      "612000/612000 [==============================] - 6s 10us/step - loss: 0.1392 - acc: 0.9494 - val_loss: 0.1571 - val_acc: 0.9421\n",
      "Epoch 29/50\n",
      "612000/612000 [==============================] - 6s 9us/step - loss: 0.1389 - acc: 0.9496 - val_loss: 0.1579 - val_acc: 0.9421\n",
      "Epoch 30/50\n",
      "612000/612000 [==============================] - 6s 9us/step - loss: 0.1387 - acc: 0.9496 - val_loss: 0.1576 - val_acc: 0.9423\n",
      "Epoch 31/50\n",
      "612000/612000 [==============================] - 6s 10us/step - loss: 0.1384 - acc: 0.9496 - val_loss: 0.1563 - val_acc: 0.9422\n",
      "Epoch 32/50\n",
      "612000/612000 [==============================] - 6s 9us/step - loss: 0.1381 - acc: 0.9498 - val_loss: 0.1590 - val_acc: 0.9420\n",
      "Epoch 33/50\n",
      "612000/612000 [==============================] - 6s 10us/step - loss: 0.1379 - acc: 0.9498 - val_loss: 0.1561 - val_acc: 0.9423\n",
      "Epoch 34/50\n",
      "612000/612000 [==============================] - 6s 9us/step - loss: 0.1377 - acc: 0.9499 - val_loss: 0.1587 - val_acc: 0.9422\n",
      "Epoch 35/50\n",
      "612000/612000 [==============================] - 6s 9us/step - loss: 0.1375 - acc: 0.9498 - val_loss: 0.1580 - val_acc: 0.9422\n",
      "Epoch 36/50\n",
      "612000/612000 [==============================] - 5s 9us/step - loss: 0.1372 - acc: 0.9501 - val_loss: 0.1615 - val_acc: 0.9420\n",
      "Epoch 37/50\n",
      "612000/612000 [==============================] - 5s 9us/step - loss: 0.1370 - acc: 0.9499 - val_loss: 0.1572 - val_acc: 0.9422\n",
      "Epoch 38/50\n",
      "612000/612000 [==============================] - 6s 9us/step - loss: 0.1368 - acc: 0.9502 - val_loss: 0.1595 - val_acc: 0.9424\n",
      "Epoch 39/50\n",
      "612000/612000 [==============================] - 6s 10us/step - loss: 0.1366 - acc: 0.9501 - val_loss: 0.1597 - val_acc: 0.9423\n",
      "Epoch 40/50\n",
      "612000/612000 [==============================] - 6s 9us/step - loss: 0.1363 - acc: 0.9502 - val_loss: 0.1592 - val_acc: 0.9423\n",
      "Epoch 41/50\n",
      "612000/612000 [==============================] - 5s 9us/step - loss: 0.1361 - acc: 0.9504 - val_loss: 0.1580 - val_acc: 0.9422\n",
      "Epoch 42/50\n",
      "612000/612000 [==============================] - 6s 9us/step - loss: 0.1359 - acc: 0.9503 - val_loss: 0.1592 - val_acc: 0.9422\n",
      "Epoch 43/50\n",
      "612000/612000 [==============================] - 6s 9us/step - loss: 0.1357 - acc: 0.9505 - val_loss: 0.1640 - val_acc: 0.9422\n",
      "Epoch 44/50\n",
      "612000/612000 [==============================] - 6s 9us/step - loss: 0.1355 - acc: 0.9505 - val_loss: 0.1577 - val_acc: 0.9422\n",
      "Epoch 45/50\n",
      "612000/612000 [==============================] - 6s 9us/step - loss: 0.1353 - acc: 0.9506 - val_loss: 0.1608 - val_acc: 0.9423\n",
      "Epoch 46/50\n",
      "612000/612000 [==============================] - 5s 9us/step - loss: 0.1350 - acc: 0.9506 - val_loss: 0.1602 - val_acc: 0.9421\n",
      "Epoch 47/50\n",
      "612000/612000 [==============================] - 5s 9us/step - loss: 0.1348 - acc: 0.9507 - val_loss: 0.1619 - val_acc: 0.9423\n",
      "Epoch 48/50\n",
      "612000/612000 [==============================] - 5s 9us/step - loss: 0.1347 - acc: 0.9507 - val_loss: 0.1585 - val_acc: 0.9423\n",
      "Epoch 49/50\n",
      "612000/612000 [==============================] - 5s 9us/step - loss: 0.1345 - acc: 0.9508 - val_loss: 0.1599 - val_acc: 0.9422\n",
      "Epoch 50/50\n",
      "612000/612000 [==============================] - 6s 9us/step - loss: 0.1342 - acc: 0.9509 - val_loss: 0.1596 - val_acc: 0.9423\n"
     ]
    },
    {
     "data": {
      "text/plain": [
       "<keras.callbacks.History at 0x7f77802b15c0>"
      ]
     },
     "execution_count": 12,
     "metadata": {},
     "output_type": "execute_result"
    }
   ],
   "source": [
    "parallel_model.fit(images, anwsers, batch_size=390000, epochs=50,\n",
    "                   validation_split=0.1)"
   ]
  },
  {
   "cell_type": "code",
   "execution_count": 16,
   "metadata": {},
   "outputs": [],
   "source": [
    "parallel_model.save_weights(\"CNN/CNN_v0/weights/cnn_v0_1e_3_50_2\")"
   ]
  },
  {
   "cell_type": "code",
   "execution_count": 7,
   "metadata": {},
   "outputs": [],
   "source": [
    "parallel_model.load_weights(\"CNN/CNN_v0/weights/cnn_v0_1e_3_50_2\")"
   ]
  },
  {
   "cell_type": "code",
   "execution_count": 15,
   "metadata": {},
   "outputs": [
    {
     "data": {
      "text/plain": [
       "<tf.Tensor 'Assign_19:0' shape=() dtype=float32_ref>"
      ]
     },
     "execution_count": 15,
     "metadata": {},
     "output_type": "execute_result"
    }
   ],
   "source": [
    "parallel_model.optimizer.lr.assign(1e-5)"
   ]
  },
  {
   "cell_type": "code",
   "execution_count": 25,
   "metadata": {},
   "outputs": [
    {
     "name": "stdout",
     "output_type": "stream",
     "text": [
      "Train on 612000 samples, validate on 68000 samples\n",
      "Epoch 1/50\n",
      "612000/612000 [==============================] - 6s 10us/step - loss: 0.1235 - acc: 0.9538 - val_loss: 0.1420 - val_acc: 0.9460\n",
      "Epoch 2/50\n",
      "612000/612000 [==============================] - 5s 9us/step - loss: 0.1234 - acc: 0.9539 - val_loss: 0.1410 - val_acc: 0.9463\n",
      "Epoch 3/50\n",
      "612000/612000 [==============================] - 5s 9us/step - loss: 0.1233 - acc: 0.9539 - val_loss: 0.1414 - val_acc: 0.9463\n",
      "Epoch 4/50\n",
      "612000/612000 [==============================] - 6s 10us/step - loss: 0.1232 - acc: 0.9538 - val_loss: 0.1433 - val_acc: 0.9459\n",
      "Epoch 5/50\n",
      "612000/612000 [==============================] - 6s 9us/step - loss: 0.1233 - acc: 0.9538 - val_loss: 0.1407 - val_acc: 0.9464\n",
      "Epoch 6/50\n",
      "612000/612000 [==============================] - 6s 9us/step - loss: 0.1231 - acc: 0.9539 - val_loss: 0.1426 - val_acc: 0.9463\n",
      "Epoch 7/50\n",
      "612000/612000 [==============================] - 5s 9us/step - loss: 0.1231 - acc: 0.9539 - val_loss: 0.1406 - val_acc: 0.9461\n",
      "Epoch 8/50\n",
      "612000/612000 [==============================] - 6s 9us/step - loss: 0.1230 - acc: 0.9539 - val_loss: 0.1413 - val_acc: 0.9463\n",
      "Epoch 9/50\n",
      "612000/612000 [==============================] - 5s 9us/step - loss: 0.1229 - acc: 0.9539 - val_loss: 0.1425 - val_acc: 0.9462\n",
      "Epoch 10/50\n",
      "612000/612000 [==============================] - 6s 10us/step - loss: 0.1229 - acc: 0.9539 - val_loss: 0.1399 - val_acc: 0.9465\n",
      "Epoch 11/50\n",
      "612000/612000 [==============================] - 6s 9us/step - loss: 0.1229 - acc: 0.9540 - val_loss: 0.1412 - val_acc: 0.9463\n",
      "Epoch 12/50\n",
      "612000/612000 [==============================] - 5s 9us/step - loss: 0.1228 - acc: 0.9540 - val_loss: 0.1405 - val_acc: 0.9463\n",
      "Epoch 13/50\n",
      "612000/612000 [==============================] - 6s 9us/step - loss: 0.1227 - acc: 0.9540 - val_loss: 0.1404 - val_acc: 0.9467\n",
      "Epoch 14/50\n",
      "612000/612000 [==============================] - 6s 9us/step - loss: 0.1227 - acc: 0.9541 - val_loss: 0.1427 - val_acc: 0.9464\n",
      "Epoch 15/50\n",
      "612000/612000 [==============================] - 6s 9us/step - loss: 0.1226 - acc: 0.9540 - val_loss: 0.1391 - val_acc: 0.9466\n",
      "Epoch 16/50\n",
      "612000/612000 [==============================] - 6s 10us/step - loss: 0.1228 - acc: 0.9540 - val_loss: 0.1437 - val_acc: 0.9461\n",
      "Epoch 17/50\n",
      "612000/612000 [==============================] - 6s 10us/step - loss: 0.1225 - acc: 0.9542 - val_loss: 0.1403 - val_acc: 0.9466\n",
      "Epoch 18/50\n",
      "612000/612000 [==============================] - 6s 9us/step - loss: 0.1225 - acc: 0.9541 - val_loss: 0.1426 - val_acc: 0.9462\n",
      "Epoch 19/50\n",
      "612000/612000 [==============================] - 6s 9us/step - loss: 0.1224 - acc: 0.9540 - val_loss: 0.1413 - val_acc: 0.9464\n",
      "Epoch 20/50\n",
      "612000/612000 [==============================] - 6s 9us/step - loss: 0.1224 - acc: 0.9542 - val_loss: 0.1403 - val_acc: 0.9465\n",
      "Epoch 21/50\n",
      "612000/612000 [==============================] - 6s 10us/step - loss: 0.1223 - acc: 0.9542 - val_loss: 0.1425 - val_acc: 0.9464\n",
      "Epoch 22/50\n",
      "612000/612000 [==============================] - 5s 9us/step - loss: 0.1223 - acc: 0.9542 - val_loss: 0.1404 - val_acc: 0.9467\n",
      "Epoch 23/50\n",
      "612000/612000 [==============================] - 6s 10us/step - loss: 0.1222 - acc: 0.9542 - val_loss: 0.1406 - val_acc: 0.9466\n",
      "Epoch 24/50\n",
      "612000/612000 [==============================] - 6s 9us/step - loss: 0.1222 - acc: 0.9543 - val_loss: 0.1409 - val_acc: 0.9468\n",
      "Epoch 25/50\n",
      "612000/612000 [==============================] - 6s 9us/step - loss: 0.1221 - acc: 0.9541 - val_loss: 0.1416 - val_acc: 0.9464\n",
      "Epoch 26/50\n",
      "612000/612000 [==============================] - 5s 9us/step - loss: 0.1221 - acc: 0.9543 - val_loss: 0.1407 - val_acc: 0.9468\n",
      "Epoch 27/50\n",
      "612000/612000 [==============================] - 6s 9us/step - loss: 0.1220 - acc: 0.9543 - val_loss: 0.1405 - val_acc: 0.9471\n",
      "Epoch 28/50\n",
      "612000/612000 [==============================] - 6s 9us/step - loss: 0.1219 - acc: 0.9543 - val_loss: 0.1407 - val_acc: 0.9466\n",
      "Epoch 29/50\n",
      "612000/612000 [==============================] - 6s 9us/step - loss: 0.1219 - acc: 0.9544 - val_loss: 0.1390 - val_acc: 0.9471\n",
      "Epoch 30/50\n",
      "612000/612000 [==============================] - 6s 9us/step - loss: 0.1219 - acc: 0.9543 - val_loss: 0.1392 - val_acc: 0.9469\n",
      "Epoch 31/50\n",
      "612000/612000 [==============================] - 6s 9us/step - loss: 0.1218 - acc: 0.9543 - val_loss: 0.1418 - val_acc: 0.9467\n",
      "Epoch 32/50\n",
      "612000/612000 [==============================] - 5s 9us/step - loss: 0.1218 - acc: 0.9544 - val_loss: 0.1403 - val_acc: 0.9471\n",
      "Epoch 33/50\n",
      "612000/612000 [==============================] - 5s 9us/step - loss: 0.1217 - acc: 0.9544 - val_loss: 0.1407 - val_acc: 0.9470\n",
      "Epoch 34/50\n",
      "612000/612000 [==============================] - 5s 9us/step - loss: 0.1216 - acc: 0.9544 - val_loss: 0.1397 - val_acc: 0.9470\n",
      "Epoch 35/50\n",
      "612000/612000 [==============================] - 6s 9us/step - loss: 0.1217 - acc: 0.9545 - val_loss: 0.1406 - val_acc: 0.9469\n",
      "Epoch 36/50\n",
      "612000/612000 [==============================] - 5s 9us/step - loss: 0.1216 - acc: 0.9543 - val_loss: 0.1404 - val_acc: 0.9472\n",
      "Epoch 37/50\n",
      "612000/612000 [==============================] - 6s 9us/step - loss: 0.1215 - acc: 0.9545 - val_loss: 0.1402 - val_acc: 0.9469\n",
      "Epoch 38/50\n",
      "612000/612000 [==============================] - 6s 9us/step - loss: 0.1216 - acc: 0.9544 - val_loss: 0.1391 - val_acc: 0.9473\n",
      "Epoch 39/50\n",
      "612000/612000 [==============================] - 6s 9us/step - loss: 0.1215 - acc: 0.9545 - val_loss: 0.1395 - val_acc: 0.9471\n",
      "Epoch 40/50\n",
      "612000/612000 [==============================] - 5s 9us/step - loss: 0.1214 - acc: 0.9545 - val_loss: 0.1398 - val_acc: 0.9473\n",
      "Epoch 41/50\n",
      "612000/612000 [==============================] - 6s 10us/step - loss: 0.1214 - acc: 0.9546 - val_loss: 0.1404 - val_acc: 0.9472\n",
      "Epoch 42/50\n",
      "612000/612000 [==============================] - 6s 10us/step - loss: 0.1214 - acc: 0.9544 - val_loss: 0.1387 - val_acc: 0.9476\n",
      "Epoch 43/50\n",
      "612000/612000 [==============================] - 6s 9us/step - loss: 0.1213 - acc: 0.9546 - val_loss: 0.1394 - val_acc: 0.9473\n",
      "Epoch 44/50\n",
      "612000/612000 [==============================] - 6s 10us/step - loss: 0.1212 - acc: 0.9545 - val_loss: 0.1399 - val_acc: 0.9473\n",
      "Epoch 45/50\n",
      "612000/612000 [==============================] - 6s 9us/step - loss: 0.1212 - acc: 0.9546 - val_loss: 0.1387 - val_acc: 0.9474\n",
      "Epoch 46/50\n",
      "612000/612000 [==============================] - 6s 9us/step - loss: 0.1211 - acc: 0.9546 - val_loss: 0.1405 - val_acc: 0.9472\n",
      "Epoch 47/50\n",
      "612000/612000 [==============================] - 5s 9us/step - loss: 0.1212 - acc: 0.9546 - val_loss: 0.1400 - val_acc: 0.9475\n",
      "Epoch 48/50\n",
      "612000/612000 [==============================] - 6s 9us/step - loss: 0.1210 - acc: 0.9545 - val_loss: 0.1389 - val_acc: 0.9472\n",
      "Epoch 49/50\n",
      "612000/612000 [==============================] - 6s 9us/step - loss: 0.1210 - acc: 0.9546 - val_loss: 0.1405 - val_acc: 0.9471\n",
      "Epoch 50/50\n",
      "612000/612000 [==============================] - 6s 9us/step - loss: 0.1210 - acc: 0.9546 - val_loss: 0.1378 - val_acc: 0.9476\n"
     ]
    },
    {
     "data": {
      "text/plain": [
       "<keras.callbacks.History at 0x7f77802b1a20>"
      ]
     },
     "execution_count": 25,
     "metadata": {},
     "output_type": "execute_result"
    }
   ],
   "source": [
    "parallel_model.fit(images, anwsers, batch_size=390000, epochs=150,\n",
    "                   validation_split=0.1)"
   ]
  },
  {
   "cell_type": "code",
   "execution_count": 28,
   "metadata": {},
   "outputs": [],
   "source": [
    "parallel_model.save_weights(\"CNN/CNN_v0/weights/cnn_v0_1e_5_150_2\")"
   ]
  },
  {
   "cell_type": "code",
   "execution_count": 32,
   "metadata": {},
   "outputs": [],
   "source": [
    "parallel_model.load_weights(\"CNN/CNN_v0/weights/cnn_v0_1e_5_150_2\")"
   ]
  },
  {
   "cell_type": "code",
   "execution_count": 33,
   "metadata": {},
   "outputs": [
    {
     "data": {
      "text/plain": [
       "<tf.Tensor 'Assign_20:0' shape=() dtype=float32_ref>"
      ]
     },
     "execution_count": 33,
     "metadata": {},
     "output_type": "execute_result"
    }
   ],
   "source": [
    "parallel_model.optimizer.lr.assign(5e-6)"
   ]
  },
  {
   "cell_type": "code",
   "execution_count": 38,
   "metadata": {},
   "outputs": [
    {
     "name": "stdout",
     "output_type": "stream",
     "text": [
      "Train on 612000 samples, validate on 68000 samples\n",
      "Epoch 1/10\n",
      "612000/612000 [==============================] - 6s 9us/step - loss: 0.1205 - acc: 0.9547 - val_loss: 0.1317 - val_acc: 0.9491\n",
      "Epoch 2/10\n",
      "612000/612000 [==============================] - 5s 9us/step - loss: 0.1206 - acc: 0.9548 - val_loss: 0.1332 - val_acc: 0.9491\n",
      "Epoch 3/10\n",
      "612000/612000 [==============================] - 6s 9us/step - loss: 0.1206 - acc: 0.9546 - val_loss: 0.1321 - val_acc: 0.9493\n",
      "Epoch 4/10\n",
      "612000/612000 [==============================] - 6s 9us/step - loss: 0.1204 - acc: 0.9549 - val_loss: 0.1328 - val_acc: 0.9489\n",
      "Epoch 5/10\n",
      "612000/612000 [==============================] - 5s 9us/step - loss: 0.1204 - acc: 0.9548 - val_loss: 0.1336 - val_acc: 0.9490\n",
      "Epoch 6/10\n",
      "612000/612000 [==============================] - 6s 10us/step - loss: 0.1204 - acc: 0.9548 - val_loss: 0.1317 - val_acc: 0.9488\n",
      "Epoch 7/10\n",
      "612000/612000 [==============================] - 6s 9us/step - loss: 0.1205 - acc: 0.9549 - val_loss: 0.1342 - val_acc: 0.9489\n",
      "Epoch 8/10\n",
      "612000/612000 [==============================] - 5s 9us/step - loss: 0.1204 - acc: 0.9548 - val_loss: 0.1321 - val_acc: 0.9490\n",
      "Epoch 9/10\n",
      "612000/612000 [==============================] - 6s 9us/step - loss: 0.1204 - acc: 0.9547 - val_loss: 0.1331 - val_acc: 0.9484\n",
      "Epoch 10/10\n",
      "612000/612000 [==============================] - 6s 9us/step - loss: 0.1203 - acc: 0.9549 - val_loss: 0.1345 - val_acc: 0.9492\n"
     ]
    },
    {
     "data": {
      "text/plain": [
       "<keras.callbacks.History at 0x7f763849fa58>"
      ]
     },
     "execution_count": 38,
     "metadata": {},
     "output_type": "execute_result"
    }
   ],
   "source": [
    "parallel_model.fit(images, anwsers, batch_size=390000, epochs=20,\n",
    "                   validation_split=0.1)"
   ]
  },
  {
   "cell_type": "code",
   "execution_count": 41,
   "metadata": {},
   "outputs": [],
   "source": [
    "parallel_model.save_weights(\"CNN/CNN_v0/weights/cnn_v0_5e_6_20_2\")"
   ]
  },
  {
   "cell_type": "code",
   "execution_count": 60,
   "metadata": {},
   "outputs": [],
   "source": [
    "parallel_model.load_weights(\"CNN/CNN_v0/weights/cnn_v0_5e_6_20_2\")"
   ]
  },
  {
   "cell_type": "code",
   "execution_count": 61,
   "metadata": {},
   "outputs": [
    {
     "data": {
      "text/plain": [
       "<tf.Tensor 'Assign_22:0' shape=() dtype=float32_ref>"
      ]
     },
     "execution_count": 61,
     "metadata": {},
     "output_type": "execute_result"
    }
   ],
   "source": [
    "parallel_model.optimizer.lr.assign(1e-7)"
   ]
  },
  {
   "cell_type": "code",
   "execution_count": 90,
   "metadata": {},
   "outputs": [
    {
     "name": "stdout",
     "output_type": "stream",
     "text": [
      "Train on 612000 samples, validate on 68000 samples\n",
      "Epoch 1/1\n",
      "612000/612000 [==============================] - 6s 9us/step - loss: 0.1194 - acc: 0.9552 - val_loss: 0.1313 - val_acc: 0.9499\n"
     ]
    },
    {
     "data": {
      "text/plain": [
       "<keras.callbacks.History at 0x7f76384d2e48>"
      ]
     },
     "execution_count": 90,
     "metadata": {},
     "output_type": "execute_result"
    }
   ],
   "source": [
    "parallel_model.fit(images, anwsers, batch_size=390000, epochs=6,\n",
    "                   validation_split=0.1)"
   ]
  },
  {
   "cell_type": "code",
   "execution_count": 93,
   "metadata": {},
   "outputs": [],
   "source": [
    "parallel_model.save_weights(\"CNN/CNN_v0/weights/cnn_v0_1e_7_31_2\")"
   ]
  },
  {
   "cell_type": "code",
   "execution_count": 79,
   "metadata": {},
   "outputs": [],
   "source": [
    "parallel_model.load_weights(\"CNN/CNN_v0/weights/cnn_v0_1e_7_31_2\")"
   ]
  }
 ],
 "metadata": {
  "kernelspec": {
   "display_name": "Python 3",
   "language": "python",
   "name": "python3"
  },
  "language_info": {
   "codemirror_mode": {
    "name": "ipython",
    "version": 3
   },
   "file_extension": ".py",
   "mimetype": "text/x-python",
   "name": "python",
   "nbconvert_exporter": "python",
   "pygments_lexer": "ipython3",
   "version": "3.6.6"
  }
 },
 "nbformat": 4,
 "nbformat_minor": 2
}
