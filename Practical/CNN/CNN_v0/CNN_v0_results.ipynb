{
 "cells": [
  {
   "cell_type": "code",
   "execution_count": 1,
   "metadata": {},
   "outputs": [
    {
     "name": "stdout",
     "output_type": "stream",
     "text": [
      "/home/PJWSTK/s14028/Engine\n"
     ]
    }
   ],
   "source": [
    "%cd ../../"
   ]
  },
  {
   "cell_type": "code",
   "execution_count": 2,
   "metadata": {},
   "outputs": [
    {
     "name": "stderr",
     "output_type": "stream",
     "text": [
      "Using TensorFlow backend.\n"
     ]
    }
   ],
   "source": [
    "import keras\n",
    "\n",
    "from common import *\n",
    "from testing import test_model\n",
    "from testing import best_cop_diff\n",
    "from testing import mse\n",
    "from testing import mae\n",
    "\n",
    "from CNN.CNN_v0 import CNN_v0"
   ]
  },
  {
   "cell_type": "code",
   "execution_count": 3,
   "metadata": {},
   "outputs": [],
   "source": [
    "train, test = data_sets()\n",
    "image_tensors = train[0], test[0]\n",
    "person_coo_tensors = train[1], test[1]\n",
    "count_matrix = train[2], test[2]\n",
    "\n",
    "image_train, image_test = image_tensors\n",
    "person_coo_train, person_coo_test = person_coo_tensors\n",
    "count_train, count_test = count_matrix\n",
    "count_train = count_train.astype(np.uint16)\n",
    "count_test = count_test.astype(np.uint16)"
   ]
  },
  {
   "cell_type": "code",
   "execution_count": 4,
   "metadata": {},
   "outputs": [],
   "source": [
    "cnn = CNN_v0((480, 640, 3), split_into_parts=20)\n",
    "\n",
    "images = cnn._prepare_images(image_test)\n",
    "anwsers = cnn._prepare_anwsers(person_coo_test)"
   ]
  },
  {
   "cell_type": "code",
   "execution_count": 5,
   "metadata": {},
   "outputs": [],
   "source": [
    "cop = np.linspace(0, 1, 11)[1:-1]"
   ]
  },
  {
   "cell_type": "code",
   "execution_count": 6,
   "metadata": {},
   "outputs": [],
   "source": [
    "prefix = \"CNN/CNN_v0/weights/\""
   ]
  },
  {
   "cell_type": "code",
   "execution_count": 7,
   "metadata": {},
   "outputs": [],
   "source": [
    "model_names = [\"cnn_v0_1e_1_100\",\n",
    "               \"cnn_v0_1e_3_10\",\n",
    "               \"cnn_v0_1e_7_5\",\n",
    "               \"cnn_v0_1e_3_50_2\",\n",
    "               \"cnn_v0_1e_5_150_2\",\n",
    "               \"cnn_v0_5e_6_20_2\",\n",
    "               \"cnn_v0_1e_7_31_2\"]\n",
    "\n",
    "model_names = [prefix + name for name in model_names]"
   ]
  },
  {
   "cell_type": "code",
   "execution_count": 8,
   "metadata": {},
   "outputs": [],
   "source": [
    "models = [CNN_v0((480, 640, 3), split_into_parts=20) for i in range(len(model_names))]"
   ]
  },
  {
   "cell_type": "code",
   "execution_count": 9,
   "metadata": {},
   "outputs": [
    {
     "name": "stdout",
     "output_type": "stream",
     "text": [
      "Epoch 1/1\n",
      "1/1 [==============================] - 1s 1s/step - loss: 0.6931 - acc: 1.0000\n",
      "Epoch 1/1\n",
      "1/1 [==============================] - 1s 646ms/step - loss: 0.6931 - acc: 1.0000\n",
      "Epoch 1/1\n",
      "1/1 [==============================] - 1s 763ms/step - loss: 0.6931 - acc: 1.0000\n",
      "Epoch 1/1\n",
      "1/1 [==============================] - 1s 855ms/step - loss: 0.6931 - acc: 1.0000\n",
      "Epoch 1/1\n",
      "1/1 [==============================] - 1s 1s/step - loss: 0.6931 - acc: 1.0000\n",
      "Epoch 1/1\n",
      "1/1 [==============================] - 1s 1s/step - loss: 0.6931 - acc: 1.0000\n",
      "Epoch 1/1\n",
      "1/1 [==============================] - 1s 1s/step - loss: 0.6931 - acc: 1.0000\n"
     ]
    }
   ],
   "source": [
    "results = {}\n",
    "\n",
    "for model_name, model in zip(model_names, models):\n",
    "  model.def_model()\n",
    "  model.model.fit(images[:1], anwsers[:1])\n",
    "  \n",
    "  model.model = keras.utils.multi_gpu_model(model.model, gpus=3, cpu_merge=False)\n",
    "  model.model.compile(loss=\"binary_crossentropy\", optimizer=\"adam\", metrics=[\"accuracy\"])\n",
    "  \n",
    "  model.model.load_weights(model_name)\n",
    "  \n",
    "  results[model_name] = test_model(model=model, images=image_test, counts=count_test, cut_of_points=cop)"
   ]
  },
  {
   "cell_type": "code",
   "execution_count": 10,
   "metadata": {},
   "outputs": [
    {
     "name": "stdout",
     "output_type": "stream",
     "text": [
      "Model CNN/CNN_v0/weights/cnn_v0_1e_1_100 behaved:\n",
      "For cut-of-point 0.2 had accuracy 86.42958247759832:\n",
      "[ -1   5  -5   4   5   5   4   2   8   5   8   6  -3   7   8   6   7  -1\n",
      "  -1   4  -3   8   0   1   0  -1  -4   1   6   4   6   2  -5   5   9   2\n",
      "   9   8   7   2   5   8  14   1   7   9  10   0   3   3  10   4   1  -1\n",
      "  -3   2  -4  -3   2   1  -3 -12 -10  -5   0   4 -10  -2   0   0   3   2\n",
      "   2   4   4   2  -3   3  -3   4   0   4   4   1   0   2   6   0   8   4\n",
      "   4  -1   2  -7   0 -17  -7  -3  -4  -1   8  -4   3   8   8   6   7  -2\n",
      "  -5   2   3   6   3  -1   2  12   9   0   6   7  -3   3   1   2   3  -1\n",
      "   0   0  -1   8   6   2   2   6   1   2   5   1  10   3  10   2   4  -4\n",
      "   2   2  -3  13  -2   6  -1   1   3  -2   2   4   2  -3   6   0   1   9\n",
      "  -1  -1  -6  -8   1  -2   2   7  -1   3   2   1   3   0   3   0   3   6\n",
      "   3   4   1   1   2   3   1   4   8  10   2   2   0   0   0  10   5   8\n",
      "   9   4   9  10   8   8   2   3   2  -4   1  -5  -5  -4  -5  -2  -4   3\n",
      "   4   9   3  -4   3 -10   5  -1   1   8   3  -3  -3  -8  -6  -3  -6   1\n",
      "   0  -2  -6  -2  -2  -3 -10   0  -6  -1 -12  -5 -10  -8   4   8  -3   6\n",
      "  -3   1   2   0  -3   1  -4  -8  -6  -3  -6  -5  -2  -6  -4  -2  -1   1\n",
      "   0   0  -2 -11  -6  -6  -3  -3  -1   6  -4   5  -3   2  -7  -1   2  -5\n",
      "  -2   0   2   6   2   0   2   8  -2  -4  -3  -4]\n",
      "With MSE 25.25\n",
      "With MAE 3.9833333333333334\n",
      "\n",
      "Model CNN/CNN_v0/weights/cnn_v0_1e_3_10 behaved:\n",
      "For cut-of-point 0.30000000000000004 had accuracy 82.05625424017808:\n",
      "[ -6  -6  -7  -5  -3  -1  -4  -4  -2   0   1   1  -6   1  -2  -1  -1  -7\n",
      "  -5  -1  -4   3  -4  -8  -7  -5  -5  -6  -4  -5  -3  -2 -11   2   0  -4\n",
      "  -1   0   5  -6  -1   2   7   1   3   3   2  -1  -2  -4   0  -2  -8  -2\n",
      "  -3  -7 -11  -8  -9  -7  -9 -20 -11 -12  -5  -3 -14 -10  -9  -4  -2  -3\n",
      "  -4  -4  -1  -3  -9  -4  -8  -5  -8  -1  -3  -4  -1  -5  -4  -3   0  -2\n",
      "  -1  -8  -6 -14  -6 -22 -10 -10 -11  -7  -5 -10  -4  -1   0   4  -1  -2\n",
      " -13  -5  -7   2  -4  -7  -6  -3   2  -9   0  -3 -10  -5  -4  -1  -2  -2\n",
      "  -4  -2  -9   0   4  -8  -4  -4  -7  -1  -3  -5   4  -2   0  -4  -5  -6\n",
      "  -9  -7 -10   1  -3  -1  -7  -7  -4  -8  -5  -4  -5  -7   0  -3  -8  -7\n",
      "  -7  -6 -13 -11  -5  -6  -5  -2  -6  -3  -6  -7  -1  -4  -4  -7  -2  -1\n",
      "  -5  -4  -3  -3 -10  -6  -7  -5  -6   2  -7  -4 -12 -13  -6   0  -2   0\n",
      "   0   0   3   5  -1   1  -1  -2  -6 -15  -9  -9 -12 -13 -13 -14 -11  -2\n",
      "  -3  -4  -2 -10  -2 -12  -6  -5  -5   3  -1 -10  -8 -15 -10 -14 -10  -6\n",
      "  -2  -8 -10 -13  -5  -8 -13  -4 -12 -13 -16 -11 -17 -14  -8  -2 -13  -6\n",
      "  -7  -4  -8  -3  -6  -6 -12 -10  -9  -9  -9  -8 -10  -9  -6  -7  -4  -7\n",
      "  -9  -9 -11 -19 -15  -8  -5  -7  -8   1 -11  -4  -8  -4 -11  -6  -6 -12\n",
      "  -6  -5  -2   1  -2  -4  -5  -3  -4  -9 -10  -4]\n",
      "With MSE 49.64\n",
      "With MAE 5.766666666666667\n",
      "\n",
      "Model CNN/CNN_v0/weights/cnn_v0_1e_7_5 behaved:\n",
      "For cut-of-point 0.30000000000000004 had accuracy 80.96835116735318:\n",
      "[ -5  -6  -7  -5  -1  -1  -4  -6  -2  -1  -2   1  -6   0  -3   0  -1  -8\n",
      "  -4  -1  -4   0  -5  -8  -7  -5  -6  -8  -4  -5  -2  -4 -12   2   0  -5\n",
      "  -1   0   3  -5  -2   4   6   2   3   2   1  -1  -1  -4  -2   0  -7  -2\n",
      "  -5  -9 -10  -8  -9 -11  -9 -20 -11 -11  -6  -5 -15 -10  -8  -4   0  -4\n",
      "  -4  -5   1  -4  -9  -4  -9  -6 -10  -2  -4  -5  -2  -6  -4  -4  -2  -2\n",
      "  -3  -7  -8 -16  -8 -22 -11 -10 -12  -6  -5  -9  -4   0   1   4  -2  -4\n",
      " -14  -4  -6   2  -4  -7  -6  -7   2  -9  -1  -5 -11  -4  -4  -4  -3  -2\n",
      "  -5  -2 -10  -1   3  -6  -3  -5  -7  -3  -3  -7   4  -2  -2  -5  -7  -7\n",
      " -10 -10 -12  -1  -5  -1  -6  -7  -3  -8  -7  -3  -6  -7   1  -3  -7  -7\n",
      "  -7  -5 -13 -10  -6  -6  -6  -2  -6  -3  -6  -6  -1  -7  -3  -6  -2  -1\n",
      "  -5  -5  -4  -4 -10  -6  -7  -4  -6   1  -6  -6 -12 -12  -8  -2  -2   1\n",
      "  -2   0   4   5  -2   0  -3  -1  -6 -15 -10 -10 -11 -13 -14 -13 -11  -2\n",
      "  -4  -5  -1  -9  -4 -11  -9  -7  -7   3  -3 -10  -9 -14 -10 -13 -11  -7\n",
      "  -4  -6 -10 -13  -6  -9 -15  -6 -13 -12 -15 -12 -17 -14  -8  -3 -13  -6\n",
      "  -7  -4  -8  -2  -6  -7 -12 -10 -11  -8 -10  -6 -11  -8  -8  -7  -4  -6\n",
      "  -9 -10 -11 -18 -19 -10  -5  -7  -8   1 -12  -4  -8  -3 -11  -6  -5 -13\n",
      "  -8  -6  -3   0  -2  -6  -5  -3  -4  -8 -10  -4]\n",
      "With MSE 53.64666666666667\n",
      "With MAE 6.1\n",
      "\n",
      "Model CNN/CNN_v0/weights/cnn_v0_1e_3_50_2 behaved:\n",
      "For cut-of-point 0.1 had accuracy 83.01352994249841:\n",
      "[  5   8  10   0   9  11   7   4  10   8   8   7   1   9   7   7   8   1\n",
      "   8   7  -1   9  12   2   2   5   0   2   4   0   3   3  -3   5   7   8\n",
      "  17   6  12   5   5  10  22   3   5   9  11  10   5   4  11   3  -3  -1\n",
      "  -3  -4   5   4   3   1   6  -4  -1   0   8   6   2   5  -5   2   7   6\n",
      "   6   4  10   3  -1   2  -5   4   0  14   0   0   0   0   1   1   9   7\n",
      "   3   2   4  -4   2 -10   0   0  -1   3   2   2   3   6  11  10   8  10\n",
      "  -1   4   4  10   7   1   6   7  14   4   4   6   3   7   7   7   8   7\n",
      "   5   6  -5   3   7   7   3   2   8   4   3   4   7   9  15   8   2  -1\n",
      "  10  -2   0  17   6   8   4   6   8   1   9   8  13   1  12   5   6   4\n",
      "   1   6   0   1   1   2   2   6  -3   2   3   0   3   2   4   3  10   5\n",
      "   7   7   6   7   2   4   1   9   8   9   1   4  -2  -6  -3   4   8   6\n",
      "   4   4   9   6   8  12   5   5  -2   1  -4  -6  -9  -6  -9  -4  -4   1\n",
      "   6   7   7   3   8   0  -1   9   3  10  12   2   5   3   3   0   7   8\n",
      "  -3  -1  -1   1   6  -1  -4   4   0   7  -3   8   3  -6   2   8   5   2\n",
      "  -1  -1   2   5  -4   0   2   3  -7   1   4  -4  -1   4   4   3   1   1\n",
      "   3   3  -1  -3   2   7   6   6   8   5   0   3   9   5  10   6  11   4\n",
      "   2   4   1  10   6   3   4  10   7   1  -2   5]\n",
      "With MSE 37.13333333333333\n",
      "With MAE 4.966666666666667\n",
      "\n",
      "Model CNN/CNN_v0/weights/cnn_v0_1e_5_150_2 behaved:\n",
      "For cut-of-point 0.2 had accuracy 86.51556093859712:\n",
      "[ -3  -7   3  -5   5   4  -4  -7   0   1   4   1  -7  -2  -1  -1   3  -7\n",
      "  -1   0  -5  -6  -3  -5  -5  -3  -1   0   0  -2   1  -9  -7  -2   0   5\n",
      "  13   3   4   1   3  -2   9   4   2   7   3   2  -1   1   2  -2  -1  -4\n",
      "  -4  -6  -3   0  -4  -4  -4  -9  -8  -7  -3  -3  -1  -2 -14  -4  -7  -1\n",
      "  -5  -6   1  -2  -4  -5  -8  -3  -7  -4  -8  -5  -5  -6  -5  -4   2   1\n",
      "  -1   1   3 -12 -10 -19  -6  -7  -6  -5  -3  -5  -6  -2   5   5   0  -1\n",
      " -11  -7  -3   1  -1  -4  -6   2   5  -3  -5   1  -2   1  -7  -6  -6   3\n",
      "   2   1  -5   0   7   1  -6  -4  -2  -3  -1  -4  -4  -4   1  -4  -8 -11\n",
      "  -1  -7  -2   2   1  -2  -3  -5  -4  -4  -1  -4  -1  -8   4   3  -2  -4\n",
      "   0   3  -8  -7  -6  -1  -4  -3  -2  -1   1  -6  -1  -5  -4  -5   4  -1\n",
      "   5  -3  -2  -2  -4  -4  -7   0  -1   2  -4   1  -9  -5  -9  -2  -4  -1\n",
      "  -2  -6   0   0  -1   1  -2  -1  -4  -8  -6  -9 -13  -9 -13 -11 -11  -5\n",
      "   0   3   2  -7  -2  -4 -10  -3  -7   4   2  -6  -4  -7 -12  -3  -4  -3\n",
      "  -5  -2  -3  -3  -2  -5  -4  -5  -6  -7 -10  -1  -3 -10  -9  -1  -5  -4\n",
      "  -8  -5  -3  -5  -5  -8  -5  -3 -12  -5  -3 -12 -10  -1  -1  -8  -5  -5\n",
      "  -7  -3  -3 -11 -10  -3   1  -3  -4  -1  -5   1   0  -1  -3   0   0 -10\n",
      "  -9  -3   2   4  -3  -4  -2   5  -6  -9  -4  -6]\n",
      "With MSE 27.553333333333335\n",
      "With MAE 4.233333333333333\n",
      "\n",
      "Model CNN/CNN_v0/weights/cnn_v0_5e_6_20_2 behaved:\n",
      "For cut-of-point 0.2 had accuracy 88.57041034060346:\n",
      "[  5  -1   5  -4   8  10   1  -2   2   3   5   2  -5   1   0   3  11  -4\n",
      "   2   2  -2   4   1  -2  -4  -2   1   3   2   0   3  -7  -5   0   4  10\n",
      "  15   3   6   0   7   1  12   6   6  11   7   5   1   7   6  -3  -1  -4\n",
      "  -1  -3   1   6   2  -2   4  -8  -4  -5   2   6   2   0 -11  -4  -4   2\n",
      "   1  -2   6   0  -2  -1  -6  -2  -7   1  -1  -3  -2   0  -3   1   7   2\n",
      "  -1   4   4 -10  -6 -15  -4  -3  -5   3   1  -2  -2   0   7   8   2   2\n",
      "  -4  -1   2   9   5  -1   0   9   9   2  -3   3   3   3  -1   2  -3   8\n",
      "   7   4  -2   1  14   2   0  -2   0   1   2  -2   1   2   5   0  -4  -3\n",
      "   3  -1  -1   4   3   1  -1   4   2  -2   3  -3   5  -5   6   5   5  -2\n",
      "   2   6  -6  -3   0   1  -1   0   0   5   4  -1   3   0  -1  -3   6   3\n",
      "   8   1  -1   0  -2   0  -1   2   3   4   0   3  -4  -3  -6  -2  -1   0\n",
      "   1  -3   7   0   1   9   0   2  -2  -1  -1  -8 -10  -6  -8  -7  -9  -1\n",
      "   3   9   4  -6   5  -2  -8   5  -4   4   6  -2  -1  -4  -5   1   4  -2\n",
      "  -5   2  -1   0   0  -2  -1  -2  -5  -2  -8   4   2  -6  -1   4  -3  -2\n",
      "  -7  -3   1  -3  -4  -4  -2   0  -7  -1  -2  -9  -4   4  -1  -5  -2   3\n",
      "  -3   0   1  -9  -4  -3   4   3  -1   4  -2   4   2   2   2   2   4  -3\n",
      "  -6   0   2   5   2  -4   0   7   0  -7   0  -2]\n",
      "With MSE 19.803333333333335\n",
      "With MAE 3.4433333333333334\n",
      "\n",
      "Model CNN/CNN_v0/weights/cnn_v0_1e_7_31_2 behaved:\n",
      "For cut-of-point 0.30000000000000004 had accuracy 89.00723718670972:\n",
      "[  4  -2   6  -4   9   8  -1  -3   2   1   4   2  -8  -2   0   0   8  -6\n",
      "   1   0  -4   3  -4  -6  -3  -2   2   2  -2   1   1  -7  -7  -1  -1   8\n",
      "  14   5   6   0   3  -1  12   2  -1  10   3   6   0   6   4  -1   0  -2\n",
      "  -2  -1  -2   2   0  -4   2 -10  -7  -7   1   1   0  -1 -12  -5  -4  -1\n",
      "  -2  -1   1  -1   2   0  -4  -2  -6  -1  -7  -5  -3  -3  -4  -1   4   1\n",
      "   0   2   3 -12  -8 -15  -6  -2  -4   1  -1  -4  -6  -2   5   6  -1   0\n",
      "  -6  -3   2   4   1  -3  -3   9   7  -1  -4   2  -1  -2  -4  -4  -6   5\n",
      "   4   3  -2   1  10   2   1  -1   1   0   4  -2   0  -1   3  -3  -6  -9\n",
      "   1  -2   2   5   0   0  -3  -3  -1  -3  -1  -3   2  -6   5   3  -2  -5\n",
      "  -1   3  -5  -2  -4  -1   0   0   0   2   1  -5   3  -3  -2  -4   3   2\n",
      "   4  -1   0   0  -1  -4   0   3   1   3  -1   1  -9  -3  -6  -1  -2  -5\n",
      "   2  -4   1   1   1   1   1   0  -1  -3   0  -8 -10 -10 -11  -9 -10  -1\n",
      "   2   7   3  -7   1  -2  -9   3  -5   2   3  -5  -2  -6 -10  -4  -2  -3\n",
      "  -6  -1   0  -1  -2  -2   0  -1  -7  -3  -8   0  -1  -6  -4   4  -2  -3\n",
      "  -5  -2  -3  -3  -4  -5  -4  -2 -10  -3   0 -10  -7   0  -4  -7  -6  -5\n",
      "  -7  -6  -2  -8  -6  -3   4   0  -2   0  -3   2  -1   2   1   1   4  -7\n",
      "  -4  -1   5   8   2  -1   0   5  -3  -6  -5  -5]\n",
      "With MSE 20.03\n",
      "With MAE 3.4233333333333333\n",
      "\n"
     ]
    }
   ],
   "source": [
    "for name, result in results.items():\n",
    "  diff = best_cop_diff(result, count_test)\n",
    "  \n",
    "  print(f\"Model {name} behaved:\")\n",
    "  \n",
    "  print(f\"For cut-of-point {diff[0]} had accuracy {diff[1]}:\")\n",
    "  print(diff[2])\n",
    "  \n",
    "  print(f\"With MSE {mse(diff[2])}\")\n",
    "  print(f\"With MAE {mae(diff[2])}\", end=\"\\n\\n\")"
   ]
  }
 ],
 "metadata": {
  "kernelspec": {
   "display_name": "Python 3",
   "language": "python",
   "name": "python3"
  },
  "language_info": {
   "codemirror_mode": {
    "name": "ipython",
    "version": 3
   },
   "file_extension": ".py",
   "mimetype": "text/x-python",
   "name": "python",
   "nbconvert_exporter": "python",
   "pygments_lexer": "ipython3",
   "version": "3.6.6"
  }
 },
 "nbformat": 4,
 "nbformat_minor": 2
}
