{
 "cells": [
  {
   "cell_type": "code",
   "execution_count": 1,
   "metadata": {},
   "outputs": [
    {
     "name": "stderr",
     "output_type": "stream",
     "text": [
      "Using TensorFlow backend.\n"
     ]
    }
   ],
   "source": [
    "import keras\n",
    "\n",
    "from common import *\n",
    "\n",
    "from CNN.CNN_v1_2 import CNN_v1_2"
   ]
  },
  {
   "cell_type": "code",
   "execution_count": 2,
   "metadata": {},
   "outputs": [],
   "source": [
    "train, test = data_sets()\n",
    "image_tensors = train[0], test[0]\n",
    "person_coo_tensors = train[1], test[1]\n",
    "count_matrix = train[2], test[2]\n",
    "\n",
    "image_train, image_test = image_tensors\n",
    "person_coo_train, person_coo_test = person_coo_tensors\n",
    "count_train, count_test = count_matrix\n",
    "count_train = count_train.astype(np.uint16)\n",
    "count_test = count_test.astype(np.uint16)"
   ]
  },
  {
   "cell_type": "code",
   "execution_count": 3,
   "metadata": {},
   "outputs": [
    {
     "data": {
      "text/plain": [
       "<keras.engine.sequential.Sequential at 0x7f465e3826a0>"
      ]
     },
     "execution_count": 3,
     "metadata": {},
     "output_type": "execute_result"
    }
   ],
   "source": [
    "cnn_v1_2 = CNN_v1_2((480, 640, 3), split_into_parts=40)\n",
    "cnn_v1_2.def_model()"
   ]
  },
  {
   "cell_type": "code",
   "execution_count": 4,
   "metadata": {},
   "outputs": [],
   "source": [
    "images = cnn_v1_2._prepare_images(image_train)\n",
    "anwsers = cnn_v1_2._prepare_anwsers(person_coo_train)"
   ]
  },
  {
   "cell_type": "code",
   "execution_count": 5,
   "metadata": {},
   "outputs": [
    {
     "name": "stdout",
     "output_type": "stream",
     "text": [
      "Epoch 1/1\n",
      "1/1 [==============================] - 2s 2s/step - loss: 0.6967 - acc: 1.0000\n"
     ]
    }
   ],
   "source": [
    "history = cnn_v1_2.model.fit(images[:1], anwsers[:1])"
   ]
  },
  {
   "cell_type": "code",
   "execution_count": 6,
   "metadata": {},
   "outputs": [],
   "source": [
    "parallel_model = keras.utils.multi_gpu_model(\n",
    "        cnn_v1_2.model,\n",
    "        gpus=3,\n",
    "        cpu_merge=False)\n",
    "parallel_model.compile(\n",
    "        loss=\"binary_crossentropy\", \n",
    "        optimizer=\"adam\", \n",
    "        metrics=[\"accuracy\"])"
   ]
  },
  {
   "cell_type": "code",
   "execution_count": 7,
   "metadata": {},
   "outputs": [
    {
     "data": {
      "text/plain": [
       "<tf.Tensor 'Assign:0' shape=() dtype=float32_ref>"
      ]
     },
     "execution_count": 7,
     "metadata": {},
     "output_type": "execute_result"
    }
   ],
   "source": [
    "parallel_model.optimizer.lr.assign(1e-1)"
   ]
  },
  {
   "cell_type": "code",
   "execution_count": 8,
   "metadata": {},
   "outputs": [
    {
     "name": "stdout",
     "output_type": "stream",
     "text": [
      "Train on 2448000 samples, validate on 272000 samples\n",
      "Epoch 1/100\n",
      "2448000/2448000 [==============================] - 34s 14us/step - loss: 24.1755 - acc: 0.6987 - val_loss: 6.1158 - val_acc: 0.9809\n",
      "Epoch 2/100\n",
      "2448000/2448000 [==============================] - 26s 11us/step - loss: 4.4065 - acc: 0.9542 - val_loss: 2.1333 - val_acc: 0.9809\n",
      "Epoch 3/100\n",
      "2448000/2448000 [==============================] - 26s 11us/step - loss: 1.5953 - acc: 0.9735 - val_loss: 0.7974 - val_acc: 0.9809\n",
      "Epoch 4/100\n",
      "2448000/2448000 [==============================] - 27s 11us/step - loss: 0.6604 - acc: 0.9776 - val_loss: 0.2571 - val_acc: 0.9809\n",
      "Epoch 5/100\n",
      "2448000/2448000 [==============================] - 27s 11us/step - loss: 0.3159 - acc: 0.9795 - val_loss: 0.1703 - val_acc: 0.9809\n",
      "Epoch 6/100\n",
      "2448000/2448000 [==============================] - 26s 11us/step - loss: 0.1996 - acc: 0.9804 - val_loss: 0.1444 - val_acc: 0.9809\n",
      "Epoch 7/100\n",
      "2448000/2448000 [==============================] - 26s 11us/step - loss: 0.1512 - acc: 0.9809 - val_loss: 0.1333 - val_acc: 0.9809\n",
      "Epoch 8/100\n",
      "2448000/2448000 [==============================] - 26s 11us/step - loss: 0.1287 - acc: 0.9810 - val_loss: 0.1255 - val_acc: 0.9809\n",
      "Epoch 9/100\n",
      "2448000/2448000 [==============================] - 26s 11us/step - loss: 0.1175 - acc: 0.9811 - val_loss: 0.1207 - val_acc: 0.9809\n",
      "Epoch 10/100\n",
      "2448000/2448000 [==============================] - 26s 11us/step - loss: 0.1110 - acc: 0.9811 - val_loss: 0.1156 - val_acc: 0.9809\n",
      "Epoch 11/100\n",
      "2448000/2448000 [==============================] - 26s 11us/step - loss: 0.1072 - acc: 0.9811 - val_loss: 0.1111 - val_acc: 0.9809\n",
      "Epoch 12/100\n",
      "2448000/2448000 [==============================] - 27s 11us/step - loss: 0.1045 - acc: 0.9812 - val_loss: 0.1077 - val_acc: 0.9809\n",
      "Epoch 13/100\n",
      "2448000/2448000 [==============================] - 27s 11us/step - loss: 0.1027 - acc: 0.9812 - val_loss: 0.1052 - val_acc: 0.9809\n",
      "Epoch 14/100\n",
      "2448000/2448000 [==============================] - 27s 11us/step - loss: 0.1014 - acc: 0.9812 - val_loss: 0.1036 - val_acc: 0.9809\n",
      "Epoch 15/100\n",
      "2448000/2448000 [==============================] - 27s 11us/step - loss: 0.1003 - acc: 0.9812 - val_loss: 0.1023 - val_acc: 0.9809\n",
      "Epoch 16/100\n",
      "2448000/2448000 [==============================] - 27s 11us/step - loss: 0.0994 - acc: 0.9812 - val_loss: 0.1011 - val_acc: 0.9809\n",
      "Epoch 17/100\n",
      "2448000/2448000 [==============================] - 27s 11us/step - loss: 0.0988 - acc: 0.9812 - val_loss: 0.1002 - val_acc: 0.9809\n",
      "Epoch 18/100\n",
      "2448000/2448000 [==============================] - 26s 11us/step - loss: 0.0982 - acc: 0.9812 - val_loss: 0.0995 - val_acc: 0.9809\n",
      "Epoch 19/100\n",
      "2448000/2448000 [==============================] - 26s 11us/step - loss: 0.0977 - acc: 0.9812 - val_loss: 0.0991 - val_acc: 0.9809\n",
      "Epoch 20/100\n",
      "2448000/2448000 [==============================] - 26s 11us/step - loss: 0.0973 - acc: 0.9812 - val_loss: 0.0986 - val_acc: 0.9809\n",
      "Epoch 21/100\n",
      "2448000/2448000 [==============================] - 26s 11us/step - loss: 0.0970 - acc: 0.9812 - val_loss: 0.0983 - val_acc: 0.9809\n",
      "Epoch 22/100\n",
      "2448000/2448000 [==============================] - 27s 11us/step - loss: 0.0967 - acc: 0.9812 - val_loss: 0.0980 - val_acc: 0.9809\n",
      "Epoch 23/100\n",
      "2448000/2448000 [==============================] - 26s 11us/step - loss: 0.0965 - acc: 0.9812 - val_loss: 0.0977 - val_acc: 0.9809\n",
      "Epoch 24/100\n",
      "2448000/2448000 [==============================] - 27s 11us/step - loss: 0.0962 - acc: 0.9812 - val_loss: 0.0974 - val_acc: 0.9809\n",
      "Epoch 25/100\n",
      "2448000/2448000 [==============================] - 26s 11us/step - loss: 0.0960 - acc: 0.9812 - val_loss: 0.0972 - val_acc: 0.9809\n",
      "Epoch 26/100\n",
      "2448000/2448000 [==============================] - 26s 11us/step - loss: 0.0958 - acc: 0.9812 - val_loss: 0.0969 - val_acc: 0.9809\n",
      "Epoch 27/100\n",
      "2448000/2448000 [==============================] - 26s 11us/step - loss: 0.0957 - acc: 0.9812 - val_loss: 0.0968 - val_acc: 0.9809\n",
      "Epoch 28/100\n",
      "2448000/2448000 [==============================] - 26s 11us/step - loss: 0.0955 - acc: 0.9812 - val_loss: 0.0966 - val_acc: 0.9809\n",
      "Epoch 29/100\n",
      "2448000/2448000 [==============================] - 27s 11us/step - loss: 0.0954 - acc: 0.9812 - val_loss: 0.0966 - val_acc: 0.9809\n",
      "Epoch 30/100\n",
      "2448000/2448000 [==============================] - 27s 11us/step - loss: 0.0953 - acc: 0.9812 - val_loss: 0.0964 - val_acc: 0.9809\n",
      "Epoch 31/100\n",
      "2448000/2448000 [==============================] - 27s 11us/step - loss: 0.0952 - acc: 0.9812 - val_loss: 0.0963 - val_acc: 0.9809\n",
      "Epoch 32/100\n",
      "2448000/2448000 [==============================] - 26s 11us/step - loss: 0.0951 - acc: 0.9812 - val_loss: 0.0962 - val_acc: 0.9809\n",
      "Epoch 33/100\n",
      "2448000/2448000 [==============================] - 26s 11us/step - loss: 0.0950 - acc: 0.9812 - val_loss: 0.0961 - val_acc: 0.9809\n",
      "Epoch 34/100\n",
      "2448000/2448000 [==============================] - 26s 11us/step - loss: 0.0949 - acc: 0.9812 - val_loss: 0.0960 - val_acc: 0.9809\n",
      "Epoch 35/100\n",
      "2448000/2448000 [==============================] - 26s 10us/step - loss: 0.0948 - acc: 0.9812 - val_loss: 0.0959 - val_acc: 0.9809\n",
      "Epoch 36/100\n",
      "2448000/2448000 [==============================] - 27s 11us/step - loss: 0.0948 - acc: 0.9812 - val_loss: 0.0958 - val_acc: 0.9809\n",
      "Epoch 37/100\n",
      "2448000/2448000 [==============================] - 26s 11us/step - loss: 0.0947 - acc: 0.9812 - val_loss: 0.0958 - val_acc: 0.9809\n",
      "Epoch 38/100\n",
      "2448000/2448000 [==============================] - 26s 11us/step - loss: 0.0946 - acc: 0.9812 - val_loss: 0.0957 - val_acc: 0.9809\n",
      "Epoch 39/100\n",
      "2448000/2448000 [==============================] - 26s 11us/step - loss: 0.0946 - acc: 0.9812 - val_loss: 0.0957 - val_acc: 0.9809\n",
      "Epoch 40/100\n",
      "2448000/2448000 [==============================] - 26s 11us/step - loss: 0.0945 - acc: 0.9812 - val_loss: 0.0956 - val_acc: 0.9809\n",
      "Epoch 41/100\n",
      "2448000/2448000 [==============================] - 26s 11us/step - loss: 0.0944 - acc: 0.9812 - val_loss: 0.0956 - val_acc: 0.9809\n",
      "Epoch 42/100\n",
      "2448000/2448000 [==============================] - 27s 11us/step - loss: 0.0944 - acc: 0.9812 - val_loss: 0.0955 - val_acc: 0.9809\n",
      "Epoch 43/100\n",
      "2448000/2448000 [==============================] - 26s 11us/step - loss: 0.0944 - acc: 0.9812 - val_loss: 0.0955 - val_acc: 0.9809\n",
      "Epoch 44/100\n",
      "2448000/2448000 [==============================] - 26s 11us/step - loss: 0.0943 - acc: 0.9812 - val_loss: 0.0954 - val_acc: 0.9809\n",
      "Epoch 45/100\n",
      "2448000/2448000 [==============================] - 26s 11us/step - loss: 0.0943 - acc: 0.9812 - val_loss: 0.0954 - val_acc: 0.9809\n",
      "Epoch 46/100\n",
      "2448000/2448000 [==============================] - 26s 11us/step - loss: 0.0943 - acc: 0.9812 - val_loss: 0.0954 - val_acc: 0.9809\n",
      "Epoch 47/100\n",
      "2448000/2448000 [==============================] - 27s 11us/step - loss: 0.0942 - acc: 0.9812 - val_loss: 0.0953 - val_acc: 0.9809\n",
      "Epoch 48/100\n",
      "2448000/2448000 [==============================] - 27s 11us/step - loss: 0.0942 - acc: 0.9812 - val_loss: 0.0953 - val_acc: 0.9809\n",
      "Epoch 49/100\n",
      "2448000/2448000 [==============================] - 27s 11us/step - loss: 0.0942 - acc: 0.9812 - val_loss: 0.0953 - val_acc: 0.9809\n",
      "Epoch 50/100\n",
      "2448000/2448000 [==============================] - 27s 11us/step - loss: 0.0941 - acc: 0.9812 - val_loss: 0.0952 - val_acc: 0.9809\n",
      "Epoch 51/100\n",
      "2448000/2448000 [==============================] - 27s 11us/step - loss: 0.0941 - acc: 0.9812 - val_loss: 0.0952 - val_acc: 0.9809\n",
      "Epoch 52/100\n",
      "2448000/2448000 [==============================] - 26s 11us/step - loss: 0.0941 - acc: 0.9812 - val_loss: 0.0952 - val_acc: 0.9809\n",
      "Epoch 53/100\n",
      "2448000/2448000 [==============================] - 27s 11us/step - loss: 0.0941 - acc: 0.9812 - val_loss: 0.0952 - val_acc: 0.9809\n",
      "Epoch 54/100\n",
      "2448000/2448000 [==============================] - 27s 11us/step - loss: 0.0940 - acc: 0.9812 - val_loss: 0.0951 - val_acc: 0.9809\n",
      "Epoch 55/100\n",
      "2448000/2448000 [==============================] - 26s 11us/step - loss: 0.0940 - acc: 0.9812 - val_loss: 0.0951 - val_acc: 0.9809\n",
      "Epoch 56/100\n",
      "2448000/2448000 [==============================] - 27s 11us/step - loss: 0.0940 - acc: 0.9812 - val_loss: 0.0951 - val_acc: 0.9809\n",
      "Epoch 57/100\n"
     ]
    },
    {
     "name": "stdout",
     "output_type": "stream",
     "text": [
      "2448000/2448000 [==============================] - 26s 11us/step - loss: 0.0940 - acc: 0.9812 - val_loss: 0.0951 - val_acc: 0.9809\n",
      "Epoch 58/100\n",
      "2448000/2448000 [==============================] - 26s 11us/step - loss: 0.0940 - acc: 0.9812 - val_loss: 0.0951 - val_acc: 0.9809\n",
      "Epoch 59/100\n",
      "2448000/2448000 [==============================] - 26s 11us/step - loss: 0.0940 - acc: 0.9812 - val_loss: 0.0951 - val_acc: 0.9809\n",
      "Epoch 60/100\n",
      "2448000/2448000 [==============================] - 26s 11us/step - loss: 0.0939 - acc: 0.9812 - val_loss: 0.0950 - val_acc: 0.9809\n",
      "Epoch 61/100\n",
      "2448000/2448000 [==============================] - 26s 11us/step - loss: 0.0939 - acc: 0.9812 - val_loss: 0.0950 - val_acc: 0.9809\n",
      "Epoch 62/100\n",
      "2448000/2448000 [==============================] - 26s 11us/step - loss: 0.0939 - acc: 0.9812 - val_loss: 0.0950 - val_acc: 0.9809\n",
      "Epoch 63/100\n",
      "2448000/2448000 [==============================] - 26s 11us/step - loss: 0.0939 - acc: 0.9812 - val_loss: 0.0950 - val_acc: 0.9809\n",
      "Epoch 64/100\n",
      "2448000/2448000 [==============================] - 26s 11us/step - loss: 0.0939 - acc: 0.9812 - val_loss: 0.0950 - val_acc: 0.9809\n",
      "Epoch 65/100\n",
      "2448000/2448000 [==============================] - 26s 11us/step - loss: 0.0939 - acc: 0.9812 - val_loss: 0.0950 - val_acc: 0.9809\n",
      "Epoch 66/100\n",
      "2448000/2448000 [==============================] - 26s 11us/step - loss: 0.0939 - acc: 0.9812 - val_loss: 0.0950 - val_acc: 0.9809\n",
      "Epoch 67/100\n",
      "2448000/2448000 [==============================] - 27s 11us/step - loss: 0.0939 - acc: 0.9812 - val_loss: 0.0950 - val_acc: 0.9809\n",
      "Epoch 68/100\n",
      "2448000/2448000 [==============================] - 27s 11us/step - loss: 0.0938 - acc: 0.9812 - val_loss: 0.0949 - val_acc: 0.9809\n",
      "Epoch 69/100\n",
      "2448000/2448000 [==============================] - 26s 11us/step - loss: 0.0939 - acc: 0.9812 - val_loss: 0.0950 - val_acc: 0.9809\n",
      "Epoch 70/100\n",
      "2448000/2448000 [==============================] - 27s 11us/step - loss: 0.0939 - acc: 0.9812 - val_loss: 0.0949 - val_acc: 0.9809\n",
      "Epoch 71/100\n",
      "2448000/2448000 [==============================] - 26s 11us/step - loss: 0.0938 - acc: 0.9812 - val_loss: 0.0949 - val_acc: 0.9809\n",
      "Epoch 72/100\n",
      "2448000/2448000 [==============================] - 26s 11us/step - loss: 0.0938 - acc: 0.9812 - val_loss: 0.0949 - val_acc: 0.9809\n",
      "Epoch 73/100\n",
      "2448000/2448000 [==============================] - 26s 11us/step - loss: 0.0938 - acc: 0.9812 - val_loss: 0.0949 - val_acc: 0.9809\n",
      "Epoch 74/100\n",
      "2448000/2448000 [==============================] - 26s 11us/step - loss: 0.0938 - acc: 0.9812 - val_loss: 0.0949 - val_acc: 0.9809\n",
      "Epoch 75/100\n",
      "2448000/2448000 [==============================] - 26s 11us/step - loss: 0.0938 - acc: 0.9812 - val_loss: 0.0949 - val_acc: 0.9809\n",
      "Epoch 76/100\n",
      "2448000/2448000 [==============================] - 26s 11us/step - loss: 0.0938 - acc: 0.9812 - val_loss: 0.0949 - val_acc: 0.9809\n",
      "Epoch 77/100\n",
      "2448000/2448000 [==============================] - 26s 11us/step - loss: 0.0938 - acc: 0.9812 - val_loss: 0.0949 - val_acc: 0.9809\n",
      "Epoch 78/100\n",
      "2448000/2448000 [==============================] - 26s 11us/step - loss: 0.0938 - acc: 0.9812 - val_loss: 0.0949 - val_acc: 0.9809\n",
      "Epoch 79/100\n",
      "2448000/2448000 [==============================] - 26s 11us/step - loss: 0.0938 - acc: 0.9812 - val_loss: 0.0949 - val_acc: 0.9809\n",
      "Epoch 80/100\n",
      "2448000/2448000 [==============================] - 27s 11us/step - loss: 0.0938 - acc: 0.9812 - val_loss: 0.0949 - val_acc: 0.9809\n",
      "Epoch 81/100\n",
      "2448000/2448000 [==============================] - 28s 11us/step - loss: 0.0938 - acc: 0.9812 - val_loss: 0.0949 - val_acc: 0.9809\n",
      "Epoch 82/100\n",
      "2448000/2448000 [==============================] - 27s 11us/step - loss: 0.0938 - acc: 0.9812 - val_loss: 0.0948 - val_acc: 0.9809\n",
      "Epoch 83/100\n",
      "2448000/2448000 [==============================] - 27s 11us/step - loss: 0.0938 - acc: 0.9812 - val_loss: 0.0949 - val_acc: 0.9809\n",
      "Epoch 84/100\n",
      "2448000/2448000 [==============================] - 26s 11us/step - loss: 0.0937 - acc: 0.9812 - val_loss: 0.0948 - val_acc: 0.9809\n",
      "Epoch 85/100\n",
      "2448000/2448000 [==============================] - 27s 11us/step - loss: 0.0937 - acc: 0.9812 - val_loss: 0.0948 - val_acc: 0.9809\n",
      "Epoch 86/100\n",
      "2448000/2448000 [==============================] - 27s 11us/step - loss: 0.0937 - acc: 0.9812 - val_loss: 0.0948 - val_acc: 0.9809\n",
      "Epoch 87/100\n",
      "2448000/2448000 [==============================] - 27s 11us/step - loss: 0.0937 - acc: 0.9812 - val_loss: 0.0948 - val_acc: 0.9809\n",
      "Epoch 88/100\n",
      "2448000/2448000 [==============================] - 27s 11us/step - loss: 0.0937 - acc: 0.9812 - val_loss: 0.0948 - val_acc: 0.9809\n",
      "Epoch 89/100\n",
      "2448000/2448000 [==============================] - 27s 11us/step - loss: 0.0937 - acc: 0.9812 - val_loss: 0.0948 - val_acc: 0.9809\n",
      "Epoch 90/100\n",
      "2448000/2448000 [==============================] - 26s 11us/step - loss: 0.0937 - acc: 0.9812 - val_loss: 0.0948 - val_acc: 0.9809\n",
      "Epoch 91/100\n",
      "2448000/2448000 [==============================] - 27s 11us/step - loss: 0.0937 - acc: 0.9812 - val_loss: 0.0948 - val_acc: 0.9809\n",
      "Epoch 92/100\n",
      "2448000/2448000 [==============================] - 26s 11us/step - loss: 0.0937 - acc: 0.9812 - val_loss: 0.0948 - val_acc: 0.9809\n",
      "Epoch 93/100\n",
      "2448000/2448000 [==============================] - 26s 11us/step - loss: 0.0937 - acc: 0.9812 - val_loss: 0.0948 - val_acc: 0.9809\n",
      "Epoch 94/100\n",
      "2448000/2448000 [==============================] - 26s 11us/step - loss: 0.0937 - acc: 0.9812 - val_loss: 0.0948 - val_acc: 0.9809\n",
      "Epoch 95/100\n",
      "2448000/2448000 [==============================] - 26s 11us/step - loss: 0.0937 - acc: 0.9812 - val_loss: 0.0948 - val_acc: 0.9809\n",
      "Epoch 96/100\n",
      "2448000/2448000 [==============================] - 26s 11us/step - loss: 0.0937 - acc: 0.9812 - val_loss: 0.0948 - val_acc: 0.9809\n",
      "Epoch 97/100\n",
      "2448000/2448000 [==============================] - 26s 11us/step - loss: 0.0937 - acc: 0.9812 - val_loss: 0.0948 - val_acc: 0.9809\n",
      "Epoch 98/100\n",
      "2448000/2448000 [==============================] - 27s 11us/step - loss: 0.0937 - acc: 0.9812 - val_loss: 0.0948 - val_acc: 0.9809\n",
      "Epoch 99/100\n",
      "2448000/2448000 [==============================] - 26s 11us/step - loss: 0.0937 - acc: 0.9812 - val_loss: 0.0948 - val_acc: 0.9809\n",
      "Epoch 100/100\n",
      "2448000/2448000 [==============================] - 27s 11us/step - loss: 0.0937 - acc: 0.9812 - val_loss: 0.0948 - val_acc: 0.9809\n"
     ]
    },
    {
     "data": {
      "text/plain": [
       "<keras.callbacks.History at 0x7f465d6eb828>"
      ]
     },
     "execution_count": 8,
     "metadata": {},
     "output_type": "execute_result"
    }
   ],
   "source": [
    "parallel_model.fit(images, anwsers, batch_size=35000, epochs=100,\n",
    "                   validation_split=0.1)"
   ]
  },
  {
   "cell_type": "code",
   "execution_count": 9,
   "metadata": {},
   "outputs": [],
   "source": [
    "parallel_model.save_weights(\"cnn_v1_2_40_1e_1_100\")"
   ]
  },
  {
   "cell_type": "code",
   "execution_count": 11,
   "metadata": {},
   "outputs": [],
   "source": [
    "parallel_model.load_weights(\"cnn_v1_2_40_1e_1_100\")"
   ]
  },
  {
   "cell_type": "code",
   "execution_count": 10,
   "metadata": {},
   "outputs": [
    {
     "data": {
      "text/plain": [
       "<tf.Tensor 'Assign_1:0' shape=() dtype=float32_ref>"
      ]
     },
     "execution_count": 10,
     "metadata": {},
     "output_type": "execute_result"
    }
   ],
   "source": [
    "parallel_model.optimizer.lr.assign(1e-0)"
   ]
  },
  {
   "cell_type": "code",
   "execution_count": 11,
   "metadata": {},
   "outputs": [
    {
     "name": "stdout",
     "output_type": "stream",
     "text": [
      "Train on 2448000 samples, validate on 272000 samples\n",
      "Epoch 1/10\n",
      "2448000/2448000 [==============================] - 26s 11us/step - loss: 0.0937 - acc: 0.9812 - val_loss: 0.0948 - val_acc: 0.9809\n",
      "Epoch 2/10\n",
      "2448000/2448000 [==============================] - 26s 11us/step - loss: 0.0937 - acc: 0.9812 - val_loss: 0.0947 - val_acc: 0.9809\n",
      "Epoch 3/10\n",
      "2448000/2448000 [==============================] - 26s 10us/step - loss: 0.0937 - acc: 0.9812 - val_loss: 0.0947 - val_acc: 0.9809\n",
      "Epoch 4/10\n",
      "2448000/2448000 [==============================] - 26s 11us/step - loss: 0.0936 - acc: 0.9812 - val_loss: 0.0947 - val_acc: 0.9809\n",
      "Epoch 5/10\n",
      "2448000/2448000 [==============================] - 26s 11us/step - loss: 0.0936 - acc: 0.9812 - val_loss: 0.0947 - val_acc: 0.9809\n",
      "Epoch 6/10\n",
      "2448000/2448000 [==============================] - 26s 11us/step - loss: 0.0936 - acc: 0.9812 - val_loss: 0.0947 - val_acc: 0.9809\n",
      "Epoch 7/10\n",
      "2448000/2448000 [==============================] - 26s 11us/step - loss: 0.0936 - acc: 0.9812 - val_loss: 0.0947 - val_acc: 0.9809\n",
      "Epoch 8/10\n",
      "2448000/2448000 [==============================] - 26s 11us/step - loss: 0.0936 - acc: 0.9812 - val_loss: 0.0947 - val_acc: 0.9809\n",
      "Epoch 9/10\n",
      "2448000/2448000 [==============================] - 27s 11us/step - loss: 0.0936 - acc: 0.9812 - val_loss: 0.0947 - val_acc: 0.9809\n",
      "Epoch 10/10\n",
      "2448000/2448000 [==============================] - 27s 11us/step - loss: 0.0936 - acc: 0.9812 - val_loss: 0.0947 - val_acc: 0.9809\n"
     ]
    },
    {
     "data": {
      "text/plain": [
       "<keras.callbacks.History at 0x7f465e3820b8>"
      ]
     },
     "execution_count": 11,
     "metadata": {},
     "output_type": "execute_result"
    }
   ],
   "source": [
    "parallel_model.fit(images, anwsers, batch_size=35000, epochs=10,\n",
    "                   validation_split=0.1)"
   ]
  },
  {
   "cell_type": "code",
   "execution_count": 12,
   "metadata": {},
   "outputs": [],
   "source": [
    "parallel_model.save_weights(\"cnn_v1_2_40_1e_0_10\")"
   ]
  },
  {
   "cell_type": "code",
   "execution_count": 11,
   "metadata": {},
   "outputs": [],
   "source": [
    "parallel_model.load_weights(\"cnn_v1_2_40_1e_0_10\")"
   ]
  }
 ],
 "metadata": {
  "kernelspec": {
   "display_name": "Python 3",
   "language": "python",
   "name": "python3"
  },
  "language_info": {
   "codemirror_mode": {
    "name": "ipython",
    "version": 3
   },
   "file_extension": ".py",
   "mimetype": "text/x-python",
   "name": "python",
   "nbconvert_exporter": "python",
   "pygments_lexer": "ipython3",
   "version": "3.6.6"
  }
 },
 "nbformat": 4,
 "nbformat_minor": 2
}
