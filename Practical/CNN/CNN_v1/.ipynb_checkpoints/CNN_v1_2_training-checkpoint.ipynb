{
 "cells": [
  {
   "cell_type": "code",
   "execution_count": 1,
   "metadata": {},
   "outputs": [
    {
     "name": "stdout",
     "output_type": "stream",
     "text": [
      "/home/PJWSTK/s14028/Engine\n"
     ]
    }
   ],
   "source": [
    "%cd ../../"
   ]
  },
  {
   "cell_type": "code",
   "execution_count": 1,
   "metadata": {},
   "outputs": [
    {
     "name": "stderr",
     "output_type": "stream",
     "text": [
      "Using TensorFlow backend.\n"
     ]
    }
   ],
   "source": [
    "import keras\n",
    "\n",
    "from common import *\n",
    "\n",
    "from CNN.CNN_v1_2 import CNN_v1_2"
   ]
  },
  {
   "cell_type": "code",
   "execution_count": 2,
   "metadata": {},
   "outputs": [],
   "source": [
    "train, test = data_sets()\n",
    "image_tensors = train[0], test[0]\n",
    "person_coo_tensors = train[1], test[1]\n",
    "count_matrix = train[2], test[2]\n",
    "\n",
    "image_train, image_test = image_tensors\n",
    "person_coo_train, person_coo_test = person_coo_tensors\n",
    "count_train, count_test = count_matrix\n",
    "count_train = count_train.astype(np.uint16)\n",
    "count_test = count_test.astype(np.uint16)"
   ]
  },
  {
   "cell_type": "code",
   "execution_count": 3,
   "metadata": {},
   "outputs": [
    {
     "data": {
      "text/plain": [
       "<keras.engine.sequential.Sequential at 0x7fc63815e710>"
      ]
     },
     "execution_count": 3,
     "metadata": {},
     "output_type": "execute_result"
    }
   ],
   "source": [
    "cnn_v1_2 = CNN_v1_2((480, 640, 3), split_into_parts=20)\n",
    "cnn_v1_2.def_model()"
   ]
  },
  {
   "cell_type": "code",
   "execution_count": 4,
   "metadata": {},
   "outputs": [],
   "source": [
    "images = cnn_v1_2._prepare_images(image_train)\n",
    "anwsers = cnn_v1_2._prepare_anwsers(person_coo_train)"
   ]
  },
  {
   "cell_type": "code",
   "execution_count": 5,
   "metadata": {},
   "outputs": [
    {
     "name": "stdout",
     "output_type": "stream",
     "text": [
      "Epoch 1/1\n",
      "1/1 [==============================] - 2s 2s/step - loss: 0.7040 - acc: 1.0000\n"
     ]
    }
   ],
   "source": [
    "history = cnn_v1_2.model.fit(images[:1], anwsers[:1])"
   ]
  },
  {
   "cell_type": "code",
   "execution_count": 6,
   "metadata": {},
   "outputs": [],
   "source": [
    "parallel_model = keras.utils.multi_gpu_model(\n",
    "        cnn_v1_2.model,\n",
    "        gpus=3,\n",
    "        cpu_merge=False)\n",
    "parallel_model.compile(\n",
    "        loss=\"binary_crossentropy\", \n",
    "        optimizer=\"adam\", \n",
    "        metrics=[\"accuracy\"])"
   ]
  },
  {
   "cell_type": "code",
   "execution_count": 7,
   "metadata": {},
   "outputs": [
    {
     "data": {
      "text/plain": [
       "<tf.Tensor 'Assign:0' shape=() dtype=float32_ref>"
      ]
     },
     "execution_count": 7,
     "metadata": {},
     "output_type": "execute_result"
    }
   ],
   "source": [
    "parallel_model.optimizer.lr.assign(1e-1)"
   ]
  },
  {
   "cell_type": "code",
   "execution_count": 8,
   "metadata": {},
   "outputs": [
    {
     "name": "stdout",
     "output_type": "stream",
     "text": [
      "Train on 612000 samples, validate on 68000 samples\n",
      "Epoch 1/50\n",
      "612000/612000 [==============================] - 29s 47us/step - loss: 191.5299 - acc: 0.5640 - val_loss: 97.1006 - val_acc: 0.6225\n",
      "Epoch 2/50\n",
      "612000/612000 [==============================] - 14s 23us/step - loss: 83.4264 - acc: 0.6580 - val_loss: 60.7926 - val_acc: 0.9069\n",
      "Epoch 3/50\n",
      "612000/612000 [==============================] - 14s 23us/step - loss: 53.8163 - acc: 0.7459 - val_loss: 37.8534 - val_acc: 0.9285\n",
      "Epoch 4/50\n",
      "612000/612000 [==============================] - 14s 23us/step - loss: 37.6107 - acc: 0.8265 - val_loss: 23.9924 - val_acc: 0.9310\n",
      "Epoch 5/50\n",
      "612000/612000 [==============================] - 14s 23us/step - loss: 27.0281 - acc: 0.8866 - val_loss: 16.7906 - val_acc: 0.9310\n",
      "Epoch 6/50\n",
      "612000/612000 [==============================] - 14s 23us/step - loss: 19.6297 - acc: 0.9070 - val_loss: 12.6141 - val_acc: 0.9310\n",
      "Epoch 7/50\n",
      "612000/612000 [==============================] - 14s 23us/step - loss: 14.3957 - acc: 0.9189 - val_loss: 10.1117 - val_acc: 0.9310\n",
      "Epoch 8/50\n",
      "612000/612000 [==============================] - 14s 23us/step - loss: 10.7550 - acc: 0.9259 - val_loss: 8.4367 - val_acc: 0.9310\n",
      "Epoch 9/50\n",
      "612000/612000 [==============================] - 14s 23us/step - loss: 8.2188 - acc: 0.9305 - val_loss: 7.0484 - val_acc: 0.9310\n",
      "Epoch 10/50\n",
      "612000/612000 [==============================] - 14s 24us/step - loss: 6.3955 - acc: 0.9323 - val_loss: 5.7883 - val_acc: 0.9310\n",
      "Epoch 11/50\n",
      "612000/612000 [==============================] - 15s 24us/step - loss: 5.0396 - acc: 0.9337 - val_loss: 4.5719 - val_acc: 0.9310\n",
      "Epoch 12/50\n",
      "612000/612000 [==============================] - 14s 24us/step - loss: 3.9968 - acc: 0.9339 - val_loss: 3.4309 - val_acc: 0.9310\n",
      "Epoch 13/50\n",
      "612000/612000 [==============================] - 15s 24us/step - loss: 3.1590 - acc: 0.9337 - val_loss: 2.4010 - val_acc: 0.9310\n",
      "Epoch 14/50\n",
      "612000/612000 [==============================] - 14s 24us/step - loss: 2.4510 - acc: 0.9330 - val_loss: 1.5539 - val_acc: 0.9310\n",
      "Epoch 15/50\n",
      "612000/612000 [==============================] - 15s 24us/step - loss: 1.8178 - acc: 0.9324 - val_loss: 0.9474 - val_acc: 0.9310\n",
      "Epoch 16/50\n",
      "612000/612000 [==============================] - 15s 24us/step - loss: 1.3668 - acc: 0.9324 - val_loss: 0.6847 - val_acc: 0.9310\n",
      "Epoch 17/50\n",
      "612000/612000 [==============================] - 14s 23us/step - loss: 1.0738 - acc: 0.9328 - val_loss: 0.6966 - val_acc: 0.9310\n",
      "Epoch 18/50\n",
      "612000/612000 [==============================] - 14s 23us/step - loss: 0.8791 - acc: 0.9327 - val_loss: 0.6792 - val_acc: 0.9310\n",
      "Epoch 19/50\n",
      "612000/612000 [==============================] - 15s 24us/step - loss: 0.7450 - acc: 0.9327 - val_loss: 0.6560 - val_acc: 0.9310\n",
      "Epoch 20/50\n",
      "612000/612000 [==============================] - 15s 24us/step - loss: 0.6491 - acc: 0.9325 - val_loss: 0.6150 - val_acc: 0.9310\n",
      "Epoch 21/50\n",
      "612000/612000 [==============================] - 13s 22us/step - loss: 0.5772 - acc: 0.9326 - val_loss: 0.5655 - val_acc: 0.9310\n",
      "Epoch 22/50\n",
      "612000/612000 [==============================] - 13s 21us/step - loss: 0.5223 - acc: 0.9325 - val_loss: 0.4921 - val_acc: 0.9310\n",
      "Epoch 23/50\n",
      "612000/612000 [==============================] - 13s 22us/step - loss: 0.4802 - acc: 0.9326 - val_loss: 0.4427 - val_acc: 0.9310\n",
      "Epoch 24/50\n",
      "612000/612000 [==============================] - 13s 22us/step - loss: 0.4465 - acc: 0.9326 - val_loss: 0.3996 - val_acc: 0.9310\n",
      "Epoch 25/50\n",
      "612000/612000 [==============================] - 13s 22us/step - loss: 0.4202 - acc: 0.9325 - val_loss: 0.3707 - val_acc: 0.9310\n",
      "Epoch 26/50\n",
      "612000/612000 [==============================] - 13s 21us/step - loss: 0.3987 - acc: 0.9327 - val_loss: 0.3569 - val_acc: 0.9310\n",
      "Epoch 27/50\n",
      "612000/612000 [==============================] - 13s 22us/step - loss: 0.3813 - acc: 0.9325 - val_loss: 0.3473 - val_acc: 0.9310\n",
      "Epoch 28/50\n",
      "612000/612000 [==============================] - 13s 22us/step - loss: 0.3669 - acc: 0.9325 - val_loss: 0.3391 - val_acc: 0.9310\n",
      "Epoch 29/50\n",
      "612000/612000 [==============================] - 13s 22us/step - loss: 0.3554 - acc: 0.9325 - val_loss: 0.3332 - val_acc: 0.9309\n",
      "Epoch 30/50\n",
      "612000/612000 [==============================] - 13s 22us/step - loss: 0.3451 - acc: 0.9326 - val_loss: 0.3285 - val_acc: 0.9309\n",
      "Epoch 31/50\n",
      "612000/612000 [==============================] - 13s 22us/step - loss: 0.3367 - acc: 0.9326 - val_loss: 0.3241 - val_acc: 0.9309\n",
      "Epoch 32/50\n",
      "612000/612000 [==============================] - 13s 22us/step - loss: 0.3293 - acc: 0.9325 - val_loss: 0.3193 - val_acc: 0.9309\n",
      "Epoch 33/50\n",
      "612000/612000 [==============================] - 13s 22us/step - loss: 0.3230 - acc: 0.9325 - val_loss: 0.3152 - val_acc: 0.9309\n",
      "Epoch 34/50\n",
      "612000/612000 [==============================] - 13s 21us/step - loss: 0.3173 - acc: 0.9326 - val_loss: 0.3122 - val_acc: 0.9309\n",
      "Epoch 35/50\n",
      "612000/612000 [==============================] - 13s 21us/step - loss: 0.3123 - acc: 0.9326 - val_loss: 0.3091 - val_acc: 0.9310\n",
      "Epoch 36/50\n",
      "612000/612000 [==============================] - 13s 22us/step - loss: 0.3080 - acc: 0.9325 - val_loss: 0.3061 - val_acc: 0.9309\n",
      "Epoch 37/50\n",
      "612000/612000 [==============================] - 13s 22us/step - loss: 0.3040 - acc: 0.9326 - val_loss: 0.3036 - val_acc: 0.9309\n",
      "Epoch 38/50\n",
      "612000/612000 [==============================] - 13s 22us/step - loss: 0.3003 - acc: 0.9327 - val_loss: 0.3009 - val_acc: 0.9310\n",
      "Epoch 39/50\n",
      "612000/612000 [==============================] - 13s 22us/step - loss: 0.2970 - acc: 0.9327 - val_loss: 0.2988 - val_acc: 0.9310\n",
      "Epoch 40/50\n",
      "612000/612000 [==============================] - 13s 22us/step - loss: 0.2941 - acc: 0.9327 - val_loss: 0.2962 - val_acc: 0.9309\n",
      "Epoch 41/50\n",
      "612000/612000 [==============================] - 13s 22us/step - loss: 0.2915 - acc: 0.9327 - val_loss: 0.2943 - val_acc: 0.9309\n",
      "Epoch 42/50\n",
      "612000/612000 [==============================] - 13s 21us/step - loss: 0.2891 - acc: 0.9327 - val_loss: 0.2928 - val_acc: 0.9308\n",
      "Epoch 43/50\n",
      "612000/612000 [==============================] - 13s 22us/step - loss: 0.2869 - acc: 0.9328 - val_loss: 0.2912 - val_acc: 0.9309\n",
      "Epoch 44/50\n",
      "612000/612000 [==============================] - 13s 22us/step - loss: 0.2847 - acc: 0.9328 - val_loss: 0.2893 - val_acc: 0.9309\n",
      "Epoch 45/50\n",
      "612000/612000 [==============================] - 13s 22us/step - loss: 0.2831 - acc: 0.9328 - val_loss: 0.2878 - val_acc: 0.9307\n",
      "Epoch 46/50\n",
      "612000/612000 [==============================] - 13s 22us/step - loss: 0.2814 - acc: 0.9327 - val_loss: 0.2866 - val_acc: 0.9309\n",
      "Epoch 47/50\n",
      "612000/612000 [==============================] - 13s 22us/step - loss: 0.2795 - acc: 0.9328 - val_loss: 0.2853 - val_acc: 0.9310\n",
      "Epoch 48/50\n",
      "612000/612000 [==============================] - 13s 22us/step - loss: 0.2783 - acc: 0.9328 - val_loss: 0.2837 - val_acc: 0.9311\n",
      "Epoch 49/50\n",
      "612000/612000 [==============================] - 13s 22us/step - loss: 0.2767 - acc: 0.9328 - val_loss: 0.2828 - val_acc: 0.9311\n",
      "Epoch 50/50\n",
      "612000/612000 [==============================] - 13s 21us/step - loss: 0.2757 - acc: 0.9328 - val_loss: 0.2819 - val_acc: 0.9311\n"
     ]
    },
    {
     "data": {
      "text/plain": [
       "<keras.callbacks.History at 0x7f6a9c4d2a58>"
      ]
     },
     "execution_count": 8,
     "metadata": {},
     "output_type": "execute_result"
    }
   ],
   "source": [
    "parallel_model.fit(images, anwsers, batch_size=35000, epochs=50,\n",
    "                   validation_split=0.1)"
   ]
  },
  {
   "cell_type": "code",
   "execution_count": 9,
   "metadata": {},
   "outputs": [],
   "source": [
    "parallel_model.save_weights(\"CNN/CNN_v1/weights/cnn_v1_2_1e_1_50\")"
   ]
  },
  {
   "cell_type": "code",
   "execution_count": 11,
   "metadata": {},
   "outputs": [],
   "source": [
    "parallel_model.load_weights(\"CNN/CNN_v1/weights/cnn_v1_2_1e_1_50\")"
   ]
  },
  {
   "cell_type": "code",
   "execution_count": 10,
   "metadata": {},
   "outputs": [
    {
     "name": "stdout",
     "output_type": "stream",
     "text": [
      "Train on 612000 samples, validate on 68000 samples\n",
      "Epoch 1/25\n",
      "612000/612000 [==============================] - 13s 22us/step - loss: 0.2743 - acc: 0.9329 - val_loss: 0.2809 - val_acc: 0.9311\n",
      "Epoch 2/25\n",
      "612000/612000 [==============================] - 13s 22us/step - loss: 0.2732 - acc: 0.9329 - val_loss: 0.2798 - val_acc: 0.9311\n",
      "Epoch 3/25\n",
      "612000/612000 [==============================] - 13s 22us/step - loss: 0.2724 - acc: 0.9329 - val_loss: 0.2791 - val_acc: 0.9310\n",
      "Epoch 4/25\n",
      "612000/612000 [==============================] - 13s 21us/step - loss: 0.2713 - acc: 0.9328 - val_loss: 0.2783 - val_acc: 0.9310\n",
      "Epoch 5/25\n",
      "612000/612000 [==============================] - 13s 21us/step - loss: 0.2703 - acc: 0.9329 - val_loss: 0.2773 - val_acc: 0.9311\n",
      "Epoch 6/25\n",
      "612000/612000 [==============================] - 13s 22us/step - loss: 0.2697 - acc: 0.9329 - val_loss: 0.2764 - val_acc: 0.9311\n",
      "Epoch 7/25\n",
      "612000/612000 [==============================] - 13s 22us/step - loss: 0.2688 - acc: 0.9329 - val_loss: 0.2756 - val_acc: 0.9310\n",
      "Epoch 8/25\n",
      "612000/612000 [==============================] - 14s 22us/step - loss: 0.2679 - acc: 0.9329 - val_loss: 0.2749 - val_acc: 0.9311\n",
      "Epoch 9/25\n",
      "612000/612000 [==============================] - 14s 23us/step - loss: 0.2673 - acc: 0.9329 - val_loss: 0.2743 - val_acc: 0.9311\n",
      "Epoch 10/25\n",
      "612000/612000 [==============================] - 15s 24us/step - loss: 0.2664 - acc: 0.9330 - val_loss: 0.2736 - val_acc: 0.9310\n",
      "Epoch 11/25\n",
      "612000/612000 [==============================] - 14s 24us/step - loss: 0.2659 - acc: 0.9330 - val_loss: 0.2731 - val_acc: 0.9311\n",
      "Epoch 12/25\n",
      "612000/612000 [==============================] - 14s 24us/step - loss: 0.2654 - acc: 0.9330 - val_loss: 0.2724 - val_acc: 0.9312\n",
      "Epoch 13/25\n",
      "612000/612000 [==============================] - 14s 24us/step - loss: 0.2647 - acc: 0.9330 - val_loss: 0.2723 - val_acc: 0.9311\n",
      "Epoch 14/25\n",
      "612000/612000 [==============================] - 15s 24us/step - loss: 0.2642 - acc: 0.9330 - val_loss: 0.2717 - val_acc: 0.9312\n",
      "Epoch 15/25\n",
      "612000/612000 [==============================] - 15s 24us/step - loss: 0.2636 - acc: 0.9330 - val_loss: 0.2707 - val_acc: 0.9313\n",
      "Epoch 16/25\n",
      "612000/612000 [==============================] - 14s 24us/step - loss: 0.2630 - acc: 0.9330 - val_loss: 0.2700 - val_acc: 0.9312\n",
      "Epoch 17/25\n",
      "612000/612000 [==============================] - 14s 23us/step - loss: 0.2624 - acc: 0.9331 - val_loss: 0.2697 - val_acc: 0.9314\n",
      "Epoch 18/25\n",
      "612000/612000 [==============================] - 14s 23us/step - loss: 0.2618 - acc: 0.9331 - val_loss: 0.2690 - val_acc: 0.9313\n",
      "Epoch 19/25\n",
      "612000/612000 [==============================] - 14s 23us/step - loss: 0.2611 - acc: 0.9330 - val_loss: 0.2679 - val_acc: 0.9314\n",
      "Epoch 20/25\n",
      "612000/612000 [==============================] - 14s 24us/step - loss: 0.2600 - acc: 0.9331 - val_loss: 0.2671 - val_acc: 0.9314\n",
      "Epoch 21/25\n",
      "612000/612000 [==============================] - 14s 23us/step - loss: 0.2591 - acc: 0.9331 - val_loss: 0.2665 - val_acc: 0.9314\n",
      "Epoch 22/25\n",
      "612000/612000 [==============================] - 15s 24us/step - loss: 0.2584 - acc: 0.9330 - val_loss: 0.2660 - val_acc: 0.9313\n",
      "Epoch 23/25\n",
      "612000/612000 [==============================] - 14s 24us/step - loss: 0.2577 - acc: 0.9331 - val_loss: 0.2659 - val_acc: 0.9313\n",
      "Epoch 24/25\n",
      "612000/612000 [==============================] - 14s 23us/step - loss: 0.2571 - acc: 0.9331 - val_loss: 0.2653 - val_acc: 0.9314\n",
      "Epoch 25/25\n",
      "612000/612000 [==============================] - 15s 24us/step - loss: 0.2564 - acc: 0.9332 - val_loss: 0.2651 - val_acc: 0.9314\n"
     ]
    },
    {
     "data": {
      "text/plain": [
       "<keras.callbacks.History at 0x7f69bc07a470>"
      ]
     },
     "execution_count": 10,
     "metadata": {},
     "output_type": "execute_result"
    }
   ],
   "source": [
    "parallel_model.fit(images, anwsers, batch_size=35000, epochs=25,\n",
    "                   validation_split=0.1)"
   ]
  },
  {
   "cell_type": "code",
   "execution_count": 11,
   "metadata": {},
   "outputs": [],
   "source": [
    "parallel_model.save_weights(\"CNN/CNN_v1/weights/cnn_v1_2_1e_1_75\")"
   ]
  },
  {
   "cell_type": "code",
   "execution_count": 9,
   "metadata": {},
   "outputs": [],
   "source": [
    "parallel_model.load_weights(\"CNN/CNN_v1/weights/cnn_v1_2_1e_1_75\")"
   ]
  },
  {
   "cell_type": "code",
   "execution_count": 12,
   "metadata": {},
   "outputs": [
    {
     "name": "stdout",
     "output_type": "stream",
     "text": [
      "Train on 612000 samples, validate on 68000 samples\n",
      "Epoch 1/25\n",
      "612000/612000 [==============================] - 15s 24us/step - loss: 0.2559 - acc: 0.9331 - val_loss: 0.2649 - val_acc: 0.9315\n",
      "Epoch 2/25\n",
      "612000/612000 [==============================] - 15s 24us/step - loss: 0.2553 - acc: 0.9331 - val_loss: 0.2644 - val_acc: 0.9317\n",
      "Epoch 3/25\n",
      "612000/612000 [==============================] - 15s 24us/step - loss: 0.2547 - acc: 0.9332 - val_loss: 0.2643 - val_acc: 0.9316\n",
      "Epoch 4/25\n",
      "612000/612000 [==============================] - 14s 23us/step - loss: 0.2540 - acc: 0.9332 - val_loss: 0.2636 - val_acc: 0.9316\n",
      "Epoch 5/25\n",
      "612000/612000 [==============================] - 15s 24us/step - loss: 0.2536 - acc: 0.9332 - val_loss: 0.2633 - val_acc: 0.9315\n",
      "Epoch 6/25\n",
      "612000/612000 [==============================] - 15s 24us/step - loss: 0.2530 - acc: 0.9333 - val_loss: 0.2635 - val_acc: 0.9314\n",
      "Epoch 7/25\n",
      "612000/612000 [==============================] - 15s 24us/step - loss: 0.2526 - acc: 0.9333 - val_loss: 0.2624 - val_acc: 0.9315\n",
      "Epoch 8/25\n",
      "612000/612000 [==============================] - 15s 24us/step - loss: 0.2522 - acc: 0.9334 - val_loss: 0.2627 - val_acc: 0.9314\n",
      "Epoch 9/25\n",
      "612000/612000 [==============================] - 14s 23us/step - loss: 0.2516 - acc: 0.9334 - val_loss: 0.2625 - val_acc: 0.9314\n",
      "Epoch 10/25\n",
      "612000/612000 [==============================] - 14s 24us/step - loss: 0.2511 - acc: 0.9334 - val_loss: 0.2625 - val_acc: 0.9316\n",
      "Epoch 11/25\n",
      "612000/612000 [==============================] - 14s 23us/step - loss: 0.2507 - acc: 0.9335 - val_loss: 0.2627 - val_acc: 0.9315\n",
      "Epoch 12/25\n",
      "612000/612000 [==============================] - 14s 24us/step - loss: 0.2504 - acc: 0.9335 - val_loss: 0.2618 - val_acc: 0.9315\n",
      "Epoch 13/25\n",
      "612000/612000 [==============================] - 15s 24us/step - loss: 0.2496 - acc: 0.9335 - val_loss: 0.2616 - val_acc: 0.9314\n",
      "Epoch 14/25\n",
      "612000/612000 [==============================] - 14s 23us/step - loss: 0.2492 - acc: 0.9335 - val_loss: 0.2623 - val_acc: 0.9312\n",
      "Epoch 15/25\n",
      "612000/612000 [==============================] - 15s 24us/step - loss: 0.2487 - acc: 0.9335 - val_loss: 0.2615 - val_acc: 0.9313\n",
      "Epoch 16/25\n",
      "612000/612000 [==============================] - 14s 23us/step - loss: 0.2480 - acc: 0.9337 - val_loss: 0.2615 - val_acc: 0.9315\n",
      "Epoch 17/25\n",
      "612000/612000 [==============================] - 14s 24us/step - loss: 0.2475 - acc: 0.9337 - val_loss: 0.2621 - val_acc: 0.9314\n",
      "Epoch 18/25\n",
      "612000/612000 [==============================] - 15s 24us/step - loss: 0.2468 - acc: 0.9339 - val_loss: 0.2615 - val_acc: 0.9313\n",
      "Epoch 19/25\n",
      "612000/612000 [==============================] - 15s 24us/step - loss: 0.2463 - acc: 0.9338 - val_loss: 0.2610 - val_acc: 0.9315\n",
      "Epoch 20/25\n",
      "612000/612000 [==============================] - 15s 24us/step - loss: 0.2457 - acc: 0.9338 - val_loss: 0.2600 - val_acc: 0.9314\n",
      "Epoch 21/25\n",
      "612000/612000 [==============================] - 14s 24us/step - loss: 0.2451 - acc: 0.9339 - val_loss: 0.2617 - val_acc: 0.9314\n",
      "Epoch 22/25\n",
      "612000/612000 [==============================] - 14s 23us/step - loss: 0.2446 - acc: 0.9341 - val_loss: 0.2618 - val_acc: 0.9313\n",
      "Epoch 23/25\n",
      "612000/612000 [==============================] - 14s 23us/step - loss: 0.2441 - acc: 0.9340 - val_loss: 0.2607 - val_acc: 0.9313\n",
      "Epoch 24/25\n",
      "612000/612000 [==============================] - 14s 23us/step - loss: 0.2434 - acc: 0.9341 - val_loss: 0.2618 - val_acc: 0.9314\n",
      "Epoch 25/25\n",
      "612000/612000 [==============================] - 15s 24us/step - loss: 0.2425 - acc: 0.9342 - val_loss: 0.2608 - val_acc: 0.9318\n"
     ]
    },
    {
     "data": {
      "text/plain": [
       "<keras.callbacks.History at 0x7f6c1b073358>"
      ]
     },
     "execution_count": 12,
     "metadata": {},
     "output_type": "execute_result"
    }
   ],
   "source": [
    "parallel_model.fit(images, anwsers, batch_size=35000, epochs=25,\n",
    "                   validation_split=0.1)"
   ]
  },
  {
   "cell_type": "code",
   "execution_count": 13,
   "metadata": {},
   "outputs": [],
   "source": [
    "parallel_model.save_weights(\"CNN/CNN_v1/weights/cnn_v1_2_1e_1_100\")"
   ]
  },
  {
   "cell_type": "code",
   "execution_count": 17,
   "metadata": {},
   "outputs": [],
   "source": [
    "parallel_model.load_weights(\"CNN/CNN_v1/weights/cnn_v1_2_1e_1_100\")"
   ]
  },
  {
   "cell_type": "code",
   "execution_count": 18,
   "metadata": {},
   "outputs": [
    {
     "data": {
      "text/plain": [
       "<tf.Tensor 'Assign_38:0' shape=() dtype=float32_ref>"
      ]
     },
     "execution_count": 18,
     "metadata": {},
     "output_type": "execute_result"
    }
   ],
   "source": [
    "parallel_model.optimizer.lr.assign(1e-4)"
   ]
  },
  {
   "cell_type": "code",
   "execution_count": 19,
   "metadata": {},
   "outputs": [
    {
     "name": "stdout",
     "output_type": "stream",
     "text": [
      "Train on 612000 samples, validate on 68000 samples\n",
      "Epoch 1/50\n",
      "612000/612000 [==============================] - 15s 24us/step - loss: 0.2423 - acc: 0.9341 - val_loss: 0.2551 - val_acc: 0.9313\n",
      "Epoch 2/50\n",
      "612000/612000 [==============================] - 14s 24us/step - loss: 0.2415 - acc: 0.9342 - val_loss: 0.2539 - val_acc: 0.9314\n",
      "Epoch 3/50\n",
      "612000/612000 [==============================] - 14s 23us/step - loss: 0.2406 - acc: 0.9342 - val_loss: 0.2529 - val_acc: 0.9314\n",
      "Epoch 4/50\n",
      "612000/612000 [==============================] - 15s 24us/step - loss: 0.2398 - acc: 0.9342 - val_loss: 0.2533 - val_acc: 0.9314\n",
      "Epoch 5/50\n",
      "612000/612000 [==============================] - 14s 24us/step - loss: 0.2393 - acc: 0.9343 - val_loss: 0.2538 - val_acc: 0.9317\n",
      "Epoch 6/50\n",
      "612000/612000 [==============================] - 14s 23us/step - loss: 0.2386 - acc: 0.9344 - val_loss: 0.2544 - val_acc: 0.9318\n",
      "Epoch 7/50\n",
      "612000/612000 [==============================] - 14s 23us/step - loss: 0.2379 - acc: 0.9344 - val_loss: 0.2548 - val_acc: 0.9319\n",
      "Epoch 8/50\n",
      "612000/612000 [==============================] - 15s 24us/step - loss: 0.2371 - acc: 0.9343 - val_loss: 0.2541 - val_acc: 0.9319\n",
      "Epoch 9/50\n",
      "612000/612000 [==============================] - 15s 24us/step - loss: 0.2367 - acc: 0.9344 - val_loss: 0.2556 - val_acc: 0.9319\n",
      "Epoch 10/50\n",
      "612000/612000 [==============================] - 15s 24us/step - loss: 0.2359 - acc: 0.9345 - val_loss: 0.2566 - val_acc: 0.9318\n",
      "Epoch 11/50\n",
      "612000/612000 [==============================] - 15s 24us/step - loss: 0.2352 - acc: 0.9345 - val_loss: 0.2556 - val_acc: 0.9319\n",
      "Epoch 12/50\n",
      "612000/612000 [==============================] - 15s 24us/step - loss: 0.2347 - acc: 0.9344 - val_loss: 0.2553 - val_acc: 0.9317\n",
      "Epoch 13/50\n",
      "612000/612000 [==============================] - 14s 23us/step - loss: 0.2340 - acc: 0.9345 - val_loss: 0.2522 - val_acc: 0.9316\n",
      "Epoch 14/50\n",
      "612000/612000 [==============================] - 14s 23us/step - loss: 0.2334 - acc: 0.9345 - val_loss: 0.2552 - val_acc: 0.9317\n",
      "Epoch 15/50\n",
      "612000/612000 [==============================] - 14s 23us/step - loss: 0.2327 - acc: 0.9346 - val_loss: 0.2561 - val_acc: 0.9317\n",
      "Epoch 16/50\n",
      "612000/612000 [==============================] - 14s 24us/step - loss: 0.2319 - acc: 0.9346 - val_loss: 0.2555 - val_acc: 0.9319\n",
      "Epoch 17/50\n",
      "612000/612000 [==============================] - 14s 24us/step - loss: 0.2310 - acc: 0.9345 - val_loss: 0.2538 - val_acc: 0.9317\n",
      "Epoch 18/50\n",
      "612000/612000 [==============================] - 15s 24us/step - loss: 0.2304 - acc: 0.9348 - val_loss: 0.2521 - val_acc: 0.9319\n",
      "Epoch 19/50\n",
      "612000/612000 [==============================] - 14s 23us/step - loss: 0.2302 - acc: 0.9348 - val_loss: 0.2522 - val_acc: 0.9322\n",
      "Epoch 20/50\n",
      "612000/612000 [==============================] - 14s 23us/step - loss: 0.2293 - acc: 0.9349 - val_loss: 0.2536 - val_acc: 0.9323\n",
      "Epoch 21/50\n",
      "612000/612000 [==============================] - 14s 23us/step - loss: 0.2289 - acc: 0.9348 - val_loss: 0.2494 - val_acc: 0.9313\n",
      "Epoch 22/50\n",
      "612000/612000 [==============================] - 14s 24us/step - loss: 0.2282 - acc: 0.9350 - val_loss: 0.2485 - val_acc: 0.9316\n",
      "Epoch 23/50\n",
      "612000/612000 [==============================] - 14s 23us/step - loss: 0.2277 - acc: 0.9350 - val_loss: 0.2496 - val_acc: 0.9320\n",
      "Epoch 24/50\n",
      "612000/612000 [==============================] - 14s 23us/step - loss: 0.2272 - acc: 0.9352 - val_loss: 0.2516 - val_acc: 0.9311\n",
      "Epoch 25/50\n",
      "612000/612000 [==============================] - 14s 23us/step - loss: 0.2268 - acc: 0.9351 - val_loss: 0.2530 - val_acc: 0.9320\n",
      "Epoch 26/50\n",
      "612000/612000 [==============================] - 15s 24us/step - loss: 0.2263 - acc: 0.9353 - val_loss: 0.2505 - val_acc: 0.9324\n",
      "Epoch 27/50\n",
      "612000/612000 [==============================] - 14s 23us/step - loss: 0.2256 - acc: 0.9352 - val_loss: 0.2480 - val_acc: 0.9320\n",
      "Epoch 28/50\n",
      "612000/612000 [==============================] - 14s 23us/step - loss: 0.2255 - acc: 0.9353 - val_loss: 0.2503 - val_acc: 0.9327\n",
      "Epoch 29/50\n",
      "612000/612000 [==============================] - 14s 23us/step - loss: 0.2250 - acc: 0.9352 - val_loss: 0.2471 - val_acc: 0.9322\n",
      "Epoch 30/50\n",
      "612000/612000 [==============================] - 14s 24us/step - loss: 0.2244 - acc: 0.9355 - val_loss: 0.2483 - val_acc: 0.9323\n",
      "Epoch 31/50\n",
      "612000/612000 [==============================] - 14s 24us/step - loss: 0.2244 - acc: 0.9353 - val_loss: 0.2485 - val_acc: 0.9312\n",
      "Epoch 32/50\n",
      "612000/612000 [==============================] - 15s 24us/step - loss: 0.2238 - acc: 0.9354 - val_loss: 0.2486 - val_acc: 0.9313\n",
      "Epoch 33/50\n",
      "612000/612000 [==============================] - 15s 24us/step - loss: 0.2232 - acc: 0.9356 - val_loss: 0.2489 - val_acc: 0.9321\n",
      "Epoch 34/50\n",
      "612000/612000 [==============================] - 14s 23us/step - loss: 0.2227 - acc: 0.9355 - val_loss: 0.2487 - val_acc: 0.9305\n",
      "Epoch 35/50\n",
      "612000/612000 [==============================] - 14s 23us/step - loss: 0.2221 - acc: 0.9356 - val_loss: 0.2489 - val_acc: 0.9320\n",
      "Epoch 36/50\n",
      "612000/612000 [==============================] - 15s 24us/step - loss: 0.2219 - acc: 0.9356 - val_loss: 0.2448 - val_acc: 0.9317\n",
      "Epoch 37/50\n",
      "612000/612000 [==============================] - 14s 24us/step - loss: 0.2211 - acc: 0.9357 - val_loss: 0.2466 - val_acc: 0.9313\n",
      "Epoch 38/50\n",
      "612000/612000 [==============================] - 15s 24us/step - loss: 0.2207 - acc: 0.9359 - val_loss: 0.2464 - val_acc: 0.9320\n",
      "Epoch 39/50\n",
      "612000/612000 [==============================] - 14s 23us/step - loss: 0.2201 - acc: 0.9359 - val_loss: 0.2445 - val_acc: 0.9325\n",
      "Epoch 40/50\n",
      "612000/612000 [==============================] - 14s 23us/step - loss: 0.2199 - acc: 0.9360 - val_loss: 0.2442 - val_acc: 0.9326\n",
      "Epoch 41/50\n",
      "612000/612000 [==============================] - 14s 23us/step - loss: 0.2197 - acc: 0.9356 - val_loss: 0.2468 - val_acc: 0.9312\n",
      "Epoch 42/50\n",
      "612000/612000 [==============================] - 14s 23us/step - loss: 0.2189 - acc: 0.9360 - val_loss: 0.2431 - val_acc: 0.9323\n",
      "Epoch 43/50\n",
      "612000/612000 [==============================] - 15s 24us/step - loss: 0.2185 - acc: 0.9359 - val_loss: 0.2439 - val_acc: 0.9327\n",
      "Epoch 44/50\n",
      "612000/612000 [==============================] - 14s 24us/step - loss: 0.2184 - acc: 0.9359 - val_loss: 0.2426 - val_acc: 0.9321\n",
      "Epoch 45/50\n",
      "612000/612000 [==============================] - 14s 23us/step - loss: 0.2176 - acc: 0.9362 - val_loss: 0.2433 - val_acc: 0.9320\n",
      "Epoch 46/50\n",
      "612000/612000 [==============================] - 15s 24us/step - loss: 0.2170 - acc: 0.9361 - val_loss: 0.2383 - val_acc: 0.9325\n",
      "Epoch 47/50\n",
      "612000/612000 [==============================] - 15s 24us/step - loss: 0.2168 - acc: 0.9362 - val_loss: 0.2426 - val_acc: 0.9328\n",
      "Epoch 48/50\n",
      "612000/612000 [==============================] - 15s 24us/step - loss: 0.2161 - acc: 0.9362 - val_loss: 0.2391 - val_acc: 0.9331\n",
      "Epoch 49/50\n",
      "612000/612000 [==============================] - 15s 24us/step - loss: 0.2157 - acc: 0.9362 - val_loss: 0.2415 - val_acc: 0.9325\n",
      "Epoch 50/50\n",
      "612000/612000 [==============================] - 14s 23us/step - loss: 0.2154 - acc: 0.9362 - val_loss: 0.2422 - val_acc: 0.9328\n"
     ]
    },
    {
     "data": {
      "text/plain": [
       "<keras.callbacks.History at 0x7f6c1b073748>"
      ]
     },
     "execution_count": 19,
     "metadata": {},
     "output_type": "execute_result"
    }
   ],
   "source": [
    "parallel_model.fit(images, anwsers, batch_size=35000, epochs=50,\n",
    "                   validation_split=0.1)"
   ]
  },
  {
   "cell_type": "code",
   "execution_count": 20,
   "metadata": {},
   "outputs": [],
   "source": [
    "parallel_model.save_weights(\"CNN/CNN_v1/weights/cnn_v1_2_1e_4_50\")"
   ]
  },
  {
   "cell_type": "code",
   "execution_count": 10,
   "metadata": {},
   "outputs": [],
   "source": [
    "parallel_model.load_weights(\"CNN/CNN_v1/weights/cnn_v1_2_1e_4_50\")"
   ]
  },
  {
   "cell_type": "code",
   "execution_count": 11,
   "metadata": {},
   "outputs": [
    {
     "data": {
      "text/plain": [
       "<tf.Tensor 'Assign_37:0' shape=() dtype=float32_ref>"
      ]
     },
     "execution_count": 11,
     "metadata": {},
     "output_type": "execute_result"
    }
   ],
   "source": [
    "parallel_model.optimizer.lr.assign(1e-5)"
   ]
  },
  {
   "cell_type": "code",
   "execution_count": 11,
   "metadata": {},
   "outputs": [
    {
     "name": "stdout",
     "output_type": "stream",
     "text": [
      "Train on 612000 samples, validate on 68000 samples\n",
      "Epoch 1/15\n",
      "612000/612000 [==============================] - 23s 37us/step - loss: 0.2148 - acc: 0.9364 - val_loss: 0.2439 - val_acc: 0.9312\n",
      "Epoch 2/15\n",
      "612000/612000 [==============================] - 23s 37us/step - loss: 0.2143 - acc: 0.9363 - val_loss: 0.2416 - val_acc: 0.9312\n",
      "Epoch 3/15\n",
      "612000/612000 [==============================] - 22s 36us/step - loss: 0.2131 - acc: 0.9363 - val_loss: 0.2401 - val_acc: 0.9313\n",
      "Epoch 4/15\n",
      "612000/612000 [==============================] - 23s 38us/step - loss: 0.2119 - acc: 0.9365 - val_loss: 0.2379 - val_acc: 0.9313\n",
      "Epoch 5/15\n",
      "612000/612000 [==============================] - 24s 39us/step - loss: 0.2110 - acc: 0.9365 - val_loss: 0.2361 - val_acc: 0.9313\n",
      "Epoch 6/15\n",
      "612000/612000 [==============================] - 22s 36us/step - loss: 0.2105 - acc: 0.9365 - val_loss: 0.2346 - val_acc: 0.9314\n",
      "Epoch 7/15\n",
      "612000/612000 [==============================] - 22s 36us/step - loss: 0.2095 - acc: 0.9366 - val_loss: 0.2332 - val_acc: 0.9315\n",
      "Epoch 8/15\n",
      "612000/612000 [==============================] - 23s 37us/step - loss: 0.2087 - acc: 0.9367 - val_loss: 0.2311 - val_acc: 0.9319\n",
      "Epoch 9/15\n",
      "612000/612000 [==============================] - 22s 36us/step - loss: 0.2081 - acc: 0.9367 - val_loss: 0.2301 - val_acc: 0.9315\n",
      "Epoch 10/15\n",
      "612000/612000 [==============================] - 22s 36us/step - loss: 0.2073 - acc: 0.9366 - val_loss: 0.2289 - val_acc: 0.9320\n",
      "Epoch 11/15\n",
      "612000/612000 [==============================] - 23s 37us/step - loss: 0.2066 - acc: 0.9369 - val_loss: 0.2287 - val_acc: 0.9321\n",
      "Epoch 12/15\n",
      "612000/612000 [==============================] - 23s 37us/step - loss: 0.2059 - acc: 0.9367 - val_loss: 0.2279 - val_acc: 0.9320\n",
      "Epoch 13/15\n",
      "612000/612000 [==============================] - 23s 37us/step - loss: 0.2049 - acc: 0.9370 - val_loss: 0.2270 - val_acc: 0.9325\n",
      "Epoch 14/15\n",
      "612000/612000 [==============================] - 23s 38us/step - loss: 0.2042 - acc: 0.9371 - val_loss: 0.2266 - val_acc: 0.9327\n",
      "Epoch 15/15\n",
      "612000/612000 [==============================] - 23s 37us/step - loss: 0.2031 - acc: 0.9370 - val_loss: 0.2269 - val_acc: 0.9328\n"
     ]
    },
    {
     "data": {
      "text/plain": [
       "<keras.callbacks.History at 0x7fab24534630>"
      ]
     },
     "execution_count": 11,
     "metadata": {},
     "output_type": "execute_result"
    }
   ],
   "source": [
    "parallel_model.fit(images, anwsers, batch_size=35000, epochs=15,\n",
    "                   validation_split=0.1)"
   ]
  },
  {
   "cell_type": "code",
   "execution_count": 12,
   "metadata": {},
   "outputs": [
    {
     "name": "stdout",
     "output_type": "stream",
     "text": [
      "Train on 612000 samples, validate on 68000 samples\n",
      "Epoch 1/15\n",
      "612000/612000 [==============================] - 22s 36us/step - loss: 0.2022 - acc: 0.9371 - val_loss: 0.2247 - val_acc: 0.9329\n",
      "Epoch 2/15\n",
      "612000/612000 [==============================] - 23s 38us/step - loss: 0.2014 - acc: 0.9368 - val_loss: 0.2249 - val_acc: 0.9326\n",
      "Epoch 3/15\n",
      "612000/612000 [==============================] - 22s 36us/step - loss: 0.2003 - acc: 0.9368 - val_loss: 0.2233 - val_acc: 0.9328\n",
      "Epoch 4/15\n",
      "612000/612000 [==============================] - 23s 37us/step - loss: 0.1986 - acc: 0.9366 - val_loss: 0.2231 - val_acc: 0.9331\n",
      "Epoch 5/15\n",
      "612000/612000 [==============================] - 23s 38us/step - loss: 0.1965 - acc: 0.9369 - val_loss: 0.2209 - val_acc: 0.9338\n",
      "Epoch 6/15\n",
      "612000/612000 [==============================] - 22s 37us/step - loss: 0.1949 - acc: 0.9369 - val_loss: 0.2215 - val_acc: 0.9340\n",
      "Epoch 7/15\n",
      "612000/612000 [==============================] - 23s 37us/step - loss: 0.1930 - acc: 0.9371 - val_loss: 0.2146 - val_acc: 0.9338\n",
      "Epoch 8/15\n",
      "612000/612000 [==============================] - 23s 38us/step - loss: 0.1907 - acc: 0.9375 - val_loss: 0.2146 - val_acc: 0.9339\n",
      "Epoch 9/15\n",
      "612000/612000 [==============================] - 22s 36us/step - loss: 0.1889 - acc: 0.9375 - val_loss: 0.2105 - val_acc: 0.9339\n",
      "Epoch 10/15\n",
      "612000/612000 [==============================] - 22s 36us/step - loss: 0.1869 - acc: 0.9378 - val_loss: 0.2115 - val_acc: 0.9342\n",
      "Epoch 11/15\n",
      "612000/612000 [==============================] - 23s 38us/step - loss: 0.1845 - acc: 0.9377 - val_loss: 0.2056 - val_acc: 0.9341\n",
      "Epoch 12/15\n",
      "612000/612000 [==============================] - 23s 37us/step - loss: 0.1825 - acc: 0.9382 - val_loss: 0.2039 - val_acc: 0.9344\n",
      "Epoch 13/15\n",
      "612000/612000 [==============================] - 22s 36us/step - loss: 0.1803 - acc: 0.9383 - val_loss: 0.2016 - val_acc: 0.9345\n",
      "Epoch 14/15\n",
      "612000/612000 [==============================] - 24s 39us/step - loss: 0.1786 - acc: 0.9386 - val_loss: 0.1970 - val_acc: 0.9351\n",
      "Epoch 15/15\n",
      "612000/612000 [==============================] - 22s 37us/step - loss: 0.1759 - acc: 0.9389 - val_loss: 0.1927 - val_acc: 0.9347\n"
     ]
    },
    {
     "data": {
      "text/plain": [
       "<keras.callbacks.History at 0x7fab046026d8>"
      ]
     },
     "execution_count": 12,
     "metadata": {},
     "output_type": "execute_result"
    }
   ],
   "source": [
    "parallel_model.fit(images, anwsers, batch_size=35000, epochs=15,\n",
    "                   validation_split=0.1)"
   ]
  },
  {
   "cell_type": "code",
   "execution_count": 13,
   "metadata": {},
   "outputs": [],
   "source": [
    "parallel_model.save_weights(\"CNN/CNN_v1/weights/cnn_v1_2_1e_5_30\")"
   ]
  },
  {
   "cell_type": "code",
   "execution_count": 13,
   "metadata": {},
   "outputs": [],
   "source": [
    "parallel_model.load_weights(\"CNN/CNN_v1/weights/cnn_v1_2_1e_5_30\")"
   ]
  },
  {
   "cell_type": "code",
   "execution_count": 15,
   "metadata": {},
   "outputs": [
    {
     "name": "stdout",
     "output_type": "stream",
     "text": [
      "Train on 612000 samples, validate on 68000 samples\n",
      "Epoch 1/15\n",
      "612000/612000 [==============================] - 34s 55us/step - loss: 0.1834 - acc: 0.9378 - val_loss: 0.1902 - val_acc: 0.9336\n",
      "Epoch 2/15\n",
      "612000/612000 [==============================] - 22s 36us/step - loss: 0.1746 - acc: 0.9386 - val_loss: 0.1889 - val_acc: 0.9353\n",
      "Epoch 3/15\n",
      "612000/612000 [==============================] - 22s 36us/step - loss: 0.1724 - acc: 0.9396 - val_loss: 0.1860 - val_acc: 0.9337\n",
      "Epoch 4/15\n",
      "612000/612000 [==============================] - 22s 36us/step - loss: 0.1690 - acc: 0.9399 - val_loss: 0.1814 - val_acc: 0.9362\n",
      "Epoch 5/15\n",
      "612000/612000 [==============================] - 22s 37us/step - loss: 0.1674 - acc: 0.9404 - val_loss: 0.1779 - val_acc: 0.9369\n",
      "Epoch 6/15\n",
      "612000/612000 [==============================] - 23s 37us/step - loss: 0.1646 - acc: 0.9409 - val_loss: 0.1735 - val_acc: 0.9376\n",
      "Epoch 7/15\n",
      "612000/612000 [==============================] - 23s 38us/step - loss: 0.1652 - acc: 0.9408 - val_loss: 0.1775 - val_acc: 0.9370\n",
      "Epoch 8/15\n",
      "612000/612000 [==============================] - 23s 37us/step - loss: 0.1635 - acc: 0.9410 - val_loss: 0.2570 - val_acc: 0.9386\n",
      "Epoch 9/15\n",
      "612000/612000 [==============================] - 23s 37us/step - loss: 0.1622 - acc: 0.9416 - val_loss: 0.1715 - val_acc: 0.9389\n",
      "Epoch 10/15\n",
      "612000/612000 [==============================] - 22s 36us/step - loss: 0.1603 - acc: 0.9420 - val_loss: 0.1857 - val_acc: 0.9364\n",
      "Epoch 11/15\n",
      "612000/612000 [==============================] - 22s 36us/step - loss: 0.1588 - acc: 0.9423 - val_loss: 0.2305 - val_acc: 0.9400\n",
      "Epoch 12/15\n",
      "612000/612000 [==============================] - 23s 37us/step - loss: 0.1586 - acc: 0.9422 - val_loss: 0.1665 - val_acc: 0.9409\n",
      "Epoch 13/15\n",
      "612000/612000 [==============================] - 23s 37us/step - loss: 0.1594 - acc: 0.9425 - val_loss: 0.1670 - val_acc: 0.9412\n",
      "Epoch 14/15\n",
      "612000/612000 [==============================] - 23s 37us/step - loss: 0.1574 - acc: 0.9427 - val_loss: 0.1730 - val_acc: 0.9390\n",
      "Epoch 15/15\n",
      "612000/612000 [==============================] - 23s 38us/step - loss: 0.1556 - acc: 0.9433 - val_loss: 0.1962 - val_acc: 0.9407\n"
     ]
    },
    {
     "data": {
      "text/plain": [
       "<keras.callbacks.History at 0x7fc5240e1908>"
      ]
     },
     "execution_count": 15,
     "metadata": {},
     "output_type": "execute_result"
    }
   ],
   "source": [
    "parallel_model.fit(images, anwsers, batch_size=35000, epochs=15,\n",
    "                   validation_split=0.1)"
   ]
  },
  {
   "cell_type": "code",
   "execution_count": 16,
   "metadata": {},
   "outputs": [
    {
     "name": "stdout",
     "output_type": "stream",
     "text": [
      "Train on 612000 samples, validate on 68000 samples\n",
      "Epoch 1/5\n",
      "612000/612000 [==============================] - 23s 37us/step - loss: 0.1553 - acc: 0.9435 - val_loss: 0.2086 - val_acc: 0.9359\n",
      "Epoch 2/5\n",
      "612000/612000 [==============================] - 22s 37us/step - loss: 0.1559 - acc: 0.9433 - val_loss: 0.2325 - val_acc: 0.9388\n",
      "Epoch 3/5\n",
      "612000/612000 [==============================] - 22s 36us/step - loss: 0.1536 - acc: 0.9439 - val_loss: 0.3192 - val_acc: 0.9390\n",
      "Epoch 4/5\n",
      "612000/612000 [==============================] - 23s 37us/step - loss: 0.1533 - acc: 0.9443 - val_loss: 0.1629 - val_acc: 0.9420\n",
      "Epoch 5/5\n",
      "612000/612000 [==============================] - 23s 38us/step - loss: 0.1513 - acc: 0.9445 - val_loss: 0.1841 - val_acc: 0.9393\n"
     ]
    },
    {
     "data": {
      "text/plain": [
       "<keras.callbacks.History at 0x7fc524086d68>"
      ]
     },
     "execution_count": 16,
     "metadata": {},
     "output_type": "execute_result"
    }
   ],
   "source": [
    "parallel_model.fit(images, anwsers, batch_size=35000, epochs=5,\n",
    "                   validation_split=0.1)"
   ]
  },
  {
   "cell_type": "code",
   "execution_count": 23,
   "metadata": {},
   "outputs": [],
   "source": [
    "parallel_model.save_weights(\"CNN/CNN_v1/weights/cnn_v1_2_1e_5_30\")"
   ]
  },
  {
   "cell_type": "code",
   "execution_count": 21,
   "metadata": {},
   "outputs": [],
   "source": [
    "parallel_model.load_weights(\"CNN/CNN_v1/weights/cnn_v1_2_1e_5_30\")"
   ]
  },
  {
   "cell_type": "code",
   "execution_count": 24,
   "metadata": {},
   "outputs": [
    {
     "name": "stdout",
     "output_type": "stream",
     "text": [
      "Train on 612000 samples, validate on 68000 samples\n",
      "Epoch 1/1\n",
      "612000/612000 [==============================] - 23s 37us/step - loss: 0.1468 - acc: 0.9462 - val_loss: 0.2221 - val_acc: 0.9349\n"
     ]
    },
    {
     "data": {
      "text/plain": [
       "<keras.callbacks.History at 0x7fc45870e668>"
      ]
     },
     "execution_count": 24,
     "metadata": {},
     "output_type": "execute_result"
    }
   ],
   "source": [
    "parallel_model.fit(images, anwsers, batch_size=35000, epochs=1,\n",
    "                   validation_split=0.1)"
   ]
  },
  {
   "cell_type": "code",
   "execution_count": 25,
   "metadata": {},
   "outputs": [
    {
     "name": "stdout",
     "output_type": "stream",
     "text": [
      "Train on 612000 samples, validate on 68000 samples\n",
      "Epoch 1/1\n",
      "612000/612000 [==============================] - 22s 37us/step - loss: 0.1710 - acc: 0.9397 - val_loss: 0.3066 - val_acc: 0.9329\n"
     ]
    },
    {
     "data": {
      "text/plain": [
       "<keras.callbacks.History at 0x7fc5240d0cf8>"
      ]
     },
     "execution_count": 25,
     "metadata": {},
     "output_type": "execute_result"
    }
   ],
   "source": [
    "parallel_model.fit(images, anwsers, batch_size=35000, epochs=1,\n",
    "                   validation_split=0.1)"
   ]
  },
  {
   "cell_type": "code",
   "execution_count": 26,
   "metadata": {},
   "outputs": [
    {
     "data": {
      "text/plain": [
       "<tf.Tensor 'Assign_38:0' shape=() dtype=float32_ref>"
      ]
     },
     "execution_count": 26,
     "metadata": {},
     "output_type": "execute_result"
    }
   ],
   "source": [
    "parallel_model.optimizer.lr.assign(1e-3)"
   ]
  },
  {
   "cell_type": "code",
   "execution_count": 27,
   "metadata": {},
   "outputs": [
    {
     "name": "stdout",
     "output_type": "stream",
     "text": [
      "Train on 612000 samples, validate on 68000 samples\n",
      "Epoch 1/1\n",
      "612000/612000 [==============================] - 24s 40us/step - loss: 0.1869 - acc: 0.9362 - val_loss: 1.1435 - val_acc: 0.0899\n"
     ]
    },
    {
     "data": {
      "text/plain": [
       "<keras.callbacks.History at 0x7fc458708ef0>"
      ]
     },
     "execution_count": 27,
     "metadata": {},
     "output_type": "execute_result"
    }
   ],
   "source": [
    "parallel_model.fit(images, anwsers, batch_size=35000, epochs=1,\n",
    "                   validation_split=0.1)"
   ]
  },
  {
   "cell_type": "code",
   "execution_count": 28,
   "metadata": {},
   "outputs": [
    {
     "name": "stdout",
     "output_type": "stream",
     "text": [
      "Train on 612000 samples, validate on 68000 samples\n",
      "Epoch 1/1\n",
      "612000/612000 [==============================] - 22s 36us/step - loss: 0.1632 - acc: 0.9415 - val_loss: 0.1824 - val_acc: 0.9375\n"
     ]
    },
    {
     "data": {
      "text/plain": [
       "<keras.callbacks.History at 0x7fc45870eba8>"
      ]
     },
     "execution_count": 28,
     "metadata": {},
     "output_type": "execute_result"
    }
   ],
   "source": [
    "parallel_model.fit(images, anwsers, batch_size=35000, epochs=1,\n",
    "                   validation_split=0.1)"
   ]
  },
  {
   "cell_type": "code",
   "execution_count": 29,
   "metadata": {},
   "outputs": [
    {
     "name": "stdout",
     "output_type": "stream",
     "text": [
      "Train on 612000 samples, validate on 68000 samples\n",
      "Epoch 1/1\n",
      "612000/612000 [==============================] - 23s 37us/step - loss: 0.1554 - acc: 0.9436 - val_loss: 0.1772 - val_acc: 0.9379\n"
     ]
    },
    {
     "data": {
      "text/plain": [
       "<keras.callbacks.History at 0x7fc45870cef0>"
      ]
     },
     "execution_count": 29,
     "metadata": {},
     "output_type": "execute_result"
    }
   ],
   "source": [
    "parallel_model.fit(images, anwsers, batch_size=35000, epochs=1,\n",
    "                   validation_split=0.1)"
   ]
  },
  {
   "cell_type": "code",
   "execution_count": 30,
   "metadata": {},
   "outputs": [
    {
     "name": "stdout",
     "output_type": "stream",
     "text": [
      "Train on 612000 samples, validate on 68000 samples\n",
      "Epoch 1/1\n",
      "612000/612000 [==============================] - 23s 38us/step - loss: 0.1527 - acc: 0.9442 - val_loss: 0.1773 - val_acc: 0.9410\n"
     ]
    },
    {
     "data": {
      "text/plain": [
       "<keras.callbacks.History at 0x7fc45870e630>"
      ]
     },
     "execution_count": 30,
     "metadata": {},
     "output_type": "execute_result"
    }
   ],
   "source": [
    "parallel_model.fit(images, anwsers, batch_size=35000, epochs=1,\n",
    "                   validation_split=0.1)"
   ]
  },
  {
   "cell_type": "code",
   "execution_count": 31,
   "metadata": {},
   "outputs": [],
   "source": [
    "parallel_model.save_weights(\"CNN/CNN_v1/weights/cnn_v1_2_1e_3_4\")"
   ]
  },
  {
   "cell_type": "code",
   "execution_count": 21,
   "metadata": {},
   "outputs": [],
   "source": [
    "parallel_model.load_weights(\"CNN/CNN_v1/weights/cnn_v1_2_1e_3_4\")"
   ]
  },
  {
   "cell_type": "code",
   "execution_count": 32,
   "metadata": {},
   "outputs": [
    {
     "name": "stdout",
     "output_type": "stream",
     "text": [
      "Train on 612000 samples, validate on 68000 samples\n",
      "Epoch 1/1\n",
      "612000/612000 [==============================] - 23s 38us/step - loss: 0.1504 - acc: 0.9449 - val_loss: 0.1653 - val_acc: 0.9403\n"
     ]
    },
    {
     "data": {
      "text/plain": [
       "<keras.callbacks.History at 0x7fc5240f4b38>"
      ]
     },
     "execution_count": 32,
     "metadata": {},
     "output_type": "execute_result"
    }
   ],
   "source": [
    "parallel_model.fit(images, anwsers, batch_size=35000, epochs=1,\n",
    "                   validation_split=0.1)"
   ]
  },
  {
   "cell_type": "code",
   "execution_count": 33,
   "metadata": {},
   "outputs": [],
   "source": [
    "parallel_model.save_weights(\"CNN/CNN_v1/weights/cnn_v1_2_1e_3_5\")"
   ]
  },
  {
   "cell_type": "code",
   "execution_count": 21,
   "metadata": {},
   "outputs": [],
   "source": [
    "parallel_model.load_weights(\"CNN/CNN_v1/weights/cnn_v1_2_1e_3_5\")"
   ]
  },
  {
   "cell_type": "code",
   "execution_count": 34,
   "metadata": {},
   "outputs": [
    {
     "name": "stdout",
     "output_type": "stream",
     "text": [
      "Train on 612000 samples, validate on 68000 samples\n",
      "Epoch 1/10\n",
      "612000/612000 [==============================] - 23s 38us/step - loss: 0.1486 - acc: 0.9456 - val_loss: 0.1723 - val_acc: 0.9387\n",
      "Epoch 2/10\n",
      "612000/612000 [==============================] - 23s 38us/step - loss: 0.1476 - acc: 0.9460 - val_loss: 0.1990 - val_acc: 0.9360\n",
      "Epoch 3/10\n",
      "612000/612000 [==============================] - 23s 37us/step - loss: 0.1507 - acc: 0.9452 - val_loss: 0.1907 - val_acc: 0.9408\n",
      "Epoch 4/10\n",
      "612000/612000 [==============================] - 22s 37us/step - loss: 0.1460 - acc: 0.9464 - val_loss: 0.1638 - val_acc: 0.9426\n",
      "Epoch 5/10\n",
      "612000/612000 [==============================] - 23s 37us/step - loss: 0.1460 - acc: 0.9463 - val_loss: 0.1791 - val_acc: 0.9392\n",
      "Epoch 6/10\n",
      "612000/612000 [==============================] - 23s 37us/step - loss: 0.1463 - acc: 0.9460 - val_loss: 0.2222 - val_acc: 0.9350\n",
      "Epoch 7/10\n",
      "612000/612000 [==============================] - 23s 38us/step - loss: 0.1448 - acc: 0.9464 - val_loss: 0.2559 - val_acc: 0.9331\n",
      "Epoch 8/10\n",
      "612000/612000 [==============================] - 22s 37us/step - loss: 0.1438 - acc: 0.9467 - val_loss: 0.1793 - val_acc: 0.9375\n",
      "Epoch 9/10\n",
      "612000/612000 [==============================] - 22s 36us/step - loss: 0.1450 - acc: 0.9469 - val_loss: 0.1799 - val_acc: 0.9403\n",
      "Epoch 10/10\n",
      "612000/612000 [==============================] - 22s 36us/step - loss: 0.1423 - acc: 0.9472 - val_loss: 0.1684 - val_acc: 0.9439\n"
     ]
    },
    {
     "data": {
      "text/plain": [
       "<keras.callbacks.History at 0x7fc458718860>"
      ]
     },
     "execution_count": 34,
     "metadata": {},
     "output_type": "execute_result"
    }
   ],
   "source": [
    "parallel_model.fit(images, anwsers, batch_size=35000, epochs=10,\n",
    "                   validation_split=0.1)"
   ]
  },
  {
   "cell_type": "code",
   "execution_count": 35,
   "metadata": {},
   "outputs": [],
   "source": [
    "parallel_model.save_weights(\"CNN/CNN_v1/weights/cnn_v1_2_1e_3_15\")"
   ]
  },
  {
   "cell_type": "code",
   "execution_count": 49,
   "metadata": {},
   "outputs": [],
   "source": [
    "parallel_model.load_weights(\"CNN/CNN_v1/weights/cnn_v1_2_1e_3_15\")"
   ]
  },
  {
   "cell_type": "code",
   "execution_count": 50,
   "metadata": {},
   "outputs": [
    {
     "name": "stdout",
     "output_type": "stream",
     "text": [
      "Train on 612000 samples, validate on 68000 samples\n",
      "Epoch 1/10\n",
      "612000/612000 [==============================] - 23s 38us/step - loss: 0.1428 - acc: 0.9474 - val_loss: 0.1556 - val_acc: 0.9407\n",
      "Epoch 2/10\n",
      "612000/612000 [==============================] - 23s 37us/step - loss: 0.1425 - acc: 0.9473 - val_loss: 0.1680 - val_acc: 0.9395\n",
      "Epoch 3/10\n",
      "612000/612000 [==============================] - 23s 38us/step - loss: 0.1423 - acc: 0.9473 - val_loss: 0.1753 - val_acc: 0.9397\n",
      "Epoch 4/10\n",
      "612000/612000 [==============================] - 22s 37us/step - loss: 0.1418 - acc: 0.9477 - val_loss: 0.1915 - val_acc: 0.9399\n",
      "Epoch 5/10\n",
      "612000/612000 [==============================] - 22s 37us/step - loss: 0.1434 - acc: 0.9474 - val_loss: 0.1859 - val_acc: 0.9415\n",
      "Epoch 6/10\n",
      "612000/612000 [==============================] - 23s 37us/step - loss: 0.1416 - acc: 0.9478 - val_loss: 0.1866 - val_acc: 0.9431\n",
      "Epoch 7/10\n",
      "612000/612000 [==============================] - 22s 36us/step - loss: 0.1527 - acc: 0.9446 - val_loss: 0.1722 - val_acc: 0.9429\n",
      "Epoch 8/10\n",
      "612000/612000 [==============================] - 22s 36us/step - loss: 0.1467 - acc: 0.9462 - val_loss: 0.1727 - val_acc: 0.9419\n",
      "Epoch 9/10\n",
      "612000/612000 [==============================] - 23s 37us/step - loss: 0.1404 - acc: 0.9481 - val_loss: 0.5025 - val_acc: 0.8663\n",
      "Epoch 10/10\n",
      "612000/612000 [==============================] - 23s 37us/step - loss: 0.1448 - acc: 0.9466 - val_loss: 0.1576 - val_acc: 0.9449\n"
     ]
    },
    {
     "data": {
      "text/plain": [
       "<keras.callbacks.History at 0x7fc4587248d0>"
      ]
     },
     "execution_count": 50,
     "metadata": {},
     "output_type": "execute_result"
    }
   ],
   "source": [
    "parallel_model.fit(images, anwsers, batch_size=35000, epochs=10,\n",
    "                   validation_split=0.1)"
   ]
  },
  {
   "cell_type": "code",
   "execution_count": 51,
   "metadata": {},
   "outputs": [],
   "source": [
    "parallel_model.save_weights(\"CNN/CNN_v1/weights/cnn_v1_2_1e_3_25\")"
   ]
  },
  {
   "cell_type": "code",
   "execution_count": 65,
   "metadata": {},
   "outputs": [],
   "source": [
    "parallel_model.load_weights(\"CNN/CNN_v1/weights/cnn_v1_2_1e_3_25\")"
   ]
  },
  {
   "cell_type": "code",
   "execution_count": 61,
   "metadata": {},
   "outputs": [
    {
     "data": {
      "text/plain": [
       "<tf.Tensor 'Assign_42:0' shape=() dtype=float32_ref>"
      ]
     },
     "execution_count": 61,
     "metadata": {},
     "output_type": "execute_result"
    }
   ],
   "source": [
    "parallel_model.optimizer.lr.assign(1e-6)"
   ]
  },
  {
   "cell_type": "code",
   "execution_count": 66,
   "metadata": {},
   "outputs": [
    {
     "name": "stdout",
     "output_type": "stream",
     "text": [
      "Train on 612000 samples, validate on 68000 samples\n",
      "Epoch 1/1\n",
      "612000/612000 [==============================] - 24s 39us/step - loss: 0.1429 - acc: 0.9475 - val_loss: 0.1862 - val_acc: 0.9369\n"
     ]
    },
    {
     "data": {
      "text/plain": [
       "<keras.callbacks.History at 0x7fc458724f28>"
      ]
     },
     "execution_count": 66,
     "metadata": {},
     "output_type": "execute_result"
    }
   ],
   "source": [
    "parallel_model.fit(images, anwsers, batch_size=35000, epochs=1,\n",
    "                   validation_split=0.1)"
   ]
  },
  {
   "cell_type": "code",
   "execution_count": 67,
   "metadata": {},
   "outputs": [
    {
     "name": "stdout",
     "output_type": "stream",
     "text": [
      "Train on 612000 samples, validate on 68000 samples\n",
      "Epoch 1/1\n",
      "612000/612000 [==============================] - 23s 38us/step - loss: 0.1429 - acc: 0.9474 - val_loss: 0.2334 - val_acc: 0.9421\n"
     ]
    },
    {
     "data": {
      "text/plain": [
       "<keras.callbacks.History at 0x7fc45870eac8>"
      ]
     },
     "execution_count": 67,
     "metadata": {},
     "output_type": "execute_result"
    }
   ],
   "source": [
    "parallel_model.fit(images, anwsers, batch_size=35000, epochs=1,\n",
    "                   validation_split=0.1)"
   ]
  },
  {
   "cell_type": "code",
   "execution_count": 68,
   "metadata": {},
   "outputs": [
    {
     "name": "stdout",
     "output_type": "stream",
     "text": [
      "Train on 612000 samples, validate on 68000 samples\n",
      "Epoch 1/1\n",
      "612000/612000 [==============================] - 23s 37us/step - loss: 0.1402 - acc: 0.9480 - val_loss: 0.1659 - val_acc: 0.9405\n"
     ]
    },
    {
     "data": {
      "text/plain": [
       "<keras.callbacks.History at 0x7fc474138a20>"
      ]
     },
     "execution_count": 68,
     "metadata": {},
     "output_type": "execute_result"
    }
   ],
   "source": [
    "parallel_model.fit(images, anwsers, batch_size=35000, epochs=1,\n",
    "                   validation_split=0.1)"
   ]
  },
  {
   "cell_type": "code",
   "execution_count": 69,
   "metadata": {},
   "outputs": [
    {
     "name": "stdout",
     "output_type": "stream",
     "text": [
      "Train on 612000 samples, validate on 68000 samples\n",
      "Epoch 1/1\n",
      "612000/612000 [==============================] - 22s 36us/step - loss: 0.1388 - acc: 0.9482 - val_loss: 0.1536 - val_acc: 0.9439\n"
     ]
    },
    {
     "data": {
      "text/plain": [
       "<keras.callbacks.History at 0x7fc458724d68>"
      ]
     },
     "execution_count": 69,
     "metadata": {},
     "output_type": "execute_result"
    }
   ],
   "source": [
    "parallel_model.fit(images, anwsers, batch_size=35000, epochs=1,\n",
    "                   validation_split=0.1)"
   ]
  },
  {
   "cell_type": "code",
   "execution_count": 70,
   "metadata": {},
   "outputs": [
    {
     "name": "stdout",
     "output_type": "stream",
     "text": [
      "Train on 612000 samples, validate on 68000 samples\n",
      "Epoch 1/1\n",
      "612000/612000 [==============================] - 23s 37us/step - loss: 0.1395 - acc: 0.9486 - val_loss: 0.1518 - val_acc: 0.9445\n"
     ]
    },
    {
     "data": {
      "text/plain": [
       "<keras.callbacks.History at 0x7fc4587240f0>"
      ]
     },
     "execution_count": 70,
     "metadata": {},
     "output_type": "execute_result"
    }
   ],
   "source": [
    "parallel_model.fit(images, anwsers, batch_size=35000, epochs=1,\n",
    "                   validation_split=0.1)"
   ]
  },
  {
   "cell_type": "code",
   "execution_count": 71,
   "metadata": {},
   "outputs": [],
   "source": [
    "parallel_model.save_weights(\"CNN/CNN_v1/weights/cnn_v1_2_1e_6_5\")"
   ]
  },
  {
   "cell_type": "code",
   "execution_count": 92,
   "metadata": {},
   "outputs": [],
   "source": [
    "parallel_model.load_weights(\"CNN/CNN_v1/weights/cnn_v1_2_1e_6_5\")"
   ]
  },
  {
   "cell_type": "code",
   "execution_count": 93,
   "metadata": {},
   "outputs": [],
   "source": [
    "filepath = \"CNN/CNN_v1/weights/cnn_v1_2_1e_6-next{epoch:02d}-{val_acc:.2f}.hdf5\"\n",
    "checkpoint = keras.callbacks.ModelCheckpoint(filepath, monitor='val_acc', verbose=1, save_best_only=True, mode='max')\n",
    "callbacks = [checkpoint]"
   ]
  },
  {
   "cell_type": "code",
   "execution_count": 94,
   "metadata": {},
   "outputs": [
    {
     "name": "stdout",
     "output_type": "stream",
     "text": [
      "Train on 612000 samples, validate on 68000 samples\n",
      "Epoch 1/30\n",
      "612000/612000 [==============================] - 22s 36us/step - loss: 0.1442 - acc: 0.9468 - val_loss: 0.2375 - val_acc: 0.9315\n",
      "\n",
      "Epoch 00001: val_acc improved from -inf to 0.93147, saving model to cnn_v1_2_1e_6-next01-0.93.hdf5\n",
      "Epoch 2/30\n",
      "612000/612000 [==============================] - 23s 38us/step - loss: 0.1382 - acc: 0.9487 - val_loss: 0.2688 - val_acc: 0.9349\n",
      "\n",
      "Epoch 00002: val_acc improved from 0.93147 to 0.93491, saving model to cnn_v1_2_1e_6-next02-0.93.hdf5\n",
      "Epoch 3/30\n",
      "612000/612000 [==============================] - 22s 37us/step - loss: 0.1373 - acc: 0.9491 - val_loss: 0.2509 - val_acc: 0.9364\n",
      "\n",
      "Epoch 00003: val_acc improved from 0.93491 to 0.93638, saving model to cnn_v1_2_1e_6-next03-0.94.hdf5\n",
      "Epoch 4/30\n",
      "612000/612000 [==============================] - 23s 38us/step - loss: 0.1378 - acc: 0.9489 - val_loss: 0.3581 - val_acc: 0.9381\n",
      "\n",
      "Epoch 00004: val_acc improved from 0.93638 to 0.93807, saving model to cnn_v1_2_1e_6-next04-0.94.hdf5\n",
      "Epoch 5/30\n",
      "612000/612000 [==============================] - 23s 38us/step - loss: 0.1371 - acc: 0.9488 - val_loss: 0.3110 - val_acc: 0.9403\n",
      "\n",
      "Epoch 00005: val_acc improved from 0.93807 to 0.94026, saving model to cnn_v1_2_1e_6-next05-0.94.hdf5\n",
      "Epoch 6/30\n",
      "612000/612000 [==============================] - 22s 36us/step - loss: 0.1381 - acc: 0.9487 - val_loss: 0.2537 - val_acc: 0.9378\n",
      "\n",
      "Epoch 00006: val_acc did not improve from 0.94026\n",
      "Epoch 7/30\n",
      "612000/612000 [==============================] - 23s 37us/step - loss: 0.1360 - acc: 0.9490 - val_loss: 0.1984 - val_acc: 0.9384\n",
      "\n",
      "Epoch 00007: val_acc did not improve from 0.94026\n",
      "Epoch 8/30\n",
      "612000/612000 [==============================] - 23s 38us/step - loss: 0.1357 - acc: 0.9495 - val_loss: 0.1783 - val_acc: 0.9374\n",
      "\n",
      "Epoch 00008: val_acc did not improve from 0.94026\n",
      "Epoch 9/30\n",
      "612000/612000 [==============================] - 23s 38us/step - loss: 0.1352 - acc: 0.9497 - val_loss: 0.1751 - val_acc: 0.9358\n",
      "\n",
      "Epoch 00009: val_acc did not improve from 0.94026\n",
      "Epoch 10/30\n",
      "612000/612000 [==============================] - 23s 38us/step - loss: 0.1356 - acc: 0.9491 - val_loss: 0.1870 - val_acc: 0.9397\n",
      "\n",
      "Epoch 00010: val_acc did not improve from 0.94026\n",
      "Epoch 11/30\n",
      "612000/612000 [==============================] - 23s 38us/step - loss: 0.1346 - acc: 0.9497 - val_loss: 0.1630 - val_acc: 0.9384\n",
      "\n",
      "Epoch 00011: val_acc did not improve from 0.94026\n",
      "Epoch 12/30\n",
      "612000/612000 [==============================] - 23s 37us/step - loss: 0.1371 - acc: 0.9489 - val_loss: 0.2173 - val_acc: 0.9412\n",
      "\n",
      "Epoch 00012: val_acc improved from 0.94026 to 0.94125, saving model to cnn_v1_2_1e_6-next12-0.94.hdf5\n",
      "Epoch 13/30\n",
      "612000/612000 [==============================] - 22s 37us/step - loss: 0.1363 - acc: 0.9489 - val_loss: 0.1707 - val_acc: 0.9409\n",
      "\n",
      "Epoch 00013: val_acc did not improve from 0.94125\n",
      "Epoch 14/30\n",
      "612000/612000 [==============================] - 23s 38us/step - loss: 0.1356 - acc: 0.9496 - val_loss: 0.2885 - val_acc: 0.9426\n",
      "\n",
      "Epoch 00014: val_acc improved from 0.94125 to 0.94262, saving model to cnn_v1_2_1e_6-next14-0.94.hdf5\n",
      "Epoch 15/30\n",
      "612000/612000 [==============================] - 23s 38us/step - loss: 0.1358 - acc: 0.9490 - val_loss: 0.1655 - val_acc: 0.9398\n",
      "\n",
      "Epoch 00015: val_acc did not improve from 0.94262\n",
      "Epoch 16/30\n",
      "612000/612000 [==============================] - 23s 37us/step - loss: 0.1346 - acc: 0.9498 - val_loss: 0.1564 - val_acc: 0.9431\n",
      "\n",
      "Epoch 00016: val_acc improved from 0.94262 to 0.94312, saving model to cnn_v1_2_1e_6-next16-0.94.hdf5\n",
      "Epoch 17/30\n",
      "612000/612000 [==============================] - 23s 37us/step - loss: 0.1388 - acc: 0.9483 - val_loss: 0.1839 - val_acc: 0.9389\n",
      "\n",
      "Epoch 00017: val_acc did not improve from 0.94312\n",
      "Epoch 18/30\n",
      "612000/612000 [==============================] - 22s 37us/step - loss: 0.1351 - acc: 0.9495 - val_loss: 0.1606 - val_acc: 0.9461\n",
      "\n",
      "Epoch 00018: val_acc improved from 0.94312 to 0.94609, saving model to cnn_v1_2_1e_6-next18-0.95.hdf5\n",
      "Epoch 19/30\n",
      "612000/612000 [==============================] - 23s 37us/step - loss: 0.1447 - acc: 0.9467 - val_loss: 0.1865 - val_acc: 0.9417\n",
      "\n",
      "Epoch 00019: val_acc did not improve from 0.94609\n",
      "Epoch 20/30\n",
      "612000/612000 [==============================] - 23s 38us/step - loss: 0.1401 - acc: 0.9482 - val_loss: 0.1896 - val_acc: 0.9403\n",
      "\n",
      "Epoch 00020: val_acc did not improve from 0.94609\n",
      "Epoch 21/30\n",
      "612000/612000 [==============================] - 23s 38us/step - loss: 0.1355 - acc: 0.9495 - val_loss: 0.1659 - val_acc: 0.9456\n",
      "\n",
      "Epoch 00021: val_acc did not improve from 0.94609\n",
      "Epoch 22/30\n",
      "612000/612000 [==============================] - 22s 37us/step - loss: 0.1343 - acc: 0.9499 - val_loss: 0.1888 - val_acc: 0.9442\n",
      "\n",
      "Epoch 00022: val_acc did not improve from 0.94609\n",
      "Epoch 23/30\n",
      "612000/612000 [==============================] - 22s 37us/step - loss: 0.1342 - acc: 0.9499 - val_loss: 0.1510 - val_acc: 0.9461\n",
      "\n",
      "Epoch 00023: val_acc did not improve from 0.94609\n",
      "Epoch 24/30\n",
      "612000/612000 [==============================] - 22s 37us/step - loss: 0.1333 - acc: 0.9499 - val_loss: 0.4627 - val_acc: 0.9147\n",
      "\n",
      "Epoch 00024: val_acc did not improve from 0.94609\n",
      "Epoch 25/30\n",
      "612000/612000 [==============================] - 23s 38us/step - loss: 0.1346 - acc: 0.9501 - val_loss: 0.1677 - val_acc: 0.9421\n",
      "\n",
      "Epoch 00025: val_acc did not improve from 0.94609\n",
      "Epoch 26/30\n",
      "612000/612000 [==============================] - 22s 36us/step - loss: 0.1343 - acc: 0.9497 - val_loss: 0.1859 - val_acc: 0.9395\n",
      "\n",
      "Epoch 00026: val_acc did not improve from 0.94609\n",
      "Epoch 27/30\n",
      "612000/612000 [==============================] - 23s 38us/step - loss: 0.1341 - acc: 0.9500 - val_loss: 0.1573 - val_acc: 0.9435\n",
      "\n",
      "Epoch 00027: val_acc did not improve from 0.94609\n",
      "Epoch 28/30\n",
      "612000/612000 [==============================] - 24s 40us/step - loss: 0.1336 - acc: 0.9503 - val_loss: 0.1745 - val_acc: 0.9410\n",
      "\n",
      "Epoch 00028: val_acc did not improve from 0.94609\n",
      "Epoch 29/30\n",
      "612000/612000 [==============================] - 25s 41us/step - loss: 0.1344 - acc: 0.9498 - val_loss: 0.1543 - val_acc: 0.9442\n",
      "\n",
      "Epoch 00029: val_acc did not improve from 0.94609\n",
      "Epoch 30/30\n",
      "612000/612000 [==============================] - 23s 38us/step - loss: 0.1331 - acc: 0.9500 - val_loss: 0.1685 - val_acc: 0.9450\n",
      "\n",
      "Epoch 00030: val_acc did not improve from 0.94609\n"
     ]
    },
    {
     "data": {
      "text/plain": [
       "<keras.callbacks.History at 0x7fc458739d68>"
      ]
     },
     "execution_count": 94,
     "metadata": {},
     "output_type": "execute_result"
    }
   ],
   "source": [
    "parallel_model.fit(images, anwsers, batch_size=35000, epochs=30,\n",
    "                   validation_split=0.1, callbacks=callbacks)"
   ]
  }
 ],
 "metadata": {
  "kernelspec": {
   "display_name": "Python 3",
   "language": "python",
   "name": "python3"
  },
  "language_info": {
   "codemirror_mode": {
    "name": "ipython",
    "version": 3
   },
   "file_extension": ".py",
   "mimetype": "text/x-python",
   "name": "python",
   "nbconvert_exporter": "python",
   "pygments_lexer": "ipython3",
   "version": "3.6.6"
  }
 },
 "nbformat": 4,
 "nbformat_minor": 2
}
