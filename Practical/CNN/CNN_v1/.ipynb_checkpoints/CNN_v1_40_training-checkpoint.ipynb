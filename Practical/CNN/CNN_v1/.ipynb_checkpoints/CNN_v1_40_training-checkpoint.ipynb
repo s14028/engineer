{
 "cells": [
  {
   "cell_type": "code",
   "execution_count": 1,
   "metadata": {},
   "outputs": [
    {
     "name": "stdout",
     "output_type": "stream",
     "text": [
      "/home/PJWSTK/s14028/Engine\n"
     ]
    }
   ],
   "source": [
    "%cd ../../"
   ]
  },
  {
   "cell_type": "code",
   "execution_count": 1,
   "metadata": {},
   "outputs": [
    {
     "name": "stderr",
     "output_type": "stream",
     "text": [
      "Using TensorFlow backend.\n"
     ]
    }
   ],
   "source": [
    "import keras\n",
    "\n",
    "from common import *\n",
    "\n",
    "from CNN.CNN_v1 import CNN_v1"
   ]
  },
  {
   "cell_type": "code",
   "execution_count": 2,
   "metadata": {},
   "outputs": [],
   "source": [
    "train, test = data_sets()\n",
    "image_tensors = train[0], test[0]\n",
    "person_coo_tensors = train[1], test[1]\n",
    "count_matrix = train[2], test[2]\n",
    "\n",
    "image_train, image_test = image_tensors\n",
    "person_coo_train, person_coo_test = person_coo_tensors\n",
    "count_train, count_test = count_matrix\n",
    "count_train = count_train.astype(np.uint16)\n",
    "count_test = count_test.astype(np.uint16)"
   ]
  },
  {
   "cell_type": "code",
   "execution_count": 3,
   "metadata": {},
   "outputs": [
    {
     "data": {
      "text/plain": [
       "<keras.engine.sequential.Sequential at 0x7f274d8fb6a0>"
      ]
     },
     "execution_count": 3,
     "metadata": {},
     "output_type": "execute_result"
    }
   ],
   "source": [
    "cnn_v1 = CNN_v1((480, 640, 3), split_into_parts=40)\n",
    "cnn_v1.def_model()"
   ]
  },
  {
   "cell_type": "code",
   "execution_count": 4,
   "metadata": {},
   "outputs": [],
   "source": [
    "images = cnn_v1._prepare_images(image_train)\n",
    "anwsers = cnn_v1._prepare_anwsers(person_coo_train)"
   ]
  },
  {
   "cell_type": "code",
   "execution_count": 5,
   "metadata": {},
   "outputs": [
    {
     "name": "stdout",
     "output_type": "stream",
     "text": [
      "Epoch 1/1\n",
      "1/1 [==============================] - 2s 2s/step - loss: 0.6934 - acc: 1.0000\n"
     ]
    }
   ],
   "source": [
    "history = cnn_v1.model.fit(images[:1], anwsers[:1])"
   ]
  },
  {
   "cell_type": "code",
   "execution_count": 6,
   "metadata": {},
   "outputs": [],
   "source": [
    "parallel_model = keras.utils.multi_gpu_model(\n",
    "        cnn_v1.model,\n",
    "        gpus=3,\n",
    "        cpu_merge=False)\n",
    "parallel_model.compile(\n",
    "        loss=\"binary_crossentropy\", \n",
    "        optimizer=\"adam\", \n",
    "        metrics=[\"accuracy\"])"
   ]
  },
  {
   "cell_type": "code",
   "execution_count": 7,
   "metadata": {},
   "outputs": [
    {
     "data": {
      "text/plain": [
       "<tf.Tensor 'Assign:0' shape=() dtype=float32_ref>"
      ]
     },
     "execution_count": 7,
     "metadata": {},
     "output_type": "execute_result"
    }
   ],
   "source": [
    "parallel_model.optimizer.lr.assign(1e-0)"
   ]
  },
  {
   "cell_type": "code",
   "execution_count": 8,
   "metadata": {},
   "outputs": [
    {
     "name": "stdout",
     "output_type": "stream",
     "text": [
      "Train on 2448000 samples, validate on 272000 samples\n",
      "Epoch 1/100\n",
      "2448000/2448000 [==============================] - 34s 14us/step - loss: 3.3314 - acc: 0.6483 - val_loss: 1.1937 - val_acc: 0.9806\n",
      "Epoch 2/100\n",
      "2448000/2448000 [==============================] - 27s 11us/step - loss: 1.0021 - acc: 0.9560 - val_loss: 0.5706 - val_acc: 0.9809\n",
      "Epoch 3/100\n",
      "2448000/2448000 [==============================] - 27s 11us/step - loss: 0.5024 - acc: 0.9772 - val_loss: 0.3409 - val_acc: 0.9809\n",
      "Epoch 4/100\n",
      "2448000/2448000 [==============================] - 27s 11us/step - loss: 0.2787 - acc: 0.9795 - val_loss: 0.2996 - val_acc: 0.9809\n",
      "Epoch 5/100\n",
      "2448000/2448000 [==============================] - 27s 11us/step - loss: 0.1803 - acc: 0.9802 - val_loss: 0.3394 - val_acc: 0.9809\n",
      "Epoch 6/100\n",
      "2448000/2448000 [==============================] - 27s 11us/step - loss: 0.1381 - acc: 0.9805 - val_loss: 0.1504 - val_acc: 0.9809\n",
      "Epoch 7/100\n",
      "2448000/2448000 [==============================] - 27s 11us/step - loss: 0.1183 - acc: 0.9808 - val_loss: 0.1216 - val_acc: 0.9809\n",
      "Epoch 8/100\n",
      "2448000/2448000 [==============================] - 27s 11us/step - loss: 0.1077 - acc: 0.9809 - val_loss: 0.1148 - val_acc: 0.9809\n",
      "Epoch 9/100\n",
      "2448000/2448000 [==============================] - 27s 11us/step - loss: 0.1019 - acc: 0.9810 - val_loss: 0.1067 - val_acc: 0.9809\n",
      "Epoch 10/100\n",
      "2448000/2448000 [==============================] - 27s 11us/step - loss: 0.0985 - acc: 0.9811 - val_loss: 0.1014 - val_acc: 0.9809\n",
      "Epoch 11/100\n",
      "2448000/2448000 [==============================] - 27s 11us/step - loss: 0.0964 - acc: 0.9811 - val_loss: 0.0975 - val_acc: 0.9809\n",
      "Epoch 12/100\n",
      "2448000/2448000 [==============================] - 27s 11us/step - loss: 0.0950 - acc: 0.9811 - val_loss: 0.0953 - val_acc: 0.9810\n",
      "Epoch 13/100\n",
      "2448000/2448000 [==============================] - 27s 11us/step - loss: 0.0941 - acc: 0.9811 - val_loss: 0.0943 - val_acc: 0.9810\n",
      "Epoch 14/100\n",
      "2448000/2448000 [==============================] - 27s 11us/step - loss: 0.0932 - acc: 0.9812 - val_loss: 0.0936 - val_acc: 0.9810\n",
      "Epoch 15/100\n",
      "2448000/2448000 [==============================] - 27s 11us/step - loss: 0.0925 - acc: 0.9812 - val_loss: 0.0936 - val_acc: 0.9813\n",
      "Epoch 16/100\n",
      "2448000/2448000 [==============================] - 26s 11us/step - loss: 0.0911 - acc: 0.9812 - val_loss: 0.0907 - val_acc: 0.9810\n",
      "Epoch 17/100\n",
      "2448000/2448000 [==============================] - 26s 11us/step - loss: 0.0874 - acc: 0.9812 - val_loss: 0.0918 - val_acc: 0.9810\n",
      "Epoch 18/100\n",
      "2448000/2448000 [==============================] - 27s 11us/step - loss: 0.0833 - acc: 0.9812 - val_loss: 0.0815 - val_acc: 0.9810\n",
      "Epoch 19/100\n",
      "2448000/2448000 [==============================] - 26s 11us/step - loss: 0.0785 - acc: 0.9812 - val_loss: 0.0776 - val_acc: 0.9811\n",
      "Epoch 20/100\n",
      "2448000/2448000 [==============================] - 27s 11us/step - loss: 0.0758 - acc: 0.9812 - val_loss: 0.0764 - val_acc: 0.9809\n",
      "Epoch 21/100\n",
      "2448000/2448000 [==============================] - 27s 11us/step - loss: 0.0738 - acc: 0.9812 - val_loss: 0.0733 - val_acc: 0.9810\n",
      "Epoch 22/100\n",
      "2448000/2448000 [==============================] - 26s 11us/step - loss: 0.0722 - acc: 0.9812 - val_loss: 0.0732 - val_acc: 0.9810\n",
      "Epoch 23/100\n",
      "2448000/2448000 [==============================] - 27s 11us/step - loss: 0.0707 - acc: 0.9812 - val_loss: 0.0714 - val_acc: 0.9809\n",
      "Epoch 24/100\n",
      "2448000/2448000 [==============================] - 27s 11us/step - loss: 0.0694 - acc: 0.9812 - val_loss: 0.0711 - val_acc: 0.9809\n",
      "Epoch 25/100\n",
      "2448000/2448000 [==============================] - 27s 11us/step - loss: 0.0685 - acc: 0.9812 - val_loss: 0.0708 - val_acc: 0.9809\n",
      "Epoch 26/100\n",
      "2448000/2448000 [==============================] - 27s 11us/step - loss: 0.0679 - acc: 0.9812 - val_loss: 0.0689 - val_acc: 0.9809\n",
      "Epoch 27/100\n",
      "2448000/2448000 [==============================] - 27s 11us/step - loss: 0.0674 - acc: 0.9812 - val_loss: 0.0677 - val_acc: 0.9810\n",
      "Epoch 28/100\n",
      "2448000/2448000 [==============================] - 27s 11us/step - loss: 0.0669 - acc: 0.9812 - val_loss: 0.0685 - val_acc: 0.9810\n",
      "Epoch 29/100\n",
      "2448000/2448000 [==============================] - 27s 11us/step - loss: 0.0667 - acc: 0.9812 - val_loss: 0.0670 - val_acc: 0.9810\n",
      "Epoch 30/100\n",
      "2448000/2448000 [==============================] - 27s 11us/step - loss: 0.0663 - acc: 0.9812 - val_loss: 0.0662 - val_acc: 0.9812\n",
      "Epoch 31/100\n",
      "2448000/2448000 [==============================] - 27s 11us/step - loss: 0.0657 - acc: 0.9812 - val_loss: 0.0694 - val_acc: 0.9811\n",
      "Epoch 32/100\n",
      "2448000/2448000 [==============================] - 27s 11us/step - loss: 0.0653 - acc: 0.9812 - val_loss: 0.0707 - val_acc: 0.9810\n",
      "Epoch 33/100\n",
      "2448000/2448000 [==============================] - 27s 11us/step - loss: 0.0649 - acc: 0.9813 - val_loss: 0.0658 - val_acc: 0.9812\n",
      "Epoch 34/100\n",
      "2448000/2448000 [==============================] - 27s 11us/step - loss: 0.0646 - acc: 0.9813 - val_loss: 0.0666 - val_acc: 0.9812\n",
      "Epoch 35/100\n",
      "2448000/2448000 [==============================] - 27s 11us/step - loss: 0.0647 - acc: 0.9813 - val_loss: 0.0651 - val_acc: 0.9812\n",
      "Epoch 36/100\n",
      "2448000/2448000 [==============================] - 27s 11us/step - loss: 0.0644 - acc: 0.9813 - val_loss: 0.0651 - val_acc: 0.9812\n",
      "Epoch 37/100\n",
      "2448000/2448000 [==============================] - 28s 11us/step - loss: 0.0642 - acc: 0.9813 - val_loss: 0.0645 - val_acc: 0.9812\n",
      "Epoch 38/100\n",
      "2448000/2448000 [==============================] - 27s 11us/step - loss: 0.0641 - acc: 0.9813 - val_loss: 0.0657 - val_acc: 0.9811\n",
      "Epoch 39/100\n",
      "2448000/2448000 [==============================] - 27s 11us/step - loss: 0.0641 - acc: 0.9813 - val_loss: 0.0648 - val_acc: 0.9811\n",
      "Epoch 40/100\n",
      "2448000/2448000 [==============================] - 27s 11us/step - loss: 0.0636 - acc: 0.9814 - val_loss: 0.0646 - val_acc: 0.9812\n",
      "Epoch 41/100\n",
      "2448000/2448000 [==============================] - 27s 11us/step - loss: 0.0633 - acc: 0.9814 - val_loss: 0.1283 - val_acc: 0.9811\n",
      "Epoch 42/100\n",
      "2448000/2448000 [==============================] - 27s 11us/step - loss: 0.0635 - acc: 0.9814 - val_loss: 0.0635 - val_acc: 0.9812\n",
      "Epoch 43/100\n",
      "2448000/2448000 [==============================] - 27s 11us/step - loss: 0.0629 - acc: 0.9814 - val_loss: 0.0638 - val_acc: 0.9812\n",
      "Epoch 44/100\n",
      "2448000/2448000 [==============================] - 27s 11us/step - loss: 0.0625 - acc: 0.9815 - val_loss: 0.0638 - val_acc: 0.9812\n",
      "Epoch 45/100\n",
      "2448000/2448000 [==============================] - 27s 11us/step - loss: 0.0624 - acc: 0.9815 - val_loss: 0.0632 - val_acc: 0.9813\n",
      "Epoch 46/100\n",
      "2448000/2448000 [==============================] - 27s 11us/step - loss: 0.0623 - acc: 0.9815 - val_loss: 0.0646 - val_acc: 0.9813\n",
      "Epoch 47/100\n",
      "2448000/2448000 [==============================] - 27s 11us/step - loss: 0.0622 - acc: 0.9815 - val_loss: 0.0632 - val_acc: 0.9813\n",
      "Epoch 48/100\n",
      "2448000/2448000 [==============================] - 27s 11us/step - loss: 0.0622 - acc: 0.9815 - val_loss: 0.0667 - val_acc: 0.9813\n",
      "Epoch 49/100\n",
      "2448000/2448000 [==============================] - 28s 11us/step - loss: 0.0619 - acc: 0.9815 - val_loss: 0.0671 - val_acc: 0.9813\n",
      "Epoch 50/100\n",
      "2448000/2448000 [==============================] - 27s 11us/step - loss: 0.0621 - acc: 0.9815 - val_loss: 0.0675 - val_acc: 0.9811\n",
      "Epoch 51/100\n",
      "2448000/2448000 [==============================] - 27s 11us/step - loss: 0.0614 - acc: 0.9816 - val_loss: 0.0628 - val_acc: 0.9812\n",
      "Epoch 52/100\n",
      "2448000/2448000 [==============================] - 27s 11us/step - loss: 0.0615 - acc: 0.9816 - val_loss: 0.0638 - val_acc: 0.9814\n",
      "Epoch 53/100\n",
      "2448000/2448000 [==============================] - 27s 11us/step - loss: 0.0613 - acc: 0.9816 - val_loss: 0.0640 - val_acc: 0.9812\n",
      "Epoch 54/100\n",
      "2448000/2448000 [==============================] - 27s 11us/step - loss: 0.0613 - acc: 0.9816 - val_loss: 0.0623 - val_acc: 0.9814\n",
      "Epoch 55/100\n",
      "2448000/2448000 [==============================] - 27s 11us/step - loss: 0.0611 - acc: 0.9816 - val_loss: 0.0626 - val_acc: 0.9813\n",
      "Epoch 56/100\n",
      "2448000/2448000 [==============================] - 27s 11us/step - loss: 0.0608 - acc: 0.9816 - val_loss: 0.0629 - val_acc: 0.9814\n",
      "Epoch 57/100\n",
      "2448000/2448000 [==============================] - 27s 11us/step - loss: 0.0611 - acc: 0.9816 - val_loss: 0.0616 - val_acc: 0.9813\n",
      "Epoch 58/100\n",
      "2448000/2448000 [==============================] - 27s 11us/step - loss: 0.0607 - acc: 0.9816 - val_loss: 0.0637 - val_acc: 0.9813\n",
      "Epoch 59/100\n",
      "2448000/2448000 [==============================] - 27s 11us/step - loss: 0.0604 - acc: 0.9816 - val_loss: 0.0644 - val_acc: 0.9814\n",
      "Epoch 60/100\n",
      "2448000/2448000 [==============================] - 27s 11us/step - loss: 0.0606 - acc: 0.9816 - val_loss: 0.0612 - val_acc: 0.9814\n",
      "Epoch 61/100\n",
      "2448000/2448000 [==============================] - 26s 11us/step - loss: 0.0604 - acc: 0.9817 - val_loss: 0.0622 - val_acc: 0.9813\n",
      "Epoch 62/100\n",
      "2448000/2448000 [==============================] - 27s 11us/step - loss: 0.0606 - acc: 0.9817 - val_loss: 0.0648 - val_acc: 0.9813\n",
      "Epoch 63/100\n",
      "2448000/2448000 [==============================] - 27s 11us/step - loss: 0.0605 - acc: 0.9816 - val_loss: 0.0620 - val_acc: 0.9815\n",
      "Epoch 64/100\n",
      "2448000/2448000 [==============================] - 27s 11us/step - loss: 0.0603 - acc: 0.9816 - val_loss: 0.0635 - val_acc: 0.9813\n",
      "Epoch 65/100\n",
      "2448000/2448000 [==============================] - 27s 11us/step - loss: 0.0603 - acc: 0.9817 - val_loss: 0.0616 - val_acc: 0.9815\n",
      "Epoch 66/100\n",
      "2448000/2448000 [==============================] - 27s 11us/step - loss: 0.0601 - acc: 0.9817 - val_loss: 0.0615 - val_acc: 0.9814\n",
      "Epoch 67/100\n",
      "2448000/2448000 [==============================] - 27s 11us/step - loss: 0.0599 - acc: 0.9817 - val_loss: 0.0618 - val_acc: 0.9814\n",
      "Epoch 68/100\n",
      "2448000/2448000 [==============================] - 28s 11us/step - loss: 0.0599 - acc: 0.9817 - val_loss: 0.0622 - val_acc: 0.9814\n",
      "Epoch 69/100\n",
      "2448000/2448000 [==============================] - 27s 11us/step - loss: 0.0596 - acc: 0.9818 - val_loss: 0.0615 - val_acc: 0.9815\n",
      "Epoch 70/100\n",
      "2448000/2448000 [==============================] - 27s 11us/step - loss: 0.0599 - acc: 0.9818 - val_loss: 0.0700 - val_acc: 0.9813\n",
      "Epoch 71/100\n",
      "2448000/2448000 [==============================] - 27s 11us/step - loss: 0.0594 - acc: 0.9818 - val_loss: 0.0617 - val_acc: 0.9814\n",
      "Epoch 72/100\n",
      "2448000/2448000 [==============================] - 26s 11us/step - loss: 0.0595 - acc: 0.9818 - val_loss: 0.0642 - val_acc: 0.9814\n",
      "Epoch 73/100\n",
      "2448000/2448000 [==============================] - 26s 11us/step - loss: 0.0594 - acc: 0.9818 - val_loss: 0.0619 - val_acc: 0.9814\n",
      "Epoch 74/100\n",
      "2448000/2448000 [==============================] - 27s 11us/step - loss: 0.0592 - acc: 0.9818 - val_loss: 0.0608 - val_acc: 0.9816\n",
      "Epoch 75/100\n",
      "2448000/2448000 [==============================] - 27s 11us/step - loss: 0.0592 - acc: 0.9819 - val_loss: 0.0636 - val_acc: 0.9815\n",
      "Epoch 76/100\n",
      "2448000/2448000 [==============================] - 27s 11us/step - loss: 0.0590 - acc: 0.9818 - val_loss: 0.0614 - val_acc: 0.9815\n",
      "Epoch 77/100\n",
      "2448000/2448000 [==============================] - 28s 11us/step - loss: 0.0590 - acc: 0.9818 - val_loss: 0.0612 - val_acc: 0.9816\n",
      "Epoch 78/100\n",
      "2448000/2448000 [==============================] - 27s 11us/step - loss: 0.0589 - acc: 0.9818 - val_loss: 0.0611 - val_acc: 0.9816\n",
      "Epoch 79/100\n",
      "2448000/2448000 [==============================] - 27s 11us/step - loss: 0.0588 - acc: 0.9818 - val_loss: 0.0612 - val_acc: 0.9815\n",
      "Epoch 80/100\n",
      "2448000/2448000 [==============================] - 27s 11us/step - loss: 0.0587 - acc: 0.9818 - val_loss: 0.0660 - val_acc: 0.9814\n",
      "Epoch 81/100\n",
      "2448000/2448000 [==============================] - 27s 11us/step - loss: 0.0587 - acc: 0.9818 - val_loss: 0.0632 - val_acc: 0.9814\n",
      "Epoch 82/100\n",
      "2448000/2448000 [==============================] - 27s 11us/step - loss: 0.0584 - acc: 0.9819 - val_loss: 0.0613 - val_acc: 0.9814\n",
      "Epoch 83/100\n",
      "2448000/2448000 [==============================] - 27s 11us/step - loss: 0.0584 - acc: 0.9819 - val_loss: 0.0604 - val_acc: 0.9815\n",
      "Epoch 84/100\n",
      "2448000/2448000 [==============================] - 27s 11us/step - loss: 0.0583 - acc: 0.9819 - val_loss: 0.0617 - val_acc: 0.9814\n",
      "Epoch 85/100\n",
      "2448000/2448000 [==============================] - 27s 11us/step - loss: 0.0583 - acc: 0.9819 - val_loss: 0.0627 - val_acc: 0.9813\n",
      "Epoch 86/100\n",
      "2448000/2448000 [==============================] - 26s 11us/step - loss: 0.0581 - acc: 0.9819 - val_loss: 0.0608 - val_acc: 0.9815\n",
      "Epoch 87/100\n",
      "2448000/2448000 [==============================] - 27s 11us/step - loss: 0.0581 - acc: 0.9819 - val_loss: 0.0609 - val_acc: 0.9814\n",
      "Epoch 88/100\n",
      "2448000/2448000 [==============================] - 28s 11us/step - loss: 0.0579 - acc: 0.9819 - val_loss: 0.0620 - val_acc: 0.9817\n",
      "Epoch 89/100\n",
      "2448000/2448000 [==============================] - 26s 11us/step - loss: 0.0578 - acc: 0.9820 - val_loss: 0.0649 - val_acc: 0.9814\n",
      "Epoch 90/100\n",
      "2448000/2448000 [==============================] - 27s 11us/step - loss: 0.0575 - acc: 0.9819 - val_loss: 0.0618 - val_acc: 0.9814\n",
      "Epoch 91/100\n",
      "2448000/2448000 [==============================] - 27s 11us/step - loss: 0.0574 - acc: 0.9819 - val_loss: 0.0600 - val_acc: 0.9814\n",
      "Epoch 92/100\n",
      "2448000/2448000 [==============================] - 27s 11us/step - loss: 0.0574 - acc: 0.9819 - val_loss: 0.0606 - val_acc: 0.9815\n",
      "Epoch 93/100\n",
      "2448000/2448000 [==============================] - 27s 11us/step - loss: 0.0572 - acc: 0.9820 - val_loss: 0.0608 - val_acc: 0.9815\n",
      "Epoch 94/100\n",
      "2448000/2448000 [==============================] - 27s 11us/step - loss: 0.0573 - acc: 0.9820 - val_loss: 0.0609 - val_acc: 0.9814\n",
      "Epoch 95/100\n",
      "2448000/2448000 [==============================] - 27s 11us/step - loss: 0.0572 - acc: 0.9820 - val_loss: 0.0598 - val_acc: 0.9815\n",
      "Epoch 96/100\n",
      "2448000/2448000 [==============================] - 27s 11us/step - loss: 0.0570 - acc: 0.9820 - val_loss: 0.0600 - val_acc: 0.9814\n",
      "Epoch 97/100\n",
      "2448000/2448000 [==============================] - 27s 11us/step - loss: 0.0569 - acc: 0.9820 - val_loss: 0.0598 - val_acc: 0.9814\n",
      "Epoch 98/100\n",
      "2448000/2448000 [==============================] - 27s 11us/step - loss: 0.0566 - acc: 0.9821 - val_loss: 0.0595 - val_acc: 0.9816\n",
      "Epoch 99/100\n",
      "2448000/2448000 [==============================] - 26s 11us/step - loss: 0.0568 - acc: 0.9820 - val_loss: 0.0609 - val_acc: 0.9814\n",
      "Epoch 100/100\n",
      "2448000/2448000 [==============================] - 26s 11us/step - loss: 0.0567 - acc: 0.9820 - val_loss: 0.0600 - val_acc: 0.9815\n"
     ]
    },
    {
     "data": {
      "text/plain": [
       "<keras.callbacks.History at 0x7f9e0201beb8>"
      ]
     },
     "execution_count": 8,
     "metadata": {},
     "output_type": "execute_result"
    }
   ],
   "source": [
    "parallel_model.fit(images, anwsers, batch_size=35000, epochs=100,\n",
    "                   validation_split=0.1)"
   ]
  },
  {
   "cell_type": "code",
   "execution_count": 10,
   "metadata": {},
   "outputs": [],
   "source": [
    "parallel_model.save_weights(\"CNN/CNN_v1/weights/cnn_v1_40_1e_0_100\")"
   ]
  },
  {
   "cell_type": "code",
   "execution_count": 11,
   "metadata": {},
   "outputs": [],
   "source": [
    "parallel_model.load_weights(\"CNN/CNN_v1/weights/cnn_v1_40_1e_0_100\")"
   ]
  },
  {
   "cell_type": "code",
   "execution_count": 7,
   "metadata": {},
   "outputs": [
    {
     "data": {
      "text/plain": [
       "<tf.Tensor 'Assign:0' shape=() dtype=float32_ref>"
      ]
     },
     "execution_count": 7,
     "metadata": {},
     "output_type": "execute_result"
    }
   ],
   "source": [
    "parallel_model.optimizer.lr.assign(1e-3)"
   ]
  },
  {
   "cell_type": "code",
   "execution_count": 12,
   "metadata": {},
   "outputs": [
    {
     "name": "stdout",
     "output_type": "stream",
     "text": [
      "Train on 2448000 samples, validate on 272000 samples\n",
      "Epoch 1/50\n",
      "2448000/2448000 [==============================] - 28s 11us/step - loss: 0.0568 - acc: 0.9820 - val_loss: 0.0604 - val_acc: 0.9813\n",
      "Epoch 2/50\n",
      "2448000/2448000 [==============================] - 28s 11us/step - loss: 0.0563 - acc: 0.9820 - val_loss: 0.0593 - val_acc: 0.9814\n",
      "Epoch 3/50\n",
      "2448000/2448000 [==============================] - 28s 11us/step - loss: 0.0564 - acc: 0.9821 - val_loss: 0.0592 - val_acc: 0.9814\n",
      "Epoch 4/50\n",
      "2448000/2448000 [==============================] - 28s 11us/step - loss: 0.0564 - acc: 0.9821 - val_loss: 0.0594 - val_acc: 0.9814\n",
      "Epoch 5/50\n",
      "2448000/2448000 [==============================] - 28s 11us/step - loss: 0.0561 - acc: 0.9821 - val_loss: 0.0608 - val_acc: 0.9814\n",
      "Epoch 6/50\n",
      "2448000/2448000 [==============================] - 28s 11us/step - loss: 0.0560 - acc: 0.9821 - val_loss: 0.0604 - val_acc: 0.9816\n",
      "Epoch 7/50\n",
      "2448000/2448000 [==============================] - 28s 12us/step - loss: 0.0559 - acc: 0.9821 - val_loss: 0.0631 - val_acc: 0.9816\n",
      "Epoch 8/50\n",
      "2448000/2448000 [==============================] - 27s 11us/step - loss: 0.0559 - acc: 0.9821 - val_loss: 0.0607 - val_acc: 0.9814\n",
      "Epoch 9/50\n",
      "2448000/2448000 [==============================] - 28s 11us/step - loss: 0.0560 - acc: 0.9821 - val_loss: 0.0628 - val_acc: 0.9814\n",
      "Epoch 10/50\n",
      "2448000/2448000 [==============================] - 27s 11us/step - loss: 0.0558 - acc: 0.9821 - val_loss: 0.0605 - val_acc: 0.9815\n",
      "Epoch 11/50\n",
      "2448000/2448000 [==============================] - 28s 11us/step - loss: 0.0557 - acc: 0.9822 - val_loss: 0.0603 - val_acc: 0.9813\n",
      "Epoch 12/50\n",
      "2448000/2448000 [==============================] - 28s 11us/step - loss: 0.0559 - acc: 0.9821 - val_loss: 0.0591 - val_acc: 0.9814\n",
      "Epoch 13/50\n",
      "2448000/2448000 [==============================] - 27s 11us/step - loss: 0.0555 - acc: 0.9822 - val_loss: 0.0592 - val_acc: 0.9817\n",
      "Epoch 14/50\n",
      "2448000/2448000 [==============================] - 28s 11us/step - loss: 0.0555 - acc: 0.9822 - val_loss: 0.0583 - val_acc: 0.9817\n",
      "Epoch 15/50\n",
      "2448000/2448000 [==============================] - 27s 11us/step - loss: 0.0557 - acc: 0.9821 - val_loss: 0.0589 - val_acc: 0.9814\n",
      "Epoch 16/50\n",
      "2448000/2448000 [==============================] - 27s 11us/step - loss: 0.0555 - acc: 0.9822 - val_loss: 0.0594 - val_acc: 0.9816\n",
      "Epoch 17/50\n",
      "2448000/2448000 [==============================] - 26s 11us/step - loss: 0.0554 - acc: 0.9822 - val_loss: 0.0584 - val_acc: 0.9814\n",
      "Epoch 18/50\n",
      "2448000/2448000 [==============================] - 26s 11us/step - loss: 0.0553 - acc: 0.9822 - val_loss: 0.0588 - val_acc: 0.9817\n",
      "Epoch 19/50\n",
      "2448000/2448000 [==============================] - 27s 11us/step - loss: 0.0553 - acc: 0.9821 - val_loss: 0.0586 - val_acc: 0.9815\n",
      "Epoch 20/50\n",
      "2448000/2448000 [==============================] - 29s 12us/step - loss: 0.0553 - acc: 0.9822 - val_loss: 0.0580 - val_acc: 0.9816\n",
      "Epoch 21/50\n",
      "2448000/2448000 [==============================] - 28s 11us/step - loss: 0.0554 - acc: 0.9822 - val_loss: 0.0604 - val_acc: 0.9815\n",
      "Epoch 22/50\n",
      "2448000/2448000 [==============================] - 28s 11us/step - loss: 0.0549 - acc: 0.9822 - val_loss: 0.0593 - val_acc: 0.9817\n",
      "Epoch 23/50\n",
      "2448000/2448000 [==============================] - 27s 11us/step - loss: 0.0551 - acc: 0.9823 - val_loss: 0.0576 - val_acc: 0.9817\n",
      "Epoch 24/50\n",
      "2448000/2448000 [==============================] - 27s 11us/step - loss: 0.0549 - acc: 0.9823 - val_loss: 0.0583 - val_acc: 0.9816\n",
      "Epoch 25/50\n",
      "2448000/2448000 [==============================] - 28s 11us/step - loss: 0.0550 - acc: 0.9823 - val_loss: 0.0579 - val_acc: 0.9819\n",
      "Epoch 26/50\n",
      "2448000/2448000 [==============================] - 28s 11us/step - loss: 0.0550 - acc: 0.9823 - val_loss: 0.0597 - val_acc: 0.9815\n",
      "Epoch 27/50\n",
      "2448000/2448000 [==============================] - 28s 11us/step - loss: 0.0552 - acc: 0.9822 - val_loss: 0.0579 - val_acc: 0.9816\n",
      "Epoch 28/50\n",
      "2448000/2448000 [==============================] - 27s 11us/step - loss: 0.0546 - acc: 0.9823 - val_loss: 0.0591 - val_acc: 0.9816\n",
      "Epoch 29/50\n",
      "2448000/2448000 [==============================] - 28s 11us/step - loss: 0.0545 - acc: 0.9823 - val_loss: 0.0575 - val_acc: 0.9817\n",
      "Epoch 30/50\n",
      "2448000/2448000 [==============================] - 27s 11us/step - loss: 0.0547 - acc: 0.9823 - val_loss: 0.0587 - val_acc: 0.9818\n",
      "Epoch 31/50\n",
      "2448000/2448000 [==============================] - 27s 11us/step - loss: 0.0545 - acc: 0.9823 - val_loss: 0.0592 - val_acc: 0.9816\n",
      "Epoch 32/50\n",
      "2448000/2448000 [==============================] - 27s 11us/step - loss: 0.0546 - acc: 0.9823 - val_loss: 0.0576 - val_acc: 0.9818\n",
      "Epoch 33/50\n",
      "2448000/2448000 [==============================] - 27s 11us/step - loss: 0.0544 - acc: 0.9823 - val_loss: 0.0573 - val_acc: 0.9817\n",
      "Epoch 34/50\n",
      "2448000/2448000 [==============================] - 28s 11us/step - loss: 0.0543 - acc: 0.9824 - val_loss: 0.0581 - val_acc: 0.9818\n",
      "Epoch 35/50\n",
      "2448000/2448000 [==============================] - 28s 11us/step - loss: 0.0543 - acc: 0.9823 - val_loss: 0.0597 - val_acc: 0.9816\n",
      "Epoch 36/50\n",
      "2448000/2448000 [==============================] - 28s 11us/step - loss: 0.0542 - acc: 0.9824 - val_loss: 0.0580 - val_acc: 0.9818\n",
      "Epoch 37/50\n",
      "2448000/2448000 [==============================] - 28s 11us/step - loss: 0.0542 - acc: 0.9823 - val_loss: 0.0612 - val_acc: 0.9816\n",
      "Epoch 38/50\n",
      "2448000/2448000 [==============================] - 27s 11us/step - loss: 0.0542 - acc: 0.9824 - val_loss: 0.0585 - val_acc: 0.9818\n",
      "Epoch 39/50\n",
      "2448000/2448000 [==============================] - 27s 11us/step - loss: 0.0539 - acc: 0.9824 - val_loss: 0.0578 - val_acc: 0.9815\n",
      "Epoch 40/50\n",
      "2448000/2448000 [==============================] - 28s 11us/step - loss: 0.0544 - acc: 0.9824 - val_loss: 0.0621 - val_acc: 0.9817\n",
      "Epoch 41/50\n",
      "2448000/2448000 [==============================] - 28s 11us/step - loss: 0.0540 - acc: 0.9824 - val_loss: 0.0575 - val_acc: 0.9815\n",
      "Epoch 42/50\n",
      "2448000/2448000 [==============================] - 27s 11us/step - loss: 0.0542 - acc: 0.9824 - val_loss: 0.0573 - val_acc: 0.9818\n",
      "Epoch 43/50\n",
      "2448000/2448000 [==============================] - 28s 11us/step - loss: 0.0538 - acc: 0.9825 - val_loss: 0.0574 - val_acc: 0.9820\n",
      "Epoch 44/50\n",
      "2448000/2448000 [==============================] - 27s 11us/step - loss: 0.0537 - acc: 0.9825 - val_loss: 0.0573 - val_acc: 0.9819\n",
      "Epoch 45/50\n",
      "2448000/2448000 [==============================] - 28s 11us/step - loss: 0.0537 - acc: 0.9825 - val_loss: 0.0580 - val_acc: 0.9817\n",
      "Epoch 46/50\n",
      "2448000/2448000 [==============================] - 27s 11us/step - loss: 0.0537 - acc: 0.9825 - val_loss: 0.0578 - val_acc: 0.9817\n",
      "Epoch 47/50\n",
      "2448000/2448000 [==============================] - 28s 11us/step - loss: 0.0534 - acc: 0.9826 - val_loss: 0.0590 - val_acc: 0.9816\n",
      "Epoch 48/50\n",
      "2448000/2448000 [==============================] - 28s 11us/step - loss: 0.0536 - acc: 0.9825 - val_loss: 0.0592 - val_acc: 0.9819\n",
      "Epoch 49/50\n",
      "2448000/2448000 [==============================] - 28s 11us/step - loss: 0.0534 - acc: 0.9826 - val_loss: 0.0584 - val_acc: 0.9819\n",
      "Epoch 50/50\n",
      "2448000/2448000 [==============================] - 28s 11us/step - loss: 0.0537 - acc: 0.9826 - val_loss: 0.0582 - val_acc: 0.9820\n"
     ]
    },
    {
     "data": {
      "text/plain": [
       "<keras.callbacks.History at 0x7f9c84056080>"
      ]
     },
     "execution_count": 12,
     "metadata": {},
     "output_type": "execute_result"
    }
   ],
   "source": [
    "parallel_model.fit(images, anwsers, batch_size=35000, epochs=50,\n",
    "                   validation_split=0.1)"
   ]
  },
  {
   "cell_type": "code",
   "execution_count": 13,
   "metadata": {},
   "outputs": [],
   "source": [
    "parallel_model.save_weights(\"CNN/CNN_v1/weights/cnn_v1_40_1e_3_50\")"
   ]
  },
  {
   "cell_type": "code",
   "execution_count": 15,
   "metadata": {},
   "outputs": [],
   "source": [
    "parallel_model.load_weights(\"CNN/CNN_v1/weights/cnn_v1_40_1e_3_50\")"
   ]
  },
  {
   "cell_type": "code",
   "execution_count": 16,
   "metadata": {},
   "outputs": [
    {
     "name": "stdout",
     "output_type": "stream",
     "text": [
      "Train on 2448000 samples, validate on 272000 samples\n",
      "Epoch 1/50\n",
      "2448000/2448000 [==============================] - 28s 11us/step - loss: 0.0532 - acc: 0.9826 - val_loss: 0.0572 - val_acc: 0.9820\n",
      "Epoch 2/50\n",
      "2448000/2448000 [==============================] - 28s 11us/step - loss: 0.0534 - acc: 0.9826 - val_loss: 0.0577 - val_acc: 0.9819\n",
      "Epoch 3/50\n",
      "2448000/2448000 [==============================] - 27s 11us/step - loss: 0.0532 - acc: 0.9826 - val_loss: 0.0565 - val_acc: 0.9819\n",
      "Epoch 4/50\n",
      "2448000/2448000 [==============================] - 26s 11us/step - loss: 0.0532 - acc: 0.9826 - val_loss: 0.0562 - val_acc: 0.9820\n",
      "Epoch 5/50\n",
      "2448000/2448000 [==============================] - 27s 11us/step - loss: 0.0531 - acc: 0.9826 - val_loss: 0.0558 - val_acc: 0.9821\n",
      "Epoch 6/50\n",
      "2448000/2448000 [==============================] - 28s 11us/step - loss: 0.0531 - acc: 0.9827 - val_loss: 0.0604 - val_acc: 0.9821\n",
      "Epoch 7/50\n",
      "2448000/2448000 [==============================] - 28s 12us/step - loss: 0.0528 - acc: 0.9827 - val_loss: 0.0567 - val_acc: 0.9819\n",
      "Epoch 8/50\n",
      "2448000/2448000 [==============================] - 28s 11us/step - loss: 0.0529 - acc: 0.9827 - val_loss: 0.0570 - val_acc: 0.9819\n",
      "Epoch 9/50\n",
      "2448000/2448000 [==============================] - 28s 11us/step - loss: 0.0527 - acc: 0.9827 - val_loss: 0.0570 - val_acc: 0.9820\n",
      "Epoch 10/50\n",
      "2448000/2448000 [==============================] - 28s 11us/step - loss: 0.0528 - acc: 0.9827 - val_loss: 0.0576 - val_acc: 0.9818\n",
      "Epoch 11/50\n",
      "2448000/2448000 [==============================] - 28s 11us/step - loss: 0.0529 - acc: 0.9827 - val_loss: 0.0570 - val_acc: 0.9821\n",
      "Epoch 12/50\n",
      "2448000/2448000 [==============================] - 28s 12us/step - loss: 0.0526 - acc: 0.9827 - val_loss: 0.0647 - val_acc: 0.9817\n",
      "Epoch 13/50\n",
      "2448000/2448000 [==============================] - 28s 11us/step - loss: 0.0526 - acc: 0.9828 - val_loss: 0.0577 - val_acc: 0.9820\n",
      "Epoch 14/50\n",
      "2448000/2448000 [==============================] - 28s 11us/step - loss: 0.0528 - acc: 0.9828 - val_loss: 0.0566 - val_acc: 0.9821\n",
      "Epoch 15/50\n",
      "2448000/2448000 [==============================] - 28s 11us/step - loss: 0.0524 - acc: 0.9828 - val_loss: 0.0558 - val_acc: 0.9823\n",
      "Epoch 16/50\n",
      "2448000/2448000 [==============================] - 28s 11us/step - loss: 0.0526 - acc: 0.9827 - val_loss: 0.0564 - val_acc: 0.9820\n",
      "Epoch 17/50\n",
      "2448000/2448000 [==============================] - 28s 12us/step - loss: 0.0525 - acc: 0.9828 - val_loss: 0.0581 - val_acc: 0.9823\n",
      "Epoch 18/50\n",
      "2448000/2448000 [==============================] - 27s 11us/step - loss: 0.0524 - acc: 0.9828 - val_loss: 0.0575 - val_acc: 0.9819\n",
      "Epoch 19/50\n",
      "2448000/2448000 [==============================] - 27s 11us/step - loss: 0.0526 - acc: 0.9828 - val_loss: 0.0577 - val_acc: 0.9820\n",
      "Epoch 20/50\n",
      "2448000/2448000 [==============================] - 28s 11us/step - loss: 0.0524 - acc: 0.9828 - val_loss: 0.0576 - val_acc: 0.9822\n",
      "Epoch 21/50\n",
      "2448000/2448000 [==============================] - 28s 11us/step - loss: 0.0524 - acc: 0.9828 - val_loss: 0.0565 - val_acc: 0.9820\n",
      "Epoch 22/50\n",
      "2448000/2448000 [==============================] - 28s 11us/step - loss: 0.0524 - acc: 0.9829 - val_loss: 0.0597 - val_acc: 0.9819\n",
      "Epoch 23/50\n",
      "2448000/2448000 [==============================] - 27s 11us/step - loss: 0.0526 - acc: 0.9828 - val_loss: 0.0619 - val_acc: 0.9815\n",
      "Epoch 24/50\n",
      "2448000/2448000 [==============================] - 27s 11us/step - loss: 0.0521 - acc: 0.9829 - val_loss: 0.0566 - val_acc: 0.9821\n",
      "Epoch 25/50\n",
      "2448000/2448000 [==============================] - 28s 11us/step - loss: 0.0521 - acc: 0.9829 - val_loss: 0.0566 - val_acc: 0.9821\n",
      "Epoch 26/50\n",
      "2448000/2448000 [==============================] - 27s 11us/step - loss: 0.0521 - acc: 0.9829 - val_loss: 0.0568 - val_acc: 0.9821\n",
      "Epoch 27/50\n",
      "2448000/2448000 [==============================] - 28s 11us/step - loss: 0.0520 - acc: 0.9829 - val_loss: 0.0692 - val_acc: 0.9814\n",
      "Epoch 28/50\n",
      "2448000/2448000 [==============================] - 27s 11us/step - loss: 0.0519 - acc: 0.9829 - val_loss: 0.0563 - val_acc: 0.9821\n",
      "Epoch 29/50\n",
      "2448000/2448000 [==============================] - 28s 12us/step - loss: 0.0520 - acc: 0.9829 - val_loss: 0.0615 - val_acc: 0.9820\n",
      "Epoch 30/50\n",
      "2448000/2448000 [==============================] - 28s 11us/step - loss: 0.0517 - acc: 0.9830 - val_loss: 0.0563 - val_acc: 0.9822\n",
      "Epoch 31/50\n",
      "2448000/2448000 [==============================] - 28s 11us/step - loss: 0.0520 - acc: 0.9830 - val_loss: 0.0558 - val_acc: 0.9823\n",
      "Epoch 32/50\n",
      "2448000/2448000 [==============================] - 28s 11us/step - loss: 0.0521 - acc: 0.9829 - val_loss: 0.0559 - val_acc: 0.9823\n",
      "Epoch 33/50\n",
      "2448000/2448000 [==============================] - 30s 12us/step - loss: 0.0517 - acc: 0.9830 - val_loss: 0.0566 - val_acc: 0.9825\n",
      "Epoch 34/50\n",
      "2448000/2448000 [==============================] - 29s 12us/step - loss: 0.0516 - acc: 0.9830 - val_loss: 0.0560 - val_acc: 0.9824\n",
      "Epoch 35/50\n",
      "2448000/2448000 [==============================] - 29s 12us/step - loss: 0.0518 - acc: 0.9830 - val_loss: 0.0558 - val_acc: 0.9824\n",
      "Epoch 36/50\n",
      "2448000/2448000 [==============================] - 28s 11us/step - loss: 0.0519 - acc: 0.9830 - val_loss: 0.0557 - val_acc: 0.9823\n",
      "Epoch 37/50\n",
      "2448000/2448000 [==============================] - 29s 12us/step - loss: 0.0516 - acc: 0.9830 - val_loss: 0.0553 - val_acc: 0.9824\n",
      "Epoch 38/50\n",
      "2448000/2448000 [==============================] - 29s 12us/step - loss: 0.0516 - acc: 0.9830 - val_loss: 0.0570 - val_acc: 0.9824\n",
      "Epoch 39/50\n",
      "2448000/2448000 [==============================] - 28s 12us/step - loss: 0.0518 - acc: 0.9829 - val_loss: 0.0571 - val_acc: 0.9823\n",
      "Epoch 40/50\n",
      "2448000/2448000 [==============================] - 29s 12us/step - loss: 0.0516 - acc: 0.9831 - val_loss: 0.0601 - val_acc: 0.9824\n",
      "Epoch 41/50\n",
      "2448000/2448000 [==============================] - 28s 11us/step - loss: 0.0516 - acc: 0.9830 - val_loss: 0.0576 - val_acc: 0.9825\n",
      "Epoch 42/50\n",
      "2448000/2448000 [==============================] - 28s 11us/step - loss: 0.0513 - acc: 0.9830 - val_loss: 0.0578 - val_acc: 0.9823\n",
      "Epoch 43/50\n",
      "2448000/2448000 [==============================] - 29s 12us/step - loss: 0.0513 - acc: 0.9831 - val_loss: 0.0558 - val_acc: 0.9822\n",
      "Epoch 44/50\n",
      "2448000/2448000 [==============================] - 28s 11us/step - loss: 0.0514 - acc: 0.9830 - val_loss: 0.0553 - val_acc: 0.9823\n",
      "Epoch 45/50\n",
      "2448000/2448000 [==============================] - 28s 11us/step - loss: 0.0513 - acc: 0.9831 - val_loss: 0.0561 - val_acc: 0.9824\n",
      "Epoch 46/50\n",
      "2448000/2448000 [==============================] - 29s 12us/step - loss: 0.0514 - acc: 0.9830 - val_loss: 0.0570 - val_acc: 0.9824\n",
      "Epoch 47/50\n",
      "2448000/2448000 [==============================] - 29s 12us/step - loss: 0.0514 - acc: 0.9831 - val_loss: 0.0560 - val_acc: 0.9821\n",
      "Epoch 48/50\n",
      "2448000/2448000 [==============================] - 29s 12us/step - loss: 0.0513 - acc: 0.9831 - val_loss: 0.0555 - val_acc: 0.9822\n",
      "Epoch 49/50\n",
      "2448000/2448000 [==============================] - 28s 12us/step - loss: 0.0511 - acc: 0.9831 - val_loss: 0.0597 - val_acc: 0.9820\n",
      "Epoch 50/50\n",
      "2448000/2448000 [==============================] - 29s 12us/step - loss: 0.0513 - acc: 0.9831 - val_loss: 0.0562 - val_acc: 0.9825\n"
     ]
    },
    {
     "data": {
      "text/plain": [
       "<keras.callbacks.History at 0x7f9c607c5b38>"
      ]
     },
     "execution_count": 16,
     "metadata": {},
     "output_type": "execute_result"
    }
   ],
   "source": [
    "parallel_model.fit(images, anwsers, batch_size=35000, epochs=50,\n",
    "                   validation_split=0.1)"
   ]
  },
  {
   "cell_type": "code",
   "execution_count": 17,
   "metadata": {},
   "outputs": [],
   "source": [
    "parallel_model.save_weights(\"CNN/CNN_v1/weights/cnn_v1_40_1e_3_100\")"
   ]
  },
  {
   "cell_type": "code",
   "execution_count": 8,
   "metadata": {},
   "outputs": [],
   "source": [
    "parallel_model.load_weights(\"CNN/CNN_v1/weights/cnn_v1_40_1e_3_100\")"
   ]
  },
  {
   "cell_type": "code",
   "execution_count": 9,
   "metadata": {},
   "outputs": [
    {
     "name": "stdout",
     "output_type": "stream",
     "text": [
      "Train on 2448000 samples, validate on 272000 samples\n",
      "Epoch 1/50\n",
      "2448000/2448000 [==============================] - 34s 14us/step - loss: 0.0517 - acc: 0.9830 - val_loss: 0.0554 - val_acc: 0.9823\n",
      "Epoch 2/50\n",
      "2448000/2448000 [==============================] - 26s 11us/step - loss: 0.0509 - acc: 0.9831 - val_loss: 0.0554 - val_acc: 0.9825\n",
      "Epoch 3/50\n",
      "2448000/2448000 [==============================] - 26s 11us/step - loss: 0.0508 - acc: 0.9831 - val_loss: 0.0556 - val_acc: 0.9825\n",
      "Epoch 4/50\n",
      "2448000/2448000 [==============================] - 26s 11us/step - loss: 0.0509 - acc: 0.9831 - val_loss: 0.0553 - val_acc: 0.9824\n",
      "Epoch 5/50\n",
      "2448000/2448000 [==============================] - 26s 11us/step - loss: 0.0507 - acc: 0.9832 - val_loss: 0.0554 - val_acc: 0.9824\n",
      "Epoch 6/50\n",
      "2448000/2448000 [==============================] - 26s 11us/step - loss: 0.0512 - acc: 0.9831 - val_loss: 0.0556 - val_acc: 0.9823\n",
      "Epoch 7/50\n",
      "2448000/2448000 [==============================] - 27s 11us/step - loss: 0.0506 - acc: 0.9832 - val_loss: 0.0553 - val_acc: 0.9823\n",
      "Epoch 8/50\n",
      "2448000/2448000 [==============================] - 27s 11us/step - loss: 0.0507 - acc: 0.9832 - val_loss: 0.0736 - val_acc: 0.9815\n",
      "Epoch 9/50\n",
      "2448000/2448000 [==============================] - 27s 11us/step - loss: 0.0507 - acc: 0.9831 - val_loss: 0.0567 - val_acc: 0.9826\n",
      "Epoch 10/50\n",
      "2448000/2448000 [==============================] - 28s 11us/step - loss: 0.0507 - acc: 0.9832 - val_loss: 0.0549 - val_acc: 0.9827\n",
      "Epoch 11/50\n",
      "2448000/2448000 [==============================] - 27s 11us/step - loss: 0.0508 - acc: 0.9831 - val_loss: 0.0549 - val_acc: 0.9826\n",
      "Epoch 12/50\n",
      "2448000/2448000 [==============================] - 27s 11us/step - loss: 0.0508 - acc: 0.9831 - val_loss: 0.0687 - val_acc: 0.9816\n",
      "Epoch 13/50\n",
      "2448000/2448000 [==============================] - 28s 11us/step - loss: 0.0504 - acc: 0.9832 - val_loss: 0.0553 - val_acc: 0.9823\n",
      "Epoch 14/50\n",
      "2448000/2448000 [==============================] - 27s 11us/step - loss: 0.0506 - acc: 0.9831 - val_loss: 0.0563 - val_acc: 0.9823\n",
      "Epoch 15/50\n",
      "2448000/2448000 [==============================] - 27s 11us/step - loss: 0.0507 - acc: 0.9831 - val_loss: 0.0568 - val_acc: 0.9825\n",
      "Epoch 16/50\n",
      "2448000/2448000 [==============================] - 27s 11us/step - loss: 0.0505 - acc: 0.9832 - val_loss: 0.0558 - val_acc: 0.9824\n",
      "Epoch 17/50\n",
      "2448000/2448000 [==============================] - 28s 11us/step - loss: 0.0506 - acc: 0.9832 - val_loss: 0.0550 - val_acc: 0.9821\n",
      "Epoch 18/50\n",
      "2448000/2448000 [==============================] - 28s 11us/step - loss: 0.0505 - acc: 0.9832 - val_loss: 0.0554 - val_acc: 0.9823\n",
      "Epoch 19/50\n",
      "2448000/2448000 [==============================] - 28s 11us/step - loss: 0.0503 - acc: 0.9832 - val_loss: 0.0550 - val_acc: 0.9824\n",
      "Epoch 20/50\n",
      "2448000/2448000 [==============================] - 27s 11us/step - loss: 0.0502 - acc: 0.9832 - val_loss: 0.0573 - val_acc: 0.9824\n",
      "Epoch 21/50\n",
      "2448000/2448000 [==============================] - 27s 11us/step - loss: 0.0501 - acc: 0.9833 - val_loss: 0.0547 - val_acc: 0.9826\n",
      "Epoch 22/50\n",
      "2448000/2448000 [==============================] - 27s 11us/step - loss: 0.0501 - acc: 0.9833 - val_loss: 0.0571 - val_acc: 0.9827\n",
      "Epoch 23/50\n",
      "2448000/2448000 [==============================] - 27s 11us/step - loss: 0.0501 - acc: 0.9833 - val_loss: 0.0547 - val_acc: 0.9825\n",
      "Epoch 24/50\n",
      "2448000/2448000 [==============================] - 28s 11us/step - loss: 0.0503 - acc: 0.9832 - val_loss: 0.0561 - val_acc: 0.9824\n",
      "Epoch 25/50\n",
      "2448000/2448000 [==============================] - 26s 11us/step - loss: 0.0498 - acc: 0.9834 - val_loss: 0.0557 - val_acc: 0.9824\n",
      "Epoch 26/50\n",
      "2448000/2448000 [==============================] - 28s 11us/step - loss: 0.0500 - acc: 0.9833 - val_loss: 0.0554 - val_acc: 0.9822\n",
      "Epoch 27/50\n",
      "2448000/2448000 [==============================] - 27s 11us/step - loss: 0.0502 - acc: 0.9832 - val_loss: 0.0558 - val_acc: 0.9824\n",
      "Epoch 28/50\n",
      "2448000/2448000 [==============================] - 27s 11us/step - loss: 0.0500 - acc: 0.9833 - val_loss: 0.0558 - val_acc: 0.9823\n",
      "Epoch 29/50\n",
      "2448000/2448000 [==============================] - 27s 11us/step - loss: 0.0500 - acc: 0.9833 - val_loss: 0.0574 - val_acc: 0.9820\n",
      "Epoch 30/50\n",
      "2448000/2448000 [==============================] - 27s 11us/step - loss: 0.0502 - acc: 0.9832 - val_loss: 0.0556 - val_acc: 0.9824\n",
      "Epoch 31/50\n",
      "2448000/2448000 [==============================] - 27s 11us/step - loss: 0.0499 - acc: 0.9833 - val_loss: 0.0550 - val_acc: 0.9825\n",
      "Epoch 32/50\n",
      "2448000/2448000 [==============================] - 27s 11us/step - loss: 0.0498 - acc: 0.9833 - val_loss: 0.0548 - val_acc: 0.9826\n",
      "Epoch 33/50\n",
      "2448000/2448000 [==============================] - 27s 11us/step - loss: 0.0500 - acc: 0.9833 - val_loss: 0.0559 - val_acc: 0.9824\n",
      "Epoch 34/50\n",
      "2448000/2448000 [==============================] - 27s 11us/step - loss: 0.0499 - acc: 0.9833 - val_loss: 0.0549 - val_acc: 0.9825\n",
      "Epoch 35/50\n",
      "2448000/2448000 [==============================] - 27s 11us/step - loss: 0.0498 - acc: 0.9833 - val_loss: 0.0556 - val_acc: 0.9819\n",
      "Epoch 36/50\n",
      "2448000/2448000 [==============================] - 27s 11us/step - loss: 0.0497 - acc: 0.9833 - val_loss: 0.0549 - val_acc: 0.9824\n",
      "Epoch 37/50\n",
      "2448000/2448000 [==============================] - 27s 11us/step - loss: 0.0498 - acc: 0.9833 - val_loss: 0.0546 - val_acc: 0.9823\n",
      "Epoch 38/50\n",
      "2448000/2448000 [==============================] - 27s 11us/step - loss: 0.0495 - acc: 0.9834 - val_loss: 0.0551 - val_acc: 0.9826\n",
      "Epoch 39/50\n",
      "2448000/2448000 [==============================] - 27s 11us/step - loss: 0.0496 - acc: 0.9833 - val_loss: 0.0559 - val_acc: 0.9825\n",
      "Epoch 40/50\n",
      "2448000/2448000 [==============================] - 27s 11us/step - loss: 0.0496 - acc: 0.9833 - val_loss: 0.0559 - val_acc: 0.9823\n",
      "Epoch 41/50\n",
      "2448000/2448000 [==============================] - 27s 11us/step - loss: 0.0494 - acc: 0.9834 - val_loss: 0.0544 - val_acc: 0.9824\n",
      "Epoch 42/50\n",
      "2448000/2448000 [==============================] - 27s 11us/step - loss: 0.0496 - acc: 0.9833 - val_loss: 0.0548 - val_acc: 0.9826\n",
      "Epoch 43/50\n",
      "2448000/2448000 [==============================] - 26s 11us/step - loss: 0.0492 - acc: 0.9834 - val_loss: 0.0565 - val_acc: 0.9822\n",
      "Epoch 44/50\n",
      "2448000/2448000 [==============================] - 27s 11us/step - loss: 0.0496 - acc: 0.9833 - val_loss: 0.0558 - val_acc: 0.9824\n",
      "Epoch 45/50\n",
      "2448000/2448000 [==============================] - 28s 11us/step - loss: 0.0494 - acc: 0.9834 - val_loss: 0.0560 - val_acc: 0.9823\n",
      "Epoch 46/50\n",
      "2448000/2448000 [==============================] - 27s 11us/step - loss: 0.0493 - acc: 0.9834 - val_loss: 0.0549 - val_acc: 0.9825\n",
      "Epoch 47/50\n",
      "2448000/2448000 [==============================] - 27s 11us/step - loss: 0.0495 - acc: 0.9833 - val_loss: 0.0544 - val_acc: 0.9822\n",
      "Epoch 48/50\n",
      "2448000/2448000 [==============================] - 27s 11us/step - loss: 0.0492 - acc: 0.9834 - val_loss: 0.0549 - val_acc: 0.9822\n",
      "Epoch 49/50\n",
      "2448000/2448000 [==============================] - 27s 11us/step - loss: 0.0492 - acc: 0.9834 - val_loss: 0.0553 - val_acc: 0.9823\n",
      "Epoch 50/50\n",
      "2448000/2448000 [==============================] - 27s 11us/step - loss: 0.0492 - acc: 0.9834 - val_loss: 0.0545 - val_acc: 0.9825\n"
     ]
    },
    {
     "data": {
      "text/plain": [
       "<keras.callbacks.History at 0x7f2654554940>"
      ]
     },
     "execution_count": 9,
     "metadata": {},
     "output_type": "execute_result"
    }
   ],
   "source": [
    "parallel_model.fit(images, anwsers, batch_size=35000, epochs=50,\n",
    "                   validation_split=0.1)"
   ]
  },
  {
   "cell_type": "code",
   "execution_count": 11,
   "metadata": {},
   "outputs": [],
   "source": [
    "parallel_model.save_weights(\"CNN/CNN_v1/weights/cnn_v1_40_1e_3_150\")"
   ]
  },
  {
   "cell_type": "code",
   "execution_count": 8,
   "metadata": {},
   "outputs": [],
   "source": [
    "parallel_model.load_weights(\"CNN/CNN_v1/weights/cnn_v1_40_1e_3_150\")"
   ]
  }
 ],
 "metadata": {
  "kernelspec": {
   "display_name": "Python 3",
   "language": "python",
   "name": "python3"
  },
  "language_info": {
   "codemirror_mode": {
    "name": "ipython",
    "version": 3
   },
   "file_extension": ".py",
   "mimetype": "text/x-python",
   "name": "python",
   "nbconvert_exporter": "python",
   "pygments_lexer": "ipython3",
   "version": "3.6.6"
  }
 },
 "nbformat": 4,
 "nbformat_minor": 2
}
