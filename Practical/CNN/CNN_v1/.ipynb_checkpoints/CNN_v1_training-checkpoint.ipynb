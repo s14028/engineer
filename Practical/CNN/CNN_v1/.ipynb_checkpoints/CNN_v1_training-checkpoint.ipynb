{
 "cells": [
  {
   "cell_type": "code",
   "execution_count": 1,
   "metadata": {},
   "outputs": [
    {
     "name": "stdout",
     "output_type": "stream",
     "text": [
      "/home/PJWSTK/s14028/Engine\n"
     ]
    }
   ],
   "source": [
    "%cd ../../"
   ]
  },
  {
   "cell_type": "code",
   "execution_count": 1,
   "metadata": {},
   "outputs": [
    {
     "name": "stderr",
     "output_type": "stream",
     "text": [
      "Using TensorFlow backend.\n"
     ]
    }
   ],
   "source": [
    "import keras\n",
    "\n",
    "from common import *\n",
    "\n",
    "from CNN.CNN_v1 import CNN_v1"
   ]
  },
  {
   "cell_type": "code",
   "execution_count": 2,
   "metadata": {},
   "outputs": [],
   "source": [
    "train, test = data_sets()\n",
    "image_tensors = train[0], test[0]\n",
    "person_coo_tensors = train[1], test[1]\n",
    "count_matrix = train[2], test[2]\n",
    "\n",
    "image_train, image_test = image_tensors\n",
    "person_coo_train, person_coo_test = person_coo_tensors\n",
    "count_train, count_test = count_matrix\n",
    "count_train = count_train.astype(np.uint16)\n",
    "count_test = count_test.astype(np.uint16)"
   ]
  },
  {
   "cell_type": "code",
   "execution_count": 3,
   "metadata": {},
   "outputs": [],
   "source": [
    "cnn_v1 = CNN_v1((480, 640, 3), split_into_parts=20)\n",
    "cnn_v1.def_model()"
   ]
  },
  {
   "cell_type": "code",
   "execution_count": 4,
   "metadata": {},
   "outputs": [],
   "source": [
    "images = cnn_v1._prepare_images(image_train)\n",
    "anwsers = cnn_v1._prepare_anwsers(person_coo_train)"
   ]
  },
  {
   "cell_type": "code",
   "execution_count": 5,
   "metadata": {},
   "outputs": [
    {
     "name": "stdout",
     "output_type": "stream",
     "text": [
      "Epoch 1/1\n",
      "1/1 [==============================] - 2s 2s/step - loss: 0.6943 - acc: 1.0000\n"
     ]
    }
   ],
   "source": [
    "history = cnn_v1.model.fit(images[:1], anwsers[:1])"
   ]
  },
  {
   "cell_type": "code",
   "execution_count": 6,
   "metadata": {},
   "outputs": [],
   "source": [
    "parallel_model = keras.utils.multi_gpu_model(\n",
    "        cnn_v1.model,\n",
    "        gpus=2,\n",
    "        cpu_merge=False)\n",
    "parallel_model.compile(\n",
    "        loss=\"binary_crossentropy\", \n",
    "        optimizer=\"adam\", \n",
    "        metrics=[\"accuracy\"])"
   ]
  },
  {
   "cell_type": "code",
   "execution_count": 10,
   "metadata": {},
   "outputs": [
    {
     "data": {
      "text/plain": [
       "<tf.Tensor 'Assign:0' shape=() dtype=float32_ref>"
      ]
     },
     "execution_count": 10,
     "metadata": {},
     "output_type": "execute_result"
    }
   ],
   "source": [
    "parallel_model.optimizer.lr.assign(1e-1)"
   ]
  },
  {
   "cell_type": "code",
   "execution_count": 11,
   "metadata": {},
   "outputs": [
    {
     "name": "stdout",
     "output_type": "stream",
     "text": [
      "Train on 612000 samples, validate on 68000 samples\n",
      "Epoch 1/25\n",
      "612000/612000 [==============================] - 43s 71us/step - loss: 26.2133 - acc: 0.5514 - val_loss: 11.5966 - val_acc: 0.8691\n",
      "Epoch 2/25\n",
      "612000/612000 [==============================] - 32s 52us/step - loss: 12.1646 - acc: 0.5966 - val_loss: 7.0743 - val_acc: 0.9052\n",
      "Epoch 3/25\n",
      "612000/612000 [==============================] - 32s 52us/step - loss: 8.2508 - acc: 0.6570 - val_loss: 4.8115 - val_acc: 0.9194\n",
      "Epoch 4/25\n",
      "612000/612000 [==============================] - 32s 53us/step - loss: 6.0881 - acc: 0.7300 - val_loss: 3.6547 - val_acc: 0.9304\n",
      "Epoch 5/25\n",
      "612000/612000 [==============================] - 32s 52us/step - loss: 4.7080 - acc: 0.7948 - val_loss: 2.8245 - val_acc: 0.9319\n",
      "Epoch 6/25\n",
      "612000/612000 [==============================] - 32s 52us/step - loss: 3.7196 - acc: 0.8428 - val_loss: 2.2078 - val_acc: 0.9310\n",
      "Epoch 7/25\n",
      "612000/612000 [==============================] - 32s 52us/step - loss: 2.9688 - acc: 0.8731 - val_loss: 1.7788 - val_acc: 0.9310\n",
      "Epoch 8/25\n",
      "612000/612000 [==============================] - 33s 54us/step - loss: 2.3832 - acc: 0.8940 - val_loss: 1.4745 - val_acc: 0.9310\n",
      "Epoch 9/25\n",
      "612000/612000 [==============================] - 32s 53us/step - loss: 1.9231 - acc: 0.9094 - val_loss: 1.2553 - val_acc: 0.9310\n",
      "Epoch 10/25\n",
      "612000/612000 [==============================] - 33s 54us/step - loss: 1.5656 - acc: 0.9185 - val_loss: 1.0951 - val_acc: 0.9310\n",
      "Epoch 11/25\n",
      "612000/612000 [==============================] - 31s 51us/step - loss: 1.2874 - acc: 0.9243 - val_loss: 0.9781 - val_acc: 0.9310\n",
      "Epoch 12/25\n",
      "612000/612000 [==============================] - 32s 53us/step - loss: 1.0716 - acc: 0.9275 - val_loss: 0.8741 - val_acc: 0.9310\n",
      "Epoch 13/25\n",
      "612000/612000 [==============================] - 32s 52us/step - loss: 0.9026 - acc: 0.9303 - val_loss: 0.7692 - val_acc: 0.9310\n",
      "Epoch 14/25\n",
      "612000/612000 [==============================] - 32s 52us/step - loss: 0.7686 - acc: 0.9320 - val_loss: 0.6498 - val_acc: 0.9310\n",
      "Epoch 15/25\n",
      "612000/612000 [==============================] - 32s 52us/step - loss: 0.6614 - acc: 0.9328 - val_loss: 0.5396 - val_acc: 0.9310\n",
      "Epoch 16/25\n",
      "612000/612000 [==============================] - 32s 52us/step - loss: 0.5746 - acc: 0.9335 - val_loss: 0.4560 - val_acc: 0.9310\n",
      "Epoch 17/25\n",
      "612000/612000 [==============================] - 31s 51us/step - loss: 0.5030 - acc: 0.9335 - val_loss: 0.4057 - val_acc: 0.9310\n",
      "Epoch 18/25\n",
      "612000/612000 [==============================] - 31s 51us/step - loss: 0.4438 - acc: 0.9330 - val_loss: 0.3753 - val_acc: 0.9310\n",
      "Epoch 19/25\n",
      "612000/612000 [==============================] - 32s 52us/step - loss: 0.3978 - acc: 0.9333 - val_loss: 0.3668 - val_acc: 0.9310\n",
      "Epoch 20/25\n",
      "612000/612000 [==============================] - 32s 52us/step - loss: 0.3642 - acc: 0.9335 - val_loss: 0.3636 - val_acc: 0.9310\n",
      "Epoch 21/25\n",
      "612000/612000 [==============================] - 31s 51us/step - loss: 0.3383 - acc: 0.9339 - val_loss: 0.3823 - val_acc: 0.9310\n",
      "Epoch 22/25\n",
      "612000/612000 [==============================] - 31s 51us/step - loss: 0.3191 - acc: 0.9340 - val_loss: 0.4029 - val_acc: 0.9310\n",
      "Epoch 23/25\n",
      "612000/612000 [==============================] - 32s 53us/step - loss: 0.3033 - acc: 0.9344 - val_loss: 0.4134 - val_acc: 0.9310\n",
      "Epoch 24/25\n",
      "612000/612000 [==============================] - 31s 51us/step - loss: 0.2906 - acc: 0.9349 - val_loss: 0.4227 - val_acc: 0.9310\n",
      "Epoch 25/25\n",
      "612000/612000 [==============================] - 31s 51us/step - loss: 0.2803 - acc: 0.9352 - val_loss: 0.4269 - val_acc: 0.9310\n"
     ]
    },
    {
     "data": {
      "text/plain": [
       "<keras.callbacks.History at 0x7f331417c358>"
      ]
     },
     "execution_count": 11,
     "metadata": {},
     "output_type": "execute_result"
    }
   ],
   "source": [
    "parallel_model.fit(images, anwsers, batch_size=40150, epochs=25,\n",
    "                   validation_split=0.1)"
   ]
  },
  {
   "cell_type": "code",
   "execution_count": 14,
   "metadata": {},
   "outputs": [],
   "source": [
    "parallel_model.save_weights(\"CNN/CNN_v1/weights/cnn_v1_1e_1_25\")"
   ]
  },
  {
   "cell_type": "code",
   "execution_count": 19,
   "metadata": {},
   "outputs": [],
   "source": [
    "parallel_model.load_weights(\"CNN/CNN_v1/weights/cnn_v1_1e_1_25\")"
   ]
  },
  {
   "cell_type": "code",
   "execution_count": 15,
   "metadata": {},
   "outputs": [
    {
     "name": "stdout",
     "output_type": "stream",
     "text": [
      "Train on 612000 samples, validate on 68000 samples\n",
      "Epoch 1/25\n",
      "612000/612000 [==============================] - 31s 51us/step - loss: 0.2719 - acc: 0.9354 - val_loss: 0.4290 - val_acc: 0.9311\n",
      "Epoch 2/25\n",
      "612000/612000 [==============================] - 32s 52us/step - loss: 0.2649 - acc: 0.9356 - val_loss: 0.4157 - val_acc: 0.9311\n",
      "Epoch 3/25\n",
      "612000/612000 [==============================] - 32s 52us/step - loss: 0.2590 - acc: 0.9361 - val_loss: 0.4035 - val_acc: 0.9312\n",
      "Epoch 4/25\n",
      "612000/612000 [==============================] - 31s 51us/step - loss: 0.2537 - acc: 0.9361 - val_loss: 0.3806 - val_acc: 0.9311\n",
      "Epoch 5/25\n",
      "612000/612000 [==============================] - 32s 52us/step - loss: 0.2492 - acc: 0.9362 - val_loss: 0.3649 - val_acc: 0.9312\n",
      "Epoch 6/25\n",
      "612000/612000 [==============================] - 32s 53us/step - loss: 0.2452 - acc: 0.9364 - val_loss: 0.3489 - val_acc: 0.9311\n",
      "Epoch 7/25\n",
      "612000/612000 [==============================] - 31s 51us/step - loss: 0.2416 - acc: 0.9368 - val_loss: 0.3337 - val_acc: 0.9312\n",
      "Epoch 8/25\n",
      "612000/612000 [==============================] - 31s 51us/step - loss: 0.2382 - acc: 0.9370 - val_loss: 0.3136 - val_acc: 0.9312\n",
      "Epoch 9/25\n",
      "612000/612000 [==============================] - 31s 51us/step - loss: 0.2348 - acc: 0.9375 - val_loss: 0.3060 - val_acc: 0.9308\n",
      "Epoch 10/25\n",
      "612000/612000 [==============================] - 31s 51us/step - loss: 0.2322 - acc: 0.9377 - val_loss: 0.2933 - val_acc: 0.9309\n",
      "Epoch 11/25\n",
      "612000/612000 [==============================] - 32s 53us/step - loss: 0.2293 - acc: 0.9378 - val_loss: 0.2809 - val_acc: 0.9313\n",
      "Epoch 12/25\n",
      "612000/612000 [==============================] - 31s 51us/step - loss: 0.2264 - acc: 0.9384 - val_loss: 0.2782 - val_acc: 0.9315\n",
      "Epoch 13/25\n",
      "612000/612000 [==============================] - 31s 51us/step - loss: 0.2241 - acc: 0.9382 - val_loss: 0.2673 - val_acc: 0.9316\n",
      "Epoch 14/25\n",
      "612000/612000 [==============================] - 31s 51us/step - loss: 0.2214 - acc: 0.9388 - val_loss: 0.2612 - val_acc: 0.9323\n",
      "Epoch 15/25\n",
      "612000/612000 [==============================] - 32s 52us/step - loss: 0.2193 - acc: 0.9389 - val_loss: 0.2525 - val_acc: 0.9328\n",
      "Epoch 16/25\n",
      "612000/612000 [==============================] - 31s 50us/step - loss: 0.2171 - acc: 0.9392 - val_loss: 0.2517 - val_acc: 0.9327\n",
      "Epoch 17/25\n",
      "612000/612000 [==============================] - 31s 50us/step - loss: 0.2153 - acc: 0.9396 - val_loss: 0.2473 - val_acc: 0.9330\n",
      "Epoch 18/25\n",
      "612000/612000 [==============================] - 32s 52us/step - loss: 0.2134 - acc: 0.9397 - val_loss: 0.2435 - val_acc: 0.9330\n",
      "Epoch 19/25\n",
      "612000/612000 [==============================] - 31s 51us/step - loss: 0.2116 - acc: 0.9398 - val_loss: 0.2419 - val_acc: 0.9330\n",
      "Epoch 20/25\n",
      "612000/612000 [==============================] - 31s 50us/step - loss: 0.2100 - acc: 0.9402 - val_loss: 0.2395 - val_acc: 0.9333\n",
      "Epoch 21/25\n",
      "612000/612000 [==============================] - 31s 51us/step - loss: 0.2083 - acc: 0.9405 - val_loss: 0.2388 - val_acc: 0.9332\n",
      "Epoch 22/25\n",
      "612000/612000 [==============================] - 31s 51us/step - loss: 0.2065 - acc: 0.9406 - val_loss: 0.2334 - val_acc: 0.9336\n",
      "Epoch 23/25\n",
      "612000/612000 [==============================] - 32s 52us/step - loss: 0.2050 - acc: 0.9411 - val_loss: 0.2350 - val_acc: 0.9331\n",
      "Epoch 24/25\n",
      "612000/612000 [==============================] - 31s 51us/step - loss: 0.2035 - acc: 0.9411 - val_loss: 0.2309 - val_acc: 0.9335\n",
      "Epoch 25/25\n",
      "612000/612000 [==============================] - 31s 51us/step - loss: 0.2022 - acc: 0.9412 - val_loss: 0.2279 - val_acc: 0.9341\n"
     ]
    },
    {
     "data": {
      "text/plain": [
       "<keras.callbacks.History at 0x7f329c3bf978>"
      ]
     },
     "execution_count": 15,
     "metadata": {},
     "output_type": "execute_result"
    }
   ],
   "source": [
    "parallel_model.fit(images, anwsers, batch_size=40150, epochs=25,\n",
    "                   validation_split=0.1)"
   ]
  },
  {
   "cell_type": "code",
   "execution_count": 16,
   "metadata": {},
   "outputs": [],
   "source": [
    "parallel_model.save_weights(\"CNN/CNN_v1/weights/cnn_v1_1e_1_50\")"
   ]
  },
  {
   "cell_type": "code",
   "execution_count": 11,
   "metadata": {},
   "outputs": [],
   "source": [
    "parallel_model.load_weights(\"CNN/CNN_v1/weights/cnn_v1_1e_1_50\")"
   ]
  },
  {
   "cell_type": "code",
   "execution_count": 12,
   "metadata": {},
   "outputs": [
    {
     "name": "stdout",
     "output_type": "stream",
     "text": [
      "Train on 612000 samples, validate on 68000 samples\n",
      "Epoch 1/25\n",
      "612000/612000 [==============================] - 45s 73us/step - loss: 0.2027 - acc: 0.9399 - val_loss: 0.2047 - val_acc: 0.9352\n",
      "Epoch 2/25\n",
      "612000/612000 [==============================] - 31s 51us/step - loss: 0.1906 - acc: 0.9413 - val_loss: 0.1986 - val_acc: 0.9357\n",
      "Epoch 3/25\n",
      "612000/612000 [==============================] - 33s 53us/step - loss: 0.1837 - acc: 0.9416 - val_loss: 0.1905 - val_acc: 0.9362\n",
      "Epoch 4/25\n",
      "612000/612000 [==============================] - 31s 51us/step - loss: 0.1769 - acc: 0.9427 - val_loss: 0.1862 - val_acc: 0.9361\n",
      "Epoch 5/25\n",
      "612000/612000 [==============================] - 32s 52us/step - loss: 0.1722 - acc: 0.9429 - val_loss: 0.1846 - val_acc: 0.9370\n",
      "Epoch 6/25\n",
      "612000/612000 [==============================] - 32s 52us/step - loss: 0.1667 - acc: 0.9440 - val_loss: 0.1769 - val_acc: 0.9376\n",
      "Epoch 7/25\n",
      "612000/612000 [==============================] - 31s 51us/step - loss: 0.1627 - acc: 0.9446 - val_loss: 0.1759 - val_acc: 0.9386\n",
      "Epoch 8/25\n",
      "612000/612000 [==============================] - 33s 54us/step - loss: 0.1594 - acc: 0.9457 - val_loss: 0.1853 - val_acc: 0.9388\n",
      "Epoch 9/25\n",
      "612000/612000 [==============================] - 31s 51us/step - loss: 0.1558 - acc: 0.9463 - val_loss: 0.2046 - val_acc: 0.9394\n",
      "Epoch 10/25\n",
      "612000/612000 [==============================] - 33s 53us/step - loss: 0.1528 - acc: 0.9470 - val_loss: 0.1834 - val_acc: 0.9398\n",
      "Epoch 11/25\n",
      "612000/612000 [==============================] - 32s 52us/step - loss: 0.1507 - acc: 0.9477 - val_loss: 0.2573 - val_acc: 0.9384\n",
      "Epoch 12/25\n",
      "612000/612000 [==============================] - 33s 53us/step - loss: 0.1490 - acc: 0.9480 - val_loss: 0.1706 - val_acc: 0.9413\n",
      "Epoch 13/25\n",
      "612000/612000 [==============================] - 32s 52us/step - loss: 0.1461 - acc: 0.9489 - val_loss: 0.1777 - val_acc: 0.9410\n",
      "Epoch 14/25\n",
      "612000/612000 [==============================] - 31s 51us/step - loss: 0.1437 - acc: 0.9494 - val_loss: 0.1616 - val_acc: 0.9412\n",
      "Epoch 15/25\n",
      "612000/612000 [==============================] - 32s 52us/step - loss: 0.1422 - acc: 0.9499 - val_loss: 0.1699 - val_acc: 0.9416\n",
      "Epoch 16/25\n",
      "612000/612000 [==============================] - 31s 51us/step - loss: 0.1401 - acc: 0.9504 - val_loss: 0.1615 - val_acc: 0.9423\n",
      "Epoch 17/25\n",
      "612000/612000 [==============================] - 31s 51us/step - loss: 0.1387 - acc: 0.9510 - val_loss: 0.1541 - val_acc: 0.9431\n",
      "Epoch 18/25\n",
      "612000/612000 [==============================] - 32s 52us/step - loss: 0.1380 - acc: 0.9513 - val_loss: 0.1816 - val_acc: 0.9409\n",
      "Epoch 19/25\n",
      "612000/612000 [==============================] - 31s 51us/step - loss: 0.1366 - acc: 0.9517 - val_loss: 0.1517 - val_acc: 0.9431\n",
      "Epoch 20/25\n",
      "612000/612000 [==============================] - 31s 51us/step - loss: 0.1358 - acc: 0.9519 - val_loss: 0.1542 - val_acc: 0.9422\n",
      "Epoch 21/25\n",
      "612000/612000 [==============================] - 33s 53us/step - loss: 0.1339 - acc: 0.9525 - val_loss: 0.1510 - val_acc: 0.9432\n",
      "Epoch 22/25\n",
      "612000/612000 [==============================] - 32s 53us/step - loss: 0.1332 - acc: 0.9527 - val_loss: 0.1578 - val_acc: 0.9437\n",
      "Epoch 23/25\n",
      "612000/612000 [==============================] - 33s 54us/step - loss: 0.1323 - acc: 0.9528 - val_loss: 0.1452 - val_acc: 0.9456\n",
      "Epoch 24/25\n",
      "612000/612000 [==============================] - 31s 51us/step - loss: 0.1312 - acc: 0.9534 - val_loss: 0.1510 - val_acc: 0.9455\n",
      "Epoch 25/25\n",
      "612000/612000 [==============================] - 32s 52us/step - loss: 0.1301 - acc: 0.9535 - val_loss: 0.1533 - val_acc: 0.9436\n"
     ]
    },
    {
     "data": {
      "text/plain": [
       "<keras.callbacks.History at 0x7f4e0455ab38>"
      ]
     },
     "execution_count": 12,
     "metadata": {},
     "output_type": "execute_result"
    }
   ],
   "source": [
    "parallel_model.fit(images, anwsers, batch_size=40150, epochs=25,\n",
    "                   validation_split=0.1)"
   ]
  },
  {
   "cell_type": "code",
   "execution_count": 13,
   "metadata": {},
   "outputs": [],
   "source": [
    "parallel_model.save_weights(\"CNN/CNN_v1/weights/cnn_v1_1e_1_75\")"
   ]
  },
  {
   "cell_type": "code",
   "execution_count": 10,
   "metadata": {},
   "outputs": [],
   "source": [
    "parallel_model.load_weights(\"CNN/CNN_v1/weights/cnn_v1_1e_1_75\")"
   ]
  },
  {
   "cell_type": "code",
   "execution_count": 11,
   "metadata": {},
   "outputs": [
    {
     "data": {
      "text/plain": [
       "<tf.Tensor 'Assign_36:0' shape=() dtype=float32_ref>"
      ]
     },
     "execution_count": 11,
     "metadata": {},
     "output_type": "execute_result"
    }
   ],
   "source": [
    "parallel_model.optimizer.lr.assign(1e-3)"
   ]
  },
  {
   "cell_type": "code",
   "execution_count": 12,
   "metadata": {},
   "outputs": [
    {
     "name": "stdout",
     "output_type": "stream",
     "text": [
      "Train on 612000 samples, validate on 68000 samples\n",
      "Epoch 1/10\n",
      "612000/612000 [==============================] - 43s 71us/step - loss: 0.1548 - acc: 0.9461 - val_loss: 0.1625 - val_acc: 0.9402\n",
      "Epoch 2/10\n",
      "612000/612000 [==============================] - 32s 52us/step - loss: 0.1478 - acc: 0.9474 - val_loss: 0.1514 - val_acc: 0.9443\n",
      "Epoch 3/10\n",
      "612000/612000 [==============================] - 31s 51us/step - loss: 0.1381 - acc: 0.9510 - val_loss: 0.1581 - val_acc: 0.9437\n",
      "Epoch 4/10\n",
      "612000/612000 [==============================] - 32s 52us/step - loss: 0.1336 - acc: 0.9524 - val_loss: 0.1503 - val_acc: 0.9439\n",
      "Epoch 5/10\n",
      "612000/612000 [==============================] - 33s 53us/step - loss: 0.1314 - acc: 0.9530 - val_loss: 0.1520 - val_acc: 0.9437\n",
      "Epoch 6/10\n",
      "612000/612000 [==============================] - 31s 51us/step - loss: 0.1297 - acc: 0.9537 - val_loss: 0.1495 - val_acc: 0.9436\n",
      "Epoch 7/10\n",
      "612000/612000 [==============================] - 32s 52us/step - loss: 0.1288 - acc: 0.9542 - val_loss: 0.1479 - val_acc: 0.9452\n",
      "Epoch 8/10\n",
      "612000/612000 [==============================] - 31s 51us/step - loss: 0.1282 - acc: 0.9540 - val_loss: 0.1499 - val_acc: 0.9444\n",
      "Epoch 9/10\n",
      "612000/612000 [==============================] - 32s 52us/step - loss: 0.1265 - acc: 0.9548 - val_loss: 0.1461 - val_acc: 0.9457\n",
      "Epoch 10/10\n",
      "612000/612000 [==============================] - 33s 54us/step - loss: 0.1261 - acc: 0.9550 - val_loss: 0.1411 - val_acc: 0.9463\n"
     ]
    },
    {
     "data": {
      "text/plain": [
       "<keras.callbacks.History at 0x7f164c48ce48>"
      ]
     },
     "execution_count": 12,
     "metadata": {},
     "output_type": "execute_result"
    }
   ],
   "source": [
    "parallel_model.fit(images, anwsers, batch_size=40000, epochs=10,\n",
    "                   validation_split=0.1)"
   ]
  },
  {
   "cell_type": "code",
   "execution_count": 13,
   "metadata": {},
   "outputs": [],
   "source": [
    "parallel_model.save_weights(\"CNN/CNN_v1/weights/cnn_v1_1e_3_10\")"
   ]
  },
  {
   "cell_type": "code",
   "execution_count": 11,
   "metadata": {},
   "outputs": [],
   "source": [
    "parallel_model.load_weights(\"CNN/CNN_v1/weights/cnn_v1_1e_3_10\")"
   ]
  },
  {
   "cell_type": "code",
   "execution_count": 14,
   "metadata": {},
   "outputs": [
    {
     "name": "stdout",
     "output_type": "stream",
     "text": [
      "Train on 612000 samples, validate on 68000 samples\n",
      "Epoch 1/10\n",
      "612000/612000 [==============================] - 32s 52us/step - loss: 0.1254 - acc: 0.9552 - val_loss: 0.1436 - val_acc: 0.9466\n",
      "Epoch 2/10\n",
      "612000/612000 [==============================] - 33s 53us/step - loss: 0.1254 - acc: 0.9554 - val_loss: 0.1503 - val_acc: 0.9449\n",
      "Epoch 3/10\n",
      "612000/612000 [==============================] - 31s 51us/step - loss: 0.1241 - acc: 0.9555 - val_loss: 0.1453 - val_acc: 0.9463\n",
      "Epoch 4/10\n",
      "612000/612000 [==============================] - 31s 51us/step - loss: 0.1232 - acc: 0.9559 - val_loss: 0.1492 - val_acc: 0.9452\n",
      "Epoch 5/10\n",
      "612000/612000 [==============================] - 32s 52us/step - loss: 0.1234 - acc: 0.9560 - val_loss: 0.1390 - val_acc: 0.9480\n",
      "Epoch 6/10\n",
      "612000/612000 [==============================] - 31s 51us/step - loss: 0.1225 - acc: 0.9560 - val_loss: 0.1448 - val_acc: 0.9467\n",
      "Epoch 7/10\n",
      "612000/612000 [==============================] - 31s 51us/step - loss: 0.1214 - acc: 0.9566 - val_loss: 0.1388 - val_acc: 0.9476\n",
      "Epoch 8/10\n",
      "612000/612000 [==============================] - 32s 52us/step - loss: 0.1209 - acc: 0.9569 - val_loss: 0.1392 - val_acc: 0.9478\n",
      "Epoch 9/10\n",
      "612000/612000 [==============================] - 32s 52us/step - loss: 0.1204 - acc: 0.9570 - val_loss: 0.1376 - val_acc: 0.9484\n",
      "Epoch 10/10\n",
      "612000/612000 [==============================] - 31s 51us/step - loss: 0.1200 - acc: 0.9571 - val_loss: 0.1360 - val_acc: 0.9486\n"
     ]
    },
    {
     "data": {
      "text/plain": [
       "<keras.callbacks.History at 0x7f1725744550>"
      ]
     },
     "execution_count": 14,
     "metadata": {},
     "output_type": "execute_result"
    }
   ],
   "source": [
    "parallel_model.fit(images, anwsers, batch_size=40000, epochs=10,\n",
    "                   validation_split=0.1)"
   ]
  },
  {
   "cell_type": "code",
   "execution_count": 15,
   "metadata": {},
   "outputs": [],
   "source": [
    "parallel_model.save_weights(\"CNN/CNN_v1/weights/cnn_v1_1e_3_20\")"
   ]
  },
  {
   "cell_type": "code",
   "execution_count": 13,
   "metadata": {},
   "outputs": [],
   "source": [
    "parallel_model.load_weights(\"CNN/CNN_v1/weights/cnn_v1_1e_3_20\")"
   ]
  },
  {
   "cell_type": "code",
   "execution_count": 14,
   "metadata": {},
   "outputs": [
    {
     "name": "stdout",
     "output_type": "stream",
     "text": [
      "Train on 612000 samples, validate on 68000 samples\n",
      "Epoch 1/10\n",
      "612000/612000 [==============================] - 32s 52us/step - loss: 0.1191 - acc: 0.9571 - val_loss: 0.1404 - val_acc: 0.9490\n",
      "Epoch 2/10\n",
      "612000/612000 [==============================] - 31s 51us/step - loss: 0.1185 - acc: 0.9571 - val_loss: 0.1356 - val_acc: 0.9482\n",
      "Epoch 3/10\n",
      "612000/612000 [==============================] - 31s 50us/step - loss: 0.1181 - acc: 0.9575 - val_loss: 0.1746 - val_acc: 0.9429\n",
      "Epoch 4/10\n",
      "612000/612000 [==============================] - 31s 50us/step - loss: 0.1180 - acc: 0.9572 - val_loss: 0.1528 - val_acc: 0.9474\n",
      "Epoch 5/10\n",
      "612000/612000 [==============================] - 31s 51us/step - loss: 0.1169 - acc: 0.9579 - val_loss: 0.1568 - val_acc: 0.9473\n",
      "Epoch 6/10\n",
      "612000/612000 [==============================] - 31s 51us/step - loss: 0.1165 - acc: 0.9581 - val_loss: 0.1366 - val_acc: 0.9489\n",
      "Epoch 7/10\n",
      "612000/612000 [==============================] - 31s 51us/step - loss: 0.1157 - acc: 0.9581 - val_loss: 0.1405 - val_acc: 0.9491\n",
      "Epoch 8/10\n",
      "612000/612000 [==============================] - 31s 50us/step - loss: 0.1163 - acc: 0.9581 - val_loss: 0.1441 - val_acc: 0.9496\n",
      "Epoch 9/10\n",
      "612000/612000 [==============================] - 31s 50us/step - loss: 0.1151 - acc: 0.9583 - val_loss: 0.1355 - val_acc: 0.9491\n",
      "Epoch 10/10\n",
      "612000/612000 [==============================] - 31s 50us/step - loss: 0.1151 - acc: 0.9585 - val_loss: 0.1355 - val_acc: 0.9494\n"
     ]
    },
    {
     "data": {
      "text/plain": [
       "<keras.callbacks.History at 0x7f2789830e80>"
      ]
     },
     "execution_count": 14,
     "metadata": {},
     "output_type": "execute_result"
    }
   ],
   "source": [
    "parallel_model.fit(images, anwsers, batch_size=35000, epochs=10,\n",
    "                   validation_split=0.1)"
   ]
  },
  {
   "cell_type": "code",
   "execution_count": 15,
   "metadata": {},
   "outputs": [],
   "source": [
    "parallel_model.save_weights(\"CNN/CNN_v1/weights/cnn_v1_1e_3_30\")"
   ]
  },
  {
   "cell_type": "code",
   "execution_count": 28,
   "metadata": {},
   "outputs": [],
   "source": [
    "parallel_model.load_weights(\"CNN/CNN_v1/weights/cnn_v1_1e_3_30\")"
   ]
  },
  {
   "cell_type": "code",
   "execution_count": 25,
   "metadata": {},
   "outputs": [
    {
     "data": {
      "text/plain": [
       "<tf.Tensor 'Assign_38:0' shape=() dtype=float32_ref>"
      ]
     },
     "execution_count": 25,
     "metadata": {},
     "output_type": "execute_result"
    }
   ],
   "source": [
    "parallel_model.optimizer.lr.assign(1e-5)"
   ]
  },
  {
   "cell_type": "code",
   "execution_count": 29,
   "metadata": {},
   "outputs": [
    {
     "name": "stdout",
     "output_type": "stream",
     "text": [
      "Train on 612000 samples, validate on 68000 samples\n",
      "Epoch 1/20\n",
      "612000/612000 [==============================] - 32s 52us/step - loss: 0.1152 - acc: 0.9585 - val_loss: 0.1412 - val_acc: 0.9494\n",
      "Epoch 2/20\n",
      "612000/612000 [==============================] - 31s 51us/step - loss: 0.1145 - acc: 0.9586 - val_loss: 0.1404 - val_acc: 0.9493\n",
      "Epoch 3/20\n",
      "612000/612000 [==============================] - 31s 50us/step - loss: 0.1140 - acc: 0.9588 - val_loss: 0.1347 - val_acc: 0.9496\n",
      "Epoch 4/20\n",
      "612000/612000 [==============================] - 31s 51us/step - loss: 0.1142 - acc: 0.9587 - val_loss: 0.1401 - val_acc: 0.9495\n",
      "Epoch 5/20\n",
      "612000/612000 [==============================] - 31s 51us/step - loss: 0.1137 - acc: 0.9588 - val_loss: 0.1402 - val_acc: 0.9492\n",
      "Epoch 6/20\n",
      "612000/612000 [==============================] - 31s 51us/step - loss: 0.1128 - acc: 0.9594 - val_loss: 0.1475 - val_acc: 0.9475\n",
      "Epoch 7/20\n",
      "612000/612000 [==============================] - 31s 50us/step - loss: 0.1129 - acc: 0.9593 - val_loss: 0.1337 - val_acc: 0.9498\n",
      "Epoch 8/20\n",
      "612000/612000 [==============================] - 31s 51us/step - loss: 0.1126 - acc: 0.9592 - val_loss: 0.2055 - val_acc: 0.9422\n",
      "Epoch 9/20\n",
      "612000/612000 [==============================] - 31s 51us/step - loss: 0.1120 - acc: 0.9597 - val_loss: 0.1489 - val_acc: 0.9484\n",
      "Epoch 10/20\n",
      "612000/612000 [==============================] - 32s 52us/step - loss: 0.1116 - acc: 0.9597 - val_loss: 0.1424 - val_acc: 0.9496\n",
      "Epoch 11/20\n",
      "612000/612000 [==============================] - 31s 51us/step - loss: 0.1113 - acc: 0.9598 - val_loss: 0.1381 - val_acc: 0.9500\n",
      "Epoch 12/20\n",
      "612000/612000 [==============================] - 31s 50us/step - loss: 0.1110 - acc: 0.9598 - val_loss: 0.1348 - val_acc: 0.9490\n",
      "Epoch 13/20\n",
      "612000/612000 [==============================] - 31s 51us/step - loss: 0.1118 - acc: 0.9597 - val_loss: 0.1416 - val_acc: 0.9488\n",
      "Epoch 14/20\n",
      "612000/612000 [==============================] - 31s 51us/step - loss: 0.1119 - acc: 0.9593 - val_loss: 0.1532 - val_acc: 0.9467\n",
      "Epoch 15/20\n",
      "612000/612000 [==============================] - 31s 50us/step - loss: 0.1101 - acc: 0.9602 - val_loss: 0.1343 - val_acc: 0.9498\n",
      "Epoch 16/20\n",
      "612000/612000 [==============================] - 31s 51us/step - loss: 0.1094 - acc: 0.9604 - val_loss: 0.1339 - val_acc: 0.9500\n",
      "Epoch 17/20\n",
      "612000/612000 [==============================] - 33s 53us/step - loss: 0.1094 - acc: 0.9605 - val_loss: 0.1324 - val_acc: 0.9495\n",
      "Epoch 18/20\n",
      "612000/612000 [==============================] - 31s 51us/step - loss: 0.1092 - acc: 0.9603 - val_loss: 0.1331 - val_acc: 0.9500\n",
      "Epoch 19/20\n",
      "612000/612000 [==============================] - 31s 51us/step - loss: 0.1089 - acc: 0.9606 - val_loss: 0.1408 - val_acc: 0.9490\n",
      "Epoch 20/20\n",
      "612000/612000 [==============================] - 31s 50us/step - loss: 0.1084 - acc: 0.9607 - val_loss: 0.1339 - val_acc: 0.9497\n"
     ]
    },
    {
     "data": {
      "text/plain": [
       "<keras.callbacks.History at 0x7f26c836a898>"
      ]
     },
     "execution_count": 29,
     "metadata": {},
     "output_type": "execute_result"
    }
   ],
   "source": [
    "parallel_model.fit(images, anwsers, batch_size=35000, epochs=20,\n",
    "                   validation_split=0.1)"
   ]
  },
  {
   "cell_type": "code",
   "execution_count": 30,
   "metadata": {},
   "outputs": [],
   "source": [
    "parallel_model.save_weights(\"CNN/CNN_v1/weights/cnn_v1_1e_5_20\")"
   ]
  },
  {
   "cell_type": "code",
   "execution_count": 28,
   "metadata": {},
   "outputs": [],
   "source": [
    "parallel_model.load_weights(\"CNN/CNN_v1/weights/cnn_v1_1e_5_20\")"
   ]
  },
  {
   "cell_type": "code",
   "execution_count": 31,
   "metadata": {},
   "outputs": [
    {
     "name": "stdout",
     "output_type": "stream",
     "text": [
      "Train on 612000 samples, validate on 68000 samples\n",
      "Epoch 1/20\n",
      "612000/612000 [==============================] - 31s 50us/step - loss: 0.1079 - acc: 0.9608 - val_loss: 0.1464 - val_acc: 0.9485\n",
      "Epoch 2/20\n",
      "612000/612000 [==============================] - 31s 50us/step - loss: 0.1094 - acc: 0.9604 - val_loss: 0.1342 - val_acc: 0.9491\n",
      "Epoch 3/20\n",
      "612000/612000 [==============================] - 31s 51us/step - loss: 0.1084 - acc: 0.9605 - val_loss: 0.1338 - val_acc: 0.9491\n",
      "Epoch 4/20\n",
      "612000/612000 [==============================] - 31s 51us/step - loss: 0.1077 - acc: 0.9609 - val_loss: 0.1441 - val_acc: 0.9490\n",
      "Epoch 5/20\n",
      "612000/612000 [==============================] - 30s 50us/step - loss: 0.1076 - acc: 0.9609 - val_loss: 0.1348 - val_acc: 0.9493\n",
      "Epoch 6/20\n",
      "612000/612000 [==============================] - 31s 51us/step - loss: 0.1081 - acc: 0.9608 - val_loss: 0.1495 - val_acc: 0.9468\n",
      "Epoch 7/20\n",
      "612000/612000 [==============================] - 32s 52us/step - loss: 0.1079 - acc: 0.9610 - val_loss: 0.1375 - val_acc: 0.9491\n",
      "Epoch 8/20\n",
      "612000/612000 [==============================] - 31s 50us/step - loss: 0.1084 - acc: 0.9606 - val_loss: 0.1571 - val_acc: 0.9472\n",
      "Epoch 9/20\n",
      "612000/612000 [==============================] - 32s 52us/step - loss: 0.1079 - acc: 0.9609 - val_loss: 0.1372 - val_acc: 0.9499\n",
      "Epoch 10/20\n",
      "612000/612000 [==============================] - 31s 51us/step - loss: 0.1064 - acc: 0.9615 - val_loss: 0.1360 - val_acc: 0.9501\n",
      "Epoch 11/20\n",
      "612000/612000 [==============================] - 31s 50us/step - loss: 0.1064 - acc: 0.9615 - val_loss: 0.1357 - val_acc: 0.9493\n",
      "Epoch 12/20\n",
      "612000/612000 [==============================] - 32s 52us/step - loss: 0.1057 - acc: 0.9617 - val_loss: 0.1406 - val_acc: 0.9486\n",
      "Epoch 13/20\n",
      "612000/612000 [==============================] - 31s 50us/step - loss: 0.1055 - acc: 0.9616 - val_loss: 0.1346 - val_acc: 0.9493\n",
      "Epoch 14/20\n",
      "612000/612000 [==============================] - 31s 50us/step - loss: 0.1067 - acc: 0.9614 - val_loss: 0.1353 - val_acc: 0.9496\n",
      "Epoch 15/20\n",
      "612000/612000 [==============================] - 31s 51us/step - loss: 0.1056 - acc: 0.9617 - val_loss: 0.1376 - val_acc: 0.9491\n",
      "Epoch 16/20\n",
      "612000/612000 [==============================] - 31s 51us/step - loss: 0.1058 - acc: 0.9614 - val_loss: 0.1363 - val_acc: 0.9497\n",
      "Epoch 17/20\n",
      "612000/612000 [==============================] - 31s 50us/step - loss: 0.1056 - acc: 0.9619 - val_loss: 0.1352 - val_acc: 0.9495\n",
      "Epoch 18/20\n",
      "612000/612000 [==============================] - 31s 51us/step - loss: 0.1051 - acc: 0.9619 - val_loss: 0.1340 - val_acc: 0.9499\n",
      "Epoch 19/20\n",
      "612000/612000 [==============================] - 32s 52us/step - loss: 0.1052 - acc: 0.9617 - val_loss: 0.1339 - val_acc: 0.9505\n",
      "Epoch 20/20\n",
      "612000/612000 [==============================] - 31s 50us/step - loss: 0.1040 - acc: 0.9625 - val_loss: 0.1366 - val_acc: 0.9492\n"
     ]
    },
    {
     "data": {
      "text/plain": [
       "<keras.callbacks.History at 0x7f26e0325b00>"
      ]
     },
     "execution_count": 31,
     "metadata": {},
     "output_type": "execute_result"
    }
   ],
   "source": [
    "parallel_model.fit(images, anwsers, batch_size=35000, epochs=20,\n",
    "                   validation_split=0.1)"
   ]
  },
  {
   "cell_type": "code",
   "execution_count": 32,
   "metadata": {},
   "outputs": [],
   "source": [
    "parallel_model.save_weights(\"CNN/CNN_v1/weights/cnn_v1_1e_5_40\")"
   ]
  },
  {
   "cell_type": "code",
   "execution_count": 36,
   "metadata": {},
   "outputs": [],
   "source": [
    "parallel_model.load_weights(\"CNN/CNN_v1/weights/cnn_v1_1e_5_40\")"
   ]
  },
  {
   "cell_type": "code",
   "execution_count": 37,
   "metadata": {},
   "outputs": [
    {
     "name": "stdout",
     "output_type": "stream",
     "text": [
      "Train on 612000 samples, validate on 68000 samples\n",
      "Epoch 1/1\n",
      "612000/612000 [==============================] - 31s 51us/step - loss: 0.1051 - acc: 0.9619 - val_loss: 0.1458 - val_acc: 0.9485\n"
     ]
    },
    {
     "data": {
      "text/plain": [
       "<keras.callbacks.History at 0x7f26c836aa90>"
      ]
     },
     "execution_count": 37,
     "metadata": {},
     "output_type": "execute_result"
    }
   ],
   "source": [
    "parallel_model.fit(images, anwsers, batch_size=35000, epochs=1,\n",
    "                   validation_split=0.1)"
   ]
  },
  {
   "cell_type": "code",
   "execution_count": 38,
   "metadata": {},
   "outputs": [
    {
     "name": "stdout",
     "output_type": "stream",
     "text": [
      "Train on 612000 samples, validate on 68000 samples\n",
      "Epoch 1/1\n",
      "612000/612000 [==============================] - 31s 50us/step - loss: 0.1041 - acc: 0.9621 - val_loss: 0.1365 - val_acc: 0.9499\n"
     ]
    },
    {
     "data": {
      "text/plain": [
       "<keras.callbacks.History at 0x7f2718128c50>"
      ]
     },
     "execution_count": 38,
     "metadata": {},
     "output_type": "execute_result"
    }
   ],
   "source": [
    "parallel_model.fit(images, anwsers, batch_size=35000, epochs=1,\n",
    "                   validation_split=0.1)"
   ]
  },
  {
   "cell_type": "code",
   "execution_count": 39,
   "metadata": {},
   "outputs": [],
   "source": [
    "parallel_model.save_weights(\"CNN/CNN_v1/weights/cnn_v1_1e_5_42\")"
   ]
  },
  {
   "cell_type": "code",
   "execution_count": 41,
   "metadata": {},
   "outputs": [],
   "source": [
    "parallel_model.load_weights(\"CNN/CNN_v1/weights/cnn_v1_1e_5_42\")"
   ]
  },
  {
   "cell_type": "code",
   "execution_count": 68,
   "metadata": {},
   "outputs": [
    {
     "data": {
      "text/plain": [
       "<tf.Tensor 'Assign_39:0' shape=() dtype=float32_ref>"
      ]
     },
     "execution_count": 68,
     "metadata": {},
     "output_type": "execute_result"
    }
   ],
   "source": [
    "parallel_model.optimizer.lr.assign(1e-6)"
   ]
  },
  {
   "cell_type": "code",
   "execution_count": 69,
   "metadata": {},
   "outputs": [
    {
     "name": "stdout",
     "output_type": "stream",
     "text": [
      "Train on 612000 samples, validate on 68000 samples\n",
      "Epoch 1/1\n",
      "612000/612000 [==============================] - 31s 50us/step - loss: 0.1034 - acc: 0.9626 - val_loss: 0.1348 - val_acc: 0.9499\n"
     ]
    },
    {
     "data": {
      "text/plain": [
       "<keras.callbacks.History at 0x7f2789c896a0>"
      ]
     },
     "execution_count": 69,
     "metadata": {},
     "output_type": "execute_result"
    }
   ],
   "source": [
    "parallel_model.fit(images, anwsers, batch_size=35000, epochs=1,\n",
    "                   validation_split=0.1)"
   ]
  },
  {
   "cell_type": "code",
   "execution_count": 71,
   "metadata": {},
   "outputs": [],
   "source": [
    "parallel_model.save_weights(\"CNN/CNN_v1/weights/cnn_v1_1e_6_1\")"
   ]
  },
  {
   "cell_type": "code",
   "execution_count": 73,
   "metadata": {},
   "outputs": [],
   "source": [
    "parallel_model.load_weights(\"CNN/CNN_v1/weights/cnn_v1_1e_6_1\")"
   ]
  },
  {
   "cell_type": "code",
   "execution_count": 74,
   "metadata": {},
   "outputs": [
    {
     "name": "stdout",
     "output_type": "stream",
     "text": [
      "Train on 612000 samples, validate on 68000 samples\n",
      "Epoch 1/10\n",
      "612000/612000 [==============================] - 31s 51us/step - loss: 0.1033 - acc: 0.9627 - val_loss: 0.1333 - val_acc: 0.9498\n",
      "Epoch 2/10\n",
      "612000/612000 [==============================] - 31s 50us/step - loss: 0.1034 - acc: 0.9625 - val_loss: 0.1555 - val_acc: 0.9475\n",
      "Epoch 3/10\n",
      "612000/612000 [==============================] - 31s 50us/step - loss: 0.1032 - acc: 0.9625 - val_loss: 0.1466 - val_acc: 0.9480\n",
      "Epoch 4/10\n",
      "612000/612000 [==============================] - 32s 52us/step - loss: 0.1029 - acc: 0.9626 - val_loss: 0.1435 - val_acc: 0.9490\n",
      "Epoch 5/10\n",
      "612000/612000 [==============================] - 31s 51us/step - loss: 0.1030 - acc: 0.9624 - val_loss: 0.1537 - val_acc: 0.9488\n",
      "Epoch 6/10\n",
      "612000/612000 [==============================] - 31s 50us/step - loss: 0.1032 - acc: 0.9623 - val_loss: 0.1453 - val_acc: 0.9490\n",
      "Epoch 7/10\n",
      "612000/612000 [==============================] - 32s 52us/step - loss: 0.1040 - acc: 0.9622 - val_loss: 0.1503 - val_acc: 0.9482\n",
      "Epoch 8/10\n",
      "612000/612000 [==============================] - 31s 51us/step - loss: 0.1028 - acc: 0.9627 - val_loss: 0.1418 - val_acc: 0.9484\n",
      "Epoch 9/10\n",
      "612000/612000 [==============================] - 31s 51us/step - loss: 0.1018 - acc: 0.9630 - val_loss: 0.1361 - val_acc: 0.9491\n",
      "Epoch 10/10\n",
      "612000/612000 [==============================] - 31s 50us/step - loss: 0.1020 - acc: 0.9630 - val_loss: 0.1371 - val_acc: 0.9492\n"
     ]
    },
    {
     "data": {
      "text/plain": [
       "<keras.callbacks.History at 0x7f26c8358390>"
      ]
     },
     "execution_count": 74,
     "metadata": {},
     "output_type": "execute_result"
    }
   ],
   "source": [
    "parallel_model.fit(images, anwsers, batch_size=35000, epochs=10,\n",
    "                   validation_split=0.1)"
   ]
  },
  {
   "cell_type": "code",
   "execution_count": 75,
   "metadata": {},
   "outputs": [
    {
     "name": "stdout",
     "output_type": "stream",
     "text": [
      "Train on 612000 samples, validate on 68000 samples\n",
      "Epoch 1/1\n",
      "612000/612000 [==============================] - 31s 51us/step - loss: 0.1019 - acc: 0.9630 - val_loss: 0.1526 - val_acc: 0.9487\n"
     ]
    },
    {
     "data": {
      "text/plain": [
       "<keras.callbacks.History at 0x7f26c83588d0>"
      ]
     },
     "execution_count": 75,
     "metadata": {},
     "output_type": "execute_result"
    }
   ],
   "source": [
    "parallel_model.fit(images, anwsers, batch_size=35000, epochs=1,\n",
    "                   validation_split=0.1)"
   ]
  },
  {
   "cell_type": "code",
   "execution_count": 76,
   "metadata": {},
   "outputs": [
    {
     "name": "stdout",
     "output_type": "stream",
     "text": [
      "Train on 612000 samples, validate on 68000 samples\n",
      "Epoch 1/9\n",
      "612000/612000 [==============================] - 32s 52us/step - loss: 0.1011 - acc: 0.9633 - val_loss: 0.1426 - val_acc: 0.9497\n",
      "Epoch 2/9\n",
      "612000/612000 [==============================] - 31s 51us/step - loss: 0.1022 - acc: 0.9628 - val_loss: 0.1774 - val_acc: 0.9438\n",
      "Epoch 3/9\n",
      "612000/612000 [==============================] - 31s 51us/step - loss: 0.1015 - acc: 0.9632 - val_loss: 0.1371 - val_acc: 0.9498\n",
      "Epoch 4/9\n",
      "612000/612000 [==============================] - 32s 52us/step - loss: 0.1008 - acc: 0.9632 - val_loss: 0.1443 - val_acc: 0.9496\n",
      "Epoch 5/9\n",
      "612000/612000 [==============================] - 31s 51us/step - loss: 0.1023 - acc: 0.9629 - val_loss: 0.1536 - val_acc: 0.9474\n",
      "Epoch 6/9\n",
      "612000/612000 [==============================] - 31s 50us/step - loss: 0.1081 - acc: 0.9608 - val_loss: 0.1349 - val_acc: 0.9498\n",
      "Epoch 7/9\n",
      "612000/612000 [==============================] - 30s 50us/step - loss: 0.1044 - acc: 0.9619 - val_loss: 0.1378 - val_acc: 0.9504\n",
      "Epoch 8/9\n",
      "612000/612000 [==============================] - 31s 51us/step - loss: 0.1037 - acc: 0.9622 - val_loss: 0.1356 - val_acc: 0.9496\n",
      "Epoch 9/9\n",
      "612000/612000 [==============================] - 31s 50us/step - loss: 0.1019 - acc: 0.9629 - val_loss: 0.1366 - val_acc: 0.9500\n"
     ]
    },
    {
     "data": {
      "text/plain": [
       "<keras.callbacks.History at 0x7f26c836f0f0>"
      ]
     },
     "execution_count": 76,
     "metadata": {},
     "output_type": "execute_result"
    }
   ],
   "source": [
    "parallel_model.fit(images, anwsers, batch_size=35000, epochs=9,\n",
    "                   validation_split=0.1)"
   ]
  },
  {
   "cell_type": "code",
   "execution_count": 77,
   "metadata": {},
   "outputs": [],
   "source": [
    "parallel_model.save_weights(\"CNN/CNN_v1/weights/cnn_v1_1e_6_21\")"
   ]
  },
  {
   "cell_type": "code",
   "execution_count": 73,
   "metadata": {},
   "outputs": [],
   "source": [
    "parallel_model.load_weights(\"CNN/CNN_v1/weights/cnn_v1_1e_6_21\")"
   ]
  },
  {
   "cell_type": "code",
   "execution_count": 85,
   "metadata": {},
   "outputs": [
    {
     "name": "stdout",
     "output_type": "stream",
     "text": [
      "Train on 612000 samples, validate on 68000 samples\n",
      "Epoch 1/9\n",
      "612000/612000 [==============================] - 32s 52us/step - loss: 0.1020 - acc: 0.9629 - val_loss: 0.1344 - val_acc: 0.9503\n",
      "Epoch 2/9\n",
      "612000/612000 [==============================] - 31s 50us/step - loss: 0.1011 - acc: 0.9632 - val_loss: 0.1498 - val_acc: 0.9492\n",
      "Epoch 3/9\n",
      "612000/612000 [==============================] - 31s 51us/step - loss: 0.1005 - acc: 0.9633 - val_loss: 0.1369 - val_acc: 0.9498\n",
      "Epoch 4/9\n",
      "612000/612000 [==============================] - 31s 50us/step - loss: 0.1011 - acc: 0.9631 - val_loss: 0.1349 - val_acc: 0.9501\n",
      "Epoch 5/9\n",
      "612000/612000 [==============================] - 31s 50us/step - loss: 0.1008 - acc: 0.9632 - val_loss: 0.1464 - val_acc: 0.9489\n",
      "Epoch 6/9\n",
      "612000/612000 [==============================] - 32s 52us/step - loss: 0.1000 - acc: 0.9635 - val_loss: 0.1425 - val_acc: 0.9488\n",
      "Epoch 7/9\n",
      "612000/612000 [==============================] - 31s 50us/step - loss: 0.0995 - acc: 0.9638 - val_loss: 0.1506 - val_acc: 0.9474\n",
      "Epoch 8/9\n",
      "612000/612000 [==============================] - 31s 50us/step - loss: 0.0996 - acc: 0.9637 - val_loss: 0.1469 - val_acc: 0.9486\n",
      "Epoch 9/9\n",
      "612000/612000 [==============================] - 31s 51us/step - loss: 0.0991 - acc: 0.9640 - val_loss: 0.1390 - val_acc: 0.9505\n"
     ]
    },
    {
     "data": {
      "text/plain": [
       "<keras.callbacks.History at 0x7f26c836e080>"
      ]
     },
     "execution_count": 85,
     "metadata": {},
     "output_type": "execute_result"
    }
   ],
   "source": [
    "parallel_model.fit(images, anwsers, batch_size=35000, epochs=9,\n",
    "                   validation_split=0.1)"
   ]
  },
  {
   "cell_type": "code",
   "execution_count": 92,
   "metadata": {},
   "outputs": [],
   "source": [
    "parallel_model.save_weights(\"CNN/CNN_v1/weights/cnn_v1_1e_6_30\")"
   ]
  },
  {
   "cell_type": "code",
   "execution_count": 73,
   "metadata": {},
   "outputs": [],
   "source": [
    "parallel_model.load_weights(\"CNN/CNN_v1/weights/cnn_v1_1e_6_30\")"
   ]
  }
 ],
 "metadata": {
  "kernelspec": {
   "display_name": "Python 3",
   "language": "python",
   "name": "python3"
  },
  "language_info": {
   "codemirror_mode": {
    "name": "ipython",
    "version": 3
   },
   "file_extension": ".py",
   "mimetype": "text/x-python",
   "name": "python",
   "nbconvert_exporter": "python",
   "pygments_lexer": "ipython3",
   "version": "3.6.6"
  }
 },
 "nbformat": 4,
 "nbformat_minor": 2
}
