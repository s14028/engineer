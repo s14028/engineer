{
 "cells": [
  {
   "cell_type": "code",
   "execution_count": 1,
   "metadata": {},
   "outputs": [
    {
     "name": "stdout",
     "output_type": "stream",
     "text": [
      "/home/PJWSTK/s14028/Engine\n"
     ]
    }
   ],
   "source": [
    "%cd ../../"
   ]
  },
  {
   "cell_type": "code",
   "execution_count": 2,
   "metadata": {},
   "outputs": [
    {
     "name": "stderr",
     "output_type": "stream",
     "text": [
      "Using TensorFlow backend.\n"
     ]
    }
   ],
   "source": [
    "import keras\n",
    "\n",
    "from common import *\n",
    "from testing import test_model\n",
    "from testing import best_cop_diff\n",
    "from testing import mse\n",
    "from testing import mae\n",
    "\n",
    "from CNN.CNN_v1 import CNN_v1"
   ]
  },
  {
   "cell_type": "code",
   "execution_count": 3,
   "metadata": {},
   "outputs": [],
   "source": [
    "train, test = data_sets()\n",
    "image_tensors = train[0], test[0]\n",
    "person_coo_tensors = train[1], test[1]\n",
    "count_matrix = train[2], test[2]\n",
    "\n",
    "image_train, image_test = image_tensors\n",
    "person_coo_train, person_coo_test = person_coo_tensors\n",
    "count_train, count_test = count_matrix\n",
    "count_train = count_train.astype(np.uint16)\n",
    "count_test = count_test.astype(np.uint16)"
   ]
  },
  {
   "cell_type": "code",
   "execution_count": 4,
   "metadata": {},
   "outputs": [],
   "source": [
    "cnn = CNN_v1((480, 640, 3), split_into_parts=40)\n",
    "\n",
    "images = cnn._prepare_images(image_test)\n",
    "anwsers = cnn._prepare_anwsers(person_coo_test)"
   ]
  },
  {
   "cell_type": "code",
   "execution_count": 5,
   "metadata": {},
   "outputs": [],
   "source": [
    "cop = np.linspace(0, 1, 11)[1:-1]"
   ]
  },
  {
   "cell_type": "code",
   "execution_count": 6,
   "metadata": {},
   "outputs": [],
   "source": [
    "prefix = \"CNN/CNN_v1/weights/\""
   ]
  },
  {
   "cell_type": "code",
   "execution_count": 7,
   "metadata": {},
   "outputs": [],
   "source": [
    "model_names = [\"cnn_v1_40_1e_0_100\",\n",
    "               \"cnn_v1_40_1e_3_50\",\n",
    "               \"cnn_v1_40_1e_3_100\",\n",
    "               \"cnn_v1_40_1e_3_150\"]\n",
    "\n",
    "model_names = [prefix + name for name in model_names]"
   ]
  },
  {
   "cell_type": "code",
   "execution_count": 8,
   "metadata": {},
   "outputs": [],
   "source": [
    "models = [CNN_v1((480, 640, 3), split_into_parts=40) for i in range(len(model_names))]"
   ]
  },
  {
   "cell_type": "code",
   "execution_count": 9,
   "metadata": {},
   "outputs": [
    {
     "name": "stdout",
     "output_type": "stream",
     "text": [
      "Epoch 1/1\n",
      "1/1 [==============================] - 2s 2s/step - loss: 0.6934 - acc: 1.0000\n",
      "Epoch 1/1\n",
      "1/1 [==============================] - 1s 1s/step - loss: 0.6934 - acc: 1.0000\n",
      "Epoch 1/1\n",
      "1/1 [==============================] - 2s 2s/step - loss: 0.6935 - acc: 1.0000\n",
      "Epoch 1/1\n",
      "1/1 [==============================] - 2s 2s/step - loss: 0.6934 - acc: 1.0000\n"
     ]
    }
   ],
   "source": [
    "results = {}\n",
    "\n",
    "for model_name, model in zip(model_names, models):\n",
    "  model.def_model()\n",
    "  model.model.fit(images[:1], anwsers[:1])\n",
    "  \n",
    "  model.model = keras.utils.multi_gpu_model(model.model, gpus=3, cpu_merge=False)\n",
    "  model.model.compile(loss=\"binary_crossentropy\", optimizer=\"adam\", metrics=[\"accuracy\"])\n",
    "  \n",
    "  model.model.load_weights(model_name)\n",
    "  \n",
    "  results[model_name] = test_model(model=model, images=image_test, counts=count_test, cut_of_points=cop)"
   ]
  },
  {
   "cell_type": "code",
   "execution_count": 10,
   "metadata": {},
   "outputs": [
    {
     "name": "stdout",
     "output_type": "stream",
     "text": [
      "Model CNN/CNN_v1/weights/cnn_v1_40_1e_0_100 behaved:\n",
      "For cut-of-point 0.2 had accuracy 84.47549557460538:\n",
      "[  7  -3   3   7  12   6  -2  -3   4  -7  -6  -2  -5  -6  -1  -3   6   0\n",
      "  -2   3  -5   0  -3  -9   0  -4  -7   1  -1  -4   9  -2  -2   7   9  14\n",
      "  14   9   7   8   8   2  16   1   0   1  14   5   3   1   2   1  -8  -7\n",
      "  -5   2   2   7   2  -1  19  -3   6   4   6  -3  -7 -12 -14   7  -4  -5\n",
      "   3  -1  -2   1  -7  -7  -5  -7  -3  -4  -1  -5  -1  -4  -3  -1   6   1\n",
      "  -1   2   3 -19   1 -10  -4  -7  -5   3   3  -4   8  -5   5   4  -3  -5\n",
      "  -7   2   1  -1   0   1  -1  12  10   2   1  -5  -7  -1   4   0  -9  -5\n",
      "  -3  -6  -4  -3   4   3 -13  -8   8  -1   0  -9 -10   4   1  -3  -3   1\n",
      "   6   5   4   5   2  -3  -2  -3   4   0  -3  -1   4   1   3   5   3  -1\n",
      "   3   0  -3  14   0   4  -4   2   3   1  -5   5   4  -3   3   3   9   8\n",
      "  13  -3  -7  -1   1   3  -8   0   6  -1   0   2  -2  -7  -5   4  -3   3\n",
      "   2   3  -1   5   5   1   9   6   6  -3   4   0   2   9  -3  -4   3  10\n",
      "  12   6   6   6  11  10   7   9  11  11  12  12   5   3   3   8   6  12\n",
      "   3   3   2   4  -2   3  -4   6  -3  -3  -3  20   5   1  10   3   1   1\n",
      "  -5  -2   3   6   8   3   7  11  -3   6   1  -3   2   1   1  15  -1  -6\n",
      "  -7  -5  -7 -13   3   2   5   2   5   7  -3  -1  10   0  10  15  -4  -4\n",
      "  -3   2   5   1   6  -4  -1   8  -2   2  -1   3]\n",
      "With MSE 36.1\n",
      "With MAE 4.713333333333333\n",
      "\n",
      "Model CNN/CNN_v1/weights/cnn_v1_40_1e_3_50 behaved:\n",
      "For cut-of-point 0.30000000000000004 had accuracy 82.11153170170692:\n",
      "[ 12   4   7   2   5  19  -3  -4   8  -4  -2   0  -3   2   1   0   9   1\n",
      "  -1   6  -4   2  -3  -1   6  -5  -5   4  -4   0   8   5   2   8   7  16\n",
      "  26  11  19   9  12   1  17   0   4   3  14   5   8  -3   6   7  -4  -6\n",
      "  -5   0   1   9   3  -3  20   5   6   5   9 -10 -12 -11  -7   4  -1  -2\n",
      "   9   2   9   1  -4  -2  -2  -3   3   4  -2  -4   0   0  -5  -1  13   4\n",
      "   1  -2   7 -17  -1 -10   3  -9  -2   4   4  -3  10   2  14   5   1  -1\n",
      "   3   3   3   0  -1  -3   0  15  12   5   2  -1  -7   8   8   4  -4  -8\n",
      "  -3  -5  -1   4   8  11  -8   4  16  -3   3  -9   0  -4  -5  -7  -3   3\n",
      "   8  15   5   9   3   7  -3  -6   5   0   2  -1   5  -2   5   4  -1  -2\n",
      "   1   3  -4   9   8   4  -3   4   2   8  -2   1   3   2  12   4   2   4\n",
      "   6  -2  -7   2   0  -2  -3   9   7   4  -3   5  10  -1   3   7   9   2\n",
      "   7   3  -2   3   5   3   5   6   8   1   4   0  -2   7   0  -2   8   8\n",
      "  12   8   5   0  13   8  17  14   9  12  14  16   9   7   9  17   3  10\n",
      "   4   7  -2   2   2   2  -1   4   1  11   0  16   3  12  17   7  -2   3\n",
      "  -3   2   8   5  10   7   6  10  -1   3   5  -1   6  12   2  10   2  -2\n",
      "  -1   8  -1   0   3  10   8   4   4  14  -4   7  11   6   7  13   5  -2\n",
      "   5   7   9   5   7  -2   4   6   3   6   1   1]\n",
      "With MSE 49.333333333333336\n",
      "With MAE 5.473333333333334\n",
      "\n",
      "Model CNN/CNN_v1/weights/cnn_v1_40_1e_3_100 behaved:\n",
      "For cut-of-point 0.30000000000000004 had accuracy 86.42242245969403:\n",
      "[ -1  -2  -7   2  -4   9  -8   0  -5  -6  -2  -2  -8  -2   1   0   5   0\n",
      "  -3  -2  -6  -3  -7  -1   3  -5  -6  -1  -7  -2   6  -4  -5   0   4   2\n",
      "  12   3  13   4   2   5   9  -2  -2  -4  11   6   0  -3  -1   3  -6  -5\n",
      "  -5  -1 -12  -2  -3  -7   0   1   7   2   2 -12 -10 -12 -14   0  -8  -7\n",
      "  -1  -3  -5   0  -9  -9  -9  -8  -5  -7  -3  -2  -4  -8  -2  -5   2   1\n",
      "   1  -8  -3 -22  -1 -11  -9  -7  -8  -6  -5  -4   7   2  -3  -2  -2   1\n",
      "  -6  -4   0  -3   3  -8  -5  -2   3   2   0  -4  -9  -1   4  -5  -8  -9\n",
      "   6  -4  -1  -2   6   3 -11   3  -4  -7  -4  -3  -4  -2 -12  -9  -9 -10\n",
      " -10   2  -1   2  -2   5  -1  -9  -2  -4  -5  -4   2  -4   1   2  -4  -6\n",
      "   3  -1  -8   2   6  -2  -4  -1  -1   0  -3  -4  -1  -5   2  -3  -1   4\n",
      "   0  -6  -8  -7  -1  -2 -14   4   1   4  -5  -1  -3  -3  -5   4  -1  -5\n",
      "  -9  -7  -2  -1  -2   3   7   5   5   2  -4 -11  -6  -1  -6  -4  -6   0\n",
      "   2   0   1  -8   4  -4   0   5   0  -2  -3  -1  -1  -2  -2   8  -1   1\n",
      "  -6   0  -2   3  -5  -1  -6   7   0  -1  -6  -1  -5   6   2  -8  -4  -1\n",
      "  -3   1   1   2   4   0  -6   1  -6  -5  -1  -4   3  -8  -1   3  -1  -9\n",
      "  -7   0  -7 -11   1  -1   5   0  -2   3 -10  -2   2  -5  -5   3   5  -2\n",
      "  -1  -2  -2  -5  -4  -6  -4  -1  -2   1  -6 -10]\n",
      "With MSE 27.77\n",
      "With MAE 4.1433333333333335\n",
      "\n",
      "Model CNN/CNN_v1/weights/cnn_v1_40_1e_3_150 behaved:\n",
      "For cut-of-point 0.30000000000000004 had accuracy 79.78596843944766:\n",
      "[ -6  -5 -13  -7  -9   5  -7   1  -6 -10  -3  -4 -11  -4  -4  -3  -6  -2\n",
      "  -4  -4 -10  -4 -11  -6  -5  -8  -6  -5  -5  -1   1  -7  -8   0  -2  -2\n",
      "   7   2   4   2   1  -5  -5  -4  -4  -5   5   3  -3  -6  -7  -4 -10  -6\n",
      " -10   0  -6  -9   0 -15  -4 -13  -8  -6  -8 -10 -12 -11 -13  -9 -10  -6\n",
      "  -3  -6  -9  -4  -6 -13  -8  -9  -4  -6  -8  -4  -5  -8  -6  -5   4   0\n",
      "   1 -11  -3 -25  -9 -13  -7 -10 -12  -5  -8  -4  -3  -4  -2  -5 -10  -7\n",
      "  -9 -10  -9  -4  -4  -7 -12  -6  -3  -4  -2  -6 -14 -10  -4  -7 -16 -10\n",
      "  -1  -8  -5  -8   3  -6 -14  -2  -8 -11  -7  -5  -9  -7  -5 -12 -15 -12\n",
      " -14  -1 -11   0  -8  -2  -5 -10  -2 -11 -12 -11  -5  -9  -7   0  -6  -6\n",
      "  -9   0 -10   1   3  -9  -1   1  -9  -4  -4  -6  -7  -7  -4  -6  -5  -4\n",
      "  -1  -6 -14 -12  -5  -5 -10  -6   3  -4 -11  -6  -7  -8  -9   1  -1  -6\n",
      "  -4  -1  -3  -4  -1  -6   2   0  -1  -4  -7 -14  -9  -9 -13 -12  -4  -8\n",
      "  -1  -3  -7  -8  -3  -9  -3  -6  -3  -8   0  -5  -6 -10  -5  -2 -13  -6\n",
      "  -9  -5  -3  -4  -8  -5 -16  -6  -5  -8 -15  -2  -9 -11  -5 -13  -4  -6\n",
      "  -5  -5  -6  -2  -3  -5  -8   1  -8  -8  -5  -9  -2  -9  -6   2  -5 -13\n",
      " -10 -13 -11 -10  -2  -1  -2  -3  -1  -7  -8  -6  -3   2 -10   0  -4 -11\n",
      "  -7  -4  -6  -4  -8  -9  -6  -5  -6  -3  -8 -10]\n",
      "With MSE 54.123333333333335\n",
      "With MAE 6.303333333333334\n",
      "\n"
     ]
    }
   ],
   "source": [
    "for name, result in results.items():\n",
    "  diff = best_cop_diff(result, count_test)\n",
    "  \n",
    "  print(f\"Model {name} behaved:\")\n",
    "  \n",
    "  print(f\"For cut-of-point {diff[0]} had accuracy {diff[1]}:\")\n",
    "  print(diff[2])\n",
    "  \n",
    "  print(f\"With MSE {mse(diff[2])}\")\n",
    "  print(f\"With MAE {mae(diff[2])}\", end=\"\\n\\n\")"
   ]
  }
 ],
 "metadata": {
  "kernelspec": {
   "display_name": "Python 3",
   "language": "python",
   "name": "python3"
  },
  "language_info": {
   "codemirror_mode": {
    "name": "ipython",
    "version": 3
   },
   "file_extension": ".py",
   "mimetype": "text/x-python",
   "name": "python",
   "nbconvert_exporter": "python",
   "pygments_lexer": "ipython3",
   "version": "3.6.6"
  }
 },
 "nbformat": 4,
 "nbformat_minor": 2
}
