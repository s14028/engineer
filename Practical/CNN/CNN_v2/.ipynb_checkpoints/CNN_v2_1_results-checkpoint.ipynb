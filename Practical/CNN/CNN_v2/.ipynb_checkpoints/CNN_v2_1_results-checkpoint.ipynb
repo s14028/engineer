{
 "cells": [
  {
   "cell_type": "code",
   "execution_count": 1,
   "metadata": {},
   "outputs": [
    {
     "name": "stdout",
     "output_type": "stream",
     "text": [
      "/home/PJWSTK/s14028/Engine\n"
     ]
    }
   ],
   "source": [
    "%cd ../../"
   ]
  },
  {
   "cell_type": "code",
   "execution_count": 2,
   "metadata": {},
   "outputs": [
    {
     "name": "stderr",
     "output_type": "stream",
     "text": [
      "Using TensorFlow backend.\n"
     ]
    }
   ],
   "source": [
    "import keras\n",
    "import scipy.io as mat\n",
    "\n",
    "from common import *\n",
    "from augmentation import add_pmap\n",
    "from testing import test_model\n",
    "from testing import best_cop_diff\n",
    "from testing import mse\n",
    "from testing import mae\n",
    "\n",
    "from CNN.CNN_v2_1 import CNN_v2_1"
   ]
  },
  {
   "cell_type": "code",
   "execution_count": 3,
   "metadata": {},
   "outputs": [],
   "source": [
    "perspective = mat.loadmat(\"mall_dataset/perspective_roi.mat\")[\"pMapN\"]\n",
    "\n",
    "perspective /= np.min(perspective)\n",
    "perspective = np.round(perspective).astype(np.uint8)\n",
    "\n",
    "train, test = data_sets()\n",
    "image_tensors = train[0], test[0]\n",
    "person_coo_tensors = train[1], test[1]\n",
    "count_matrix = train[2], test[2]\n",
    "\n",
    "image_train, image_test = image_tensors\n",
    "person_coo_train, person_coo_test = person_coo_tensors\n",
    "count_train, count_test = count_matrix\n",
    "count_train = count_train.astype(np.uint16)\n",
    "count_test = count_test.astype(np.uint16)\n",
    "\n",
    "image_train = add_pmap(image_train, perspective)\n",
    "image_test = add_pmap(image_test, perspective)"
   ]
  },
  {
   "cell_type": "code",
   "execution_count": 4,
   "metadata": {},
   "outputs": [],
   "source": [
    "cnn = CNN_v2_1((480, 640, 4), split_into_parts=20)\n",
    "\n",
    "images = cnn._prepare_images(image_test)\n",
    "anwsers = cnn._prepare_anwsers(person_coo_test)"
   ]
  },
  {
   "cell_type": "code",
   "execution_count": 5,
   "metadata": {},
   "outputs": [],
   "source": [
    "cop = np.linspace(0, 1, 11)[1:-1]"
   ]
  },
  {
   "cell_type": "code",
   "execution_count": 6,
   "metadata": {},
   "outputs": [],
   "source": [
    "prefix = \"CNN/CNN_v2/weights/\""
   ]
  },
  {
   "cell_type": "code",
   "execution_count": 7,
   "metadata": {},
   "outputs": [],
   "source": [
    "model_names = [\"cnn_v2_1_1e_1_30\"]\n",
    "\n",
    "model_names = [prefix + name for name in model_names]"
   ]
  },
  {
   "cell_type": "code",
   "execution_count": 8,
   "metadata": {},
   "outputs": [],
   "source": [
    "models = [CNN_v2_1((480, 640, 4), split_into_parts=20) for i in range(len(model_names))]"
   ]
  },
  {
   "cell_type": "code",
   "execution_count": 9,
   "metadata": {},
   "outputs": [
    {
     "name": "stdout",
     "output_type": "stream",
     "text": [
      "Epoch 1/1\n",
      "1/1 [==============================] - 3s 3s/step - loss: 0.8713 - acc: 1.0000\n"
     ]
    }
   ],
   "source": [
    "results = {}\n",
    "\n",
    "for model_name, model in zip(model_names, models):\n",
    "  model.def_model()\n",
    "  model.model.fit(images[:1], anwsers[:1])\n",
    "  \n",
    "  model.model = keras.utils.multi_gpu_model(model.model, gpus=2, cpu_merge=False)\n",
    "  model.model.compile(loss=\"binary_crossentropy\", optimizer=\"adam\", metrics=[\"accuracy\"])\n",
    "  \n",
    "  model.model.load_weights(model_name)\n",
    "  \n",
    "  results[model_name] = test_model(model=model, images=image_test, counts=count_test, cut_of_points=cop)"
   ]
  },
  {
   "cell_type": "code",
   "execution_count": 10,
   "metadata": {},
   "outputs": [
    {
     "name": "stdout",
     "output_type": "stream",
     "text": [
      "Model CNN/CNN_v2/weights/cnn_v2_1_1e_1_30 behaved:\n",
      "For cut-of-point 0.1 had accuracy 0.0:\n",
      "[359 359 360 363 359 367 369 373 378 382 383 384 378 383 384 382 373 377\n",
      " 377 376 376 376 372 371 377 376 380 377 382 382 377 371 371 377 378 373\n",
      " 376 377 376 374 377 376 374 382 382 373 372 370 374 377 375 381 382 381\n",
      " 377 377 364 365 361 355 353 352 354 362 367 366 361 356 350 367 368 369\n",
      " 369 368 372 373 372 372 372 373 371 372 374 377 376 375 379 375 375 378\n",
      " 377 371 375 355 358 359 358 359 364 366 368 366 370 372 370 369 366 362\n",
      " 354 358 364 367 360 359 360 359 367 373 374 374 364 362 363 362 369 370\n",
      " 371 374 370 371 368 366 370 364 356 367 368 374 369 371 371 368 363 358\n",
      " 354 362 363 372 366 372 372 370 369 364 364 366 366 363 369 372 369 370\n",
      " 369 376 374 363 370 373 373 374 373 373 375 375 373 369 370 371 373 377\n",
      " 373 372 370 370 371 367 364 363 376 377 367 371 364 365 370 373 370 370\n",
      " 370 366 379 378 372 369 375 378 378 373 373 367 366 365 362 361 359 369\n",
      " 369 371 369 366 370 365 355 359 367 370 373 361 363 359 362 356 354 356\n",
      " 375 372 371 364 372 369 363 357 359 357 354 359 356 356 353 366 364 373\n",
      " 372 373 372 370 374 378 369 369 372 364 367 365 367 365 364 368 370 363\n",
      " 361 363 363 356 361 368 374 371 367 369 367 371 371 368 364 375 368 373\n",
      " 372 370 370 372 368 375 373 370 369 371 373 374]\n",
      "With MSE 136163.91333333333\n",
      "With MAE 368.94\n",
      "\n"
     ]
    }
   ],
   "source": [
    "for name, result in results.items():\n",
    "  diff = best_cop_diff(result, count_test)\n",
    "  \n",
    "  print(f\"Model {name} behaved:\")\n",
    "  \n",
    "  print(f\"For cut-of-point {diff[0]} had accuracy {diff[1]}:\")\n",
    "  print(diff[2])\n",
    "  \n",
    "  print(f\"With MSE {mse(diff[2])}\")\n",
    "  print(f\"With MAE {mae(diff[2])}\", end=\"\\n\\n\")"
   ]
  }
 ],
 "metadata": {
  "kernelspec": {
   "display_name": "Python 3",
   "language": "python",
   "name": "python3"
  },
  "language_info": {
   "codemirror_mode": {
    "name": "ipython",
    "version": 3
   },
   "file_extension": ".py",
   "mimetype": "text/x-python",
   "name": "python",
   "nbconvert_exporter": "python",
   "pygments_lexer": "ipython3",
   "version": "3.6.6"
  }
 },
 "nbformat": 4,
 "nbformat_minor": 2
}
