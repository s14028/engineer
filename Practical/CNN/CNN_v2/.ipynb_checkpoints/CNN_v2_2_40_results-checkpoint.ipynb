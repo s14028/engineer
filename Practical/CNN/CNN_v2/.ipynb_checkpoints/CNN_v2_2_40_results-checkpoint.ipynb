{
 "cells": [
  {
   "cell_type": "code",
   "execution_count": 1,
   "metadata": {},
   "outputs": [
    {
     "name": "stdout",
     "output_type": "stream",
     "text": [
      "/home/PJWSTK/s14028/Engine\n"
     ]
    }
   ],
   "source": [
    "%cd ../../"
   ]
  },
  {
   "cell_type": "code",
   "execution_count": 2,
   "metadata": {},
   "outputs": [
    {
     "name": "stderr",
     "output_type": "stream",
     "text": [
      "Using TensorFlow backend.\n"
     ]
    }
   ],
   "source": [
    "import keras\n",
    "import scipy.io as mat\n",
    "\n",
    "from common import *\n",
    "from augmentation import add_pmap\n",
    "from testing import test_model\n",
    "from testing import best_cop_diff\n",
    "from testing import mse\n",
    "from testing import mae\n",
    "\n",
    "from CNN.CNN_v2_2 import CNN_v2_2"
   ]
  },
  {
   "cell_type": "code",
   "execution_count": 3,
   "metadata": {},
   "outputs": [],
   "source": [
    "perspective = mat.loadmat(\"mall_dataset/perspective_roi.mat\")[\"pMapN\"]\n",
    "\n",
    "perspective /= np.min(perspective)\n",
    "perspective = np.round(perspective).astype(np.uint8)\n",
    "\n",
    "train, test = data_sets()\n",
    "image_tensors = train[0], test[0]\n",
    "person_coo_tensors = train[1], test[1]\n",
    "count_matrix = train[2], test[2]\n",
    "\n",
    "image_train, image_test = image_tensors\n",
    "person_coo_train, person_coo_test = person_coo_tensors\n",
    "count_train, count_test = count_matrix\n",
    "count_train = count_train.astype(np.uint16)\n",
    "count_test = count_test.astype(np.uint16)\n",
    "\n",
    "image_train = add_pmap(image_train, perspective)\n",
    "image_test = add_pmap(image_test, perspective)"
   ]
  },
  {
   "cell_type": "code",
   "execution_count": 4,
   "metadata": {},
   "outputs": [],
   "source": [
    "cnn = CNN_v2_2((480, 640, 4), split_into_parts=40)\n",
    "\n",
    "images = cnn._prepare_images(image_test)\n",
    "anwsers = cnn._prepare_anwsers(person_coo_test)"
   ]
  },
  {
   "cell_type": "code",
   "execution_count": 5,
   "metadata": {},
   "outputs": [],
   "source": [
    "cop = np.linspace(0, 1, 11)[1:-1]"
   ]
  },
  {
   "cell_type": "code",
   "execution_count": 6,
   "metadata": {},
   "outputs": [],
   "source": [
    "prefix = \"CNN/CNN_v2/weights/\""
   ]
  },
  {
   "cell_type": "code",
   "execution_count": 7,
   "metadata": {},
   "outputs": [],
   "source": [
    "model_names = [\"cnn_v2_2_40_1e_3_20\",\n",
    "               \"cnn_v2_2_40_1e_3_30\",\n",
    "               \"cnn_v2_2_40_1e_5_01_0.83\",\n",
    "               \"cnn_v2_2_40_1e_5_03_0.86\",\n",
    "               \"cnn_v2_2_40_1e_3_50\",\n",
    "               \"cnn_v2_2_40_1e_3_60\",\n",
    "               \"cnn_v2_2_40_1e_3_90\",\n",
    "               \"cnn_v2_2_40_1e_3_100\",\n",
    "               \"cnn_v2_2_40_1e_5_next_01_0.84\",\n",
    "               \"cnn_v2_2_40_1e_5_next_06_0.84\"]\n",
    "\n",
    "model_names = [prefix + name for name in model_names]"
   ]
  },
  {
   "cell_type": "code",
   "execution_count": 8,
   "metadata": {},
   "outputs": [],
   "source": [
    "models = [CNN_v2_2((480, 640, 4), split_into_parts=40) for i in range(len(model_names))]"
   ]
  },
  {
   "cell_type": "code",
   "execution_count": 9,
   "metadata": {},
   "outputs": [
    {
     "name": "stdout",
     "output_type": "stream",
     "text": [
      "Epoch 1/1\n",
      "1/1 [==============================] - 3s 3s/step - loss: 0.7413 - acc: 1.0000\n"
     ]
    }
   ],
   "source": [
    "results = {}\n",
    "\n",
    "for model_name, model in zip(model_names, models):\n",
    "  model.def_model()\n",
    "  model.model.fit(images[:1], anwsers[:1])\n",
    "  \n",
    "  model.model = keras.utils.multi_gpu_model(model.model, gpus=2, cpu_merge=False)\n",
    "  model.model.compile(loss=\"binary_crossentropy\", optimizer=\"adam\", metrics=[\"accuracy\"])\n",
    "  \n",
    "  model.model.load_weights(model_name)\n",
    "  \n",
    "  results[model_name] = test_model(model=model, images=image_test, counts=count_test, cut_of_points=cop)"
   ]
  },
  {
   "cell_type": "code",
   "execution_count": 10,
   "metadata": {},
   "outputs": [
    {
     "name": "stdout",
     "output_type": "stream",
     "text": [
      "Model CNN/CNN_v2/weights/cnn_v2_1_40_1e_4_10 behaved:\n",
      "For cut-of-point 0.1 had accuracy 0.0:\n",
      "[1559 1559 1560 1563 1559 1567 1569 1573 1578 1582 1583 1584 1578 1583\n",
      " 1584 1582 1573 1577 1577 1576 1576 1576 1572 1571 1577 1576 1580 1577\n",
      " 1582 1582 1577 1571 1571 1577 1578 1573 1576 1577 1576 1574 1577 1576\n",
      " 1574 1582 1582 1573 1572 1570 1574 1577 1575 1581 1582 1581 1577 1577\n",
      " 1564 1565 1561 1555 1553 1552 1554 1562 1567 1566 1561 1556 1550 1567\n",
      " 1568 1569 1569 1568 1572 1573 1572 1572 1572 1573 1571 1572 1574 1577\n",
      " 1576 1575 1579 1575 1575 1578 1577 1571 1575 1555 1558 1559 1558 1559\n",
      " 1564 1566 1568 1566 1570 1572 1570 1569 1566 1562 1554 1558 1564 1567\n",
      " 1560 1559 1560 1559 1567 1573 1574 1574 1564 1562 1563 1562 1569 1570\n",
      " 1571 1574 1570 1571 1568 1566 1570 1564 1556 1567 1568 1574 1569 1571\n",
      " 1571 1568 1563 1558 1554 1562 1563 1572 1566 1572 1572 1570 1569 1564\n",
      " 1564 1566 1566 1563 1569 1572 1569 1570 1569 1576 1574 1563 1570 1573\n",
      " 1573 1574 1573 1573 1575 1575 1573 1569 1570 1571 1573 1577 1573 1572\n",
      " 1570 1570 1571 1567 1564 1563 1576 1577 1567 1571 1564 1565 1570 1573\n",
      " 1570 1570 1570 1566 1579 1578 1572 1569 1575 1578 1578 1573 1573 1567\n",
      " 1566 1565 1562 1561 1559 1569 1569 1571 1569 1566 1570 1565 1555 1559\n",
      " 1567 1570 1573 1561 1563 1559 1562 1556 1554 1556 1575 1572 1571 1564\n",
      " 1572 1569 1563 1557 1559 1557 1554 1559 1556 1556 1553 1566 1564 1573\n",
      " 1572 1573 1572 1570 1574 1578 1569 1569 1572 1564 1567 1565 1567 1565\n",
      " 1564 1568 1570 1563 1561 1563 1563 1556 1561 1568 1574 1571 1567 1569\n",
      " 1567 1571 1571 1568 1564 1575 1568 1573 1572 1570 1570 1572 1568 1575\n",
      " 1573 1570 1569 1571 1573 1574]\n",
      "With MSE 2461619.9133333336\n",
      "With MAE 1568.94\n",
      "\n"
     ]
    }
   ],
   "source": [
    "for name, result in results.items():\n",
    "  diff = best_cop_diff(result, count_test)\n",
    "  \n",
    "  print(f\"Model {name} behaved:\")\n",
    "  \n",
    "  print(f\"For cut-of-point {diff[0]} had accuracy {diff[1]}:\")\n",
    "  print(diff[2])\n",
    "  \n",
    "  print(f\"With MSE {mse(diff[2])}\")\n",
    "  print(f\"With MAE {mae(diff[2])}\", end=\"\\n\\n\")"
   ]
  }
 ],
 "metadata": {
  "kernelspec": {
   "display_name": "Python 3",
   "language": "python",
   "name": "python3"
  },
  "language_info": {
   "codemirror_mode": {
    "name": "ipython",
    "version": 3
   },
   "file_extension": ".py",
   "mimetype": "text/x-python",
   "name": "python",
   "nbconvert_exporter": "python",
   "pygments_lexer": "ipython3",
   "version": "3.6.6"
  }
 },
 "nbformat": 4,
 "nbformat_minor": 2
}
