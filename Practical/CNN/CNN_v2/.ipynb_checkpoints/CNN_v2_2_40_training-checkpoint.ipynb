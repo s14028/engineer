{
 "cells": [
  {
   "cell_type": "code",
   "execution_count": 1,
   "metadata": {},
   "outputs": [
    {
     "name": "stdout",
     "output_type": "stream",
     "text": [
      "/home/PJWSTK/s14028/Engine\n"
     ]
    }
   ],
   "source": [
    "%cd ../../"
   ]
  },
  {
   "cell_type": "code",
   "execution_count": 2,
   "metadata": {},
   "outputs": [
    {
     "name": "stderr",
     "output_type": "stream",
     "text": [
      "Using TensorFlow backend.\n"
     ]
    }
   ],
   "source": [
    "import keras\n",
    "import scipy.io as mat\n",
    "\n",
    "from common import *\n",
    "from augmentation import add_pmap\n",
    "from augmentation import augmentation_data\n",
    "from augmentation import augment_data\n",
    "\n",
    "from CNN.CNN_v2_2 import CNN_v2_2"
   ]
  },
  {
   "cell_type": "code",
   "execution_count": 3,
   "metadata": {},
   "outputs": [],
   "source": [
    "perspective = mat.loadmat(\"mall_dataset/perspective_roi.mat\")[\"pMapN\"]\n",
    "\n",
    "perspective /= np.min(perspective)\n",
    "perspective = np.round(perspective).astype(np.uint8)\n",
    "\n",
    "train, test = data_sets()\n",
    "image_tensors = train[0], test[0]\n",
    "person_coo_tensors = train[1], test[1]\n",
    "count_matrix = train[2], test[2]\n",
    "\n",
    "image_train, image_test = image_tensors\n",
    "person_coo_train, person_coo_test = person_coo_tensors\n",
    "count_train, count_test = count_matrix\n",
    "count_train = count_train.astype(np.uint16)\n",
    "count_test = count_test.astype(np.uint16)\n",
    "\n",
    "image_train = add_pmap(image_train, perspective)\n",
    "image_test = add_pmap(image_test, perspective)"
   ]
  },
  {
   "cell_type": "code",
   "execution_count": 4,
   "metadata": {},
   "outputs": [
    {
     "data": {
      "text/plain": [
       "<keras.engine.sequential.Sequential at 0x7f7d8560c978>"
      ]
     },
     "execution_count": 4,
     "metadata": {},
     "output_type": "execute_result"
    }
   ],
   "source": [
    "cnn_v2_2 = CNN_v2_2((480, 640, 4), split_into_parts=40)\n",
    "cnn_v2_2.def_model()"
   ]
  },
  {
   "cell_type": "code",
   "execution_count": 5,
   "metadata": {},
   "outputs": [],
   "source": [
    "images = cnn_v2_2._prepare_images(image_train)\n",
    "anwsers = cnn_v2_2._prepare_anwsers(person_coo_train)"
   ]
  },
  {
   "cell_type": "code",
   "execution_count": 6,
   "metadata": {},
   "outputs": [],
   "source": [
    "ones_count = (np.sum(anwsers == 1) * 0.25).astype(np.uint32)\n",
    "zeros_count = (ones_count / 0.25 * 0.75).astype(np.uint32)\n",
    "validation_length = (zeros_count + ones_count).astype(np.int32)\n",
    "\n",
    "val_indices = np.concatenate([np.where(anwsers == 0)[0][:zeros_count],\n",
    "                              np.where(anwsers == 1)[0][:ones_count]])"
   ]
  },
  {
   "cell_type": "code",
   "execution_count": 7,
   "metadata": {},
   "outputs": [],
   "source": [
    "anwsers[val_indices[zeros_count:]] = 0"
   ]
  },
  {
   "cell_type": "code",
   "execution_count": 8,
   "metadata": {},
   "outputs": [],
   "source": [
    "val_indices = -(images.shape[0] - val_indices)"
   ]
  },
  {
   "cell_type": "code",
   "execution_count": 9,
   "metadata": {},
   "outputs": [],
   "source": [
    "generator = keras.preprocessing.image.ImageDataGenerator(rotation_range=20)\n",
    "\n",
    "augmentation = augmentation_data(image_train, anwsers, 40)\n",
    "augmented_data = augment_data(generator, augmentation, images, anwsers)\n",
    "images, anwsers = augmented_data"
   ]
  },
  {
   "cell_type": "code",
   "execution_count": 10,
   "metadata": {},
   "outputs": [],
   "source": [
    "anwsers[val_indices[zeros_count:]] = 1\n",
    "\n",
    "images[-validation_length:], images[val_indices] = images[val_indices], images[-validation_length:]\n",
    "anwsers[-validation_length:], anwsers[val_indices] = anwsers[val_indices], anwsers[-validation_length:]"
   ]
  },
  {
   "cell_type": "code",
   "execution_count": 11,
   "metadata": {},
   "outputs": [],
   "source": [
    "parallel_model = keras.utils.multi_gpu_model(\n",
    "        cnn_v2_2.model,\n",
    "        gpus=2,\n",
    "        cpu_merge=False)\n",
    "parallel_model.compile(\n",
    "        loss=\"binary_crossentropy\", \n",
    "        optimizer=\"adam\", \n",
    "        metrics=[\"accuracy\"])"
   ]
  },
  {
   "cell_type": "code",
   "execution_count": 13,
   "metadata": {},
   "outputs": [
    {
     "data": {
      "text/plain": [
       "<tf.Tensor 'Assign_1:0' shape=() dtype=float32_ref>"
      ]
     },
     "execution_count": 13,
     "metadata": {},
     "output_type": "execute_result"
    }
   ],
   "source": [
    "parallel_model.optimizer.lr.assign(1e-3)"
   ]
  },
  {
   "cell_type": "code",
   "execution_count": 14,
   "metadata": {},
   "outputs": [
    {
     "name": "stdout",
     "output_type": "stream",
     "text": [
      "Train on 5311770 samples, validate on 51292 samples\n",
      "Epoch 1/20\n",
      "5311770/5311770 [==============================] - 181s 34us/step - loss: 12.4717 - acc: 0.5961 - val_loss: 2.5301 - val_acc: 0.7500\n",
      "Epoch 2/20\n",
      "5311770/5311770 [==============================] - 168s 32us/step - loss: 0.6943 - acc: 0.6881 - val_loss: 0.9015 - val_acc: 0.7500\n",
      "Epoch 3/20\n",
      "5311770/5311770 [==============================] - 167s 31us/step - loss: 0.5922 - acc: 0.7183 - val_loss: 0.5476 - val_acc: 0.7500\n",
      "Epoch 4/20\n",
      "5311770/5311770 [==============================] - 166s 31us/step - loss: 0.5567 - acc: 0.7417 - val_loss: 0.5939 - val_acc: 0.5517\n",
      "Epoch 5/20\n",
      "5311770/5311770 [==============================] - 168s 32us/step - loss: 0.5220 - acc: 0.7634 - val_loss: 0.5137 - val_acc: 0.6633\n",
      "Epoch 6/20\n",
      "5311770/5311770 [==============================] - 167s 31us/step - loss: 0.4926 - acc: 0.7921 - val_loss: 0.4314 - val_acc: 0.7989\n",
      "Epoch 7/20\n",
      "5311770/5311770 [==============================] - 168s 32us/step - loss: 0.4428 - acc: 0.8244 - val_loss: 0.5651 - val_acc: 0.7164\n",
      "Epoch 8/20\n",
      "5311770/5311770 [==============================] - 167s 31us/step - loss: 0.4274 - acc: 0.8315 - val_loss: 0.5185 - val_acc: 0.7826\n",
      "Epoch 9/20\n",
      "5311770/5311770 [==============================] - 166s 31us/step - loss: 0.4240 - acc: 0.8344 - val_loss: 0.5754 - val_acc: 0.7667\n",
      "Epoch 10/20\n",
      "5311770/5311770 [==============================] - 166s 31us/step - loss: 0.4033 - acc: 0.8443 - val_loss: 0.5033 - val_acc: 0.8010\n",
      "Epoch 11/20\n",
      "5311770/5311770 [==============================] - 166s 31us/step - loss: 0.3960 - acc: 0.8487 - val_loss: 0.4752 - val_acc: 0.8433\n",
      "Epoch 12/20\n",
      "5311770/5311770 [==============================] - 167s 31us/step - loss: 0.3893 - acc: 0.8522 - val_loss: 0.5627 - val_acc: 0.7693\n",
      "Epoch 13/20\n",
      "5311770/5311770 [==============================] - 165s 31us/step - loss: 0.4279 - acc: 0.8337 - val_loss: 0.7207 - val_acc: 0.6693\n",
      "Epoch 14/20\n",
      "5311770/5311770 [==============================] - 163s 31us/step - loss: 0.3917 - acc: 0.8505 - val_loss: 0.5543 - val_acc: 0.7903\n",
      "Epoch 15/20\n",
      "5311770/5311770 [==============================] - 163s 31us/step - loss: 0.3793 - acc: 0.8573 - val_loss: 0.6041 - val_acc: 0.8008\n",
      "Epoch 16/20\n",
      "5311770/5311770 [==============================] - 165s 31us/step - loss: 0.3673 - acc: 0.8638 - val_loss: 0.6039 - val_acc: 0.7804\n",
      "Epoch 17/20\n",
      "5311770/5311770 [==============================] - 165s 31us/step - loss: 0.3604 - acc: 0.8674 - val_loss: 0.4479 - val_acc: 0.8517\n",
      "Epoch 18/20\n",
      "5311770/5311770 [==============================] - 165s 31us/step - loss: 0.3956 - acc: 0.8526 - val_loss: 0.8604 - val_acc: 0.6265\n",
      "Epoch 19/20\n",
      "5311770/5311770 [==============================] - 167s 31us/step - loss: 0.3678 - acc: 0.8627 - val_loss: 0.5869 - val_acc: 0.7953\n",
      "Epoch 20/20\n",
      "5311770/5311770 [==============================] - 166s 31us/step - loss: 0.3536 - acc: 0.8704 - val_loss: 0.5829 - val_acc: 0.7927\n"
     ]
    },
    {
     "data": {
      "text/plain": [
       "<keras.callbacks.History at 0x7f7c601b0d30>"
      ]
     },
     "execution_count": 14,
     "metadata": {},
     "output_type": "execute_result"
    }
   ],
   "source": [
    "parallel_model.fit(images[:-validation_length], anwsers[:-validation_length], batch_size=20000, epochs=20,\n",
    "                   validation_data=(images[-validation_length:], anwsers[-validation_length:]))"
   ]
  },
  {
   "cell_type": "code",
   "execution_count": 15,
   "metadata": {},
   "outputs": [],
   "source": [
    "parallel_model.save_weights(\"CNN/CNN_v2/weights/cnn_v2_2_40_1e_3_20\")"
   ]
  },
  {
   "cell_type": "code",
   "execution_count": null,
   "metadata": {},
   "outputs": [],
   "source": [
    "parallel_model.load_weights(\"CNN/CNN_v2/weights/cnn_v2_2_40_1e_3_20\")"
   ]
  },
  {
   "cell_type": "code",
   "execution_count": 16,
   "metadata": {},
   "outputs": [
    {
     "name": "stdout",
     "output_type": "stream",
     "text": [
      "Train on 5311770 samples, validate on 51292 samples\n",
      "Epoch 1/10\n",
      "5311770/5311770 [==============================] - 165s 31us/step - loss: 0.3458 - acc: 0.8747 - val_loss: 0.5234 - val_acc: 0.8221\n",
      "Epoch 2/10\n",
      "5311770/5311770 [==============================] - 167s 31us/step - loss: 0.3392 - acc: 0.8785 - val_loss: 0.4672 - val_acc: 0.8508\n",
      "Epoch 3/10\n",
      "5311770/5311770 [==============================] - 165s 31us/step - loss: 0.3321 - acc: 0.8827 - val_loss: 0.6616 - val_acc: 0.7598\n",
      "Epoch 4/10\n",
      "5311770/5311770 [==============================] - 166s 31us/step - loss: 0.3282 - acc: 0.8855 - val_loss: 0.5504 - val_acc: 0.7926\n",
      "Epoch 5/10\n",
      "5311770/5311770 [==============================] - 166s 31us/step - loss: 0.3183 - acc: 0.8904 - val_loss: 0.7371 - val_acc: 0.7071\n",
      "Epoch 6/10\n",
      "5311770/5311770 [==============================] - 168s 32us/step - loss: 0.3018 - acc: 0.8975 - val_loss: 0.4013 - val_acc: 0.8458\n",
      "Epoch 7/10\n",
      "5311770/5311770 [==============================] - 177s 33us/step - loss: 0.2948 - acc: 0.8999 - val_loss: 0.5229 - val_acc: 0.7991\n",
      "Epoch 8/10\n",
      "5311770/5311770 [==============================] - 180s 34us/step - loss: 0.2911 - acc: 0.9018 - val_loss: 0.5805 - val_acc: 0.7744\n",
      "Epoch 9/10\n",
      "5311770/5311770 [==============================] - 172s 32us/step - loss: 0.2844 - acc: 0.9043 - val_loss: 0.6579 - val_acc: 0.7278\n",
      "Epoch 10/10\n",
      "5311770/5311770 [==============================] - 168s 32us/step - loss: 0.2832 - acc: 0.9050 - val_loss: 0.3735 - val_acc: 0.8394\n"
     ]
    },
    {
     "data": {
      "text/plain": [
       "<keras.callbacks.History at 0x7f7b1c309ac8>"
      ]
     },
     "execution_count": 16,
     "metadata": {},
     "output_type": "execute_result"
    }
   ],
   "source": [
    "parallel_model.fit(images[:-validation_length], anwsers[:-validation_length], batch_size=20000, epochs=10,\n",
    "                   validation_data=(images[-validation_length:], anwsers[-validation_length:]))"
   ]
  },
  {
   "cell_type": "code",
   "execution_count": 17,
   "metadata": {},
   "outputs": [],
   "source": [
    "parallel_model.save_weights(\"CNN/CNN_v2/weights/cnn_v2_2_40_1e_3_30\")"
   ]
  },
  {
   "cell_type": "code",
   "execution_count": null,
   "metadata": {},
   "outputs": [],
   "source": [
    "parallel_model.load_weights(\"CNN/CNN_v2/weights/cnn_v2_2_40_1e_3_30\")"
   ]
  },
  {
   "cell_type": "code",
   "execution_count": 18,
   "metadata": {},
   "outputs": [
    {
     "data": {
      "text/plain": [
       "<tf.Tensor 'Assign_2:0' shape=() dtype=float32_ref>"
      ]
     },
     "execution_count": 18,
     "metadata": {},
     "output_type": "execute_result"
    }
   ],
   "source": [
    "parallel_model.optimizer.lr.assign(1e-5)"
   ]
  },
  {
   "cell_type": "code",
   "execution_count": 19,
   "metadata": {},
   "outputs": [
    {
     "name": "stdout",
     "output_type": "stream",
     "text": [
      "Train on 5311770 samples, validate on 51292 samples\n",
      "Epoch 1/10\n",
      "5311770/5311770 [==============================] - 168s 32us/step - loss: 0.2827 - acc: 0.9054 - val_loss: 0.6414 - val_acc: 0.7473\n",
      "Epoch 2/10\n",
      "5311770/5311770 [==============================] - 168s 32us/step - loss: 0.2775 - acc: 0.9073 - val_loss: 0.3822 - val_acc: 0.8440\n",
      "Epoch 3/10\n",
      "5311770/5311770 [==============================] - 166s 31us/step - loss: 0.2741 - acc: 0.9091 - val_loss: 0.5760 - val_acc: 0.7677\n",
      "Epoch 4/10\n",
      "5311770/5311770 [==============================] - 166s 31us/step - loss: 0.3131 - acc: 0.8936 - val_loss: 0.5338 - val_acc: 0.7887\n",
      "Epoch 5/10\n",
      "5311770/5311770 [==============================] - 167s 31us/step - loss: 0.2871 - acc: 0.9034 - val_loss: 0.5518 - val_acc: 0.7776\n",
      "Epoch 6/10\n",
      "5311770/5311770 [==============================] - 165s 31us/step - loss: 0.2738 - acc: 0.9089 - val_loss: 0.3983 - val_acc: 0.8505\n",
      "Epoch 7/10\n",
      "5311770/5311770 [==============================] - 165s 31us/step - loss: 0.2704 - acc: 0.9106 - val_loss: 0.4673 - val_acc: 0.8314\n",
      "Epoch 8/10\n",
      "5311770/5311770 [==============================] - 165s 31us/step - loss: 0.2665 - acc: 0.9120 - val_loss: 0.5847 - val_acc: 0.7426\n",
      "Epoch 9/10\n",
      "5311770/5311770 [==============================] - 166s 31us/step - loss: 0.2648 - acc: 0.9129 - val_loss: 0.7267 - val_acc: 0.6574\n",
      "Epoch 10/10\n",
      "5311770/5311770 [==============================] - 168s 32us/step - loss: 0.2779 - acc: 0.9066 - val_loss: 0.8007 - val_acc: 0.6570\n"
     ]
    },
    {
     "data": {
      "text/plain": [
       "<keras.callbacks.History at 0x7f7d820fdf98>"
      ]
     },
     "execution_count": 19,
     "metadata": {},
     "output_type": "execute_result"
    }
   ],
   "source": [
    "parallel_model.fit(images[:-validation_length], anwsers[:-validation_length], batch_size=20000, epochs=10,\n",
    "                   validation_data=(images[-validation_length:], anwsers[-validation_length:]))"
   ]
  },
  {
   "cell_type": "code",
   "execution_count": 20,
   "metadata": {},
   "outputs": [],
   "source": [
    "filepath = \"CNN/CNN_v2/weights/cnn_v2_2_40_1e_5_{epoch:02d}_{val_acc:.2f}\"\n",
    "checkpoint = keras.callbacks.ModelCheckpoint(filepath,\n",
    "                                             monitor='val_acc',\n",
    "                                             verbose=1,\n",
    "                                             save_best_only=True,\n",
    "                                             save_weights_only=True,\n",
    "                                             mode='max')\n",
    "callbacks = [checkpoint]"
   ]
  },
  {
   "cell_type": "code",
   "execution_count": 21,
   "metadata": {},
   "outputs": [
    {
     "name": "stdout",
     "output_type": "stream",
     "text": [
      "Train on 5311770 samples, validate on 51292 samples\n",
      "Epoch 1/10\n",
      "5311770/5311770 [==============================] - 169s 32us/step - loss: 0.2613 - acc: 0.9140 - val_loss: 0.4385 - val_acc: 0.8293\n",
      "\n",
      "Epoch 00001: val_acc improved from -inf to 0.82935, saving model to CNN/CNN_v2/weights/cnn_v2_2_40_1e_5_01_0.83\n",
      "Epoch 2/10\n",
      "5311770/5311770 [==============================] - 169s 32us/step - loss: 0.2551 - acc: 0.9169 - val_loss: 0.3914 - val_acc: 0.8150\n",
      "\n",
      "Epoch 00002: val_acc did not improve from 0.82935\n",
      "Epoch 3/10\n",
      "5311770/5311770 [==============================] - 168s 32us/step - loss: 0.2541 - acc: 0.9172 - val_loss: 0.3710 - val_acc: 0.8584\n",
      "\n",
      "Epoch 00003: val_acc improved from 0.82935 to 0.85838, saving model to CNN/CNN_v2/weights/cnn_v2_2_40_1e_5_03_0.86\n",
      "Epoch 4/10\n",
      "5311770/5311770 [==============================] - 168s 32us/step - loss: 0.2551 - acc: 0.9168 - val_loss: 0.3863 - val_acc: 0.8450\n",
      "\n",
      "Epoch 00004: val_acc did not improve from 0.85838\n",
      "Epoch 5/10\n",
      "5311770/5311770 [==============================] - 167s 31us/step - loss: 0.2516 - acc: 0.9186 - val_loss: 0.5099 - val_acc: 0.8184\n",
      "\n",
      "Epoch 00005: val_acc did not improve from 0.85838\n",
      "Epoch 6/10\n",
      "5311770/5311770 [==============================] - 169s 32us/step - loss: 0.2468 - acc: 0.9209 - val_loss: 0.6546 - val_acc: 0.7774\n",
      "\n",
      "Epoch 00006: val_acc did not improve from 0.85838\n",
      "Epoch 7/10\n",
      "5311770/5311770 [==============================] - 170s 32us/step - loss: 0.2447 - acc: 0.9217 - val_loss: 0.4149 - val_acc: 0.8395\n",
      "\n",
      "Epoch 00007: val_acc did not improve from 0.85838\n",
      "Epoch 8/10\n",
      "5311770/5311770 [==============================] - 171s 32us/step - loss: 0.2408 - acc: 0.9235 - val_loss: 0.4622 - val_acc: 0.8381\n",
      "\n",
      "Epoch 00008: val_acc did not improve from 0.85838\n",
      "Epoch 9/10\n",
      "5311770/5311770 [==============================] - 169s 32us/step - loss: 0.2381 - acc: 0.9245 - val_loss: 0.5206 - val_acc: 0.7956\n",
      "\n",
      "Epoch 00009: val_acc did not improve from 0.85838\n",
      "Epoch 10/10\n",
      "5311770/5311770 [==============================] - 169s 32us/step - loss: 0.2366 - acc: 0.9251 - val_loss: 0.5878 - val_acc: 0.7903\n",
      "\n",
      "Epoch 00010: val_acc did not improve from 0.85838\n"
     ]
    },
    {
     "data": {
      "text/plain": [
       "<keras.callbacks.History at 0x7f7d825c2828>"
      ]
     },
     "execution_count": 21,
     "metadata": {},
     "output_type": "execute_result"
    }
   ],
   "source": [
    "parallel_model.fit(images[:-validation_length], anwsers[:-validation_length], batch_size=20000,\n",
    "                   epochs=10, validation_data=(images[-validation_length:], anwsers[-validation_length:]),\n",
    "                   callbacks=callbacks)"
   ]
  },
  {
   "cell_type": "code",
   "execution_count": 22,
   "metadata": {},
   "outputs": [],
   "source": [
    "parallel_model.save_weights(\"CNN/CNN_v2/weights/cnn_v2_2_40_1e_3_50\")"
   ]
  },
  {
   "cell_type": "code",
   "execution_count": null,
   "metadata": {},
   "outputs": [],
   "source": [
    "parallel_model.load_weights(\"CNN/CNN_v2/weights/cnn_v2_2_40_1e_3_50\")"
   ]
  },
  {
   "cell_type": "code",
   "execution_count": 23,
   "metadata": {},
   "outputs": [
    {
     "data": {
      "text/plain": [
       "<tf.Tensor 'Assign_3:0' shape=() dtype=float32_ref>"
      ]
     },
     "execution_count": 23,
     "metadata": {},
     "output_type": "execute_result"
    }
   ],
   "source": [
    "parallel_model.optimizer.lr.assign(1e-1)"
   ]
  },
  {
   "cell_type": "code",
   "execution_count": 24,
   "metadata": {},
   "outputs": [
    {
     "name": "stdout",
     "output_type": "stream",
     "text": [
      "Train on 5311770 samples, validate on 51292 samples\n",
      "Epoch 1/5\n",
      "5311770/5311770 [==============================] - 170s 32us/step - loss: 0.2354 - acc: 0.9255 - val_loss: 0.4250 - val_acc: 0.8267\n",
      "Epoch 2/5\n",
      "5311770/5311770 [==============================] - 169s 32us/step - loss: 0.2334 - acc: 0.9265 - val_loss: 0.4539 - val_acc: 0.8303\n",
      "Epoch 3/5\n",
      "5311770/5311770 [==============================] - 170s 32us/step - loss: 0.2299 - acc: 0.9279 - val_loss: 0.3983 - val_acc: 0.8401\n",
      "Epoch 4/5\n",
      "5311770/5311770 [==============================] - 170s 32us/step - loss: 0.2239 - acc: 0.9292 - val_loss: 0.3885 - val_acc: 0.8375\n",
      "Epoch 5/5\n",
      "5311770/5311770 [==============================] - 171s 32us/step - loss: 0.2181 - acc: 0.9314 - val_loss: 0.4513 - val_acc: 0.7938\n"
     ]
    },
    {
     "data": {
      "text/plain": [
       "<keras.callbacks.History at 0x7f7b3813db70>"
      ]
     },
     "execution_count": 24,
     "metadata": {},
     "output_type": "execute_result"
    }
   ],
   "source": [
    "parallel_model.fit(images[:-validation_length], anwsers[:-validation_length], batch_size=20000, epochs=5,\n",
    "                   validation_data=(images[-validation_length:], anwsers[-validation_length:]))"
   ]
  },
  {
   "cell_type": "code",
   "execution_count": 25,
   "metadata": {},
   "outputs": [
    {
     "data": {
      "text/plain": [
       "<tf.Tensor 'Assign_4:0' shape=() dtype=float32_ref>"
      ]
     },
     "execution_count": 25,
     "metadata": {},
     "output_type": "execute_result"
    }
   ],
   "source": [
    "parallel_model.optimizer.lr.assign(1e-3)"
   ]
  },
  {
   "cell_type": "code",
   "execution_count": 26,
   "metadata": {},
   "outputs": [
    {
     "name": "stdout",
     "output_type": "stream",
     "text": [
      "Train on 5311770 samples, validate on 51292 samples\n",
      "Epoch 1/5\n",
      "5311770/5311770 [==============================] - 170s 32us/step - loss: 0.2186 - acc: 0.9309 - val_loss: 0.3935 - val_acc: 0.8379\n",
      "Epoch 2/5\n",
      "5311770/5311770 [==============================] - 167s 31us/step - loss: 0.2131 - acc: 0.9333 - val_loss: 0.5149 - val_acc: 0.7902\n",
      "Epoch 3/5\n",
      "5311770/5311770 [==============================] - 170s 32us/step - loss: 0.2081 - acc: 0.9351 - val_loss: 0.4924 - val_acc: 0.7881\n",
      "Epoch 4/5\n",
      "5311770/5311770 [==============================] - 169s 32us/step - loss: 0.2130 - acc: 0.9331 - val_loss: 0.4644 - val_acc: 0.8061\n",
      "Epoch 5/5\n",
      "5311770/5311770 [==============================] - 169s 32us/step - loss: 0.2121 - acc: 0.9337 - val_loss: 0.4484 - val_acc: 0.8267\n"
     ]
    },
    {
     "data": {
      "text/plain": [
       "<keras.callbacks.History at 0x7f7b1c37b9e8>"
      ]
     },
     "execution_count": 26,
     "metadata": {},
     "output_type": "execute_result"
    }
   ],
   "source": [
    "parallel_model.fit(images[:-validation_length], anwsers[:-validation_length], batch_size=20000, epochs=5,\n",
    "                   validation_data=(images[-validation_length:], anwsers[-validation_length:]))"
   ]
  },
  {
   "cell_type": "code",
   "execution_count": 27,
   "metadata": {},
   "outputs": [],
   "source": [
    "parallel_model.save_weights(\"CNN/CNN_v2/weights/cnn_v2_2_40_1e_3_60\")"
   ]
  },
  {
   "cell_type": "code",
   "execution_count": null,
   "metadata": {},
   "outputs": [],
   "source": [
    "parallel_model.load_weights(\"CNN/CNN_v2/weights/cnn_v2_2_40_1e_3_60\")"
   ]
  },
  {
   "cell_type": "code",
   "execution_count": 28,
   "metadata": {},
   "outputs": [],
   "source": [
    "filepath = \"CNN/CNN_v2/weights/cnn_v2_2_40_1e_5_next_{epoch:02d}_{val_acc:.2f}\"\n",
    "checkpoint = keras.callbacks.ModelCheckpoint(filepath,\n",
    "                                             monitor='val_acc',\n",
    "                                             verbose=1,\n",
    "                                             save_best_only=True,\n",
    "                                             save_weights_only=True,\n",
    "                                             mode='max')\n",
    "callbacks = [checkpoint]"
   ]
  },
  {
   "cell_type": "code",
   "execution_count": 29,
   "metadata": {},
   "outputs": [
    {
     "name": "stdout",
     "output_type": "stream",
     "text": [
      "Train on 5311770 samples, validate on 51292 samples\n",
      "Epoch 1/30\n",
      "5311770/5311770 [==============================] - 169s 32us/step - loss: 0.2063 - acc: 0.9356 - val_loss: 0.3787 - val_acc: 0.8390\n",
      "\n",
      "Epoch 00001: val_acc improved from -inf to 0.83900, saving model to CNN/CNN_v2/weights/cnn_v2_2_40_1e_5_next_01_0.84\n",
      "Epoch 2/30\n",
      "5311770/5311770 [==============================] - 170s 32us/step - loss: 0.2046 - acc: 0.9364 - val_loss: 0.4075 - val_acc: 0.8286\n",
      "\n",
      "Epoch 00002: val_acc did not improve from 0.83900\n",
      "Epoch 3/30\n",
      "5311770/5311770 [==============================] - 168s 32us/step - loss: 0.2066 - acc: 0.9355 - val_loss: 0.4432 - val_acc: 0.8028\n",
      "\n",
      "Epoch 00003: val_acc did not improve from 0.83900\n",
      "Epoch 4/30\n",
      "5311770/5311770 [==============================] - 167s 31us/step - loss: 0.2068 - acc: 0.9355 - val_loss: 0.4615 - val_acc: 0.7953\n",
      "\n",
      "Epoch 00004: val_acc did not improve from 0.83900\n",
      "Epoch 5/30\n",
      "5311770/5311770 [==============================] - 170s 32us/step - loss: 0.2016 - acc: 0.9376 - val_loss: 0.4003 - val_acc: 0.8328\n",
      "\n",
      "Epoch 00005: val_acc did not improve from 0.83900\n",
      "Epoch 6/30\n",
      "5311770/5311770 [==============================] - 169s 32us/step - loss: 0.1998 - acc: 0.9384 - val_loss: 0.3755 - val_acc: 0.8404\n",
      "\n",
      "Epoch 00006: val_acc improved from 0.83900 to 0.84042, saving model to CNN/CNN_v2/weights/cnn_v2_2_40_1e_5_next_06_0.84\n",
      "Epoch 7/30\n",
      "5311770/5311770 [==============================] - 167s 31us/step - loss: 0.1994 - acc: 0.9383 - val_loss: 0.4352 - val_acc: 0.8065\n",
      "\n",
      "Epoch 00007: val_acc did not improve from 0.84042\n",
      "Epoch 8/30\n",
      "5311770/5311770 [==============================] - 169s 32us/step - loss: 0.2013 - acc: 0.9377 - val_loss: 0.4556 - val_acc: 0.8117\n",
      "\n",
      "Epoch 00008: val_acc did not improve from 0.84042\n",
      "Epoch 9/30\n",
      "5311770/5311770 [==============================] - 169s 32us/step - loss: 0.1988 - acc: 0.9390 - val_loss: 0.4049 - val_acc: 0.8256\n",
      "\n",
      "Epoch 00009: val_acc did not improve from 0.84042\n",
      "Epoch 10/30\n",
      "5311770/5311770 [==============================] - 167s 32us/step - loss: 0.1946 - acc: 0.9404 - val_loss: 0.3942 - val_acc: 0.8386\n",
      "\n",
      "Epoch 00010: val_acc did not improve from 0.84042\n",
      "Epoch 11/30\n",
      "5311770/5311770 [==============================] - 168s 32us/step - loss: 0.1975 - acc: 0.9392 - val_loss: 0.4338 - val_acc: 0.8083\n",
      "\n",
      "Epoch 00011: val_acc did not improve from 0.84042\n",
      "Epoch 12/30\n",
      "5311770/5311770 [==============================] - 168s 32us/step - loss: 0.1968 - acc: 0.9396 - val_loss: 0.6037 - val_acc: 0.7329\n",
      "\n",
      "Epoch 00012: val_acc did not improve from 0.84042\n",
      "Epoch 13/30\n",
      "5311770/5311770 [==============================] - 167s 32us/step - loss: 0.1917 - acc: 0.9412 - val_loss: 0.6247 - val_acc: 0.7231\n",
      "\n",
      "Epoch 00013: val_acc did not improve from 0.84042\n",
      "Epoch 14/30\n",
      "5311770/5311770 [==============================] - 168s 32us/step - loss: 0.1905 - acc: 0.9418 - val_loss: 0.4545 - val_acc: 0.7858\n",
      "\n",
      "Epoch 00014: val_acc did not improve from 0.84042\n",
      "Epoch 15/30\n",
      "5311770/5311770 [==============================] - 170s 32us/step - loss: 0.1879 - acc: 0.9427 - val_loss: 0.3818 - val_acc: 0.8338\n",
      "\n",
      "Epoch 00015: val_acc did not improve from 0.84042\n",
      "Epoch 16/30\n",
      "5311770/5311770 [==============================] - 170s 32us/step - loss: 0.1955 - acc: 0.9396 - val_loss: 0.7170 - val_acc: 0.6387\n",
      "\n",
      "Epoch 00016: val_acc did not improve from 0.84042\n",
      "Epoch 17/30\n",
      "5311770/5311770 [==============================] - 176s 33us/step - loss: 0.1875 - acc: 0.9431 - val_loss: 0.3901 - val_acc: 0.8403\n",
      "\n",
      "Epoch 00017: val_acc did not improve from 0.84042\n",
      "Epoch 18/30\n",
      "5311770/5311770 [==============================] - 178s 33us/step - loss: 0.1830 - acc: 0.9446 - val_loss: 0.6667 - val_acc: 0.6833\n",
      "\n",
      "Epoch 00018: val_acc did not improve from 0.84042\n",
      "Epoch 19/30\n",
      "5311770/5311770 [==============================] - 177s 33us/step - loss: 0.1871 - acc: 0.9431 - val_loss: 0.5440 - val_acc: 0.7633\n",
      "\n",
      "Epoch 00019: val_acc did not improve from 0.84042\n",
      "Epoch 20/30\n",
      "5311770/5311770 [==============================] - 176s 33us/step - loss: 0.1822 - acc: 0.9449 - val_loss: 0.5013 - val_acc: 0.7731\n",
      "\n",
      "Epoch 00020: val_acc did not improve from 0.84042\n",
      "Epoch 21/30\n",
      "5311770/5311770 [==============================] - 172s 32us/step - loss: 0.1789 - acc: 0.9459 - val_loss: 0.4271 - val_acc: 0.8121\n",
      "\n",
      "Epoch 00021: val_acc did not improve from 0.84042\n",
      "Epoch 22/30\n",
      "5311770/5311770 [==============================] - 170s 32us/step - loss: 0.2128 - acc: 0.9343 - val_loss: 0.4706 - val_acc: 0.8044\n",
      "\n",
      "Epoch 00022: val_acc did not improve from 0.84042\n",
      "Epoch 23/30\n",
      "5311770/5311770 [==============================] - 171s 32us/step - loss: 0.1861 - acc: 0.9439 - val_loss: 0.4497 - val_acc: 0.8104\n",
      "\n",
      "Epoch 00023: val_acc did not improve from 0.84042\n",
      "Epoch 24/30\n",
      "5311770/5311770 [==============================] - 172s 32us/step - loss: 0.1773 - acc: 0.9466 - val_loss: 0.7632 - val_acc: 0.6351\n",
      "\n",
      "Epoch 00024: val_acc did not improve from 0.84042\n",
      "Epoch 25/30\n",
      "5311770/5311770 [==============================] - 169s 32us/step - loss: 0.1730 - acc: 0.9480 - val_loss: 0.5382 - val_acc: 0.7756\n",
      "\n",
      "Epoch 00025: val_acc did not improve from 0.84042\n",
      "Epoch 26/30\n",
      "5311770/5311770 [==============================] - 169s 32us/step - loss: 0.1741 - acc: 0.9476 - val_loss: 0.6018 - val_acc: 0.7216\n",
      "\n",
      "Epoch 00026: val_acc did not improve from 0.84042\n",
      "Epoch 27/30\n",
      "5311770/5311770 [==============================] - 169s 32us/step - loss: 0.1760 - acc: 0.9468 - val_loss: 0.7216 - val_acc: 0.6280\n",
      "\n",
      "Epoch 00027: val_acc did not improve from 0.84042\n",
      "Epoch 28/30\n",
      "5311770/5311770 [==============================] - 169s 32us/step - loss: 0.1809 - acc: 0.9452 - val_loss: 0.8049 - val_acc: 0.5748\n",
      "\n",
      "Epoch 00028: val_acc did not improve from 0.84042\n",
      "Epoch 29/30\n",
      "5311770/5311770 [==============================] - 172s 32us/step - loss: 0.1801 - acc: 0.9440 - val_loss: 0.4687 - val_acc: 0.8105\n",
      "\n",
      "Epoch 00029: val_acc did not improve from 0.84042\n",
      "Epoch 30/30\n",
      "5311770/5311770 [==============================] - 170s 32us/step - loss: 0.1629 - acc: 0.9505 - val_loss: 0.5266 - val_acc: 0.7693\n",
      "\n",
      "Epoch 00030: val_acc did not improve from 0.84042\n"
     ]
    },
    {
     "data": {
      "text/plain": [
       "<keras.callbacks.History at 0x7f7b1c30fcc0>"
      ]
     },
     "execution_count": 29,
     "metadata": {},
     "output_type": "execute_result"
    }
   ],
   "source": [
    "parallel_model.fit(images[:-validation_length], anwsers[:-validation_length], batch_size=20000,\n",
    "                   epochs=30, validation_data=(images[-validation_length:], anwsers[-validation_length:]),\n",
    "                   callbacks=callbacks)"
   ]
  },
  {
   "cell_type": "code",
   "execution_count": 30,
   "metadata": {},
   "outputs": [],
   "source": [
    "parallel_model.save_weights(\"CNN/CNN_v2/weights/cnn_v2_2_40_1e_3_90\")"
   ]
  },
  {
   "cell_type": "code",
   "execution_count": null,
   "metadata": {},
   "outputs": [],
   "source": [
    "parallel_model.load_weights(\"CNN/CNN_v2/weights/cnn_v2_2_40_1e_3_90\")"
   ]
  },
  {
   "cell_type": "code",
   "execution_count": 31,
   "metadata": {},
   "outputs": [
    {
     "name": "stdout",
     "output_type": "stream",
     "text": [
      "Train on 5311770 samples, validate on 51292 samples\n",
      "Epoch 1/10\n",
      "5311770/5311770 [==============================] - 171s 32us/step - loss: 0.1603 - acc: 0.9514 - val_loss: 0.5954 - val_acc: 0.7217\n",
      "Epoch 2/10\n",
      "5311770/5311770 [==============================] - 172s 32us/step - loss: 0.1590 - acc: 0.9516 - val_loss: 0.7881 - val_acc: 0.5734\n",
      "Epoch 3/10\n",
      "5311770/5311770 [==============================] - 170s 32us/step - loss: 0.1604 - acc: 0.9510 - val_loss: 0.4044 - val_acc: 0.8254\n",
      "Epoch 4/10\n",
      "5311770/5311770 [==============================] - 171s 32us/step - loss: 0.1572 - acc: 0.9521 - val_loss: 0.7157 - val_acc: 0.5690\n",
      "Epoch 5/10\n",
      "5311770/5311770 [==============================] - 171s 32us/step - loss: 0.1799 - acc: 0.9444 - val_loss: 0.7661 - val_acc: 0.5935\n",
      "Epoch 6/10\n",
      "5311770/5311770 [==============================] - 171s 32us/step - loss: 0.1589 - acc: 0.9520 - val_loss: 0.4445 - val_acc: 0.8156\n",
      "Epoch 7/10\n",
      "5311770/5311770 [==============================] - 171s 32us/step - loss: 0.1631 - acc: 0.9504 - val_loss: 0.5463 - val_acc: 0.7704\n",
      "Epoch 8/10\n",
      "5311770/5311770 [==============================] - 172s 32us/step - loss: 0.1547 - acc: 0.9532 - val_loss: 0.4189 - val_acc: 0.8231\n",
      "Epoch 9/10\n",
      "5311770/5311770 [==============================] - 172s 32us/step - loss: 0.1646 - acc: 0.9493 - val_loss: 0.8043 - val_acc: 0.5546\n",
      "Epoch 10/10\n",
      "5311770/5311770 [==============================] - 171s 32us/step - loss: 0.1583 - acc: 0.9516 - val_loss: 0.5930 - val_acc: 0.6982\n"
     ]
    },
    {
     "data": {
      "text/plain": [
       "<keras.callbacks.History at 0x7f7b380e2828>"
      ]
     },
     "execution_count": 31,
     "metadata": {},
     "output_type": "execute_result"
    }
   ],
   "source": [
    "parallel_model.fit(images[:-validation_length], anwsers[:-validation_length], batch_size=20000, epochs=10,\n",
    "                   validation_data=(images[-validation_length:], anwsers[-validation_length:]))"
   ]
  },
  {
   "cell_type": "code",
   "execution_count": 33,
   "metadata": {},
   "outputs": [],
   "source": [
    "parallel_model.save_weights(\"CNN/CNN_v2/weights/cnn_v2_2_40_1e_3_100\")"
   ]
  },
  {
   "cell_type": "code",
   "execution_count": null,
   "metadata": {},
   "outputs": [],
   "source": [
    "parallel_model.load_weights(\"CNN/CNN_v2/weights/cnn_v2_2_40_1e_3_100\")"
   ]
  }
 ],
 "metadata": {
  "kernelspec": {
   "display_name": "Python 3",
   "language": "python",
   "name": "python3"
  },
  "language_info": {
   "codemirror_mode": {
    "name": "ipython",
    "version": 3
   },
   "file_extension": ".py",
   "mimetype": "text/x-python",
   "name": "python",
   "nbconvert_exporter": "python",
   "pygments_lexer": "ipython3",
   "version": "3.6.6"
  }
 },
 "nbformat": 4,
 "nbformat_minor": 2
}
