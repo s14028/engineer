{
 "cells": [
  {
   "cell_type": "code",
   "execution_count": 1,
   "metadata": {},
   "outputs": [
    {
     "name": "stdout",
     "output_type": "stream",
     "text": [
      "/home/PJWSTK/s14028/Engine\n"
     ]
    }
   ],
   "source": [
    "%cd ../../"
   ]
  },
  {
   "cell_type": "code",
   "execution_count": 2,
   "metadata": {},
   "outputs": [
    {
     "name": "stderr",
     "output_type": "stream",
     "text": [
      "Using TensorFlow backend.\n"
     ]
    }
   ],
   "source": [
    "import keras\n",
    "import scipy.io as mat\n",
    "\n",
    "from common import *\n",
    "from augmentation import add_pmap\n",
    "from augmentation import augmentation_data\n",
    "from augmentation import augment_data\n",
    "from testing import test_model\n",
    "from testing import best_cop_diff\n",
    "from testing import mse\n",
    "from testing import mae\n",
    "\n",
    "from CNN.CNN_v2 import CNN_v2\n",
    "from CNN.EnsembleCNN import EnsembleCNN"
   ]
  },
  {
   "cell_type": "code",
   "execution_count": 3,
   "metadata": {},
   "outputs": [],
   "source": [
    "perspective = mat.loadmat(\"mall_dataset/perspective_roi.mat\")[\"pMapN\"]\n",
    "\n",
    "perspective /= np.min(perspective)\n",
    "perspective = np.round(perspective).astype(np.uint8)\n",
    "\n",
    "train, test = data_sets()\n",
    "image_tensors = train[0], test[0]\n",
    "person_coo_tensors = train[1], test[1]\n",
    "count_matrix = train[2], test[2]\n",
    "\n",
    "image_train, image_test = image_tensors\n",
    "person_coo_train, person_coo_test = person_coo_tensors\n",
    "count_train, count_test = count_matrix\n",
    "count_train = count_train.astype(np.uint16)\n",
    "count_test = count_test.astype(np.uint16)\n",
    "\n",
    "image_train = add_pmap(image_train, perspective)\n",
    "image_test = add_pmap(image_test, perspective)"
   ]
  },
  {
   "cell_type": "code",
   "execution_count": 4,
   "metadata": {},
   "outputs": [],
   "source": [
    "cop = np.linspace(0, 1, 11)[1:-1]"
   ]
  },
  {
   "cell_type": "code",
   "execution_count": 5,
   "metadata": {},
   "outputs": [],
   "source": [
    "cnn_v2 = CNN_v2((480, 640, 4), split_into_parts=20)\n",
    "\n",
    "images = cnn_v2._prepare_images(image_train)\n",
    "anwsers = cnn_v2._prepare_anwsers(person_coo_train)"
   ]
  },
  {
   "cell_type": "code",
   "execution_count": null,
   "metadata": {},
   "outputs": [],
   "source": [
    "ones_count = (np.sum(anwsers == 1) * 0.25).astype(np.uint32)\n",
    "zeros_count = (ones_count / 0.25 * 0.75).astype(np.uint32)\n",
    "validation_length = (zeros_count + ones_count).astype(np.int32)\n",
    "\n",
    "val_indices = np.concatenate([np.where(anwsers == 0)[0][:zeros_count],\n",
    "                              np.where(anwsers == 1)[0][:ones_count]])"
   ]
  },
  {
   "cell_type": "code",
   "execution_count": null,
   "metadata": {},
   "outputs": [],
   "source": [
    "anwsers[val_indices[zeros_count:]] = 0"
   ]
  },
  {
   "cell_type": "code",
   "execution_count": null,
   "metadata": {},
   "outputs": [],
   "source": [
    "val_indices = -(images.shape[0] - val_indices)"
   ]
  },
  {
   "cell_type": "code",
   "execution_count": null,
   "metadata": {},
   "outputs": [],
   "source": [
    "generator = keras.preprocessing.image.ImageDataGenerator(rotation_range=20)\n",
    "\n",
    "augmentation = augmentation_data(image_train, anwsers, 20)\n",
    "augmented_data = augment_data(generator, augmentation, images, anwsers)\n",
    "images, anwsers = augmented_data"
   ]
  },
  {
   "cell_type": "code",
   "execution_count": null,
   "metadata": {},
   "outputs": [],
   "source": [
    "anwsers[val_indices[zeros_count:]] = 1\n",
    "\n",
    "images[-validation_length:], images[val_indices] = images[val_indices], images[-validation_length:]\n",
    "anwsers[-validation_length:], anwsers[val_indices] = anwsers[val_indices], anwsers[-validation_length:]"
   ]
  },
  {
   "cell_type": "code",
   "execution_count": null,
   "metadata": {},
   "outputs": [],
   "source": [
    "def ensemble_teach(count, x, y, val):\n",
    "  models = []\n",
    "  \n",
    "  for i in range(count):\n",
    "    print(f\"Begin to train {i}-th model.\")\n",
    "    \n",
    "    model = CNN_v2((480, 640, 4), split_into_parts=20)\n",
    "    model.def_model()\n",
    "    \n",
    "    model.model = keras.utils.multi_gpu_model(model.model, gpus=5, cpu_merge=False)\n",
    "    model.model.compile(loss=\"binary_crossentropy\", optimizer=\"adam\", metrics=[\"accuracy\"])\n",
    "    \n",
    "    model.model.optimizer.lr.assign(1e-3)\n",
    "    model.model.fit(x, y, batch_size=20000, epochs=30, validation_data=val)\n",
    "    model.model.optimizer.lr.assign(1e-4)\n",
    "    model.model.fit(x, y, batch_size=20000, epochs=20, validation_data=val)\n",
    "    model.model.optimizer.lr.assign(5e-5)\n",
    "    model.model.fit(x, y, batch_size=20000, epochs=80, validation_data=val)\n",
    "    \n",
    "    model.model.save_weights(f\"CNN/CNN_v2/weights/ensemble_model_{i}\")\n",
    "    print(f\"Model {i}-th finished training\", end=\"\\n\\n\")\n",
    "    \n",
    "    models.append(model)\n",
    "    \n",
    "  return models"
   ]
  },
  {
   "cell_type": "code",
   "execution_count": 6,
   "metadata": {},
   "outputs": [],
   "source": [
    "def load_ensemble(count):\n",
    "  models = []\n",
    "  \n",
    "  for i in range(count):\n",
    "    model = CNN_v2((480, 640, 4), split_into_parts=20)\n",
    "    model.def_model()\n",
    "    \n",
    "    model.model = keras.utils.multi_gpu_model(model.model, gpus=2, cpu_merge=False)\n",
    "    model.model.compile(loss=\"binary_crossentropy\", optimizer=\"adam\", metrics=[\"accuracy\"])\n",
    "    \n",
    "    model.model.load_weights(f\"CNN/CNN_v2/weights/ensemble_model_{i}\")\n",
    "    \n",
    "    models.append(model)\n",
    "\n",
    "  return models"
   ]
  },
  {
   "cell_type": "code",
   "execution_count": null,
   "metadata": {},
   "outputs": [],
   "source": [
    "models = ensemble_teach(10,\n",
    "               images[:-validation_length],\n",
    "               anwsers[:-validation_length],\n",
    "               (images[-validation_length:], anwsers[-validation_length:]))"
   ]
  },
  {
   "cell_type": "code",
   "execution_count": 7,
   "metadata": {},
   "outputs": [],
   "source": [
    "models = load_ensemble(10)"
   ]
  },
  {
   "cell_type": "code",
   "execution_count": 8,
   "metadata": {},
   "outputs": [],
   "source": [
    "model = EnsembleCNN(models, (480, 640, 4), split_into_parts=20)"
   ]
  },
  {
   "cell_type": "code",
   "execution_count": 9,
   "metadata": {},
   "outputs": [],
   "source": [
    "result = test_model(model=model, images=image_test, counts=count_test, cut_of_points=cop)"
   ]
  },
  {
   "cell_type": "code",
   "execution_count": 10,
   "metadata": {},
   "outputs": [
    {
     "name": "stdout",
     "output_type": "stream",
     "text": [
      "Model EnsembleCNN behaved:\n",
      "For cut-of-point 0.5 had accuracy 79.3817367075983:\n",
      "[20  8  5  2  9  8  8  3  6  2 -1  4 -1  8  0  5 11  4  9  7  4  8  2  1\n",
      " -3  0  3  1  6  5  3  1  3  6 11  2 14  3  6  7 15  9 12 12 11 12 11  7\n",
      " 12 11 10  2  4  3  7  6 11 15 12  6 18  4  6  6  2  7  2  5 -9  1  2  5\n",
      "  7  3 -1  7  2  1  1  3 -4  6  3  5 -3  8  5  2  8  8  9  6 12 -2  7 -4\n",
      "  2  5 -1  4 24 11 10  9 10  2  9 14 10 15  2  1  9 10  9 14  7  4  1  3\n",
      "  0  7 10  8  9  6 12  7  1  8 11 13 10 10 10  8  8  4 13 14  8  8 12 16\n",
      " 16 11  9  4  7  3  0  1 10  2  0  4  9 12  8  2  3  0 -2  1  6  3  8  1\n",
      "  0  3 10  8  9  7  0  2 10  1 13  9  1  3  0  2  5  7 -6 17  2  0  3 11\n",
      "  7 -2  2 11  5  6  5  2  2  0  7  7  8  6  3  3 -1  0  1  3  7 -3 -5  0\n",
      "  5 13  9 11 11 -1  1 14  7 10  4  1  7 14 13  9 15 12  0  0 -1  0  5  5\n",
      "  5 16  5  7 16 12  1 13  8  9 -1  9  7  7  7  5  0  6  3 10  3 10  9  1\n",
      "  1  6  3  7  2 -1 -1  4  1  7  6  4 14 16  3 13  4  4 14  2  8  6  5 13\n",
      "  7 10  9 10  1  7  2  5 11  2  2 10]\n",
      "With MSE 59.59\n",
      "With MAE 6.29\n",
      "\n"
     ]
    }
   ],
   "source": [
    "diff = best_cop_diff(result, count_test)\n",
    "\n",
    "print(f\"Model EnsembleCNN behaved:\")\n",
    "\n",
    "print(f\"For cut-of-point {diff[0]} had accuracy {diff[1]}:\")\n",
    "print(diff[2])\n",
    "\n",
    "print(f\"With MSE {mse(diff[2])}\")\n",
    "print(f\"With MAE {mae(diff[2])}\", end=\"\\n\\n\")"
   ]
  },
  {
   "cell_type": "code",
   "execution_count": 11,
   "metadata": {},
   "outputs": [
    {
     "name": "stdout",
     "output_type": "stream",
     "text": [
      "Model 0 behaved:\n",
      "For cut-of-point 0.1 had accuracy 0.0:\n",
      "[359 359 360 363 359 367 369 373 378 382 383 384 378 383 384 382 373 377\n",
      " 377 376 376 376 372 371 377 376 380 377 382 382 377 371 371 377 378 373\n",
      " 376 377 376 374 377 376 374 382 382 373 372 370 374 377 375 381 382 381\n",
      " 377 377 364 365 361 355 353 352 354 362 367 366 361 356 350 367 368 369\n",
      " 369 368 372 373 372 372 372 373 371 372 374 377 376 375 379 375 375 378\n",
      " 377 371 375 355 358 359 358 359 364 366 368 366 370 372 370 369 366 362\n",
      " 354 358 364 367 360 359 360 359 367 373 374 374 364 362 363 362 369 370\n",
      " 371 374 370 371 368 366 370 364 356 367 368 374 369 371 371 368 363 358\n",
      " 354 362 363 372 366 372 372 370 369 364 364 366 366 363 369 372 369 370\n",
      " 369 376 374 363 370 373 373 374 373 373 375 375 373 369 370 371 373 377\n",
      " 373 372 370 370 371 367 364 363 376 377 367 371 364 365 370 373 370 370\n",
      " 370 366 379 378 372 369 375 378 378 373 373 367 366 365 362 361 359 369\n",
      " 369 371 369 366 370 365 355 359 367 370 373 361 363 359 362 356 354 356\n",
      " 375 372 371 364 372 369 363 357 359 357 354 359 356 356 353 366 364 373\n",
      " 372 373 372 370 374 378 369 369 372 364 367 365 367 365 364 368 370 363\n",
      " 361 363 363 356 361 368 374 371 367 369 367 371 371 368 364 375 368 373\n",
      " 372 370 370 372 368 375 373 370 369 371 373 374]\n",
      "With MSE 136163.91333333333\n",
      "With MAE 368.94\n",
      "\n",
      "Model 1 behaved:\n",
      "For cut-of-point 0.5 had accuracy 83.85116008268349:\n",
      "[  1   2  -2  -7  -2   9  -1   0   2   0  -3   2  -4   8   0   5  13  -1\n",
      "  11  -1   1   5  -2   0  -2   1  -1   2  -1   4  -3  -1  -3   9   8   9\n",
      "  10   8  12  11  17  14   8   8  14   8  18  11  11  18   3   4  -1  -4\n",
      "   5   1   8   8   3  -3  11   5   4  -3  -2  -2  -3   0  -9  -3  -1   0\n",
      "  11   4   5  10   3  -4  -7  -6  -1   0  -2   4  -1   4  -2   1   7   5\n",
      "   7   1   6  -8   7  -7  -9   1  -5  -9  14   5  11  11   9  -4   2   7\n",
      "   6  13  -2  -6   6   6   2  13   2   5  -4  -1  -8  -4   7   6  -1   1\n",
      "  -1   4   2  11   9   8   9  11  11  -3   8   7   2   3   5  -7   4  11\n",
      "   3  11  -3   4   3  -4   2  -2   4  -5  -2   3   7   3  10  -1   1   1\n",
      "   1   1   1  -2  10  -6  -8   3   6  10   4   1   4  -5   9   1   8   6\n",
      "   0  -5  -1  -2  -3   2  -9   2  -3   0  -3   9   3   1   2   8   1   9\n",
      "  -1   4  -1  -2  -6   3   4   7   6   5  -4 -12  -1   7  -2  -5   2   2\n",
      "   0   8   6   9  13  -2  -2   9   2   5   6   0  -2   5   6   2   8   9\n",
      "  -2   7  -5  -5  -3   5   8  16   7   5  10  10  -3   9   1   6  -3  -1\n",
      "   6  -2   5   2   1   0  -5   5   3   1   9   3   1   4   6   7  -2  -7\n",
      "  -3  -1  -4  -1  -1   6   8  11  -6   2   1  -2   9  -2   5   2  -6   1\n",
      "   5   0   3  10   2  -3  -2   4  -1   0   1  -1]\n",
      "With MSE 37.13333333333333\n",
      "With MAE 4.833333333333333\n",
      "\n",
      "Model 2 behaved:\n",
      "For cut-of-point 0.1 had accuracy 0.0:\n",
      "[359 359 360 363 359 367 369 373 378 382 383 384 378 383 384 382 373 377\n",
      " 377 376 376 376 372 371 377 376 380 377 382 382 377 371 371 377 378 373\n",
      " 376 377 376 374 377 376 374 382 382 373 372 370 374 377 375 381 382 381\n",
      " 377 377 364 365 361 355 353 352 354 362 367 366 361 356 350 367 368 369\n",
      " 369 368 372 373 372 372 372 373 371 372 374 377 376 375 379 375 375 378\n",
      " 377 371 375 355 358 359 358 359 364 366 368 366 370 372 370 369 366 362\n",
      " 354 358 364 367 360 359 360 359 367 373 374 374 364 362 363 362 369 370\n",
      " 371 374 370 371 368 366 370 364 356 367 368 374 369 371 371 368 363 358\n",
      " 354 362 363 372 366 372 372 370 369 364 364 366 366 363 369 372 369 370\n",
      " 369 376 374 363 370 373 373 374 373 373 375 375 373 369 370 371 373 377\n",
      " 373 372 370 370 371 367 364 363 376 377 367 371 364 365 370 373 370 370\n",
      " 370 366 379 378 372 369 375 378 378 373 373 367 366 365 362 361 359 369\n",
      " 369 371 369 366 370 365 355 359 367 370 373 361 363 359 362 356 354 356\n",
      " 375 372 371 364 372 369 363 357 359 357 354 359 356 356 353 366 364 373\n",
      " 372 373 372 370 374 378 369 369 372 364 367 365 367 365 364 368 370 363\n",
      " 361 363 363 356 361 368 374 371 367 369 367 371 371 368 364 375 368 373\n",
      " 372 370 370 372 368 375 373 370 369 371 373 374]\n",
      "With MSE 136163.91333333333\n",
      "With MAE 368.94\n",
      "\n",
      "Model 3 behaved:\n",
      "For cut-of-point 0.1 had accuracy 58.659937078096014:\n",
      "[-13 -19 -21 -21 -21 -15 -14 -15  -9 -12  -7 -11 -15  -8 -11  -5 -10 -14\n",
      "  -5 -10 -11  -7 -17 -14 -16 -11 -13 -14  -8  -9  -8 -13 -16 -12  -5  -6\n",
      "  -5  -8  -8  -8  -2  -7  -3  -8  -4 -13 -13 -11  -7 -11  -5  -4 -11 -12\n",
      "  -6 -11 -16 -13 -19 -16 -23 -19 -22 -20 -21 -18 -19 -25 -25 -20 -16 -12\n",
      " -10 -16 -11  -9 -15 -14 -14 -10 -15 -10 -12  -7 -11 -12 -11 -10  -4  -2\n",
      "  -5 -10  -6 -18 -23 -27 -27 -23 -19 -23 -16 -14 -10  -9 -11 -12 -17 -13\n",
      " -21 -15  -8 -18 -22 -19 -21  -8  -8 -12  -8 -11 -19 -19 -15 -11 -14 -13\n",
      " -10  -6 -15 -10  -9 -16 -15 -15 -14 -15 -12 -10 -15  -5 -12 -11 -19 -20\n",
      " -22 -19 -15 -17 -13 -16 -13  -9 -13 -14 -15 -11 -13 -14 -14 -10 -15 -13\n",
      " -12  -9 -10 -15 -10  -7  -8  -9  -9  -6 -11 -11  -9 -13 -11 -14  -4  -8\n",
      "  -8 -11 -15 -13 -11 -14 -23 -11 -11  -6 -15 -12 -12 -21 -15  -7 -12 -10\n",
      " -10 -10  -9  -8 -13 -12  -5  -8  -8 -15 -12 -16 -16 -13 -18 -20 -23 -11\n",
      " -16  -4 -11 -11 -10 -20 -20 -13 -11  -6  -6 -22 -16 -15 -16 -19 -16 -14\n",
      "  -7 -15 -13  -9  -5 -13 -14 -13 -16 -20 -20  -7 -18 -14 -20 -11 -21 -10\n",
      " -13 -13 -17 -11  -9  -7 -14 -12 -17 -12 -13 -21 -14 -17 -11  -8 -14 -18\n",
      " -20 -20 -16 -17 -18 -17 -11 -14 -13  -8 -11 -10 -12 -19 -22  -8 -16 -14\n",
      " -14 -13 -11  -8  -9  -9 -11 -15 -12 -15  -7  -8]\n",
      "With MSE 190.86333333333334\n",
      "With MAE 12.936666666666667\n",
      "\n",
      "Model 4 behaved:\n",
      "For cut-of-point 0.8 had accuracy 86.96707511103352:\n",
      "[  1  -8   2  -9   0   0   3   7   5   2   6  16   1   8   7  -1   8   4\n",
      "   0   2   1   7   2   3  -2  -3  -2  -2   3   2   2  -7   3   4   0   4\n",
      "   8   0   2  -1   1  11   6   5   9  12   1  -4  -3   5  10  -3   3   3\n",
      "   8   2  -6  -3   4  -3  -7 -11  -6  -5  -6  -6  -2  -2 -19  -1  -4  -4\n",
      "   2  -7  -5   2  -1  -1   0  -4  -7  -3  -4  -2  -3   0  -5  -2  -1  -1\n",
      "  -1  -1   4 -17   0 -16 -10  -1  -7 -10   5   1   1   2   3   7   2   2\n",
      "  -4   3  -2  -5  -5  -3   4  -8  -7  -6   2  -3  -1   0  -3  -5   0  -1\n",
      "  -2  -1  -6   0 -11   2  -3  -6  -3  -6   0  -3  -1  -4  -1  -2   7   1\n",
      "  -3  -7  -4   4  -3   4   4  -3   1  -7 -10  -3  -4   6   5  -4  -1  -8\n",
      "  -4  -4  -3  -5  -2   0  -6  -5  -6   0  -2   0   5  -6  -3   1   7   5\n",
      "   0   1  -3  -2   0   4 -11  -3 -10   3  -2   2   2 -10   0   4   0  -3\n",
      "  -2  -6  -2   0  -6  -2  -3   1  -1   2  -8  -5  -3  -2  -5 -13 -13  -8\n",
      "  -5  12  -4  -1   5 -10   1   7   1   5   2  -5  -1   6  -4  -1  -3  -2\n",
      "   0  -3  -6  -2  -3  -3  -1  -6   1  -5  -5   3  -3   0   3   4   1   1\n",
      "   2   1  -3  -2   0   3  -4   2   1  -1   5 -10   0  -8  -5   2  -1  -8\n",
      " -13  -6   0  -4  -5   5   2   7  -3   3   7  -2   1  -6  -4   2   3   5\n",
      "   5  -5   6   5  -5  -1   6  -3   3  -6  -2   2]\n",
      "With MSE 25.756666666666668\n",
      "With MAE 3.9366666666666665\n",
      "\n",
      "Model 5 behaved:\n",
      "For cut-of-point 0.6000000000000001 had accuracy 86.32183171650486:\n",
      "[  4  -1   5   1  11   2  -4  -6  -4  -2  -9  -2  -2  -2  -2  -1   4   1\n",
      "  -2   2   4   1   0  -5  -8   3  -4   4   2  -3  -2  -9  -3   1   9  -2\n",
      "   6   8  -3   5   3  10   8   6   6   7   5   9  10   7   6   2   1   2\n",
      "   9   6   7  12  14   0   2  -1  -1   0   1  -3  -3   4 -16  -1   3  -1\n",
      "   2   3   2   5   2   1   0   1  -1  14  -4   0  -3   8  -7   3   4   6\n",
      "   2   0   0 -13   1  -7 -10  -5  -5  -2  25   8  11  13   5  -5   2   3\n",
      "   3   8   0  -1  10   2   1  13   6   6   3  -5  -1  -3   3  -2   0  -5\n",
      "   3   2  -4   5   2  11   7   4   3  -5   0   3   2   2  11   9  -1   8\n",
      "  12   8   6   8  -2  -3  -4  -6  10   0  -2   2  -2  11   5  -3   4  -6\n",
      "  -1  -4  -5   3   4   0   3   6  10  14   1   4   0  -3   5  -2   9   3\n",
      "   3  -5  -1  -4   1  -2  -1   4   3   4   0   7   1  -2   1   7   8   6\n",
      "   3   3  -1   0   5  -1   3   5   0   0  -6  -5  -7   2   4  -3  -8  -3\n",
      "   4  11  -6   0   3  -7  -6   3  -3   0   6  -4  -1   6   7   2   2  10\n",
      "  -4  -6   2  -7  -3   1   0   2   3  -2  -2   5  -4  -7   2  -1  -6   1\n",
      "   0   4  -3   1   4   5   2   6  -3   2   0  -7  -2  -1   1   5   0  -1\n",
      "  -5  -5  -5 -12   1   3   1   7   4   3   0   3   6   1   3   2   5   5\n",
      "  -1  -5   1   1  -3   5   2   0   6  -1  -4   4]\n",
      "With MSE 28.526666666666667\n",
      "With MAE 4.1066666666666665\n",
      "\n",
      "Model 6 behaved:\n",
      "For cut-of-point 0.1 had accuracy 27.03269359194353:\n",
      "[-35 -32 -33 -27 -32 -27 -24 -18 -13 -11  -8 -10 -18  -3  -7 -14 -23 -15\n",
      " -12 -16 -16 -13 -23 -25 -18 -12 -13 -18  -7  -9 -16 -27 -29 -19 -13 -18\n",
      " -17 -18 -23 -24 -16 -20 -25 -14 -15 -22 -20 -25 -20 -20 -23 -18 -13 -13\n",
      " -17 -21 -24 -30 -36 -42 -34 -44 -37 -29 -25 -25 -32 -33 -43 -30 -23 -20\n",
      " -24 -22 -25 -21 -21 -20 -23 -17 -24 -26 -21 -17 -19 -14 -15 -11 -16 -15\n",
      " -17 -24 -21 -37 -29 -31 -31 -31 -28 -25 -20 -19 -24 -16 -19 -24 -25 -29\n",
      " -31 -29 -24 -26 -29 -27 -34 -31 -23 -12 -12 -12 -23 -31 -29 -21 -18 -16\n",
      " -21 -15 -16 -21 -16 -25 -24 -26 -33 -19 -19 -12 -15 -16 -19 -27 -28 -29\n",
      " -34 -26 -21 -13 -30 -17 -17 -29 -26 -26 -30 -26 -26 -29 -19 -26 -27 -24\n",
      " -25 -18 -22 -30 -28 -19 -22 -17 -21 -15 -18 -20 -24 -17 -15 -21 -18 -19\n",
      " -21 -23 -23 -20 -21 -26 -31 -27 -14 -13 -25 -23 -26 -27 -24 -21 -20 -23\n",
      " -26 -29 -16 -18 -20 -22 -17 -14 -13 -25 -22 -29 -28 -25 -29 -33 -29 -21\n",
      " -26 -16 -22 -30 -21 -23 -37 -29 -23 -21 -14 -22 -26 -29 -31 -37 -32 -33\n",
      " -20 -24 -28 -27 -22 -27 -27 -33 -37 -40 -35 -33 -39 -40 -25 -21 -26 -17\n",
      "  -8 -18 -20 -25 -17 -14 -23 -19 -21 -25 -26 -28 -27 -25 -28 -26 -26 -25\n",
      " -30 -25 -23 -37 -32 -27 -20 -22 -23 -22 -24 -23 -21 -26 -25 -17 -24 -15\n",
      " -20 -26 -22 -20 -22  -9 -21 -17 -21 -23 -20 -16]\n",
      "With MSE 570.03\n",
      "With MAE 22.87\n",
      "\n"
     ]
    },
    {
     "name": "stdout",
     "output_type": "stream",
     "text": [
      "Model 7 behaved:\n",
      "For cut-of-point 0.8 had accuracy 80.27615938365574:\n",
      "[ -6 -12  -3  -6 -14  -9   3  -9   5  -6  -1  -6  -9   2  -3  -9   3  -4\n",
      "  -6  -4  -1  -3  -8 -11 -11 -13  -5  -6  -5  -2  -3 -10  -8  -1   1  -1\n",
      "  12   2  -3  -1  -3  -4  -1   2   2   0   2  -6  -5  -3  -2  -3   2  -2\n",
      "  -1  -5  -9   0  -4 -11  -3  -8  -4  -9 -16  -2  -9 -12 -27 -11 -13  -7\n",
      "  -8 -12  -5  -4  -7 -11  -4  -6  -6   2  -6  -4  -8   3  -3  -1   5   0\n",
      "   0   0  -1 -12  -7 -16 -16 -10  -9  -4   5  -8   2  -4  -1  -7  -7  -2\n",
      " -11  -5  -4  -9  -8 -11 -10  -1  -6  -4  -3  -4  -6  -5  -2  -5   2  -2\n",
      "   1  -8 -11  -1  -1  -1  -2  -7  -8  -4   4   0  -2   0   0  -4  -8   1\n",
      "  -3  -7  -5   5  -8  -1  -9 -11  -5 -10 -16  -3  -5  -8  -9 -17  -3 -11\n",
      " -15  -2 -11  -7  -4  -8  -6  -2  -6   1  -2   3  -5  -5  -6  -4  -3  -6\n",
      "  -9  -8 -16 -10  -1  -9 -11   0  -4  -8  -4  -5  -8 -10 -11   0  -6  -6\n",
      "  -3 -12  -7  -6  -5 -10  -2  -2  -2  -5 -12 -11 -12 -14 -10 -16 -14  -5\n",
      "  -7   7  -7  -4  -5 -16 -12  -1  -7   6  -5 -11   3  -7   0 -13  -2   1\n",
      "  -4 -10 -11 -12  -3  -7 -11 -10 -14  -7  -9  -2 -17  -6  -8  -8 -15   1\n",
      "  -5  -5  -6  -3  -2  -5  -5  -4  -6  -6  -3 -10 -10 -10  -9  -8  -8 -10\n",
      " -15 -10 -10  -6 -11   0   0  -5  -4   3  -3  -5  -5  -6  -7  -2  -8   5\n",
      "  -7 -11  -6  -2  -8  -4  -4 -10 -10  -7  -7  -5]\n",
      "With MSE 55.89333333333333\n",
      "With MAE 6.193333333333333\n",
      "\n",
      "Model 8 behaved:\n",
      "For cut-of-point 0.6000000000000001 had accuracy 67.47093551418534:\n",
      "[19  9 12 12 14 12  7  7 10  9  8  9  0 10  9  8 18 11 13 14  4 16  6  0\n",
      "  5  9  8  4  8  6 15  3  2  9 16 17 22 10 12 10 22 11 26 10  8 15 14 11\n",
      " 15 16 17  6  8 12 15  8 18 13 14 14 19  9  9 10  1  9  4 10  1 -1  7  8\n",
      "  8  8  6 10  3  5  5  7 -1 18 14  5 -1  5  8  6 14 11  9  5  7  2 14 -8\n",
      " 11 11  9  7 17 12 19 13 16  5 15 14 16 18  4  0  5  9  3 13 11  1  6  9\n",
      "  9 12 11 10 13  7 11 11  1  9 10 20 13 10 11 11 21  8  8 17 14  7  9 19\n",
      " 14  8 21  7 12  1  5 11 10  8  4 13  7 11 14  1  8 12  2  6  6  7 27  0\n",
      "  3 12  9  7 11  9 11 12  7  5 12 10  4  5 17  6  1  7  3 19  7  6  7 15\n",
      " 23  5  8 17  1  7  7 10  5  3  9  9  8 11 11 10  1  1  0  2 10  2  0  8\n",
      " 12 19 12 10  7  6  9 21  9 10  8  8 13 19 20 12 14 21  5  9  6  3 11 14\n",
      " 15 19 11  9 16 16 10 18 10  7  1 11  4  7 12  3 10  9  6  5  7 12 12  9\n",
      "  3 13 17 15 11  9  6 11 10 10  6 13 20 18  8 16  8  9 13 12 13  9  9 18\n",
      "  4 13  8  9  7 14  3  8 11  1  4 11]\n",
      "With MSE 121.92333333333333\n",
      "With MAE 9.75\n",
      "\n",
      "Model 9 behaved:\n",
      "For cut-of-point 0.7000000000000001 had accuracy 85.18235457154289:\n",
      "[ -7 -10  -2  -3  -3  -3  -3  -8   0  -2   0   1  -1   9   0  -5   3  -2\n",
      "   4   2   3   0   3   0  -2  -1  -6  -4  -2   1  -1   0  -5  -3   3  -5\n",
      "  14   5   7   1  -1   7   7   1   3  -2  -1  -4   3   1   2  -2  -2  -3\n",
      "   1   4   4   4   1  -9  -9 -11  -8  -7  -2  -4  -4  -6 -15  -4  -4 -10\n",
      "  -6 -11  -6  -7  -7  -6  -2   5  -9  -1  -8  -2  -6   1  -4   2   1   0\n",
      "   0  -5   1 -11  -8 -18  -7  -3 -11  -4  -2  -4  -4  -3   1  -4  -6   5\n",
      "  -7   0  -4  -1  -2  -5 -10  -6  -3  -3  -2   0  -2   0   3   6   5   3\n",
      "  -3  -7  -6   4  -5  -1  -3  -5  -8  -5  -5 -11  -7  -3   1  -3  -5  -1\n",
      "  -2 -11  -4   3  -7  -4  -7  -7  -1   0  -3  -1   1  -4   1  -4  -3   0\n",
      "  -2  -6  -5  -8  -6 -11  -4 -10  -4   0  -2   1  -6 -10  -4  -8   0   0\n",
      "  -8  -7  -6 -10  -6  -3 -10  -1  -7  -3  -2   3   5  -6   0  10  -7   5\n",
      "   0   3   0  -1  -7   7   9  -1  -7  -2  -9  -9 -12  -5 -11 -10 -12  -8\n",
      "  -9   0  -4   0   0  -1  -4  -1   2   4   2  -5  -6   3  -6  -9  -3  -2\n",
      "  -9  -9  -5  -7   3  -7  -9  -3  -8 -11  -7  -6  -9 -10 -12  -4  -5   0\n",
      "   5   2   0   0   0  -3  -7  -6  -6  -1  -3  -6  -4  -7  -9  -4  -2 -12\n",
      " -11  -5  -6  -5 -11  -3   3  -1  -9  -5   2  -6   4 -11 -15  -4   9   7\n",
      "  -9   6   5   7  -3   0  -1  -7  -1  -1  -5  -2]\n",
      "With MSE 33.24\n",
      "With MAE 4.6466666666666665\n",
      "\n"
     ]
    }
   ],
   "source": [
    "for index, model in enumerate(models):\n",
    "  result = test_model(model=model, images=image_test, counts=count_test, cut_of_points=cop)\n",
    "  \n",
    "  diff = best_cop_diff(result, count_test)\n",
    "\n",
    "  print(f\"Model {index} behaved:\")\n",
    "\n",
    "  print(f\"For cut-of-point {diff[0]} had accuracy {diff[1]}:\")\n",
    "  print(diff[2])\n",
    "\n",
    "  print(f\"With MSE {mse(diff[2])}\")\n",
    "  print(f\"With MAE {mae(diff[2])}\", end=\"\\n\\n\")"
   ]
  },
  {
   "cell_type": "code",
   "execution_count": 13,
   "metadata": {},
   "outputs": [],
   "source": [
    "new_models = [models[4], models[5], models[9]]"
   ]
  },
  {
   "cell_type": "code",
   "execution_count": 29,
   "metadata": {},
   "outputs": [],
   "source": [
    "model = EnsembleCNN(models, (480, 640, 4), split_into_parts=20)"
   ]
  },
  {
   "cell_type": "code",
   "execution_count": 32,
   "metadata": {},
   "outputs": [
    {
     "name": "stderr",
     "output_type": "stream",
     "text": [
      "/home/PJWSTK/s14028/Engine/testing.py:12: RuntimeWarning: invalid value encountered in greater\n",
      "  predictions = np.sum((probabilities > cof), axis=1)\n"
     ]
    }
   ],
   "source": [
    "result = test_model(model=model, images=image_test, counts=count_test, cut_of_points=cop)"
   ]
  },
  {
   "cell_type": "code",
   "execution_count": 40,
   "metadata": {},
   "outputs": [],
   "source": [
    "??model.predict_proba"
   ]
  },
  {
   "cell_type": "code",
   "execution_count": 41,
   "metadata": {},
   "outputs": [],
   "source": [
    "def predict_proba(model, image_tensor):\n",
    "  images = model._prepare_images(image_tensor)\n",
    "  prediction_matrix = np.empty((len(model.models), images.shape[0]), np.float64)\n",
    "\n",
    "  for index, _model in enumerate(model.models):\n",
    "    prediction_matrix[index] = _model.model.predict(images, batch_size=20000).reshape((-1,))\n",
    "\n",
    "  predictions = np.mean(prediction_matrix, axis=0)\n",
    "  predictions = predictions.reshape((image_tensor.shape[0], self._parts ** 2))\n",
    "        \n",
    "  return predictions"
   ]
  },
  {
   "cell_type": "code",
   "execution_count": 36,
   "metadata": {},
   "outputs": [],
   "source": [
    "probabilities = model.predict_proba(image_test)"
   ]
  },
  {
   "cell_type": "code",
   "execution_count": 38,
   "metadata": {},
   "outputs": [
    {
     "data": {
      "text/plain": [
       "array([[nan, nan, nan, ..., nan, nan, nan],\n",
       "       [nan, nan, nan, ..., nan, nan, nan],\n",
       "       [nan, nan, nan, ..., nan, nan, nan],\n",
       "       ...,\n",
       "       [nan, nan, nan, ..., nan, nan, nan],\n",
       "       [nan, nan, nan, ..., nan, nan, nan],\n",
       "       [nan, nan, nan, ..., nan, nan, nan]])"
      ]
     },
     "execution_count": 38,
     "metadata": {},
     "output_type": "execute_result"
    }
   ],
   "source": [
    "probabilities"
   ]
  },
  {
   "cell_type": "code",
   "execution_count": 37,
   "metadata": {},
   "outputs": [
    {
     "name": "stderr",
     "output_type": "stream",
     "text": [
      "/home/PJWSTK/s14028/anaconda3/lib/python3.6/site-packages/ipykernel_launcher.py:1: RuntimeWarning: invalid value encountered in greater\n",
      "  \"\"\"Entry point for launching an IPython kernel.\n"
     ]
    }
   ],
   "source": [
    "predictions = np.sum((probabilities > cop[0]), axis=1)"
   ]
  },
  {
   "cell_type": "code",
   "execution_count": null,
   "metadata": {},
   "outputs": [],
   "source": [
    "probabilities = model.predict_proba(images)\n",
    "counts = counts.astype(np.int16)\n",
    "results = {}\n",
    "\n",
    "\tfor cof in cut_of_points:\n",
    "\t\tpredictions = np.sum((probabilities > cof), axis=1)\n",
    "\t\tpredictions = predictions.astype(np.int16)\n",
    "\t\tacc = np.mean(accuracy(predictions, counts)) * 100\n",
    "        \n",
    "\t\tresults[cof] = acc, predictions\n",
    "    \n",
    "\treturn results"
   ]
  },
  {
   "cell_type": "code",
   "execution_count": 33,
   "metadata": {},
   "outputs": [
    {
     "name": "stdout",
     "output_type": "stream",
     "text": [
      "Model EnsembleCNN behaved:\n",
      "For cut-of-point 0.1 had accuracy 0.0:\n",
      "[-41 -41 -40 -37 -41 -33 -31 -27 -22 -18 -17 -16 -22 -17 -16 -18 -27 -23\n",
      " -23 -24 -24 -24 -28 -29 -23 -24 -20 -23 -18 -18 -23 -29 -29 -23 -22 -27\n",
      " -24 -23 -24 -26 -23 -24 -26 -18 -18 -27 -28 -30 -26 -23 -25 -19 -18 -19\n",
      " -23 -23 -36 -35 -39 -45 -47 -48 -46 -38 -33 -34 -39 -44 -50 -33 -32 -31\n",
      " -31 -32 -28 -27 -28 -28 -28 -27 -29 -28 -26 -23 -24 -25 -21 -25 -25 -22\n",
      " -23 -29 -25 -45 -42 -41 -42 -41 -36 -34 -32 -34 -30 -28 -30 -31 -34 -38\n",
      " -46 -42 -36 -33 -40 -41 -40 -41 -33 -27 -26 -26 -36 -38 -37 -38 -31 -30\n",
      " -29 -26 -30 -29 -32 -34 -30 -36 -44 -33 -32 -26 -31 -29 -29 -32 -37 -42\n",
      " -46 -38 -37 -28 -34 -28 -28 -30 -31 -36 -36 -34 -34 -37 -31 -28 -31 -30\n",
      " -31 -24 -26 -37 -30 -27 -27 -26 -27 -27 -25 -25 -27 -31 -30 -29 -27 -23\n",
      " -27 -28 -30 -30 -29 -33 -36 -37 -24 -23 -33 -29 -36 -35 -30 -27 -30 -30\n",
      " -30 -34 -21 -22 -28 -31 -25 -22 -22 -27 -27 -33 -34 -35 -38 -39 -41 -31\n",
      " -31 -29 -31 -34 -30 -35 -45 -41 -33 -30 -27 -39 -37 -41 -38 -44 -46 -44\n",
      " -25 -28 -29 -36 -28 -31 -37 -43 -41 -43 -46 -41 -44 -44 -47 -34 -36 -27\n",
      " -28 -27 -28 -30 -26 -22 -31 -31 -28 -36 -33 -35 -33 -35 -36 -32 -30 -37\n",
      " -39 -37 -37 -44 -39 -32 -26 -29 -33 -31 -33 -29 -29 -32 -36 -25 -32 -27\n",
      " -28 -30 -30 -28 -32 -25 -27 -30 -31 -29 -27 -26]\n",
      "With MSE 1011.9133333333333\n",
      "With MAE 31.06\n",
      "\n"
     ]
    }
   ],
   "source": [
    "diff = best_cop_diff(result, count_test)\n",
    "\n",
    "print(f\"Model EnsembleCNN behaved:\")\n",
    "\n",
    "print(f\"For cut-of-point {diff[0]} had accuracy {diff[1]}:\")\n",
    "print(diff[2])\n",
    "\n",
    "print(f\"With MSE {mse(diff[2])}\")\n",
    "print(f\"With MAE {mae(diff[2])}\", end=\"\\n\\n\")"
   ]
  }
 ],
 "metadata": {
  "kernelspec": {
   "display_name": "Python 3",
   "language": "python",
   "name": "python3"
  },
  "language_info": {
   "codemirror_mode": {
    "name": "ipython",
    "version": 3
   },
   "file_extension": ".py",
   "mimetype": "text/x-python",
   "name": "python",
   "nbconvert_exporter": "python",
   "pygments_lexer": "ipython3",
   "version": "3.6.6"
  }
 },
 "nbformat": 4,
 "nbformat_minor": 2
}
