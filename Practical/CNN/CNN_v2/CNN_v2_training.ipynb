{
 "cells": [
  {
   "cell_type": "code",
   "execution_count": 1,
   "metadata": {},
   "outputs": [
    {
     "name": "stdout",
     "output_type": "stream",
     "text": [
      "/home/PJWSTK/s14028/Engine\n"
     ]
    }
   ],
   "source": [
    "%cd ../../"
   ]
  },
  {
   "cell_type": "code",
   "execution_count": 2,
   "metadata": {},
   "outputs": [
    {
     "name": "stderr",
     "output_type": "stream",
     "text": [
      "Using TensorFlow backend.\n"
     ]
    }
   ],
   "source": [
    "import keras\n",
    "import scipy.io as mat\n",
    "\n",
    "from common import *\n",
    "from augmentation import add_pmap\n",
    "from augmentation import augmentation_data\n",
    "from augmentation import augment_data\n",
    "\n",
    "from CNN.CNN_v2 import CNN_v2"
   ]
  },
  {
   "cell_type": "code",
   "execution_count": 3,
   "metadata": {},
   "outputs": [],
   "source": [
    "perspective = mat.loadmat(\"mall_dataset/perspective_roi.mat\")[\"pMapN\"]\n",
    "\n",
    "perspective /= np.min(perspective)\n",
    "perspective = np.round(perspective).astype(np.uint8)\n",
    "\n",
    "train, test = data_sets()\n",
    "image_tensors = train[0], test[0]\n",
    "person_coo_tensors = train[1], test[1]\n",
    "count_matrix = train[2], test[2]\n",
    "\n",
    "image_train, image_test = image_tensors\n",
    "person_coo_train, person_coo_test = person_coo_tensors\n",
    "count_train, count_test = count_matrix\n",
    "count_train = count_train.astype(np.uint16)\n",
    "count_test = count_test.astype(np.uint16)\n",
    "\n",
    "image_train = add_pmap(image_train, perspective)\n",
    "image_test = add_pmap(image_test, perspective)"
   ]
  },
  {
   "cell_type": "code",
   "execution_count": 4,
   "metadata": {},
   "outputs": [
    {
     "data": {
      "text/plain": [
       "<keras.engine.sequential.Sequential at 0x7f6762ed0940>"
      ]
     },
     "execution_count": 4,
     "metadata": {},
     "output_type": "execute_result"
    }
   ],
   "source": [
    "cnn_v2 = CNN_v2((480, 640, 4), split_into_parts=20)\n",
    "cnn_v2.def_model()"
   ]
  },
  {
   "cell_type": "code",
   "execution_count": 5,
   "metadata": {},
   "outputs": [],
   "source": [
    "images = cnn_v2._prepare_images(image_train)\n",
    "anwsers = cnn_v2._prepare_anwsers(person_coo_train)"
   ]
  },
  {
   "cell_type": "code",
   "execution_count": 6,
   "metadata": {},
   "outputs": [],
   "source": [
    "ones_count = (np.sum(anwsers == 1) * 0.25).astype(np.uint32)\n",
    "zeros_count = (ones_count / 0.25 * 0.75).astype(np.uint32)\n",
    "validation_length = (zeros_count + ones_count).astype(np.int32)\n",
    "\n",
    "val_indices = np.concatenate([np.where(anwsers == 0)[0][:zeros_count],\n",
    "                              np.where(anwsers == 1)[0][:ones_count]])"
   ]
  },
  {
   "cell_type": "code",
   "execution_count": 7,
   "metadata": {},
   "outputs": [],
   "source": [
    "anwsers[val_indices[zeros_count:]] = 0"
   ]
  },
  {
   "cell_type": "code",
   "execution_count": 8,
   "metadata": {},
   "outputs": [],
   "source": [
    "val_indices = -(images.shape[0] - val_indices)"
   ]
  },
  {
   "cell_type": "code",
   "execution_count": 9,
   "metadata": {},
   "outputs": [],
   "source": [
    "generator = keras.preprocessing.image.ImageDataGenerator(rotation_range=20)\n",
    "\n",
    "augmentation = augmentation_data(image_train, anwsers, 20)\n",
    "augmented_data = augment_data(generator, augmentation, images, anwsers)\n",
    "images, anwsers = augmented_data"
   ]
  },
  {
   "cell_type": "code",
   "execution_count": 10,
   "metadata": {},
   "outputs": [],
   "source": [
    "anwsers[val_indices[zeros_count:]] = 1\n",
    "\n",
    "images[-validation_length:], images[val_indices] = images[val_indices], images[-validation_length:]\n",
    "anwsers[-validation_length:], anwsers[val_indices] = anwsers[val_indices], anwsers[-validation_length:]"
   ]
  },
  {
   "cell_type": "code",
   "execution_count": 11,
   "metadata": {},
   "outputs": [],
   "source": [
    "parallel_model = keras.utils.multi_gpu_model(\n",
    "        cnn_v2.model,\n",
    "        gpus=2,\n",
    "        cpu_merge=False)\n",
    "parallel_model.compile(\n",
    "        loss=\"binary_crossentropy\", \n",
    "        optimizer=\"adam\", \n",
    "        metrics=[\"accuracy\"])"
   ]
  },
  {
   "cell_type": "code",
   "execution_count": 12,
   "metadata": {},
   "outputs": [
    {
     "data": {
      "text/plain": [
       "<tf.Tensor 'Assign:0' shape=() dtype=float32_ref>"
      ]
     },
     "execution_count": 12,
     "metadata": {},
     "output_type": "execute_result"
    }
   ],
   "source": [
    "parallel_model.optimizer.lr.assign(1e-3)"
   ]
  },
  {
   "cell_type": "code",
   "execution_count": 13,
   "metadata": {},
   "outputs": [
    {
     "name": "stdout",
     "output_type": "stream",
     "text": [
      "Train on 1244460 samples, validate on 46216 samples\n",
      "Epoch 1/20\n",
      "1244460/1244460 [==============================] - 66s 53us/step - loss: 77.4440 - acc: 0.5523 - val_loss: 18.7763 - val_acc: 0.6745\n",
      "Epoch 2/20\n",
      "1244460/1244460 [==============================] - 55s 44us/step - loss: 15.7103 - acc: 0.6235 - val_loss: 6.4606 - val_acc: 0.6844\n",
      "Epoch 3/20\n",
      "1244460/1244460 [==============================] - 55s 44us/step - loss: 4.7777 - acc: 0.6797 - val_loss: 5.3927 - val_acc: 0.7501\n",
      "Epoch 4/20\n",
      "1244460/1244460 [==============================] - 56s 45us/step - loss: 2.0191 - acc: 0.6949 - val_loss: 3.1549 - val_acc: 0.7539\n",
      "Epoch 5/20\n",
      "1244460/1244460 [==============================] - 54s 43us/step - loss: 1.2598 - acc: 0.7231 - val_loss: 1.5449 - val_acc: 0.2510\n",
      "Epoch 6/20\n",
      "1244460/1244460 [==============================] - 53s 42us/step - loss: 0.9726 - acc: 0.7446 - val_loss: 1.2010 - val_acc: 0.7500\n",
      "Epoch 7/20\n",
      "1244460/1244460 [==============================] - 53s 43us/step - loss: 0.8245 - acc: 0.7598 - val_loss: 0.9535 - val_acc: 0.7491\n",
      "Epoch 8/20\n",
      "1244460/1244460 [==============================] - 52s 42us/step - loss: 0.7364 - acc: 0.7696 - val_loss: 0.8046 - val_acc: 0.7500\n",
      "Epoch 9/20\n",
      "1244460/1244460 [==============================] - 52s 42us/step - loss: 0.6786 - acc: 0.7819 - val_loss: 0.7661 - val_acc: 0.7500\n",
      "Epoch 10/20\n",
      "1244460/1244460 [==============================] - 53s 43us/step - loss: 0.6259 - acc: 0.7957 - val_loss: 0.7012 - val_acc: 0.7501\n",
      "Epoch 11/20\n",
      "1244460/1244460 [==============================] - 53s 42us/step - loss: 0.5909 - acc: 0.8047 - val_loss: 0.7174 - val_acc: 0.7552\n",
      "Epoch 12/20\n",
      "1244460/1244460 [==============================] - 52s 42us/step - loss: 0.5727 - acc: 0.8113 - val_loss: 0.6314 - val_acc: 0.7744\n",
      "Epoch 13/20\n",
      "1244460/1244460 [==============================] - 52s 42us/step - loss: 0.5372 - acc: 0.8220 - val_loss: 0.6793 - val_acc: 0.7744\n",
      "Epoch 14/20\n",
      "1244460/1244460 [==============================] - 52s 42us/step - loss: 0.5111 - acc: 0.8304 - val_loss: 0.6993 - val_acc: 0.6619\n",
      "Epoch 15/20\n",
      "1244460/1244460 [==============================] - 52s 42us/step - loss: 0.4934 - acc: 0.8361 - val_loss: 0.6489 - val_acc: 0.6994\n",
      "Epoch 16/20\n",
      "1244460/1244460 [==============================] - 53s 42us/step - loss: 0.4758 - acc: 0.8413 - val_loss: 0.6087 - val_acc: 0.6676\n",
      "Epoch 17/20\n",
      "1244460/1244460 [==============================] - 53s 42us/step - loss: 0.4611 - acc: 0.8457 - val_loss: 0.5040 - val_acc: 0.7812\n",
      "Epoch 18/20\n",
      "1244460/1244460 [==============================] - 53s 42us/step - loss: 0.4490 - acc: 0.8503 - val_loss: 0.5801 - val_acc: 0.7101\n",
      "Epoch 19/20\n",
      "1244460/1244460 [==============================] - 53s 43us/step - loss: 0.4373 - acc: 0.8532 - val_loss: 0.4602 - val_acc: 0.8229\n",
      "Epoch 20/20\n",
      "1244460/1244460 [==============================] - 52s 42us/step - loss: 0.4294 - acc: 0.8564 - val_loss: 0.4665 - val_acc: 0.8260\n"
     ]
    },
    {
     "data": {
      "text/plain": [
       "<keras.callbacks.History at 0x7f870015e0f0>"
      ]
     },
     "execution_count": 13,
     "metadata": {},
     "output_type": "execute_result"
    }
   ],
   "source": [
    "parallel_model.fit(images[:-validation_length], anwsers[:-validation_length], batch_size=20000, epochs=20,\n",
    "                   validation_data=(images[-validation_length:], anwsers[-validation_length:]))"
   ]
  },
  {
   "cell_type": "code",
   "execution_count": 14,
   "metadata": {},
   "outputs": [],
   "source": [
    "parallel_model.save_weights(\"CNN/CNN_v2/weights/cnn_v2_1e_3_20\")"
   ]
  },
  {
   "cell_type": "code",
   "execution_count": 13,
   "metadata": {},
   "outputs": [],
   "source": [
    "parallel_model.load_weights(\"CNN/CNN_v2/weights/cnn_v2_1e_3_20\")"
   ]
  },
  {
   "cell_type": "code",
   "execution_count": 15,
   "metadata": {},
   "outputs": [
    {
     "name": "stdout",
     "output_type": "stream",
     "text": [
      "Train on 1244460 samples, validate on 46216 samples\n",
      "Epoch 1/10\n",
      "1244460/1244460 [==============================] - 53s 43us/step - loss: 0.4211 - acc: 0.8585 - val_loss: 0.4507 - val_acc: 0.8196\n",
      "Epoch 2/10\n",
      "1244460/1244460 [==============================] - 52s 42us/step - loss: 0.4091 - acc: 0.8633 - val_loss: 0.4458 - val_acc: 0.8208\n",
      "Epoch 3/10\n",
      "1244460/1244460 [==============================] - 52s 42us/step - loss: 0.4028 - acc: 0.8656 - val_loss: 0.4543 - val_acc: 0.8309\n",
      "Epoch 4/10\n",
      "1244460/1244460 [==============================] - 52s 42us/step - loss: 0.3961 - acc: 0.8681 - val_loss: 0.4546 - val_acc: 0.8111\n",
      "Epoch 5/10\n",
      "1244460/1244460 [==============================] - 53s 42us/step - loss: 0.3879 - acc: 0.8702 - val_loss: 0.4191 - val_acc: 0.8341\n",
      "Epoch 6/10\n",
      "1244460/1244460 [==============================] - 53s 42us/step - loss: 0.3817 - acc: 0.8727 - val_loss: 0.4257 - val_acc: 0.8290\n",
      "Epoch 7/10\n",
      "1244460/1244460 [==============================] - 53s 42us/step - loss: 0.3742 - acc: 0.8750 - val_loss: 0.3981 - val_acc: 0.8464\n",
      "Epoch 8/10\n",
      "1244460/1244460 [==============================] - 53s 43us/step - loss: 0.3684 - acc: 0.8771 - val_loss: 0.3939 - val_acc: 0.8487\n",
      "Epoch 9/10\n",
      "1244460/1244460 [==============================] - 53s 43us/step - loss: 0.3624 - acc: 0.8789 - val_loss: 0.4089 - val_acc: 0.8365\n",
      "Epoch 10/10\n",
      "1244460/1244460 [==============================] - 53s 43us/step - loss: 0.3573 - acc: 0.8811 - val_loss: 0.3847 - val_acc: 0.8460\n"
     ]
    },
    {
     "data": {
      "text/plain": [
       "<keras.callbacks.History at 0x7f88bbf69748>"
      ]
     },
     "execution_count": 15,
     "metadata": {},
     "output_type": "execute_result"
    }
   ],
   "source": [
    "parallel_model.fit(images[:-validation_length], anwsers[:-validation_length], batch_size=20000, epochs=10,\n",
    "                   validation_data=(images[-validation_length:], anwsers[-validation_length:]))"
   ]
  },
  {
   "cell_type": "code",
   "execution_count": 16,
   "metadata": {},
   "outputs": [],
   "source": [
    "parallel_model.save_weights(\"CNN/CNN_v2/weights/cnn_v2_1e_3_30\")"
   ]
  },
  {
   "cell_type": "code",
   "execution_count": 13,
   "metadata": {},
   "outputs": [],
   "source": [
    "parallel_model.load_weights(\"CNN/CNN_v2/weights/cnn_v2_1e_3_30\")"
   ]
  },
  {
   "cell_type": "code",
   "execution_count": 17,
   "metadata": {},
   "outputs": [
    {
     "data": {
      "text/plain": [
       "<tf.Tensor 'Assign_1:0' shape=() dtype=float32_ref>"
      ]
     },
     "execution_count": 17,
     "metadata": {},
     "output_type": "execute_result"
    }
   ],
   "source": [
    "parallel_model.optimizer.lr.assign(1e-4)"
   ]
  },
  {
   "cell_type": "code",
   "execution_count": 18,
   "metadata": {},
   "outputs": [
    {
     "name": "stdout",
     "output_type": "stream",
     "text": [
      "Train on 1244460 samples, validate on 46216 samples\n",
      "Epoch 1/20\n",
      "1244460/1244460 [==============================] - 52s 42us/step - loss: 0.3522 - acc: 0.8823 - val_loss: 0.3846 - val_acc: 0.8451\n",
      "Epoch 2/20\n",
      "1244460/1244460 [==============================] - 53s 42us/step - loss: 0.3460 - acc: 0.8847 - val_loss: 0.3917 - val_acc: 0.8509\n",
      "Epoch 3/20\n",
      "1244460/1244460 [==============================] - 53s 43us/step - loss: 0.3410 - acc: 0.8866 - val_loss: 0.3858 - val_acc: 0.8493\n",
      "Epoch 4/20\n",
      "1244460/1244460 [==============================] - 53s 42us/step - loss: 0.3371 - acc: 0.8881 - val_loss: 0.4041 - val_acc: 0.8270\n",
      "Epoch 5/20\n",
      "1244460/1244460 [==============================] - 53s 43us/step - loss: 0.3333 - acc: 0.8894 - val_loss: 0.3799 - val_acc: 0.8461\n",
      "Epoch 6/20\n",
      "1244460/1244460 [==============================] - 53s 43us/step - loss: 0.3326 - acc: 0.8897 - val_loss: 0.3728 - val_acc: 0.8518\n",
      "Epoch 7/20\n",
      "1244460/1244460 [==============================] - 52s 42us/step - loss: 0.3262 - acc: 0.8919 - val_loss: 0.3973 - val_acc: 0.8485\n",
      "Epoch 8/20\n",
      "1244460/1244460 [==============================] - 52s 42us/step - loss: 0.3271 - acc: 0.8922 - val_loss: 0.3695 - val_acc: 0.8519\n",
      "Epoch 9/20\n",
      "1244460/1244460 [==============================] - 52s 42us/step - loss: 0.3215 - acc: 0.8936 - val_loss: 0.4071 - val_acc: 0.8478\n",
      "Epoch 10/20\n",
      "1244460/1244460 [==============================] - 52s 42us/step - loss: 0.3222 - acc: 0.8931 - val_loss: 0.3831 - val_acc: 0.8448\n",
      "Epoch 11/20\n",
      "1244460/1244460 [==============================] - 52s 41us/step - loss: 0.3145 - acc: 0.8957 - val_loss: 0.3823 - val_acc: 0.8512\n",
      "Epoch 12/20\n",
      "1244460/1244460 [==============================] - 52s 42us/step - loss: 0.3134 - acc: 0.8956 - val_loss: 0.3824 - val_acc: 0.8465\n",
      "Epoch 13/20\n",
      "1244460/1244460 [==============================] - 52s 42us/step - loss: 0.3091 - acc: 0.8972 - val_loss: 0.3739 - val_acc: 0.8475\n",
      "Epoch 14/20\n",
      "1244460/1244460 [==============================] - 52s 42us/step - loss: 0.3086 - acc: 0.8969 - val_loss: 0.3926 - val_acc: 0.8373\n",
      "Epoch 15/20\n",
      "1244460/1244460 [==============================] - 52s 42us/step - loss: 0.3043 - acc: 0.8984 - val_loss: 0.4741 - val_acc: 0.8203\n",
      "Epoch 16/20\n",
      "1244460/1244460 [==============================] - 52s 42us/step - loss: 0.3044 - acc: 0.8986 - val_loss: 0.3714 - val_acc: 0.8478\n",
      "Epoch 17/20\n",
      "1244460/1244460 [==============================] - 51s 41us/step - loss: 0.3058 - acc: 0.8984 - val_loss: 0.3903 - val_acc: 0.8465\n",
      "Epoch 18/20\n",
      "1244460/1244460 [==============================] - 53s 42us/step - loss: 0.2973 - acc: 0.9013 - val_loss: 0.3738 - val_acc: 0.8534\n",
      "Epoch 19/20\n",
      "1244460/1244460 [==============================] - 51s 41us/step - loss: 0.2951 - acc: 0.9018 - val_loss: 0.3631 - val_acc: 0.8532\n",
      "Epoch 20/20\n",
      "1244460/1244460 [==============================] - 52s 42us/step - loss: 0.2971 - acc: 0.9008 - val_loss: 0.3584 - val_acc: 0.8552\n"
     ]
    },
    {
     "data": {
      "text/plain": [
       "<keras.callbacks.History at 0x7f88bbbf1dd8>"
      ]
     },
     "execution_count": 18,
     "metadata": {},
     "output_type": "execute_result"
    }
   ],
   "source": [
    "parallel_model.fit(images[:-validation_length], anwsers[:-validation_length], batch_size=20000, epochs=20,\n",
    "                   validation_data=(images[-validation_length:], anwsers[-validation_length:]))"
   ]
  },
  {
   "cell_type": "code",
   "execution_count": 19,
   "metadata": {},
   "outputs": [],
   "source": [
    "parallel_model.save_weights(\"CNN/CNN_v2/weights/cnn_v2_1e_4_20\")"
   ]
  },
  {
   "cell_type": "code",
   "execution_count": 21,
   "metadata": {},
   "outputs": [],
   "source": [
    "parallel_model.load_weights(\"CNN/CNN_v2/weights/cnn_v2_1e_4_20\")"
   ]
  },
  {
   "cell_type": "code",
   "execution_count": 45,
   "metadata": {},
   "outputs": [
    {
     "data": {
      "text/plain": [
       "<tf.Tensor 'Assign_52:0' shape=() dtype=float32_ref>"
      ]
     },
     "execution_count": 45,
     "metadata": {},
     "output_type": "execute_result"
    }
   ],
   "source": [
    "parallel_model.optimizer.lr.assign(5e-5)"
   ]
  },
  {
   "cell_type": "code",
   "execution_count": 23,
   "metadata": {},
   "outputs": [
    {
     "name": "stdout",
     "output_type": "stream",
     "text": [
      "Train on 1244460 samples, validate on 46216 samples\n",
      "Epoch 1/10\n",
      "1244460/1244460 [==============================] - 53s 43us/step - loss: 0.2937 - acc: 0.9019 - val_loss: 0.3688 - val_acc: 0.8540\n",
      "Epoch 2/10\n",
      "1244460/1244460 [==============================] - 52s 42us/step - loss: 0.2940 - acc: 0.9018 - val_loss: 0.3654 - val_acc: 0.8572\n",
      "Epoch 3/10\n",
      "1244460/1244460 [==============================] - 52s 42us/step - loss: 0.2888 - acc: 0.9032 - val_loss: 0.3586 - val_acc: 0.8634\n",
      "Epoch 4/10\n",
      "1244460/1244460 [==============================] - 53s 43us/step - loss: 0.2868 - acc: 0.9041 - val_loss: 0.3626 - val_acc: 0.8517\n",
      "Epoch 5/10\n",
      "1244460/1244460 [==============================] - 53s 43us/step - loss: 0.2844 - acc: 0.9052 - val_loss: 0.3597 - val_acc: 0.8592\n",
      "Epoch 6/10\n",
      "1244460/1244460 [==============================] - 52s 42us/step - loss: 0.2795 - acc: 0.9066 - val_loss: 0.3489 - val_acc: 0.8606\n",
      "Epoch 7/10\n",
      "1244460/1244460 [==============================] - 53s 43us/step - loss: 0.3074 - acc: 0.8988 - val_loss: 0.3863 - val_acc: 0.8476\n",
      "Epoch 8/10\n",
      "1244460/1244460 [==============================] - 53s 43us/step - loss: 0.2920 - acc: 0.9032 - val_loss: 0.3886 - val_acc: 0.8438\n",
      "Epoch 9/10\n",
      "1244460/1244460 [==============================] - 53s 42us/step - loss: 0.2807 - acc: 0.9063 - val_loss: 0.3576 - val_acc: 0.8644\n",
      "Epoch 10/10\n",
      "1244460/1244460 [==============================] - 53s 42us/step - loss: 0.2844 - acc: 0.9051 - val_loss: 0.3759 - val_acc: 0.8420\n"
     ]
    },
    {
     "data": {
      "text/plain": [
       "<keras.callbacks.History at 0x7f855e50a908>"
      ]
     },
     "execution_count": 23,
     "metadata": {},
     "output_type": "execute_result"
    }
   ],
   "source": [
    "parallel_model.fit(images[:-validation_length], anwsers[:-validation_length], batch_size=20000, epochs=10,\n",
    "                   validation_data=(images[-validation_length:], anwsers[-validation_length:]))"
   ]
  },
  {
   "cell_type": "code",
   "execution_count": 24,
   "metadata": {},
   "outputs": [
    {
     "name": "stdout",
     "output_type": "stream",
     "text": [
      "Train on 1244460 samples, validate on 46216 samples\n",
      "Epoch 1/10\n",
      "1244460/1244460 [==============================] - 53s 42us/step - loss: 0.2725 - acc: 0.9092 - val_loss: 0.3819 - val_acc: 0.8478\n",
      "Epoch 2/10\n",
      "1244460/1244460 [==============================] - 53s 43us/step - loss: 0.2703 - acc: 0.9099 - val_loss: 0.3488 - val_acc: 0.8597\n",
      "Epoch 3/10\n",
      "1244460/1244460 [==============================] - 52s 42us/step - loss: 0.2654 - acc: 0.9116 - val_loss: 0.3557 - val_acc: 0.8519\n",
      "Epoch 4/10\n",
      "1244460/1244460 [==============================] - 52s 42us/step - loss: 0.2659 - acc: 0.9113 - val_loss: 0.3918 - val_acc: 0.8369\n",
      "Epoch 5/10\n",
      "1244460/1244460 [==============================] - 52s 42us/step - loss: 0.2618 - acc: 0.9128 - val_loss: 0.3418 - val_acc: 0.8639\n",
      "Epoch 6/10\n",
      "1244460/1244460 [==============================] - 53s 43us/step - loss: 0.2581 - acc: 0.9144 - val_loss: 0.3511 - val_acc: 0.8564\n",
      "Epoch 7/10\n",
      "1244460/1244460 [==============================] - 53s 42us/step - loss: 0.2558 - acc: 0.9151 - val_loss: 0.3852 - val_acc: 0.8467\n",
      "Epoch 8/10\n",
      "1244460/1244460 [==============================] - 53s 43us/step - loss: 0.2528 - acc: 0.9159 - val_loss: 0.3479 - val_acc: 0.8539\n",
      "Epoch 9/10\n",
      "1244460/1244460 [==============================] - 53s 43us/step - loss: 0.2521 - acc: 0.9164 - val_loss: 0.3516 - val_acc: 0.8587\n",
      "Epoch 10/10\n",
      "1244460/1244460 [==============================] - 53s 43us/step - loss: 0.2493 - acc: 0.9170 - val_loss: 0.3580 - val_acc: 0.8523\n"
     ]
    },
    {
     "data": {
      "text/plain": [
       "<keras.callbacks.History at 0x7f855da28f60>"
      ]
     },
     "execution_count": 24,
     "metadata": {},
     "output_type": "execute_result"
    }
   ],
   "source": [
    "parallel_model.fit(images[:-validation_length], anwsers[:-validation_length], batch_size=20000, epochs=10,\n",
    "                   validation_data=(images[-validation_length:], anwsers[-validation_length:]))"
   ]
  },
  {
   "cell_type": "code",
   "execution_count": 25,
   "metadata": {},
   "outputs": [
    {
     "name": "stdout",
     "output_type": "stream",
     "text": [
      "Train on 1244460 samples, validate on 46216 samples\n",
      "Epoch 1/10\n",
      "1244460/1244460 [==============================] - 52s 42us/step - loss: 0.2461 - acc: 0.9185 - val_loss: 0.4254 - val_acc: 0.8219\n",
      "Epoch 2/10\n",
      "1244460/1244460 [==============================] - 52s 42us/step - loss: 0.2442 - acc: 0.9195 - val_loss: 0.3420 - val_acc: 0.8559\n",
      "Epoch 3/10\n",
      "1244460/1244460 [==============================] - 53s 43us/step - loss: 0.2444 - acc: 0.9187 - val_loss: 0.3552 - val_acc: 0.8531\n",
      "Epoch 4/10\n",
      "1244460/1244460 [==============================] - 52s 42us/step - loss: 0.2432 - acc: 0.9194 - val_loss: 0.3414 - val_acc: 0.8608\n",
      "Epoch 5/10\n",
      "1244460/1244460 [==============================] - 53s 42us/step - loss: 0.2388 - acc: 0.9207 - val_loss: 0.3525 - val_acc: 0.8595\n",
      "Epoch 6/10\n",
      "1244460/1244460 [==============================] - 53s 42us/step - loss: 0.2372 - acc: 0.9215 - val_loss: 0.3517 - val_acc: 0.8580\n",
      "Epoch 7/10\n",
      "1244460/1244460 [==============================] - 53s 43us/step - loss: 0.2359 - acc: 0.9220 - val_loss: 0.3507 - val_acc: 0.8502\n",
      "Epoch 8/10\n",
      "1244460/1244460 [==============================] - 53s 42us/step - loss: 0.2335 - acc: 0.9226 - val_loss: 0.3430 - val_acc: 0.8602\n",
      "Epoch 9/10\n",
      "1244460/1244460 [==============================] - 53s 42us/step - loss: 0.2342 - acc: 0.9227 - val_loss: 0.3534 - val_acc: 0.8540\n",
      "Epoch 10/10\n",
      "1244460/1244460 [==============================] - 53s 43us/step - loss: 0.2942 - acc: 0.9035 - val_loss: 0.4304 - val_acc: 0.8380\n"
     ]
    },
    {
     "data": {
      "text/plain": [
       "<keras.callbacks.History at 0x7f855da28b70>"
      ]
     },
     "execution_count": 25,
     "metadata": {},
     "output_type": "execute_result"
    }
   ],
   "source": [
    "parallel_model.fit(images[:-validation_length], anwsers[:-validation_length], batch_size=20000, epochs=10,\n",
    "                   validation_data=(images[-validation_length:], anwsers[-validation_length:]))"
   ]
  },
  {
   "cell_type": "code",
   "execution_count": 26,
   "metadata": {
    "scrolled": false
   },
   "outputs": [
    {
     "name": "stdout",
     "output_type": "stream",
     "text": [
      "Train on 1244460 samples, validate on 46216 samples\n",
      "Epoch 1/30\n",
      "1244460/1244460 [==============================] - 52s 42us/step - loss: 0.2822 - acc: 0.9079 - val_loss: 0.4500 - val_acc: 0.8232\n",
      "Epoch 2/30\n",
      "1244460/1244460 [==============================] - 52s 42us/step - loss: 0.2414 - acc: 0.9209 - val_loss: 0.3722 - val_acc: 0.8467\n",
      "Epoch 3/30\n",
      "1244460/1244460 [==============================] - 52s 42us/step - loss: 0.2328 - acc: 0.9235 - val_loss: 0.3492 - val_acc: 0.8572\n",
      "Epoch 4/30\n",
      "1244460/1244460 [==============================] - 53s 42us/step - loss: 0.2282 - acc: 0.9244 - val_loss: 0.3418 - val_acc: 0.8592\n",
      "Epoch 5/30\n",
      "1244460/1244460 [==============================] - 53s 43us/step - loss: 0.2323 - acc: 0.9233 - val_loss: 0.3509 - val_acc: 0.8532\n",
      "Epoch 6/30\n",
      "1244460/1244460 [==============================] - 53s 42us/step - loss: 0.2294 - acc: 0.9238 - val_loss: 0.4150 - val_acc: 0.8103\n",
      "Epoch 7/30\n",
      "1244460/1244460 [==============================] - 54s 43us/step - loss: 0.2232 - acc: 0.9263 - val_loss: 0.3407 - val_acc: 0.8550\n",
      "Epoch 8/30\n",
      "1244460/1244460 [==============================] - 53s 43us/step - loss: 0.2173 - acc: 0.9286 - val_loss: 0.3505 - val_acc: 0.8518\n",
      "Epoch 9/30\n",
      "1244460/1244460 [==============================] - 53s 42us/step - loss: 0.2143 - acc: 0.9296 - val_loss: 0.3855 - val_acc: 0.8464\n",
      "Epoch 10/30\n",
      "1244460/1244460 [==============================] - 54s 44us/step - loss: 0.2133 - acc: 0.9302 - val_loss: 0.3325 - val_acc: 0.8641\n",
      "Epoch 11/30\n",
      "1244460/1244460 [==============================] - 54s 43us/step - loss: 0.2126 - acc: 0.9299 - val_loss: 0.3450 - val_acc: 0.8612\n",
      "Epoch 12/30\n",
      "1244460/1244460 [==============================] - 53s 43us/step - loss: 0.2099 - acc: 0.9315 - val_loss: 0.3712 - val_acc: 0.8406\n",
      "Epoch 13/30\n",
      "1244460/1244460 [==============================] - 53s 43us/step - loss: 0.2070 - acc: 0.9324 - val_loss: 0.3387 - val_acc: 0.8678\n",
      "Epoch 14/30\n",
      "1244460/1244460 [==============================] - 53s 43us/step - loss: 0.2052 - acc: 0.9327 - val_loss: 0.3474 - val_acc: 0.8598\n",
      "Epoch 15/30\n",
      "1244460/1244460 [==============================] - 53s 42us/step - loss: 0.2033 - acc: 0.9333 - val_loss: 0.3575 - val_acc: 0.8362\n",
      "Epoch 16/30\n",
      "1244460/1244460 [==============================] - 52s 42us/step - loss: 0.2469 - acc: 0.9186 - val_loss: 0.3644 - val_acc: 0.8559\n",
      "Epoch 17/30\n",
      "1244460/1244460 [==============================] - 53s 42us/step - loss: 0.2168 - acc: 0.9301 - val_loss: 0.3282 - val_acc: 0.8624\n",
      "Epoch 18/30\n",
      "1244460/1244460 [==============================] - 53s 43us/step - loss: 0.2057 - acc: 0.9329 - val_loss: 0.3741 - val_acc: 0.8470\n",
      "Epoch 19/30\n",
      "1244460/1244460 [==============================] - 53s 43us/step - loss: 0.2011 - acc: 0.9349 - val_loss: 0.3680 - val_acc: 0.8329\n",
      "Epoch 20/30\n",
      "1244460/1244460 [==============================] - 53s 42us/step - loss: 0.1976 - acc: 0.9358 - val_loss: 0.3585 - val_acc: 0.8496\n",
      "Epoch 21/30\n",
      "1244460/1244460 [==============================] - 53s 43us/step - loss: 0.1959 - acc: 0.9360 - val_loss: 0.4092 - val_acc: 0.8259\n",
      "Epoch 22/30\n",
      "1244460/1244460 [==============================] - 53s 43us/step - loss: 0.1935 - acc: 0.9366 - val_loss: 0.3346 - val_acc: 0.8527\n",
      "Epoch 23/30\n",
      "1244460/1244460 [==============================] - 53s 42us/step - loss: 0.1960 - acc: 0.9361 - val_loss: 0.3356 - val_acc: 0.8555\n",
      "Epoch 24/30\n",
      "1244460/1244460 [==============================] - 53s 43us/step - loss: 0.1929 - acc: 0.9372 - val_loss: 0.3512 - val_acc: 0.8531\n",
      "Epoch 25/30\n",
      "1244460/1244460 [==============================] - 53s 43us/step - loss: 0.1912 - acc: 0.9378 - val_loss: 0.3263 - val_acc: 0.8695\n",
      "Epoch 26/30\n",
      "1244460/1244460 [==============================] - 53s 42us/step - loss: 0.1869 - acc: 0.9393 - val_loss: 0.4407 - val_acc: 0.8229\n",
      "Epoch 27/30\n",
      "1244460/1244460 [==============================] - 53s 43us/step - loss: 0.1883 - acc: 0.9384 - val_loss: 0.3328 - val_acc: 0.8605\n",
      "Epoch 28/30\n",
      "1244460/1244460 [==============================] - 53s 43us/step - loss: 0.1876 - acc: 0.9389 - val_loss: 0.4286 - val_acc: 0.8346\n",
      "Epoch 29/30\n",
      "1244460/1244460 [==============================] - 52s 42us/step - loss: 0.1866 - acc: 0.9394 - val_loss: 0.3429 - val_acc: 0.8605\n",
      "Epoch 30/30\n",
      "1244460/1244460 [==============================] - 53s 42us/step - loss: 0.1856 - acc: 0.9395 - val_loss: 0.3223 - val_acc: 0.8662\n"
     ]
    },
    {
     "data": {
      "text/plain": [
       "<keras.callbacks.History at 0x7f88bbb604a8>"
      ]
     },
     "execution_count": 26,
     "metadata": {},
     "output_type": "execute_result"
    }
   ],
   "source": [
    "parallel_model.fit(images[:-validation_length], anwsers[:-validation_length], batch_size=20000, epochs=30,\n",
    "                   validation_data=(images[-validation_length:], anwsers[-validation_length:]))"
   ]
  },
  {
   "cell_type": "code",
   "execution_count": 27,
   "metadata": {},
   "outputs": [],
   "source": [
    "parallel_model.save_weights(\"CNN/CNN_v2/weights/cnn_v2_5e_5_60\")"
   ]
  },
  {
   "cell_type": "code",
   "execution_count": 30,
   "metadata": {},
   "outputs": [],
   "source": [
    "parallel_model.load_weights(\"CNN/CNN_v2/weights/cnn_v2_5e_5_60\")"
   ]
  },
  {
   "cell_type": "code",
   "execution_count": 31,
   "metadata": {},
   "outputs": [
    {
     "name": "stdout",
     "output_type": "stream",
     "text": [
      "Train on 1244460 samples, validate on 46216 samples\n",
      "Epoch 1/10\n",
      "1244460/1244460 [==============================] - 53s 42us/step - loss: 0.1850 - acc: 0.9397 - val_loss: 0.3350 - val_acc: 0.8578\n",
      "Epoch 2/10\n",
      "1244460/1244460 [==============================] - 53s 43us/step - loss: 0.1860 - acc: 0.9392 - val_loss: 0.3329 - val_acc: 0.8613\n",
      "Epoch 3/10\n",
      "1244460/1244460 [==============================] - 53s 42us/step - loss: 0.1815 - acc: 0.9410 - val_loss: 0.3306 - val_acc: 0.8650\n",
      "Epoch 4/10\n",
      "1244460/1244460 [==============================] - 53s 42us/step - loss: 0.1817 - acc: 0.9408 - val_loss: 0.4486 - val_acc: 0.8242\n",
      "Epoch 5/10\n",
      "1244460/1244460 [==============================] - 52s 42us/step - loss: 0.1812 - acc: 0.9409 - val_loss: 0.3437 - val_acc: 0.8531\n",
      "Epoch 6/10\n",
      "1244460/1244460 [==============================] - 53s 42us/step - loss: 0.1798 - acc: 0.9413 - val_loss: 0.3407 - val_acc: 0.8573\n",
      "Epoch 7/10\n",
      "1244460/1244460 [==============================] - 53s 43us/step - loss: 0.1794 - acc: 0.9414 - val_loss: 0.3198 - val_acc: 0.8668\n",
      "Epoch 8/10\n",
      "1244460/1244460 [==============================] - 53s 42us/step - loss: 0.1783 - acc: 0.9420 - val_loss: 0.3982 - val_acc: 0.8217\n",
      "Epoch 9/10\n",
      "1244460/1244460 [==============================] - 52s 42us/step - loss: 0.1811 - acc: 0.9407 - val_loss: 0.7482 - val_acc: 0.6490\n",
      "Epoch 10/10\n",
      "1244460/1244460 [==============================] - 52s 42us/step - loss: 0.1787 - acc: 0.9415 - val_loss: 0.3237 - val_acc: 0.8690\n"
     ]
    },
    {
     "data": {
      "text/plain": [
       "<keras.callbacks.History at 0x7f855e512f98>"
      ]
     },
     "execution_count": 31,
     "metadata": {},
     "output_type": "execute_result"
    }
   ],
   "source": [
    "parallel_model.fit(images[:-validation_length], anwsers[:-validation_length], batch_size=20000, epochs=10,\n",
    "                   validation_data=(images[-validation_length:], anwsers[-validation_length:]))"
   ]
  },
  {
   "cell_type": "code",
   "execution_count": 32,
   "metadata": {},
   "outputs": [],
   "source": [
    "parallel_model.save_weights(\"CNN/CNN_v2/weights/cnn_v2_5e_5_70\")"
   ]
  },
  {
   "cell_type": "code",
   "execution_count": 44,
   "metadata": {},
   "outputs": [],
   "source": [
    "parallel_model.load_weights(\"CNN/CNN_v2/weights/cnn_v2_5e_5_70\")"
   ]
  },
  {
   "cell_type": "code",
   "execution_count": 46,
   "metadata": {},
   "outputs": [
    {
     "name": "stdout",
     "output_type": "stream",
     "text": [
      "Train on 1244460 samples, validate on 46216 samples\n",
      "Epoch 1/10\n",
      "1244460/1244460 [==============================] - 53s 42us/step - loss: 0.1696 - acc: 0.9451 - val_loss: 0.5570 - val_acc: 0.7500\n",
      "Epoch 2/10\n",
      "1244460/1244460 [==============================] - 52s 42us/step - loss: 0.1689 - acc: 0.9451 - val_loss: 0.3727 - val_acc: 0.7808\n",
      "Epoch 3/10\n",
      "1244460/1244460 [==============================] - 52s 41us/step - loss: 0.1680 - acc: 0.9453 - val_loss: 0.3651 - val_acc: 0.7849\n",
      "Epoch 4/10\n",
      "1244460/1244460 [==============================] - 52s 42us/step - loss: 0.1669 - acc: 0.9456 - val_loss: 0.3441 - val_acc: 0.8384\n",
      "Epoch 5/10\n",
      "1244460/1244460 [==============================] - 51s 41us/step - loss: 0.1656 - acc: 0.9461 - val_loss: 0.4217 - val_acc: 0.8309\n",
      "Epoch 6/10\n",
      "1244460/1244460 [==============================] - 52s 41us/step - loss: 0.1645 - acc: 0.9467 - val_loss: 0.3120 - val_acc: 0.8555\n",
      "Epoch 7/10\n",
      "1244460/1244460 [==============================] - 51s 41us/step - loss: 0.1652 - acc: 0.9464 - val_loss: 0.3389 - val_acc: 0.8641\n",
      "Epoch 8/10\n",
      "1244460/1244460 [==============================] - 52s 42us/step - loss: 0.1657 - acc: 0.9462 - val_loss: 0.4439 - val_acc: 0.8300\n",
      "Epoch 9/10\n",
      "1244460/1244460 [==============================] - 53s 43us/step - loss: 0.1648 - acc: 0.9465 - val_loss: 0.3052 - val_acc: 0.8647\n",
      "Epoch 10/10\n",
      "1244460/1244460 [==============================] - 53s 42us/step - loss: 0.1670 - acc: 0.9458 - val_loss: 0.3018 - val_acc: 0.8711\n"
     ]
    },
    {
     "data": {
      "text/plain": [
       "<keras.callbacks.History at 0x7f855e52f128>"
      ]
     },
     "execution_count": 46,
     "metadata": {},
     "output_type": "execute_result"
    }
   ],
   "source": [
    "parallel_model.fit(images[:-validation_length], anwsers[:-validation_length], batch_size=20000, epochs=10,\n",
    "                   validation_data=(images[-validation_length:], anwsers[-validation_length:]))"
   ]
  },
  {
   "cell_type": "code",
   "execution_count": 47,
   "metadata": {},
   "outputs": [],
   "source": [
    "parallel_model.save_weights(\"CNN/CNN_v2/weights/cnn_v2_5e_5_80\")"
   ]
  },
  {
   "cell_type": "code",
   "execution_count": 44,
   "metadata": {},
   "outputs": [],
   "source": [
    "parallel_model.load_weights(\"CNN/CNN_v2/weights/cnn_v2_5e_5_80\")"
   ]
  },
  {
   "cell_type": "code",
   "execution_count": 12,
   "metadata": {},
   "outputs": [
    {
     "data": {
      "text/plain": [
       "<tf.Tensor 'Assign:0' shape=() dtype=float32_ref>"
      ]
     },
     "execution_count": 12,
     "metadata": {},
     "output_type": "execute_result"
    }
   ],
   "source": [
    "parallel_model.optimizer.lr.assign(1e-6)"
   ]
  },
  {
   "cell_type": "code",
   "execution_count": 49,
   "metadata": {},
   "outputs": [
    {
     "name": "stdout",
     "output_type": "stream",
     "text": [
      "Train on 1244460 samples, validate on 46216 samples\n",
      "Epoch 1/50\n",
      "1244460/1244460 [==============================] - 53s 43us/step - loss: 0.1630 - acc: 0.9468 - val_loss: 0.3283 - val_acc: 0.8636\n",
      "Epoch 2/50\n",
      "1244460/1244460 [==============================] - 53s 42us/step - loss: 0.1640 - acc: 0.9466 - val_loss: 0.3752 - val_acc: 0.8464\n",
      "Epoch 3/50\n",
      "1244460/1244460 [==============================] - 53s 43us/step - loss: 0.1639 - acc: 0.9466 - val_loss: 0.3075 - val_acc: 0.8695\n",
      "Epoch 4/50\n",
      "1244460/1244460 [==============================] - 53s 42us/step - loss: 0.1639 - acc: 0.9467 - val_loss: 0.3202 - val_acc: 0.8672\n",
      "Epoch 5/50\n",
      "1244460/1244460 [==============================] - 53s 42us/step - loss: 0.1621 - acc: 0.9470 - val_loss: 0.3155 - val_acc: 0.8621\n",
      "Epoch 6/50\n",
      "1244460/1244460 [==============================] - 52s 42us/step - loss: 0.1633 - acc: 0.9468 - val_loss: 0.2922 - val_acc: 0.8710\n",
      "Epoch 7/50\n",
      "1244460/1244460 [==============================] - 53s 42us/step - loss: 0.1622 - acc: 0.9470 - val_loss: 0.3408 - val_acc: 0.8600\n",
      "Epoch 8/50\n",
      "1244460/1244460 [==============================] - 53s 42us/step - loss: 0.1633 - acc: 0.9469 - val_loss: 0.3854 - val_acc: 0.8424\n",
      "Epoch 9/50\n",
      "1244460/1244460 [==============================] - 53s 43us/step - loss: 0.1619 - acc: 0.9470 - val_loss: 0.3126 - val_acc: 0.8685\n",
      "Epoch 10/50\n",
      "1244460/1244460 [==============================] - 53s 42us/step - loss: 0.1620 - acc: 0.9472 - val_loss: 0.3086 - val_acc: 0.8690\n",
      "Epoch 11/50\n",
      "1244460/1244460 [==============================] - 53s 43us/step - loss: 0.1632 - acc: 0.9471 - val_loss: 0.3198 - val_acc: 0.8529\n",
      "Epoch 12/50\n",
      "1244460/1244460 [==============================] - 53s 42us/step - loss: 0.1629 - acc: 0.9467 - val_loss: 0.3736 - val_acc: 0.8534\n",
      "Epoch 13/50\n",
      "1244460/1244460 [==============================] - 53s 42us/step - loss: 0.1607 - acc: 0.9477 - val_loss: 0.3040 - val_acc: 0.8719\n",
      "Epoch 14/50\n",
      "1244460/1244460 [==============================] - 52s 42us/step - loss: 0.1627 - acc: 0.9467 - val_loss: 0.3549 - val_acc: 0.8286\n",
      "Epoch 15/50\n",
      "1244460/1244460 [==============================] - 52s 42us/step - loss: 0.1628 - acc: 0.9469 - val_loss: 0.3061 - val_acc: 0.8596\n",
      "Epoch 16/50\n",
      "1244460/1244460 [==============================] - 53s 42us/step - loss: 0.1612 - acc: 0.9472 - val_loss: 0.3726 - val_acc: 0.8647\n",
      "Epoch 17/50\n",
      "1244460/1244460 [==============================] - 53s 42us/step - loss: 0.1617 - acc: 0.9472 - val_loss: 0.3901 - val_acc: 0.8319\n",
      "Epoch 18/50\n",
      "1244460/1244460 [==============================] - 53s 42us/step - loss: 0.1623 - acc: 0.9468 - val_loss: 0.3510 - val_acc: 0.8431\n",
      "Epoch 19/50\n",
      "1244460/1244460 [==============================] - 53s 42us/step - loss: 0.1617 - acc: 0.9471 - val_loss: 0.2982 - val_acc: 0.8743\n",
      "Epoch 20/50\n",
      "1244460/1244460 [==============================] - 53s 43us/step - loss: 0.1609 - acc: 0.9472 - val_loss: 0.4456 - val_acc: 0.8303\n",
      "Epoch 21/50\n",
      "1244460/1244460 [==============================] - 52s 42us/step - loss: 0.1610 - acc: 0.9476 - val_loss: 0.3030 - val_acc: 0.8724\n",
      "Epoch 22/50\n",
      "1244460/1244460 [==============================] - 53s 42us/step - loss: 0.1611 - acc: 0.9472 - val_loss: 0.2950 - val_acc: 0.8788\n",
      "Epoch 23/50\n",
      "1244460/1244460 [==============================] - 53s 42us/step - loss: 0.1612 - acc: 0.9471 - val_loss: 0.3097 - val_acc: 0.8678\n",
      "Epoch 24/50\n",
      "1244460/1244460 [==============================] - 53s 43us/step - loss: 0.1625 - acc: 0.9470 - val_loss: 0.2950 - val_acc: 0.8794\n",
      "Epoch 25/50\n",
      "1244460/1244460 [==============================] - 52s 42us/step - loss: 0.1625 - acc: 0.9466 - val_loss: 0.3158 - val_acc: 0.8509\n",
      "Epoch 26/50\n",
      "1244460/1244460 [==============================] - 52s 42us/step - loss: 0.1619 - acc: 0.9472 - val_loss: 0.3448 - val_acc: 0.8424\n",
      "Epoch 27/50\n",
      "1244460/1244460 [==============================] - 52s 42us/step - loss: 0.1647 - acc: 0.9460 - val_loss: 0.2992 - val_acc: 0.8766\n",
      "Epoch 28/50\n",
      "1244460/1244460 [==============================] - 52s 41us/step - loss: 0.1609 - acc: 0.9475 - val_loss: 0.3184 - val_acc: 0.8687\n",
      "Epoch 29/50\n",
      "1244460/1244460 [==============================] - 52s 41us/step - loss: 0.1604 - acc: 0.9477 - val_loss: 0.2934 - val_acc: 0.8761\n",
      "Epoch 30/50\n",
      "1244460/1244460 [==============================] - 52s 42us/step - loss: 0.1598 - acc: 0.9478 - val_loss: 0.3252 - val_acc: 0.8715\n",
      "Epoch 31/50\n",
      "1244460/1244460 [==============================] - 51s 41us/step - loss: 0.1631 - acc: 0.9470 - val_loss: 0.4033 - val_acc: 0.8450\n",
      "Epoch 32/50\n",
      "1244460/1244460 [==============================] - 52s 42us/step - loss: 0.1665 - acc: 0.9460 - val_loss: 0.3235 - val_acc: 0.8708\n",
      "Epoch 33/50\n",
      "1244460/1244460 [==============================] - 52s 42us/step - loss: 0.1642 - acc: 0.9463 - val_loss: 0.3200 - val_acc: 0.8501\n",
      "Epoch 34/50\n",
      "1244460/1244460 [==============================] - 52s 42us/step - loss: 0.1601 - acc: 0.9475 - val_loss: 0.3095 - val_acc: 0.8739\n",
      "Epoch 35/50\n",
      "1244460/1244460 [==============================] - 52s 42us/step - loss: 0.1594 - acc: 0.9480 - val_loss: 0.3084 - val_acc: 0.8713\n",
      "Epoch 36/50\n",
      "1244460/1244460 [==============================] - 52s 42us/step - loss: 0.1589 - acc: 0.9477 - val_loss: 0.3065 - val_acc: 0.8749\n",
      "Epoch 37/50\n",
      "1244460/1244460 [==============================] - 52s 42us/step - loss: 0.1603 - acc: 0.9476 - val_loss: 0.2967 - val_acc: 0.8753\n",
      "Epoch 38/50\n",
      "1244460/1244460 [==============================] - 53s 43us/step - loss: 0.1609 - acc: 0.9469 - val_loss: 0.3106 - val_acc: 0.8599\n",
      "Epoch 39/50\n",
      "1244460/1244460 [==============================] - 54s 43us/step - loss: 0.1595 - acc: 0.9476 - val_loss: 0.3034 - val_acc: 0.8808\n",
      "Epoch 40/50\n",
      "1244460/1244460 [==============================] - 53s 42us/step - loss: 0.1594 - acc: 0.9478 - val_loss: 0.3016 - val_acc: 0.8756\n",
      "Epoch 41/50\n",
      "1244460/1244460 [==============================] - 54s 43us/step - loss: 0.1588 - acc: 0.9480 - val_loss: 0.3003 - val_acc: 0.8804\n",
      "Epoch 42/50\n",
      "1244460/1244460 [==============================] - 53s 43us/step - loss: 0.1581 - acc: 0.9483 - val_loss: 0.3154 - val_acc: 0.8658\n",
      "Epoch 43/50\n",
      "1244460/1244460 [==============================] - 53s 43us/step - loss: 0.1571 - acc: 0.9484 - val_loss: 0.3428 - val_acc: 0.8452\n",
      "Epoch 44/50\n",
      "1244460/1244460 [==============================] - 53s 43us/step - loss: 0.1584 - acc: 0.9478 - val_loss: 0.3843 - val_acc: 0.8388\n",
      "Epoch 45/50\n",
      "1244460/1244460 [==============================] - 53s 43us/step - loss: 0.1594 - acc: 0.9478 - val_loss: 1.0951 - val_acc: 0.5097\n",
      "Epoch 46/50\n",
      "1244460/1244460 [==============================] - 53s 43us/step - loss: 0.1578 - acc: 0.9485 - val_loss: 0.3010 - val_acc: 0.8658\n",
      "Epoch 47/50\n",
      "1244460/1244460 [==============================] - 53s 42us/step - loss: 0.1580 - acc: 0.9480 - val_loss: 0.3728 - val_acc: 0.8460\n",
      "Epoch 48/50\n",
      "1244460/1244460 [==============================] - 53s 43us/step - loss: 0.1587 - acc: 0.9480 - val_loss: 0.2989 - val_acc: 0.8829\n",
      "Epoch 49/50\n",
      "1244460/1244460 [==============================] - 52s 42us/step - loss: 0.1610 - acc: 0.9471 - val_loss: 0.3135 - val_acc: 0.8628\n",
      "Epoch 50/50\n",
      "1244460/1244460 [==============================] - 52s 42us/step - loss: 0.1577 - acc: 0.9482 - val_loss: 0.3881 - val_acc: 0.8586\n"
     ]
    },
    {
     "data": {
      "text/plain": [
       "<keras.callbacks.History at 0x7f88d3503a20>"
      ]
     },
     "execution_count": 49,
     "metadata": {},
     "output_type": "execute_result"
    }
   ],
   "source": [
    "parallel_model.fit(images[:-validation_length], anwsers[:-validation_length], batch_size=20000, epochs=50,\n",
    "                   validation_data=(images[-validation_length:], anwsers[-validation_length:]))"
   ]
  },
  {
   "cell_type": "code",
   "execution_count": 50,
   "metadata": {},
   "outputs": [],
   "source": [
    "parallel_model.save_weights(\"CNN/CNN_v2/weights/cnn_v2_1e_6_50\")"
   ]
  },
  {
   "cell_type": "code",
   "execution_count": 12,
   "metadata": {},
   "outputs": [],
   "source": [
    "parallel_model.load_weights(\"CNN/CNN_v2/weights/cnn_v2_1e_6_50\")"
   ]
  },
  {
   "cell_type": "code",
   "execution_count": 13,
   "metadata": {},
   "outputs": [
    {
     "name": "stdout",
     "output_type": "stream",
     "text": [
      "Train on 1244460 samples, validate on 46216 samples\n",
      "Epoch 1/20\n",
      "1244460/1244460 [==============================] - 57s 46us/step - loss: 0.1864 - acc: 0.9382 - val_loss: 0.3026 - val_acc: 0.8683\n",
      "Epoch 2/20\n",
      "1244460/1244460 [==============================] - 42s 34us/step - loss: 0.1620 - acc: 0.9468 - val_loss: 0.4268 - val_acc: 0.8292\n",
      "Epoch 3/20\n",
      "1244460/1244460 [==============================] - 42s 34us/step - loss: 0.1620 - acc: 0.9468 - val_loss: 0.3478 - val_acc: 0.8398\n",
      "Epoch 4/20\n",
      "1244460/1244460 [==============================] - 42s 34us/step - loss: 0.1620 - acc: 0.9466 - val_loss: 0.3246 - val_acc: 0.8468\n",
      "Epoch 5/20\n",
      "1244460/1244460 [==============================] - 41s 33us/step - loss: 0.1622 - acc: 0.9468 - val_loss: 0.3645 - val_acc: 0.8433\n",
      "Epoch 6/20\n",
      "1244460/1244460 [==============================] - 42s 33us/step - loss: 0.1654 - acc: 0.9455 - val_loss: 0.3968 - val_acc: 0.8329\n",
      "Epoch 7/20\n",
      "1244460/1244460 [==============================] - 42s 34us/step - loss: 0.1704 - acc: 0.9442 - val_loss: 0.3294 - val_acc: 0.8537\n",
      "Epoch 8/20\n",
      "1244460/1244460 [==============================] - 42s 34us/step - loss: 0.1642 - acc: 0.9463 - val_loss: 0.3695 - val_acc: 0.8302\n",
      "Epoch 9/20\n",
      "1244460/1244460 [==============================] - 43s 34us/step - loss: 0.1632 - acc: 0.9464 - val_loss: 0.3650 - val_acc: 0.8432\n",
      "Epoch 10/20\n",
      "1244460/1244460 [==============================] - 43s 34us/step - loss: 0.1626 - acc: 0.9465 - val_loss: 0.3015 - val_acc: 0.8673\n",
      "Epoch 11/20\n",
      "1244460/1244460 [==============================] - 42s 34us/step - loss: 0.1684 - acc: 0.9449 - val_loss: 0.3165 - val_acc: 0.8706\n",
      "Epoch 12/20\n",
      "1244460/1244460 [==============================] - 43s 35us/step - loss: 0.1631 - acc: 0.9471 - val_loss: 0.2882 - val_acc: 0.8826\n",
      "Epoch 13/20\n",
      "1244460/1244460 [==============================] - 42s 34us/step - loss: 0.1574 - acc: 0.9486 - val_loss: 0.3164 - val_acc: 0.8588\n",
      "Epoch 14/20\n",
      "1244460/1244460 [==============================] - 43s 35us/step - loss: 0.1580 - acc: 0.9483 - val_loss: 0.3538 - val_acc: 0.8316\n",
      "Epoch 15/20\n",
      "1244460/1244460 [==============================] - 43s 34us/step - loss: 0.1603 - acc: 0.9475 - val_loss: 0.3564 - val_acc: 0.8319\n",
      "Epoch 16/20\n",
      "1244460/1244460 [==============================] - 43s 35us/step - loss: 0.1665 - acc: 0.9454 - val_loss: 0.3157 - val_acc: 0.8718\n",
      "Epoch 17/20\n",
      "1244460/1244460 [==============================] - 42s 34us/step - loss: 0.1571 - acc: 0.9488 - val_loss: 0.3132 - val_acc: 0.8726\n",
      "Epoch 18/20\n",
      "1244460/1244460 [==============================] - 43s 35us/step - loss: 0.1606 - acc: 0.9471 - val_loss: 0.3381 - val_acc: 0.8540\n",
      "Epoch 19/20\n",
      "1244460/1244460 [==============================] - 43s 35us/step - loss: 0.1570 - acc: 0.9487 - val_loss: 0.3210 - val_acc: 0.8740\n",
      "Epoch 20/20\n",
      "1244460/1244460 [==============================] - 43s 35us/step - loss: 0.1576 - acc: 0.9480 - val_loss: 0.3229 - val_acc: 0.8642\n"
     ]
    },
    {
     "data": {
      "text/plain": [
       "<keras.callbacks.History at 0x7fdddc39ec18>"
      ]
     },
     "execution_count": 13,
     "metadata": {},
     "output_type": "execute_result"
    }
   ],
   "source": [
    "parallel_model.fit(images[:-validation_length], anwsers[:-validation_length], batch_size=20000, epochs=20,\n",
    "                   validation_data=(images[-validation_length:], anwsers[-validation_length:]))"
   ]
  },
  {
   "cell_type": "code",
   "execution_count": 14,
   "metadata": {},
   "outputs": [],
   "source": [
    "parallel_model.save_weights(\"CNN/CNN_v2/weights/cnn_v2_1e_6_70\")"
   ]
  },
  {
   "cell_type": "code",
   "execution_count": 12,
   "metadata": {},
   "outputs": [],
   "source": [
    "parallel_model.load_weights(\"CNN/CNN_v2/weights/cnn_v2_1e_6_70\")"
   ]
  },
  {
   "cell_type": "code",
   "execution_count": 15,
   "metadata": {},
   "outputs": [
    {
     "name": "stdout",
     "output_type": "stream",
     "text": [
      "Train on 1244460 samples, validate on 46216 samples\n",
      "Epoch 1/30\n",
      "1244460/1244460 [==============================] - 43s 35us/step - loss: 0.1547 - acc: 0.9490 - val_loss: 0.3035 - val_acc: 0.8605\n",
      "Epoch 2/30\n",
      "1244460/1244460 [==============================] - 43s 35us/step - loss: 0.1546 - acc: 0.9490 - val_loss: 0.3184 - val_acc: 0.8571\n",
      "Epoch 3/30\n",
      "1244460/1244460 [==============================] - 44s 35us/step - loss: 0.1518 - acc: 0.9500 - val_loss: 0.4665 - val_acc: 0.8105\n",
      "Epoch 4/30\n",
      "1244460/1244460 [==============================] - 43s 35us/step - loss: 0.1540 - acc: 0.9491 - val_loss: 0.3226 - val_acc: 0.8555\n",
      "Epoch 5/30\n",
      "1244460/1244460 [==============================] - 43s 35us/step - loss: 0.1533 - acc: 0.9496 - val_loss: 0.3851 - val_acc: 0.8361\n",
      "Epoch 6/30\n",
      "1244460/1244460 [==============================] - 43s 35us/step - loss: 0.1522 - acc: 0.9500 - val_loss: 0.2960 - val_acc: 0.8751\n",
      "Epoch 7/30\n",
      "1244460/1244460 [==============================] - 42s 34us/step - loss: 0.1533 - acc: 0.9495 - val_loss: 0.3756 - val_acc: 0.8230\n",
      "Epoch 8/30\n",
      "1244460/1244460 [==============================] - 42s 34us/step - loss: 0.1540 - acc: 0.9496 - val_loss: 0.4648 - val_acc: 0.8132\n",
      "Epoch 9/30\n",
      "1244460/1244460 [==============================] - 43s 34us/step - loss: 0.1564 - acc: 0.9487 - val_loss: 0.3275 - val_acc: 0.8439\n",
      "Epoch 10/30\n",
      "1244460/1244460 [==============================] - 44s 35us/step - loss: 0.1574 - acc: 0.9482 - val_loss: 0.3132 - val_acc: 0.8602\n",
      "Epoch 11/30\n",
      "1244460/1244460 [==============================] - 43s 35us/step - loss: 0.1536 - acc: 0.9495 - val_loss: 0.4269 - val_acc: 0.8216\n",
      "Epoch 12/30\n",
      "1244460/1244460 [==============================] - 43s 35us/step - loss: 0.1516 - acc: 0.9504 - val_loss: 0.3019 - val_acc: 0.8592\n",
      "Epoch 13/30\n",
      "1244460/1244460 [==============================] - 43s 34us/step - loss: 0.1512 - acc: 0.9505 - val_loss: 0.3379 - val_acc: 0.8615\n",
      "Epoch 14/30\n",
      "1244460/1244460 [==============================] - 43s 34us/step - loss: 0.1507 - acc: 0.9505 - val_loss: 0.3264 - val_acc: 0.8611\n",
      "Epoch 15/30\n",
      "1244460/1244460 [==============================] - 44s 35us/step - loss: 0.1489 - acc: 0.9512 - val_loss: 0.3153 - val_acc: 0.8680\n",
      "Epoch 16/30\n",
      "1244460/1244460 [==============================] - 43s 35us/step - loss: 0.1474 - acc: 0.9517 - val_loss: 0.2923 - val_acc: 0.8702\n",
      "Epoch 17/30\n",
      "1244460/1244460 [==============================] - 43s 35us/step - loss: 0.1497 - acc: 0.9506 - val_loss: 0.3001 - val_acc: 0.8712\n",
      "Epoch 18/30\n",
      "1244460/1244460 [==============================] - 43s 34us/step - loss: 0.1471 - acc: 0.9515 - val_loss: 0.2999 - val_acc: 0.8693\n",
      "Epoch 19/30\n",
      "1244460/1244460 [==============================] - 42s 34us/step - loss: 0.1475 - acc: 0.9516 - val_loss: 0.3680 - val_acc: 0.8357\n",
      "Epoch 20/30\n",
      "1244460/1244460 [==============================] - 42s 34us/step - loss: 0.1485 - acc: 0.9512 - val_loss: 0.3283 - val_acc: 0.8444\n",
      "Epoch 21/30\n",
      "1244460/1244460 [==============================] - 42s 34us/step - loss: 0.1469 - acc: 0.9518 - val_loss: 0.3100 - val_acc: 0.8680\n",
      "Epoch 22/30\n",
      "1244460/1244460 [==============================] - 41s 33us/step - loss: 0.1480 - acc: 0.9513 - val_loss: 0.2977 - val_acc: 0.8792\n",
      "Epoch 23/30\n",
      "1244460/1244460 [==============================] - 42s 34us/step - loss: 0.1444 - acc: 0.9527 - val_loss: 0.3142 - val_acc: 0.8694\n",
      "Epoch 24/30\n",
      "1244460/1244460 [==============================] - 42s 34us/step - loss: 0.1437 - acc: 0.9530 - val_loss: 0.3422 - val_acc: 0.8369\n",
      "Epoch 25/30\n",
      "1244460/1244460 [==============================] - 43s 35us/step - loss: 0.1428 - acc: 0.9533 - val_loss: 0.3201 - val_acc: 0.8542\n",
      "Epoch 26/30\n",
      "1244460/1244460 [==============================] - 43s 34us/step - loss: 0.1484 - acc: 0.9513 - val_loss: 0.2969 - val_acc: 0.8618\n",
      "Epoch 27/30\n",
      "1244460/1244460 [==============================] - 42s 34us/step - loss: 0.1434 - acc: 0.9530 - val_loss: 0.3037 - val_acc: 0.8620\n",
      "Epoch 28/30\n",
      "1244460/1244460 [==============================] - 43s 34us/step - loss: 0.1418 - acc: 0.9538 - val_loss: 0.3275 - val_acc: 0.8638\n",
      "Epoch 29/30\n",
      "1244460/1244460 [==============================] - 43s 34us/step - loss: 0.1487 - acc: 0.9518 - val_loss: 0.3160 - val_acc: 0.8618\n",
      "Epoch 30/30\n",
      "1244460/1244460 [==============================] - 43s 34us/step - loss: 0.1410 - acc: 0.9539 - val_loss: 0.3117 - val_acc: 0.8595\n"
     ]
    },
    {
     "data": {
      "text/plain": [
       "<keras.callbacks.History at 0x7fdddc39ef98>"
      ]
     },
     "execution_count": 15,
     "metadata": {},
     "output_type": "execute_result"
    }
   ],
   "source": [
    "parallel_model.fit(images[:-validation_length], anwsers[:-validation_length], batch_size=20000, epochs=30,\n",
    "                   validation_data=(images[-validation_length:], anwsers[-validation_length:]))"
   ]
  },
  {
   "cell_type": "code",
   "execution_count": 16,
   "metadata": {},
   "outputs": [],
   "source": [
    "parallel_model.save_weights(\"CNN/CNN_v2/weights/cnn_v2_1e_6_100\")"
   ]
  },
  {
   "cell_type": "code",
   "execution_count": 12,
   "metadata": {},
   "outputs": [],
   "source": [
    "parallel_model.load_weights(\"CNN/CNN_v2/weights/cnn_v2_1e_6_100\")"
   ]
  },
  {
   "cell_type": "code",
   "execution_count": 17,
   "metadata": {},
   "outputs": [
    {
     "name": "stdout",
     "output_type": "stream",
     "text": [
      "Train on 1244460 samples, validate on 46216 samples\n",
      "Epoch 1/10\n",
      "1244460/1244460 [==============================] - 42s 34us/step - loss: 0.1455 - acc: 0.9527 - val_loss: 0.4546 - val_acc: 0.8187\n",
      "Epoch 2/10\n",
      "1244460/1244460 [==============================] - 42s 33us/step - loss: 0.1386 - acc: 0.9548 - val_loss: 0.3512 - val_acc: 0.8245\n",
      "Epoch 3/10\n",
      "1244460/1244460 [==============================] - 41s 33us/step - loss: 0.1410 - acc: 0.9539 - val_loss: 0.4291 - val_acc: 0.8200\n",
      "Epoch 4/10\n",
      "1244460/1244460 [==============================] - 41s 33us/step - loss: 0.1414 - acc: 0.9536 - val_loss: 0.3096 - val_acc: 0.8548\n",
      "Epoch 5/10\n",
      "1244460/1244460 [==============================] - 41s 33us/step - loss: 0.1398 - acc: 0.9542 - val_loss: 0.3238 - val_acc: 0.8424\n",
      "Epoch 6/10\n",
      "1244460/1244460 [==============================] - 42s 33us/step - loss: 0.1380 - acc: 0.9550 - val_loss: 0.3668 - val_acc: 0.8376\n",
      "Epoch 7/10\n",
      "1244460/1244460 [==============================] - 42s 34us/step - loss: 0.1375 - acc: 0.9551 - val_loss: 0.3921 - val_acc: 0.8278\n",
      "Epoch 8/10\n",
      "1244460/1244460 [==============================] - 41s 33us/step - loss: 0.1371 - acc: 0.9553 - val_loss: 0.3128 - val_acc: 0.8535\n",
      "Epoch 9/10\n",
      "1244460/1244460 [==============================] - 41s 33us/step - loss: 0.1350 - acc: 0.9558 - val_loss: 0.3063 - val_acc: 0.8649\n",
      "Epoch 10/10\n",
      "1244460/1244460 [==============================] - 41s 33us/step - loss: 0.1355 - acc: 0.9558 - val_loss: 0.3631 - val_acc: 0.8607\n"
     ]
    },
    {
     "data": {
      "text/plain": [
       "<keras.callbacks.History at 0x7fe05ea7cef0>"
      ]
     },
     "execution_count": 17,
     "metadata": {},
     "output_type": "execute_result"
    }
   ],
   "source": [
    "parallel_model.fit(images[:-validation_length], anwsers[:-validation_length], batch_size=20000, epochs=10,\n",
    "                   validation_data=(images[-validation_length:], anwsers[-validation_length:]))"
   ]
  },
  {
   "cell_type": "code",
   "execution_count": 19,
   "metadata": {},
   "outputs": [],
   "source": [
    "parallel_model.save_weights(\"CNN/CNN_v2/weights/cnn_v2_1e_6_110\")"
   ]
  },
  {
   "cell_type": "code",
   "execution_count": 13,
   "metadata": {},
   "outputs": [],
   "source": [
    "parallel_model.load_weights(\"CNN/CNN_v2/weights/cnn_v2_1e_6_110\")"
   ]
  },
  {
   "cell_type": "code",
   "execution_count": 14,
   "metadata": {},
   "outputs": [
    {
     "name": "stdout",
     "output_type": "stream",
     "text": [
      "Train on 1244460 samples, validate on 46216 samples\n",
      "Epoch 1/10\n",
      "1244460/1244460 [==============================] - 105s 84us/step - loss: 0.1669 - acc: 0.9450 - val_loss: 0.4662 - val_acc: 0.8140\n",
      "Epoch 2/10\n",
      "1244460/1244460 [==============================] - 94s 75us/step - loss: 0.1325 - acc: 0.9570 - val_loss: 0.5078 - val_acc: 0.7950\n",
      "Epoch 3/10\n",
      "1244460/1244460 [==============================] - 94s 75us/step - loss: 0.1308 - acc: 0.9572 - val_loss: 0.3683 - val_acc: 0.8248\n",
      "Epoch 4/10\n",
      "1244460/1244460 [==============================] - 90s 72us/step - loss: 0.1295 - acc: 0.9573 - val_loss: 0.4467 - val_acc: 0.7941\n",
      "Epoch 5/10\n",
      "1244460/1244460 [==============================] - 90s 72us/step - loss: 0.1297 - acc: 0.9575 - val_loss: 0.3570 - val_acc: 0.8199\n",
      "Epoch 6/10\n",
      "1244460/1244460 [==============================] - 91s 73us/step - loss: 0.1298 - acc: 0.9575 - val_loss: 0.2969 - val_acc: 0.8710\n",
      "Epoch 7/10\n",
      "1244460/1244460 [==============================] - 90s 72us/step - loss: 0.1315 - acc: 0.9568 - val_loss: 0.3160 - val_acc: 0.8524\n",
      "Epoch 8/10\n",
      "1244460/1244460 [==============================] - 91s 73us/step - loss: 0.1301 - acc: 0.9573 - val_loss: 0.3042 - val_acc: 0.8577\n",
      "Epoch 9/10\n",
      "1244460/1244460 [==============================] - 91s 73us/step - loss: 0.1292 - acc: 0.9576 - val_loss: 0.2939 - val_acc: 0.8484\n",
      "Epoch 10/10\n",
      "1244460/1244460 [==============================] - 90s 73us/step - loss: 0.1283 - acc: 0.9578 - val_loss: 0.3078 - val_acc: 0.8636\n"
     ]
    },
    {
     "data": {
      "text/plain": [
       "<keras.callbacks.History at 0x7f662c079d68>"
      ]
     },
     "execution_count": 14,
     "metadata": {},
     "output_type": "execute_result"
    }
   ],
   "source": [
    "parallel_model.fit(images[:-validation_length], anwsers[:-validation_length], batch_size=20000, epochs=10,\n",
    "                   validation_data=(images[-validation_length:], anwsers[-validation_length:]))"
   ]
  },
  {
   "cell_type": "code",
   "execution_count": 15,
   "metadata": {},
   "outputs": [],
   "source": [
    "parallel_model.save_weights(\"CNN/CNN_v2/weights/cnn_v2_1e_6_120\")"
   ]
  },
  {
   "cell_type": "code",
   "execution_count": 13,
   "metadata": {},
   "outputs": [],
   "source": [
    "parallel_model.load_weights(\"CNN/CNN_v2/weights/cnn_v2_1e_6_120\")"
   ]
  },
  {
   "cell_type": "code",
   "execution_count": 16,
   "metadata": {},
   "outputs": [
    {
     "name": "stdout",
     "output_type": "stream",
     "text": [
      "Train on 1244460 samples, validate on 46216 samples\n",
      "Epoch 1/10\n",
      "1244460/1244460 [==============================] - 90s 73us/step - loss: 0.1275 - acc: 0.9583 - val_loss: 0.3489 - val_acc: 0.8267\n",
      "Epoch 2/10\n",
      "1244460/1244460 [==============================] - 90s 73us/step - loss: 0.1285 - acc: 0.9580 - val_loss: 0.3279 - val_acc: 0.8397\n",
      "Epoch 3/10\n",
      "1244460/1244460 [==============================] - 94s 75us/step - loss: 0.1279 - acc: 0.9582 - val_loss: 0.3489 - val_acc: 0.8275\n",
      "Epoch 4/10\n",
      "1244460/1244460 [==============================] - 92s 74us/step - loss: 0.1274 - acc: 0.9583 - val_loss: 0.3117 - val_acc: 0.8551\n",
      "Epoch 5/10\n",
      "1244460/1244460 [==============================] - 91s 73us/step - loss: 0.1279 - acc: 0.9583 - val_loss: 0.3967 - val_acc: 0.7978\n",
      "Epoch 6/10\n",
      "1244460/1244460 [==============================] - 91s 73us/step - loss: 0.1254 - acc: 0.9590 - val_loss: 0.3332 - val_acc: 0.8639\n",
      "Epoch 7/10\n",
      "1244460/1244460 [==============================] - 92s 74us/step - loss: 0.1286 - acc: 0.9579 - val_loss: 0.2802 - val_acc: 0.8696\n",
      "Epoch 8/10\n",
      "1244460/1244460 [==============================] - 92s 74us/step - loss: 0.3251 - acc: 0.8932 - val_loss: 0.3956 - val_acc: 0.8332\n",
      "Epoch 9/10\n",
      "1244460/1244460 [==============================] - 91s 73us/step - loss: 0.1958 - acc: 0.9390 - val_loss: 0.3784 - val_acc: 0.8203\n",
      "Epoch 10/10\n",
      "1244460/1244460 [==============================] - 88s 71us/step - loss: 0.1703 - acc: 0.9461 - val_loss: 0.3574 - val_acc: 0.8467\n"
     ]
    },
    {
     "data": {
      "text/plain": [
       "<keras.callbacks.History at 0x7f65f07ba3c8>"
      ]
     },
     "execution_count": 16,
     "metadata": {},
     "output_type": "execute_result"
    }
   ],
   "source": [
    "parallel_model.fit(images[:-validation_length], anwsers[:-validation_length], batch_size=20000, epochs=10,\n",
    "                   validation_data=(images[-validation_length:], anwsers[-validation_length:]))"
   ]
  },
  {
   "cell_type": "code",
   "execution_count": 17,
   "metadata": {},
   "outputs": [
    {
     "name": "stdout",
     "output_type": "stream",
     "text": [
      "Train on 1244460 samples, validate on 46216 samples\n",
      "Epoch 1/5\n",
      "1244460/1244460 [==============================] - 88s 71us/step - loss: 0.1595 - acc: 0.9489 - val_loss: 0.3366 - val_acc: 0.8713\n",
      "Epoch 2/5\n",
      "1244460/1244460 [==============================] - 88s 71us/step - loss: 0.1540 - acc: 0.9506 - val_loss: 0.3683 - val_acc: 0.8633\n",
      "Epoch 3/5\n",
      "1244460/1244460 [==============================] - 88s 71us/step - loss: 0.1498 - acc: 0.9517 - val_loss: 0.3155 - val_acc: 0.8705\n",
      "Epoch 4/5\n",
      "1244460/1244460 [==============================] - 88s 71us/step - loss: 0.1460 - acc: 0.9531 - val_loss: 0.5471 - val_acc: 0.7603\n",
      "Epoch 5/5\n",
      "1244460/1244460 [==============================] - 92s 74us/step - loss: 0.1432 - acc: 0.9541 - val_loss: 0.3128 - val_acc: 0.8685\n"
     ]
    },
    {
     "data": {
      "text/plain": [
       "<keras.callbacks.History at 0x7f65f07ba748>"
      ]
     },
     "execution_count": 17,
     "metadata": {},
     "output_type": "execute_result"
    }
   ],
   "source": [
    "parallel_model.fit(images[:-validation_length], anwsers[:-validation_length], batch_size=20000, epochs=5,\n",
    "                   validation_data=(images[-validation_length:], anwsers[-validation_length:]))"
   ]
  },
  {
   "cell_type": "code",
   "execution_count": 18,
   "metadata": {},
   "outputs": [],
   "source": [
    "parallel_model.save_weights(\"CNN/CNN_v2/weights/cnn_v2_1e_6_135\")"
   ]
  },
  {
   "cell_type": "code",
   "execution_count": 13,
   "metadata": {},
   "outputs": [],
   "source": [
    "parallel_model.load_weights(\"CNN/CNN_v2/weights/cnn_v2_1e_6_135\")"
   ]
  },
  {
   "cell_type": "code",
   "execution_count": 19,
   "metadata": {},
   "outputs": [],
   "source": [
    "filepath = \"CNN/CNN_v2/weights/cnn_v2_1e_6_{epoch:02d}_{val_acc:.2f}\"\n",
    "checkpoint = keras.callbacks.ModelCheckpoint(filepath,\n",
    "                                             monitor='val_acc',\n",
    "                                             verbose=1,\n",
    "                                             save_best_only=True,\n",
    "                                             save_weights_only=True,\n",
    "                                             mode='max')\n",
    "callbacks = [checkpoint]"
   ]
  },
  {
   "cell_type": "code",
   "execution_count": 20,
   "metadata": {},
   "outputs": [
    {
     "name": "stdout",
     "output_type": "stream",
     "text": [
      "Train on 1244460 samples, validate on 46216 samples\n",
      "Epoch 1/30\n",
      "1244460/1244460 [==============================] - 92s 74us/step - loss: 0.1435 - acc: 0.9541 - val_loss: 0.3326 - val_acc: 0.8707\n",
      "\n",
      "Epoch 00001: val_acc improved from -inf to 0.87072, saving model to CNN/CNN_v2/weights/cnn_v2_1e_6_01_0.87\n",
      "Epoch 2/30\n",
      "1244460/1244460 [==============================] - 92s 74us/step - loss: 0.1392 - acc: 0.9554 - val_loss: 0.3444 - val_acc: 0.8340\n",
      "\n",
      "Epoch 00002: val_acc did not improve from 0.87072\n",
      "Epoch 3/30\n",
      "1244460/1244460 [==============================] - 91s 73us/step - loss: 0.1370 - acc: 0.9560 - val_loss: 0.3049 - val_acc: 0.8671\n",
      "\n",
      "Epoch 00003: val_acc did not improve from 0.87072\n",
      "Epoch 4/30\n",
      "1244460/1244460 [==============================] - 91s 73us/step - loss: 0.1344 - acc: 0.9568 - val_loss: 0.3478 - val_acc: 0.8438\n",
      "\n",
      "Epoch 00004: val_acc did not improve from 0.87072\n",
      "Epoch 5/30\n",
      "1244460/1244460 [==============================] - 91s 73us/step - loss: 0.1394 - acc: 0.9554 - val_loss: 0.3288 - val_acc: 0.8437\n",
      "\n",
      "Epoch 00005: val_acc did not improve from 0.87072\n",
      "Epoch 6/30\n",
      "1244460/1244460 [==============================] - 92s 74us/step - loss: 0.1321 - acc: 0.9578 - val_loss: 0.6150 - val_acc: 0.7664\n",
      "\n",
      "Epoch 00006: val_acc did not improve from 0.87072\n",
      "Epoch 7/30\n",
      "1244460/1244460 [==============================] - 91s 73us/step - loss: 0.1311 - acc: 0.9579 - val_loss: 0.3570 - val_acc: 0.8277\n",
      "\n",
      "Epoch 00007: val_acc did not improve from 0.87072\n",
      "Epoch 8/30\n",
      "1244460/1244460 [==============================] - 91s 73us/step - loss: 0.1308 - acc: 0.9583 - val_loss: 0.3798 - val_acc: 0.8211\n",
      "\n",
      "Epoch 00008: val_acc did not improve from 0.87072\n",
      "Epoch 9/30\n",
      "1244460/1244460 [==============================] - 91s 73us/step - loss: 0.1280 - acc: 0.9589 - val_loss: 0.3824 - val_acc: 0.8312\n",
      "\n",
      "Epoch 00009: val_acc did not improve from 0.87072\n",
      "Epoch 10/30\n",
      "1244460/1244460 [==============================] - 91s 73us/step - loss: 0.1294 - acc: 0.9584 - val_loss: 0.3090 - val_acc: 0.8662\n",
      "\n",
      "Epoch 00010: val_acc did not improve from 0.87072\n",
      "Epoch 11/30\n",
      "1244460/1244460 [==============================] - 92s 74us/step - loss: 0.1261 - acc: 0.9592 - val_loss: 0.3258 - val_acc: 0.8427\n",
      "\n",
      "Epoch 00011: val_acc did not improve from 0.87072\n",
      "Epoch 12/30\n",
      "1244460/1244460 [==============================] - 93s 75us/step - loss: 0.1247 - acc: 0.9598 - val_loss: 0.4201 - val_acc: 0.8012\n",
      "\n",
      "Epoch 00012: val_acc did not improve from 0.87072\n",
      "Epoch 13/30\n",
      "1244460/1244460 [==============================] - 91s 73us/step - loss: 0.1253 - acc: 0.9597 - val_loss: 0.3031 - val_acc: 0.8665\n",
      "\n",
      "Epoch 00013: val_acc did not improve from 0.87072\n",
      "Epoch 14/30\n",
      "1244460/1244460 [==============================] - 92s 74us/step - loss: 0.1243 - acc: 0.9602 - val_loss: 0.3178 - val_acc: 0.8647\n",
      "\n",
      "Epoch 00014: val_acc did not improve from 0.87072\n",
      "Epoch 15/30\n",
      "1244460/1244460 [==============================] - 91s 73us/step - loss: 0.1231 - acc: 0.9605 - val_loss: 0.3934 - val_acc: 0.8245\n",
      "\n",
      "Epoch 00015: val_acc did not improve from 0.87072\n",
      "Epoch 16/30\n",
      "1244460/1244460 [==============================] - 91s 73us/step - loss: 0.1247 - acc: 0.9600 - val_loss: 0.3212 - val_acc: 0.8412\n",
      "\n",
      "Epoch 00016: val_acc did not improve from 0.87072\n",
      "Epoch 17/30\n",
      "1244460/1244460 [==============================] - 91s 73us/step - loss: 0.1225 - acc: 0.9609 - val_loss: 0.3038 - val_acc: 0.8646\n",
      "\n",
      "Epoch 00017: val_acc did not improve from 0.87072\n",
      "Epoch 18/30\n",
      "1244460/1244460 [==============================] - 91s 73us/step - loss: 0.1223 - acc: 0.9611 - val_loss: 0.3173 - val_acc: 0.8430\n",
      "\n",
      "Epoch 00018: val_acc did not improve from 0.87072\n",
      "Epoch 19/30\n",
      "1244460/1244460 [==============================] - 91s 73us/step - loss: 0.1259 - acc: 0.9598 - val_loss: 0.3281 - val_acc: 0.8506\n",
      "\n",
      "Epoch 00019: val_acc did not improve from 0.87072\n",
      "Epoch 20/30\n",
      "1244460/1244460 [==============================] - 91s 73us/step - loss: 0.1232 - acc: 0.9604 - val_loss: 0.2955 - val_acc: 0.8761\n",
      "\n",
      "Epoch 00020: val_acc improved from 0.87072 to 0.87613, saving model to CNN/CNN_v2/weights/cnn_v2_1e_6_20_0.88\n",
      "Epoch 21/30\n",
      "1244460/1244460 [==============================] - 91s 73us/step - loss: 0.1244 - acc: 0.9601 - val_loss: 0.4398 - val_acc: 0.8340\n",
      "\n",
      "Epoch 00021: val_acc did not improve from 0.87613\n",
      "Epoch 22/30\n",
      "1244460/1244460 [==============================] - 91s 73us/step - loss: 0.1284 - acc: 0.9592 - val_loss: 0.5542 - val_acc: 0.7786\n",
      "\n",
      "Epoch 00022: val_acc did not improve from 0.87613\n",
      "Epoch 23/30\n",
      "1244460/1244460 [==============================] - 91s 73us/step - loss: 0.1217 - acc: 0.9611 - val_loss: 0.5068 - val_acc: 0.7826\n",
      "\n",
      "Epoch 00023: val_acc did not improve from 0.87613\n",
      "Epoch 24/30\n",
      "1244460/1244460 [==============================] - 90s 72us/step - loss: 0.3093 - acc: 0.8958 - val_loss: 0.5773 - val_acc: 0.7307\n",
      "\n",
      "Epoch 00024: val_acc did not improve from 0.87613\n",
      "Epoch 25/30\n",
      "1244460/1244460 [==============================] - 91s 73us/step - loss: 0.1702 - acc: 0.9456 - val_loss: 0.6318 - val_acc: 0.7526\n",
      "\n",
      "Epoch 00025: val_acc did not improve from 0.87613\n",
      "Epoch 26/30\n",
      "1244460/1244460 [==============================] - 90s 73us/step - loss: 0.1497 - acc: 0.9518 - val_loss: 0.5891 - val_acc: 0.7563\n",
      "\n",
      "Epoch 00026: val_acc did not improve from 0.87613\n",
      "Epoch 27/30\n",
      "1244460/1244460 [==============================] - 91s 73us/step - loss: 0.1468 - acc: 0.9525 - val_loss: 0.5706 - val_acc: 0.7566\n",
      "\n",
      "Epoch 00027: val_acc did not improve from 0.87613\n",
      "Epoch 28/30\n",
      "1244460/1244460 [==============================] - 91s 73us/step - loss: 0.1395 - acc: 0.9546 - val_loss: 0.5702 - val_acc: 0.7638\n",
      "\n",
      "Epoch 00028: val_acc did not improve from 0.87613\n",
      "Epoch 29/30\n",
      "1244460/1244460 [==============================] - 92s 74us/step - loss: 0.2267 - acc: 0.9213 - val_loss: 0.6181 - val_acc: 0.7522\n",
      "\n",
      "Epoch 00029: val_acc did not improve from 0.87613\n",
      "Epoch 30/30\n",
      "1244460/1244460 [==============================] - 91s 73us/step - loss: 0.1602 - acc: 0.9500 - val_loss: 0.3522 - val_acc: 0.8546\n",
      "\n",
      "Epoch 00030: val_acc did not improve from 0.87613\n"
     ]
    },
    {
     "data": {
      "text/plain": [
       "<keras.callbacks.History at 0x7f64f42845f8>"
      ]
     },
     "execution_count": 20,
     "metadata": {},
     "output_type": "execute_result"
    }
   ],
   "source": [
    "parallel_model.fit(images[:-validation_length], anwsers[:-validation_length], batch_size=20000, \n",
    "                   epochs=30, validation_data=(images[-validation_length:], anwsers[-validation_length:]),\n",
    "                   callbacks=callbacks)"
   ]
  },
  {
   "cell_type": "code",
   "execution_count": 21,
   "metadata": {},
   "outputs": [],
   "source": [
    "filepath = \"CNN/CNN_v2/weights/cnn_v2_1e_6_next_{epoch:02d}_{val_acc:.2f}\"\n",
    "checkpoint = keras.callbacks.ModelCheckpoint(filepath,\n",
    "                                             monitor='val_acc',\n",
    "                                             verbose=1,\n",
    "                                             save_best_only=True,\n",
    "                                             save_weights_only=True,\n",
    "                                             mode='max')\n",
    "callbacks = [checkpoint]"
   ]
  },
  {
   "cell_type": "code",
   "execution_count": 22,
   "metadata": {},
   "outputs": [
    {
     "name": "stdout",
     "output_type": "stream",
     "text": [
      "Train on 1244460 samples, validate on 46216 samples\n",
      "Epoch 1/30\n",
      "1244460/1244460 [==============================] - 92s 74us/step - loss: 0.3405 - acc: 0.8876 - val_loss: 0.5470 - val_acc: 0.7549\n",
      "\n",
      "Epoch 00001: val_acc improved from -inf to 0.75491, saving model to CNN/CNN_v2/weights/cnn_v2_1e_6_next_01_0.75\n",
      "Epoch 2/30\n",
      "1244460/1244460 [==============================] - 91s 73us/step - loss: 0.1850 - acc: 0.9449 - val_loss: 0.5748 - val_acc: 0.7544\n",
      "\n",
      "Epoch 00002: val_acc did not improve from 0.75491\n",
      "Epoch 3/30\n",
      "1244460/1244460 [==============================] - 92s 74us/step - loss: 0.1641 - acc: 0.9497 - val_loss: 0.5536 - val_acc: 0.7623\n",
      "\n",
      "Epoch 00003: val_acc improved from 0.75491 to 0.76227, saving model to CNN/CNN_v2/weights/cnn_v2_1e_6_next_03_0.76\n",
      "Epoch 4/30\n",
      "1244460/1244460 [==============================] - 92s 74us/step - loss: 0.1569 - acc: 0.9513 - val_loss: 0.5626 - val_acc: 0.7585\n",
      "\n",
      "Epoch 00004: val_acc did not improve from 0.76227\n",
      "Epoch 5/30\n",
      "1244460/1244460 [==============================] - 91s 73us/step - loss: 0.1587 - acc: 0.9505 - val_loss: 0.5272 - val_acc: 0.7696\n",
      "\n",
      "Epoch 00005: val_acc improved from 0.76227 to 0.76956, saving model to CNN/CNN_v2/weights/cnn_v2_1e_6_next_05_0.77\n",
      "Epoch 6/30\n",
      "1244460/1244460 [==============================] - 91s 73us/step - loss: 0.1481 - acc: 0.9536 - val_loss: 0.4748 - val_acc: 0.7768\n",
      "\n",
      "Epoch 00006: val_acc improved from 0.76956 to 0.77681, saving model to CNN/CNN_v2/weights/cnn_v2_1e_6_next_06_0.78\n",
      "Epoch 7/30\n",
      "1244460/1244460 [==============================] - 91s 73us/step - loss: 0.1516 - acc: 0.9518 - val_loss: 0.3931 - val_acc: 0.8239\n",
      "\n",
      "Epoch 00007: val_acc improved from 0.77681 to 0.82389, saving model to CNN/CNN_v2/weights/cnn_v2_1e_6_next_07_0.82\n",
      "Epoch 8/30\n",
      "1244460/1244460 [==============================] - 91s 73us/step - loss: 0.1441 - acc: 0.9546 - val_loss: 0.3888 - val_acc: 0.8089\n",
      "\n",
      "Epoch 00008: val_acc did not improve from 0.82389\n",
      "Epoch 9/30\n",
      "1244460/1244460 [==============================] - 92s 74us/step - loss: 0.1415 - acc: 0.9551 - val_loss: 0.3824 - val_acc: 0.8201\n",
      "\n",
      "Epoch 00009: val_acc did not improve from 0.82389\n",
      "Epoch 10/30\n",
      "1244460/1244460 [==============================] - 91s 73us/step - loss: 0.1534 - acc: 0.9514 - val_loss: 0.4013 - val_acc: 0.8052\n",
      "\n",
      "Epoch 00010: val_acc did not improve from 0.82389\n",
      "Epoch 11/30\n",
      "1244460/1244460 [==============================] - 88s 71us/step - loss: 0.1418 - acc: 0.9552 - val_loss: 0.4013 - val_acc: 0.8324\n",
      "\n",
      "Epoch 00011: val_acc improved from 0.82389 to 0.83244, saving model to CNN/CNN_v2/weights/cnn_v2_1e_6_next_11_0.83\n",
      "Epoch 12/30\n",
      "1244460/1244460 [==============================] - 88s 71us/step - loss: 0.1369 - acc: 0.9562 - val_loss: 0.3610 - val_acc: 0.8374\n",
      "\n",
      "Epoch 00012: val_acc improved from 0.83244 to 0.83737, saving model to CNN/CNN_v2/weights/cnn_v2_1e_6_next_12_0.84\n",
      "Epoch 13/30\n",
      "1244460/1244460 [==============================] - 88s 71us/step - loss: 0.1408 - acc: 0.9551 - val_loss: 0.3559 - val_acc: 0.8434\n",
      "\n",
      "Epoch 00013: val_acc improved from 0.83737 to 0.84339, saving model to CNN/CNN_v2/weights/cnn_v2_1e_6_next_13_0.84\n",
      "Epoch 14/30\n",
      "1244460/1244460 [==============================] - 88s 71us/step - loss: 0.1471 - acc: 0.9528 - val_loss: 0.5008 - val_acc: 0.7776\n",
      "\n",
      "Epoch 00014: val_acc did not improve from 0.84339\n",
      "Epoch 15/30\n",
      "1244460/1244460 [==============================] - 88s 71us/step - loss: 0.1354 - acc: 0.9567 - val_loss: 1.0917 - val_acc: 0.5388\n",
      "\n",
      "Epoch 00015: val_acc did not improve from 0.84339\n",
      "Epoch 16/30\n",
      "1244460/1244460 [==============================] - 88s 71us/step - loss: 0.1355 - acc: 0.9565 - val_loss: 0.3511 - val_acc: 0.8444\n",
      "\n",
      "Epoch 00016: val_acc improved from 0.84339 to 0.84445, saving model to CNN/CNN_v2/weights/cnn_v2_1e_6_next_16_0.84\n",
      "Epoch 17/30\n",
      "1244460/1244460 [==============================] - 89s 72us/step - loss: 0.1321 - acc: 0.9575 - val_loss: 0.3472 - val_acc: 0.8458\n",
      "\n",
      "Epoch 00017: val_acc improved from 0.84445 to 0.84579, saving model to CNN/CNN_v2/weights/cnn_v2_1e_6_next_17_0.85\n",
      "Epoch 18/30\n",
      "1244460/1244460 [==============================] - 91s 73us/step - loss: 0.2157 - acc: 0.9307 - val_loss: 0.4044 - val_acc: 0.8098\n",
      "\n",
      "Epoch 00018: val_acc did not improve from 0.84579\n",
      "Epoch 19/30\n",
      "1244460/1244460 [==============================] - 91s 73us/step - loss: 0.1471 - acc: 0.9541 - val_loss: 0.4798 - val_acc: 0.7724\n",
      "\n",
      "Epoch 00019: val_acc did not improve from 0.84579\n",
      "Epoch 20/30\n",
      "1244460/1244460 [==============================] - 91s 73us/step - loss: 0.1380 - acc: 0.9562 - val_loss: 0.4583 - val_acc: 0.7994\n",
      "\n",
      "Epoch 00020: val_acc did not improve from 0.84579\n",
      "Epoch 21/30\n",
      "1244460/1244460 [==============================] - 91s 73us/step - loss: 0.1328 - acc: 0.9577 - val_loss: 0.4364 - val_acc: 0.8110\n",
      "\n",
      "Epoch 00021: val_acc did not improve from 0.84579\n",
      "Epoch 22/30\n",
      "1244460/1244460 [==============================] - 91s 73us/step - loss: 0.1313 - acc: 0.9579 - val_loss: 0.3288 - val_acc: 0.8637\n",
      "\n",
      "Epoch 00022: val_acc improved from 0.84579 to 0.86373, saving model to CNN/CNN_v2/weights/cnn_v2_1e_6_next_22_0.86\n",
      "Epoch 23/30\n",
      "1244460/1244460 [==============================] - 92s 74us/step - loss: 0.1293 - acc: 0.9583 - val_loss: 0.3665 - val_acc: 0.8380\n",
      "\n",
      "Epoch 00023: val_acc did not improve from 0.86373\n",
      "Epoch 24/30\n",
      "1244460/1244460 [==============================] - 91s 73us/step - loss: 0.1290 - acc: 0.9586 - val_loss: 0.3201 - val_acc: 0.8614\n",
      "\n",
      "Epoch 00024: val_acc did not improve from 0.86373\n",
      "Epoch 25/30\n",
      "1244460/1244460 [==============================] - 91s 73us/step - loss: 0.1264 - acc: 0.9595 - val_loss: 0.9515 - val_acc: 0.6209\n",
      "\n",
      "Epoch 00025: val_acc did not improve from 0.86373\n",
      "Epoch 26/30\n",
      "1244460/1244460 [==============================] - 91s 73us/step - loss: 0.1271 - acc: 0.9592 - val_loss: 0.3287 - val_acc: 0.8494\n",
      "\n",
      "Epoch 00026: val_acc did not improve from 0.86373\n",
      "Epoch 27/30\n",
      "1244460/1244460 [==============================] - 91s 73us/step - loss: 0.1239 - acc: 0.9598 - val_loss: 0.3344 - val_acc: 0.8501\n",
      "\n",
      "Epoch 00027: val_acc did not improve from 0.86373\n",
      "Epoch 28/30\n",
      "1244460/1244460 [==============================] - 91s 73us/step - loss: 0.1250 - acc: 0.9593 - val_loss: 0.3170 - val_acc: 0.8643\n",
      "\n",
      "Epoch 00028: val_acc improved from 0.86373 to 0.86427, saving model to CNN/CNN_v2/weights/cnn_v2_1e_6_next_28_0.86\n",
      "Epoch 29/30\n",
      "1244460/1244460 [==============================] - 91s 73us/step - loss: 0.1238 - acc: 0.9598 - val_loss: 0.3941 - val_acc: 0.8156\n",
      "\n",
      "Epoch 00029: val_acc did not improve from 0.86427\n",
      "Epoch 30/30\n",
      "1244460/1244460 [==============================] - 91s 73us/step - loss: 0.1234 - acc: 0.9600 - val_loss: 0.3104 - val_acc: 0.8651\n",
      "\n",
      "Epoch 00030: val_acc improved from 0.86427 to 0.86511, saving model to CNN/CNN_v2/weights/cnn_v2_1e_6_next_30_0.87\n"
     ]
    },
    {
     "data": {
      "text/plain": [
       "<keras.callbacks.History at 0x7f675fd52d68>"
      ]
     },
     "execution_count": 22,
     "metadata": {},
     "output_type": "execute_result"
    }
   ],
   "source": [
    "parallel_model.fit(images[:-validation_length], anwsers[:-validation_length], batch_size=20000, \n",
    "                   epochs=30, validation_data=(images[-validation_length:], anwsers[-validation_length:]),\n",
    "                   callbacks=callbacks)"
   ]
  },
  {
   "cell_type": "code",
   "execution_count": 23,
   "metadata": {},
   "outputs": [],
   "source": [
    "filepath = \"CNN/CNN_v2/weights/cnn_v2_1e_6_next_1_{epoch:02d}_{val_acc:.2f}\"\n",
    "checkpoint = keras.callbacks.ModelCheckpoint(filepath,\n",
    "                                             monitor='val_acc',\n",
    "                                             verbose=1,\n",
    "                                             save_best_only=True,\n",
    "                                             save_weights_only=True,\n",
    "                                             mode='max')\n",
    "callbacks = [checkpoint]"
   ]
  },
  {
   "cell_type": "code",
   "execution_count": 24,
   "metadata": {},
   "outputs": [
    {
     "name": "stdout",
     "output_type": "stream",
     "text": [
      "Train on 1244460 samples, validate on 46216 samples\n",
      "Epoch 1/10\n",
      "1244460/1244460 [==============================] - 92s 74us/step - loss: 0.1227 - acc: 0.9600 - val_loss: 0.4505 - val_acc: 0.7800\n",
      "\n",
      "Epoch 00001: val_acc improved from -inf to 0.78001, saving model to CNN/CNN_v2/weights/cnn_v2_1e_6_next_1_01_0.78\n",
      "Epoch 2/10\n",
      "1244460/1244460 [==============================] - 91s 73us/step - loss: 0.1216 - acc: 0.9604 - val_loss: 0.3934 - val_acc: 0.8385\n",
      "\n",
      "Epoch 00002: val_acc improved from 0.78001 to 0.83845, saving model to CNN/CNN_v2/weights/cnn_v2_1e_6_next_1_02_0.84\n",
      "Epoch 3/10\n",
      "1244460/1244460 [==============================] - 91s 73us/step - loss: 0.1219 - acc: 0.9601 - val_loss: 0.5464 - val_acc: 0.7453\n",
      "\n",
      "Epoch 00003: val_acc did not improve from 0.83845\n",
      "Epoch 4/10\n",
      "1244460/1244460 [==============================] - 91s 73us/step - loss: 0.1228 - acc: 0.9599 - val_loss: 0.3442 - val_acc: 0.8384\n",
      "\n",
      "Epoch 00004: val_acc did not improve from 0.83845\n",
      "Epoch 5/10\n",
      "1244460/1244460 [==============================] - 91s 73us/step - loss: 0.1206 - acc: 0.9604 - val_loss: 0.3998 - val_acc: 0.8156\n",
      "\n",
      "Epoch 00005: val_acc did not improve from 0.83845\n",
      "Epoch 6/10\n",
      "1244460/1244460 [==============================] - 91s 73us/step - loss: 0.1218 - acc: 0.9603 - val_loss: 0.3184 - val_acc: 0.8585\n",
      "\n",
      "Epoch 00006: val_acc improved from 0.83845 to 0.85853, saving model to CNN/CNN_v2/weights/cnn_v2_1e_6_next_1_06_0.86\n",
      "Epoch 7/10\n",
      "1244460/1244460 [==============================] - 91s 73us/step - loss: 0.1201 - acc: 0.9608 - val_loss: 0.5746 - val_acc: 0.7842\n",
      "\n",
      "Epoch 00007: val_acc did not improve from 0.85853\n",
      "Epoch 8/10\n",
      "1244460/1244460 [==============================] - 91s 73us/step - loss: 0.1195 - acc: 0.9608 - val_loss: 0.5241 - val_acc: 0.7774\n",
      "\n",
      "Epoch 00008: val_acc did not improve from 0.85853\n",
      "Epoch 9/10\n",
      "1244460/1244460 [==============================] - 91s 74us/step - loss: 0.1244 - acc: 0.9594 - val_loss: 1.0236 - val_acc: 0.4638\n",
      "\n",
      "Epoch 00009: val_acc did not improve from 0.85853\n",
      "Epoch 10/10\n",
      "1244460/1244460 [==============================] - 92s 74us/step - loss: 0.1240 - acc: 0.9595 - val_loss: 0.4163 - val_acc: 0.8127\n",
      "\n",
      "Epoch 00010: val_acc did not improve from 0.85853\n"
     ]
    },
    {
     "data": {
      "text/plain": [
       "<keras.callbacks.History at 0x7f662c039f28>"
      ]
     },
     "execution_count": 24,
     "metadata": {},
     "output_type": "execute_result"
    }
   ],
   "source": [
    "parallel_model.fit(images[:-validation_length], anwsers[:-validation_length], batch_size=20000, \n",
    "                   epochs=10, validation_data=(images[-validation_length:], anwsers[-validation_length:]),\n",
    "                   callbacks=callbacks)"
   ]
  },
  {
   "cell_type": "markdown",
   "metadata": {},
   "source": [
    "### ---"
   ]
  },
  {
   "cell_type": "code",
   "execution_count": 33,
   "metadata": {},
   "outputs": [
    {
     "data": {
      "text/plain": [
       "<tf.Tensor 'Assign_51:0' shape=() dtype=float32_ref>"
      ]
     },
     "execution_count": 33,
     "metadata": {},
     "output_type": "execute_result"
    }
   ],
   "source": [
    "parallel_model.optimizer.lr.assign(1e-3)"
   ]
  },
  {
   "cell_type": "code",
   "execution_count": 39,
   "metadata": {},
   "outputs": [
    {
     "name": "stdout",
     "output_type": "stream",
     "text": [
      "Train on 1244460 samples, validate on 46216 samples\n",
      "Epoch 1/3\n",
      "1244460/1244460 [==============================] - 52s 42us/step - loss: 0.1762 - acc: 0.9425 - val_loss: 0.3263 - val_acc: 0.8635\n",
      "Epoch 2/3\n",
      "1244460/1244460 [==============================] - 53s 42us/step - loss: 1.6983 - acc: 0.7526 - val_loss: 2.8119 - val_acc: 0.2500\n",
      "Epoch 3/3\n",
      "1244460/1244460 [==============================] - 53s 42us/step - loss: 2.3988 - acc: 0.5235 - val_loss: 1.4020 - val_acc: 0.2500\n"
     ]
    },
    {
     "data": {
      "text/plain": [
       "<keras.callbacks.History at 0x7f855da28940>"
      ]
     },
     "execution_count": 39,
     "metadata": {},
     "output_type": "execute_result"
    }
   ],
   "source": [
    "parallel_model.fit(images[:-validation_length], anwsers[:-validation_length], batch_size=20000, epochs=3,\n",
    "                   validation_data=(images[-validation_length:], anwsers[-validation_length:]))"
   ]
  },
  {
   "cell_type": "code",
   "execution_count": 40,
   "metadata": {},
   "outputs": [
    {
     "name": "stdout",
     "output_type": "stream",
     "text": [
      "Train on 1244460 samples, validate on 46216 samples\n",
      "Epoch 1/3\n",
      "1244460/1244460 [==============================] - 53s 43us/step - loss: 1.0731 - acc: 0.5252 - val_loss: 0.9077 - val_acc: 0.2500\n",
      "Epoch 2/3\n",
      "1244460/1244460 [==============================] - 52s 42us/step - loss: 0.8589 - acc: 0.5252 - val_loss: 0.8097 - val_acc: 0.2500\n",
      "Epoch 3/3\n",
      "1244460/1244460 [==============================] - 53s 42us/step - loss: 0.7889 - acc: 0.5252 - val_loss: 0.7677 - val_acc: 0.2500\n"
     ]
    },
    {
     "data": {
      "text/plain": [
       "<keras.callbacks.History at 0x7f88bbb478d0>"
      ]
     },
     "execution_count": 40,
     "metadata": {},
     "output_type": "execute_result"
    }
   ],
   "source": [
    "parallel_model.fit(images[:-validation_length], anwsers[:-validation_length], batch_size=20000, epochs=3,\n",
    "                   validation_data=(images[-validation_length:], anwsers[-validation_length:]))"
   ]
  },
  {
   "cell_type": "code",
   "execution_count": 42,
   "metadata": {},
   "outputs": [
    {
     "name": "stdout",
     "output_type": "stream",
     "text": [
      "Train on 1244460 samples, validate on 46216 samples\n",
      "Epoch 1/4\n",
      "1244460/1244460 [==============================] - 53s 43us/step - loss: 0.7553 - acc: 0.5254 - val_loss: 0.7481 - val_acc: 0.2500\n",
      "Epoch 2/4\n",
      "1244460/1244460 [==============================] - 53s 43us/step - loss: 0.7373 - acc: 0.5254 - val_loss: 0.7420 - val_acc: 0.2500\n",
      "Epoch 3/4\n",
      "1244460/1244460 [==============================] - 53s 42us/step - loss: 0.7263 - acc: 0.5254 - val_loss: 0.7347 - val_acc: 0.2500\n",
      "Epoch 4/4\n",
      "1244460/1244460 [==============================] - 51s 41us/step - loss: 0.7191 - acc: 0.5254 - val_loss: 0.7314 - val_acc: 0.2500\n"
     ]
    },
    {
     "data": {
      "text/plain": [
       "<keras.callbacks.History at 0x7f88bbec1588>"
      ]
     },
     "execution_count": 42,
     "metadata": {},
     "output_type": "execute_result"
    }
   ],
   "source": [
    "parallel_model.fit(images[:-validation_length], anwsers[:-validation_length], batch_size=20000, epochs=4,\n",
    "                   validation_data=(images[-validation_length:], anwsers[-validation_length:]))"
   ]
  },
  {
   "cell_type": "code",
   "execution_count": 43,
   "metadata": {},
   "outputs": [
    {
     "name": "stdout",
     "output_type": "stream",
     "text": [
      "Train on 1244460 samples, validate on 46216 samples\n",
      "Epoch 1/10\n",
      "1244460/1244460 [==============================] - 49s 39us/step - loss: 0.7141 - acc: 0.5254 - val_loss: 0.7289 - val_acc: 0.2500\n",
      "Epoch 2/10\n",
      "1244460/1244460 [==============================] - 48s 39us/step - loss: 0.7105 - acc: 0.5254 - val_loss: 0.7299 - val_acc: 0.2500\n",
      "Epoch 3/10\n",
      "1244460/1244460 [==============================] - 49s 39us/step - loss: 0.7078 - acc: 0.5254 - val_loss: 0.7247 - val_acc: 0.2500\n",
      "Epoch 4/10\n",
      "1244460/1244460 [==============================] - 49s 39us/step - loss: 0.7057 - acc: 0.5254 - val_loss: 0.7214 - val_acc: 0.2500\n",
      "Epoch 5/10\n",
      "1244460/1244460 [==============================] - 49s 39us/step - loss: 0.7041 - acc: 0.5254 - val_loss: 0.7230 - val_acc: 0.2500\n",
      "Epoch 6/10\n",
      "1244460/1244460 [==============================] - 49s 39us/step - loss: 0.7029 - acc: 0.5254 - val_loss: 0.7209 - val_acc: 0.2500\n",
      "Epoch 7/10\n",
      "1244460/1244460 [==============================] - 49s 39us/step - loss: 0.7019 - acc: 0.5254 - val_loss: 0.7242 - val_acc: 0.2500\n",
      "Epoch 8/10\n",
      "1244460/1244460 [==============================] - 49s 39us/step - loss: 0.7011 - acc: 0.5254 - val_loss: 0.7216 - val_acc: 0.2500\n",
      "Epoch 9/10\n",
      "1244460/1244460 [==============================] - 49s 39us/step - loss: 0.7004 - acc: 0.5254 - val_loss: 0.7174 - val_acc: 0.2500\n",
      "Epoch 10/10\n",
      "1244460/1244460 [==============================] - 50s 41us/step - loss: 0.6999 - acc: 0.5254 - val_loss: 0.7187 - val_acc: 0.2500\n"
     ]
    },
    {
     "data": {
      "text/plain": [
       "<keras.callbacks.History at 0x7f855e513a58>"
      ]
     },
     "execution_count": 43,
     "metadata": {},
     "output_type": "execute_result"
    }
   ],
   "source": [
    "parallel_model.fit(images[:-validation_length], anwsers[:-validation_length], batch_size=20000, epochs=10,\n",
    "                   validation_data=(images[-validation_length:], anwsers[-validation_length:]))"
   ]
  }
 ],
 "metadata": {
  "kernelspec": {
   "display_name": "Python 3",
   "language": "python",
   "name": "python3"
  },
  "language_info": {
   "codemirror_mode": {
    "name": "ipython",
    "version": 3
   },
   "file_extension": ".py",
   "mimetype": "text/x-python",
   "name": "python",
   "nbconvert_exporter": "python",
   "pygments_lexer": "ipython3",
   "version": "3.6.6"
  }
 },
 "nbformat": 4,
 "nbformat_minor": 2
}
