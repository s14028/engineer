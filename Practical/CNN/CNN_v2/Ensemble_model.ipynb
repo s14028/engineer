{
 "cells": [
  {
   "cell_type": "code",
   "execution_count": 1,
   "metadata": {},
   "outputs": [
    {
     "name": "stdout",
     "output_type": "stream",
     "text": [
      "/home/PJWSTK/s14028/Engine\n"
     ]
    }
   ],
   "source": [
    "%cd ../../"
   ]
  },
  {
   "cell_type": "code",
   "execution_count": 2,
   "metadata": {},
   "outputs": [
    {
     "name": "stderr",
     "output_type": "stream",
     "text": [
      "Using TensorFlow backend.\n"
     ]
    }
   ],
   "source": [
    "import keras\n",
    "import scipy.io as mat\n",
    "\n",
    "from common import *\n",
    "from augmentation import add_pmap\n",
    "from augmentation import augmentation_data\n",
    "from augmentation import augment_data\n",
    "from testing import test_model\n",
    "from testing import best_cop_diff\n",
    "from testing import mse\n",
    "from testing import mae\n",
    "\n",
    "from CNN.CNN_v2 import CNN_v2\n",
    "from CNN.EnsembleCNN import EnsembleCNN"
   ]
  },
  {
   "cell_type": "code",
   "execution_count": 3,
   "metadata": {},
   "outputs": [],
   "source": [
    "perspective = mat.loadmat(\"mall_dataset/perspective_roi.mat\")[\"pMapN\"]\n",
    "\n",
    "perspective /= np.min(perspective)\n",
    "perspective = np.round(perspective).astype(np.uint8)\n",
    "\n",
    "train, test = data_sets()\n",
    "image_tensors = train[0], test[0]\n",
    "person_coo_tensors = train[1], test[1]\n",
    "count_matrix = train[2], test[2]\n",
    "\n",
    "image_train, image_test = image_tensors\n",
    "person_coo_train, person_coo_test = person_coo_tensors\n",
    "count_train, count_test = count_matrix\n",
    "count_train = count_train.astype(np.uint16)\n",
    "count_test = count_test.astype(np.uint16)\n",
    "\n",
    "image_train = add_pmap(image_train, perspective)\n",
    "image_test = add_pmap(image_test, perspective)"
   ]
  },
  {
   "cell_type": "code",
   "execution_count": 4,
   "metadata": {},
   "outputs": [],
   "source": [
    "cop = np.linspace(0, 1, 11)[1:-1]"
   ]
  },
  {
   "cell_type": "code",
   "execution_count": 5,
   "metadata": {},
   "outputs": [],
   "source": [
    "cnn_v2 = CNN_v2((480, 640, 4), split_into_parts=20)\n",
    "\n",
    "images = cnn_v2._prepare_images(image_train)\n",
    "anwsers = cnn_v2._prepare_anwsers(person_coo_train)"
   ]
  },
  {
   "cell_type": "code",
   "execution_count": null,
   "metadata": {},
   "outputs": [],
   "source": [
    "ones_count = (np.sum(anwsers == 1) * 0.25).astype(np.uint32)\n",
    "zeros_count = (ones_count / 0.25 * 0.75).astype(np.uint32)\n",
    "validation_length = (zeros_count + ones_count).astype(np.int32)\n",
    "\n",
    "val_indices = np.concatenate([np.where(anwsers == 0)[0][:zeros_count],\n",
    "                              np.where(anwsers == 1)[0][:ones_count]])"
   ]
  },
  {
   "cell_type": "code",
   "execution_count": null,
   "metadata": {},
   "outputs": [],
   "source": [
    "anwsers[val_indices[zeros_count:]] = 0"
   ]
  },
  {
   "cell_type": "code",
   "execution_count": null,
   "metadata": {},
   "outputs": [],
   "source": [
    "val_indices = -(images.shape[0] - val_indices)"
   ]
  },
  {
   "cell_type": "code",
   "execution_count": null,
   "metadata": {},
   "outputs": [],
   "source": [
    "generator = keras.preprocessing.image.ImageDataGenerator(rotation_range=20)\n",
    "\n",
    "augmentation = augmentation_data(image_train, anwsers, 20)\n",
    "augmented_data = augment_data(generator, augmentation, images, anwsers)\n",
    "images, anwsers = augmented_data"
   ]
  },
  {
   "cell_type": "code",
   "execution_count": null,
   "metadata": {},
   "outputs": [],
   "source": [
    "anwsers[val_indices[zeros_count:]] = 1\n",
    "\n",
    "images[-validation_length:], images[val_indices] = images[val_indices], images[-validation_length:]\n",
    "anwsers[-validation_length:], anwsers[val_indices] = anwsers[val_indices], anwsers[-validation_length:]"
   ]
  },
  {
   "cell_type": "code",
   "execution_count": null,
   "metadata": {},
   "outputs": [],
   "source": [
    "def ensemble_teach(count, x, y, val):\n",
    "  models = []\n",
    "  \n",
    "  for i in range(count):\n",
    "    print(f\"Begin to train {i}-th model.\")\n",
    "    \n",
    "    model = CNN_v2((480, 640, 4), split_into_parts=20)\n",
    "    model.def_model()\n",
    "    \n",
    "    model.model = keras.utils.multi_gpu_model(model.model, gpus=5, cpu_merge=False)\n",
    "    model.model.compile(loss=\"binary_crossentropy\", optimizer=\"adam\", metrics=[\"accuracy\"])\n",
    "    \n",
    "    model.model.optimizer.lr.assign(1e-3)\n",
    "    model.model.fit(x, y, batch_size=20000, epochs=30, validation_data=val)\n",
    "    model.model.optimizer.lr.assign(1e-4)\n",
    "    model.model.fit(x, y, batch_size=20000, epochs=20, validation_data=val)\n",
    "    model.model.optimizer.lr.assign(5e-5)\n",
    "    model.model.fit(x, y, batch_size=20000, epochs=80, validation_data=val)\n",
    "    \n",
    "    model.model.save_weights(f\"CNN/CNN_v2/weights/ensemble_model_{i}\")\n",
    "    print(f\"Model {i}-th finished training\", end=\"\\n\\n\")\n",
    "    \n",
    "    models.append(model)\n",
    "    \n",
    "  return models"
   ]
  },
  {
   "cell_type": "code",
   "execution_count": 6,
   "metadata": {},
   "outputs": [],
   "source": [
    "def load_ensemble(count):\n",
    "  models = []\n",
    "  \n",
    "  for i in range(count):\n",
    "    model = CNN_v2((480, 640, 4), split_into_parts=20)\n",
    "    model.def_model()\n",
    "    \n",
    "    model.model = keras.utils.multi_gpu_model(model.model, gpus=2, cpu_merge=False)\n",
    "    model.model.compile(loss=\"binary_crossentropy\", optimizer=\"adam\", metrics=[\"accuracy\"])\n",
    "    \n",
    "    model.model.load_weights(f\"CNN/CNN_v2/weights/ensemble_model_{i}\")\n",
    "    \n",
    "    models.append(model)\n",
    "\n",
    "  return models"
   ]
  },
  {
   "cell_type": "code",
   "execution_count": null,
   "metadata": {},
   "outputs": [],
   "source": [
    "models = ensemble_teach(10,\n",
    "               images[:-validation_length],\n",
    "               anwsers[:-validation_length],\n",
    "               (images[-validation_length:], anwsers[-validation_length:]))"
   ]
  },
  {
   "cell_type": "code",
   "execution_count": 7,
   "metadata": {},
   "outputs": [],
   "source": [
    "models = load_ensemble(10)"
   ]
  },
  {
   "cell_type": "code",
   "execution_count": 8,
   "metadata": {},
   "outputs": [],
   "source": [
    "model = EnsembleCNN(models, (480, 640, 4), split_into_parts=20)"
   ]
  },
  {
   "cell_type": "code",
   "execution_count": 9,
   "metadata": {},
   "outputs": [],
   "source": [
    "result = test_model(model=model, images=image_test, counts=count_test, cut_of_points=cop)"
   ]
  },
  {
   "cell_type": "code",
   "execution_count": 10,
   "metadata": {},
   "outputs": [
    {
     "name": "stdout",
     "output_type": "stream",
     "text": [
      "Model EnsembleCNN behaved:\n",
      "For cut-of-point 0.5 had accuracy 79.3817367075983:\n",
      "[20  8  5  2  9  8  8  3  6  2 -1  4 -1  8  0  5 11  4  9  7  4  8  2  1\n",
      " -3  0  3  1  6  5  3  1  3  6 11  2 14  3  6  7 15  9 12 12 11 12 11  7\n",
      " 12 11 10  2  4  3  7  6 11 15 12  6 18  4  6  6  2  7  2  5 -9  1  2  5\n",
      "  7  3 -1  7  2  1  1  3 -4  6  3  5 -3  8  5  2  8  8  9  6 12 -2  7 -4\n",
      "  2  5 -1  4 24 11 10  9 10  2  9 14 10 15  2  1  9 10  9 14  7  4  1  3\n",
      "  0  7 10  8  9  6 12  7  1  8 11 13 10 10 10  8  8  4 13 14  8  8 12 16\n",
      " 16 11  9  4  7  3  0  1 10  2  0  4  9 12  8  2  3  0 -2  1  6  3  8  1\n",
      "  0  3 10  8  9  7  0  2 10  1 13  9  1  3  0  2  5  7 -6 17  2  0  3 11\n",
      "  7 -2  2 11  5  6  5  2  2  0  7  7  8  6  3  3 -1  0  1  3  7 -3 -5  0\n",
      "  5 13  9 11 11 -1  1 14  7 10  4  1  7 14 13  9 15 12  0  0 -1  0  5  5\n",
      "  5 16  5  7 16 12  1 13  8  9 -1  9  7  7  7  5  0  6  3 10  3 10  9  1\n",
      "  1  6  3  7  2 -1 -1  4  1  7  6  4 14 16  3 13  4  4 14  2  8  6  5 13\n",
      "  7 10  9 10  1  7  2  5 11  2  2 10]\n",
      "With MSE 59.59\n",
      "With MAE 6.29\n",
      "\n"
     ]
    }
   ],
   "source": [
    "diff = best_cop_diff(result, count_test)\n",
    "\n",
    "print(f\"Model EnsembleCNN behaved:\")\n",
    "\n",
    "print(f\"For cut-of-point {diff[0]} had accuracy {diff[1]}:\")\n",
    "print(diff[2])\n",
    "\n",
    "print(f\"With MSE {mse(diff[2])}\")\n",
    "print(f\"With MAE {mae(diff[2])}\", end=\"\\n\\n\")"
   ]
  },
  {
   "cell_type": "code",
   "execution_count": 11,
   "metadata": {},
   "outputs": [],
   "source": [
    "new_models = [models[4], models[5], models[9]]"
   ]
  },
  {
   "cell_type": "code",
   "execution_count": 12,
   "metadata": {},
   "outputs": [],
   "source": [
    "new_model = EnsembleCNN(new_models, (480, 640, 4), split_into_parts=20)"
   ]
  },
  {
   "cell_type": "code",
   "execution_count": 13,
   "metadata": {},
   "outputs": [],
   "source": [
    "result = test_model(model=new_model, images=image_test, counts=count_test, cut_of_points=cop)"
   ]
  },
  {
   "cell_type": "code",
   "execution_count": 14,
   "metadata": {},
   "outputs": [
    {
     "name": "stdout",
     "output_type": "stream",
     "text": [
      "Model EnsembleCNN behaved:\n",
      "For cut-of-point 0.7000000000000001 had accuracy 76.13866175732656:\n",
      "[ -8 -17 -15 -15  -7  -4  -3 -11  -5  -8  -8   0  -5  -1  -1  -6  -2  -6\n",
      "  -5  -6  -4  -4  -4  -9  -9  -7  -7  -9  -2  -5  -5  -8  -4  -5   1  -6\n",
      "   4  -5 -10  -5  -1  -3   1  -2   1  -4   0  -8  -9  -1  -1  -8   0  -6\n",
      "  -3   0  -8   2  -4 -10 -14 -18 -10 -12 -12 -11 -14 -13 -22  -9  -8 -12\n",
      "  -6 -10  -9  -3 -13  -8 -11  -3 -11  -7 -10  -4  -7  -1  -8  -8  -3  -5\n",
      "  -1  -6  -3 -21 -11 -23 -22  -6 -15 -14  -1  -6  -4  -2  -5  -6  -3  -3\n",
      " -11  -5  -8 -12  -9 -12  -6 -11  -9 -12  -7  -6  -9  -8  -7  -9  -7  -5\n",
      "  -6  -6  -9  -4  -9  -2 -10 -12  -9 -13  -6 -10  -6  -8  -5  -5 -12  -6\n",
      "  -8 -13  -9  -4 -12  -9  -6  -7  -5 -11 -13  -8  -9  -2  -3 -10 -11 -11\n",
      " -10 -11  -5 -13  -3  -9 -11  -9  -3  -3  -3  -5  -3 -15  -2  -7   2  -3\n",
      "  -6  -8 -10  -9  -7  -5 -16  -7  -6  -3 -10   1  -7 -14 -11   3  -6  -3\n",
      "  -4  -9  -5  -5 -10  -5  -2   2  -9  -4 -13  -9 -12  -7 -14 -17 -15 -10\n",
      " -12   1  -7  -9   1 -12  -7  -9  -8  -1  -7 -13  -9   0 -10  -6 -13  -7\n",
      "  -8  -8 -10 -10  -5 -12 -11 -11 -12 -16 -15  -5 -13 -10  -8  -6 -14  -2\n",
      "  -4  -6  -9  -7  -4   0  -7  -5 -10  -6  -3 -14  -9 -15 -11  -2  -6 -14\n",
      " -17 -21  -9 -10 -14  -5  -2  -6 -12  -2  -9  -8  -3 -15  -9  -6 -12   6\n",
      " -10 -10  -3  -1  -7  -2  -3 -10  -5  -8  -9  -6]\n",
      "With MSE 76.87\n",
      "With MAE 7.583333333333333\n",
      "\n"
     ]
    }
   ],
   "source": [
    "diff = best_cop_diff(result, count_test)\n",
    "\n",
    "print(f\"Model EnsembleCNN behaved:\")\n",
    "\n",
    "print(f\"For cut-of-point {diff[0]} had accuracy {diff[1]}:\")\n",
    "print(diff[2])\n",
    "\n",
    "print(f\"With MSE {mse(diff[2])}\")\n",
    "print(f\"With MAE {mae(diff[2])}\", end=\"\\n\\n\")"
   ]
  },
  {
   "cell_type": "code",
   "execution_count": 15,
   "metadata": {},
   "outputs": [],
   "source": [
    "cnn_model = CNN_v2((480, 640, 4), split_into_parts=20)\n",
    "cnn_model.def_model()\n",
    "\n",
    "cnn_model.model = keras.utils.multi_gpu_model(cnn_model.model, gpus=2, cpu_merge=False)\n",
    "cnn_model.model.compile(loss=\"binary_crossentropy\", optimizer=\"adam\", metrics=[\"accuracy\"])\n",
    "\n",
    "cnn_model.model.load_weights(\"CNN/CNN_v2/weights/cnn_v2_5e_5_80\")"
   ]
  },
  {
   "cell_type": "code",
   "execution_count": 22,
   "metadata": {},
   "outputs": [],
   "source": [
    "new_models.append(cnn_model)"
   ]
  },
  {
   "cell_type": "code",
   "execution_count": 23,
   "metadata": {},
   "outputs": [],
   "source": [
    "new_model = EnsembleCNN(new_models, (480, 640, 4), split_into_parts=20)"
   ]
  },
  {
   "cell_type": "code",
   "execution_count": 24,
   "metadata": {},
   "outputs": [],
   "source": [
    "result = test_model(model=new_model, images=image_test, counts=count_test, cut_of_points=cop)"
   ]
  },
  {
   "cell_type": "code",
   "execution_count": 25,
   "metadata": {},
   "outputs": [
    {
     "name": "stdout",
     "output_type": "stream",
     "text": [
      "Model EnsembleCNN behaved:\n",
      "For cut-of-point 0.6000000000000001 had accuracy 86.63579936949266:\n",
      "[ 13   4   2   0   4   4   5   4   8   2  -1   5   2   3   8   1   7   2\n",
      "   1   1   4   9   2   3  -4   1   1   2   4   0   3  -1   2   4  13   2\n",
      "  12   3   2   0   8   5   7   9   6   8   7   5   3   9   5  -1   4  -1\n",
      "   4   9   7  12   5   5   6   6   4   3   1   1   2   0  -7   3   0   1\n",
      "   5  -6  -2   1  -1   1  -1   5  -3   8   3   0  -2   6   3   5  11   0\n",
      "   4   1   6  -6   8 -10   1  -2   0   1  13   5   3   2   9  -3   5   7\n",
      "   4   9   2  -2   1  -1  -3   4  -3   3   0  -1   2   2   7   0   2   4\n",
      "   7   3  -1   5   4  13   5   0   9   1   9   0   0   1   5   4  -2  16\n",
      "  11  -2   5   7   2  -3  -3   1   1   1  -4   4   2   7   8   1   1  -3\n",
      "   3  -1   1  -3   6  -4  -2   2   6   3   3   6  -1   4   3   2  10   3\n",
      "  -1   5   0  -1   1   4  -9  11   1   1   0   9   6   2   3  13   0   6\n",
      "   2   4   3   3   4   2   2   4  -2   4  -6  -2   0   2  -6  -7  -6  -4\n",
      "  -1   6   3   8  10  -2   8  11   2   8   1  -4   5  13   3   8  -1   9\n",
      "  -4   1  -3  -2   1   0   2   8   6   5   3   9  -1   4  -1   5  -1   5\n",
      "   2  11  -1   4   0   0   2   6   1   4   5   4   0   3   1   5   6  -2\n",
      "  -1   1   5  -2   1   5   9  14  -1  10   5   1  12  -1  -1   0   9  14\n",
      "   0   1   9   7   3   6   1   2   9   1   0   3]\n",
      "With MSE 27.303333333333335\n",
      "With MAE 4.023333333333333\n",
      "\n"
     ]
    }
   ],
   "source": [
    "diff = best_cop_diff(result, count_test)\n",
    "\n",
    "print(f\"Model EnsembleCNN behaved:\")\n",
    "\n",
    "print(f\"For cut-of-point {diff[0]} had accuracy {diff[1]}:\")\n",
    "print(diff[2])\n",
    "\n",
    "print(f\"With MSE {mse(diff[2])}\")\n",
    "print(f\"With MAE {mae(diff[2])}\", end=\"\\n\\n\")"
   ]
  }
 ],
 "metadata": {
  "kernelspec": {
   "display_name": "Python 3",
   "language": "python",
   "name": "python3"
  },
  "language_info": {
   "codemirror_mode": {
    "name": "ipython",
    "version": 3
   },
   "file_extension": ".py",
   "mimetype": "text/x-python",
   "name": "python",
   "nbconvert_exporter": "python",
   "pygments_lexer": "ipython3",
   "version": "3.6.6"
  }
 },
 "nbformat": 4,
 "nbformat_minor": 2
}
