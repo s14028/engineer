{
 "cells": [
  {
   "cell_type": "code",
   "execution_count": 1,
   "metadata": {},
   "outputs": [
    {
     "name": "stdout",
     "output_type": "stream",
     "text": [
      "/home/PJWSTK/s14028/engineer/Practical\n"
     ]
    }
   ],
   "source": [
    "%cd ../../"
   ]
  },
  {
   "cell_type": "code",
   "execution_count": 2,
   "metadata": {},
   "outputs": [
    {
     "name": "stderr",
     "output_type": "stream",
     "text": [
      "Using TensorFlow backend.\n"
     ]
    }
   ],
   "source": [
    "import keras\n",
    "import scipy.io as mat\n",
    "\n",
    "from common import *\n",
    "from augmentation import add_pmap\n",
    "from augmentation import augmentation_data\n",
    "from augmentation import augment_data\n",
    "\n",
    "from CNN.CNN_v3 import CNN_v3"
   ]
  },
  {
   "cell_type": "code",
   "execution_count": 3,
   "metadata": {},
   "outputs": [],
   "source": [
    "perspective = mat.loadmat(\"mall_dataset/perspective_roi.mat\")[\"pMapN\"]\n",
    "\n",
    "perspective /= np.min(perspective)\n",
    "perspective = np.round(perspective).astype(np.uint8)\n",
    "\n",
    "train, test = data_sets()\n",
    "image_tensors = train[0], test[0]\n",
    "person_coo_tensors = train[1], test[1]\n",
    "count_matrix = train[2], test[2]\n",
    "\n",
    "image_train, image_test = image_tensors\n",
    "person_coo_train, person_coo_test = person_coo_tensors\n",
    "count_train, count_test = count_matrix\n",
    "count_train = count_train.astype(np.uint16)\n",
    "count_test = count_test.astype(np.uint16)\n",
    "\n",
    "image_train = add_pmap(image_train, perspective)\n",
    "image_test = add_pmap(image_test, perspective)"
   ]
  },
  {
   "cell_type": "code",
   "execution_count": 4,
   "metadata": {},
   "outputs": [
    {
     "data": {
      "text/plain": [
       "<keras.engine.sequential.Sequential at 0x7f28ef16d550>"
      ]
     },
     "execution_count": 4,
     "metadata": {},
     "output_type": "execute_result"
    }
   ],
   "source": [
    "cnn_v3 = CNN_v3((480, 640, 4), split_into_parts=20)\n",
    "cnn_v3.def_model()"
   ]
  },
  {
   "cell_type": "code",
   "execution_count": 5,
   "metadata": {},
   "outputs": [],
   "source": [
    "images = cnn_v3._prepare_images(image_train)\n",
    "anwsers = cnn_v3._prepare_anwsers(person_coo_train)"
   ]
  },
  {
   "cell_type": "code",
   "execution_count": 6,
   "metadata": {},
   "outputs": [],
   "source": [
    "ones_count = (np.sum(anwsers == 1) * 0.25).astype(np.uint32)\n",
    "zeros_count = (ones_count / 0.25 * 0.75).astype(np.uint32)\n",
    "validation_length = (zeros_count + ones_count).astype(np.int32)\n",
    "\n",
    "val_indices = np.concatenate([np.where(anwsers == 0)[0][:zeros_count],\n",
    "                              np.where(anwsers == 1)[0][:ones_count]])"
   ]
  },
  {
   "cell_type": "code",
   "execution_count": 7,
   "metadata": {},
   "outputs": [],
   "source": [
    "anwsers[val_indices[zeros_count:]] = 0"
   ]
  },
  {
   "cell_type": "code",
   "execution_count": 8,
   "metadata": {},
   "outputs": [],
   "source": [
    "val_indices = -(images.shape[0] - val_indices)"
   ]
  },
  {
   "cell_type": "code",
   "execution_count": 9,
   "metadata": {},
   "outputs": [],
   "source": [
    "generator = keras.preprocessing.image.ImageDataGenerator(rotation_range=20)\n",
    "\n",
    "augmentation = augmentation_data(image_train, anwsers, 20)\n",
    "augmented_data = augment_data(generator, augmentation, images, anwsers)\n",
    "images, anwsers = augmented_data"
   ]
  },
  {
   "cell_type": "code",
   "execution_count": 10,
   "metadata": {},
   "outputs": [],
   "source": [
    "anwsers[val_indices[zeros_count:]] = 1\n",
    "\n",
    "images[-validation_length:], images[val_indices] = images[val_indices], images[-validation_length:]\n",
    "anwsers[-validation_length:], anwsers[val_indices] = anwsers[val_indices], anwsers[-validation_length:]"
   ]
  },
  {
   "cell_type": "code",
   "execution_count": 11,
   "metadata": {},
   "outputs": [],
   "source": [
    "parallel_model = keras.utils.multi_gpu_model(\n",
    "        cnn_v3.model,\n",
    "        gpus=2,\n",
    "        cpu_merge=False)\n",
    "parallel_model.compile(\n",
    "        loss=\"binary_crossentropy\", \n",
    "        optimizer=\"adam\", \n",
    "        metrics=[\"accuracy\"])"
   ]
  },
  {
   "cell_type": "code",
   "execution_count": 12,
   "metadata": {},
   "outputs": [
    {
     "data": {
      "text/plain": [
       "<tf.Variable 'UnreadVariable' shape=() dtype=float32, numpy=0.001>"
      ]
     },
     "execution_count": 12,
     "metadata": {},
     "output_type": "execute_result"
    }
   ],
   "source": [
    "parallel_model.optimizer.lr.assign(1e-3)"
   ]
  },
  {
   "cell_type": "code",
   "execution_count": 14,
   "metadata": {},
   "outputs": [],
   "source": [
    "path = \"CNN/CNN_v3/weights/cnn_v3_1e_6_{}\"\n",
    "\n",
    "class ModelSaver(keras.callbacks.Callback):\n",
    "    __path: str\n",
    "    __current_epoch: int\n",
    "        \n",
    "    def __init__(self, path: str):\n",
    "        self.__path = path\n",
    "        self.__current_epoch = 0\n",
    "        \n",
    "    def on_epoch_end(self, *args, **kwargs):\n",
    "        epoch_path = self.__path.format(self.__current_epoch)\n",
    "        self.__current_epoch += 1\n",
    "        \n",
    "        parallel_model.save_weights(epoch_path)\n",
    "\n",
    "model_saver = ModelSaver(path)"
   ]
  },
  {
   "cell_type": "code",
   "execution_count": 15,
   "metadata": {},
   "outputs": [
    {
     "name": "stdout",
     "output_type": "stream",
     "text": [
      "Train on 1244460 samples, validate on 46216 samples\n",
      "Epoch 1/2\n",
      "1244460/1244460 [==============================] - 116s 93us/step - loss: 20.0355 - accuracy: 0.5622 - val_loss: 2.3408 - val_accuracy: 0.2543\n",
      "Epoch 2/2\n",
      "1244460/1244460 [==============================] - 106s 85us/step - loss: 3.1029 - accuracy: 0.6827 - val_loss: 1.2809 - val_accuracy: 0.6742\n"
     ]
    },
    {
     "data": {
      "text/plain": [
       "<keras.callbacks.callbacks.History at 0x7f25d46a4690>"
      ]
     },
     "execution_count": 15,
     "metadata": {},
     "output_type": "execute_result"
    }
   ],
   "source": [
    "parallel_model.fit(images[:-validation_length], anwsers[:-validation_length], batch_size=10000, epochs=2,\n",
    "                   validation_data=(images[-validation_length:], anwsers[-validation_length:]),\n",
    "                   callbacks=[model_saver])"
   ]
  },
  {
   "cell_type": "code",
   "execution_count": 16,
   "metadata": {},
   "outputs": [
    {
     "name": "stdout",
     "output_type": "stream",
     "text": [
      "Train on 1244460 samples, validate on 46216 samples\n",
      "Epoch 1/3\n",
      "1244460/1244460 [==============================] - 106s 86us/step - loss: 1.3130 - accuracy: 0.7133 - val_loss: 1.1933 - val_accuracy: 0.2519\n",
      "Epoch 2/3\n",
      "1244460/1244460 [==============================] - 106s 85us/step - loss: 0.8651 - accuracy: 0.7316 - val_loss: 1.0199 - val_accuracy: 0.3026\n",
      "Epoch 3/3\n",
      "1244460/1244460 [==============================] - 106s 85us/step - loss: 0.7201 - accuracy: 0.7460 - val_loss: 0.6624 - val_accuracy: 0.6971\n"
     ]
    },
    {
     "data": {
      "text/plain": [
       "<keras.callbacks.callbacks.History at 0x7f25d4043b90>"
      ]
     },
     "execution_count": 16,
     "metadata": {},
     "output_type": "execute_result"
    }
   ],
   "source": [
    "parallel_model.fit(images[:-validation_length], anwsers[:-validation_length], batch_size=10000, epochs=3,\n",
    "                   validation_data=(images[-validation_length:], anwsers[-validation_length:]),\n",
    "                   callbacks=[model_saver])"
   ]
  },
  {
   "cell_type": "code",
   "execution_count": 17,
   "metadata": {},
   "outputs": [
    {
     "data": {
      "text/plain": [
       "<tf.Variable 'UnreadVariable' shape=() dtype=float32, numpy=1e-04>"
      ]
     },
     "execution_count": 17,
     "metadata": {},
     "output_type": "execute_result"
    }
   ],
   "source": [
    "parallel_model.optimizer.lr.assign(1e-4)"
   ]
  },
  {
   "cell_type": "code",
   "execution_count": 18,
   "metadata": {},
   "outputs": [
    {
     "name": "stdout",
     "output_type": "stream",
     "text": [
      "Train on 1244460 samples, validate on 46216 samples\n",
      "Epoch 1/10\n",
      "1244460/1244460 [==============================] - 105s 84us/step - loss: 0.6814 - accuracy: 0.7531 - val_loss: 0.7615 - val_accuracy: 0.6541\n",
      "Epoch 2/10\n",
      "1244460/1244460 [==============================] - 103s 83us/step - loss: 0.6623 - accuracy: 0.7591 - val_loss: 0.8405 - val_accuracy: 0.6107\n",
      "Epoch 3/10\n",
      "1244460/1244460 [==============================] - 103s 83us/step - loss: 0.6504 - accuracy: 0.7634 - val_loss: 0.6997 - val_accuracy: 0.6773\n",
      "Epoch 4/10\n",
      "1244460/1244460 [==============================] - 103s 83us/step - loss: 0.6402 - accuracy: 0.7658 - val_loss: 0.7053 - val_accuracy: 0.6738\n",
      "Epoch 5/10\n",
      "1244460/1244460 [==============================] - 106s 85us/step - loss: 0.6322 - accuracy: 0.7670 - val_loss: 0.6717 - val_accuracy: 0.6849\n",
      "Epoch 6/10\n",
      "1244460/1244460 [==============================] - 106s 85us/step - loss: 0.6247 - accuracy: 0.7693 - val_loss: 0.6777 - val_accuracy: 0.6828\n",
      "Epoch 7/10\n",
      "1244460/1244460 [==============================] - 106s 85us/step - loss: 0.6172 - accuracy: 0.7712 - val_loss: 0.6734 - val_accuracy: 0.6855\n",
      "Epoch 8/10\n",
      "1244460/1244460 [==============================] - 106s 85us/step - loss: 0.6103 - accuracy: 0.7728 - val_loss: 0.6651 - val_accuracy: 0.6897\n",
      "Epoch 9/10\n",
      "1244460/1244460 [==============================] - 106s 85us/step - loss: 0.6039 - accuracy: 0.7749 - val_loss: 0.6479 - val_accuracy: 0.6944\n",
      "Epoch 10/10\n",
      "1244460/1244460 [==============================] - 106s 85us/step - loss: 0.5977 - accuracy: 0.7762 - val_loss: 0.6166 - val_accuracy: 0.7073\n"
     ]
    },
    {
     "data": {
      "text/plain": [
       "<keras.callbacks.callbacks.History at 0x7f28ef16d310>"
      ]
     },
     "execution_count": 18,
     "metadata": {},
     "output_type": "execute_result"
    }
   ],
   "source": [
    "parallel_model.fit(images[:-validation_length], anwsers[:-validation_length], batch_size=10000, epochs=10,\n",
    "                   validation_data=(images[-validation_length:], anwsers[-validation_length:]),\n",
    "                   callbacks=[model_saver])"
   ]
  },
  {
   "cell_type": "code",
   "execution_count": 20,
   "metadata": {},
   "outputs": [
    {
     "data": {
      "text/plain": [
       "<tf.Variable 'UnreadVariable' shape=() dtype=float32, numpy=1e-05>"
      ]
     },
     "execution_count": 20,
     "metadata": {},
     "output_type": "execute_result"
    }
   ],
   "source": [
    "parallel_model.optimizer.lr.assign(1e-5)"
   ]
  },
  {
   "cell_type": "code",
   "execution_count": 21,
   "metadata": {},
   "outputs": [
    {
     "name": "stdout",
     "output_type": "stream",
     "text": [
      "Train on 1244460 samples, validate on 46216 samples\n",
      "Epoch 1/5\n",
      "1244460/1244460 [==============================] - 106s 85us/step - loss: 0.5952 - accuracy: 0.7775 - val_loss: 0.6681 - val_accuracy: 0.6866\n",
      "Epoch 2/5\n",
      "1244460/1244460 [==============================] - 106s 85us/step - loss: 0.5933 - accuracy: 0.7781 - val_loss: 0.6571 - val_accuracy: 0.6922\n",
      "Epoch 3/5\n",
      "1244460/1244460 [==============================] - 106s 85us/step - loss: 0.5924 - accuracy: 0.7782 - val_loss: 0.6598 - val_accuracy: 0.6908\n",
      "Epoch 4/5\n",
      "1244460/1244460 [==============================] - 106s 85us/step - loss: 0.5915 - accuracy: 0.7786 - val_loss: 0.6621 - val_accuracy: 0.6896\n",
      "Epoch 5/5\n",
      "1244460/1244460 [==============================] - 106s 85us/step - loss: 0.5907 - accuracy: 0.7786 - val_loss: 0.6523 - val_accuracy: 0.6929\n"
     ]
    },
    {
     "data": {
      "text/plain": [
       "<keras.callbacks.callbacks.History at 0x7f25cc06d750>"
      ]
     },
     "execution_count": 21,
     "metadata": {},
     "output_type": "execute_result"
    }
   ],
   "source": [
    "parallel_model.fit(images[:-validation_length], anwsers[:-validation_length], batch_size=10000, epochs=5,\n",
    "                   validation_data=(images[-validation_length:], anwsers[-validation_length:]),\n",
    "                   callbacks=[model_saver])"
   ]
  },
  {
   "cell_type": "code",
   "execution_count": 22,
   "metadata": {},
   "outputs": [
    {
     "data": {
      "text/plain": [
       "<tf.Variable 'UnreadVariable' shape=() dtype=float32, numpy=1e-04>"
      ]
     },
     "execution_count": 22,
     "metadata": {},
     "output_type": "execute_result"
    }
   ],
   "source": [
    "parallel_model.optimizer.lr.assign(1e-4)"
   ]
  },
  {
   "cell_type": "code",
   "execution_count": 23,
   "metadata": {},
   "outputs": [
    {
     "name": "stdout",
     "output_type": "stream",
     "text": [
      "Train on 1244460 samples, validate on 46216 samples\n",
      "Epoch 1/5\n",
      "1244460/1244460 [==============================] - 106s 85us/step - loss: 0.5879 - accuracy: 0.7786 - val_loss: 0.6492 - val_accuracy: 0.6901\n",
      "Epoch 2/5\n",
      "1244460/1244460 [==============================] - 106s 85us/step - loss: 0.5837 - accuracy: 0.7798 - val_loss: 0.6392 - val_accuracy: 0.6945\n",
      "Epoch 3/5\n",
      "1244460/1244460 [==============================] - 104s 84us/step - loss: 0.5783 - accuracy: 0.7813 - val_loss: 0.6813 - val_accuracy: 0.6798\n",
      "Epoch 4/5\n",
      "1244460/1244460 [==============================] - 103s 83us/step - loss: 0.5721 - accuracy: 0.7833 - val_loss: 0.6679 - val_accuracy: 0.6890\n",
      "Epoch 5/5\n",
      "1244460/1244460 [==============================] - 103s 83us/step - loss: 0.5671 - accuracy: 0.7844 - val_loss: 0.6291 - val_accuracy: 0.6994\n"
     ]
    },
    {
     "data": {
      "text/plain": [
       "<keras.callbacks.callbacks.History at 0x7f255c5c6e10>"
      ]
     },
     "execution_count": 23,
     "metadata": {},
     "output_type": "execute_result"
    }
   ],
   "source": [
    "parallel_model.fit(images[:-validation_length], anwsers[:-validation_length], batch_size=10000, epochs=5,\n",
    "                   validation_data=(images[-validation_length:], anwsers[-validation_length:]),\n",
    "                   callbacks=[model_saver])"
   ]
  },
  {
   "cell_type": "code",
   "execution_count": 24,
   "metadata": {},
   "outputs": [
    {
     "data": {
      "text/plain": [
       "<tf.Variable 'UnreadVariable' shape=() dtype=float32, numpy=1e-06>"
      ]
     },
     "execution_count": 24,
     "metadata": {},
     "output_type": "execute_result"
    }
   ],
   "source": [
    "parallel_model.optimizer.lr.assign(1e-6)"
   ]
  },
  {
   "cell_type": "code",
   "execution_count": 25,
   "metadata": {},
   "outputs": [
    {
     "name": "stdout",
     "output_type": "stream",
     "text": [
      "Train on 1244460 samples, validate on 46216 samples\n",
      "Epoch 1/5\n",
      "1244460/1244460 [==============================] - 105s 85us/step - loss: 0.5641 - accuracy: 0.7853 - val_loss: 0.6286 - val_accuracy: 0.7010\n",
      "Epoch 2/5\n",
      "1244460/1244460 [==============================] - 106s 85us/step - loss: 0.5637 - accuracy: 0.7855 - val_loss: 0.6345 - val_accuracy: 0.6980\n",
      "Epoch 3/5\n",
      "1244460/1244460 [==============================] - 106s 85us/step - loss: 0.5637 - accuracy: 0.7852 - val_loss: 0.6321 - val_accuracy: 0.6987\n",
      "Epoch 4/5\n",
      "1244460/1244460 [==============================] - 106s 85us/step - loss: 0.5636 - accuracy: 0.7855 - val_loss: 0.6321 - val_accuracy: 0.6986\n",
      "Epoch 5/5\n",
      "1244460/1244460 [==============================] - 106s 85us/step - loss: 0.5633 - accuracy: 0.7855 - val_loss: 0.6320 - val_accuracy: 0.6984\n"
     ]
    },
    {
     "data": {
      "text/plain": [
       "<keras.callbacks.callbacks.History at 0x7f255c6719d0>"
      ]
     },
     "execution_count": 25,
     "metadata": {},
     "output_type": "execute_result"
    }
   ],
   "source": [
    "parallel_model.fit(images[:-validation_length], anwsers[:-validation_length], batch_size=10000, epochs=5,\n",
    "                   validation_data=(images[-validation_length:], anwsers[-validation_length:]),\n",
    "                   callbacks=[model_saver])"
   ]
  },
  {
   "cell_type": "code",
   "execution_count": 26,
   "metadata": {},
   "outputs": [
    {
     "name": "stdout",
     "output_type": "stream",
     "text": [
      "Train on 1244460 samples, validate on 46216 samples\n",
      "Epoch 1/5\n",
      "1244460/1244460 [==============================] - 106s 85us/step - loss: 0.5630 - accuracy: 0.7856 - val_loss: 0.6313 - val_accuracy: 0.6991\n",
      "Epoch 2/5\n",
      "1244460/1244460 [==============================] - 106s 85us/step - loss: 0.5631 - accuracy: 0.7856 - val_loss: 0.6325 - val_accuracy: 0.6984\n",
      "Epoch 3/5\n",
      "1244460/1244460 [==============================] - 105s 85us/step - loss: 0.5632 - accuracy: 0.7856 - val_loss: 0.6286 - val_accuracy: 0.6999\n",
      "Epoch 4/5\n",
      "1244460/1244460 [==============================] - 105s 85us/step - loss: 0.5628 - accuracy: 0.7857 - val_loss: 0.6292 - val_accuracy: 0.6999\n",
      "Epoch 5/5\n",
      "1244460/1244460 [==============================] - 105s 84us/step - loss: 0.5627 - accuracy: 0.7857 - val_loss: 0.6287 - val_accuracy: 0.6995\n"
     ]
    },
    {
     "data": {
      "text/plain": [
       "<keras.callbacks.callbacks.History at 0x7f25d409de90>"
      ]
     },
     "execution_count": 26,
     "metadata": {},
     "output_type": "execute_result"
    }
   ],
   "source": [
    "parallel_model.fit(images[:-validation_length], anwsers[:-validation_length], batch_size=10000, epochs=5,\n",
    "                   validation_data=(images[-validation_length:], anwsers[-validation_length:]),\n",
    "                   callbacks=[model_saver])"
   ]
  },
  {
   "cell_type": "code",
   "execution_count": 27,
   "metadata": {},
   "outputs": [
    {
     "name": "stdout",
     "output_type": "stream",
     "text": [
      "Train on 1244460 samples, validate on 46216 samples\n",
      "Epoch 1/5\n",
      "1244460/1244460 [==============================] - 105s 85us/step - loss: 0.5627 - accuracy: 0.7858 - val_loss: 0.6279 - val_accuracy: 0.7000\n",
      "Epoch 2/5\n",
      "1244460/1244460 [==============================] - 106s 85us/step - loss: 0.5624 - accuracy: 0.7859 - val_loss: 0.6284 - val_accuracy: 0.6998\n",
      "Epoch 3/5\n",
      "1244460/1244460 [==============================] - 105s 85us/step - loss: 0.5622 - accuracy: 0.7858 - val_loss: 0.6304 - val_accuracy: 0.6989\n",
      "Epoch 4/5\n",
      "1244460/1244460 [==============================] - 105s 84us/step - loss: 0.5621 - accuracy: 0.7860 - val_loss: 0.6257 - val_accuracy: 0.7009\n",
      "Epoch 5/5\n",
      "1244460/1244460 [==============================] - 105s 85us/step - loss: 0.5619 - accuracy: 0.7861 - val_loss: 0.6261 - val_accuracy: 0.7007\n"
     ]
    },
    {
     "data": {
      "text/plain": [
       "<keras.callbacks.callbacks.History at 0x7f25d409db10>"
      ]
     },
     "execution_count": 27,
     "metadata": {},
     "output_type": "execute_result"
    }
   ],
   "source": [
    "parallel_model.fit(images[:-validation_length], anwsers[:-validation_length], batch_size=10000, epochs=5,\n",
    "                   validation_data=(images[-validation_length:], anwsers[-validation_length:]),\n",
    "                   callbacks=[model_saver])"
   ]
  },
  {
   "cell_type": "code",
   "execution_count": 28,
   "metadata": {},
   "outputs": [
    {
     "name": "stdout",
     "output_type": "stream",
     "text": [
      "Train on 1244460 samples, validate on 46216 samples\n",
      "Epoch 1/5\n",
      "1244460/1244460 [==============================] - 105s 85us/step - loss: 0.5620 - accuracy: 0.7864 - val_loss: 0.6282 - val_accuracy: 0.7001\n",
      "Epoch 2/5\n",
      "1244460/1244460 [==============================] - 105s 85us/step - loss: 0.5615 - accuracy: 0.7864 - val_loss: 0.6258 - val_accuracy: 0.7011\n",
      "Epoch 3/5\n",
      "1244460/1244460 [==============================] - 105s 85us/step - loss: 0.5617 - accuracy: 0.7864 - val_loss: 0.6298 - val_accuracy: 0.6995\n",
      "Epoch 4/5\n",
      "1244460/1244460 [==============================] - 105s 85us/step - loss: 0.5619 - accuracy: 0.7862 - val_loss: 0.6290 - val_accuracy: 0.7004\n",
      "Epoch 5/5\n",
      "1244460/1244460 [==============================] - 105s 84us/step - loss: 0.5619 - accuracy: 0.7859 - val_loss: 0.6287 - val_accuracy: 0.7006\n"
     ]
    },
    {
     "data": {
      "text/plain": [
       "<keras.callbacks.callbacks.History at 0x7f25d45e6c90>"
      ]
     },
     "execution_count": 28,
     "metadata": {},
     "output_type": "execute_result"
    }
   ],
   "source": [
    "parallel_model.fit(images[:-validation_length], anwsers[:-validation_length], batch_size=10000, epochs=5,\n",
    "                   validation_data=(images[-validation_length:], anwsers[-validation_length:]),\n",
    "                   callbacks=[model_saver])"
   ]
  },
  {
   "cell_type": "code",
   "execution_count": 29,
   "metadata": {},
   "outputs": [
    {
     "data": {
      "text/plain": [
       "<tf.Variable 'UnreadVariable' shape=() dtype=float32, numpy=1e-04>"
      ]
     },
     "execution_count": 29,
     "metadata": {},
     "output_type": "execute_result"
    }
   ],
   "source": [
    "parallel_model.optimizer.lr.assign(1e-4)"
   ]
  },
  {
   "cell_type": "code",
   "execution_count": 30,
   "metadata": {},
   "outputs": [
    {
     "name": "stdout",
     "output_type": "stream",
     "text": [
      "Train on 1244460 samples, validate on 46216 samples\n",
      "Epoch 1/5\n",
      "1244460/1244460 [==============================] - 105s 85us/step - loss: 0.5605 - accuracy: 0.7860 - val_loss: 0.6420 - val_accuracy: 0.6919\n",
      "Epoch 2/5\n",
      "1244460/1244460 [==============================] - 105s 85us/step - loss: 0.5554 - accuracy: 0.7878 - val_loss: 0.6254 - val_accuracy: 0.7031\n",
      "Epoch 3/5\n",
      "1244460/1244460 [==============================] - 105s 85us/step - loss: 0.5726 - accuracy: 0.7742 - val_loss: 0.6653 - val_accuracy: 0.6615\n",
      "Epoch 4/5\n",
      "1244460/1244460 [==============================] - 105s 85us/step - loss: 0.5724 - accuracy: 0.7741 - val_loss: 0.5777 - val_accuracy: 0.7259\n",
      "Epoch 5/5\n",
      "1244460/1244460 [==============================] - 105s 84us/step - loss: 0.5500 - accuracy: 0.7869 - val_loss: 0.5613 - val_accuracy: 0.7317\n"
     ]
    },
    {
     "data": {
      "text/plain": [
       "<keras.callbacks.callbacks.History at 0x7f255c5e4850>"
      ]
     },
     "execution_count": 30,
     "metadata": {},
     "output_type": "execute_result"
    }
   ],
   "source": [
    "parallel_model.fit(images[:-validation_length], anwsers[:-validation_length], batch_size=10000, epochs=5,\n",
    "                   validation_data=(images[-validation_length:], anwsers[-validation_length:]),\n",
    "                   callbacks=[model_saver])"
   ]
  },
  {
   "cell_type": "code",
   "execution_count": 31,
   "metadata": {},
   "outputs": [
    {
     "data": {
      "text/plain": [
       "<tf.Variable 'UnreadVariable' shape=() dtype=float32, numpy=1e-06>"
      ]
     },
     "execution_count": 31,
     "metadata": {},
     "output_type": "execute_result"
    }
   ],
   "source": [
    "parallel_model.optimizer.lr.assign(1e-6)"
   ]
  },
  {
   "cell_type": "code",
   "execution_count": 32,
   "metadata": {},
   "outputs": [
    {
     "name": "stdout",
     "output_type": "stream",
     "text": [
      "Train on 1244460 samples, validate on 46216 samples\n",
      "Epoch 1/5\n",
      "1244460/1244460 [==============================] - 106s 85us/step - loss: 0.5448 - accuracy: 0.7890 - val_loss: 0.6252 - val_accuracy: 0.7042\n",
      "Epoch 2/5\n",
      "1244460/1244460 [==============================] - 106s 85us/step - loss: 0.5450 - accuracy: 0.7890 - val_loss: 0.6283 - val_accuracy: 0.7029\n",
      "Epoch 3/5\n",
      "1244460/1244460 [==============================] - 106s 85us/step - loss: 0.5446 - accuracy: 0.7890 - val_loss: 0.6258 - val_accuracy: 0.7033\n",
      "Epoch 4/5\n",
      "1244460/1244460 [==============================] - 106s 85us/step - loss: 0.5447 - accuracy: 0.7889 - val_loss: 0.6196 - val_accuracy: 0.7070\n",
      "Epoch 5/5\n",
      "1244460/1244460 [==============================] - 106s 86us/step - loss: 0.5448 - accuracy: 0.7892 - val_loss: 0.6257 - val_accuracy: 0.7037\n"
     ]
    },
    {
     "data": {
      "text/plain": [
       "<keras.callbacks.callbacks.History at 0x7f255c56f410>"
      ]
     },
     "execution_count": 32,
     "metadata": {},
     "output_type": "execute_result"
    }
   ],
   "source": [
    "parallel_model.fit(images[:-validation_length], anwsers[:-validation_length], batch_size=10000, epochs=5,\n",
    "                   validation_data=(images[-validation_length:], anwsers[-validation_length:]),\n",
    "                   callbacks=[model_saver])"
   ]
  }
 ],
 "metadata": {
  "kernelspec": {
   "display_name": "Python 3",
   "language": "python",
   "name": "python3"
  },
  "language_info": {
   "codemirror_mode": {
    "name": "ipython",
    "version": 3
   },
   "file_extension": ".py",
   "mimetype": "text/x-python",
   "name": "python",
   "nbconvert_exporter": "python",
   "pygments_lexer": "ipython3",
   "version": "3.7.4"
  }
 },
 "nbformat": 4,
 "nbformat_minor": 4
}
