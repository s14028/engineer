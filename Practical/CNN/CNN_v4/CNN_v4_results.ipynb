{
 "cells": [
  {
   "cell_type": "code",
   "execution_count": 1,
   "metadata": {},
   "outputs": [
    {
     "name": "stdout",
     "output_type": "stream",
     "text": [
      "/home/PJWSTK/s14028/engineer/Practical\n"
     ]
    }
   ],
   "source": [
    "%cd ../../"
   ]
  },
  {
   "cell_type": "code",
   "execution_count": 2,
   "metadata": {},
   "outputs": [
    {
     "name": "stderr",
     "output_type": "stream",
     "text": [
      "Using TensorFlow backend.\n"
     ]
    }
   ],
   "source": [
    "import os\n",
    "\n",
    "import pandas as pd\n",
    "import keras\n",
    "import scipy.io as mat\n",
    "\n",
    "from common import *\n",
    "from augmentation import add_pmap\n",
    "from testing import test_model\n",
    "from testing import best_cop_diff\n",
    "from testing import mse\n",
    "from testing import mae\n",
    "\n",
    "from CNN.CNN_v4 import CNN_v4"
   ]
  },
  {
   "cell_type": "code",
   "execution_count": 3,
   "metadata": {},
   "outputs": [],
   "source": [
    "perspective = mat.loadmat(\"mall_dataset/perspective_roi.mat\")[\"pMapN\"]\n",
    "\n",
    "perspective /= np.min(perspective)\n",
    "perspective = np.round(perspective).astype(np.uint8)\n",
    "\n",
    "train, test = data_sets()\n",
    "image_tensors = train[0], test[0]\n",
    "person_coo_tensors = train[1], test[1]\n",
    "count_matrix = train[2], test[2]\n",
    "\n",
    "image_train, image_test = image_tensors\n",
    "person_coo_train, person_coo_test = person_coo_tensors\n",
    "count_train, count_test = count_matrix\n",
    "count_train = count_train.astype(np.uint16)\n",
    "count_test = count_test.astype(np.uint16)\n",
    "\n",
    "image_train = add_pmap(image_train, perspective)\n",
    "image_test = add_pmap(image_test, perspective)"
   ]
  },
  {
   "cell_type": "code",
   "execution_count": 4,
   "metadata": {},
   "outputs": [],
   "source": [
    "cnn = CNN_v4((480, 640, 4), split_into_parts=20)\n",
    "\n",
    "images = cnn._prepare_images(image_test)\n",
    "anwsers = cnn._prepare_anwsers(person_coo_test)"
   ]
  },
  {
   "cell_type": "code",
   "execution_count": 5,
   "metadata": {},
   "outputs": [],
   "source": [
    "cop = np.linspace(0, 1, 11)[1:-1]"
   ]
  },
  {
   "cell_type": "code",
   "execution_count": 6,
   "metadata": {},
   "outputs": [],
   "source": [
    "prefix = \"CNN/CNN_v4/weights/\"\n",
    "\n",
    "def get_weights_paths(prefix):\n",
    "    for directory, subdirectories, files in os.walk(prefix):\n",
    "        yield from (os.path.join(directory, file) for file in files)\n",
    "\n",
    "model_names = get_weights_paths(prefix)\n",
    "model_names = list(model_names)"
   ]
  },
  {
   "cell_type": "code",
   "execution_count": 8,
   "metadata": {},
   "outputs": [],
   "source": [
    "models = [CNN_v4((480, 640, 4), split_into_parts=20) for i in range(len(model_names))]"
   ]
  },
  {
   "cell_type": "code",
   "execution_count": 9,
   "metadata": {},
   "outputs": [
    {
     "name": "stdout",
     "output_type": "stream",
     "text": [
      "Epoch 1/1\n",
      "1/1 [==============================] - 4s 4s/step - loss: 0.7011 - accuracy: 1.0000\n",
      "Epoch 1/1\n",
      "1/1 [==============================] - 3s 3s/step - loss: 0.7005 - accuracy: 1.0000\n",
      "Epoch 1/1\n",
      "1/1 [==============================] - 3s 3s/step - loss: 0.6990 - accuracy: 1.0000\n",
      "Epoch 1/1\n",
      "1/1 [==============================] - 3s 3s/step - loss: 0.7000 - accuracy: 1.0000\n",
      "Epoch 1/1\n",
      "1/1 [==============================] - 3s 3s/step - loss: 0.7038 - accuracy: 1.0000\n",
      "Epoch 1/1\n",
      "1/1 [==============================] - 3s 3s/step - loss: 0.6981 - accuracy: 1.0000\n",
      "Epoch 1/1\n",
      "1/1 [==============================] - 3s 3s/step - loss: 0.7005 - accuracy: 1.0000\n",
      "Epoch 1/1\n",
      "1/1 [==============================] - 3s 3s/step - loss: 0.7010 - accuracy: 1.0000\n",
      "Epoch 1/1\n",
      "1/1 [==============================] - 3s 3s/step - loss: 0.6997 - accuracy: 1.0000\n",
      "Epoch 1/1\n",
      "1/1 [==============================] - 3s 3s/step - loss: 0.7015 - accuracy: 1.0000\n",
      "Epoch 1/1\n",
      "1/1 [==============================] - 3s 3s/step - loss: 0.7015 - accuracy: 1.0000\n",
      "Epoch 1/1\n",
      "1/1 [==============================] - 3s 3s/step - loss: 0.7002 - accuracy: 1.0000\n",
      "Epoch 1/1\n",
      "1/1 [==============================] - 3s 3s/step - loss: 0.7015 - accuracy: 1.0000\n",
      "Epoch 1/1\n",
      "1/1 [==============================] - 3s 3s/step - loss: 0.7016 - accuracy: 1.0000\n",
      "Epoch 1/1\n",
      "1/1 [==============================] - 3s 3s/step - loss: 0.6994 - accuracy: 1.0000\n",
      "Epoch 1/1\n",
      "1/1 [==============================] - 3s 3s/step - loss: 0.6994 - accuracy: 1.0000\n",
      "Epoch 1/1\n",
      "1/1 [==============================] - 3s 3s/step - loss: 0.7004 - accuracy: 1.0000\n",
      "Epoch 1/1\n",
      "1/1 [==============================] - 3s 3s/step - loss: 0.7001 - accuracy: 1.0000\n",
      "Epoch 1/1\n",
      "1/1 [==============================] - 3s 3s/step - loss: 0.7012 - accuracy: 1.0000\n",
      "Epoch 1/1\n",
      "1/1 [==============================] - 3s 3s/step - loss: 0.7021 - accuracy: 1.0000\n",
      "Epoch 1/1\n",
      "1/1 [==============================] - 3s 3s/step - loss: 0.7020 - accuracy: 1.0000\n",
      "Epoch 1/1\n",
      "1/1 [==============================] - 3s 3s/step - loss: 0.6994 - accuracy: 1.0000\n",
      "Epoch 1/1\n",
      "1/1 [==============================] - 3s 3s/step - loss: 0.7005 - accuracy: 1.0000\n",
      "Epoch 1/1\n",
      "1/1 [==============================] - 3s 3s/step - loss: 0.7006 - accuracy: 1.0000\n",
      "Epoch 1/1\n",
      "1/1 [==============================] - 3s 3s/step - loss: 0.7023 - accuracy: 1.0000\n",
      "Epoch 1/1\n",
      "1/1 [==============================] - 3s 3s/step - loss: 0.6990 - accuracy: 1.0000\n",
      "Epoch 1/1\n",
      "1/1 [==============================] - 3s 3s/step - loss: 0.6998 - accuracy: 1.0000\n",
      "Epoch 1/1\n",
      "1/1 [==============================] - 3s 3s/step - loss: 0.7003 - accuracy: 1.0000\n",
      "Epoch 1/1\n",
      "1/1 [==============================] - 3s 3s/step - loss: 0.6988 - accuracy: 1.0000\n",
      "Epoch 1/1\n",
      "1/1 [==============================] - 3s 3s/step - loss: 0.6999 - accuracy: 1.0000\n"
     ]
    }
   ],
   "source": [
    "results = {}\n",
    "\n",
    "for model_name, model in zip(model_names, models):\n",
    "  model.def_model()\n",
    "  model.model.fit(images[:1], anwsers[:1])\n",
    "  \n",
    "  model.model = keras.utils.multi_gpu_model(model.model, gpus=2, cpu_merge=False)\n",
    "  model.model.compile(loss=\"binary_crossentropy\", optimizer=\"adam\", metrics=[\"accuracy\"])\n",
    "  \n",
    "  model.model.load_weights(model_name)\n",
    "  \n",
    "  results[model_name] = test_model(model=model, images=image_test, counts=count_test, cut_of_points=cop)"
   ]
  },
  {
   "cell_type": "code",
   "execution_count": 10,
   "metadata": {},
   "outputs": [],
   "source": [
    "def as_rows(results):\n",
    "    for name, cut_off_point_to_accuracy_with_difference in results.items():\n",
    "        yield from ((f\"{name}_{cut_off_point}\", accuracy, counts - count_test) for cut_off_point, (accuracy, counts) in cut_off_point_to_accuracy_with_difference.items())\n",
    "\n",
    "rows = as_rows(results)\n",
    "rows = list(rows)"
   ]
  },
  {
   "cell_type": "code",
   "execution_count": 11,
   "metadata": {},
   "outputs": [],
   "source": [
    "def calculate_mae_and_mse(rows):\n",
    "    for *attributes, difference in rows:\n",
    "        difference_mae = mae(difference)\n",
    "        difference_mse = mse(difference)\n",
    "        \n",
    "        yield (*attributes, difference_mae, difference_mse)\n",
    "\n",
    "mae_and_mse = calculate_mae_and_mse(rows)\n",
    "mae_and_mse = list(mae_and_mse)"
   ]
  },
  {
   "cell_type": "code",
   "execution_count": 12,
   "metadata": {},
   "outputs": [
    {
     "data": {
      "text/html": [
       "<div>\n",
       "<style scoped>\n",
       "    .dataframe tbody tr th:only-of-type {\n",
       "        vertical-align: middle;\n",
       "    }\n",
       "\n",
       "    .dataframe tbody tr th {\n",
       "        vertical-align: top;\n",
       "    }\n",
       "\n",
       "    .dataframe thead th {\n",
       "        text-align: right;\n",
       "    }\n",
       "</style>\n",
       "<table border=\"1\" class=\"dataframe\">\n",
       "  <thead>\n",
       "    <tr style=\"text-align: right;\">\n",
       "      <th></th>\n",
       "      <th>model</th>\n",
       "      <th>accuracy</th>\n",
       "      <th>mae</th>\n",
       "      <th>mse</th>\n",
       "    </tr>\n",
       "  </thead>\n",
       "  <tbody>\n",
       "    <tr>\n",
       "      <td>0</td>\n",
       "      <td>CNN/CNN_v4/weights/cnn_v4_1e_6_0_0.1</td>\n",
       "      <td>0.000000</td>\n",
       "      <td>368.940000</td>\n",
       "      <td>136163.913333</td>\n",
       "    </tr>\n",
       "    <tr>\n",
       "      <td>1</td>\n",
       "      <td>CNN/CNN_v4/weights/cnn_v4_1e_6_0_0.2</td>\n",
       "      <td>0.000000</td>\n",
       "      <td>368.940000</td>\n",
       "      <td>136163.913333</td>\n",
       "    </tr>\n",
       "    <tr>\n",
       "      <td>2</td>\n",
       "      <td>CNN/CNN_v4/weights/cnn_v4_1e_6_0_0.30000000000...</td>\n",
       "      <td>0.000000</td>\n",
       "      <td>368.916667</td>\n",
       "      <td>136146.856667</td>\n",
       "    </tr>\n",
       "    <tr>\n",
       "      <td>3</td>\n",
       "      <td>CNN/CNN_v4/weights/cnn_v4_1e_6_0_0.4</td>\n",
       "      <td>0.000000</td>\n",
       "      <td>129.936667</td>\n",
       "      <td>17296.410000</td>\n",
       "    </tr>\n",
       "    <tr>\n",
       "      <td>4</td>\n",
       "      <td>CNN/CNN_v4/weights/cnn_v4_1e_6_0_0.5</td>\n",
       "      <td>1.299065</td>\n",
       "      <td>30.670000</td>\n",
       "      <td>987.616667</td>\n",
       "    </tr>\n",
       "    <tr>\n",
       "      <td>...</td>\n",
       "      <td>...</td>\n",
       "      <td>...</td>\n",
       "      <td>...</td>\n",
       "      <td>...</td>\n",
       "    </tr>\n",
       "    <tr>\n",
       "      <td>265</td>\n",
       "      <td>CNN/CNN_v4/weights/cnn_v4_1e_6_29_0.5</td>\n",
       "      <td>0.000000</td>\n",
       "      <td>212.473333</td>\n",
       "      <td>45428.113333</td>\n",
       "    </tr>\n",
       "    <tr>\n",
       "      <td>266</td>\n",
       "      <td>CNN/CNN_v4/weights/cnn_v4_1e_6_29_0.6000000000...</td>\n",
       "      <td>0.000000</td>\n",
       "      <td>100.106667</td>\n",
       "      <td>10191.973333</td>\n",
       "    </tr>\n",
       "    <tr>\n",
       "      <td>267</td>\n",
       "      <td>CNN/CNN_v4/weights/cnn_v4_1e_6_29_0.7000000000...</td>\n",
       "      <td>3.884015</td>\n",
       "      <td>29.913333</td>\n",
       "      <td>943.080000</td>\n",
       "    </tr>\n",
       "    <tr>\n",
       "      <td>268</td>\n",
       "      <td>CNN/CNN_v4/weights/cnn_v4_1e_6_29_0.8</td>\n",
       "      <td>0.124038</td>\n",
       "      <td>31.026667</td>\n",
       "      <td>1010.093333</td>\n",
       "    </tr>\n",
       "    <tr>\n",
       "      <td>269</td>\n",
       "      <td>CNN/CNN_v4/weights/cnn_v4_1e_6_29_0.9</td>\n",
       "      <td>0.000000</td>\n",
       "      <td>31.060000</td>\n",
       "      <td>1011.913333</td>\n",
       "    </tr>\n",
       "  </tbody>\n",
       "</table>\n",
       "<p>270 rows × 4 columns</p>\n",
       "</div>"
      ],
      "text/plain": [
       "                                                 model  accuracy         mae  \\\n",
       "0                 CNN/CNN_v4/weights/cnn_v4_1e_6_0_0.1  0.000000  368.940000   \n",
       "1                 CNN/CNN_v4/weights/cnn_v4_1e_6_0_0.2  0.000000  368.940000   \n",
       "2    CNN/CNN_v4/weights/cnn_v4_1e_6_0_0.30000000000...  0.000000  368.916667   \n",
       "3                 CNN/CNN_v4/weights/cnn_v4_1e_6_0_0.4  0.000000  129.936667   \n",
       "4                 CNN/CNN_v4/weights/cnn_v4_1e_6_0_0.5  1.299065   30.670000   \n",
       "..                                                 ...       ...         ...   \n",
       "265              CNN/CNN_v4/weights/cnn_v4_1e_6_29_0.5  0.000000  212.473333   \n",
       "266  CNN/CNN_v4/weights/cnn_v4_1e_6_29_0.6000000000...  0.000000  100.106667   \n",
       "267  CNN/CNN_v4/weights/cnn_v4_1e_6_29_0.7000000000...  3.884015   29.913333   \n",
       "268              CNN/CNN_v4/weights/cnn_v4_1e_6_29_0.8  0.124038   31.026667   \n",
       "269              CNN/CNN_v4/weights/cnn_v4_1e_6_29_0.9  0.000000   31.060000   \n",
       "\n",
       "               mse  \n",
       "0    136163.913333  \n",
       "1    136163.913333  \n",
       "2    136146.856667  \n",
       "3     17296.410000  \n",
       "4       987.616667  \n",
       "..             ...  \n",
       "265   45428.113333  \n",
       "266   10191.973333  \n",
       "267     943.080000  \n",
       "268    1010.093333  \n",
       "269    1011.913333  \n",
       "\n",
       "[270 rows x 4 columns]"
      ]
     },
     "execution_count": 12,
     "metadata": {},
     "output_type": "execute_result"
    }
   ],
   "source": [
    "frame = pd.DataFrame(mae_and_mse, columns=[\"model\", \"accuracy\", \"mae\", \"mse\"])\n",
    "frame"
   ]
  },
  {
   "cell_type": "code",
   "execution_count": 13,
   "metadata": {},
   "outputs": [
    {
     "data": {
      "text/html": [
       "<div>\n",
       "<style scoped>\n",
       "    .dataframe tbody tr th:only-of-type {\n",
       "        vertical-align: middle;\n",
       "    }\n",
       "\n",
       "    .dataframe tbody tr th {\n",
       "        vertical-align: top;\n",
       "    }\n",
       "\n",
       "    .dataframe thead th {\n",
       "        text-align: right;\n",
       "    }\n",
       "</style>\n",
       "<table border=\"1\" class=\"dataframe\">\n",
       "  <thead>\n",
       "    <tr style=\"text-align: right;\">\n",
       "      <th></th>\n",
       "      <th>model</th>\n",
       "      <th>accuracy</th>\n",
       "      <th>mae</th>\n",
       "      <th>mse</th>\n",
       "    </tr>\n",
       "  </thead>\n",
       "  <tbody>\n",
       "    <tr>\n",
       "      <td>14</td>\n",
       "      <td>CNN/CNN_v4/weights/cnn_v4_1e_6_1_0.60000000000...</td>\n",
       "      <td>67.566327</td>\n",
       "      <td>10.756667</td>\n",
       "      <td>161.55</td>\n",
       "    </tr>\n",
       "  </tbody>\n",
       "</table>\n",
       "</div>"
      ],
      "text/plain": [
       "                                                model   accuracy        mae  \\\n",
       "14  CNN/CNN_v4/weights/cnn_v4_1e_6_1_0.60000000000...  67.566327  10.756667   \n",
       "\n",
       "       mse  \n",
       "14  161.55  "
      ]
     },
     "execution_count": 13,
     "metadata": {},
     "output_type": "execute_result"
    }
   ],
   "source": [
    "frame.loc[frame.mae == frame.mae.min()]"
   ]
  },
  {
   "cell_type": "code",
   "execution_count": 14,
   "metadata": {},
   "outputs": [
    {
     "data": {
      "text/html": [
       "<div>\n",
       "<style scoped>\n",
       "    .dataframe tbody tr th:only-of-type {\n",
       "        vertical-align: middle;\n",
       "    }\n",
       "\n",
       "    .dataframe tbody tr th {\n",
       "        vertical-align: top;\n",
       "    }\n",
       "\n",
       "    .dataframe thead th {\n",
       "        text-align: right;\n",
       "    }\n",
       "</style>\n",
       "<table border=\"1\" class=\"dataframe\">\n",
       "  <thead>\n",
       "    <tr style=\"text-align: right;\">\n",
       "      <th></th>\n",
       "      <th>model</th>\n",
       "      <th>accuracy</th>\n",
       "      <th>mae</th>\n",
       "      <th>mse</th>\n",
       "    </tr>\n",
       "  </thead>\n",
       "  <tbody>\n",
       "    <tr>\n",
       "      <td>14</td>\n",
       "      <td>CNN/CNN_v4/weights/cnn_v4_1e_6_1_0.60000000000...</td>\n",
       "      <td>67.566327</td>\n",
       "      <td>10.756667</td>\n",
       "      <td>161.55</td>\n",
       "    </tr>\n",
       "  </tbody>\n",
       "</table>\n",
       "</div>"
      ],
      "text/plain": [
       "                                                model   accuracy        mae  \\\n",
       "14  CNN/CNN_v4/weights/cnn_v4_1e_6_1_0.60000000000...  67.566327  10.756667   \n",
       "\n",
       "       mse  \n",
       "14  161.55  "
      ]
     },
     "execution_count": 14,
     "metadata": {},
     "output_type": "execute_result"
    }
   ],
   "source": [
    "frame.loc[frame.mse == frame.mse.min()]"
   ]
  },
  {
   "cell_type": "code",
   "execution_count": 15,
   "metadata": {},
   "outputs": [
    {
     "data": {
      "text/html": [
       "<div>\n",
       "<style scoped>\n",
       "    .dataframe tbody tr th:only-of-type {\n",
       "        vertical-align: middle;\n",
       "    }\n",
       "\n",
       "    .dataframe tbody tr th {\n",
       "        vertical-align: top;\n",
       "    }\n",
       "\n",
       "    .dataframe thead th {\n",
       "        text-align: right;\n",
       "    }\n",
       "</style>\n",
       "<table border=\"1\" class=\"dataframe\">\n",
       "  <thead>\n",
       "    <tr style=\"text-align: right;\">\n",
       "      <th></th>\n",
       "      <th>model</th>\n",
       "      <th>accuracy</th>\n",
       "      <th>mae</th>\n",
       "      <th>mse</th>\n",
       "    </tr>\n",
       "  </thead>\n",
       "  <tbody>\n",
       "    <tr>\n",
       "      <td>14</td>\n",
       "      <td>CNN/CNN_v4/weights/cnn_v4_1e_6_1_0.60000000000...</td>\n",
       "      <td>67.566327</td>\n",
       "      <td>10.756667</td>\n",
       "      <td>161.55</td>\n",
       "    </tr>\n",
       "  </tbody>\n",
       "</table>\n",
       "</div>"
      ],
      "text/plain": [
       "                                                model   accuracy        mae  \\\n",
       "14  CNN/CNN_v4/weights/cnn_v4_1e_6_1_0.60000000000...  67.566327  10.756667   \n",
       "\n",
       "       mse  \n",
       "14  161.55  "
      ]
     },
     "execution_count": 15,
     "metadata": {},
     "output_type": "execute_result"
    }
   ],
   "source": [
    "frame.loc[frame.accuracy == frame.accuracy.max()]"
   ]
  }
 ],
 "metadata": {
  "kernelspec": {
   "display_name": "Python 3",
   "language": "python",
   "name": "python3"
  },
  "language_info": {
   "codemirror_mode": {
    "name": "ipython",
    "version": 3
   },
   "file_extension": ".py",
   "mimetype": "text/x-python",
   "name": "python",
   "nbconvert_exporter": "python",
   "pygments_lexer": "ipython3",
   "version": "3.7.4"
  }
 },
 "nbformat": 4,
 "nbformat_minor": 4
}
