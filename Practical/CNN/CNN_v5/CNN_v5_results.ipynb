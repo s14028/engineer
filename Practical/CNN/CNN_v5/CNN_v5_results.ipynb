{
 "cells": [
  {
   "cell_type": "code",
   "execution_count": 1,
   "metadata": {},
   "outputs": [
    {
     "name": "stdout",
     "output_type": "stream",
     "text": [
      "/home/PJWSTK/s14028/engineer/Practical\n"
     ]
    }
   ],
   "source": [
    "%cd ../../"
   ]
  },
  {
   "cell_type": "code",
   "execution_count": 2,
   "metadata": {},
   "outputs": [
    {
     "name": "stderr",
     "output_type": "stream",
     "text": [
      "Using TensorFlow backend.\n"
     ]
    }
   ],
   "source": [
    "import os\n",
    "\n",
    "import pandas as pd\n",
    "import keras\n",
    "import scipy.io as mat\n",
    "\n",
    "from common import *\n",
    "from augmentation import add_pmap\n",
    "from testing import test_model\n",
    "from testing import best_cop_diff\n",
    "from testing import mse\n",
    "from testing import mae\n",
    "\n",
    "from CNN.CNN_v5 import CNN_v5"
   ]
  },
  {
   "cell_type": "code",
   "execution_count": 3,
   "metadata": {},
   "outputs": [],
   "source": [
    "perspective = mat.loadmat(\"mall_dataset/perspective_roi.mat\")[\"pMapN\"]\n",
    "\n",
    "perspective /= np.min(perspective)\n",
    "perspective = np.round(perspective).astype(np.uint8)\n",
    "\n",
    "train, test = data_sets()\n",
    "image_tensors = train[0], test[0]\n",
    "person_coo_tensors = train[1], test[1]\n",
    "count_matrix = train[2], test[2]\n",
    "\n",
    "image_train, image_test = image_tensors\n",
    "person_coo_train, person_coo_test = person_coo_tensors\n",
    "count_train, count_test = count_matrix\n",
    "count_train = count_train.astype(np.uint16)\n",
    "count_test = count_test.astype(np.uint16)\n",
    "\n",
    "image_train = add_pmap(image_train, perspective)\n",
    "image_test = add_pmap(image_test, perspective)"
   ]
  },
  {
   "cell_type": "code",
   "execution_count": 4,
   "metadata": {},
   "outputs": [],
   "source": [
    "cnn = CNN_v5((480, 640, 4), split_into_parts=20)\n",
    "\n",
    "images = cnn._prepare_images(image_test)\n",
    "anwsers = cnn._prepare_anwsers(person_coo_test)"
   ]
  },
  {
   "cell_type": "code",
   "execution_count": 5,
   "metadata": {},
   "outputs": [],
   "source": [
    "cop = np.linspace(0, 1, 11)[1:-1]"
   ]
  },
  {
   "cell_type": "code",
   "execution_count": 6,
   "metadata": {},
   "outputs": [],
   "source": [
    "prefix = \"CNN/CNN_v5/weights/\"\n",
    "\n",
    "def get_weights_paths(prefix):\n",
    "    for directory, subdirectories, files in os.walk(prefix):\n",
    "        yield from (os.path.join(directory, file) for file in files)\n",
    "\n",
    "model_names = get_weights_paths(prefix)\n",
    "model_names = list(model_names)"
   ]
  },
  {
   "cell_type": "code",
   "execution_count": 8,
   "metadata": {},
   "outputs": [],
   "source": [
    "models = [CNN_v5((480, 640, 4), split_into_parts=20) for i in range(len(model_names))]"
   ]
  },
  {
   "cell_type": "code",
   "execution_count": 9,
   "metadata": {},
   "outputs": [
    {
     "name": "stdout",
     "output_type": "stream",
     "text": [
      "Epoch 1/1\n",
      "1/1 [==============================] - 2s 2s/step - loss: 0.7102 - accuracy: 1.0000\n",
      "Epoch 1/1\n",
      "1/1 [==============================] - 1s 897ms/step - loss: 0.7167 - accuracy: 1.0000\n",
      "Epoch 1/1\n",
      "1/1 [==============================] - 1s 840ms/step - loss: 0.7141 - accuracy: 1.0000\n",
      "Epoch 1/1\n",
      "1/1 [==============================] - 1s 1s/step - loss: 0.7133 - accuracy: 1.0000\n",
      "Epoch 1/1\n",
      "1/1 [==============================] - 1s 839ms/step - loss: 0.7203 - accuracy: 1.0000\n",
      "Epoch 1/1\n",
      "1/1 [==============================] - 1s 836ms/step - loss: 0.7153 - accuracy: 1.0000\n",
      "Epoch 1/1\n",
      "1/1 [==============================] - 1s 875ms/step - loss: 0.7148 - accuracy: 1.0000\n",
      "Epoch 1/1\n",
      "1/1 [==============================] - 1s 1s/step - loss: 0.7116 - accuracy: 1.0000\n",
      "Epoch 1/1\n",
      "1/1 [==============================] - 1s 853ms/step - loss: 0.7146 - accuracy: 1.0000\n",
      "Epoch 1/1\n",
      "1/1 [==============================] - 1s 854ms/step - loss: 0.7123 - accuracy: 1.0000\n",
      "Epoch 1/1\n",
      "1/1 [==============================] - 1s 856ms/step - loss: 0.7136 - accuracy: 1.0000\n",
      "Epoch 1/1\n",
      "1/1 [==============================] - 1s 849ms/step - loss: 0.7149 - accuracy: 1.0000\n",
      "Epoch 1/1\n",
      "1/1 [==============================] - 1s 857ms/step - loss: 0.7169 - accuracy: 1.0000\n",
      "Epoch 1/1\n",
      "1/1 [==============================] - 1s 856ms/step - loss: 0.7150 - accuracy: 1.0000\n",
      "Epoch 1/1\n",
      "1/1 [==============================] - 1s 849ms/step - loss: 0.7126 - accuracy: 1.0000\n"
     ]
    }
   ],
   "source": [
    "results = {}\n",
    "\n",
    "for model_name, model in zip(model_names, models):\n",
    "  model.def_model()\n",
    "  model.model.fit(images[:1], anwsers[:1])\n",
    "  \n",
    "  model.model = keras.utils.multi_gpu_model(model.model, gpus=2, cpu_merge=False)\n",
    "  model.model.compile(loss=\"binary_crossentropy\", optimizer=\"adam\", metrics=[\"accuracy\"])\n",
    "  \n",
    "  model.model.load_weights(model_name)\n",
    "  \n",
    "  results[model_name] = test_model(model=model, images=image_test, counts=count_test, cut_of_points=cop)"
   ]
  },
  {
   "cell_type": "code",
   "execution_count": 10,
   "metadata": {},
   "outputs": [],
   "source": [
    "def as_rows(results):\n",
    "    for name, cut_off_point_to_accuracy_with_difference in results.items():\n",
    "        yield from ((f\"{name}_{cut_off_point}\", accuracy, counts - count_test) for cut_off_point, (accuracy, counts) in cut_off_point_to_accuracy_with_difference.items())\n",
    "\n",
    "rows = as_rows(results)\n",
    "rows = list(rows)"
   ]
  },
  {
   "cell_type": "code",
   "execution_count": 11,
   "metadata": {},
   "outputs": [],
   "source": [
    "def calculate_mae_and_mse(rows):\n",
    "    for *attributes, difference in rows:\n",
    "        difference_mae = mae(difference)\n",
    "        difference_mse = mse(difference)\n",
    "        \n",
    "        yield (*attributes, difference_mae, difference_mse)\n",
    "\n",
    "mae_and_mse = calculate_mae_and_mse(rows)\n",
    "mae_and_mse = list(mae_and_mse)"
   ]
  },
  {
   "cell_type": "code",
   "execution_count": 12,
   "metadata": {},
   "outputs": [
    {
     "data": {
      "text/html": [
       "<div>\n",
       "<style scoped>\n",
       "    .dataframe tbody tr th:only-of-type {\n",
       "        vertical-align: middle;\n",
       "    }\n",
       "\n",
       "    .dataframe tbody tr th {\n",
       "        vertical-align: top;\n",
       "    }\n",
       "\n",
       "    .dataframe thead th {\n",
       "        text-align: right;\n",
       "    }\n",
       "</style>\n",
       "<table border=\"1\" class=\"dataframe\">\n",
       "  <thead>\n",
       "    <tr style=\"text-align: right;\">\n",
       "      <th></th>\n",
       "      <th>model</th>\n",
       "      <th>accuracy</th>\n",
       "      <th>mae</th>\n",
       "      <th>mse</th>\n",
       "    </tr>\n",
       "  </thead>\n",
       "  <tbody>\n",
       "    <tr>\n",
       "      <td>0</td>\n",
       "      <td>CNN/CNN_v5/weights/cnn_v5_1e_6_0_0.1</td>\n",
       "      <td>0.000000</td>\n",
       "      <td>238.723333</td>\n",
       "      <td>57412.176667</td>\n",
       "    </tr>\n",
       "    <tr>\n",
       "      <td>1</td>\n",
       "      <td>CNN/CNN_v5/weights/cnn_v5_1e_6_0_0.2</td>\n",
       "      <td>0.000000</td>\n",
       "      <td>159.493333</td>\n",
       "      <td>25710.306667</td>\n",
       "    </tr>\n",
       "    <tr>\n",
       "      <td>2</td>\n",
       "      <td>CNN/CNN_v5/weights/cnn_v5_1e_6_0_0.30000000000...</td>\n",
       "      <td>0.000000</td>\n",
       "      <td>114.333333</td>\n",
       "      <td>13269.140000</td>\n",
       "    </tr>\n",
       "    <tr>\n",
       "      <td>3</td>\n",
       "      <td>CNN/CNN_v5/weights/cnn_v5_1e_6_0_0.4</td>\n",
       "      <td>0.000000</td>\n",
       "      <td>79.676667</td>\n",
       "      <td>6494.436667</td>\n",
       "    </tr>\n",
       "    <tr>\n",
       "      <td>4</td>\n",
       "      <td>CNN/CNN_v5/weights/cnn_v5_1e_6_0_0.5</td>\n",
       "      <td>0.275037</td>\n",
       "      <td>50.010000</td>\n",
       "      <td>2595.063333</td>\n",
       "    </tr>\n",
       "    <tr>\n",
       "      <td>...</td>\n",
       "      <td>...</td>\n",
       "      <td>...</td>\n",
       "      <td>...</td>\n",
       "      <td>...</td>\n",
       "    </tr>\n",
       "    <tr>\n",
       "      <td>130</td>\n",
       "      <td>CNN/CNN_v5/weights/cnn_v5_1e_6_14_0.5</td>\n",
       "      <td>79.874727</td>\n",
       "      <td>6.046667</td>\n",
       "      <td>56.200000</td>\n",
       "    </tr>\n",
       "    <tr>\n",
       "      <td>131</td>\n",
       "      <td>CNN/CNN_v5/weights/cnn_v5_1e_6_14_0.6000000000...</td>\n",
       "      <td>79.226772</td>\n",
       "      <td>6.523333</td>\n",
       "      <td>58.963333</td>\n",
       "    </tr>\n",
       "    <tr>\n",
       "      <td>132</td>\n",
       "      <td>CNN/CNN_v5/weights/cnn_v5_1e_6_14_0.7000000000...</td>\n",
       "      <td>50.996792</td>\n",
       "      <td>15.296667</td>\n",
       "      <td>260.956667</td>\n",
       "    </tr>\n",
       "    <tr>\n",
       "      <td>133</td>\n",
       "      <td>CNN/CNN_v5/weights/cnn_v5_1e_6_14_0.8</td>\n",
       "      <td>27.698580</td>\n",
       "      <td>22.556667</td>\n",
       "      <td>545.616667</td>\n",
       "    </tr>\n",
       "    <tr>\n",
       "      <td>134</td>\n",
       "      <td>CNN/CNN_v5/weights/cnn_v5_1e_6_14_0.9</td>\n",
       "      <td>9.362356</td>\n",
       "      <td>28.196667</td>\n",
       "      <td>839.456667</td>\n",
       "    </tr>\n",
       "  </tbody>\n",
       "</table>\n",
       "<p>135 rows × 4 columns</p>\n",
       "</div>"
      ],
      "text/plain": [
       "                                                 model   accuracy         mae  \\\n",
       "0                 CNN/CNN_v5/weights/cnn_v5_1e_6_0_0.1   0.000000  238.723333   \n",
       "1                 CNN/CNN_v5/weights/cnn_v5_1e_6_0_0.2   0.000000  159.493333   \n",
       "2    CNN/CNN_v5/weights/cnn_v5_1e_6_0_0.30000000000...   0.000000  114.333333   \n",
       "3                 CNN/CNN_v5/weights/cnn_v5_1e_6_0_0.4   0.000000   79.676667   \n",
       "4                 CNN/CNN_v5/weights/cnn_v5_1e_6_0_0.5   0.275037   50.010000   \n",
       "..                                                 ...        ...         ...   \n",
       "130              CNN/CNN_v5/weights/cnn_v5_1e_6_14_0.5  79.874727    6.046667   \n",
       "131  CNN/CNN_v5/weights/cnn_v5_1e_6_14_0.6000000000...  79.226772    6.523333   \n",
       "132  CNN/CNN_v5/weights/cnn_v5_1e_6_14_0.7000000000...  50.996792   15.296667   \n",
       "133              CNN/CNN_v5/weights/cnn_v5_1e_6_14_0.8  27.698580   22.556667   \n",
       "134              CNN/CNN_v5/weights/cnn_v5_1e_6_14_0.9   9.362356   28.196667   \n",
       "\n",
       "              mse  \n",
       "0    57412.176667  \n",
       "1    25710.306667  \n",
       "2    13269.140000  \n",
       "3     6494.436667  \n",
       "4     2595.063333  \n",
       "..            ...  \n",
       "130     56.200000  \n",
       "131     58.963333  \n",
       "132    260.956667  \n",
       "133    545.616667  \n",
       "134    839.456667  \n",
       "\n",
       "[135 rows x 4 columns]"
      ]
     },
     "execution_count": 12,
     "metadata": {},
     "output_type": "execute_result"
    }
   ],
   "source": [
    "frame = pd.DataFrame(mae_and_mse, columns=[\"model\", \"accuracy\", \"mae\", \"mse\"])\n",
    "frame"
   ]
  },
  {
   "cell_type": "code",
   "execution_count": 13,
   "metadata": {},
   "outputs": [
    {
     "data": {
      "text/html": [
       "<div>\n",
       "<style scoped>\n",
       "    .dataframe tbody tr th:only-of-type {\n",
       "        vertical-align: middle;\n",
       "    }\n",
       "\n",
       "    .dataframe tbody tr th {\n",
       "        vertical-align: top;\n",
       "    }\n",
       "\n",
       "    .dataframe thead th {\n",
       "        text-align: right;\n",
       "    }\n",
       "</style>\n",
       "<table border=\"1\" class=\"dataframe\">\n",
       "  <thead>\n",
       "    <tr style=\"text-align: right;\">\n",
       "      <th></th>\n",
       "      <th>model</th>\n",
       "      <th>accuracy</th>\n",
       "      <th>mae</th>\n",
       "      <th>mse</th>\n",
       "    </tr>\n",
       "  </thead>\n",
       "  <tbody>\n",
       "    <tr>\n",
       "      <td>95</td>\n",
       "      <td>CNN/CNN_v5/weights/cnn_v5_1e_6_10_0.6000000000...</td>\n",
       "      <td>87.932202</td>\n",
       "      <td>3.64</td>\n",
       "      <td>21.106667</td>\n",
       "    </tr>\n",
       "  </tbody>\n",
       "</table>\n",
       "</div>"
      ],
      "text/plain": [
       "                                                model   accuracy   mae  \\\n",
       "95  CNN/CNN_v5/weights/cnn_v5_1e_6_10_0.6000000000...  87.932202  3.64   \n",
       "\n",
       "          mse  \n",
       "95  21.106667  "
      ]
     },
     "execution_count": 13,
     "metadata": {},
     "output_type": "execute_result"
    }
   ],
   "source": [
    "frame.loc[frame.mae == frame.mae.min()]"
   ]
  },
  {
   "cell_type": "code",
   "execution_count": 14,
   "metadata": {},
   "outputs": [
    {
     "data": {
      "text/html": [
       "<div>\n",
       "<style scoped>\n",
       "    .dataframe tbody tr th:only-of-type {\n",
       "        vertical-align: middle;\n",
       "    }\n",
       "\n",
       "    .dataframe tbody tr th {\n",
       "        vertical-align: top;\n",
       "    }\n",
       "\n",
       "    .dataframe thead th {\n",
       "        text-align: right;\n",
       "    }\n",
       "</style>\n",
       "<table border=\"1\" class=\"dataframe\">\n",
       "  <thead>\n",
       "    <tr style=\"text-align: right;\">\n",
       "      <th></th>\n",
       "      <th>model</th>\n",
       "      <th>accuracy</th>\n",
       "      <th>mae</th>\n",
       "      <th>mse</th>\n",
       "    </tr>\n",
       "  </thead>\n",
       "  <tbody>\n",
       "    <tr>\n",
       "      <td>95</td>\n",
       "      <td>CNN/CNN_v5/weights/cnn_v5_1e_6_10_0.6000000000...</td>\n",
       "      <td>87.932202</td>\n",
       "      <td>3.64</td>\n",
       "      <td>21.106667</td>\n",
       "    </tr>\n",
       "  </tbody>\n",
       "</table>\n",
       "</div>"
      ],
      "text/plain": [
       "                                                model   accuracy   mae  \\\n",
       "95  CNN/CNN_v5/weights/cnn_v5_1e_6_10_0.6000000000...  87.932202  3.64   \n",
       "\n",
       "          mse  \n",
       "95  21.106667  "
      ]
     },
     "execution_count": 14,
     "metadata": {},
     "output_type": "execute_result"
    }
   ],
   "source": [
    "frame.loc[frame.mse == frame.mse.min()]"
   ]
  },
  {
   "cell_type": "code",
   "execution_count": 15,
   "metadata": {},
   "outputs": [
    {
     "data": {
      "text/html": [
       "<div>\n",
       "<style scoped>\n",
       "    .dataframe tbody tr th:only-of-type {\n",
       "        vertical-align: middle;\n",
       "    }\n",
       "\n",
       "    .dataframe tbody tr th {\n",
       "        vertical-align: top;\n",
       "    }\n",
       "\n",
       "    .dataframe thead th {\n",
       "        text-align: right;\n",
       "    }\n",
       "</style>\n",
       "<table border=\"1\" class=\"dataframe\">\n",
       "  <thead>\n",
       "    <tr style=\"text-align: right;\">\n",
       "      <th></th>\n",
       "      <th>model</th>\n",
       "      <th>accuracy</th>\n",
       "      <th>mae</th>\n",
       "      <th>mse</th>\n",
       "    </tr>\n",
       "  </thead>\n",
       "  <tbody>\n",
       "    <tr>\n",
       "      <td>95</td>\n",
       "      <td>CNN/CNN_v5/weights/cnn_v5_1e_6_10_0.6000000000...</td>\n",
       "      <td>87.932202</td>\n",
       "      <td>3.64</td>\n",
       "      <td>21.106667</td>\n",
       "    </tr>\n",
       "  </tbody>\n",
       "</table>\n",
       "</div>"
      ],
      "text/plain": [
       "                                                model   accuracy   mae  \\\n",
       "95  CNN/CNN_v5/weights/cnn_v5_1e_6_10_0.6000000000...  87.932202  3.64   \n",
       "\n",
       "          mse  \n",
       "95  21.106667  "
      ]
     },
     "execution_count": 15,
     "metadata": {},
     "output_type": "execute_result"
    }
   ],
   "source": [
    "frame.loc[frame.accuracy == frame.accuracy.max()]"
   ]
  }
 ],
 "metadata": {
  "kernelspec": {
   "display_name": "Python 3",
   "language": "python",
   "name": "python3"
  },
  "language_info": {
   "codemirror_mode": {
    "name": "ipython",
    "version": 3
   },
   "file_extension": ".py",
   "mimetype": "text/x-python",
   "name": "python",
   "nbconvert_exporter": "python",
   "pygments_lexer": "ipython3",
   "version": "3.7.4"
  }
 },
 "nbformat": 4,
 "nbformat_minor": 4
}
