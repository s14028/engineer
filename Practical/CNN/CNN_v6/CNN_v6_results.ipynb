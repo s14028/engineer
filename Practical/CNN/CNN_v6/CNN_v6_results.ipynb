{
 "cells": [
  {
   "cell_type": "code",
   "execution_count": 1,
   "metadata": {},
   "outputs": [
    {
     "name": "stdout",
     "output_type": "stream",
     "text": [
      "/home/PJWSTK/s14028/engineer/Practical\n"
     ]
    }
   ],
   "source": [
    "%cd ../../"
   ]
  },
  {
   "cell_type": "code",
   "execution_count": 18,
   "metadata": {},
   "outputs": [],
   "source": [
    "import os\n",
    "\n",
    "import pandas as pd\n",
    "import keras\n",
    "import scipy.io as mat\n",
    "\n",
    "from common import *\n",
    "from augmentation import add_pmap\n",
    "from testing import test_model\n",
    "from testing import best_cop_diff\n",
    "from testing import mse\n",
    "from testing import mae\n",
    "\n",
    "from CNN.CNN_v6 import CNN_v6"
   ]
  },
  {
   "cell_type": "code",
   "execution_count": 3,
   "metadata": {},
   "outputs": [],
   "source": [
    "perspective = mat.loadmat(\"mall_dataset/perspective_roi.mat\")[\"pMapN\"]\n",
    "\n",
    "perspective /= np.min(perspective)\n",
    "perspective = np.round(perspective).astype(np.uint8)\n",
    "\n",
    "train, test = data_sets()\n",
    "image_tensors = train[0], test[0]\n",
    "person_coo_tensors = train[1], test[1]\n",
    "count_matrix = train[2], test[2]\n",
    "\n",
    "image_train, image_test = image_tensors\n",
    "person_coo_train, person_coo_test = person_coo_tensors\n",
    "count_train, count_test = count_matrix\n",
    "count_train = count_train.astype(np.uint16)\n",
    "count_test = count_test.astype(np.uint16)\n",
    "\n",
    "image_train = add_pmap(image_train, perspective)\n",
    "image_test = add_pmap(image_test, perspective)"
   ]
  },
  {
   "cell_type": "code",
   "execution_count": 4,
   "metadata": {},
   "outputs": [],
   "source": [
    "cnn = CNN_v6((480, 640, 4), split_into_parts=20)\n",
    "\n",
    "images = cnn._prepare_images(image_test)\n",
    "anwsers = cnn._prepare_anwsers(person_coo_test)"
   ]
  },
  {
   "cell_type": "code",
   "execution_count": 5,
   "metadata": {},
   "outputs": [],
   "source": [
    "cop = np.linspace(0, 1, 11)[1:-1]"
   ]
  },
  {
   "cell_type": "code",
   "execution_count": 6,
   "metadata": {},
   "outputs": [],
   "source": [
    "prefix = \"CNN/CNN_v6/weights/\"\n",
    "\n",
    "def get_weights_paths(prefix):\n",
    "    for directory, subdirectories, files in os.walk(prefix):\n",
    "        yield from (os.path.join(directory, file) for file in files)\n",
    "\n",
    "model_names = get_weights_paths(prefix)\n",
    "model_names = list(model_names)"
   ]
  },
  {
   "cell_type": "code",
   "execution_count": 7,
   "metadata": {},
   "outputs": [],
   "source": [
    "models = [CNN_v6((480, 640, 4), split_into_parts=20) for i in range(len(model_names))]"
   ]
  },
  {
   "cell_type": "code",
   "execution_count": 8,
   "metadata": {},
   "outputs": [
    {
     "name": "stdout",
     "output_type": "stream",
     "text": [
      "Epoch 1/1\n",
      "1/1 [==============================] - 2s 2s/step - loss: 0.8961 - accuracy: 1.0000\n",
      "Epoch 1/1\n",
      "1/1 [==============================] - 1s 1s/step - loss: 0.8639 - accuracy: 1.0000\n",
      "Epoch 1/1\n",
      "1/1 [==============================] - 1s 859ms/step - loss: 0.9138 - accuracy: 1.0000\n",
      "Epoch 1/1\n",
      "1/1 [==============================] - 1s 853ms/step - loss: 0.9326 - accuracy: 1.0000\n",
      "Epoch 1/1\n",
      "1/1 [==============================] - 1s 1s/step - loss: 0.9078 - accuracy: 1.0000\n",
      "Epoch 1/1\n",
      "1/1 [==============================] - 1s 849ms/step - loss: 0.8886 - accuracy: 1.0000\n",
      "Epoch 1/1\n",
      "1/1 [==============================] - 1s 1s/step - loss: 0.9281 - accuracy: 1.0000\n",
      "Epoch 1/1\n",
      "1/1 [==============================] - 1s 1s/step - loss: 0.9036 - accuracy: 1.0000\n",
      "Epoch 1/1\n",
      "1/1 [==============================] - 1s 851ms/step - loss: 0.8626 - accuracy: 1.0000\n",
      "Epoch 1/1\n",
      "1/1 [==============================] - 1s 1s/step - loss: 0.8671 - accuracy: 1.0000\n",
      "Epoch 1/1\n",
      "1/1 [==============================] - 1s 851ms/step - loss: 0.9321 - accuracy: 1.0000\n",
      "Epoch 1/1\n",
      "1/1 [==============================] - 1s 853ms/step - loss: 0.8944 - accuracy: 1.0000\n",
      "Epoch 1/1\n",
      "1/1 [==============================] - 1s 842ms/step - loss: 0.8752 - accuracy: 1.0000\n",
      "Epoch 1/1\n",
      "1/1 [==============================] - 1s 859ms/step - loss: 0.8765 - accuracy: 1.0000\n",
      "Epoch 1/1\n",
      "1/1 [==============================] - 1s 857ms/step - loss: 0.9029 - accuracy: 1.0000\n"
     ]
    }
   ],
   "source": [
    "results = {}\n",
    "\n",
    "for model_name, model in zip(model_names, models):\n",
    "  model.def_model()\n",
    "  model.model.fit(images[:1], anwsers[:1])\n",
    "  \n",
    "  model.model = keras.utils.multi_gpu_model(model.model, gpus=2, cpu_merge=False)\n",
    "  model.model.compile(loss=\"binary_crossentropy\", optimizer=\"adam\", metrics=[\"accuracy\"])\n",
    "  \n",
    "  model.model.load_weights(model_name)\n",
    "  \n",
    "  results[model_name] = test_model(model=model, images=image_test, counts=count_test, cut_of_points=cop)"
   ]
  },
  {
   "cell_type": "code",
   "execution_count": 31,
   "metadata": {},
   "outputs": [],
   "source": [
    "def as_rows(results):\n",
    "    for name, cut_off_point_to_accuracy_with_difference in results.items():\n",
    "        yield from ((f\"{name}_{cut_off_point}\", accuracy, counts - count_test) for cut_off_point, (accuracy, counts) in cut_off_point_to_accuracy_with_difference.items())\n",
    "\n",
    "rows = as_rows(results)\n",
    "rows = list(rows)"
   ]
  },
  {
   "cell_type": "code",
   "execution_count": 32,
   "metadata": {},
   "outputs": [],
   "source": [
    "def calculate_mae_and_mse(rows):\n",
    "    for *attributes, difference in rows:\n",
    "        difference_mae = mae(difference)\n",
    "        difference_mse = mse(difference)\n",
    "        \n",
    "        yield (*attributes, difference_mae, difference_mse)\n",
    "\n",
    "mae_and_mse = calculate_mae_and_mse(rows)\n",
    "mae_and_mse = list(mae_and_mse)"
   ]
  },
  {
   "cell_type": "code",
   "execution_count": 33,
   "metadata": {},
   "outputs": [
    {
     "data": {
      "text/html": [
       "<div>\n",
       "<style scoped>\n",
       "    .dataframe tbody tr th:only-of-type {\n",
       "        vertical-align: middle;\n",
       "    }\n",
       "\n",
       "    .dataframe tbody tr th {\n",
       "        vertical-align: top;\n",
       "    }\n",
       "\n",
       "    .dataframe thead th {\n",
       "        text-align: right;\n",
       "    }\n",
       "</style>\n",
       "<table border=\"1\" class=\"dataframe\">\n",
       "  <thead>\n",
       "    <tr style=\"text-align: right;\">\n",
       "      <th></th>\n",
       "      <th>model</th>\n",
       "      <th>accuracy</th>\n",
       "      <th>mae</th>\n",
       "      <th>mse</th>\n",
       "    </tr>\n",
       "  </thead>\n",
       "  <tbody>\n",
       "    <tr>\n",
       "      <td>0</td>\n",
       "      <td>CNN/CNN_v6/weights/cnn_v6_1e_6_0_0.1</td>\n",
       "      <td>0.000000</td>\n",
       "      <td>274.373333</td>\n",
       "      <td>75488.640000</td>\n",
       "    </tr>\n",
       "    <tr>\n",
       "      <td>1</td>\n",
       "      <td>CNN/CNN_v6/weights/cnn_v6_1e_6_0_0.2</td>\n",
       "      <td>0.000000</td>\n",
       "      <td>162.770000</td>\n",
       "      <td>26715.516667</td>\n",
       "    </tr>\n",
       "    <tr>\n",
       "      <td>2</td>\n",
       "      <td>CNN/CNN_v6/weights/cnn_v6_1e_6_0_0.30000000000...</td>\n",
       "      <td>0.000000</td>\n",
       "      <td>90.633333</td>\n",
       "      <td>8356.240000</td>\n",
       "    </tr>\n",
       "    <tr>\n",
       "      <td>3</td>\n",
       "      <td>CNN/CNN_v6/weights/cnn_v6_1e_6_0_0.4</td>\n",
       "      <td>2.370590</td>\n",
       "      <td>41.763333</td>\n",
       "      <td>1824.843333</td>\n",
       "    </tr>\n",
       "    <tr>\n",
       "      <td>4</td>\n",
       "      <td>CNN/CNN_v6/weights/cnn_v6_1e_6_0_0.5</td>\n",
       "      <td>75.591116</td>\n",
       "      <td>7.030000</td>\n",
       "      <td>74.410000</td>\n",
       "    </tr>\n",
       "    <tr>\n",
       "      <td>...</td>\n",
       "      <td>...</td>\n",
       "      <td>...</td>\n",
       "      <td>...</td>\n",
       "      <td>...</td>\n",
       "    </tr>\n",
       "    <tr>\n",
       "      <td>130</td>\n",
       "      <td>CNN/CNN_v6/weights/cnn_v6_1e_6_14_0.5</td>\n",
       "      <td>19.588647</td>\n",
       "      <td>25.770000</td>\n",
       "      <td>729.243333</td>\n",
       "    </tr>\n",
       "    <tr>\n",
       "      <td>131</td>\n",
       "      <td>CNN/CNN_v6/weights/cnn_v6_1e_6_14_0.6000000000...</td>\n",
       "      <td>47.832949</td>\n",
       "      <td>15.970000</td>\n",
       "      <td>294.950000</td>\n",
       "    </tr>\n",
       "    <tr>\n",
       "      <td>132</td>\n",
       "      <td>CNN/CNN_v6/weights/cnn_v6_1e_6_14_0.7000000000...</td>\n",
       "      <td>87.340673</td>\n",
       "      <td>3.900000</td>\n",
       "      <td>24.186667</td>\n",
       "    </tr>\n",
       "    <tr>\n",
       "      <td>133</td>\n",
       "      <td>CNN/CNN_v6/weights/cnn_v6_1e_6_14_0.8</td>\n",
       "      <td>68.063846</td>\n",
       "      <td>10.006667</td>\n",
       "      <td>121.806667</td>\n",
       "    </tr>\n",
       "    <tr>\n",
       "      <td>134</td>\n",
       "      <td>CNN/CNN_v6/weights/cnn_v6_1e_6_14_0.9</td>\n",
       "      <td>36.239759</td>\n",
       "      <td>19.866667</td>\n",
       "      <td>425.520000</td>\n",
       "    </tr>\n",
       "  </tbody>\n",
       "</table>\n",
       "<p>135 rows × 4 columns</p>\n",
       "</div>"
      ],
      "text/plain": [
       "                                                 model   accuracy         mae  \\\n",
       "0                 CNN/CNN_v6/weights/cnn_v6_1e_6_0_0.1   0.000000  274.373333   \n",
       "1                 CNN/CNN_v6/weights/cnn_v6_1e_6_0_0.2   0.000000  162.770000   \n",
       "2    CNN/CNN_v6/weights/cnn_v6_1e_6_0_0.30000000000...   0.000000   90.633333   \n",
       "3                 CNN/CNN_v6/weights/cnn_v6_1e_6_0_0.4   2.370590   41.763333   \n",
       "4                 CNN/CNN_v6/weights/cnn_v6_1e_6_0_0.5  75.591116    7.030000   \n",
       "..                                                 ...        ...         ...   \n",
       "130              CNN/CNN_v6/weights/cnn_v6_1e_6_14_0.5  19.588647   25.770000   \n",
       "131  CNN/CNN_v6/weights/cnn_v6_1e_6_14_0.6000000000...  47.832949   15.970000   \n",
       "132  CNN/CNN_v6/weights/cnn_v6_1e_6_14_0.7000000000...  87.340673    3.900000   \n",
       "133              CNN/CNN_v6/weights/cnn_v6_1e_6_14_0.8  68.063846   10.006667   \n",
       "134              CNN/CNN_v6/weights/cnn_v6_1e_6_14_0.9  36.239759   19.866667   \n",
       "\n",
       "              mse  \n",
       "0    75488.640000  \n",
       "1    26715.516667  \n",
       "2     8356.240000  \n",
       "3     1824.843333  \n",
       "4       74.410000  \n",
       "..            ...  \n",
       "130    729.243333  \n",
       "131    294.950000  \n",
       "132     24.186667  \n",
       "133    121.806667  \n",
       "134    425.520000  \n",
       "\n",
       "[135 rows x 4 columns]"
      ]
     },
     "execution_count": 33,
     "metadata": {},
     "output_type": "execute_result"
    }
   ],
   "source": [
    "frame = pd.DataFrame(mae_and_mse, columns=[\"model\", \"accuracy\", \"mae\", \"mse\"])\n",
    "frame"
   ]
  },
  {
   "cell_type": "code",
   "execution_count": 34,
   "metadata": {},
   "outputs": [
    {
     "data": {
      "text/html": [
       "<div>\n",
       "<style scoped>\n",
       "    .dataframe tbody tr th:only-of-type {\n",
       "        vertical-align: middle;\n",
       "    }\n",
       "\n",
       "    .dataframe tbody tr th {\n",
       "        vertical-align: top;\n",
       "    }\n",
       "\n",
       "    .dataframe thead th {\n",
       "        text-align: right;\n",
       "    }\n",
       "</style>\n",
       "<table border=\"1\" class=\"dataframe\">\n",
       "  <thead>\n",
       "    <tr style=\"text-align: right;\">\n",
       "      <th></th>\n",
       "      <th>model</th>\n",
       "      <th>accuracy</th>\n",
       "      <th>mae</th>\n",
       "      <th>mse</th>\n",
       "    </tr>\n",
       "  </thead>\n",
       "  <tbody>\n",
       "    <tr>\n",
       "      <td>114</td>\n",
       "      <td>CNN/CNN_v6/weights/cnn_v6_1e_6_12_0.7000000000...</td>\n",
       "      <td>87.907471</td>\n",
       "      <td>3.69</td>\n",
       "      <td>21.663333</td>\n",
       "    </tr>\n",
       "  </tbody>\n",
       "</table>\n",
       "</div>"
      ],
      "text/plain": [
       "                                                 model   accuracy   mae  \\\n",
       "114  CNN/CNN_v6/weights/cnn_v6_1e_6_12_0.7000000000...  87.907471  3.69   \n",
       "\n",
       "           mse  \n",
       "114  21.663333  "
      ]
     },
     "execution_count": 34,
     "metadata": {},
     "output_type": "execute_result"
    }
   ],
   "source": [
    "frame.loc[frame.mae == frame.mae.min()]"
   ]
  },
  {
   "cell_type": "code",
   "execution_count": 35,
   "metadata": {},
   "outputs": [
    {
     "data": {
      "text/html": [
       "<div>\n",
       "<style scoped>\n",
       "    .dataframe tbody tr th:only-of-type {\n",
       "        vertical-align: middle;\n",
       "    }\n",
       "\n",
       "    .dataframe tbody tr th {\n",
       "        vertical-align: top;\n",
       "    }\n",
       "\n",
       "    .dataframe thead th {\n",
       "        text-align: right;\n",
       "    }\n",
       "</style>\n",
       "<table border=\"1\" class=\"dataframe\">\n",
       "  <thead>\n",
       "    <tr style=\"text-align: right;\">\n",
       "      <th></th>\n",
       "      <th>model</th>\n",
       "      <th>accuracy</th>\n",
       "      <th>mae</th>\n",
       "      <th>mse</th>\n",
       "    </tr>\n",
       "  </thead>\n",
       "  <tbody>\n",
       "    <tr>\n",
       "      <td>114</td>\n",
       "      <td>CNN/CNN_v6/weights/cnn_v6_1e_6_12_0.7000000000...</td>\n",
       "      <td>87.907471</td>\n",
       "      <td>3.69</td>\n",
       "      <td>21.663333</td>\n",
       "    </tr>\n",
       "  </tbody>\n",
       "</table>\n",
       "</div>"
      ],
      "text/plain": [
       "                                                 model   accuracy   mae  \\\n",
       "114  CNN/CNN_v6/weights/cnn_v6_1e_6_12_0.7000000000...  87.907471  3.69   \n",
       "\n",
       "           mse  \n",
       "114  21.663333  "
      ]
     },
     "execution_count": 35,
     "metadata": {},
     "output_type": "execute_result"
    }
   ],
   "source": [
    "frame.loc[frame.mse == frame.mse.min()]"
   ]
  },
  {
   "cell_type": "code",
   "execution_count": 36,
   "metadata": {},
   "outputs": [
    {
     "data": {
      "text/html": [
       "<div>\n",
       "<style scoped>\n",
       "    .dataframe tbody tr th:only-of-type {\n",
       "        vertical-align: middle;\n",
       "    }\n",
       "\n",
       "    .dataframe tbody tr th {\n",
       "        vertical-align: top;\n",
       "    }\n",
       "\n",
       "    .dataframe thead th {\n",
       "        text-align: right;\n",
       "    }\n",
       "</style>\n",
       "<table border=\"1\" class=\"dataframe\">\n",
       "  <thead>\n",
       "    <tr style=\"text-align: right;\">\n",
       "      <th></th>\n",
       "      <th>model</th>\n",
       "      <th>accuracy</th>\n",
       "      <th>mae</th>\n",
       "      <th>mse</th>\n",
       "    </tr>\n",
       "  </thead>\n",
       "  <tbody>\n",
       "    <tr>\n",
       "      <td>114</td>\n",
       "      <td>CNN/CNN_v6/weights/cnn_v6_1e_6_12_0.7000000000...</td>\n",
       "      <td>87.907471</td>\n",
       "      <td>3.69</td>\n",
       "      <td>21.663333</td>\n",
       "    </tr>\n",
       "  </tbody>\n",
       "</table>\n",
       "</div>"
      ],
      "text/plain": [
       "                                                 model   accuracy   mae  \\\n",
       "114  CNN/CNN_v6/weights/cnn_v6_1e_6_12_0.7000000000...  87.907471  3.69   \n",
       "\n",
       "           mse  \n",
       "114  21.663333  "
      ]
     },
     "execution_count": 36,
     "metadata": {},
     "output_type": "execute_result"
    }
   ],
   "source": [
    "frame.loc[frame.accuracy == frame.accuracy.max()]"
   ]
  }
 ],
 "metadata": {
  "kernelspec": {
   "display_name": "Python 3",
   "language": "python",
   "name": "python3"
  },
  "language_info": {
   "codemirror_mode": {
    "name": "ipython",
    "version": 3
   },
   "file_extension": ".py",
   "mimetype": "text/x-python",
   "name": "python",
   "nbconvert_exporter": "python",
   "pygments_lexer": "ipython3",
   "version": "3.7.4"
  }
 },
 "nbformat": 4,
 "nbformat_minor": 4
}
