{
 "cells": [
  {
   "cell_type": "code",
   "execution_count": 1,
   "metadata": {},
   "outputs": [
    {
     "name": "stdout",
     "output_type": "stream",
     "text": [
      "/home/PJWSTK/s14028/engineer/Practical\n"
     ]
    }
   ],
   "source": [
    "%cd ../../"
   ]
  },
  {
   "cell_type": "code",
   "execution_count": 2,
   "metadata": {},
   "outputs": [
    {
     "name": "stderr",
     "output_type": "stream",
     "text": [
      "Using TensorFlow backend.\n"
     ]
    }
   ],
   "source": [
    "import keras\n",
    "import scipy.io as mat\n",
    "\n",
    "from common import *\n",
    "from augmentation import add_pmap\n",
    "from augmentation import augmentation_data\n",
    "from augmentation import augment_data\n",
    "\n",
    "from CNN.CNN_v7 import CNN_v7"
   ]
  },
  {
   "cell_type": "code",
   "execution_count": 3,
   "metadata": {},
   "outputs": [],
   "source": [
    "perspective = mat.loadmat(\"mall_dataset/perspective_roi.mat\")[\"pMapN\"]\n",
    "\n",
    "perspective /= np.min(perspective)\n",
    "perspective = np.round(perspective).astype(np.uint8)\n",
    "\n",
    "train, test = data_sets()\n",
    "image_tensors = train[0], test[0]\n",
    "person_coo_tensors = train[1], test[1]\n",
    "count_matrix = train[2], test[2]\n",
    "\n",
    "image_train, image_test = image_tensors\n",
    "person_coo_train, person_coo_test = person_coo_tensors\n",
    "count_train, count_test = count_matrix\n",
    "count_train = count_train.astype(np.uint16)\n",
    "count_test = count_test.astype(np.uint16)\n",
    "\n",
    "image_train = add_pmap(image_train, perspective)\n",
    "image_test = add_pmap(image_test, perspective)"
   ]
  },
  {
   "cell_type": "code",
   "execution_count": 4,
   "metadata": {},
   "outputs": [
    {
     "data": {
      "text/plain": [
       "<keras.engine.sequential.Sequential at 0x7f8a48345dd0>"
      ]
     },
     "execution_count": 4,
     "metadata": {},
     "output_type": "execute_result"
    }
   ],
   "source": [
    "cnn_v7 = CNN_v7((480, 640, 4), split_into_parts=20)\n",
    "cnn_v7.def_model()"
   ]
  },
  {
   "cell_type": "code",
   "execution_count": 5,
   "metadata": {},
   "outputs": [],
   "source": [
    "images = cnn_v7._prepare_images(image_train)\n",
    "anwsers = cnn_v7._prepare_anwsers(person_coo_train)"
   ]
  },
  {
   "cell_type": "code",
   "execution_count": 6,
   "metadata": {},
   "outputs": [],
   "source": [
    "ones_count = (np.sum(anwsers == 1) * 0.25).astype(np.uint32)\n",
    "zeros_count = (ones_count / 0.25 * 0.75).astype(np.uint32)\n",
    "validation_length = (zeros_count + ones_count).astype(np.int32)\n",
    "\n",
    "val_indices = np.concatenate([np.where(anwsers == 0)[0][:zeros_count],\n",
    "                              np.where(anwsers == 1)[0][:ones_count]])"
   ]
  },
  {
   "cell_type": "code",
   "execution_count": 7,
   "metadata": {},
   "outputs": [],
   "source": [
    "anwsers[val_indices[zeros_count:]] = 0"
   ]
  },
  {
   "cell_type": "code",
   "execution_count": 8,
   "metadata": {},
   "outputs": [],
   "source": [
    "val_indices = -(images.shape[0] - val_indices)"
   ]
  },
  {
   "cell_type": "code",
   "execution_count": 9,
   "metadata": {},
   "outputs": [],
   "source": [
    "generator = keras.preprocessing.image.ImageDataGenerator(rotation_range=20)\n",
    "\n",
    "augmentation = augmentation_data(image_train, anwsers, 20)\n",
    "augmented_data = augment_data(generator, augmentation, images, anwsers)\n",
    "images, anwsers = augmented_data"
   ]
  },
  {
   "cell_type": "code",
   "execution_count": 10,
   "metadata": {},
   "outputs": [],
   "source": [
    "anwsers[val_indices[zeros_count:]] = 1\n",
    "\n",
    "images[-validation_length:], images[val_indices] = images[val_indices], images[-validation_length:]\n",
    "anwsers[-validation_length:], anwsers[val_indices] = anwsers[val_indices], anwsers[-validation_length:]"
   ]
  },
  {
   "cell_type": "code",
   "execution_count": 11,
   "metadata": {},
   "outputs": [],
   "source": [
    "parallel_model = keras.utils.multi_gpu_model(\n",
    "        cnn_v7.model,\n",
    "        gpus=2,\n",
    "        cpu_merge=False)\n",
    "parallel_model.compile(\n",
    "        loss=\"binary_crossentropy\", \n",
    "        optimizer=\"adam\", \n",
    "        metrics=[\"accuracy\"])"
   ]
  },
  {
   "cell_type": "code",
   "execution_count": 12,
   "metadata": {},
   "outputs": [],
   "source": [
    "path = \"CNN/CNN_v7/weights/cnn_v7_1e_6_{}\"\n",
    "\n",
    "class ModelSaver(keras.callbacks.Callback):\n",
    "    __path: str\n",
    "    __current_epoch: int\n",
    "        \n",
    "    def __init__(self, path: str, epoch: int = 0):\n",
    "        self.__path = path\n",
    "        self.__current_epoch = epoch\n",
    "        \n",
    "    def on_epoch_end(self, *args, **kwargs):\n",
    "        epoch_path = self.__path.format(self.__current_epoch)\n",
    "        self.__current_epoch += 1\n",
    "        \n",
    "        parallel_model.save_weights(epoch_path)\n",
    "\n",
    "model_saver = ModelSaver(path, 25)"
   ]
  },
  {
   "cell_type": "code",
   "execution_count": 13,
   "metadata": {},
   "outputs": [
    {
     "data": {
      "text/plain": [
       "<tf.Variable 'UnreadVariable' shape=() dtype=float32, numpy=1e-04>"
      ]
     },
     "execution_count": 13,
     "metadata": {},
     "output_type": "execute_result"
    }
   ],
   "source": [
    "parallel_model.optimizer.lr.assign(1e-4)"
   ]
  },
  {
   "cell_type": "code",
   "execution_count": 14,
   "metadata": {},
   "outputs": [
    {
     "name": "stdout",
     "output_type": "stream",
     "text": [
      "Train on 1244460 samples, validate on 46216 samples\n",
      "Epoch 1/5\n",
      "1244460/1244460 [==============================] - 420s 337us/step - loss: 14.3135 - accuracy: 0.9139 - val_loss: 4.2006 - val_accuracy: 0.8791\n",
      "Epoch 2/5\n",
      "1244460/1244460 [==============================] - 411s 330us/step - loss: 2.4919 - accuracy: 0.9526 - val_loss: 1.3348 - val_accuracy: 0.8802\n",
      "Epoch 3/5\n",
      "1244460/1244460 [==============================] - 410s 329us/step - loss: 0.8052 - accuracy: 0.9531 - val_loss: 0.5907 - val_accuracy: 0.8872\n",
      "Epoch 4/5\n",
      "1244460/1244460 [==============================] - 409s 328us/step - loss: 0.3546 - accuracy: 0.9519 - val_loss: 0.3718 - val_accuracy: 0.8985\n",
      "Epoch 5/5\n",
      "1244460/1244460 [==============================] - 408s 328us/step - loss: 0.2264 - accuracy: 0.9570 - val_loss: 0.3226 - val_accuracy: 0.8981\n"
     ]
    },
    {
     "data": {
      "text/plain": [
       "<keras.callbacks.callbacks.History at 0x7f6cf8340cd0>"
      ]
     },
     "execution_count": 14,
     "metadata": {},
     "output_type": "execute_result"
    }
   ],
   "source": [
    "parallel_model.fit(images[:-validation_length], anwsers[:-validation_length], batch_size=3000, epochs=5,\n",
    "                   validation_data=(images[-validation_length:], anwsers[-validation_length:]),\n",
    "                   callbacks=[model_saver])"
   ]
  },
  {
   "cell_type": "code",
   "execution_count": 15,
   "metadata": {},
   "outputs": [
    {
     "name": "stdout",
     "output_type": "stream",
     "text": [
      "Train on 1244460 samples, validate on 46216 samples\n",
      "Epoch 1/5\n",
      "1244460/1244460 [==============================] - 413s 332us/step - loss: 0.1787 - accuracy: 0.9621 - val_loss: 0.2814 - val_accuracy: 0.9088\n",
      "Epoch 2/5\n",
      "1244460/1244460 [==============================] - 410s 329us/step - loss: 0.1521 - accuracy: 0.9657 - val_loss: 0.2565 - val_accuracy: 0.9129\n",
      "Epoch 3/5\n",
      "1244460/1244460 [==============================] - 408s 327us/step - loss: 0.1345 - accuracy: 0.9683 - val_loss: 0.2370 - val_accuracy: 0.9177\n",
      "Epoch 4/5\n",
      "1244460/1244460 [==============================] - 407s 327us/step - loss: 0.1221 - accuracy: 0.9703 - val_loss: 0.2297 - val_accuracy: 0.9198\n",
      "Epoch 5/5\n",
      "1244460/1244460 [==============================] - 408s 328us/step - loss: 0.1119 - accuracy: 0.9721 - val_loss: 0.2180 - val_accuracy: 0.9241\n"
     ]
    },
    {
     "data": {
      "text/plain": [
       "<keras.callbacks.callbacks.History at 0x7f6f708d9bd0>"
      ]
     },
     "execution_count": 15,
     "metadata": {},
     "output_type": "execute_result"
    }
   ],
   "source": [
    "parallel_model.fit(images[:-validation_length], anwsers[:-validation_length], batch_size=3000, epochs=5,\n",
    "                   validation_data=(images[-validation_length:], anwsers[-validation_length:]),\n",
    "                   callbacks=[model_saver])"
   ]
  },
  {
   "cell_type": "code",
   "execution_count": 16,
   "metadata": {},
   "outputs": [
    {
     "name": "stdout",
     "output_type": "stream",
     "text": [
      "Train on 1244460 samples, validate on 46216 samples\n",
      "Epoch 1/5\n",
      "1244460/1244460 [==============================] - 407s 327us/step - loss: 0.1038 - accuracy: 0.9737 - val_loss: 0.1954 - val_accuracy: 0.9334\n",
      "Epoch 2/5\n",
      "1244460/1244460 [==============================] - 402s 323us/step - loss: 0.0976 - accuracy: 0.9745 - val_loss: 0.1962 - val_accuracy: 0.9324\n",
      "Epoch 3/5\n",
      "1244460/1244460 [==============================] - 403s 324us/step - loss: 0.0915 - accuracy: 0.9759 - val_loss: 0.1991 - val_accuracy: 0.9283\n",
      "Epoch 4/5\n",
      "1244460/1244460 [==============================] - 403s 324us/step - loss: 0.0867 - accuracy: 0.9767 - val_loss: 0.1748 - val_accuracy: 0.9398\n",
      "Epoch 5/5\n",
      "1244460/1244460 [==============================] - 402s 323us/step - loss: 0.0825 - accuracy: 0.9774 - val_loss: 0.1606 - val_accuracy: 0.9450\n"
     ]
    },
    {
     "data": {
      "text/plain": [
       "<keras.callbacks.callbacks.History at 0x7f6cc077c090>"
      ]
     },
     "execution_count": 16,
     "metadata": {},
     "output_type": "execute_result"
    }
   ],
   "source": [
    "parallel_model.fit(images[:-validation_length], anwsers[:-validation_length], batch_size=3000, epochs=5,\n",
    "                   validation_data=(images[-validation_length:], anwsers[-validation_length:]),\n",
    "                   callbacks=[model_saver])"
   ]
  },
  {
   "cell_type": "code",
   "execution_count": 17,
   "metadata": {},
   "outputs": [
    {
     "name": "stdout",
     "output_type": "stream",
     "text": [
      "Train on 1244460 samples, validate on 46216 samples\n",
      "Epoch 1/5\n",
      "1244460/1244460 [==============================] - 407s 327us/step - loss: 0.0788 - accuracy: 0.9783 - val_loss: 0.1485 - val_accuracy: 0.9502\n",
      "Epoch 2/5\n",
      "1244460/1244460 [==============================] - 407s 327us/step - loss: 0.0758 - accuracy: 0.9788 - val_loss: 0.1644 - val_accuracy: 0.9399\n",
      "Epoch 3/5\n",
      "1244460/1244460 [==============================] - 407s 327us/step - loss: 0.0723 - accuracy: 0.9796 - val_loss: 0.1402 - val_accuracy: 0.9532\n",
      "Epoch 4/5\n",
      "1244460/1244460 [==============================] - 408s 327us/step - loss: 0.0702 - accuracy: 0.9801 - val_loss: 0.1431 - val_accuracy: 0.9483\n",
      "Epoch 5/5\n",
      "1244460/1244460 [==============================] - 407s 327us/step - loss: 0.0676 - accuracy: 0.9806 - val_loss: 0.1501 - val_accuracy: 0.9440\n"
     ]
    },
    {
     "data": {
      "text/plain": [
       "<keras.callbacks.callbacks.History at 0x7f6cc00db6d0>"
      ]
     },
     "execution_count": 17,
     "metadata": {},
     "output_type": "execute_result"
    }
   ],
   "source": [
    "parallel_model.fit(images[:-validation_length], anwsers[:-validation_length], batch_size=3000, epochs=5,\n",
    "                   validation_data=(images[-validation_length:], anwsers[-validation_length:]),\n",
    "                   callbacks=[model_saver])"
   ]
  },
  {
   "cell_type": "code",
   "execution_count": 18,
   "metadata": {},
   "outputs": [
    {
     "data": {
      "text/plain": [
       "<tf.Variable 'UnreadVariable' shape=() dtype=float32, numpy=1e-05>"
      ]
     },
     "execution_count": 18,
     "metadata": {},
     "output_type": "execute_result"
    }
   ],
   "source": [
    "parallel_model.optimizer.lr.assign(1e-5)"
   ]
  },
  {
   "cell_type": "code",
   "execution_count": 17,
   "metadata": {},
   "outputs": [
    {
     "name": "stdout",
     "output_type": "stream",
     "text": [
      "Train on 1244460 samples, validate on 46216 samples\n",
      "Epoch 1/5\n",
      "1244460/1244460 [==============================] - 407s 327us/step - loss: 0.0788 - accuracy: 0.9783 - val_loss: 0.1485 - val_accuracy: 0.9502\n",
      "Epoch 2/5\n",
      "1244460/1244460 [==============================] - 407s 327us/step - loss: 0.0758 - accuracy: 0.9788 - val_loss: 0.1644 - val_accuracy: 0.9399\n",
      "Epoch 3/5\n",
      "1244460/1244460 [==============================] - 407s 327us/step - loss: 0.0723 - accuracy: 0.9796 - val_loss: 0.1402 - val_accuracy: 0.9532\n",
      "Epoch 4/5\n",
      "1244460/1244460 [==============================] - 408s 327us/step - loss: 0.0702 - accuracy: 0.9801 - val_loss: 0.1431 - val_accuracy: 0.9483\n",
      "Epoch 5/5\n",
      "1244460/1244460 [==============================] - 407s 327us/step - loss: 0.0676 - accuracy: 0.9806 - val_loss: 0.1501 - val_accuracy: 0.9440\n"
     ]
    },
    {
     "data": {
      "text/plain": [
       "<keras.callbacks.callbacks.History at 0x7f6cc00db6d0>"
      ]
     },
     "execution_count": 17,
     "metadata": {},
     "output_type": "execute_result"
    }
   ],
   "source": [
    "parallel_model.fit(images[:-validation_length], anwsers[:-validation_length], batch_size=3000, epochs=5,\n",
    "                   validation_data=(images[-validation_length:], anwsers[-validation_length:]),\n",
    "                   callbacks=[model_saver])"
   ]
  },
  {
   "cell_type": "code",
   "execution_count": 13,
   "metadata": {},
   "outputs": [],
   "source": [
    "last_model_epoch = 24\n",
    "last_model_path = path.format(last_model_epoch)\n",
    "\n",
    "parallel_model.load_weights(last_model_path)"
   ]
  },
  {
   "cell_type": "code",
   "execution_count": 14,
   "metadata": {},
   "outputs": [
    {
     "data": {
      "text/plain": [
       "<tf.Variable 'UnreadVariable' shape=() dtype=float32, numpy=1e-05>"
      ]
     },
     "execution_count": 14,
     "metadata": {},
     "output_type": "execute_result"
    }
   ],
   "source": [
    "parallel_model.optimizer.lr.assign(1e-5)"
   ]
  },
  {
   "cell_type": "code",
   "execution_count": 15,
   "metadata": {},
   "outputs": [
    {
     "name": "stdout",
     "output_type": "stream",
     "text": [
      "Train on 1244460 samples, validate on 46216 samples\n",
      "Epoch 1/5\n",
      "1244460/1244460 [==============================] - 415s 333us/step - loss: 0.0615 - accuracy: 0.9829 - val_loss: 0.1286 - val_accuracy: 0.9544\n",
      "Epoch 2/5\n",
      "1244460/1244460 [==============================] - 408s 328us/step - loss: 0.0596 - accuracy: 0.9836 - val_loss: 0.1200 - val_accuracy: 0.9598\n",
      "Epoch 3/5\n",
      "1244460/1244460 [==============================] - 407s 327us/step - loss: 0.0583 - accuracy: 0.9839 - val_loss: 0.1167 - val_accuracy: 0.9616\n",
      "Epoch 4/5\n",
      "1244460/1244460 [==============================] - 407s 327us/step - loss: 0.0577 - accuracy: 0.9841 - val_loss: 0.1130 - val_accuracy: 0.9633\n",
      "Epoch 5/5\n",
      "1244460/1244460 [==============================] - 407s 327us/step - loss: 0.0567 - accuracy: 0.9845 - val_loss: 0.1117 - val_accuracy: 0.9631\n"
     ]
    },
    {
     "data": {
      "text/plain": [
       "<keras.callbacks.callbacks.History at 0x7f8a47968910>"
      ]
     },
     "execution_count": 15,
     "metadata": {},
     "output_type": "execute_result"
    }
   ],
   "source": [
    "parallel_model.fit(images[:-validation_length], anwsers[:-validation_length], batch_size=3000, epochs=5,\n",
    "                   validation_data=(images[-validation_length:], anwsers[-validation_length:]),\n",
    "                   callbacks=[model_saver])"
   ]
  },
  {
   "cell_type": "code",
   "execution_count": 16,
   "metadata": {},
   "outputs": [
    {
     "data": {
      "text/plain": [
       "<tf.Variable 'UnreadVariable' shape=() dtype=float32, numpy=1e-06>"
      ]
     },
     "execution_count": 16,
     "metadata": {},
     "output_type": "execute_result"
    }
   ],
   "source": [
    "parallel_model.optimizer.lr.assign(1e-6)"
   ]
  },
  {
   "cell_type": "code",
   "execution_count": 17,
   "metadata": {},
   "outputs": [
    {
     "name": "stdout",
     "output_type": "stream",
     "text": [
      "Train on 1244460 samples, validate on 46216 samples\n",
      "Epoch 1/5\n",
      "1244460/1244460 [==============================] - 407s 327us/step - loss: 0.0555 - accuracy: 0.9848 - val_loss: 0.1128 - val_accuracy: 0.9624\n",
      "Epoch 2/5\n",
      "1244460/1244460 [==============================] - 407s 327us/step - loss: 0.0555 - accuracy: 0.9848 - val_loss: 0.1115 - val_accuracy: 0.9629\n",
      "Epoch 3/5\n",
      "1244460/1244460 [==============================] - 407s 327us/step - loss: 0.0553 - accuracy: 0.9850 - val_loss: 0.1105 - val_accuracy: 0.9640\n",
      "Epoch 4/5\n",
      "1244460/1244460 [==============================] - 407s 327us/step - loss: 0.0556 - accuracy: 0.9848 - val_loss: 0.1109 - val_accuracy: 0.9635\n",
      "Epoch 5/5\n",
      "1244460/1244460 [==============================] - 407s 327us/step - loss: 0.0553 - accuracy: 0.9848 - val_loss: 0.1105 - val_accuracy: 0.9637\n"
     ]
    },
    {
     "data": {
      "text/plain": [
       "<keras.callbacks.callbacks.History at 0x7f8878608090>"
      ]
     },
     "execution_count": 17,
     "metadata": {},
     "output_type": "execute_result"
    }
   ],
   "source": [
    "parallel_model.fit(images[:-validation_length], anwsers[:-validation_length], batch_size=3000, epochs=5,\n",
    "                   validation_data=(images[-validation_length:], anwsers[-validation_length:]),\n",
    "                   callbacks=[model_saver])"
   ]
  },
  {
   "cell_type": "code",
   "execution_count": 18,
   "metadata": {},
   "outputs": [
    {
     "name": "stdout",
     "output_type": "stream",
     "text": [
      "Train on 1244460 samples, validate on 46216 samples\n",
      "Epoch 1/5\n",
      "1244460/1244460 [==============================] - 407s 327us/step - loss: 0.0551 - accuracy: 0.9851 - val_loss: 0.1097 - val_accuracy: 0.9641\n",
      "Epoch 2/5\n",
      "1244460/1244460 [==============================] - 407s 327us/step - loss: 0.0551 - accuracy: 0.9850 - val_loss: 0.1106 - val_accuracy: 0.9636\n",
      "Epoch 3/5\n",
      "1244460/1244460 [==============================] - 407s 327us/step - loss: 0.0551 - accuracy: 0.9850 - val_loss: 0.1107 - val_accuracy: 0.9634\n",
      "Epoch 4/5\n",
      "1244460/1244460 [==============================] - 407s 327us/step - loss: 0.0550 - accuracy: 0.9851 - val_loss: 0.1105 - val_accuracy: 0.9636\n",
      "Epoch 5/5\n",
      "1244460/1244460 [==============================] - 407s 327us/step - loss: 0.0547 - accuracy: 0.9851 - val_loss: 0.1096 - val_accuracy: 0.9639\n"
     ]
    },
    {
     "data": {
      "text/plain": [
       "<keras.callbacks.callbacks.History at 0x7f889832fb90>"
      ]
     },
     "execution_count": 18,
     "metadata": {},
     "output_type": "execute_result"
    }
   ],
   "source": [
    "parallel_model.fit(images[:-validation_length], anwsers[:-validation_length], batch_size=3000, epochs=5,\n",
    "                   validation_data=(images[-validation_length:], anwsers[-validation_length:]),\n",
    "                   callbacks=[model_saver])"
   ]
  },
  {
   "cell_type": "code",
   "execution_count": 19,
   "metadata": {},
   "outputs": [
    {
     "name": "stdout",
     "output_type": "stream",
     "text": [
      "Train on 1244460 samples, validate on 46216 samples\n",
      "Epoch 1/5\n",
      "1244460/1244460 [==============================] - 407s 327us/step - loss: 0.0547 - accuracy: 0.9852 - val_loss: 0.1093 - val_accuracy: 0.9642\n",
      "Epoch 2/5\n",
      "1244460/1244460 [==============================] - 402s 323us/step - loss: 0.0548 - accuracy: 0.9851 - val_loss: 0.1091 - val_accuracy: 0.9642\n",
      "Epoch 3/5\n",
      "1244460/1244460 [==============================] - 402s 323us/step - loss: 0.0545 - accuracy: 0.9852 - val_loss: 0.1085 - val_accuracy: 0.9644\n",
      "Epoch 4/5\n",
      "1244460/1244460 [==============================] - 402s 323us/step - loss: 0.0545 - accuracy: 0.9852 - val_loss: 0.1091 - val_accuracy: 0.9642\n",
      "Epoch 5/5\n",
      "1244460/1244460 [==============================] - 403s 324us/step - loss: 0.0545 - accuracy: 0.9853 - val_loss: 0.1082 - val_accuracy: 0.9648\n"
     ]
    },
    {
     "data": {
      "text/plain": [
       "<keras.callbacks.callbacks.History at 0x7f889831f5d0>"
      ]
     },
     "execution_count": 19,
     "metadata": {},
     "output_type": "execute_result"
    }
   ],
   "source": [
    "parallel_model.fit(images[:-validation_length], anwsers[:-validation_length], batch_size=3000, epochs=5,\n",
    "                   validation_data=(images[-validation_length:], anwsers[-validation_length:]),\n",
    "                   callbacks=[model_saver])"
   ]
  }
 ],
 "metadata": {
  "kernelspec": {
   "display_name": "Python 3",
   "language": "python",
   "name": "python3"
  },
  "language_info": {
   "codemirror_mode": {
    "name": "ipython",
    "version": 3
   },
   "file_extension": ".py",
   "mimetype": "text/x-python",
   "name": "python",
   "nbconvert_exporter": "python",
   "pygments_lexer": "ipython3",
   "version": "3.7.4"
  }
 },
 "nbformat": 4,
 "nbformat_minor": 4
}
