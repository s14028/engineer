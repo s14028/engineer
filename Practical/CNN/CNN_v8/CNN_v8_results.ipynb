{
 "cells": [
  {
   "cell_type": "code",
   "execution_count": 1,
   "metadata": {},
   "outputs": [
    {
     "name": "stdout",
     "output_type": "stream",
     "text": [
      "/home/PJWSTK/s14028/engineer/Practical\n"
     ]
    }
   ],
   "source": [
    "%cd ../../"
   ]
  },
  {
   "cell_type": "code",
   "execution_count": 2,
   "metadata": {},
   "outputs": [
    {
     "name": "stderr",
     "output_type": "stream",
     "text": [
      "Using TensorFlow backend.\n"
     ]
    }
   ],
   "source": [
    "import os\n",
    "\n",
    "import pandas as pd\n",
    "import keras\n",
    "import scipy.io as mat\n",
    "\n",
    "from common import *\n",
    "from augmentation import add_pmap\n",
    "from testing import test_model\n",
    "from testing import best_cop_diff\n",
    "from testing import mse\n",
    "from testing import mae\n",
    "\n",
    "from CNN.CNN_v8 import CNN_v8"
   ]
  },
  {
   "cell_type": "code",
   "execution_count": 3,
   "metadata": {},
   "outputs": [],
   "source": [
    "perspective = mat.loadmat(\"mall_dataset/perspective_roi.mat\")[\"pMapN\"]\n",
    "\n",
    "perspective /= np.min(perspective)\n",
    "perspective = np.round(perspective).astype(np.uint8)\n",
    "\n",
    "train, test = data_sets()\n",
    "image_tensors = train[0], test[0]\n",
    "person_coo_tensors = train[1], test[1]\n",
    "count_matrix = train[2], test[2]\n",
    "\n",
    "image_train, image_test = image_tensors\n",
    "person_coo_train, person_coo_test = person_coo_tensors\n",
    "count_train, count_test = count_matrix\n",
    "count_train = count_train.astype(np.uint16)\n",
    "count_test = count_test.astype(np.uint16)\n",
    "\n",
    "image_train = add_pmap(image_train, perspective)\n",
    "image_test = add_pmap(image_test, perspective)"
   ]
  },
  {
   "cell_type": "code",
   "execution_count": 4,
   "metadata": {},
   "outputs": [],
   "source": [
    "cnn = CNN_v8((480, 640, 4), split_into_parts=20)\n",
    "\n",
    "images = cnn._prepare_images(image_test)\n",
    "anwsers = cnn._prepare_anwsers(person_coo_test)"
   ]
  },
  {
   "cell_type": "code",
   "execution_count": 5,
   "metadata": {},
   "outputs": [],
   "source": [
    "cop = np.linspace(0, 1, 11)[1:-1]"
   ]
  },
  {
   "cell_type": "code",
   "execution_count": 6,
   "metadata": {},
   "outputs": [],
   "source": [
    "prefix = \"CNN/CNN_v8/weights/\"\n",
    "\n",
    "def get_weights_paths(prefix):\n",
    "    for directory, subdirectories, files in os.walk(prefix):\n",
    "        yield from (os.path.join(directory, file) for file in files)\n",
    "\n",
    "model_names = get_weights_paths(prefix)\n",
    "model_names = list(model_names)"
   ]
  },
  {
   "cell_type": "code",
   "execution_count": 7,
   "metadata": {},
   "outputs": [],
   "source": [
    "models = [CNN_v8((480, 640, 4), split_into_parts=20) for i in range(len(model_names))]"
   ]
  },
  {
   "cell_type": "code",
   "execution_count": 8,
   "metadata": {},
   "outputs": [
    {
     "name": "stdout",
     "output_type": "stream",
     "text": [
      "Epoch 1/1\n",
      "1/1 [==============================] - 2s 2s/step - loss: 0.6967 - accuracy: 1.0000\n",
      "Epoch 1/1\n",
      "1/1 [==============================] - 1s 658ms/step - loss: 0.6960 - accuracy: 1.0000\n",
      "Epoch 1/1\n",
      "1/1 [==============================] - 1s 681ms/step - loss: 0.6968 - accuracy: 1.0000\n",
      "Epoch 1/1\n",
      "1/1 [==============================] - 1s 689ms/step - loss: 0.6958 - accuracy: 1.0000\n",
      "Epoch 1/1\n",
      "1/1 [==============================] - 1s 707ms/step - loss: 0.6965 - accuracy: 1.0000\n",
      "Epoch 1/1\n",
      "1/1 [==============================] - 1s 694ms/step - loss: 0.6970 - accuracy: 1.0000\n",
      "Epoch 1/1\n",
      "1/1 [==============================] - 1s 677ms/step - loss: 0.6964 - accuracy: 1.0000\n",
      "Epoch 1/1\n",
      "1/1 [==============================] - 1s 681ms/step - loss: 0.6965 - accuracy: 1.0000\n",
      "Epoch 1/1\n",
      "1/1 [==============================] - 1s 671ms/step - loss: 0.6957 - accuracy: 1.0000\n",
      "Epoch 1/1\n",
      "1/1 [==============================] - 1s 665ms/step - loss: 0.6956 - accuracy: 1.0000\n",
      "Epoch 1/1\n",
      "1/1 [==============================] - 1s 676ms/step - loss: 0.6961 - accuracy: 1.0000\n",
      "Epoch 1/1\n",
      "1/1 [==============================] - 1s 887ms/step - loss: 0.6955 - accuracy: 1.0000\n",
      "Epoch 1/1\n",
      "1/1 [==============================] - 1s 680ms/step - loss: 0.6962 - accuracy: 1.0000\n",
      "Epoch 1/1\n",
      "1/1 [==============================] - 1s 694ms/step - loss: 0.6962 - accuracy: 1.0000\n",
      "Epoch 1/1\n",
      "1/1 [==============================] - 1s 675ms/step - loss: 0.6955 - accuracy: 1.0000\n",
      "Epoch 1/1\n",
      "1/1 [==============================] - 1s 864ms/step - loss: 0.6963 - accuracy: 1.0000\n",
      "Epoch 1/1\n",
      "1/1 [==============================] - 1s 678ms/step - loss: 0.6971 - accuracy: 1.0000\n",
      "Epoch 1/1\n",
      "1/1 [==============================] - 1s 675ms/step - loss: 0.6962 - accuracy: 1.0000\n",
      "Epoch 1/1\n",
      "1/1 [==============================] - 1s 667ms/step - loss: 0.6956 - accuracy: 1.0000\n",
      "Epoch 1/1\n",
      "1/1 [==============================] - 1s 687ms/step - loss: 0.6954 - accuracy: 1.0000\n",
      "Epoch 1/1\n",
      "1/1 [==============================] - 1s 661ms/step - loss: 0.6957 - accuracy: 1.0000\n",
      "Epoch 1/1\n",
      "1/1 [==============================] - 1s 670ms/step - loss: 0.6958 - accuracy: 1.0000\n",
      "Epoch 1/1\n",
      "1/1 [==============================] - 1s 679ms/step - loss: 0.6964 - accuracy: 1.0000\n",
      "Epoch 1/1\n",
      "1/1 [==============================] - 1s 667ms/step - loss: 0.6959 - accuracy: 1.0000\n",
      "Epoch 1/1\n",
      "1/1 [==============================] - 1s 657ms/step - loss: 0.6964 - accuracy: 1.0000\n",
      "Epoch 1/1\n",
      "1/1 [==============================] - 1s 676ms/step - loss: 0.6960 - accuracy: 1.0000\n",
      "Epoch 1/1\n",
      "1/1 [==============================] - 1s 668ms/step - loss: 0.6959 - accuracy: 1.0000\n",
      "Epoch 1/1\n",
      "1/1 [==============================] - 1s 665ms/step - loss: 0.6958 - accuracy: 1.0000\n",
      "Epoch 1/1\n",
      "1/1 [==============================] - 1s 673ms/step - loss: 0.6969 - accuracy: 1.0000\n",
      "Epoch 1/1\n",
      "1/1 [==============================] - 1s 660ms/step - loss: 0.6956 - accuracy: 1.0000\n",
      "Epoch 1/1\n",
      "1/1 [==============================] - 1s 682ms/step - loss: 0.6968 - accuracy: 1.0000\n",
      "Epoch 1/1\n",
      "1/1 [==============================] - 1s 669ms/step - loss: 0.6960 - accuracy: 1.0000\n",
      "Epoch 1/1\n",
      "1/1 [==============================] - 1s 662ms/step - loss: 0.6958 - accuracy: 1.0000\n",
      "Epoch 1/1\n",
      "1/1 [==============================] - 1s 665ms/step - loss: 0.6962 - accuracy: 1.0000\n",
      "Epoch 1/1\n",
      "1/1 [==============================] - 1s 669ms/step - loss: 0.6970 - accuracy: 1.0000\n",
      "Epoch 1/1\n",
      "1/1 [==============================] - 1s 667ms/step - loss: 0.6957 - accuracy: 1.0000\n",
      "Epoch 1/1\n",
      "1/1 [==============================] - 1s 658ms/step - loss: 0.6954 - accuracy: 1.0000\n",
      "Epoch 1/1\n",
      "1/1 [==============================] - 1s 659ms/step - loss: 0.6965 - accuracy: 1.0000\n",
      "Epoch 1/1\n",
      "1/1 [==============================] - 1s 669ms/step - loss: 0.6960 - accuracy: 1.0000\n",
      "Epoch 1/1\n",
      "1/1 [==============================] - 1s 683ms/step - loss: 0.6979 - accuracy: 1.0000\n",
      "Epoch 1/1\n",
      "1/1 [==============================] - 1s 672ms/step - loss: 0.6959 - accuracy: 1.0000\n",
      "Epoch 1/1\n",
      "1/1 [==============================] - 1s 655ms/step - loss: 0.6955 - accuracy: 1.0000\n",
      "Epoch 1/1\n",
      "1/1 [==============================] - 1s 650ms/step - loss: 0.6955 - accuracy: 1.0000\n",
      "Epoch 1/1\n",
      "1/1 [==============================] - 1s 650ms/step - loss: 0.6956 - accuracy: 1.0000\n",
      "Epoch 1/1\n",
      "1/1 [==============================] - 1s 656ms/step - loss: 0.6972 - accuracy: 1.0000\n",
      "Epoch 1/1\n",
      "1/1 [==============================] - 1s 661ms/step - loss: 0.6958 - accuracy: 1.0000\n",
      "Epoch 1/1\n",
      "1/1 [==============================] - 1s 681ms/step - loss: 0.6964 - accuracy: 1.0000\n",
      "Epoch 1/1\n",
      "1/1 [==============================] - 1s 668ms/step - loss: 0.6957 - accuracy: 1.0000\n",
      "Epoch 1/1\n",
      "1/1 [==============================] - 1s 666ms/step - loss: 0.6964 - accuracy: 1.0000\n",
      "Epoch 1/1\n",
      "1/1 [==============================] - 1s 685ms/step - loss: 0.6954 - accuracy: 1.0000\n"
     ]
    }
   ],
   "source": [
    "results = {}\n",
    "\n",
    "for model_name, model in zip(model_names, models):\n",
    "  model.def_model()\n",
    "  model.model.fit(images[:1], anwsers[:1])\n",
    "  \n",
    "  model.model = keras.utils.multi_gpu_model(model.model, gpus=2, cpu_merge=False)\n",
    "  model.model.compile(loss=\"binary_crossentropy\", optimizer=\"adam\", metrics=[\"accuracy\"])\n",
    "  \n",
    "  model.model.load_weights(model_name)\n",
    "  \n",
    "  results[model_name] = test_model(model=model, images=image_test, counts=count_test, cut_of_points=cop)"
   ]
  },
  {
   "cell_type": "code",
   "execution_count": 9,
   "metadata": {},
   "outputs": [],
   "source": [
    "def as_rows(results):\n",
    "    for name, cut_off_point_to_accuracy_with_difference in results.items():\n",
    "        yield from ((f\"{name}_{cut_off_point}\", accuracy, counts - count_test) for cut_off_point, (accuracy, counts) in cut_off_point_to_accuracy_with_difference.items())\n",
    "\n",
    "rows = as_rows(results)\n",
    "rows = list(rows)"
   ]
  },
  {
   "cell_type": "code",
   "execution_count": 10,
   "metadata": {},
   "outputs": [],
   "source": [
    "def calculate_mae_and_mse(rows):\n",
    "    for *attributes, difference in rows:\n",
    "        difference_mae = mae(difference)\n",
    "        difference_mse = mse(difference)\n",
    "        \n",
    "        yield (*attributes, difference_mae, difference_mse)\n",
    "\n",
    "mae_and_mse = calculate_mae_and_mse(rows)\n",
    "mae_and_mse = list(mae_and_mse)"
   ]
  },
  {
   "cell_type": "code",
   "execution_count": 11,
   "metadata": {},
   "outputs": [
    {
     "data": {
      "text/html": [
       "<div>\n",
       "<style scoped>\n",
       "    .dataframe tbody tr th:only-of-type {\n",
       "        vertical-align: middle;\n",
       "    }\n",
       "\n",
       "    .dataframe tbody tr th {\n",
       "        vertical-align: top;\n",
       "    }\n",
       "\n",
       "    .dataframe thead th {\n",
       "        text-align: right;\n",
       "    }\n",
       "</style>\n",
       "<table border=\"1\" class=\"dataframe\">\n",
       "  <thead>\n",
       "    <tr style=\"text-align: right;\">\n",
       "      <th></th>\n",
       "      <th>model</th>\n",
       "      <th>accuracy</th>\n",
       "      <th>mae</th>\n",
       "      <th>mse</th>\n",
       "    </tr>\n",
       "  </thead>\n",
       "  <tbody>\n",
       "    <tr>\n",
       "      <td>0</td>\n",
       "      <td>CNN/CNN_v8/weights/cnn_v8_1e_6_5_0.1</td>\n",
       "      <td>0.000000</td>\n",
       "      <td>345.653333</td>\n",
       "      <td>119568.833333</td>\n",
       "    </tr>\n",
       "    <tr>\n",
       "      <td>1</td>\n",
       "      <td>CNN/CNN_v8/weights/cnn_v8_1e_6_5_0.2</td>\n",
       "      <td>0.000000</td>\n",
       "      <td>234.943333</td>\n",
       "      <td>55717.723333</td>\n",
       "    </tr>\n",
       "    <tr>\n",
       "      <td>2</td>\n",
       "      <td>CNN/CNN_v8/weights/cnn_v8_1e_6_5_0.30000000000...</td>\n",
       "      <td>0.000000</td>\n",
       "      <td>152.920000</td>\n",
       "      <td>23777.333333</td>\n",
       "    </tr>\n",
       "    <tr>\n",
       "      <td>3</td>\n",
       "      <td>CNN/CNN_v8/weights/cnn_v8_1e_6_5_0.4</td>\n",
       "      <td>0.000000</td>\n",
       "      <td>103.096667</td>\n",
       "      <td>10927.416667</td>\n",
       "    </tr>\n",
       "    <tr>\n",
       "      <td>4</td>\n",
       "      <td>CNN/CNN_v8/weights/cnn_v8_1e_6_5_0.5</td>\n",
       "      <td>0.033333</td>\n",
       "      <td>58.276667</td>\n",
       "      <td>3581.563333</td>\n",
       "    </tr>\n",
       "    <tr>\n",
       "      <td>...</td>\n",
       "      <td>...</td>\n",
       "      <td>...</td>\n",
       "      <td>...</td>\n",
       "      <td>...</td>\n",
       "    </tr>\n",
       "    <tr>\n",
       "      <td>445</td>\n",
       "      <td>CNN/CNN_v8/weights/cnn_v8_1e_6_54_0.5</td>\n",
       "      <td>81.182912</td>\n",
       "      <td>5.933333</td>\n",
       "      <td>47.986667</td>\n",
       "    </tr>\n",
       "    <tr>\n",
       "      <td>446</td>\n",
       "      <td>CNN/CNN_v8/weights/cnn_v8_1e_6_54_0.6000000000...</td>\n",
       "      <td>69.849281</td>\n",
       "      <td>9.473333</td>\n",
       "      <td>105.720000</td>\n",
       "    </tr>\n",
       "    <tr>\n",
       "      <td>447</td>\n",
       "      <td>CNN/CNN_v8/weights/cnn_v8_1e_6_54_0.7000000000...</td>\n",
       "      <td>58.685242</td>\n",
       "      <td>12.916667</td>\n",
       "      <td>186.383333</td>\n",
       "    </tr>\n",
       "    <tr>\n",
       "      <td>448</td>\n",
       "      <td>CNN/CNN_v8/weights/cnn_v8_1e_6_54_0.8</td>\n",
       "      <td>46.992572</td>\n",
       "      <td>16.513333</td>\n",
       "      <td>296.626667</td>\n",
       "    </tr>\n",
       "    <tr>\n",
       "      <td>449</td>\n",
       "      <td>CNN/CNN_v8/weights/cnn_v8_1e_6_54_0.9</td>\n",
       "      <td>32.884976</td>\n",
       "      <td>20.906667</td>\n",
       "      <td>468.100000</td>\n",
       "    </tr>\n",
       "  </tbody>\n",
       "</table>\n",
       "<p>450 rows × 4 columns</p>\n",
       "</div>"
      ],
      "text/plain": [
       "                                                 model   accuracy         mae  \\\n",
       "0                 CNN/CNN_v8/weights/cnn_v8_1e_6_5_0.1   0.000000  345.653333   \n",
       "1                 CNN/CNN_v8/weights/cnn_v8_1e_6_5_0.2   0.000000  234.943333   \n",
       "2    CNN/CNN_v8/weights/cnn_v8_1e_6_5_0.30000000000...   0.000000  152.920000   \n",
       "3                 CNN/CNN_v8/weights/cnn_v8_1e_6_5_0.4   0.000000  103.096667   \n",
       "4                 CNN/CNN_v8/weights/cnn_v8_1e_6_5_0.5   0.033333   58.276667   \n",
       "..                                                 ...        ...         ...   \n",
       "445              CNN/CNN_v8/weights/cnn_v8_1e_6_54_0.5  81.182912    5.933333   \n",
       "446  CNN/CNN_v8/weights/cnn_v8_1e_6_54_0.6000000000...  69.849281    9.473333   \n",
       "447  CNN/CNN_v8/weights/cnn_v8_1e_6_54_0.7000000000...  58.685242   12.916667   \n",
       "448              CNN/CNN_v8/weights/cnn_v8_1e_6_54_0.8  46.992572   16.513333   \n",
       "449              CNN/CNN_v8/weights/cnn_v8_1e_6_54_0.9  32.884976   20.906667   \n",
       "\n",
       "               mse  \n",
       "0    119568.833333  \n",
       "1     55717.723333  \n",
       "2     23777.333333  \n",
       "3     10927.416667  \n",
       "4      3581.563333  \n",
       "..             ...  \n",
       "445      47.986667  \n",
       "446     105.720000  \n",
       "447     186.383333  \n",
       "448     296.626667  \n",
       "449     468.100000  \n",
       "\n",
       "[450 rows x 4 columns]"
      ]
     },
     "execution_count": 11,
     "metadata": {},
     "output_type": "execute_result"
    }
   ],
   "source": [
    "frame = pd.DataFrame(mae_and_mse, columns=[\"model\", \"accuracy\", \"mae\", \"mse\"])\n",
    "frame"
   ]
  },
  {
   "cell_type": "code",
   "execution_count": 12,
   "metadata": {},
   "outputs": [
    {
     "data": {
      "text/html": [
       "<div>\n",
       "<style scoped>\n",
       "    .dataframe tbody tr th:only-of-type {\n",
       "        vertical-align: middle;\n",
       "    }\n",
       "\n",
       "    .dataframe tbody tr th {\n",
       "        vertical-align: top;\n",
       "    }\n",
       "\n",
       "    .dataframe thead th {\n",
       "        text-align: right;\n",
       "    }\n",
       "</style>\n",
       "<table border=\"1\" class=\"dataframe\">\n",
       "  <thead>\n",
       "    <tr style=\"text-align: right;\">\n",
       "      <th></th>\n",
       "      <th>model</th>\n",
       "      <th>accuracy</th>\n",
       "      <th>mae</th>\n",
       "      <th>mse</th>\n",
       "    </tr>\n",
       "  </thead>\n",
       "  <tbody>\n",
       "    <tr>\n",
       "      <td>219</td>\n",
       "      <td>CNN/CNN_v8/weights/cnn_v8_1e_6_29_0.4</td>\n",
       "      <td>90.280334</td>\n",
       "      <td>2.996667</td>\n",
       "      <td>13.743333</td>\n",
       "    </tr>\n",
       "  </tbody>\n",
       "</table>\n",
       "</div>"
      ],
      "text/plain": [
       "                                     model   accuracy       mae        mse\n",
       "219  CNN/CNN_v8/weights/cnn_v8_1e_6_29_0.4  90.280334  2.996667  13.743333"
      ]
     },
     "execution_count": 12,
     "metadata": {},
     "output_type": "execute_result"
    }
   ],
   "source": [
    "frame.loc[frame.mae == frame.mae.min()]"
   ]
  },
  {
   "cell_type": "code",
   "execution_count": 13,
   "metadata": {},
   "outputs": [
    {
     "data": {
      "text/html": [
       "<div>\n",
       "<style scoped>\n",
       "    .dataframe tbody tr th:only-of-type {\n",
       "        vertical-align: middle;\n",
       "    }\n",
       "\n",
       "    .dataframe tbody tr th {\n",
       "        vertical-align: top;\n",
       "    }\n",
       "\n",
       "    .dataframe thead th {\n",
       "        text-align: right;\n",
       "    }\n",
       "</style>\n",
       "<table border=\"1\" class=\"dataframe\">\n",
       "  <thead>\n",
       "    <tr style=\"text-align: right;\">\n",
       "      <th></th>\n",
       "      <th>model</th>\n",
       "      <th>accuracy</th>\n",
       "      <th>mae</th>\n",
       "      <th>mse</th>\n",
       "    </tr>\n",
       "  </thead>\n",
       "  <tbody>\n",
       "    <tr>\n",
       "      <td>219</td>\n",
       "      <td>CNN/CNN_v8/weights/cnn_v8_1e_6_29_0.4</td>\n",
       "      <td>90.280334</td>\n",
       "      <td>2.996667</td>\n",
       "      <td>13.743333</td>\n",
       "    </tr>\n",
       "  </tbody>\n",
       "</table>\n",
       "</div>"
      ],
      "text/plain": [
       "                                     model   accuracy       mae        mse\n",
       "219  CNN/CNN_v8/weights/cnn_v8_1e_6_29_0.4  90.280334  2.996667  13.743333"
      ]
     },
     "execution_count": 13,
     "metadata": {},
     "output_type": "execute_result"
    }
   ],
   "source": [
    "frame.loc[frame.mse == frame.mse.min()]"
   ]
  },
  {
   "cell_type": "code",
   "execution_count": 14,
   "metadata": {},
   "outputs": [
    {
     "data": {
      "text/html": [
       "<div>\n",
       "<style scoped>\n",
       "    .dataframe tbody tr th:only-of-type {\n",
       "        vertical-align: middle;\n",
       "    }\n",
       "\n",
       "    .dataframe tbody tr th {\n",
       "        vertical-align: top;\n",
       "    }\n",
       "\n",
       "    .dataframe thead th {\n",
       "        text-align: right;\n",
       "    }\n",
       "</style>\n",
       "<table border=\"1\" class=\"dataframe\">\n",
       "  <thead>\n",
       "    <tr style=\"text-align: right;\">\n",
       "      <th></th>\n",
       "      <th>model</th>\n",
       "      <th>accuracy</th>\n",
       "      <th>mae</th>\n",
       "      <th>mse</th>\n",
       "    </tr>\n",
       "  </thead>\n",
       "  <tbody>\n",
       "    <tr>\n",
       "      <td>219</td>\n",
       "      <td>CNN/CNN_v8/weights/cnn_v8_1e_6_29_0.4</td>\n",
       "      <td>90.280334</td>\n",
       "      <td>2.996667</td>\n",
       "      <td>13.743333</td>\n",
       "    </tr>\n",
       "  </tbody>\n",
       "</table>\n",
       "</div>"
      ],
      "text/plain": [
       "                                     model   accuracy       mae        mse\n",
       "219  CNN/CNN_v8/weights/cnn_v8_1e_6_29_0.4  90.280334  2.996667  13.743333"
      ]
     },
     "execution_count": 14,
     "metadata": {},
     "output_type": "execute_result"
    }
   ],
   "source": [
    "frame.loc[frame.accuracy == frame.accuracy.max()]"
   ]
  }
 ],
 "metadata": {
  "kernelspec": {
   "display_name": "Python 3",
   "language": "python",
   "name": "python3"
  },
  "language_info": {
   "codemirror_mode": {
    "name": "ipython",
    "version": 3
   },
   "file_extension": ".py",
   "mimetype": "text/x-python",
   "name": "python",
   "nbconvert_exporter": "python",
   "pygments_lexer": "ipython3",
   "version": "3.7.4"
  }
 },
 "nbformat": 4,
 "nbformat_minor": 4
}
