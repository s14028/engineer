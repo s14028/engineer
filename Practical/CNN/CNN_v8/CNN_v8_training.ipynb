{
 "cells": [
  {
   "cell_type": "code",
   "execution_count": 1,
   "metadata": {},
   "outputs": [
    {
     "name": "stdout",
     "output_type": "stream",
     "text": [
      "/home/PJWSTK/s14028/engineer/Practical\n"
     ]
    }
   ],
   "source": [
    "%cd ../../"
   ]
  },
  {
   "cell_type": "code",
   "execution_count": 2,
   "metadata": {},
   "outputs": [
    {
     "name": "stderr",
     "output_type": "stream",
     "text": [
      "Using TensorFlow backend.\n"
     ]
    }
   ],
   "source": [
    "import keras\n",
    "import scipy.io as mat\n",
    "\n",
    "from common import *\n",
    "from augmentation import add_pmap\n",
    "from augmentation import augmentation_data\n",
    "from augmentation import augment_data\n",
    "\n",
    "from CNN.CNN_v8 import CNN_v8"
   ]
  },
  {
   "cell_type": "code",
   "execution_count": 3,
   "metadata": {},
   "outputs": [],
   "source": [
    "perspective = mat.loadmat(\"mall_dataset/perspective_roi.mat\")[\"pMapN\"]\n",
    "\n",
    "perspective /= np.min(perspective)\n",
    "perspective = np.round(perspective).astype(np.uint8)\n",
    "\n",
    "train, test = data_sets()\n",
    "image_tensors = train[0], test[0]\n",
    "person_coo_tensors = train[1], test[1]\n",
    "count_matrix = train[2], test[2]\n",
    "\n",
    "image_train, image_test = image_tensors\n",
    "person_coo_train, person_coo_test = person_coo_tensors\n",
    "count_train, count_test = count_matrix\n",
    "count_train = count_train.astype(np.uint16)\n",
    "count_test = count_test.astype(np.uint16)\n",
    "\n",
    "image_train = add_pmap(image_train, perspective)\n",
    "image_test = add_pmap(image_test, perspective)"
   ]
  },
  {
   "cell_type": "code",
   "execution_count": 4,
   "metadata": {},
   "outputs": [
    {
     "data": {
      "text/plain": [
       "<keras.engine.sequential.Sequential at 0x7fedfa2c43d0>"
      ]
     },
     "execution_count": 4,
     "metadata": {},
     "output_type": "execute_result"
    }
   ],
   "source": [
    "cnn_v8 = CNN_v8((480, 640, 4), split_into_parts=20)\n",
    "cnn_v8.def_model()"
   ]
  },
  {
   "cell_type": "code",
   "execution_count": 5,
   "metadata": {},
   "outputs": [],
   "source": [
    "images = cnn_v8._prepare_images(image_train)\n",
    "anwsers = cnn_v8._prepare_anwsers(person_coo_train)"
   ]
  },
  {
   "cell_type": "code",
   "execution_count": 6,
   "metadata": {},
   "outputs": [],
   "source": [
    "ones_count = (np.sum(anwsers == 1) * 0.25).astype(np.uint32)\n",
    "zeros_count = (ones_count / 0.25 * 0.75).astype(np.uint32)\n",
    "validation_length = (zeros_count + ones_count).astype(np.int32)\n",
    "\n",
    "val_indices = np.concatenate([np.where(anwsers == 0)[0][:zeros_count],\n",
    "                              np.where(anwsers == 1)[0][:ones_count]])"
   ]
  },
  {
   "cell_type": "code",
   "execution_count": 7,
   "metadata": {},
   "outputs": [],
   "source": [
    "anwsers[val_indices[zeros_count:]] = 0"
   ]
  },
  {
   "cell_type": "code",
   "execution_count": 8,
   "metadata": {},
   "outputs": [],
   "source": [
    "val_indices = -(images.shape[0] - val_indices)"
   ]
  },
  {
   "cell_type": "code",
   "execution_count": 9,
   "metadata": {},
   "outputs": [],
   "source": [
    "generator = keras.preprocessing.image.ImageDataGenerator(rotation_range=20)\n",
    "\n",
    "augmentation = augmentation_data(image_train, anwsers, 20)\n",
    "augmented_data = augment_data(generator, augmentation, images, anwsers)\n",
    "images, anwsers = augmented_data"
   ]
  },
  {
   "cell_type": "code",
   "execution_count": 10,
   "metadata": {},
   "outputs": [],
   "source": [
    "anwsers[val_indices[zeros_count:]] = 1\n",
    "\n",
    "images[-validation_length:], images[val_indices] = images[val_indices], images[-validation_length:]\n",
    "anwsers[-validation_length:], anwsers[val_indices] = anwsers[val_indices], anwsers[-validation_length:]"
   ]
  },
  {
   "cell_type": "code",
   "execution_count": 11,
   "metadata": {},
   "outputs": [],
   "source": [
    "parallel_model = keras.utils.multi_gpu_model(\n",
    "        cnn_v8.model,\n",
    "        gpus=2,\n",
    "        cpu_merge=False)\n",
    "parallel_model.compile(\n",
    "        loss=\"binary_crossentropy\", \n",
    "        optimizer=\"adam\", \n",
    "        metrics=[\"accuracy\"])"
   ]
  },
  {
   "cell_type": "code",
   "execution_count": 12,
   "metadata": {},
   "outputs": [],
   "source": [
    "path = \"CNN/CNN_v8/weights/cnn_v8_1e_6_{}\"\n",
    "\n",
    "class ModelSaver(keras.callbacks.Callback):\n",
    "    __path: str\n",
    "    __current_epoch: int\n",
    "        \n",
    "    def __init__(self, path: str, epoch: int = 0):\n",
    "        self.__path = path\n",
    "        self.__current_epoch = epoch\n",
    "        \n",
    "    def on_epoch_end(self, *args, **kwargs):\n",
    "        epoch_path = self.__path.format(self.__current_epoch)\n",
    "        self.__current_epoch += 1\n",
    "        \n",
    "        parallel_model.save_weights(epoch_path)\n",
    "\n",
    "model_saver = ModelSaver(path, 5)"
   ]
  },
  {
   "cell_type": "code",
   "execution_count": 13,
   "metadata": {},
   "outputs": [
    {
     "data": {
      "text/plain": [
       "<tf.Variable 'UnreadVariable' shape=() dtype=float32, numpy=1e-04>"
      ]
     },
     "execution_count": 13,
     "metadata": {},
     "output_type": "execute_result"
    }
   ],
   "source": [
    "parallel_model.optimizer.lr.assign(1e-4)"
   ]
  },
  {
   "cell_type": "code",
   "execution_count": 14,
   "metadata": {},
   "outputs": [
    {
     "name": "stdout",
     "output_type": "stream",
     "text": [
      "Train on 1244460 samples, validate on 46216 samples\n",
      "Epoch 1/5\n",
      "1244460/1244460 [==============================] - 179s 144us/step - loss: 6.4010 - accuracy: 0.8888 - val_loss: 2.3206 - val_accuracy: 0.8097\n",
      "Epoch 2/5\n",
      "1244460/1244460 [==============================] - 176s 142us/step - loss: 1.2388 - accuracy: 0.9478 - val_loss: 0.8566 - val_accuracy: 0.8859\n",
      "Epoch 3/5\n",
      "1244460/1244460 [==============================] - 175s 141us/step - loss: 0.5837 - accuracy: 0.9587 - val_loss: 0.5637 - val_accuracy: 0.8959\n",
      "Epoch 4/5\n",
      "1244460/1244460 [==============================] - 175s 140us/step - loss: 0.3848 - accuracy: 0.9639 - val_loss: 0.4391 - val_accuracy: 0.8975\n",
      "Epoch 5/5\n",
      "1244460/1244460 [==============================] - 175s 140us/step - loss: 0.2859 - accuracy: 0.9663 - val_loss: 0.3671 - val_accuracy: 0.9042\n"
     ]
    },
    {
     "data": {
      "text/plain": [
       "<keras.callbacks.callbacks.History at 0x7fec68464610>"
      ]
     },
     "execution_count": 14,
     "metadata": {},
     "output_type": "execute_result"
    }
   ],
   "source": [
    "parallel_model.fit(images[:-validation_length], anwsers[:-validation_length], batch_size=5000, epochs=5,\n",
    "                   validation_data=(images[-validation_length:], anwsers[-validation_length:]),\n",
    "                   callbacks=[model_saver])"
   ]
  },
  {
   "cell_type": "code",
   "execution_count": 15,
   "metadata": {},
   "outputs": [
    {
     "name": "stdout",
     "output_type": "stream",
     "text": [
      "Train on 1244460 samples, validate on 46216 samples\n",
      "Epoch 1/5\n",
      "1244460/1244460 [==============================] - 175s 141us/step - loss: 0.2255 - accuracy: 0.9683 - val_loss: 0.3241 - val_accuracy: 0.9011\n",
      "Epoch 2/5\n",
      "1244460/1244460 [==============================] - 175s 140us/step - loss: 0.1869 - accuracy: 0.9697 - val_loss: 0.2819 - val_accuracy: 0.9121\n",
      "Epoch 3/5\n",
      "1244460/1244460 [==============================] - 175s 140us/step - loss: 0.1590 - accuracy: 0.9714 - val_loss: 0.2763 - val_accuracy: 0.9061\n",
      "Epoch 4/5\n",
      "1244460/1244460 [==============================] - 175s 140us/step - loss: 0.1395 - accuracy: 0.9728 - val_loss: 0.2465 - val_accuracy: 0.9167\n",
      "Epoch 5/5\n",
      "1244460/1244460 [==============================] - 175s 140us/step - loss: 0.1249 - accuracy: 0.9737 - val_loss: 0.2399 - val_accuracy: 0.9149\n"
     ]
    },
    {
     "data": {
      "text/plain": [
       "<keras.callbacks.callbacks.History at 0x7fec6077f490>"
      ]
     },
     "execution_count": 15,
     "metadata": {},
     "output_type": "execute_result"
    }
   ],
   "source": [
    "parallel_model.fit(images[:-validation_length], anwsers[:-validation_length], batch_size=5000, epochs=5,\n",
    "                   validation_data=(images[-validation_length:], anwsers[-validation_length:]),\n",
    "                   callbacks=[model_saver])"
   ]
  },
  {
   "cell_type": "code",
   "execution_count": 16,
   "metadata": {},
   "outputs": [
    {
     "data": {
      "text/plain": [
       "<tf.Variable 'UnreadVariable' shape=() dtype=float32, numpy=1e-05>"
      ]
     },
     "execution_count": 16,
     "metadata": {},
     "output_type": "execute_result"
    }
   ],
   "source": [
    "parallel_model.optimizer.lr.assign(1e-5)"
   ]
  },
  {
   "cell_type": "code",
   "execution_count": 17,
   "metadata": {},
   "outputs": [
    {
     "name": "stdout",
     "output_type": "stream",
     "text": [
      "Train on 1244460 samples, validate on 46216 samples\n",
      "Epoch 1/10\n",
      "1244460/1244460 [==============================] - 175s 140us/step - loss: 0.1100 - accuracy: 0.9776 - val_loss: 0.2149 - val_accuracy: 0.9249\n",
      "Epoch 2/10\n",
      "1244460/1244460 [==============================] - 175s 141us/step - loss: 0.1059 - accuracy: 0.9786 - val_loss: 0.2114 - val_accuracy: 0.9272\n",
      "Epoch 3/10\n",
      "1244460/1244460 [==============================] - 175s 140us/step - loss: 0.1035 - accuracy: 0.9793 - val_loss: 0.2094 - val_accuracy: 0.9269\n",
      "Epoch 4/10\n",
      "1244460/1244460 [==============================] - 175s 140us/step - loss: 0.1014 - accuracy: 0.9796 - val_loss: 0.2087 - val_accuracy: 0.9272\n",
      "Epoch 5/10\n",
      "1244460/1244460 [==============================] - 175s 140us/step - loss: 0.0999 - accuracy: 0.9797 - val_loss: 0.2018 - val_accuracy: 0.9302\n",
      "Epoch 6/10\n",
      "1244460/1244460 [==============================] - 175s 140us/step - loss: 0.0979 - accuracy: 0.9803 - val_loss: 0.1978 - val_accuracy: 0.9318\n",
      "Epoch 7/10\n",
      "1244460/1244460 [==============================] - 175s 140us/step - loss: 0.0964 - accuracy: 0.9803 - val_loss: 0.1944 - val_accuracy: 0.9325\n",
      "Epoch 8/10\n",
      "1244460/1244460 [==============================] - 175s 140us/step - loss: 0.0948 - accuracy: 0.9805 - val_loss: 0.1948 - val_accuracy: 0.9316\n",
      "Epoch 9/10\n",
      "1244460/1244460 [==============================] - 175s 140us/step - loss: 0.0931 - accuracy: 0.9807 - val_loss: 0.1905 - val_accuracy: 0.9336\n",
      "Epoch 10/10\n",
      "1244460/1244460 [==============================] - 175s 140us/step - loss: 0.0915 - accuracy: 0.9810 - val_loss: 0.1829 - val_accuracy: 0.9374\n"
     ]
    },
    {
     "data": {
      "text/plain": [
       "<keras.callbacks.callbacks.History at 0x7fedfc1c9350>"
      ]
     },
     "execution_count": 17,
     "metadata": {},
     "output_type": "execute_result"
    }
   ],
   "source": [
    "parallel_model.fit(images[:-validation_length], anwsers[:-validation_length], batch_size=5000, epochs=10,\n",
    "                   validation_data=(images[-validation_length:], anwsers[-validation_length:]),\n",
    "                   callbacks=[model_saver])"
   ]
  },
  {
   "cell_type": "code",
   "execution_count": 18,
   "metadata": {},
   "outputs": [
    {
     "name": "stdout",
     "output_type": "stream",
     "text": [
      "Train on 1244460 samples, validate on 46216 samples\n",
      "Epoch 1/5\n",
      "1244460/1244460 [==============================] - 175s 140us/step - loss: 0.0901 - accuracy: 0.9812 - val_loss: 0.1849 - val_accuracy: 0.9352\n",
      "Epoch 2/5\n",
      "1244460/1244460 [==============================] - 175s 140us/step - loss: 0.0884 - accuracy: 0.9814 - val_loss: 0.1816 - val_accuracy: 0.9361\n",
      "Epoch 3/5\n",
      "1244460/1244460 [==============================] - 175s 141us/step - loss: 0.0870 - accuracy: 0.9816 - val_loss: 0.1804 - val_accuracy: 0.9361\n",
      "Epoch 4/5\n",
      "1244460/1244460 [==============================] - 174s 140us/step - loss: 0.0856 - accuracy: 0.9818 - val_loss: 0.1770 - val_accuracy: 0.9376\n",
      "Epoch 5/5\n",
      "1244460/1244460 [==============================] - 175s 140us/step - loss: 0.0842 - accuracy: 0.9821 - val_loss: 0.1724 - val_accuracy: 0.9399\n"
     ]
    },
    {
     "data": {
      "text/plain": [
       "<keras.callbacks.callbacks.History at 0x7fec68319bd0>"
      ]
     },
     "execution_count": 18,
     "metadata": {},
     "output_type": "execute_result"
    }
   ],
   "source": [
    "parallel_model.fit(images[:-validation_length], anwsers[:-validation_length], batch_size=5000, epochs=5,\n",
    "                   validation_data=(images[-validation_length:], anwsers[-validation_length:]),\n",
    "                   callbacks=[model_saver])"
   ]
  },
  {
   "cell_type": "code",
   "execution_count": 19,
   "metadata": {},
   "outputs": [
    {
     "name": "stdout",
     "output_type": "stream",
     "text": [
      "Train on 1244460 samples, validate on 46216 samples\n",
      "Epoch 1/5\n",
      "1244460/1244460 [==============================] - 175s 140us/step - loss: 0.0828 - accuracy: 0.9823 - val_loss: 0.1699 - val_accuracy: 0.9413\n",
      "Epoch 2/5\n",
      "1244460/1244460 [==============================] - 174s 140us/step - loss: 0.0818 - accuracy: 0.9825 - val_loss: 0.1670 - val_accuracy: 0.9416\n",
      "Epoch 3/5\n",
      "1244460/1244460 [==============================] - 175s 140us/step - loss: 0.0803 - accuracy: 0.9827 - val_loss: 0.1672 - val_accuracy: 0.9419\n",
      "Epoch 4/5\n",
      "1244460/1244460 [==============================] - 175s 140us/step - loss: 0.0792 - accuracy: 0.9829 - val_loss: 0.1635 - val_accuracy: 0.9425\n",
      "Epoch 5/5\n",
      "1244460/1244460 [==============================] - 175s 140us/step - loss: 0.0782 - accuracy: 0.9831 - val_loss: 0.1585 - val_accuracy: 0.9461\n"
     ]
    },
    {
     "data": {
      "text/plain": [
       "<keras.callbacks.callbacks.History at 0x7fec684d53d0>"
      ]
     },
     "execution_count": 19,
     "metadata": {},
     "output_type": "execute_result"
    }
   ],
   "source": [
    "parallel_model.fit(images[:-validation_length], anwsers[:-validation_length], batch_size=5000, epochs=5,\n",
    "                   validation_data=(images[-validation_length:], anwsers[-validation_length:]),\n",
    "                   callbacks=[model_saver])"
   ]
  },
  {
   "cell_type": "code",
   "execution_count": 20,
   "metadata": {},
   "outputs": [
    {
     "name": "stdout",
     "output_type": "stream",
     "text": [
      "Train on 1244460 samples, validate on 46216 samples\n",
      "Epoch 1/5\n",
      "1244460/1244460 [==============================] - 175s 140us/step - loss: 0.0770 - accuracy: 0.9833 - val_loss: 0.1588 - val_accuracy: 0.9461\n",
      "Epoch 2/5\n",
      "1244460/1244460 [==============================] - 175s 140us/step - loss: 0.0759 - accuracy: 0.9836 - val_loss: 0.1570 - val_accuracy: 0.9461\n",
      "Epoch 3/5\n",
      "1244460/1244460 [==============================] - 175s 141us/step - loss: 0.0750 - accuracy: 0.9837 - val_loss: 0.1555 - val_accuracy: 0.9464\n",
      "Epoch 4/5\n",
      "1244460/1244460 [==============================] - 175s 140us/step - loss: 0.0739 - accuracy: 0.9838 - val_loss: 0.1528 - val_accuracy: 0.9479\n",
      "Epoch 5/5\n",
      "1244460/1244460 [==============================] - 174s 140us/step - loss: 0.0729 - accuracy: 0.9842 - val_loss: 0.1504 - val_accuracy: 0.9489\n"
     ]
    },
    {
     "data": {
      "text/plain": [
       "<keras.callbacks.callbacks.History at 0x7fec684d54d0>"
      ]
     },
     "execution_count": 20,
     "metadata": {},
     "output_type": "execute_result"
    }
   ],
   "source": [
    "parallel_model.fit(images[:-validation_length], anwsers[:-validation_length], batch_size=5000, epochs=5,\n",
    "                   validation_data=(images[-validation_length:], anwsers[-validation_length:]),\n",
    "                   callbacks=[model_saver])"
   ]
  },
  {
   "cell_type": "code",
   "execution_count": 21,
   "metadata": {},
   "outputs": [
    {
     "name": "stdout",
     "output_type": "stream",
     "text": [
      "Train on 1244460 samples, validate on 46216 samples\n",
      "Epoch 1/5\n",
      "1244460/1244460 [==============================] - 175s 141us/step - loss: 0.0720 - accuracy: 0.9844 - val_loss: 0.1504 - val_accuracy: 0.9483\n",
      "Epoch 2/5\n",
      "1244460/1244460 [==============================] - 174s 140us/step - loss: 0.0711 - accuracy: 0.9845 - val_loss: 0.1459 - val_accuracy: 0.9508\n",
      "Epoch 3/5\n",
      "1244460/1244460 [==============================] - 175s 140us/step - loss: 0.0700 - accuracy: 0.9848 - val_loss: 0.1450 - val_accuracy: 0.9508\n",
      "Epoch 4/5\n",
      "1244460/1244460 [==============================] - 175s 140us/step - loss: 0.0692 - accuracy: 0.9850 - val_loss: 0.1395 - val_accuracy: 0.9540\n",
      "Epoch 5/5\n",
      "1244460/1244460 [==============================] - 174s 140us/step - loss: 0.0684 - accuracy: 0.9851 - val_loss: 0.1394 - val_accuracy: 0.9540\n"
     ]
    },
    {
     "data": {
      "text/plain": [
       "<keras.callbacks.callbacks.History at 0x7fec683d68d0>"
      ]
     },
     "execution_count": 21,
     "metadata": {},
     "output_type": "execute_result"
    }
   ],
   "source": [
    "parallel_model.fit(images[:-validation_length], anwsers[:-validation_length], batch_size=5000, epochs=5,\n",
    "                   validation_data=(images[-validation_length:], anwsers[-validation_length:]),\n",
    "                   callbacks=[model_saver])"
   ]
  },
  {
   "cell_type": "code",
   "execution_count": 22,
   "metadata": {},
   "outputs": [
    {
     "name": "stdout",
     "output_type": "stream",
     "text": [
      "Train on 1244460 samples, validate on 46216 samples\n",
      "Epoch 1/5\n",
      "1244460/1244460 [==============================] - 174s 140us/step - loss: 0.0677 - accuracy: 0.9852 - val_loss: 0.1409 - val_accuracy: 0.9525\n",
      "Epoch 2/5\n",
      "1244460/1244460 [==============================] - 174s 140us/step - loss: 0.0669 - accuracy: 0.9854 - val_loss: 0.1356 - val_accuracy: 0.9552\n",
      "Epoch 3/5\n",
      "1244460/1244460 [==============================] - 175s 140us/step - loss: 0.0660 - accuracy: 0.9858 - val_loss: 0.1334 - val_accuracy: 0.9561\n",
      "Epoch 4/5\n",
      "1244460/1244460 [==============================] - 175s 140us/step - loss: 0.0652 - accuracy: 0.9858 - val_loss: 0.1356 - val_accuracy: 0.9549\n",
      "Epoch 5/5\n",
      "1244460/1244460 [==============================] - 175s 140us/step - loss: 0.0647 - accuracy: 0.9858 - val_loss: 0.1311 - val_accuracy: 0.9579\n"
     ]
    },
    {
     "data": {
      "text/plain": [
       "<keras.callbacks.callbacks.History at 0x7fec4052edd0>"
      ]
     },
     "execution_count": 22,
     "metadata": {},
     "output_type": "execute_result"
    }
   ],
   "source": [
    "parallel_model.fit(images[:-validation_length], anwsers[:-validation_length], batch_size=5000, epochs=5,\n",
    "                   validation_data=(images[-validation_length:], anwsers[-validation_length:]),\n",
    "                   callbacks=[model_saver])"
   ]
  },
  {
   "cell_type": "code",
   "execution_count": 23,
   "metadata": {},
   "outputs": [
    {
     "name": "stdout",
     "output_type": "stream",
     "text": [
      "Train on 1244460 samples, validate on 46216 samples\n",
      "Epoch 1/5\n",
      "1244460/1244460 [==============================] - 175s 140us/step - loss: 0.0637 - accuracy: 0.9862 - val_loss: 0.1290 - val_accuracy: 0.9579\n",
      "Epoch 2/5\n",
      "1244460/1244460 [==============================] - 174s 140us/step - loss: 0.0632 - accuracy: 0.9862 - val_loss: 0.1247 - val_accuracy: 0.9611\n",
      "Epoch 3/5\n",
      "1244460/1244460 [==============================] - 174s 140us/step - loss: 0.0624 - accuracy: 0.9864 - val_loss: 0.1299 - val_accuracy: 0.9572\n",
      "Epoch 4/5\n",
      "1244460/1244460 [==============================] - 175s 140us/step - loss: 0.0619 - accuracy: 0.9864 - val_loss: 0.1258 - val_accuracy: 0.9588\n",
      "Epoch 5/5\n",
      "1244460/1244460 [==============================] - 175s 140us/step - loss: 0.0612 - accuracy: 0.9867 - val_loss: 0.1206 - val_accuracy: 0.9619\n"
     ]
    },
    {
     "data": {
      "text/plain": [
       "<keras.callbacks.callbacks.History at 0x7feeca24a210>"
      ]
     },
     "execution_count": 23,
     "metadata": {},
     "output_type": "execute_result"
    }
   ],
   "source": [
    "parallel_model.fit(images[:-validation_length], anwsers[:-validation_length], batch_size=5000, epochs=5,\n",
    "                   validation_data=(images[-validation_length:], anwsers[-validation_length:]),\n",
    "                   callbacks=[model_saver])"
   ]
  }
 ],
 "metadata": {
  "kernelspec": {
   "display_name": "Python 3",
   "language": "python",
   "name": "python3"
  },
  "language_info": {
   "codemirror_mode": {
    "name": "ipython",
    "version": 3
   },
   "file_extension": ".py",
   "mimetype": "text/x-python",
   "name": "python",
   "nbconvert_exporter": "python",
   "pygments_lexer": "ipython3",
   "version": "3.7.4"
  }
 },
 "nbformat": 4,
 "nbformat_minor": 4
}
