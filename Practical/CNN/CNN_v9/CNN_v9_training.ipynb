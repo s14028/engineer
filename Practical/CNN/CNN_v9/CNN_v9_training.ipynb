{
 "cells": [
  {
   "cell_type": "code",
   "execution_count": 1,
   "metadata": {},
   "outputs": [
    {
     "name": "stdout",
     "output_type": "stream",
     "text": [
      "/home/PJWSTK/s14028/engineer/Practical\n"
     ]
    }
   ],
   "source": [
    "%cd ../../"
   ]
  },
  {
   "cell_type": "code",
   "execution_count": 2,
   "metadata": {},
   "outputs": [
    {
     "name": "stderr",
     "output_type": "stream",
     "text": [
      "Using TensorFlow backend.\n"
     ]
    }
   ],
   "source": [
    "import keras\n",
    "import scipy.io as mat\n",
    "\n",
    "from common import *\n",
    "from augmentation import add_pmap\n",
    "from augmentation import augmentation_data\n",
    "from augmentation import augment_data\n",
    "\n",
    "from CNN.CNN_v9 import CNN_v9"
   ]
  },
  {
   "cell_type": "code",
   "execution_count": 3,
   "metadata": {},
   "outputs": [],
   "source": [
    "perspective = mat.loadmat(\"mall_dataset/perspective_roi.mat\")[\"pMapN\"]\n",
    "\n",
    "perspective /= np.min(perspective)\n",
    "perspective = np.round(perspective).astype(np.uint8)\n",
    "\n",
    "train, test = data_sets()\n",
    "image_tensors = train[0], test[0]\n",
    "person_coo_tensors = train[1], test[1]\n",
    "count_matrix = train[2], test[2]\n",
    "\n",
    "image_train, image_test = image_tensors\n",
    "person_coo_train, person_coo_test = person_coo_tensors\n",
    "count_train, count_test = count_matrix\n",
    "count_train = count_train.astype(np.uint16)\n",
    "count_test = count_test.astype(np.uint16)\n",
    "\n",
    "image_train = add_pmap(image_train, perspective)\n",
    "image_test = add_pmap(image_test, perspective)"
   ]
  },
  {
   "cell_type": "code",
   "execution_count": 4,
   "metadata": {},
   "outputs": [
    {
     "data": {
      "text/plain": [
       "<keras.engine.sequential.Sequential at 0x7f8b5649df90>"
      ]
     },
     "execution_count": 4,
     "metadata": {},
     "output_type": "execute_result"
    }
   ],
   "source": [
    "cnn_v9 = CNN_v9((480, 640, 4), split_into_parts=20)\n",
    "cnn_v9.def_model()"
   ]
  },
  {
   "cell_type": "code",
   "execution_count": 5,
   "metadata": {},
   "outputs": [],
   "source": [
    "images = cnn_v9._prepare_images(image_train)\n",
    "anwsers = cnn_v9._prepare_anwsers(person_coo_train)"
   ]
  },
  {
   "cell_type": "code",
   "execution_count": 6,
   "metadata": {},
   "outputs": [],
   "source": [
    "ones_count = (np.sum(anwsers == 1) * 0.25).astype(np.uint32)\n",
    "zeros_count = (ones_count / 0.25 * 0.75).astype(np.uint32)\n",
    "validation_length = (zeros_count + ones_count).astype(np.int32)\n",
    "\n",
    "val_indices = np.concatenate([np.where(anwsers == 0)[0][:zeros_count],\n",
    "                              np.where(anwsers == 1)[0][:ones_count]])"
   ]
  },
  {
   "cell_type": "code",
   "execution_count": 7,
   "metadata": {},
   "outputs": [],
   "source": [
    "anwsers[val_indices[zeros_count:]] = 0"
   ]
  },
  {
   "cell_type": "code",
   "execution_count": 8,
   "metadata": {},
   "outputs": [],
   "source": [
    "val_indices = -(images.shape[0] - val_indices)"
   ]
  },
  {
   "cell_type": "code",
   "execution_count": 9,
   "metadata": {},
   "outputs": [],
   "source": [
    "generator = keras.preprocessing.image.ImageDataGenerator(rotation_range=20)\n",
    "\n",
    "augmentation = augmentation_data(image_train, anwsers, 20)\n",
    "augmented_data = augment_data(generator, augmentation, images, anwsers)\n",
    "images, anwsers = augmented_data"
   ]
  },
  {
   "cell_type": "code",
   "execution_count": 10,
   "metadata": {},
   "outputs": [],
   "source": [
    "anwsers[val_indices[zeros_count:]] = 1\n",
    "\n",
    "images[-validation_length:], images[val_indices] = images[val_indices], images[-validation_length:]\n",
    "anwsers[-validation_length:], anwsers[val_indices] = anwsers[val_indices], anwsers[-validation_length:]"
   ]
  },
  {
   "cell_type": "code",
   "execution_count": 11,
   "metadata": {},
   "outputs": [],
   "source": [
    "parallel_model = keras.utils.multi_gpu_model(\n",
    "        cnn_v9.model,\n",
    "        gpus=2,\n",
    "        cpu_merge=False)\n",
    "parallel_model.compile(\n",
    "        loss=\"binary_crossentropy\", \n",
    "        optimizer=\"adam\", \n",
    "        metrics=[\"accuracy\"])"
   ]
  },
  {
   "cell_type": "code",
   "execution_count": 12,
   "metadata": {},
   "outputs": [],
   "source": [
    "path = \"CNN/CNN_v9/weights/cnn_v9_1e_6_{}\"\n",
    "\n",
    "class ModelSaver(keras.callbacks.Callback):\n",
    "    __path: str\n",
    "    __current_epoch: int\n",
    "        \n",
    "    def __init__(self, path: str, epoch: int = 0):\n",
    "        self.__path = path\n",
    "        self.__current_epoch = epoch\n",
    "        \n",
    "    def on_epoch_end(self, *args, **kwargs):\n",
    "        epoch_path = self.__path.format(self.__current_epoch)\n",
    "        self.__current_epoch += 1\n",
    "        \n",
    "        parallel_model.save_weights(epoch_path)\n",
    "\n",
    "model_saver = ModelSaver(path, 5)"
   ]
  },
  {
   "cell_type": "code",
   "execution_count": 13,
   "metadata": {},
   "outputs": [
    {
     "data": {
      "text/plain": [
       "<tf.Variable 'UnreadVariable' shape=() dtype=float32, numpy=1e-04>"
      ]
     },
     "execution_count": 13,
     "metadata": {},
     "output_type": "execute_result"
    }
   ],
   "source": [
    "parallel_model.optimizer.lr.assign(1e-4)"
   ]
  },
  {
   "cell_type": "code",
   "execution_count": 14,
   "metadata": {},
   "outputs": [
    {
     "name": "stdout",
     "output_type": "stream",
     "text": [
      "Train on 1244460 samples, validate on 46216 samples\n",
      "Epoch 1/5\n",
      "1244460/1244460 [==============================] - 180s 145us/step - loss: 0.7217 - accuracy: 0.9025 - val_loss: 0.5272 - val_accuracy: 0.9034\n",
      "Epoch 2/5\n",
      "1244460/1244460 [==============================] - 176s 141us/step - loss: 0.2338 - accuracy: 0.9604 - val_loss: 0.3163 - val_accuracy: 0.8966\n",
      "Epoch 3/5\n",
      "1244460/1244460 [==============================] - 175s 140us/step - loss: 0.1613 - accuracy: 0.9690 - val_loss: 0.2768 - val_accuracy: 0.9035\n",
      "Epoch 4/5\n",
      "1244460/1244460 [==============================] - 175s 140us/step - loss: 0.1318 - accuracy: 0.9728 - val_loss: 0.2436 - val_accuracy: 0.9139\n",
      "Epoch 5/5\n",
      "1244460/1244460 [==============================] - 175s 141us/step - loss: 0.1143 - accuracy: 0.9751 - val_loss: 0.2380 - val_accuracy: 0.9128\n"
     ]
    },
    {
     "data": {
      "text/plain": [
       "<keras.callbacks.callbacks.History at 0x7f89f8424650>"
      ]
     },
     "execution_count": 14,
     "metadata": {},
     "output_type": "execute_result"
    }
   ],
   "source": [
    "parallel_model.fit(images[:-validation_length], anwsers[:-validation_length], batch_size=5000, epochs=5,\n",
    "                   validation_data=(images[-validation_length:], anwsers[-validation_length:]),\n",
    "                   callbacks=[model_saver])"
   ]
  },
  {
   "cell_type": "code",
   "execution_count": 15,
   "metadata": {},
   "outputs": [
    {
     "data": {
      "text/plain": [
       "<tf.Variable 'UnreadVariable' shape=() dtype=float32, numpy=1e-05>"
      ]
     },
     "execution_count": 15,
     "metadata": {},
     "output_type": "execute_result"
    }
   ],
   "source": [
    "parallel_model.optimizer.lr.assign(1e-5)"
   ]
  },
  {
   "cell_type": "code",
   "execution_count": 16,
   "metadata": {},
   "outputs": [
    {
     "name": "stdout",
     "output_type": "stream",
     "text": [
      "Train on 1244460 samples, validate on 46216 samples\n",
      "Epoch 1/10\n",
      "1244460/1244460 [==============================] - 175s 140us/step - loss: 0.0988 - accuracy: 0.9792 - val_loss: 0.2128 - val_accuracy: 0.9245\n",
      "Epoch 2/10\n",
      "1244460/1244460 [==============================] - 176s 141us/step - loss: 0.0955 - accuracy: 0.9801 - val_loss: 0.2103 - val_accuracy: 0.9265\n",
      "Epoch 3/10\n",
      "1244460/1244460 [==============================] - 174s 140us/step - loss: 0.0936 - accuracy: 0.9805 - val_loss: 0.2110 - val_accuracy: 0.9248\n",
      "Epoch 4/10\n",
      "1244460/1244460 [==============================] - 174s 140us/step - loss: 0.0917 - accuracy: 0.9809 - val_loss: 0.2053 - val_accuracy: 0.9272\n",
      "Epoch 5/10\n",
      "1244460/1244460 [==============================] - 174s 140us/step - loss: 0.0902 - accuracy: 0.9811 - val_loss: 0.2010 - val_accuracy: 0.9291\n",
      "Epoch 6/10\n",
      "1244460/1244460 [==============================] - 174s 140us/step - loss: 0.0883 - accuracy: 0.9816 - val_loss: 0.2033 - val_accuracy: 0.9278\n",
      "Epoch 7/10\n",
      "1244460/1244460 [==============================] - 174s 140us/step - loss: 0.0866 - accuracy: 0.9819 - val_loss: 0.1981 - val_accuracy: 0.9294\n",
      "Epoch 8/10\n",
      "1244460/1244460 [==============================] - 174s 140us/step - loss: 0.0849 - accuracy: 0.9823 - val_loss: 0.1929 - val_accuracy: 0.9322\n",
      "Epoch 9/10\n",
      "1244460/1244460 [==============================] - 174s 140us/step - loss: 0.0832 - accuracy: 0.9825 - val_loss: 0.1915 - val_accuracy: 0.9322\n",
      "Epoch 10/10\n",
      "1244460/1244460 [==============================] - 174s 139us/step - loss: 0.0815 - accuracy: 0.9829 - val_loss: 0.1882 - val_accuracy: 0.9331\n"
     ]
    },
    {
     "data": {
      "text/plain": [
       "<keras.callbacks.callbacks.History at 0x7f8b558f3e10>"
      ]
     },
     "execution_count": 16,
     "metadata": {},
     "output_type": "execute_result"
    }
   ],
   "source": [
    "parallel_model.fit(images[:-validation_length], anwsers[:-validation_length], batch_size=5000, epochs=10,\n",
    "                   validation_data=(images[-validation_length:], anwsers[-validation_length:]),\n",
    "                   callbacks=[model_saver])"
   ]
  },
  {
   "cell_type": "code",
   "execution_count": 17,
   "metadata": {},
   "outputs": [
    {
     "name": "stdout",
     "output_type": "stream",
     "text": [
      "Train on 1244460 samples, validate on 46216 samples\n",
      "Epoch 1/5\n",
      "1244460/1244460 [==============================] - 176s 142us/step - loss: 0.0802 - accuracy: 0.9832 - val_loss: 0.1850 - val_accuracy: 0.9346\n",
      "Epoch 2/5\n",
      "1244460/1244460 [==============================] - 175s 140us/step - loss: 0.0786 - accuracy: 0.9835 - val_loss: 0.1817 - val_accuracy: 0.9352\n",
      "Epoch 3/5\n",
      "1244460/1244460 [==============================] - 175s 140us/step - loss: 0.0770 - accuracy: 0.9838 - val_loss: 0.1810 - val_accuracy: 0.9357\n",
      "Epoch 4/5\n",
      "1244460/1244460 [==============================] - 175s 140us/step - loss: 0.0756 - accuracy: 0.9840 - val_loss: 0.1781 - val_accuracy: 0.9366\n",
      "Epoch 5/5\n",
      "1244460/1244460 [==============================] - 175s 140us/step - loss: 0.0742 - accuracy: 0.9844 - val_loss: 0.1746 - val_accuracy: 0.9377\n"
     ]
    },
    {
     "data": {
      "text/plain": [
       "<keras.callbacks.callbacks.History at 0x7f89d0275d50>"
      ]
     },
     "execution_count": 17,
     "metadata": {},
     "output_type": "execute_result"
    }
   ],
   "source": [
    "parallel_model.fit(images[:-validation_length], anwsers[:-validation_length], batch_size=5000, epochs=5,\n",
    "                   validation_data=(images[-validation_length:], anwsers[-validation_length:]),\n",
    "                   callbacks=[model_saver])"
   ]
  },
  {
   "cell_type": "code",
   "execution_count": 18,
   "metadata": {},
   "outputs": [
    {
     "name": "stdout",
     "output_type": "stream",
     "text": [
      "Train on 1244460 samples, validate on 46216 samples\n",
      "Epoch 1/5\n",
      "1244460/1244460 [==============================] - 174s 140us/step - loss: 0.0729 - accuracy: 0.9846 - val_loss: 0.1696 - val_accuracy: 0.9403\n",
      "Epoch 2/5\n",
      "1244460/1244460 [==============================] - 175s 141us/step - loss: 0.0717 - accuracy: 0.9849 - val_loss: 0.1649 - val_accuracy: 0.9427\n",
      "Epoch 3/5\n",
      "1244460/1244460 [==============================] - 175s 141us/step - loss: 0.0703 - accuracy: 0.9852 - val_loss: 0.1656 - val_accuracy: 0.9411\n",
      "Epoch 4/5\n",
      "1244460/1244460 [==============================] - 175s 140us/step - loss: 0.0688 - accuracy: 0.9856 - val_loss: 0.1618 - val_accuracy: 0.9432\n",
      "Epoch 5/5\n",
      "1244460/1244460 [==============================] - 175s 141us/step - loss: 0.0678 - accuracy: 0.9857 - val_loss: 0.1562 - val_accuracy: 0.9466\n"
     ]
    },
    {
     "data": {
      "text/plain": [
       "<keras.callbacks.callbacks.History at 0x7f89d80ea1d0>"
      ]
     },
     "execution_count": 18,
     "metadata": {},
     "output_type": "execute_result"
    }
   ],
   "source": [
    "parallel_model.fit(images[:-validation_length], anwsers[:-validation_length], batch_size=5000, epochs=5,\n",
    "                   validation_data=(images[-validation_length:], anwsers[-validation_length:]),\n",
    "                   callbacks=[model_saver])"
   ]
  },
  {
   "cell_type": "code",
   "execution_count": 19,
   "metadata": {},
   "outputs": [
    {
     "name": "stdout",
     "output_type": "stream",
     "text": [
      "Train on 1244460 samples, validate on 46216 samples\n",
      "Epoch 1/5\n",
      "1244460/1244460 [==============================] - 175s 141us/step - loss: 0.0668 - accuracy: 0.9860 - val_loss: 0.1579 - val_accuracy: 0.9444\n",
      "Epoch 2/5\n",
      "1244460/1244460 [==============================] - 174s 140us/step - loss: 0.0654 - accuracy: 0.9864 - val_loss: 0.1571 - val_accuracy: 0.9445\n",
      "Epoch 3/5\n",
      "1244460/1244460 [==============================] - 176s 141us/step - loss: 0.0643 - accuracy: 0.9866 - val_loss: 0.1513 - val_accuracy: 0.9477\n",
      "Epoch 4/5\n",
      "1244460/1244460 [==============================] - 174s 140us/step - loss: 0.0633 - accuracy: 0.9869 - val_loss: 0.1480 - val_accuracy: 0.9501\n",
      "Epoch 5/5\n",
      "1244460/1244460 [==============================] - 177s 142us/step - loss: 0.0622 - accuracy: 0.9870 - val_loss: 0.1431 - val_accuracy: 0.9514\n"
     ]
    },
    {
     "data": {
      "text/plain": [
       "<keras.callbacks.callbacks.History at 0x7f89f84a9cd0>"
      ]
     },
     "execution_count": 19,
     "metadata": {},
     "output_type": "execute_result"
    }
   ],
   "source": [
    "parallel_model.fit(images[:-validation_length], anwsers[:-validation_length], batch_size=5000, epochs=5,\n",
    "                   validation_data=(images[-validation_length:], anwsers[-validation_length:]),\n",
    "                   callbacks=[model_saver])"
   ]
  },
  {
   "cell_type": "code",
   "execution_count": 20,
   "metadata": {},
   "outputs": [
    {
     "name": "stdout",
     "output_type": "stream",
     "text": [
      "Train on 1244460 samples, validate on 46216 samples\n",
      "Epoch 1/5\n",
      "1244460/1244460 [==============================] - 175s 141us/step - loss: 0.0613 - accuracy: 0.9872 - val_loss: 0.1439 - val_accuracy: 0.9517\n",
      "Epoch 2/5\n",
      "1244460/1244460 [==============================] - 177s 142us/step - loss: 0.0602 - accuracy: 0.9876 - val_loss: 0.1413 - val_accuracy: 0.9528\n",
      "Epoch 3/5\n",
      "1244460/1244460 [==============================] - 175s 140us/step - loss: 0.0593 - accuracy: 0.9876 - val_loss: 0.1363 - val_accuracy: 0.9562\n",
      "Epoch 4/5\n",
      "1244460/1244460 [==============================] - 174s 140us/step - loss: 0.0584 - accuracy: 0.9880 - val_loss: 0.1374 - val_accuracy: 0.9546\n",
      "Epoch 5/5\n",
      "1244460/1244460 [==============================] - 174s 140us/step - loss: 0.0572 - accuracy: 0.9883 - val_loss: 0.1340 - val_accuracy: 0.9561\n"
     ]
    },
    {
     "data": {
      "text/plain": [
       "<keras.callbacks.callbacks.History at 0x7f89d0275550>"
      ]
     },
     "execution_count": 20,
     "metadata": {},
     "output_type": "execute_result"
    }
   ],
   "source": [
    "parallel_model.fit(images[:-validation_length], anwsers[:-validation_length], batch_size=5000, epochs=5,\n",
    "                   validation_data=(images[-validation_length:], anwsers[-validation_length:]),\n",
    "                   callbacks=[model_saver])"
   ]
  },
  {
   "cell_type": "code",
   "execution_count": 21,
   "metadata": {},
   "outputs": [
    {
     "name": "stdout",
     "output_type": "stream",
     "text": [
      "Train on 1244460 samples, validate on 46216 samples\n",
      "Epoch 1/5\n",
      "1244460/1244460 [==============================] - 174s 140us/step - loss: 0.0564 - accuracy: 0.9885 - val_loss: 0.1333 - val_accuracy: 0.9558\n",
      "Epoch 2/5\n",
      "1244460/1244460 [==============================] - 175s 141us/step - loss: 0.0557 - accuracy: 0.9886 - val_loss: 0.1277 - val_accuracy: 0.9592\n",
      "Epoch 3/5\n",
      "1244460/1244460 [==============================] - 174s 140us/step - loss: 0.0548 - accuracy: 0.9888 - val_loss: 0.1294 - val_accuracy: 0.9574\n",
      "Epoch 4/5\n",
      "1244460/1244460 [==============================] - 174s 140us/step - loss: 0.0539 - accuracy: 0.9891 - val_loss: 0.1308 - val_accuracy: 0.9571\n",
      "Epoch 5/5\n",
      "1244460/1244460 [==============================] - 174s 140us/step - loss: 0.0532 - accuracy: 0.9893 - val_loss: 0.1236 - val_accuracy: 0.9610\n"
     ]
    },
    {
     "data": {
      "text/plain": [
       "<keras.callbacks.callbacks.History at 0x7f89c86b7ed0>"
      ]
     },
     "execution_count": 21,
     "metadata": {},
     "output_type": "execute_result"
    }
   ],
   "source": [
    "parallel_model.fit(images[:-validation_length], anwsers[:-validation_length], batch_size=5000, epochs=5,\n",
    "                   validation_data=(images[-validation_length:], anwsers[-validation_length:]),\n",
    "                   callbacks=[model_saver])"
   ]
  },
  {
   "cell_type": "code",
   "execution_count": 22,
   "metadata": {},
   "outputs": [
    {
     "name": "stdout",
     "output_type": "stream",
     "text": [
      "Train on 1244460 samples, validate on 46216 samples\n",
      "Epoch 1/5\n",
      "1244460/1244460 [==============================] - 174s 140us/step - loss: 0.0525 - accuracy: 0.9894 - val_loss: 0.1241 - val_accuracy: 0.9596\n",
      "Epoch 2/5\n",
      "1244460/1244460 [==============================] - 173s 139us/step - loss: 0.0515 - accuracy: 0.9896 - val_loss: 0.1196 - val_accuracy: 0.9623\n",
      "Epoch 3/5\n",
      "1244460/1244460 [==============================] - 173s 139us/step - loss: 0.0510 - accuracy: 0.9898 - val_loss: 0.1190 - val_accuracy: 0.9620\n",
      "Epoch 4/5\n",
      "1244460/1244460 [==============================] - 174s 140us/step - loss: 0.0501 - accuracy: 0.9900 - val_loss: 0.1145 - val_accuracy: 0.9649\n",
      "Epoch 5/5\n",
      "1244460/1244460 [==============================] - 174s 140us/step - loss: 0.0496 - accuracy: 0.9901 - val_loss: 0.1135 - val_accuracy: 0.9647\n"
     ]
    },
    {
     "data": {
      "text/plain": [
       "<keras.callbacks.callbacks.History at 0x7f8b559a1790>"
      ]
     },
     "execution_count": 22,
     "metadata": {},
     "output_type": "execute_result"
    }
   ],
   "source": [
    "parallel_model.fit(images[:-validation_length], anwsers[:-validation_length], batch_size=5000, epochs=5,\n",
    "                   validation_data=(images[-validation_length:], anwsers[-validation_length:]),\n",
    "                   callbacks=[model_saver])"
   ]
  },
  {
   "cell_type": "code",
   "execution_count": 23,
   "metadata": {},
   "outputs": [
    {
     "name": "stdout",
     "output_type": "stream",
     "text": [
      "Train on 1244460 samples, validate on 46216 samples\n",
      "Epoch 1/5\n",
      "1244460/1244460 [==============================] - 176s 141us/step - loss: 0.0486 - accuracy: 0.9904 - val_loss: 0.1094 - val_accuracy: 0.9670\n",
      "Epoch 2/5\n",
      "1244460/1244460 [==============================] - 174s 140us/step - loss: 0.0480 - accuracy: 0.9905 - val_loss: 0.1091 - val_accuracy: 0.9675\n",
      "Epoch 3/5\n",
      "1244460/1244460 [==============================] - 173s 139us/step - loss: 0.0475 - accuracy: 0.9906 - val_loss: 0.1082 - val_accuracy: 0.9686\n",
      "Epoch 4/5\n",
      "1244460/1244460 [==============================] - 173s 139us/step - loss: 0.0468 - accuracy: 0.9908 - val_loss: 0.1075 - val_accuracy: 0.9673\n",
      "Epoch 5/5\n",
      "1244460/1244460 [==============================] - 174s 140us/step - loss: 0.0460 - accuracy: 0.9910 - val_loss: 0.1020 - val_accuracy: 0.9703\n"
     ]
    },
    {
     "data": {
      "text/plain": [
       "<keras.callbacks.callbacks.History at 0x7f89c86b7d50>"
      ]
     },
     "execution_count": 23,
     "metadata": {},
     "output_type": "execute_result"
    }
   ],
   "source": [
    "parallel_model.fit(images[:-validation_length], anwsers[:-validation_length], batch_size=5000, epochs=5,\n",
    "                   validation_data=(images[-validation_length:], anwsers[-validation_length:]),\n",
    "                   callbacks=[model_saver])"
   ]
  },
  {
   "cell_type": "code",
   "execution_count": 24,
   "metadata": {},
   "outputs": [
    {
     "name": "stdout",
     "output_type": "stream",
     "text": [
      "Train on 1244460 samples, validate on 46216 samples\n",
      "Epoch 1/5\n",
      "1244460/1244460 [==============================] - 174s 140us/step - loss: 0.0456 - accuracy: 0.9911 - val_loss: 0.1013 - val_accuracy: 0.9705\n",
      "Epoch 2/5\n",
      "1244460/1244460 [==============================] - 174s 140us/step - loss: 0.0449 - accuracy: 0.9912 - val_loss: 0.0992 - val_accuracy: 0.9714\n",
      "Epoch 3/5\n",
      "1244460/1244460 [==============================] - 175s 140us/step - loss: 0.0443 - accuracy: 0.9914 - val_loss: 0.0962 - val_accuracy: 0.9727\n",
      "Epoch 4/5\n",
      "1244460/1244460 [==============================] - 175s 140us/step - loss: 0.0437 - accuracy: 0.9916 - val_loss: 0.0940 - val_accuracy: 0.9739\n",
      "Epoch 5/5\n",
      "1244460/1244460 [==============================] - 174s 139us/step - loss: 0.0431 - accuracy: 0.9917 - val_loss: 0.0941 - val_accuracy: 0.9739\n"
     ]
    },
    {
     "data": {
      "text/plain": [
       "<keras.callbacks.callbacks.History at 0x7f8c1ffc6f50>"
      ]
     },
     "execution_count": 24,
     "metadata": {},
     "output_type": "execute_result"
    }
   ],
   "source": [
    "parallel_model.fit(images[:-validation_length], anwsers[:-validation_length], batch_size=5000, epochs=5,\n",
    "                   validation_data=(images[-validation_length:], anwsers[-validation_length:]),\n",
    "                   callbacks=[model_saver])"
   ]
  },
  {
   "cell_type": "code",
   "execution_count": 25,
   "metadata": {},
   "outputs": [
    {
     "data": {
      "text/plain": [
       "<tf.Variable 'UnreadVariable' shape=() dtype=float32, numpy=1e-06>"
      ]
     },
     "execution_count": 25,
     "metadata": {},
     "output_type": "execute_result"
    }
   ],
   "source": [
    "parallel_model.optimizer.lr.assign(1e-6)"
   ]
  },
  {
   "cell_type": "code",
   "execution_count": 26,
   "metadata": {},
   "outputs": [
    {
     "name": "stdout",
     "output_type": "stream",
     "text": [
      "Train on 1244460 samples, validate on 46216 samples\n",
      "Epoch 1/5\n",
      "1244460/1244460 [==============================] - 172s 138us/step - loss: 0.0413 - accuracy: 0.9925 - val_loss: 0.0916 - val_accuracy: 0.9754\n",
      "Epoch 2/5\n",
      "1244460/1244460 [==============================] - 172s 138us/step - loss: 0.0410 - accuracy: 0.9926 - val_loss: 0.0907 - val_accuracy: 0.9760\n",
      "Epoch 3/5\n",
      "1244460/1244460 [==============================] - 173s 139us/step - loss: 0.0408 - accuracy: 0.9927 - val_loss: 0.0902 - val_accuracy: 0.9762\n",
      "Epoch 4/5\n",
      "1244460/1244460 [==============================] - 174s 139us/step - loss: 0.0406 - accuracy: 0.9928 - val_loss: 0.0899 - val_accuracy: 0.9765\n",
      "Epoch 5/5\n",
      "1244460/1244460 [==============================] - 173s 139us/step - loss: 0.0406 - accuracy: 0.9928 - val_loss: 0.0901 - val_accuracy: 0.9766\n"
     ]
    },
    {
     "data": {
      "text/plain": [
       "<keras.callbacks.callbacks.History at 0x7f8b559a1f50>"
      ]
     },
     "execution_count": 26,
     "metadata": {},
     "output_type": "execute_result"
    }
   ],
   "source": [
    "parallel_model.fit(images[:-validation_length], anwsers[:-validation_length], batch_size=5000, epochs=5,\n",
    "                   validation_data=(images[-validation_length:], anwsers[-validation_length:]),\n",
    "                   callbacks=[model_saver])"
   ]
  },
  {
   "cell_type": "code",
   "execution_count": 27,
   "metadata": {},
   "outputs": [
    {
     "name": "stdout",
     "output_type": "stream",
     "text": [
      "Train on 1244460 samples, validate on 46216 samples\n",
      "Epoch 1/5\n",
      "1244460/1244460 [==============================] - 174s 140us/step - loss: 0.0405 - accuracy: 0.9928 - val_loss: 0.0890 - val_accuracy: 0.9769\n",
      "Epoch 2/5\n",
      "1244460/1244460 [==============================] - 174s 139us/step - loss: 0.0404 - accuracy: 0.9928 - val_loss: 0.0898 - val_accuracy: 0.9765\n",
      "Epoch 3/5\n",
      "1244460/1244460 [==============================] - 174s 140us/step - loss: 0.0403 - accuracy: 0.9929 - val_loss: 0.0884 - val_accuracy: 0.9772\n",
      "Epoch 4/5\n",
      "1244460/1244460 [==============================] - 174s 140us/step - loss: 0.0403 - accuracy: 0.9929 - val_loss: 0.0886 - val_accuracy: 0.9772\n",
      "Epoch 5/5\n",
      "1244460/1244460 [==============================] - 174s 140us/step - loss: 0.0403 - accuracy: 0.9928 - val_loss: 0.0881 - val_accuracy: 0.9776\n"
     ]
    },
    {
     "data": {
      "text/plain": [
       "<keras.callbacks.callbacks.History at 0x7f89f84e66d0>"
      ]
     },
     "execution_count": 27,
     "metadata": {},
     "output_type": "execute_result"
    }
   ],
   "source": [
    "parallel_model.fit(images[:-validation_length], anwsers[:-validation_length], batch_size=5000, epochs=5,\n",
    "                   validation_data=(images[-validation_length:], anwsers[-validation_length:]),\n",
    "                   callbacks=[model_saver])"
   ]
  },
  {
   "cell_type": "code",
   "execution_count": 28,
   "metadata": {},
   "outputs": [
    {
     "name": "stdout",
     "output_type": "stream",
     "text": [
      "Train on 1244460 samples, validate on 46216 samples\n",
      "Epoch 1/5\n",
      "1244460/1244460 [==============================] - 174s 139us/step - loss: 0.0400 - accuracy: 0.9930 - val_loss: 0.0887 - val_accuracy: 0.9772\n",
      "Epoch 2/5\n",
      "1244460/1244460 [==============================] - 174s 140us/step - loss: 0.0400 - accuracy: 0.9929 - val_loss: 0.0879 - val_accuracy: 0.9774\n",
      "Epoch 3/5\n",
      "1244460/1244460 [==============================] - 174s 140us/step - loss: 0.0399 - accuracy: 0.9930 - val_loss: 0.0879 - val_accuracy: 0.9778\n",
      "Epoch 4/5\n",
      "1244460/1244460 [==============================] - 174s 140us/step - loss: 0.0398 - accuracy: 0.9931 - val_loss: 0.0875 - val_accuracy: 0.9778\n",
      "Epoch 5/5\n",
      "1244460/1244460 [==============================] - 173s 139us/step - loss: 0.0399 - accuracy: 0.9930 - val_loss: 0.0870 - val_accuracy: 0.9781\n"
     ]
    },
    {
     "data": {
      "text/plain": [
       "<keras.callbacks.callbacks.History at 0x7f89d076e5d0>"
      ]
     },
     "execution_count": 28,
     "metadata": {},
     "output_type": "execute_result"
    }
   ],
   "source": [
    "parallel_model.fit(images[:-validation_length], anwsers[:-validation_length], batch_size=5000, epochs=5,\n",
    "                   validation_data=(images[-validation_length:], anwsers[-validation_length:]),\n",
    "                   callbacks=[model_saver])"
   ]
  },
  {
   "cell_type": "code",
   "execution_count": 29,
   "metadata": {},
   "outputs": [
    {
     "name": "stdout",
     "output_type": "stream",
     "text": [
      "Train on 1244460 samples, validate on 46216 samples\n",
      "Epoch 1/5\n",
      "1244460/1244460 [==============================] - 173s 139us/step - loss: 0.0397 - accuracy: 0.9930 - val_loss: 0.0868 - val_accuracy: 0.9780\n",
      "Epoch 2/5\n",
      "1244460/1244460 [==============================] - 173s 139us/step - loss: 0.0397 - accuracy: 0.9931 - val_loss: 0.0863 - val_accuracy: 0.9784\n",
      "Epoch 3/5\n",
      "1244460/1244460 [==============================] - 173s 139us/step - loss: 0.0395 - accuracy: 0.9931 - val_loss: 0.0866 - val_accuracy: 0.9783\n",
      "Epoch 4/5\n",
      "1244460/1244460 [==============================] - 174s 140us/step - loss: 0.0394 - accuracy: 0.9932 - val_loss: 0.0869 - val_accuracy: 0.9778\n",
      "Epoch 5/5\n",
      "1244460/1244460 [==============================] - 174s 140us/step - loss: 0.0395 - accuracy: 0.9931 - val_loss: 0.0864 - val_accuracy: 0.9781\n"
     ]
    },
    {
     "data": {
      "text/plain": [
       "<keras.callbacks.callbacks.History at 0x7f8c1ffcfdd0>"
      ]
     },
     "execution_count": 29,
     "metadata": {},
     "output_type": "execute_result"
    }
   ],
   "source": [
    "parallel_model.fit(images[:-validation_length], anwsers[:-validation_length], batch_size=5000, epochs=5,\n",
    "                   validation_data=(images[-validation_length:], anwsers[-validation_length:]),\n",
    "                   callbacks=[model_saver])"
   ]
  },
  {
   "cell_type": "code",
   "execution_count": 30,
   "metadata": {},
   "outputs": [
    {
     "data": {
      "text/plain": [
       "<tf.Variable 'UnreadVariable' shape=() dtype=float32, numpy=1e-05>"
      ]
     },
     "execution_count": 30,
     "metadata": {},
     "output_type": "execute_result"
    }
   ],
   "source": [
    "parallel_model.optimizer.lr.assign(1e-5)"
   ]
  },
  {
   "cell_type": "code",
   "execution_count": 31,
   "metadata": {},
   "outputs": [
    {
     "name": "stdout",
     "output_type": "stream",
     "text": [
      "Train on 1244460 samples, validate on 46216 samples\n",
      "Epoch 1/5\n",
      "1244460/1244460 [==============================] - 174s 140us/step - loss: 0.0413 - accuracy: 0.9922 - val_loss: 0.0923 - val_accuracy: 0.9745\n",
      "Epoch 2/5\n",
      "1244460/1244460 [==============================] - 174s 140us/step - loss: 0.0407 - accuracy: 0.9923 - val_loss: 0.0871 - val_accuracy: 0.9773\n",
      "Epoch 3/5\n",
      "1244460/1244460 [==============================] - 174s 139us/step - loss: 0.0403 - accuracy: 0.9924 - val_loss: 0.0851 - val_accuracy: 0.9775\n",
      "Epoch 4/5\n",
      "1244460/1244460 [==============================] - 173s 139us/step - loss: 0.0398 - accuracy: 0.9925 - val_loss: 0.0846 - val_accuracy: 0.9782\n",
      "Epoch 5/5\n",
      "1244460/1244460 [==============================] - 173s 139us/step - loss: 0.0391 - accuracy: 0.9927 - val_loss: 0.0841 - val_accuracy: 0.9781\n"
     ]
    },
    {
     "data": {
      "text/plain": [
       "<keras.callbacks.callbacks.History at 0x7f8c1ffeebd0>"
      ]
     },
     "execution_count": 31,
     "metadata": {},
     "output_type": "execute_result"
    }
   ],
   "source": [
    "parallel_model.fit(images[:-validation_length], anwsers[:-validation_length], batch_size=5000, epochs=5,\n",
    "                   validation_data=(images[-validation_length:], anwsers[-validation_length:]),\n",
    "                   callbacks=[model_saver])"
   ]
  },
  {
   "cell_type": "code",
   "execution_count": 32,
   "metadata": {},
   "outputs": [
    {
     "data": {
      "text/plain": [
       "<tf.Variable 'UnreadVariable' shape=() dtype=float32, numpy=1e-06>"
      ]
     },
     "execution_count": 32,
     "metadata": {},
     "output_type": "execute_result"
    }
   ],
   "source": [
    "parallel_model.optimizer.lr.assign(1e-6)"
   ]
  },
  {
   "cell_type": "code",
   "execution_count": 33,
   "metadata": {},
   "outputs": [
    {
     "name": "stdout",
     "output_type": "stream",
     "text": [
      "Train on 1244460 samples, validate on 46216 samples\n",
      "Epoch 1/5\n",
      "1244460/1244460 [==============================] - 173s 139us/step - loss: 0.0374 - accuracy: 0.9933 - val_loss: 0.0797 - val_accuracy: 0.9806\n",
      "Epoch 2/5\n",
      "1244460/1244460 [==============================] - 174s 139us/step - loss: 0.0371 - accuracy: 0.9936 - val_loss: 0.0791 - val_accuracy: 0.9808\n",
      "Epoch 3/5\n",
      "1244460/1244460 [==============================] - 174s 140us/step - loss: 0.0368 - accuracy: 0.9937 - val_loss: 0.0783 - val_accuracy: 0.9814\n",
      "Epoch 4/5\n",
      "1244460/1244460 [==============================] - 174s 140us/step - loss: 0.0367 - accuracy: 0.9936 - val_loss: 0.0782 - val_accuracy: 0.9813\n",
      "Epoch 5/5\n",
      "1244460/1244460 [==============================] - 174s 140us/step - loss: 0.0367 - accuracy: 0.9937 - val_loss: 0.0780 - val_accuracy: 0.9817\n"
     ]
    },
    {
     "data": {
      "text/plain": [
       "<keras.callbacks.callbacks.History at 0x7f8c1ffcd990>"
      ]
     },
     "execution_count": 33,
     "metadata": {},
     "output_type": "execute_result"
    }
   ],
   "source": [
    "parallel_model.fit(images[:-validation_length], anwsers[:-validation_length], batch_size=5000, epochs=5,\n",
    "                   validation_data=(images[-validation_length:], anwsers[-validation_length:]),\n",
    "                   callbacks=[model_saver])"
   ]
  },
  {
   "cell_type": "code",
   "execution_count": 34,
   "metadata": {},
   "outputs": [
    {
     "name": "stdout",
     "output_type": "stream",
     "text": [
      "Train on 1244460 samples, validate on 46216 samples\n",
      "Epoch 1/5\n",
      "1244460/1244460 [==============================] - 174s 140us/step - loss: 0.0367 - accuracy: 0.9937 - val_loss: 0.0776 - val_accuracy: 0.9815\n",
      "Epoch 2/5\n",
      "1244460/1244460 [==============================] - 174s 139us/step - loss: 0.0364 - accuracy: 0.9939 - val_loss: 0.0767 - val_accuracy: 0.9823\n",
      "Epoch 3/5\n",
      "1244460/1244460 [==============================] - 174s 140us/step - loss: 0.0364 - accuracy: 0.9938 - val_loss: 0.0775 - val_accuracy: 0.9816\n",
      "Epoch 4/5\n",
      "1244460/1244460 [==============================] - 174s 139us/step - loss: 0.0363 - accuracy: 0.9938 - val_loss: 0.0763 - val_accuracy: 0.9825\n",
      "Epoch 5/5\n",
      "1244460/1244460 [==============================] - 173s 139us/step - loss: 0.0362 - accuracy: 0.9939 - val_loss: 0.0771 - val_accuracy: 0.9821\n"
     ]
    },
    {
     "data": {
      "text/plain": [
       "<keras.callbacks.callbacks.History at 0x7f8c1ffc3250>"
      ]
     },
     "execution_count": 34,
     "metadata": {},
     "output_type": "execute_result"
    }
   ],
   "source": [
    "parallel_model.fit(images[:-validation_length], anwsers[:-validation_length], batch_size=5000, epochs=5,\n",
    "                   validation_data=(images[-validation_length:], anwsers[-validation_length:]),\n",
    "                   callbacks=[model_saver])"
   ]
  },
  {
   "cell_type": "code",
   "execution_count": 35,
   "metadata": {},
   "outputs": [
    {
     "name": "stdout",
     "output_type": "stream",
     "text": [
      "Train on 1244460 samples, validate on 46216 samples\n",
      "Epoch 1/5\n",
      "1244460/1244460 [==============================] - 174s 140us/step - loss: 0.0361 - accuracy: 0.9939 - val_loss: 0.0763 - val_accuracy: 0.9820\n",
      "Epoch 2/5\n",
      "1244460/1244460 [==============================] - 174s 140us/step - loss: 0.0361 - accuracy: 0.9939 - val_loss: 0.0758 - val_accuracy: 0.9827\n",
      "Epoch 3/5\n",
      "1244460/1244460 [==============================] - 174s 139us/step - loss: 0.0361 - accuracy: 0.9939 - val_loss: 0.0759 - val_accuracy: 0.9822\n",
      "Epoch 4/5\n",
      "1244460/1244460 [==============================] - 173s 139us/step - loss: 0.0360 - accuracy: 0.9938 - val_loss: 0.0759 - val_accuracy: 0.9824\n",
      "Epoch 5/5\n",
      "1244460/1244460 [==============================] - 174s 140us/step - loss: 0.0359 - accuracy: 0.9940 - val_loss: 0.0754 - val_accuracy: 0.9825\n"
     ]
    },
    {
     "data": {
      "text/plain": [
       "<keras.callbacks.callbacks.History at 0x7f8c1ffdb610>"
      ]
     },
     "execution_count": 35,
     "metadata": {},
     "output_type": "execute_result"
    }
   ],
   "source": [
    "parallel_model.fit(images[:-validation_length], anwsers[:-validation_length], batch_size=5000, epochs=5,\n",
    "                   validation_data=(images[-validation_length:], anwsers[-validation_length:]),\n",
    "                   callbacks=[model_saver])"
   ]
  }
 ],
 "metadata": {
  "kernelspec": {
   "display_name": "Python 3",
   "language": "python",
   "name": "python3"
  },
  "language_info": {
   "codemirror_mode": {
    "name": "ipython",
    "version": 3
   },
   "file_extension": ".py",
   "mimetype": "text/x-python",
   "name": "python",
   "nbconvert_exporter": "python",
   "pygments_lexer": "ipython3",
   "version": "3.7.4"
  }
 },
 "nbformat": 4,
 "nbformat_minor": 4
}
