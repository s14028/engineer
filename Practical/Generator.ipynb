{
 "cells": [
  {
   "cell_type": "code",
   "execution_count": 1,
   "metadata": {},
   "outputs": [],
   "source": [
    "import numpy as np\n",
    "import matplotlib.pyplot as plt\n",
    "import imageio as img\n",
    "\n",
    "import prepare\n",
    "\n",
    "from common import *\n",
    "from testing import accuracy\n",
    "from testing import mse\n",
    "from testing import mae"
   ]
  },
  {
   "cell_type": "code",
   "execution_count": 2,
   "metadata": {},
   "outputs": [],
   "source": [
    "def generator():\n",
    "  random_value = np.random.normal(mean, std, (1,))\n",
    "  random_value = np.round(random_value).astype(np.uint16)\n",
    "  random_value = random_value[0]\n",
    "  return random_value"
   ]
  },
  {
   "cell_type": "code",
   "execution_count": 3,
   "metadata": {},
   "outputs": [],
   "source": [
    "train, test = data_sets()\n",
    "count_test = test[2]\n",
    "count_test = count_test.astype(np.uint16)"
   ]
  },
  {
   "cell_type": "code",
   "execution_count": 4,
   "metadata": {},
   "outputs": [],
   "source": [
    "coo, counts = prepare.read_anwsers(\"mall_dataset/mall_gt.mat\")\n",
    "\n",
    "mean = np.mean(counts)\n",
    "std = np.std(counts)"
   ]
  },
  {
   "cell_type": "code",
   "execution_count": 5,
   "metadata": {},
   "outputs": [],
   "source": [
    "iterations = 100000\n",
    "\n",
    "results = np.empty((iterations, 3), dtype=np.float32)\n",
    "\n",
    "for i in range(iterations):\n",
    "  predictions = np.array([generator() for x in range(count_test.shape[0])])\n",
    "  \n",
    "  count_test = count_test.astype(np.int16)\n",
    "  predictions = predictions.astype(np.int16)\n",
    "  \n",
    "  diff = predictions - count_test\n",
    "  \n",
    "  results[i, 0] = np.mean(accuracy(predictions, count_test)) * 100\n",
    "  results[i, 1] = mse(diff)\n",
    "  results[i, 2] = mae(diff)"
   ]
  },
  {
   "cell_type": "code",
   "execution_count": 6,
   "metadata": {},
   "outputs": [],
   "source": [
    "mean_results = np.mean(results, axis=0)\n",
    "std_results = np.std(results, axis=0)"
   ]
  },
  {
   "cell_type": "code",
   "execution_count": 7,
   "metadata": {},
   "outputs": [],
   "source": [
    "trustfulness = 0.95\n",
    "trustfulness = 1 - trustfulness\n",
    "alpha = 1 - trustfulness / 2 * std_results / np.sqrt(iterations)"
   ]
  },
  {
   "cell_type": "code",
   "execution_count": 8,
   "metadata": {},
   "outputs": [
    {
     "name": "stdout",
     "output_type": "stream",
     "text": [
      "[0.9999196  0.99946517 0.99997616]\n"
     ]
    }
   ],
   "source": [
    "print(alpha)"
   ]
  },
  {
   "cell_type": "code",
   "execution_count": 9,
   "metadata": {},
   "outputs": [],
   "source": [
    "# Quantiles from https://planetcalc.com/4987/\n",
    "quantiles = np.array([3.773768, 3.271533, 4.066717])"
   ]
  },
  {
   "cell_type": "code",
   "execution_count": 10,
   "metadata": {},
   "outputs": [],
   "source": [
    "confidence_interval = np.stack([mean_results, mean_results])\n",
    "confidence_interval[0, :] -= quantiles\n",
    "confidence_interval[1, :] += quantiles"
   ]
  },
  {
   "cell_type": "code",
   "execution_count": 13,
   "metadata": {},
   "outputs": [
    {
     "name": "stdout",
     "output_type": "stream",
     "text": [
      "Przedział ufności dla trafności wynosi: [69.99109 77.53862]\n",
      "Przedział ufności dla MSE wynosi: [92.22858 98.77164]\n",
      "Przedział ufności dla MAE wynosi: [ 3.7414591 11.874893 ]\n"
     ]
    }
   ],
   "source": [
    "print(f\"Przedział ufności dla trafności wynosi: {confidence_interval[:, 0]}\")\n",
    "print(f\"Przedział ufności dla MSE wynosi: {confidence_interval[:, 1]}\")\n",
    "print(f\"Przedział ufności dla MAE wynosi: {confidence_interval[:, 2]}\")"
   ]
  }
 ],
 "metadata": {
  "kernelspec": {
   "display_name": "Python 3",
   "language": "python",
   "name": "python3"
  },
  "language_info": {
   "codemirror_mode": {
    "name": "ipython",
    "version": 3
   },
   "file_extension": ".py",
   "mimetype": "text/x-python",
   "name": "python",
   "nbconvert_exporter": "python",
   "pygments_lexer": "ipython3",
   "version": "3.6.6"
  }
 },
 "nbformat": 4,
 "nbformat_minor": 2
}
