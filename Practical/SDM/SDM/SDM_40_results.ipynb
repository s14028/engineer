{
 "cells": [
  {
   "cell_type": "code",
   "execution_count": 1,
   "metadata": {},
   "outputs": [
    {
     "name": "stdout",
     "output_type": "stream",
     "text": [
      "/home/PJWSTK/s14028/Engine\n"
     ]
    }
   ],
   "source": [
    "%cd ../../"
   ]
  },
  {
   "cell_type": "code",
   "execution_count": 2,
   "metadata": {},
   "outputs": [
    {
     "name": "stderr",
     "output_type": "stream",
     "text": [
      "Using TensorFlow backend.\n"
     ]
    }
   ],
   "source": [
    "import keras\n",
    "\n",
    "from common import *\n",
    "from testing import test_model\n",
    "from testing import best_cop_diff\n",
    "from testing import mse\n",
    "from testing import mae\n",
    "\n",
    "from SDM.SDM import SDM"
   ]
  },
  {
   "cell_type": "code",
   "execution_count": 3,
   "metadata": {},
   "outputs": [],
   "source": [
    "train, test = data_sets()\n",
    "image_tensors = train[0], test[0]\n",
    "person_coo_tensors = train[1], test[1]\n",
    "count_matrix = train[2], test[2]\n",
    "\n",
    "image_train, image_test = image_tensors\n",
    "person_coo_train, person_coo_test = person_coo_tensors\n",
    "count_train, count_test = count_matrix\n",
    "count_train = count_train.astype(np.uint16)\n",
    "count_test = count_test.astype(np.uint16)"
   ]
  },
  {
   "cell_type": "code",
   "execution_count": 4,
   "metadata": {},
   "outputs": [],
   "source": [
    "sdm = SDM((480, 640, 3), split_into_parts=40)\n",
    "\n",
    "images = sdm._prepare_images(image_test)\n",
    "anwsers = sdm._prepare_anwsers(person_coo_test)"
   ]
  },
  {
   "cell_type": "code",
   "execution_count": 5,
   "metadata": {},
   "outputs": [],
   "source": [
    "cop = np.linspace(0, 1, 11)[1:-1]"
   ]
  },
  {
   "cell_type": "code",
   "execution_count": 6,
   "metadata": {},
   "outputs": [],
   "source": [
    "prefix = \"SDM/SDM/weights/\""
   ]
  },
  {
   "cell_type": "code",
   "execution_count": 7,
   "metadata": {},
   "outputs": [],
   "source": [
    "model_names = [\"sdm_40_1e_2_470\",\n",
    "               \"sdm_40_1e_2_500\"]\n",
    "\n",
    "model_names = [prefix + name for name in model_names]"
   ]
  },
  {
   "cell_type": "code",
   "execution_count": 8,
   "metadata": {},
   "outputs": [],
   "source": [
    "models = [SDM((480, 640, 3), split_into_parts=40) for i in range(len(model_names))]"
   ]
  },
  {
   "cell_type": "code",
   "execution_count": 9,
   "metadata": {},
   "outputs": [
    {
     "name": "stdout",
     "output_type": "stream",
     "text": [
      "Epoch 1/1\n",
      "1/1 [==============================] - 3s 3s/step - loss: 0.6931 - acc: 1.0000\n",
      "Epoch 1/1\n",
      "1/1 [==============================] - 0s 490ms/step - loss: 0.6931 - acc: 1.0000\n"
     ]
    }
   ],
   "source": [
    "results = {}\n",
    "\n",
    "for model_name, model in zip(model_names, models):\n",
    "  model.def_model()\n",
    "  model.model.fit(images[:1], anwsers[:1])\n",
    "  \n",
    "  model.model = keras.utils.multi_gpu_model(model.model, gpus=3, cpu_merge=False)\n",
    "  model.model.compile(loss=\"binary_crossentropy\", optimizer=\"adam\", metrics=[\"accuracy\"])\n",
    "  \n",
    "  model.model.load_weights(model_name)\n",
    "  \n",
    "  results[model_name] = test_model(model=model, images=image_test, counts=count_test, cut_of_points=cop)"
   ]
  },
  {
   "cell_type": "code",
   "execution_count": 10,
   "metadata": {},
   "outputs": [
    {
     "name": "stdout",
     "output_type": "stream",
     "text": [
      "Model SDM/SDM/weights/sdm_40_1e_2_470 behaved:\n",
      "For cut-of-point 0.1 had accuracy 70.7274955729962:\n",
      "[ 12  16  14  19  16  22   3   0   7   6   5   5  -2   5   1   3   7   0\n",
      "   6   7   5  10   3   3   4  10   8   5   9   6  16  -8   2   8  14  15\n",
      "  19  18  22  10  18  20  29   8   7  13   8  20  17   5   6  11   4   2\n",
      "   4   5  17   9   9   6  26   8   9   7   7   8   7  11   5   4   1  -1\n",
      "   1   8   2   5   2   7   4   1   5   2   2   2   1   0  -2   6  13  -1\n",
      "  12   2  14  14  18  -9  11  -5   5   2  26  10  14  19  24  15  15  25\n",
      "   6  22  16  20  25  24  19  37  21  16  13   7  12  20  18  14   7   4\n",
      "   8  12  14  15  23  21   4  21  29   9   6  17   4  12   4   6  10  11\n",
      "   9  19   9   8  10   3   8   2   2  17   4  10  15  15  18   9   7   1\n",
      "  17   5  -4   9   9   4  -2  10   0   4  12   7  11  16  15  -2  11   6\n",
      "   8  13  10   7   4   6   7  10  10   2   1   9  12   1   8  19  16   9\n",
      "  16  13   3   6   1   0   9   2   5  10   3   1  -2   9   2   8  -3   5\n",
      "  13   8   8   5  11  10   6  19  20   1  17   8   7  12   3  15  11   9\n",
      "   0   4   5   7   7   9   8  26   8  25   7  22   3   3   9   4   6  -1\n",
      "  -1   3   6  10   2  -6   1   5  -5  10   0   0   9  17  -2   8   7  14\n",
      "   5   8  12 -12   5  11  11   4   9  18  11  12  10   9   2  10  14   3\n",
      "   5   6  13   2   5   2   2  13   7   2  -1   5]\n",
      "With MSE 125.71333333333334\n",
      "With MAE 9.086666666666666\n",
      "\n",
      "Model SDM/SDM/weights/sdm_40_1e_2_500 behaved:\n",
      "For cut-of-point 0.2 had accuracy 68.5289068717239:\n",
      "[-14 -18 -16  -5 -10  -3 -12 -16  -6  -8  -5  -7 -11  -7  -6  -7 -10  -8\n",
      "  -3  -6  -9  -9 -10  -7  -3   1  -2   1  -2  -1   1 -15  -9  -5  -3  -3\n",
      "   8   3   6  -7   1   2   9  -2  -4  -2  -9   3  -5  -8  -9  -1  -4  -6\n",
      "  -4  -5  -7  -9 -15 -23  -8 -25 -18 -17 -10 -14 -10 -11 -16  -8 -14 -14\n",
      " -14 -11 -15 -11 -13 -14 -14 -16  -9 -14 -13  -8 -12 -15 -10  -5  -8  -8\n",
      "  -5 -10  -3 -10 -11 -28 -23 -25 -15 -14  -1 -15  -2  -1  -1  -9  -5  -5\n",
      " -17  -9 -13  -6  -4  -5  -8   2  -1  -6  -4  -8 -13 -15  -4 -12 -11 -13\n",
      "  -7   1   2  -1  -5  -7 -12  -1  -5  -8 -14   3 -13  -4  -9 -11 -11 -18\n",
      " -25 -10 -12 -10 -16  -9 -14 -16 -15 -12 -18 -17 -10 -12   0  -1 -17 -10\n",
      "  -6 -11 -12 -13 -11 -10 -13  -6  -9 -11  -8  -3  -5  -8  -8 -18  -4  -4\n",
      " -10  -6  -4 -13  -8 -11 -16 -15  -3  -9 -15  -5 -12 -15  -7  -4  -3  -7\n",
      "  -8 -10  -7  -3 -13 -16  -5  -9  -6  -5 -11 -12 -15 -13 -15 -14 -22 -10\n",
      "   4 -12 -10 -12  -2 -12 -20  -6  -7 -12  -3 -12 -13 -12 -14  -9 -14 -15\n",
      " -10  -8  -9 -14  -4  -4  -7 -10 -15  -7 -16  -7 -23 -14 -15 -17 -15 -13\n",
      " -15  -5  -4 -14 -14 -14 -17 -14 -19 -12 -17 -16  -9 -12 -18  -8 -14  -5\n",
      " -20 -18 -16 -25 -13  -9  -1  -8 -12  -8 -12  -8  -9 -14 -18  -5  -4 -13\n",
      " -14 -12  -9 -11 -16 -10 -13  -7 -17 -12 -11 -12]\n",
      "With MSE 127.04666666666667\n",
      "With MAE 9.913333333333334\n",
      "\n"
     ]
    }
   ],
   "source": [
    "for name, result in results.items():\n",
    "  diff = best_cop_diff(result, count_test)\n",
    "  \n",
    "  print(f\"Model {name} behaved:\")\n",
    "  \n",
    "  print(f\"For cut-of-point {diff[0]} had accuracy {diff[1]}:\")\n",
    "  print(diff[2])\n",
    "  \n",
    "  print(f\"With MSE {mse(diff[2])}\")\n",
    "  print(f\"With MAE {mae(diff[2])}\", end=\"\\n\\n\")"
   ]
  }
 ],
 "metadata": {
  "kernelspec": {
   "display_name": "Python 3",
   "language": "python",
   "name": "python3"
  },
  "language_info": {
   "codemirror_mode": {
    "name": "ipython",
    "version": 3
   },
   "file_extension": ".py",
   "mimetype": "text/x-python",
   "name": "python",
   "nbconvert_exporter": "python",
   "pygments_lexer": "ipython3",
   "version": "3.6.6"
  }
 },
 "nbformat": 4,
 "nbformat_minor": 2
}
