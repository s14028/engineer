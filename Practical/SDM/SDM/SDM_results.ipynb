{
 "cells": [
  {
   "cell_type": "code",
   "execution_count": 1,
   "metadata": {},
   "outputs": [
    {
     "name": "stdout",
     "output_type": "stream",
     "text": [
      "/home/PJWSTK/s14028/Engine\n"
     ]
    }
   ],
   "source": [
    "%cd ../../"
   ]
  },
  {
   "cell_type": "code",
   "execution_count": 2,
   "metadata": {},
   "outputs": [
    {
     "name": "stderr",
     "output_type": "stream",
     "text": [
      "Using TensorFlow backend.\n"
     ]
    }
   ],
   "source": [
    "import keras\n",
    "\n",
    "from common import *\n",
    "from testing import test_model\n",
    "from testing import best_cop_diff\n",
    "from testing import mse\n",
    "from testing import mae\n",
    "\n",
    "from SDM.SDM import SDM"
   ]
  },
  {
   "cell_type": "code",
   "execution_count": 3,
   "metadata": {},
   "outputs": [],
   "source": [
    "train, test = data_sets()\n",
    "image_tensors = train[0], test[0]\n",
    "person_coo_tensors = train[1], test[1]\n",
    "count_matrix = train[2], test[2]\n",
    "\n",
    "image_train, image_test = image_tensors\n",
    "person_coo_train, person_coo_test = person_coo_tensors\n",
    "count_train, count_test = count_matrix\n",
    "count_train = count_train.astype(np.uint16)\n",
    "count_test = count_test.astype(np.uint16)"
   ]
  },
  {
   "cell_type": "code",
   "execution_count": 4,
   "metadata": {},
   "outputs": [],
   "source": [
    "sdm = SDM((480, 640, 3), split_into_parts=20)\n",
    "\n",
    "images = sdm._prepare_images(image_test)\n",
    "anwsers = sdm._prepare_anwsers(person_coo_test)"
   ]
  },
  {
   "cell_type": "code",
   "execution_count": 5,
   "metadata": {},
   "outputs": [],
   "source": [
    "cop = np.linspace(0, 1, 11)[1:-1]"
   ]
  },
  {
   "cell_type": "code",
   "execution_count": 6,
   "metadata": {},
   "outputs": [],
   "source": [
    "prefix = \"SDM/SDM/weights/\""
   ]
  },
  {
   "cell_type": "code",
   "execution_count": 7,
   "metadata": {},
   "outputs": [],
   "source": [
    "model_names = [\"sdm_1e_2_90\",\n",
    "               \"sdm_1e_4_30\",\n",
    "               \"sdm_5e_6_92\",\n",
    "               \"sdm_1e_5_35\",\n",
    "               \"sdm_1e_6_30\"]\n",
    "\n",
    "model_names = [prefix + name for name in model_names]"
   ]
  },
  {
   "cell_type": "code",
   "execution_count": 8,
   "metadata": {},
   "outputs": [],
   "source": [
    "models = [SDM((480, 640, 3), split_into_parts=20) for i in range(len(model_names))]"
   ]
  },
  {
   "cell_type": "code",
   "execution_count": 9,
   "metadata": {},
   "outputs": [
    {
     "name": "stdout",
     "output_type": "stream",
     "text": [
      "Epoch 1/1\n",
      "1/1 [==============================] - 3s 3s/step - loss: 0.6931 - acc: 1.0000\n",
      "Epoch 1/1\n",
      "1/1 [==============================] - 1s 506ms/step - loss: 0.6931 - acc: 1.0000\n",
      "Epoch 1/1\n",
      "1/1 [==============================] - 1s 737ms/step - loss: 0.6931 - acc: 1.0000\n",
      "Epoch 1/1\n",
      "1/1 [==============================] - 1s 795ms/step - loss: 0.6931 - acc: 1.0000\n",
      "Epoch 1/1\n",
      "1/1 [==============================] - 1s 915ms/step - loss: 0.6931 - acc: 1.0000\n"
     ]
    }
   ],
   "source": [
    "results = {}\n",
    "\n",
    "for model_name, model in zip(model_names, models):\n",
    "  model.def_model()\n",
    "  model.model.fit(images[:1], anwsers[:1])\n",
    "  \n",
    "  model.model = keras.utils.multi_gpu_model(model.model, gpus=3, cpu_merge=False)\n",
    "  model.model.compile(loss=\"binary_crossentropy\", optimizer=\"adam\", metrics=[\"accuracy\"])\n",
    "  \n",
    "  model.model.load_weights(model_name)\n",
    "  \n",
    "  results[model_name] = test_model(model=model, images=image_test, counts=count_test, cut_of_points=cop)"
   ]
  },
  {
   "cell_type": "code",
   "execution_count": 10,
   "metadata": {},
   "outputs": [
    {
     "name": "stdout",
     "output_type": "stream",
     "text": [
      "Model SDM/SDM/weights/sdm_1e_2_90 behaved:\n",
      "For cut-of-point 0.30000000000000004 had accuracy 53.52335200641007:\n",
      "[-24 -18 -17 -18 -14 -13  -5  -1   0  -4  -1   0  -4   1  -8  -8  -8  -8\n",
      "  -3  -5  -5  -4 -12 -10 -13 -16 -11 -14  -9  -9 -13 -19 -19 -11 -10 -12\n",
      "  -6 -11 -14 -13 -10 -10 -14 -11  -9 -19 -20 -13 -14 -10 -14  -8  -9 -11\n",
      "  -8 -12 -22 -24 -17 -21 -26 -29 -24 -15 -16 -15 -17 -19 -25 -14 -13 -19\n",
      " -16 -19 -15 -14 -13 -14 -16 -13  -7 -15 -13 -10 -12 -11  -7  -9 -12 -14\n",
      " -12 -15  -6 -22 -19 -24 -17 -21 -21 -13 -17 -16 -15 -16 -13 -14 -19 -20\n",
      " -26 -20 -16 -18 -21 -24 -24 -27 -15 -17 -10 -12 -21 -16 -14 -14 -11 -16\n",
      " -15 -16 -21 -16 -15 -21 -15 -17 -23 -16 -18 -11 -10 -13  -9 -17 -15 -18\n",
      " -20 -19 -17 -10 -15 -13 -13 -20 -15 -22 -21 -19 -17 -20 -11 -13 -15 -14\n",
      " -16 -13 -15 -20 -16 -13 -15 -12 -13 -17 -11  -8  -9 -11 -11 -13 -12  -8\n",
      " -11  -8 -13 -11 -13 -14 -17 -19  -9  -7 -16 -12 -18 -14 -15 -10 -21 -10\n",
      " -12 -15  -8  -6 -12 -12  -9 -16 -10 -21 -14 -20 -20 -17 -16 -18 -22 -21\n",
      " -14 -16 -15 -17 -11 -20 -16 -13 -14 -10  -9 -23 -13 -20 -26 -29 -29 -19\n",
      " -15 -12 -16 -25 -13 -21 -25 -25 -29 -29 -22 -14 -27 -20 -19 -10 -19 -12\n",
      " -12  -4 -11  -8 -13  -9 -13 -15 -15 -19 -16 -15 -13 -20 -21 -23 -17 -14\n",
      " -19 -14  -6 -24 -15 -21 -10 -12 -11 -10 -20 -13 -12 -11 -15  -8  -9 -13\n",
      "  -6 -16 -10 -10 -15 -14 -14  -9 -12 -16 -16 -15]\n",
      "With MSE 244.06666666666666\n",
      "With MAE 14.64\n",
      "\n",
      "Model SDM/SDM/weights/sdm_1e_4_30 behaved:\n",
      "For cut-of-point 0.2 had accuracy 68.90692463866442:\n",
      "[-20 -13 -10 -11  -9 -10  -4  -1   6   1   0  -1   1   7  -3  -3  -5  -6\n",
      "  -3  -3  -2   2  -5  -5 -10 -11 -10 -10  -5  -5 -10 -16 -15  -7  -7  -9\n",
      "  -2  -8  -9 -14  -1  -9  -9  -7  -6 -17 -16  -9 -12  -8 -10  -3  -8 -10\n",
      "  -8  -7 -19 -25 -11 -17 -19 -29 -19 -13 -12 -10 -12 -13 -22  -8  -8 -14\n",
      " -12 -15 -10 -12 -11  -9 -14  -8  -2 -13 -10  -7  -9  -6  -2  -4  -9  -8\n",
      " -12 -12  -6 -11 -11 -16  -8 -11 -15  -2 -11 -11 -11  -8  -5  -2 -12 -12\n",
      " -18 -15  -9  -8 -14 -16 -16 -16  -4 -14  -8  -1 -14  -8  -6 -10  -6  -8\n",
      "  -7 -12 -17 -11 -12 -16  -9 -13 -10 -14  -9  -4  -3  -4  -2  -8  -5 -11\n",
      " -10  -5  -7  -1 -13  -6  -7 -11  -5 -14 -16 -11 -11 -15   0  -8 -10  -9\n",
      " -11  -4  -5 -15 -12  -8 -10  -7  -9 -11  -4  -5  -3  -5  -4  -8  -7   0\n",
      "  -2  -3  -6  -7  -8  -5  -8 -14  -7  -4  -7  -9 -14 -11 -12  -4 -15  -6\n",
      "  -7 -11  -8  -2 -10  -8  -7 -10  -6 -18 -11 -17 -17 -16 -15 -17 -19 -13\n",
      "  -8 -12 -13 -10  -7 -13 -12  -4  -9  -2  -7 -15  -8 -10 -19 -26 -25 -17\n",
      "  -7  -9 -15 -22  -9 -18 -23 -22 -19 -20 -15  -6 -21 -16  -6  -7 -11  -7\n",
      "  -6   0 -10  -6 -11  -7  -7 -13 -14 -12 -12 -14  -9 -14 -18 -18  -8 -12\n",
      " -11  -8  -8 -17 -10 -17  -6  -9  -6  -6 -19  -5  -7 -10 -14  -9  -2  -7\n",
      "  -4 -11  -7  -7  -8  -9 -11  -4 -14 -14 -14 -10]\n",
      "With MSE 123.47\n",
      "With MAE 9.836666666666666\n",
      "\n",
      "Model SDM/SDM/weights/sdm_5e_6_92 behaved:\n",
      "For cut-of-point 0.2 had accuracy 79.61291385609798:\n",
      "[-16 -14 -13  -9  -3  -4  -3  -7   2   2  -1   1  -5   0  -3  -2  -3   1\n",
      "   4  -4  -5   6  -1  -7  -5  -4  -3  -5   0  -3  -4  -8 -13  -6   1  -1\n",
      "   4  -3  -2  -5   2  -4  -3  -6  -2  -9  -4  -3  -3  -5  -5   0  -4 -10\n",
      "  -6  -3 -10 -11 -12 -12 -13 -29 -14 -13 -11  -9 -12 -15 -18   1  -6  -8\n",
      " -10 -12  -7  -7 -12  -6 -10  -3  -3  -5  -4 -10  -6  -7  -5  -5  -4  -6\n",
      "  -8  -9  -5 -14  -7 -17  -9 -11 -12  -7  -6  -2   0  -2  -1  -3  -3  -3\n",
      " -14 -10  -4  -6  -8  -6 -10  -4   3  -7   2   3  -7  -3  -4  -1  -2  -1\n",
      "   0  -2 -11  -2  -3 -10  -6  -7  -4  -1  -5  -3  -3  -3  -1  -4   4  -1\n",
      "  -3  -3  -6  -2  -4  -4   1  -9  -4 -11  -7  -6  -3  -6   4  -5  -5  -6\n",
      "  -6  -3  -9 -11  -3  -6  -9  -5 -10 -10  -1  -8  -8  -6  -7 -10   0  -3\n",
      "  -1  -5  -7  -3  -7  -9  -8  -6  -4   2  -5  -8  -9  -7 -12  -3  -7  -1\n",
      "  -3  -6  -8  -2  -8  -5  -3  -6  -5  -9 -11 -13 -11  -9 -13 -11 -15 -12\n",
      "  -5  -4  -6  -3  -5  -4  -5  -2  -3  -1  -3  -6  -2  -4 -17 -19 -15 -18\n",
      "  -7  -7  -8 -16  -5 -12 -16  -9 -15 -18 -11  -9 -17 -11 -10 -10  -8  -5\n",
      "  -2  -1 -11  -2 -10  -5  -7 -12 -11  -6 -10 -13  -9 -13 -11  -8  -7  -9\n",
      " -11  -7  -7 -18  -3  -9  -8  -9  -3  -3 -10  -2   0  -8 -10  -2   1  -6\n",
      "  -3  -6  -5  -2  -5  -5  -4  -2  -8  -7  -9  -8]\n",
      "With MSE 61.46\n",
      "With MAE 6.513333333333334\n",
      "\n",
      "Model SDM/SDM/weights/sdm_1e_5_35 behaved:\n",
      "For cut-of-point 0.2 had accuracy 88.18137738607597:\n",
      "[ -5  -9  -3  -2   2  -1   5  -2   8   5   3   5  -2   7   0   1   0   4\n",
      "   7   2  -1  10   3   2  -1  -1  -1   2   5   4   1  -1 -11  -2   4   5\n",
      "  10   1   1  -1   3   5   1   0   0  -6   3   4   2  -2   3   2   1  -1\n",
      "   2  -2  -2   0  -7 -10   0 -13  -8  -7  -6   0  -2  -9 -12   7   1  -3\n",
      "  -5  -5  -6  -8 -10  -5  -7   2  -2   0  -1  -5  -4  -4  -4  -2   2  -4\n",
      "  -6  -3   1  -7   5 -13  -3 -10  -5  -4   0   2   4   3   6   9   1   4\n",
      "  -5   0   0  -4   1  -1   0   5  10   4   4  10   0   5  11  13  10   2\n",
      "   6   0  -5   2   1  -3  -3   1  -2   1  -1   7   0   4   3   1   4   4\n",
      "   7   5  -1   8   5  -2   4  -4  -2  -4  -1  -1  -1  -1  10   1   1   1\n",
      "  -1   3  -3  -4   7  -2  -2   0  -5  -5   0   1   0  -2   1  -2   6   2\n",
      "   5   6   4   5  -2  -2   1   1  -1   9   0   0  -3   3  -6   2  -2   6\n",
      "   0   2  -3   3  -2   5   0  -3  -3  -2  -7  -8  -6  -5  -4  -6  -5  -7\n",
      "  -2   2   2  -2  -2  -4   0   2   1   0   0   1   5   3  -7 -16  -8 -11\n",
      "  -6  -3  -4 -11   0  -8  -7  -2  -6  -4  -1   0  -9  -3  -2   1  -1  -1\n",
      "   6   1  -2   1  -5   3  -1  -5  -2  -1  -2  -7  -4  -9  -7  -1   2  -6\n",
      "  -5   4  -2 -15   5  -4   0   2  -1   5  -1   3   3  -4   1   2   8   1\n",
      "   3   1   1   4  -2   2   0   2  -5  -1  -2  -7]\n",
      "With MSE 22.59\n",
      "With MAE 3.6366666666666667\n",
      "\n",
      "Model SDM/SDM/weights/sdm_1e_6_30 behaved:\n",
      "For cut-of-point 0.2 had accuracy 82.93537169620456:\n",
      "[ -6  -7 -11  -9  -8  -1   1  -7   3   3   2   4  -4   1  -4   0   2  -3\n",
      "   3  -2  -2   6   2   1  -6  -7  -6   0   0   0  -3  -8  -9  -1   4   0\n",
      "   6  -1   1  -7  -1  -3   0  -3  -2 -11  -2   0  -7  -5   4  -2  -4  -4\n",
      "  -5  -5 -10  -8 -12 -13  -3 -17 -12 -12  -6  -2 -10 -17 -20   1  -3 -10\n",
      " -10  -7  -6  -9 -11  -5 -10  -5  -5   0  -3  -4  -4  -5  -4  -1   3  -3\n",
      "  -6  -9  -1 -17  -8 -15  -8 -14 -11  -4  -5  -4  -3  -4  -1  -1  -6  -2\n",
      " -14  -5  -4  -4  -7  -7 -10  -8   0  -5  -1  -1  -3   1   1   2  -1   0\n",
      "   3  -5 -10  -3  -5  -8  -7 -10 -14  -6  -6  -5  -4  -1   0  -6   0  -4\n",
      "  -5  -5  -5   2  -3  -4   2  -9  -3 -10  -8  -4  -2  -6   1   0  -6  -4\n",
      "  -7  -3  -6  -9   4  -8  -6  -6 -12 -11  -4  -7  -6  -3 -12 -10  -2  -2\n",
      "   0  -5  -3  -3  -9  -7  -7  -7  -6   1  -5  -8  -5  -1 -10  -3  -9   3\n",
      "   0  -2  -4   1  -6  -2   3  -3  -4  -2  -8 -12  -9  -9 -10  -9 -12  -9\n",
      "  -5  -4  -2  -5  -5  -7  -2  -2   2   1  -1   2  -3  -6 -14 -15 -11 -12\n",
      "  -8  -6  -7 -13  -4 -12 -13 -12 -13 -16 -12  -2 -15  -6  -9  -1  -1  -3\n",
      "   1  -1  -5  -1  -8  -3  -7 -10 -11  -7  -2 -10  -5  -7 -11  -9  -6  -5\n",
      " -10  -3  -3 -16  -7  -3  -6  -7  -6   1  -6   0  -1 -11  -7  -1   2  -1\n",
      "   1  -4  -4   3  -4  -3  -6  -4  -4  -3  -3  -5]\n",
      "With MSE 45.84\n",
      "With MAE 5.466666666666667\n",
      "\n"
     ]
    }
   ],
   "source": [
    "for name, result in results.items():\n",
    "  diff = best_cop_diff(result, count_test)\n",
    "  \n",
    "  print(f\"Model {name} behaved:\")\n",
    "  \n",
    "  print(f\"For cut-of-point {diff[0]} had accuracy {diff[1]}:\")\n",
    "  print(diff[2])\n",
    "  \n",
    "  print(f\"With MSE {mse(diff[2])}\")\n",
    "  print(f\"With MAE {mae(diff[2])}\", end=\"\\n\\n\")"
   ]
  }
 ],
 "metadata": {
  "kernelspec": {
   "display_name": "Python 3",
   "language": "python",
   "name": "python3"
  },
  "language_info": {
   "codemirror_mode": {
    "name": "ipython",
    "version": 3
   },
   "file_extension": ".py",
   "mimetype": "text/x-python",
   "name": "python",
   "nbconvert_exporter": "python",
   "pygments_lexer": "ipython3",
   "version": "3.6.6"
  }
 },
 "nbformat": 4,
 "nbformat_minor": 2
}
