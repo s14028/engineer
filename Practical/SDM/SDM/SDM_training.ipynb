{
 "cells": [
  {
   "cell_type": "code",
   "execution_count": 1,
   "metadata": {},
   "outputs": [
    {
     "name": "stdout",
     "output_type": "stream",
     "text": [
      "/home/PJWSTK/s14028/Engine\n"
     ]
    }
   ],
   "source": [
    "%cd ../../"
   ]
  },
  {
   "cell_type": "code",
   "execution_count": 2,
   "metadata": {},
   "outputs": [
    {
     "name": "stderr",
     "output_type": "stream",
     "text": [
      "Using TensorFlow backend.\n"
     ]
    }
   ],
   "source": [
    "import keras\n",
    "\n",
    "from common import *\n",
    "\n",
    "from SDM.SDM import SDM"
   ]
  },
  {
   "cell_type": "code",
   "execution_count": 3,
   "metadata": {},
   "outputs": [],
   "source": [
    "train, test = data_sets()\n",
    "image_tensors = train[0], test[0]\n",
    "person_coo_tensors = train[1], test[1]\n",
    "count_matrix = train[2], test[2]\n",
    "\n",
    "image_train, image_test = image_tensors\n",
    "person_coo_train, person_coo_test = person_coo_tensors\n",
    "count_train, count_test = count_matrix\n",
    "count_train = count_train.astype(np.uint16)\n",
    "count_test = count_test.astype(np.uint16)"
   ]
  },
  {
   "cell_type": "code",
   "execution_count": 9,
   "metadata": {},
   "outputs": [
    {
     "data": {
      "text/plain": [
       "<keras.engine.sequential.Sequential at 0x7faf78802dd8>"
      ]
     },
     "execution_count": 9,
     "metadata": {},
     "output_type": "execute_result"
    }
   ],
   "source": [
    "sdm = SDM((480, 640, 3), split_into_parts=20)\n",
    "sdm.def_model()"
   ]
  },
  {
   "cell_type": "code",
   "execution_count": 10,
   "metadata": {},
   "outputs": [],
   "source": [
    "images = sdm._prepare_images(image_train)\n",
    "anwsers = sdm._prepare_anwsers(person_coo_train)"
   ]
  },
  {
   "cell_type": "code",
   "execution_count": 11,
   "metadata": {},
   "outputs": [
    {
     "name": "stdout",
     "output_type": "stream",
     "text": [
      "Epoch 1/1\n",
      "1/1 [==============================] - 1s 800ms/step - loss: 0.6931 - acc: 1.0000\n"
     ]
    }
   ],
   "source": [
    "history = sdm.model.fit(images[:1], anwsers[:1])"
   ]
  },
  {
   "cell_type": "code",
   "execution_count": 12,
   "metadata": {},
   "outputs": [],
   "source": [
    "parallel_model = keras.utils.multi_gpu_model(\n",
    "        sdm.model,\n",
    "        gpus=5,\n",
    "        cpu_merge=False)\n",
    "parallel_model.compile(\n",
    "        loss=\"binary_crossentropy\", \n",
    "        optimizer=\"adam\", \n",
    "        metrics=[\"accuracy\"])"
   ]
  },
  {
   "cell_type": "code",
   "execution_count": 7,
   "metadata": {},
   "outputs": [
    {
     "name": "stdout",
     "output_type": "stream",
     "text": [
      "Train on 612000 samples, validate on 68000 samples\n",
      "Epoch 1/1\n",
      "612000/612000 [==============================] - 6s 10us/step - loss: 0.9485 - acc: 0.5600 - val_loss: 1.8696 - val_acc: 0.6201\n"
     ]
    },
    {
     "data": {
      "text/plain": [
       "<keras.callbacks.History at 0x7f90a686f160>"
      ]
     },
     "execution_count": 7,
     "metadata": {},
     "output_type": "execute_result"
    }
   ],
   "source": [
    "parallel_model.fit(images, anwsers, batch_size=612000, epochs=1,\n",
    "                   validation_split=0.1)"
   ]
  },
  {
   "cell_type": "code",
   "execution_count": 8,
   "metadata": {},
   "outputs": [
    {
     "data": {
      "text/plain": [
       "<tf.Tensor 'Assign:0' shape=() dtype=float32_ref>"
      ]
     },
     "execution_count": 8,
     "metadata": {},
     "output_type": "execute_result"
    }
   ],
   "source": [
    "parallel_model.optimizer.lr.assign(1e-2)"
   ]
  },
  {
   "cell_type": "code",
   "execution_count": 9,
   "metadata": {},
   "outputs": [
    {
     "name": "stdout",
     "output_type": "stream",
     "text": [
      "Train on 612000 samples, validate on 68000 samples\n",
      "Epoch 1/90\n",
      "612000/612000 [==============================] - 4s 6us/step - loss: 2.7947 - acc: 0.5208 - val_loss: 3.1257 - val_acc: 0.5696\n",
      "Epoch 2/90\n",
      "612000/612000 [==============================] - 4s 7us/step - loss: 1.9249 - acc: 0.5146 - val_loss: 1.0983 - val_acc: 0.5614\n",
      "Epoch 3/90\n",
      "612000/612000 [==============================] - 4s 7us/step - loss: 1.3220 - acc: 0.4433 - val_loss: 0.4992 - val_acc: 0.7324\n",
      "Epoch 4/90\n",
      "612000/612000 [==============================] - 5s 7us/step - loss: 0.9562 - acc: 0.3970 - val_loss: 0.5632 - val_acc: 0.6915\n",
      "Epoch 5/90\n",
      "612000/612000 [==============================] - 5s 7us/step - loss: 0.8374 - acc: 0.4558 - val_loss: 0.6589 - val_acc: 0.6081\n",
      "Epoch 6/90\n",
      "612000/612000 [==============================] - 4s 7us/step - loss: 0.8263 - acc: 0.4541 - val_loss: 0.7168 - val_acc: 0.5591\n",
      "Epoch 7/90\n",
      "612000/612000 [==============================] - 4s 6us/step - loss: 0.8193 - acc: 0.4545 - val_loss: 0.7343 - val_acc: 0.5370\n",
      "Epoch 8/90\n",
      "612000/612000 [==============================] - 4s 7us/step - loss: 0.7949 - acc: 0.4586 - val_loss: 0.7286 - val_acc: 0.5234\n",
      "Epoch 9/90\n",
      "612000/612000 [==============================] - 4s 7us/step - loss: 0.7697 - acc: 0.4632 - val_loss: 0.7028 - val_acc: 0.5291\n",
      "Epoch 10/90\n",
      "612000/612000 [==============================] - 4s 7us/step - loss: 0.7488 - acc: 0.4702 - val_loss: 0.6757 - val_acc: 0.5444\n",
      "Epoch 11/90\n",
      "612000/612000 [==============================] - 4s 7us/step - loss: 0.7251 - acc: 0.4835 - val_loss: 0.6484 - val_acc: 0.5674\n",
      "Epoch 12/90\n",
      "612000/612000 [==============================] - 4s 7us/step - loss: 0.7001 - acc: 0.5013 - val_loss: 0.6248 - val_acc: 0.5909\n",
      "Epoch 13/90\n",
      "612000/612000 [==============================] - 4s 7us/step - loss: 0.6779 - acc: 0.5295 - val_loss: 0.6085 - val_acc: 0.6142\n",
      "Epoch 14/90\n",
      "612000/612000 [==============================] - 4s 7us/step - loss: 0.6599 - acc: 0.5661 - val_loss: 0.6010 - val_acc: 0.6335\n",
      "Epoch 15/90\n",
      "612000/612000 [==============================] - 4s 7us/step - loss: 0.6463 - acc: 0.5913 - val_loss: 0.6027 - val_acc: 0.6364\n",
      "Epoch 16/90\n",
      "612000/612000 [==============================] - 4s 7us/step - loss: 0.6341 - acc: 0.6126 - val_loss: 0.6122 - val_acc: 0.6233\n",
      "Epoch 17/90\n",
      "612000/612000 [==============================] - 4s 7us/step - loss: 0.6210 - acc: 0.6353 - val_loss: 0.6277 - val_acc: 0.6063\n",
      "Epoch 18/90\n",
      "612000/612000 [==============================] - 4s 7us/step - loss: 0.6071 - acc: 0.6624 - val_loss: 0.6442 - val_acc: 0.5911\n",
      "Epoch 19/90\n",
      "612000/612000 [==============================] - 4s 7us/step - loss: 0.5949 - acc: 0.6825 - val_loss: 0.6581 - val_acc: 0.5763\n",
      "Epoch 20/90\n",
      "612000/612000 [==============================] - 4s 7us/step - loss: 0.5856 - acc: 0.6960 - val_loss: 0.6669 - val_acc: 0.5686\n",
      "Epoch 21/90\n",
      "612000/612000 [==============================] - 4s 7us/step - loss: 0.5788 - acc: 0.7051 - val_loss: 0.6710 - val_acc: 0.5724\n",
      "Epoch 22/90\n",
      "612000/612000 [==============================] - 4s 7us/step - loss: 0.5732 - acc: 0.7141 - val_loss: 0.6706 - val_acc: 0.5820\n",
      "Epoch 23/90\n",
      "612000/612000 [==============================] - 4s 7us/step - loss: 0.5678 - acc: 0.7236 - val_loss: 0.6665 - val_acc: 0.5956\n",
      "Epoch 24/90\n",
      "612000/612000 [==============================] - 4s 7us/step - loss: 0.5620 - acc: 0.7351 - val_loss: 0.6594 - val_acc: 0.6112\n",
      "Epoch 25/90\n",
      "612000/612000 [==============================] - 4s 6us/step - loss: 0.5558 - acc: 0.7492 - val_loss: 0.6502 - val_acc: 0.6271\n",
      "Epoch 26/90\n",
      "612000/612000 [==============================] - 4s 7us/step - loss: 0.5493 - acc: 0.7646 - val_loss: 0.6386 - val_acc: 0.6442\n",
      "Epoch 27/90\n",
      "612000/612000 [==============================] - 4s 7us/step - loss: 0.5428 - acc: 0.7805 - val_loss: 0.6265 - val_acc: 0.6610\n",
      "Epoch 28/90\n",
      "612000/612000 [==============================] - 5s 8us/step - loss: 0.5366 - acc: 0.7963 - val_loss: 0.6136 - val_acc: 0.6814\n",
      "Epoch 29/90\n",
      "612000/612000 [==============================] - 4s 6us/step - loss: 0.5307 - acc: 0.8123 - val_loss: 0.6004 - val_acc: 0.7025\n",
      "Epoch 30/90\n",
      "612000/612000 [==============================] - 4s 7us/step - loss: 0.5251 - acc: 0.8261 - val_loss: 0.5873 - val_acc: 0.7251\n",
      "Epoch 31/90\n",
      "612000/612000 [==============================] - 4s 7us/step - loss: 0.5199 - acc: 0.8388 - val_loss: 0.5742 - val_acc: 0.7447\n",
      "Epoch 32/90\n",
      "612000/612000 [==============================] - 4s 6us/step - loss: 0.5149 - acc: 0.8512 - val_loss: 0.5613 - val_acc: 0.7612\n",
      "Epoch 33/90\n",
      "612000/612000 [==============================] - 4s 7us/step - loss: 0.5099 - acc: 0.8625 - val_loss: 0.5486 - val_acc: 0.7771\n",
      "Epoch 34/90\n",
      "612000/612000 [==============================] - 4s 7us/step - loss: 0.5049 - acc: 0.8724 - val_loss: 0.5361 - val_acc: 0.7954\n",
      "Epoch 35/90\n",
      "612000/612000 [==============================] - 4s 6us/step - loss: 0.4999 - acc: 0.8815 - val_loss: 0.5242 - val_acc: 0.8141\n",
      "Epoch 36/90\n",
      "612000/612000 [==============================] - 4s 7us/step - loss: 0.4948 - acc: 0.8894 - val_loss: 0.5126 - val_acc: 0.8319\n",
      "Epoch 37/90\n",
      "612000/612000 [==============================] - 4s 7us/step - loss: 0.4898 - acc: 0.8964 - val_loss: 0.5014 - val_acc: 0.8462\n",
      "Epoch 38/90\n",
      "612000/612000 [==============================] - 4s 7us/step - loss: 0.4848 - acc: 0.9024 - val_loss: 0.4909 - val_acc: 0.8581\n",
      "Epoch 39/90\n",
      "612000/612000 [==============================] - 4s 7us/step - loss: 0.4799 - acc: 0.9074 - val_loss: 0.4814 - val_acc: 0.8676\n",
      "Epoch 40/90\n",
      "612000/612000 [==============================] - 4s 7us/step - loss: 0.4752 - acc: 0.9119 - val_loss: 0.4720 - val_acc: 0.8772\n",
      "Epoch 41/90\n",
      "612000/612000 [==============================] - 4s 7us/step - loss: 0.4706 - acc: 0.9158 - val_loss: 0.4634 - val_acc: 0.8861\n",
      "Epoch 42/90\n",
      "612000/612000 [==============================] - 4s 7us/step - loss: 0.4662 - acc: 0.9194 - val_loss: 0.4555 - val_acc: 0.8923\n",
      "Epoch 43/90\n",
      "612000/612000 [==============================] - 4s 7us/step - loss: 0.4618 - acc: 0.9228 - val_loss: 0.4480 - val_acc: 0.8988\n",
      "Epoch 44/90\n",
      "612000/612000 [==============================] - 4s 7us/step - loss: 0.4576 - acc: 0.9260 - val_loss: 0.4412 - val_acc: 0.9048\n",
      "Epoch 45/90\n",
      "612000/612000 [==============================] - 4s 7us/step - loss: 0.4535 - acc: 0.9287 - val_loss: 0.4345 - val_acc: 0.9104\n",
      "Epoch 46/90\n",
      "612000/612000 [==============================] - 4s 6us/step - loss: 0.4494 - acc: 0.9304 - val_loss: 0.4284 - val_acc: 0.9144\n",
      "Epoch 47/90\n",
      "612000/612000 [==============================] - 4s 7us/step - loss: 0.4453 - acc: 0.9317 - val_loss: 0.4222 - val_acc: 0.9180\n",
      "Epoch 48/90\n",
      "612000/612000 [==============================] - 4s 6us/step - loss: 0.4413 - acc: 0.9330 - val_loss: 0.4164 - val_acc: 0.9214\n",
      "Epoch 49/90\n",
      "612000/612000 [==============================] - 4s 6us/step - loss: 0.4373 - acc: 0.9340 - val_loss: 0.4108 - val_acc: 0.9240\n",
      "Epoch 50/90\n",
      "612000/612000 [==============================] - 4s 6us/step - loss: 0.4333 - acc: 0.9351 - val_loss: 0.4052 - val_acc: 0.9262\n",
      "Epoch 51/90\n",
      "612000/612000 [==============================] - 4s 7us/step - loss: 0.4293 - acc: 0.9359 - val_loss: 0.4000 - val_acc: 0.9282\n",
      "Epoch 52/90\n",
      "612000/612000 [==============================] - 4s 7us/step - loss: 0.4254 - acc: 0.9364 - val_loss: 0.3949 - val_acc: 0.9303\n",
      "Epoch 53/90\n",
      "612000/612000 [==============================] - 4s 6us/step - loss: 0.4216 - acc: 0.9369 - val_loss: 0.3898 - val_acc: 0.9314\n",
      "Epoch 54/90\n",
      "612000/612000 [==============================] - 4s 7us/step - loss: 0.4178 - acc: 0.9371 - val_loss: 0.3848 - val_acc: 0.9322\n",
      "Epoch 55/90\n",
      "612000/612000 [==============================] - 4s 7us/step - loss: 0.4140 - acc: 0.9372 - val_loss: 0.3800 - val_acc: 0.9326\n",
      "Epoch 56/90\n",
      "612000/612000 [==============================] - 4s 7us/step - loss: 0.4103 - acc: 0.9372 - val_loss: 0.3754 - val_acc: 0.9330\n",
      "Epoch 57/90\n",
      "612000/612000 [==============================] - 4s 6us/step - loss: 0.4067 - acc: 0.9371 - val_loss: 0.3709 - val_acc: 0.9329\n",
      "Epoch 58/90\n",
      "612000/612000 [==============================] - 4s 7us/step - loss: 0.4031 - acc: 0.9371 - val_loss: 0.3665 - val_acc: 0.9329\n",
      "Epoch 59/90\n",
      "612000/612000 [==============================] - 4s 6us/step - loss: 0.3996 - acc: 0.9371 - val_loss: 0.3623 - val_acc: 0.9329\n"
     ]
    },
    {
     "name": "stdout",
     "output_type": "stream",
     "text": [
      "Epoch 60/90\n",
      "612000/612000 [==============================] - 4s 7us/step - loss: 0.3961 - acc: 0.9372 - val_loss: 0.3582 - val_acc: 0.9331\n",
      "Epoch 61/90\n",
      "612000/612000 [==============================] - 4s 7us/step - loss: 0.3926 - acc: 0.9374 - val_loss: 0.3542 - val_acc: 0.9331\n",
      "Epoch 62/90\n",
      "612000/612000 [==============================] - 4s 7us/step - loss: 0.3892 - acc: 0.9376 - val_loss: 0.3505 - val_acc: 0.9332\n",
      "Epoch 63/90\n",
      "612000/612000 [==============================] - 4s 7us/step - loss: 0.3858 - acc: 0.9377 - val_loss: 0.3468 - val_acc: 0.9331\n",
      "Epoch 64/90\n",
      "612000/612000 [==============================] - 4s 7us/step - loss: 0.3825 - acc: 0.9378 - val_loss: 0.3430 - val_acc: 0.9331\n",
      "Epoch 65/90\n",
      "612000/612000 [==============================] - 4s 7us/step - loss: 0.3791 - acc: 0.9380 - val_loss: 0.3395 - val_acc: 0.9330\n",
      "Epoch 66/90\n",
      "612000/612000 [==============================] - 4s 7us/step - loss: 0.3758 - acc: 0.9381 - val_loss: 0.3360 - val_acc: 0.9331\n",
      "Epoch 67/90\n",
      "612000/612000 [==============================] - 4s 7us/step - loss: 0.3726 - acc: 0.9383 - val_loss: 0.3325 - val_acc: 0.9332\n",
      "Epoch 68/90\n",
      "612000/612000 [==============================] - 4s 6us/step - loss: 0.3694 - acc: 0.9385 - val_loss: 0.3289 - val_acc: 0.9331\n",
      "Epoch 69/90\n",
      "612000/612000 [==============================] - 4s 7us/step - loss: 0.3662 - acc: 0.9387 - val_loss: 0.3253 - val_acc: 0.9330\n",
      "Epoch 70/90\n",
      "612000/612000 [==============================] - 4s 6us/step - loss: 0.3630 - acc: 0.9389 - val_loss: 0.3217 - val_acc: 0.9329\n",
      "Epoch 71/90\n",
      "612000/612000 [==============================] - 4s 7us/step - loss: 0.3599 - acc: 0.9390 - val_loss: 0.3182 - val_acc: 0.9329\n",
      "Epoch 72/90\n",
      "612000/612000 [==============================] - 4s 7us/step - loss: 0.3568 - acc: 0.9390 - val_loss: 0.3150 - val_acc: 0.9329\n",
      "Epoch 73/90\n",
      "612000/612000 [==============================] - 4s 7us/step - loss: 0.3538 - acc: 0.9390 - val_loss: 0.3120 - val_acc: 0.9329\n",
      "Epoch 74/90\n",
      "612000/612000 [==============================] - 4s 7us/step - loss: 0.3509 - acc: 0.9388 - val_loss: 0.3093 - val_acc: 0.9328\n",
      "Epoch 75/90\n",
      "612000/612000 [==============================] - 4s 7us/step - loss: 0.3479 - acc: 0.9388 - val_loss: 0.3067 - val_acc: 0.9328\n",
      "Epoch 76/90\n",
      "612000/612000 [==============================] - 4s 7us/step - loss: 0.3450 - acc: 0.9389 - val_loss: 0.3043 - val_acc: 0.9329\n",
      "Epoch 77/90\n",
      "612000/612000 [==============================] - 4s 7us/step - loss: 0.3421 - acc: 0.9390 - val_loss: 0.3020 - val_acc: 0.9329\n",
      "Epoch 78/90\n",
      "612000/612000 [==============================] - 4s 7us/step - loss: 0.3392 - acc: 0.9390 - val_loss: 0.2995 - val_acc: 0.9328\n",
      "Epoch 79/90\n",
      "612000/612000 [==============================] - 4s 7us/step - loss: 0.3364 - acc: 0.9390 - val_loss: 0.2971 - val_acc: 0.9329\n",
      "Epoch 80/90\n",
      "612000/612000 [==============================] - 4s 7us/step - loss: 0.3335 - acc: 0.9389 - val_loss: 0.2947 - val_acc: 0.9329\n",
      "Epoch 81/90\n",
      "612000/612000 [==============================] - 4s 6us/step - loss: 0.3308 - acc: 0.9387 - val_loss: 0.2925 - val_acc: 0.9329\n",
      "Epoch 82/90\n",
      "612000/612000 [==============================] - 4s 7us/step - loss: 0.3281 - acc: 0.9387 - val_loss: 0.2906 - val_acc: 0.9330\n",
      "Epoch 83/90\n",
      "612000/612000 [==============================] - 4s 7us/step - loss: 0.3253 - acc: 0.9388 - val_loss: 0.2888 - val_acc: 0.9330\n",
      "Epoch 84/90\n",
      "612000/612000 [==============================] - 4s 6us/step - loss: 0.3227 - acc: 0.9391 - val_loss: 0.2870 - val_acc: 0.9330\n",
      "Epoch 85/90\n",
      "612000/612000 [==============================] - 4s 6us/step - loss: 0.3200 - acc: 0.9392 - val_loss: 0.2851 - val_acc: 0.9329\n",
      "Epoch 86/90\n",
      "612000/612000 [==============================] - 5s 7us/step - loss: 0.3174 - acc: 0.9393 - val_loss: 0.2831 - val_acc: 0.9330\n",
      "Epoch 87/90\n",
      "612000/612000 [==============================] - 4s 7us/step - loss: 0.3148 - acc: 0.9392 - val_loss: 0.2811 - val_acc: 0.9329\n",
      "Epoch 88/90\n",
      "612000/612000 [==============================] - 4s 7us/step - loss: 0.3122 - acc: 0.9392 - val_loss: 0.2792 - val_acc: 0.9329\n",
      "Epoch 89/90\n",
      "612000/612000 [==============================] - 4s 7us/step - loss: 0.3096 - acc: 0.9392 - val_loss: 0.2774 - val_acc: 0.9329\n",
      "Epoch 90/90\n",
      "612000/612000 [==============================] - 4s 6us/step - loss: 0.3071 - acc: 0.9393 - val_loss: 0.2756 - val_acc: 0.9327\n"
     ]
    },
    {
     "data": {
      "text/plain": [
       "<keras.callbacks.History at 0x7f85a19e6f28>"
      ]
     },
     "execution_count": 9,
     "metadata": {},
     "output_type": "execute_result"
    }
   ],
   "source": [
    "parallel_model.fit(images, anwsers, batch_size=612000, epochs=90,\n",
    "                   validation_split=0.1)"
   ]
  },
  {
   "cell_type": "code",
   "execution_count": 10,
   "metadata": {},
   "outputs": [],
   "source": [
    "parallel_model.save_weights(\"SDM/SDM/weights/sdm_1e_2_90\")"
   ]
  },
  {
   "cell_type": "code",
   "execution_count": 13,
   "metadata": {},
   "outputs": [
    {
     "data": {
      "text/plain": [
       "<tf.Tensor 'Assign_1:0' shape=() dtype=float32_ref>"
      ]
     },
     "execution_count": 13,
     "metadata": {},
     "output_type": "execute_result"
    }
   ],
   "source": [
    "parallel_model.optimizer.lr.assign(1e-4)"
   ]
  },
  {
   "cell_type": "code",
   "execution_count": 14,
   "metadata": {},
   "outputs": [
    {
     "name": "stdout",
     "output_type": "stream",
     "text": [
      "Train on 612000 samples, validate on 68000 samples\n",
      "Epoch 1/30\n",
      "612000/612000 [==============================] - 4s 6us/step - loss: 0.3046 - acc: 0.9393 - val_loss: 0.2737 - val_acc: 0.9327\n",
      "Epoch 2/30\n",
      "612000/612000 [==============================] - 4s 7us/step - loss: 0.3021 - acc: 0.9393 - val_loss: 0.2719 - val_acc: 0.9326\n",
      "Epoch 3/30\n",
      "612000/612000 [==============================] - 4s 7us/step - loss: 0.2997 - acc: 0.9394 - val_loss: 0.2703 - val_acc: 0.9325\n",
      "Epoch 4/30\n",
      "612000/612000 [==============================] - 4s 7us/step - loss: 0.2972 - acc: 0.9396 - val_loss: 0.2687 - val_acc: 0.9324\n",
      "Epoch 5/30\n",
      "612000/612000 [==============================] - 4s 7us/step - loss: 0.2949 - acc: 0.9397 - val_loss: 0.2669 - val_acc: 0.9324\n",
      "Epoch 6/30\n",
      "612000/612000 [==============================] - 4s 7us/step - loss: 0.2925 - acc: 0.9397 - val_loss: 0.2652 - val_acc: 0.9325\n",
      "Epoch 7/30\n",
      "612000/612000 [==============================] - 4s 7us/step - loss: 0.2901 - acc: 0.9398 - val_loss: 0.2637 - val_acc: 0.9326\n",
      "Epoch 8/30\n",
      "612000/612000 [==============================] - 4s 7us/step - loss: 0.2878 - acc: 0.9400 - val_loss: 0.2620 - val_acc: 0.9326\n",
      "Epoch 9/30\n",
      "612000/612000 [==============================] - 4s 7us/step - loss: 0.2854 - acc: 0.9401 - val_loss: 0.2603 - val_acc: 0.9325\n",
      "Epoch 10/30\n",
      "612000/612000 [==============================] - 4s 7us/step - loss: 0.2831 - acc: 0.9402 - val_loss: 0.2587 - val_acc: 0.9323\n",
      "Epoch 11/30\n",
      "612000/612000 [==============================] - 4s 7us/step - loss: 0.2808 - acc: 0.9404 - val_loss: 0.2572 - val_acc: 0.9323\n",
      "Epoch 12/30\n",
      "612000/612000 [==============================] - 4s 7us/step - loss: 0.2786 - acc: 0.9407 - val_loss: 0.2556 - val_acc: 0.9321\n",
      "Epoch 13/30\n",
      "612000/612000 [==============================] - 4s 7us/step - loss: 0.2764 - acc: 0.9409 - val_loss: 0.2541 - val_acc: 0.9320\n",
      "Epoch 14/30\n",
      "612000/612000 [==============================] - 4s 6us/step - loss: 0.2742 - acc: 0.9411 - val_loss: 0.2526 - val_acc: 0.9319\n",
      "Epoch 15/30\n",
      "612000/612000 [==============================] - 4s 7us/step - loss: 0.2720 - acc: 0.9415 - val_loss: 0.2512 - val_acc: 0.9318\n",
      "Epoch 16/30\n",
      "612000/612000 [==============================] - 4s 6us/step - loss: 0.2698 - acc: 0.9419 - val_loss: 0.2498 - val_acc: 0.9318\n",
      "Epoch 17/30\n",
      "612000/612000 [==============================] - 4s 6us/step - loss: 0.2677 - acc: 0.9423 - val_loss: 0.2481 - val_acc: 0.9317\n",
      "Epoch 18/30\n",
      "612000/612000 [==============================] - 4s 7us/step - loss: 0.2656 - acc: 0.9425 - val_loss: 0.2469 - val_acc: 0.9316\n",
      "Epoch 19/30\n",
      "612000/612000 [==============================] - 4s 7us/step - loss: 0.2636 - acc: 0.9430 - val_loss: 0.2450 - val_acc: 0.9315\n",
      "Epoch 20/30\n",
      "612000/612000 [==============================] - 4s 6us/step - loss: 0.2618 - acc: 0.9426 - val_loss: 0.2442 - val_acc: 0.9315\n",
      "Epoch 21/30\n",
      "612000/612000 [==============================] - 4s 7us/step - loss: 0.2600 - acc: 0.9435 - val_loss: 0.2422 - val_acc: 0.9314\n",
      "Epoch 22/30\n",
      "612000/612000 [==============================] - 4s 6us/step - loss: 0.2578 - acc: 0.9430 - val_loss: 0.2410 - val_acc: 0.9313\n",
      "Epoch 23/30\n",
      "612000/612000 [==============================] - 4s 7us/step - loss: 0.2558 - acc: 0.9434 - val_loss: 0.2400 - val_acc: 0.9312\n",
      "Epoch 24/30\n",
      "612000/612000 [==============================] - 4s 7us/step - loss: 0.2541 - acc: 0.9437 - val_loss: 0.2382 - val_acc: 0.9312\n",
      "Epoch 25/30\n",
      "612000/612000 [==============================] - 4s 7us/step - loss: 0.2524 - acc: 0.9429 - val_loss: 0.2373 - val_acc: 0.9311\n",
      "Epoch 26/30\n",
      "612000/612000 [==============================] - 4s 7us/step - loss: 0.2503 - acc: 0.9436 - val_loss: 0.2363 - val_acc: 0.9311\n",
      "Epoch 27/30\n",
      "612000/612000 [==============================] - 4s 7us/step - loss: 0.2486 - acc: 0.9438 - val_loss: 0.2348 - val_acc: 0.9310\n",
      "Epoch 28/30\n",
      "612000/612000 [==============================] - 4s 7us/step - loss: 0.2470 - acc: 0.9432 - val_loss: 0.2341 - val_acc: 0.9311\n",
      "Epoch 29/30\n",
      "612000/612000 [==============================] - 4s 7us/step - loss: 0.2451 - acc: 0.9440 - val_loss: 0.2328 - val_acc: 0.9310\n",
      "Epoch 30/30\n",
      "612000/612000 [==============================] - 4s 6us/step - loss: 0.2433 - acc: 0.9440 - val_loss: 0.2316 - val_acc: 0.9309\n"
     ]
    },
    {
     "data": {
      "text/plain": [
       "<keras.callbacks.History at 0x7f84bc0e8be0>"
      ]
     },
     "execution_count": 14,
     "metadata": {},
     "output_type": "execute_result"
    }
   ],
   "source": [
    "parallel_model.fit(images, anwsers, batch_size=612000, epochs=30,\n",
    "                   validation_split=0.1)"
   ]
  },
  {
   "cell_type": "code",
   "execution_count": 15,
   "metadata": {},
   "outputs": [],
   "source": [
    "parallel_model.save_weights(\"SDM/SDM/weights/sdm_1e_4_30\")"
   ]
  },
  {
   "cell_type": "code",
   "execution_count": 16,
   "metadata": {},
   "outputs": [
    {
     "data": {
      "text/plain": [
       "<tf.Tensor 'Assign_2:0' shape=() dtype=float32_ref>"
      ]
     },
     "execution_count": 16,
     "metadata": {},
     "output_type": "execute_result"
    }
   ],
   "source": [
    "parallel_model.optimizer.lr.assign(5e-6)"
   ]
  },
  {
   "cell_type": "code",
   "execution_count": 17,
   "metadata": {},
   "outputs": [
    {
     "name": "stdout",
     "output_type": "stream",
     "text": [
      "Train on 612000 samples, validate on 68000 samples\n",
      "Epoch 1/30\n",
      "612000/612000 [==============================] - 4s 6us/step - loss: 0.2418 - acc: 0.9438 - val_loss: 0.2310 - val_acc: 0.9310\n",
      "Epoch 2/30\n",
      "612000/612000 [==============================] - 4s 7us/step - loss: 0.2401 - acc: 0.9443 - val_loss: 0.2297 - val_acc: 0.9310\n",
      "Epoch 3/30\n",
      "612000/612000 [==============================] - 4s 6us/step - loss: 0.2384 - acc: 0.9443 - val_loss: 0.2288 - val_acc: 0.9310\n",
      "Epoch 4/30\n",
      "612000/612000 [==============================] - 4s 7us/step - loss: 0.2368 - acc: 0.9444 - val_loss: 0.2282 - val_acc: 0.9311\n",
      "Epoch 5/30\n",
      "612000/612000 [==============================] - 4s 7us/step - loss: 0.2352 - acc: 0.9446 - val_loss: 0.2271 - val_acc: 0.9310\n",
      "Epoch 6/30\n",
      "612000/612000 [==============================] - 4s 6us/step - loss: 0.2337 - acc: 0.9444 - val_loss: 0.2265 - val_acc: 0.9310\n",
      "Epoch 7/30\n",
      "612000/612000 [==============================] - 4s 7us/step - loss: 0.2320 - acc: 0.9448 - val_loss: 0.2258 - val_acc: 0.9310\n",
      "Epoch 8/30\n",
      "612000/612000 [==============================] - 4s 7us/step - loss: 0.2304 - acc: 0.9448 - val_loss: 0.2250 - val_acc: 0.9311\n",
      "Epoch 9/30\n",
      "612000/612000 [==============================] - 4s 6us/step - loss: 0.2290 - acc: 0.9447 - val_loss: 0.2245 - val_acc: 0.9311\n",
      "Epoch 10/30\n",
      "612000/612000 [==============================] - 4s 7us/step - loss: 0.2275 - acc: 0.9450 - val_loss: 0.2235 - val_acc: 0.9310\n",
      "Epoch 11/30\n",
      "612000/612000 [==============================] - 4s 6us/step - loss: 0.2261 - acc: 0.9447 - val_loss: 0.2232 - val_acc: 0.9310\n",
      "Epoch 12/30\n",
      "612000/612000 [==============================] - 4s 7us/step - loss: 0.2246 - acc: 0.9451 - val_loss: 0.2223 - val_acc: 0.9310\n",
      "Epoch 13/30\n",
      "612000/612000 [==============================] - 4s 7us/step - loss: 0.2231 - acc: 0.9450 - val_loss: 0.2218 - val_acc: 0.9309\n",
      "Epoch 14/30\n",
      "612000/612000 [==============================] - 4s 6us/step - loss: 0.2216 - acc: 0.9453 - val_loss: 0.2212 - val_acc: 0.9309\n",
      "Epoch 15/30\n",
      "612000/612000 [==============================] - 4s 6us/step - loss: 0.2202 - acc: 0.9453 - val_loss: 0.2206 - val_acc: 0.9309\n",
      "Epoch 16/30\n",
      "612000/612000 [==============================] - 4s 6us/step - loss: 0.2189 - acc: 0.9454 - val_loss: 0.2202 - val_acc: 0.9309\n",
      "Epoch 17/30\n",
      "612000/612000 [==============================] - 4s 6us/step - loss: 0.2176 - acc: 0.9456 - val_loss: 0.2196 - val_acc: 0.9309\n",
      "Epoch 18/30\n",
      "612000/612000 [==============================] - 4s 7us/step - loss: 0.2164 - acc: 0.9455 - val_loss: 0.2195 - val_acc: 0.9309\n",
      "Epoch 19/30\n",
      "612000/612000 [==============================] - 4s 7us/step - loss: 0.2153 - acc: 0.9459 - val_loss: 0.2186 - val_acc: 0.9308\n",
      "Epoch 20/30\n",
      "612000/612000 [==============================] - 4s 7us/step - loss: 0.2146 - acc: 0.9454 - val_loss: 0.2188 - val_acc: 0.9308\n",
      "Epoch 21/30\n",
      "612000/612000 [==============================] - 4s 7us/step - loss: 0.2132 - acc: 0.9461 - val_loss: 0.2179 - val_acc: 0.9308\n",
      "Epoch 22/30\n",
      "612000/612000 [==============================] - 4s 7us/step - loss: 0.2115 - acc: 0.9458 - val_loss: 0.2177 - val_acc: 0.9308\n",
      "Epoch 23/30\n",
      "612000/612000 [==============================] - 4s 7us/step - loss: 0.2099 - acc: 0.9461 - val_loss: 0.2177 - val_acc: 0.9308\n",
      "Epoch 24/30\n",
      "612000/612000 [==============================] - 4s 7us/step - loss: 0.2092 - acc: 0.9463 - val_loss: 0.2169 - val_acc: 0.9306\n",
      "Epoch 25/30\n",
      "612000/612000 [==============================] - 4s 7us/step - loss: 0.2082 - acc: 0.9461 - val_loss: 0.2169 - val_acc: 0.9307\n",
      "Epoch 26/30\n",
      "612000/612000 [==============================] - 4s 7us/step - loss: 0.2065 - acc: 0.9465 - val_loss: 0.2169 - val_acc: 0.9306\n",
      "Epoch 27/30\n",
      "612000/612000 [==============================] - 4s 6us/step - loss: 0.2057 - acc: 0.9468 - val_loss: 0.2161 - val_acc: 0.9305\n",
      "Epoch 28/30\n",
      "612000/612000 [==============================] - 4s 6us/step - loss: 0.2049 - acc: 0.9463 - val_loss: 0.2161 - val_acc: 0.9305\n",
      "Epoch 29/30\n",
      "612000/612000 [==============================] - 4s 6us/step - loss: 0.2031 - acc: 0.9469 - val_loss: 0.2160 - val_acc: 0.9305\n",
      "Epoch 30/30\n",
      "612000/612000 [==============================] - 4s 7us/step - loss: 0.2025 - acc: 0.9470 - val_loss: 0.2152 - val_acc: 0.9304\n"
     ]
    },
    {
     "data": {
      "text/plain": [
       "<keras.callbacks.History at 0x7f84bc1c5cf8>"
      ]
     },
     "execution_count": 17,
     "metadata": {},
     "output_type": "execute_result"
    }
   ],
   "source": [
    "parallel_model.fit(images, anwsers, batch_size=612000, epochs=30,\n",
    "                   validation_split=0.1)"
   ]
  },
  {
   "cell_type": "code",
   "execution_count": 23,
   "metadata": {},
   "outputs": [],
   "source": [
    "parallel_model.save_weights(\"SDM/SDM/weights/sdm_5e_6_30\")"
   ]
  },
  {
   "cell_type": "code",
   "execution_count": 24,
   "metadata": {},
   "outputs": [
    {
     "name": "stdout",
     "output_type": "stream",
     "text": [
      "Train on 612000 samples, validate on 68000 samples\n",
      "Epoch 1/20\n",
      "612000/612000 [==============================] - 4s 7us/step - loss: 0.2017 - acc: 0.9466 - val_loss: 0.2152 - val_acc: 0.9304\n",
      "Epoch 2/20\n",
      "612000/612000 [==============================] - 4s 7us/step - loss: 0.1999 - acc: 0.9472 - val_loss: 0.2153 - val_acc: 0.9304\n",
      "Epoch 3/20\n",
      "612000/612000 [==============================] - 4s 6us/step - loss: 0.1996 - acc: 0.9474 - val_loss: 0.2145 - val_acc: 0.9304\n",
      "Epoch 4/20\n",
      "612000/612000 [==============================] - 4s 7us/step - loss: 0.1986 - acc: 0.9468 - val_loss: 0.2145 - val_acc: 0.9304\n",
      "Epoch 5/20\n",
      "612000/612000 [==============================] - 4s 7us/step - loss: 0.1969 - acc: 0.9474 - val_loss: 0.2147 - val_acc: 0.9304\n",
      "Epoch 6/20\n",
      "612000/612000 [==============================] - 4s 7us/step - loss: 0.1968 - acc: 0.9476 - val_loss: 0.2140 - val_acc: 0.9304\n",
      "Epoch 7/20\n",
      "612000/612000 [==============================] - 4s 7us/step - loss: 0.1955 - acc: 0.9470 - val_loss: 0.2139 - val_acc: 0.9304\n",
      "Epoch 8/20\n",
      "612000/612000 [==============================] - 4s 7us/step - loss: 0.1942 - acc: 0.9473 - val_loss: 0.2143 - val_acc: 0.9304\n",
      "Epoch 9/20\n",
      "612000/612000 [==============================] - 4s 7us/step - loss: 0.1939 - acc: 0.9479 - val_loss: 0.2137 - val_acc: 0.9305\n",
      "Epoch 10/20\n",
      "612000/612000 [==============================] - 4s 7us/step - loss: 0.1922 - acc: 0.9476 - val_loss: 0.2135 - val_acc: 0.9305\n",
      "Epoch 11/20\n",
      "612000/612000 [==============================] - 4s 7us/step - loss: 0.1917 - acc: 0.9473 - val_loss: 0.2139 - val_acc: 0.9306\n",
      "Epoch 12/20\n",
      "612000/612000 [==============================] - 4s 7us/step - loss: 0.1907 - acc: 0.9482 - val_loss: 0.2136 - val_acc: 0.9305\n",
      "Epoch 13/20\n",
      "612000/612000 [==============================] - 4s 7us/step - loss: 0.1895 - acc: 0.9481 - val_loss: 0.2131 - val_acc: 0.9305\n",
      "Epoch 14/20\n",
      "612000/612000 [==============================] - 4s 7us/step - loss: 0.1890 - acc: 0.9475 - val_loss: 0.2134 - val_acc: 0.9306\n",
      "Epoch 15/20\n",
      "612000/612000 [==============================] - 4s 6us/step - loss: 0.1878 - acc: 0.9482 - val_loss: 0.2134 - val_acc: 0.9307\n",
      "Epoch 16/20\n",
      "612000/612000 [==============================] - 4s 7us/step - loss: 0.1871 - acc: 0.9484 - val_loss: 0.2129 - val_acc: 0.9307\n",
      "Epoch 17/20\n",
      "612000/612000 [==============================] - 4s 7us/step - loss: 0.1863 - acc: 0.9479 - val_loss: 0.2130 - val_acc: 0.9308\n",
      "Epoch 18/20\n",
      "612000/612000 [==============================] - 4s 7us/step - loss: 0.1852 - acc: 0.9483 - val_loss: 0.2132 - val_acc: 0.9309\n",
      "Epoch 19/20\n",
      "612000/612000 [==============================] - 4s 7us/step - loss: 0.1847 - acc: 0.9486 - val_loss: 0.2128 - val_acc: 0.9309\n",
      "Epoch 20/20\n",
      "612000/612000 [==============================] - 5s 8us/step - loss: 0.1837 - acc: 0.9483 - val_loss: 0.2128 - val_acc: 0.9309\n"
     ]
    },
    {
     "data": {
      "text/plain": [
       "<keras.callbacks.History at 0x7f84bc0fb908>"
      ]
     },
     "execution_count": 24,
     "metadata": {},
     "output_type": "execute_result"
    }
   ],
   "source": [
    "parallel_model.fit(images, anwsers, batch_size=612000, epochs=20,\n",
    "                   validation_split=0.1)"
   ]
  },
  {
   "cell_type": "code",
   "execution_count": 29,
   "metadata": {},
   "outputs": [],
   "source": [
    "parallel_model.save_weights(\"SDM/SDM/weights/sdm_5e_6_50\")"
   ]
  },
  {
   "cell_type": "code",
   "execution_count": 7,
   "metadata": {},
   "outputs": [],
   "source": [
    "parallel_model.load_weights(\"SDM/SDM/weights/sdm_5e_6_50\")"
   ]
  },
  {
   "cell_type": "code",
   "execution_count": 8,
   "metadata": {},
   "outputs": [
    {
     "data": {
      "text/plain": [
       "<tf.Tensor 'Assign_12:0' shape=() dtype=float32_ref>"
      ]
     },
     "execution_count": 8,
     "metadata": {},
     "output_type": "execute_result"
    }
   ],
   "source": [
    "parallel_model.optimizer.lr.assign(5e-6)"
   ]
  },
  {
   "cell_type": "code",
   "execution_count": 9,
   "metadata": {},
   "outputs": [
    {
     "name": "stdout",
     "output_type": "stream",
     "text": [
      "Train on 612000 samples, validate on 68000 samples\n",
      "Epoch 1/20\n",
      "612000/612000 [==============================] - 6s 9us/step - loss: 0.1829 - acc: 0.9484 - val_loss: 0.4489 - val_acc: 0.8265\n",
      "Epoch 2/20\n",
      "612000/612000 [==============================] - 4s 7us/step - loss: 0.2623 - acc: 0.9198 - val_loss: 0.1847 - val_acc: 0.9387\n",
      "Epoch 3/20\n",
      "612000/612000 [==============================] - 4s 6us/step - loss: 0.1817 - acc: 0.9489 - val_loss: 0.2102 - val_acc: 0.9345\n",
      "Epoch 4/20\n",
      "612000/612000 [==============================] - 4s 7us/step - loss: 0.2469 - acc: 0.9041 - val_loss: 0.1988 - val_acc: 0.9382\n",
      "Epoch 5/20\n",
      "612000/612000 [==============================] - 4s 7us/step - loss: 0.2037 - acc: 0.9412 - val_loss: 0.1878 - val_acc: 0.9411\n",
      "Epoch 6/20\n",
      "612000/612000 [==============================] - 4s 7us/step - loss: 0.1818 - acc: 0.9471 - val_loss: 0.1987 - val_acc: 0.9411\n",
      "Epoch 7/20\n",
      "612000/612000 [==============================] - 4s 7us/step - loss: 0.1927 - acc: 0.9438 - val_loss: 0.2125 - val_acc: 0.9410\n",
      "Epoch 8/20\n",
      "612000/612000 [==============================] - 4s 6us/step - loss: 0.2002 - acc: 0.9430 - val_loss: 0.2108 - val_acc: 0.9403\n",
      "Epoch 9/20\n",
      "612000/612000 [==============================] - 4s 7us/step - loss: 0.1968 - acc: 0.9434 - val_loss: 0.2019 - val_acc: 0.9396\n",
      "Epoch 10/20\n",
      "612000/612000 [==============================] - 4s 7us/step - loss: 0.1903 - acc: 0.9436 - val_loss: 0.1928 - val_acc: 0.9401\n",
      "Epoch 11/20\n",
      "612000/612000 [==============================] - 4s 6us/step - loss: 0.1849 - acc: 0.9441 - val_loss: 0.1869 - val_acc: 0.9418\n",
      "Epoch 12/20\n",
      "612000/612000 [==============================] - 4s 7us/step - loss: 0.1828 - acc: 0.9450 - val_loss: 0.1845 - val_acc: 0.9419\n",
      "Epoch 13/20\n",
      "612000/612000 [==============================] - 4s 7us/step - loss: 0.1833 - acc: 0.9454 - val_loss: 0.1843 - val_acc: 0.9415\n",
      "Epoch 14/20\n",
      "612000/612000 [==============================] - 4s 7us/step - loss: 0.1846 - acc: 0.9452 - val_loss: 0.1838 - val_acc: 0.9416\n",
      "Epoch 15/20\n",
      "612000/612000 [==============================] - 4s 7us/step - loss: 0.1843 - acc: 0.9452 - val_loss: 0.1822 - val_acc: 0.9416\n",
      "Epoch 16/20\n",
      "612000/612000 [==============================] - 4s 6us/step - loss: 0.1817 - acc: 0.9455 - val_loss: 0.1801 - val_acc: 0.9422\n",
      "Epoch 17/20\n",
      "612000/612000 [==============================] - 4s 7us/step - loss: 0.1778 - acc: 0.9459 - val_loss: 0.1790 - val_acc: 0.9427\n",
      "Epoch 18/20\n",
      "612000/612000 [==============================] - 4s 7us/step - loss: 0.1747 - acc: 0.9461 - val_loss: 0.1793 - val_acc: 0.9419\n",
      "Epoch 19/20\n",
      "612000/612000 [==============================] - 4s 7us/step - loss: 0.1737 - acc: 0.9458 - val_loss: 0.1804 - val_acc: 0.9408\n",
      "Epoch 20/20\n",
      "612000/612000 [==============================] - 4s 6us/step - loss: 0.1737 - acc: 0.9453 - val_loss: 0.1806 - val_acc: 0.9404\n"
     ]
    },
    {
     "data": {
      "text/plain": [
       "<keras.callbacks.History at 0x7fd75d6beeb8>"
      ]
     },
     "execution_count": 9,
     "metadata": {},
     "output_type": "execute_result"
    }
   ],
   "source": [
    "parallel_model.fit(images, anwsers, batch_size=612000, epochs=20,\n",
    "                   validation_split=0.1)"
   ]
  },
  {
   "cell_type": "code",
   "execution_count": 10,
   "metadata": {},
   "outputs": [
    {
     "name": "stdout",
     "output_type": "stream",
     "text": [
      "Train on 612000 samples, validate on 68000 samples\n",
      "Epoch 1/10\n",
      "612000/612000 [==============================] - 4s 7us/step - loss: 0.1729 - acc: 0.9450 - val_loss: 0.1794 - val_acc: 0.9398\n",
      "Epoch 2/10\n",
      "612000/612000 [==============================] - 4s 7us/step - loss: 0.1707 - acc: 0.9457 - val_loss: 0.1778 - val_acc: 0.9401\n",
      "Epoch 3/10\n",
      "612000/612000 [==============================] - 4s 6us/step - loss: 0.1690 - acc: 0.9465 - val_loss: 0.1766 - val_acc: 0.9404\n",
      "Epoch 4/10\n",
      "612000/612000 [==============================] - 4s 6us/step - loss: 0.1679 - acc: 0.9470 - val_loss: 0.1756 - val_acc: 0.9408\n",
      "Epoch 5/10\n",
      "612000/612000 [==============================] - 4s 7us/step - loss: 0.1660 - acc: 0.9474 - val_loss: 0.1752 - val_acc: 0.9409\n",
      "Epoch 6/10\n",
      "612000/612000 [==============================] - 4s 7us/step - loss: 0.1643 - acc: 0.9479 - val_loss: 0.1750 - val_acc: 0.9406\n",
      "Epoch 7/10\n",
      "612000/612000 [==============================] - 4s 7us/step - loss: 0.1632 - acc: 0.9482 - val_loss: 0.1746 - val_acc: 0.9406\n",
      "Epoch 8/10\n",
      "612000/612000 [==============================] - 4s 7us/step - loss: 0.1623 - acc: 0.9483 - val_loss: 0.1735 - val_acc: 0.9407\n",
      "Epoch 9/10\n",
      "612000/612000 [==============================] - 4s 7us/step - loss: 0.1611 - acc: 0.9483 - val_loss: 0.1719 - val_acc: 0.9408\n",
      "Epoch 10/10\n",
      "612000/612000 [==============================] - 4s 7us/step - loss: 0.1594 - acc: 0.9484 - val_loss: 0.1705 - val_acc: 0.9408\n"
     ]
    },
    {
     "data": {
      "text/plain": [
       "<keras.callbacks.History at 0x7fd75e372630>"
      ]
     },
     "execution_count": 10,
     "metadata": {},
     "output_type": "execute_result"
    }
   ],
   "source": [
    "parallel_model.fit(images, anwsers, batch_size=612000, epochs=10,\n",
    "                   validation_split=0.1)"
   ]
  },
  {
   "cell_type": "code",
   "execution_count": 11,
   "metadata": {},
   "outputs": [
    {
     "name": "stdout",
     "output_type": "stream",
     "text": [
      "Train on 612000 samples, validate on 68000 samples\n",
      "Epoch 1/5\n",
      "612000/612000 [==============================] - 4s 7us/step - loss: 0.1579 - acc: 0.9486 - val_loss: 0.1695 - val_acc: 0.9409\n",
      "Epoch 2/5\n",
      "612000/612000 [==============================] - 4s 6us/step - loss: 0.1570 - acc: 0.9485 - val_loss: 0.1688 - val_acc: 0.9410\n",
      "Epoch 3/5\n",
      "612000/612000 [==============================] - 4s 6us/step - loss: 0.1564 - acc: 0.9485 - val_loss: 0.1685 - val_acc: 0.9409\n",
      "Epoch 4/5\n",
      "612000/612000 [==============================] - 4s 6us/step - loss: 0.1556 - acc: 0.9485 - val_loss: 0.1684 - val_acc: 0.9407\n",
      "Epoch 5/5\n",
      "612000/612000 [==============================] - 4s 7us/step - loss: 0.1550 - acc: 0.9488 - val_loss: 0.1682 - val_acc: 0.9407\n"
     ]
    },
    {
     "data": {
      "text/plain": [
       "<keras.callbacks.History at 0x7fd678196f28>"
      ]
     },
     "execution_count": 11,
     "metadata": {},
     "output_type": "execute_result"
    }
   ],
   "source": [
    "parallel_model.fit(images, anwsers, batch_size=612000, epochs=5,\n",
    "                   validation_split=0.1)"
   ]
  },
  {
   "cell_type": "code",
   "execution_count": 13,
   "metadata": {},
   "outputs": [
    {
     "name": "stdout",
     "output_type": "stream",
     "text": [
      "Train on 612000 samples, validate on 68000 samples\n",
      "Epoch 1/5\n",
      "612000/612000 [==============================] - 4s 6us/step - loss: 0.1544 - acc: 0.9490 - val_loss: 0.1678 - val_acc: 0.9408\n",
      "Epoch 2/5\n",
      "612000/612000 [==============================] - 4s 7us/step - loss: 0.1534 - acc: 0.9492 - val_loss: 0.1673 - val_acc: 0.9409\n",
      "Epoch 3/5\n",
      "612000/612000 [==============================] - 4s 6us/step - loss: 0.1524 - acc: 0.9492 - val_loss: 0.1669 - val_acc: 0.9411\n",
      "Epoch 4/5\n",
      "612000/612000 [==============================] - 4s 7us/step - loss: 0.1516 - acc: 0.9492 - val_loss: 0.1667 - val_acc: 0.9412\n",
      "Epoch 5/5\n",
      "612000/612000 [==============================] - 5s 7us/step - loss: 0.1510 - acc: 0.9493 - val_loss: 0.1664 - val_acc: 0.9410\n"
     ]
    },
    {
     "data": {
      "text/plain": [
       "<keras.callbacks.History at 0x7fd75d6bea20>"
      ]
     },
     "execution_count": 13,
     "metadata": {},
     "output_type": "execute_result"
    }
   ],
   "source": [
    "parallel_model.fit(images, anwsers, batch_size=612000, epochs=5,\n",
    "                   validation_split=0.1)"
   ]
  },
  {
   "cell_type": "code",
   "execution_count": 22,
   "metadata": {},
   "outputs": [
    {
     "name": "stdout",
     "output_type": "stream",
     "text": [
      "Train on 612000 samples, validate on 68000 samples\n",
      "Epoch 1/1\n",
      "612000/612000 [==============================] - 4s 6us/step - loss: 0.1503 - acc: 0.9493 - val_loss: 0.1631 - val_acc: 0.9433\n"
     ]
    },
    {
     "data": {
      "text/plain": [
       "<keras.callbacks.History at 0x7fd6781b0e80>"
      ]
     },
     "execution_count": 22,
     "metadata": {},
     "output_type": "execute_result"
    }
   ],
   "source": [
    "parallel_model.fit(images, anwsers, batch_size=612000, epochs=2,\n",
    "                   validation_split=0.1)"
   ]
  },
  {
   "cell_type": "code",
   "execution_count": 33,
   "metadata": {},
   "outputs": [],
   "source": [
    "parallel_model.save_weights(\"SDM/SDM/weights/sdm_5e_6_92\")"
   ]
  },
  {
   "cell_type": "code",
   "execution_count": 7,
   "metadata": {},
   "outputs": [],
   "source": [
    "parallel_model.load_weights(\"SDM/SDM/weights/sdm_5e_6_92\")"
   ]
  },
  {
   "cell_type": "code",
   "execution_count": 8,
   "metadata": {},
   "outputs": [
    {
     "data": {
      "text/plain": [
       "<tf.Tensor 'Assign_12:0' shape=() dtype=float32_ref>"
      ]
     },
     "execution_count": 8,
     "metadata": {},
     "output_type": "execute_result"
    }
   ],
   "source": [
    "parallel_model.optimizer.lr.assign(1e-5)"
   ]
  },
  {
   "cell_type": "code",
   "execution_count": 9,
   "metadata": {},
   "outputs": [
    {
     "name": "stdout",
     "output_type": "stream",
     "text": [
      "Train on 612000 samples, validate on 68000 samples\n",
      "Epoch 1/30\n",
      "612000/612000 [==============================] - 6s 10us/step - loss: 0.1485 - acc: 0.9495 - val_loss: 0.1732 - val_acc: 0.9431\n",
      "Epoch 2/30\n",
      "612000/612000 [==============================] - 4s 7us/step - loss: 0.1583 - acc: 0.9479 - val_loss: 0.1974 - val_acc: 0.9274\n",
      "Epoch 3/30\n",
      "612000/612000 [==============================] - 4s 7us/step - loss: 0.1805 - acc: 0.9392 - val_loss: 0.1709 - val_acc: 0.9456\n",
      "Epoch 4/30\n",
      "612000/612000 [==============================] - 4s 6us/step - loss: 0.1551 - acc: 0.9483 - val_loss: 0.1728 - val_acc: 0.9435\n",
      "Epoch 5/30\n",
      "612000/612000 [==============================] - 4s 7us/step - loss: 0.1635 - acc: 0.9467 - val_loss: 0.1675 - val_acc: 0.9432\n",
      "Epoch 6/30\n",
      "612000/612000 [==============================] - 4s 7us/step - loss: 0.1610 - acc: 0.9460 - val_loss: 0.1618 - val_acc: 0.9434\n",
      "Epoch 7/30\n",
      "612000/612000 [==============================] - 5s 7us/step - loss: 0.1533 - acc: 0.9477 - val_loss: 0.1610 - val_acc: 0.9436\n",
      "Epoch 8/30\n",
      "612000/612000 [==============================] - 4s 7us/step - loss: 0.1522 - acc: 0.9479 - val_loss: 0.1630 - val_acc: 0.9434\n",
      "Epoch 9/30\n",
      "612000/612000 [==============================] - 4s 6us/step - loss: 0.1544 - acc: 0.9473 - val_loss: 0.1630 - val_acc: 0.9445\n",
      "Epoch 10/30\n",
      "612000/612000 [==============================] - 4s 6us/step - loss: 0.1534 - acc: 0.9476 - val_loss: 0.1627 - val_acc: 0.9457\n",
      "Epoch 11/30\n",
      "612000/612000 [==============================] - 4s 6us/step - loss: 0.1510 - acc: 0.9483 - val_loss: 0.1620 - val_acc: 0.9465\n",
      "Epoch 12/30\n",
      "612000/612000 [==============================] - 4s 7us/step - loss: 0.1492 - acc: 0.9494 - val_loss: 0.1597 - val_acc: 0.9458\n",
      "Epoch 13/30\n",
      "612000/612000 [==============================] - 4s 7us/step - loss: 0.1477 - acc: 0.9498 - val_loss: 0.1583 - val_acc: 0.9458\n",
      "Epoch 14/30\n",
      "612000/612000 [==============================] - 4s 7us/step - loss: 0.1472 - acc: 0.9497 - val_loss: 0.1584 - val_acc: 0.9448\n",
      "Epoch 15/30\n",
      "612000/612000 [==============================] - 4s 7us/step - loss: 0.1478 - acc: 0.9491 - val_loss: 0.1577 - val_acc: 0.9446\n",
      "Epoch 16/30\n",
      "612000/612000 [==============================] - 4s 7us/step - loss: 0.1472 - acc: 0.9490 - val_loss: 0.1566 - val_acc: 0.9442\n",
      "Epoch 17/30\n",
      "612000/612000 [==============================] - 4s 7us/step - loss: 0.1456 - acc: 0.9493 - val_loss: 0.1565 - val_acc: 0.9449\n",
      "Epoch 18/30\n",
      "612000/612000 [==============================] - 4s 6us/step - loss: 0.1442 - acc: 0.9496 - val_loss: 0.1581 - val_acc: 0.9456\n",
      "Epoch 19/30\n",
      "612000/612000 [==============================] - 4s 7us/step - loss: 0.1444 - acc: 0.9496 - val_loss: 0.1593 - val_acc: 0.9455\n",
      "Epoch 20/30\n",
      "612000/612000 [==============================] - 4s 7us/step - loss: 0.1448 - acc: 0.9499 - val_loss: 0.1575 - val_acc: 0.9461\n",
      "Epoch 21/30\n",
      "612000/612000 [==============================] - 4s 7us/step - loss: 0.1434 - acc: 0.9502 - val_loss: 0.1543 - val_acc: 0.9453\n",
      "Epoch 22/30\n",
      "612000/612000 [==============================] - 4s 7us/step - loss: 0.1417 - acc: 0.9503 - val_loss: 0.1529 - val_acc: 0.9450\n",
      "Epoch 23/30\n",
      "612000/612000 [==============================] - 4s 7us/step - loss: 0.1418 - acc: 0.9500 - val_loss: 0.1527 - val_acc: 0.9449\n",
      "Epoch 24/30\n",
      "612000/612000 [==============================] - 4s 6us/step - loss: 0.1422 - acc: 0.9497 - val_loss: 0.1522 - val_acc: 0.9451\n",
      "Epoch 25/30\n",
      "612000/612000 [==============================] - 4s 7us/step - loss: 0.1411 - acc: 0.9499 - val_loss: 0.1519 - val_acc: 0.9456\n",
      "Epoch 26/30\n",
      "612000/612000 [==============================] - 4s 7us/step - loss: 0.1400 - acc: 0.9502 - val_loss: 0.1525 - val_acc: 0.9459\n",
      "Epoch 27/30\n",
      "612000/612000 [==============================] - 4s 7us/step - loss: 0.1400 - acc: 0.9503 - val_loss: 0.1532 - val_acc: 0.9459\n",
      "Epoch 28/30\n",
      "612000/612000 [==============================] - 4s 7us/step - loss: 0.1400 - acc: 0.9504 - val_loss: 0.1530 - val_acc: 0.9458\n",
      "Epoch 29/30\n",
      "612000/612000 [==============================] - 4s 7us/step - loss: 0.1392 - acc: 0.9506 - val_loss: 0.1520 - val_acc: 0.9457\n",
      "Epoch 30/30\n",
      "612000/612000 [==============================] - 4s 7us/step - loss: 0.1384 - acc: 0.9505 - val_loss: 0.1511 - val_acc: 0.9457\n"
     ]
    },
    {
     "data": {
      "text/plain": [
       "<keras.callbacks.History at 0x7f72b1810198>"
      ]
     },
     "execution_count": 9,
     "metadata": {},
     "output_type": "execute_result"
    }
   ],
   "source": [
    "parallel_model.fit(images, anwsers, batch_size=612000, epochs=30,\n",
    "                   validation_split=0.1)"
   ]
  },
  {
   "cell_type": "code",
   "execution_count": 11,
   "metadata": {},
   "outputs": [],
   "source": [
    "parallel_model.save_weights(\"SDM/SDM/weights/sdm_1e_5_30\")"
   ]
  },
  {
   "cell_type": "code",
   "execution_count": 13,
   "metadata": {},
   "outputs": [],
   "source": [
    "parallel_model.load_weights(\"SDM/SDM/weights/sdm_1e_5_30\")"
   ]
  },
  {
   "cell_type": "code",
   "execution_count": 14,
   "metadata": {},
   "outputs": [
    {
     "name": "stdout",
     "output_type": "stream",
     "text": [
      "Train on 612000 samples, validate on 68000 samples\n",
      "Epoch 1/30\n",
      "612000/612000 [==============================] - 6s 10us/step - loss: 0.1382 - acc: 0.9504 - val_loss: 0.2325 - val_acc: 0.9151\n",
      "Epoch 2/30\n",
      "612000/612000 [==============================] - 5s 7us/step - loss: 0.1845 - acc: 0.9419 - val_loss: 0.1572 - val_acc: 0.9447\n",
      "Epoch 3/30\n",
      "612000/612000 [==============================] - 5s 7us/step - loss: 0.1458 - acc: 0.9488 - val_loss: 0.1685 - val_acc: 0.9398\n",
      "Epoch 4/30\n",
      "612000/612000 [==============================] - 4s 7us/step - loss: 0.1726 - acc: 0.9406 - val_loss: 0.1588 - val_acc: 0.9428\n",
      "Epoch 5/30\n",
      "612000/612000 [==============================] - 5s 8us/step - loss: 0.1499 - acc: 0.9476 - val_loss: 0.1667 - val_acc: 0.9420\n",
      "Epoch 6/30\n",
      "612000/612000 [==============================] - 4s 7us/step - loss: 0.1507 - acc: 0.9480 - val_loss: 0.1730 - val_acc: 0.9420\n",
      "Epoch 7/30\n",
      "612000/612000 [==============================] - 5s 7us/step - loss: 0.1541 - acc: 0.9475 - val_loss: 0.1706 - val_acc: 0.9426\n",
      "Epoch 8/30\n",
      "612000/612000 [==============================] - 5s 7us/step - loss: 0.1496 - acc: 0.9489 - val_loss: 0.1657 - val_acc: 0.9434\n",
      "Epoch 9/30\n",
      "612000/612000 [==============================] - 4s 7us/step - loss: 0.1457 - acc: 0.9494 - val_loss: 0.1613 - val_acc: 0.9439\n",
      "Epoch 10/30\n",
      "612000/612000 [==============================] - 5s 7us/step - loss: 0.1446 - acc: 0.9490 - val_loss: 0.1585 - val_acc: 0.9433\n",
      "Epoch 11/30\n",
      "612000/612000 [==============================] - 4s 7us/step - loss: 0.1438 - acc: 0.9490 - val_loss: 0.1573 - val_acc: 0.9433\n",
      "Epoch 12/30\n",
      "612000/612000 [==============================] - 5s 7us/step - loss: 0.1435 - acc: 0.9491 - val_loss: 0.1565 - val_acc: 0.9432\n",
      "Epoch 13/30\n",
      "612000/612000 [==============================] - 4s 7us/step - loss: 0.1438 - acc: 0.9490 - val_loss: 0.1550 - val_acc: 0.9438\n",
      "Epoch 14/30\n",
      "612000/612000 [==============================] - 4s 7us/step - loss: 0.1433 - acc: 0.9492 - val_loss: 0.1534 - val_acc: 0.9450\n",
      "Epoch 15/30\n",
      "612000/612000 [==============================] - 4s 7us/step - loss: 0.1423 - acc: 0.9495 - val_loss: 0.1525 - val_acc: 0.9457\n",
      "Epoch 16/30\n",
      "612000/612000 [==============================] - 5s 8us/step - loss: 0.1413 - acc: 0.9497 - val_loss: 0.1525 - val_acc: 0.9460\n",
      "Epoch 17/30\n",
      "612000/612000 [==============================] - 4s 7us/step - loss: 0.1410 - acc: 0.9499 - val_loss: 0.1527 - val_acc: 0.9459\n",
      "Epoch 18/30\n",
      "612000/612000 [==============================] - 4s 7us/step - loss: 0.1410 - acc: 0.9500 - val_loss: 0.1524 - val_acc: 0.9461\n",
      "Epoch 19/30\n",
      "612000/612000 [==============================] - 4s 7us/step - loss: 0.1409 - acc: 0.9499 - val_loss: 0.1515 - val_acc: 0.9462\n",
      "Epoch 20/30\n",
      "612000/612000 [==============================] - 4s 7us/step - loss: 0.1402 - acc: 0.9502 - val_loss: 0.1503 - val_acc: 0.9464\n",
      "Epoch 21/30\n",
      "612000/612000 [==============================] - 5s 7us/step - loss: 0.1395 - acc: 0.9504 - val_loss: 0.1495 - val_acc: 0.9465\n",
      "Epoch 22/30\n",
      "612000/612000 [==============================] - 4s 7us/step - loss: 0.1392 - acc: 0.9504 - val_loss: 0.1491 - val_acc: 0.9464\n",
      "Epoch 23/30\n",
      "612000/612000 [==============================] - 5s 8us/step - loss: 0.1390 - acc: 0.9504 - val_loss: 0.1489 - val_acc: 0.9465\n",
      "Epoch 24/30\n",
      "612000/612000 [==============================] - 4s 7us/step - loss: 0.1384 - acc: 0.9505 - val_loss: 0.1489 - val_acc: 0.9465\n",
      "Epoch 25/30\n",
      "612000/612000 [==============================] - 4s 7us/step - loss: 0.1373 - acc: 0.9507 - val_loss: 0.1493 - val_acc: 0.9464\n",
      "Epoch 26/30\n",
      "612000/612000 [==============================] - 4s 7us/step - loss: 0.1369 - acc: 0.9507 - val_loss: 0.1499 - val_acc: 0.9464\n",
      "Epoch 27/30\n",
      "612000/612000 [==============================] - 4s 7us/step - loss: 0.1369 - acc: 0.9505 - val_loss: 0.1499 - val_acc: 0.9465\n",
      "Epoch 28/30\n",
      "612000/612000 [==============================] - 4s 7us/step - loss: 0.1367 - acc: 0.9506 - val_loss: 0.1495 - val_acc: 0.9467\n",
      "Epoch 29/30\n",
      "612000/612000 [==============================] - 4s 7us/step - loss: 0.1361 - acc: 0.9507 - val_loss: 0.1489 - val_acc: 0.9469\n",
      "Epoch 30/30\n",
      "612000/612000 [==============================] - 5s 8us/step - loss: 0.1357 - acc: 0.9509 - val_loss: 0.1484 - val_acc: 0.9470\n"
     ]
    },
    {
     "data": {
      "text/plain": [
       "<keras.callbacks.History at 0x7faf77b09ba8>"
      ]
     },
     "execution_count": 14,
     "metadata": {},
     "output_type": "execute_result"
    }
   ],
   "source": [
    "parallel_model.fit(images, anwsers, batch_size=612000, epochs=30,\n",
    "                   validation_split=0.1)"
   ]
  },
  {
   "cell_type": "code",
   "execution_count": 15,
   "metadata": {},
   "outputs": [],
   "source": [
    "parallel_model.save_weights(\"SDM/SDM/weights/sdm_1e_5_30\")"
   ]
  },
  {
   "cell_type": "code",
   "execution_count": 20,
   "metadata": {},
   "outputs": [],
   "source": [
    "parallel_model.load_weights(\"SDM/SDM/weights/sdm_1e_5_30\")"
   ]
  },
  {
   "cell_type": "code",
   "execution_count": 21,
   "metadata": {},
   "outputs": [
    {
     "name": "stdout",
     "output_type": "stream",
     "text": [
      "Train on 612000 samples, validate on 68000 samples\n",
      "Epoch 1/5\n",
      "612000/612000 [==============================] - 4s 7us/step - loss: 0.1355 - acc: 0.9508 - val_loss: 0.1466 - val_acc: 0.9472\n",
      "Epoch 2/5\n",
      "612000/612000 [==============================] - 4s 7us/step - loss: 0.1348 - acc: 0.9510 - val_loss: 0.1465 - val_acc: 0.9469\n",
      "Epoch 3/5\n",
      "612000/612000 [==============================] - 4s 7us/step - loss: 0.1345 - acc: 0.9510 - val_loss: 0.1458 - val_acc: 0.9471\n",
      "Epoch 4/5\n",
      "612000/612000 [==============================] - 4s 7us/step - loss: 0.1341 - acc: 0.9512 - val_loss: 0.1451 - val_acc: 0.9474\n",
      "Epoch 5/5\n",
      "612000/612000 [==============================] - 4s 7us/step - loss: 0.1338 - acc: 0.9515 - val_loss: 0.1446 - val_acc: 0.9477\n"
     ]
    },
    {
     "data": {
      "text/plain": [
       "<keras.callbacks.History at 0x7faf77af0940>"
      ]
     },
     "execution_count": 21,
     "metadata": {},
     "output_type": "execute_result"
    }
   ],
   "source": [
    "parallel_model.fit(images, anwsers, batch_size=612000, epochs=5,\n",
    "                   validation_split=0.1)"
   ]
  },
  {
   "cell_type": "code",
   "execution_count": 22,
   "metadata": {},
   "outputs": [],
   "source": [
    "parallel_model.save_weights(\"SDM/SDM/weights/sdm_1e_5_35\")"
   ]
  },
  {
   "cell_type": "code",
   "execution_count": 30,
   "metadata": {},
   "outputs": [],
   "source": [
    "parallel_model.load_weights(\"SDM/SDM/weights/sdm_1e_5_35\")"
   ]
  },
  {
   "cell_type": "code",
   "execution_count": 31,
   "metadata": {},
   "outputs": [
    {
     "data": {
      "text/plain": [
       "<tf.Tensor 'Assign_13:0' shape=() dtype=float32_ref>"
      ]
     },
     "execution_count": 31,
     "metadata": {},
     "output_type": "execute_result"
    }
   ],
   "source": [
    "parallel_model.optimizer.lr.assign(1e-6)"
   ]
  },
  {
   "cell_type": "code",
   "execution_count": 32,
   "metadata": {},
   "outputs": [
    {
     "name": "stdout",
     "output_type": "stream",
     "text": [
      "Train on 612000 samples, validate on 68000 samples\n",
      "Epoch 1/10\n",
      "612000/612000 [==============================] - 4s 7us/step - loss: 0.1334 - acc: 0.9515 - val_loss: 0.1443 - val_acc: 0.9471\n",
      "Epoch 2/10\n",
      "612000/612000 [==============================] - 5s 7us/step - loss: 0.1330 - acc: 0.9514 - val_loss: 0.1442 - val_acc: 0.9473\n",
      "Epoch 3/10\n",
      "612000/612000 [==============================] - 4s 7us/step - loss: 0.1327 - acc: 0.9514 - val_loss: 0.1447 - val_acc: 0.9474\n",
      "Epoch 4/10\n",
      "612000/612000 [==============================] - 4s 7us/step - loss: 0.1320 - acc: 0.9517 - val_loss: 0.1457 - val_acc: 0.9475\n",
      "Epoch 5/10\n",
      "612000/612000 [==============================] - 5s 7us/step - loss: 0.1318 - acc: 0.9519 - val_loss: 0.1447 - val_acc: 0.9474\n",
      "Epoch 6/10\n",
      "612000/612000 [==============================] - 5s 7us/step - loss: 0.1310 - acc: 0.9519 - val_loss: 0.1439 - val_acc: 0.9472\n",
      "Epoch 7/10\n",
      "612000/612000 [==============================] - 5s 8us/step - loss: 0.1308 - acc: 0.9518 - val_loss: 0.1450 - val_acc: 0.9474\n",
      "Epoch 8/10\n",
      "612000/612000 [==============================] - 4s 7us/step - loss: 0.1301 - acc: 0.9520 - val_loss: 0.1478 - val_acc: 0.9476\n",
      "Epoch 9/10\n",
      "612000/612000 [==============================] - 4s 7us/step - loss: 0.1299 - acc: 0.9523 - val_loss: 0.1477 - val_acc: 0.9473\n",
      "Epoch 10/10\n",
      "612000/612000 [==============================] - 4s 7us/step - loss: 0.1293 - acc: 0.9523 - val_loss: 0.1462 - val_acc: 0.9471\n"
     ]
    },
    {
     "data": {
      "text/plain": [
       "<keras.callbacks.History at 0x7faf18f45c50>"
      ]
     },
     "execution_count": 32,
     "metadata": {},
     "output_type": "execute_result"
    }
   ],
   "source": [
    "parallel_model.fit(images, anwsers, batch_size=612000, epochs=10,\n",
    "                   validation_split=0.1)"
   ]
  },
  {
   "cell_type": "code",
   "execution_count": 33,
   "metadata": {},
   "outputs": [
    {
     "name": "stdout",
     "output_type": "stream",
     "text": [
      "Train on 612000 samples, validate on 68000 samples\n",
      "Epoch 1/10\n",
      "612000/612000 [==============================] - 5s 7us/step - loss: 0.1291 - acc: 0.9522 - val_loss: 0.1479 - val_acc: 0.9471\n",
      "Epoch 2/10\n",
      "612000/612000 [==============================] - 4s 7us/step - loss: 0.1286 - acc: 0.9524 - val_loss: 0.1506 - val_acc: 0.9470\n",
      "Epoch 3/10\n",
      "612000/612000 [==============================] - 4s 7us/step - loss: 0.1284 - acc: 0.9527 - val_loss: 0.1489 - val_acc: 0.9469\n",
      "Epoch 4/10\n",
      "612000/612000 [==============================] - 4s 7us/step - loss: 0.1279 - acc: 0.9527 - val_loss: 0.1488 - val_acc: 0.9467\n",
      "Epoch 5/10\n",
      "612000/612000 [==============================] - 4s 7us/step - loss: 0.1277 - acc: 0.9527 - val_loss: 0.1523 - val_acc: 0.9463\n",
      "Epoch 6/10\n",
      "612000/612000 [==============================] - 4s 7us/step - loss: 0.1274 - acc: 0.9531 - val_loss: 0.1529 - val_acc: 0.9462\n",
      "Epoch 7/10\n",
      "612000/612000 [==============================] - 4s 7us/step - loss: 0.1270 - acc: 0.9531 - val_loss: 0.1514 - val_acc: 0.9466\n",
      "Epoch 8/10\n",
      "612000/612000 [==============================] - 5s 8us/step - loss: 0.1267 - acc: 0.9529 - val_loss: 0.1547 - val_acc: 0.9461\n",
      "Epoch 9/10\n",
      "612000/612000 [==============================] - 4s 7us/step - loss: 0.1263 - acc: 0.9531 - val_loss: 0.1566 - val_acc: 0.9457\n",
      "Epoch 10/10\n",
      "612000/612000 [==============================] - 4s 7us/step - loss: 0.1260 - acc: 0.9532 - val_loss: 0.1546 - val_acc: 0.9461\n"
     ]
    },
    {
     "data": {
      "text/plain": [
       "<keras.callbacks.History at 0x7faf18f4def0>"
      ]
     },
     "execution_count": 33,
     "metadata": {},
     "output_type": "execute_result"
    }
   ],
   "source": [
    "parallel_model.fit(images, anwsers, batch_size=612000, epochs=10,\n",
    "                   validation_split=0.1)"
   ]
  },
  {
   "cell_type": "code",
   "execution_count": 34,
   "metadata": {},
   "outputs": [
    {
     "name": "stdout",
     "output_type": "stream",
     "text": [
      "Train on 612000 samples, validate on 68000 samples\n",
      "Epoch 1/10\n",
      "612000/612000 [==============================] - 5s 8us/step - loss: 0.1257 - acc: 0.9533 - val_loss: 0.1587 - val_acc: 0.9453\n",
      "Epoch 2/10\n",
      "612000/612000 [==============================] - 4s 7us/step - loss: 0.1252 - acc: 0.9536 - val_loss: 0.1600 - val_acc: 0.9452\n",
      "Epoch 3/10\n",
      "612000/612000 [==============================] - 4s 7us/step - loss: 0.1249 - acc: 0.9537 - val_loss: 0.1586 - val_acc: 0.9456\n",
      "Epoch 4/10\n",
      "612000/612000 [==============================] - 5s 7us/step - loss: 0.1246 - acc: 0.9535 - val_loss: 0.1636 - val_acc: 0.9452\n",
      "Epoch 5/10\n",
      "612000/612000 [==============================] - 4s 6us/step - loss: 0.1243 - acc: 0.9538 - val_loss: 0.1604 - val_acc: 0.9455\n",
      "Epoch 6/10\n",
      "612000/612000 [==============================] - 4s 7us/step - loss: 0.1240 - acc: 0.9537 - val_loss: 0.1635 - val_acc: 0.9451\n",
      "Epoch 7/10\n",
      "612000/612000 [==============================] - 4s 7us/step - loss: 0.1236 - acc: 0.9540 - val_loss: 0.1634 - val_acc: 0.9449\n",
      "Epoch 8/10\n",
      "612000/612000 [==============================] - 5s 7us/step - loss: 0.1232 - acc: 0.9540 - val_loss: 0.1620 - val_acc: 0.9452\n",
      "Epoch 9/10\n",
      "612000/612000 [==============================] - 4s 7us/step - loss: 0.1230 - acc: 0.9540 - val_loss: 0.1664 - val_acc: 0.9449\n",
      "Epoch 10/10\n",
      "612000/612000 [==============================] - 4s 7us/step - loss: 0.1229 - acc: 0.9542 - val_loss: 0.1570 - val_acc: 0.9462\n"
     ]
    },
    {
     "data": {
      "text/plain": [
       "<keras.callbacks.History at 0x7faf18f42b38>"
      ]
     },
     "execution_count": 34,
     "metadata": {},
     "output_type": "execute_result"
    }
   ],
   "source": [
    "parallel_model.fit(images, anwsers, batch_size=612000, epochs=10,\n",
    "                   validation_split=0.1)"
   ]
  },
  {
   "cell_type": "code",
   "execution_count": 36,
   "metadata": {},
   "outputs": [],
   "source": [
    "parallel_model.save_weights(\"SDM/SDM/weights/sdm_1e_6_30\")"
   ]
  }
 ],
 "metadata": {
  "kernelspec": {
   "display_name": "Python 3",
   "language": "python",
   "name": "python3"
  },
  "language_info": {
   "codemirror_mode": {
    "name": "ipython",
    "version": 3
   },
   "file_extension": ".py",
   "mimetype": "text/x-python",
   "name": "python",
   "nbconvert_exporter": "python",
   "pygments_lexer": "ipython3",
   "version": "3.6.6"
  }
 },
 "nbformat": 4,
 "nbformat_minor": 2
}
