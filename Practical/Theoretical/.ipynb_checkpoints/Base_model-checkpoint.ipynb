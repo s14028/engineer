{
 "cells": [
  {
   "cell_type": "code",
   "execution_count": null,
   "metadata": {},
   "outputs": [],
   "source": [
    "        images[index] = image_tensor[i, y:y + self._y_length, x:x + self._x_len"
   ]
  },
  {
   "cell_type": "code",
   "execution_count": 1,
   "metadata": {},
   "outputs": [],
   "source": [
    "def _prepare_images(self, image_tensor):\n",
    "  shape = (image_tensor.shape[0] * self._parts ** 2,\n",
    "           self._y_length,\n",
    "           self._x_length,\n",
    "           self._z_length)\n",
    "  images = np.empty(shape, dtype=np.uint8)\n",
    "      \n",
    "  for i in range(image_tensor.shape[0]):\n",
    "    for y in range(0, self._y_length * self._parts, self._y_length):\n",
    "      for x in range(0, self._x_length * self._parts, self._x_length):\n",
    "        subimage_index = i * self._parts ** 2\n",
    "        y_part = (y // self._y_length) * self._parts\n",
    "        x_part = x // self._x_length\n",
    "        index = subimage_index + y_part + x_part\n",
    "        \n",
    "        images[index] = image_tensor[i,\n",
    "                                     y:y + self._y_length,\n",
    "                                     x:x + self._x_length]\n",
    "\n",
    "  return images"
   ]
  },
  {
   "cell_type": "code",
   "execution_count": 2,
   "metadata": {},
   "outputs": [],
   "source": [
    "def _prepare_anwser_vector(self, person_coo_matrix):\n",
    "  anwser_vector = np.zeros((self._parts ** 2,))\n",
    "  \n",
    "  for y, x in person_coo_matrix:\n",
    "    y_parts = y // self._y_length\n",
    "    x_parts = x // self._x_length\n",
    "    index = int(x_parts + y_parts * self._parts)\n",
    "    anwser_vector[index] = 1\n",
    "    \n",
    "  return anwser_vector"
   ]
  },
  {
   "cell_type": "code",
   "execution_count": 3,
   "metadata": {},
   "outputs": [],
   "source": [
    "def _prepare_anwsers(self, person_coo_tensor):\n",
    "  anwsers = np.empty((person_coo_tensor.shape[0], self._parts ** 2))\n",
    "\n",
    "  for index, person_coo_matrix in enumerate(person_coo_tensor):\n",
    "    anwsers[index] = self._prepare_anwser_vector(person_coo_matrix)\n",
    "\n",
    "    anwsers = anwsers.reshape((-1,))\n",
    "\n",
    "  return anwsers"
   ]
  },
  {
   "cell_type": "code",
   "execution_count": 4,
   "metadata": {},
   "outputs": [],
   "source": [
    "def def_model(self):\n",
    "  raise NotImplementedError"
   ]
  },
  {
   "cell_type": "code",
   "execution_count": 5,
   "metadata": {},
   "outputs": [],
   "source": [
    "def fit(self, x, y, batch_size=1, epochs=1, callbacks=[], validation_split=0.):\n",
    "  x = self._prepare_images(x)\n",
    "  y = self._prepare_anwsers(y)\n",
    "        \n",
    "  self.model.fit(x, y,\n",
    "                 batch_size=batch_size,\n",
    "                 epochs=epochs,\n",
    "                 callbacks=callbacks,\n",
    "                 validation_split=validation_split)"
   ]
  }
 ],
 "metadata": {
  "kernelspec": {
   "display_name": "Python 3",
   "language": "python",
   "name": "python3"
  },
  "language_info": {
   "codemirror_mode": {
    "name": "ipython",
    "version": 3
   },
   "file_extension": ".py",
   "mimetype": "text/x-python",
   "name": "python",
   "nbconvert_exporter": "python",
   "pygments_lexer": "ipython3",
   "version": "3.6.6"
  }
 },
 "nbformat": 4,
 "nbformat_minor": 2
}
