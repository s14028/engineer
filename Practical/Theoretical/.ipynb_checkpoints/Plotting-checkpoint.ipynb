{
 "cells": [
  {
   "cell_type": "code",
   "execution_count": 1,
   "metadata": {},
   "outputs": [
    {
     "name": "stdout",
     "output_type": "stream",
     "text": [
      "/home/PJWSTK/s14028/Engine\n"
     ]
    }
   ],
   "source": [
    "%cd ../"
   ]
  },
  {
   "cell_type": "code",
   "execution_count": 2,
   "metadata": {},
   "outputs": [
    {
     "name": "stderr",
     "output_type": "stream",
     "text": [
      "Using TensorFlow backend.\n"
     ]
    }
   ],
   "source": [
    "import keras\n",
    "\n",
    "from SDM.SDM import SDM\n",
    "from CNN.CNN_v0 import CNN_v0\n",
    "from CNN.CNN_v1 import CNN_v1\n",
    "from CNN.CNN_v2 import CNN_v2\n",
    "from CNN.CNN_v2_2 import CNN_v2_2"
   ]
  },
  {
   "cell_type": "code",
   "execution_count": 3,
   "metadata": {},
   "outputs": [],
   "source": [
    "model_names = [\"SDM\", \"SDM_40\", \"CNN_v0\", \"CNN_v0_40\", \"CNN_v1\", \"CNN_v1_40\", \"CNN_v2\", \"CNN_v2_40\"]"
   ]
  },
  {
   "cell_type": "code",
   "execution_count": 4,
   "metadata": {},
   "outputs": [],
   "source": [
    "models = [SDM((480, 640, 3), split_into_parts=20),\n",
    "          SDM((480, 640, 3), split_into_parts=40),\n",
    "          CNN_v0((480, 640, 3), split_into_parts=20),\n",
    "          CNN_v0((480, 640, 3), split_into_parts=40),\n",
    "          CNN_v1((480, 640, 3), split_into_parts=20),\n",
    "          CNN_v1((480, 640, 3), split_into_parts=40),\n",
    "          CNN_v2((480, 640, 4), split_into_parts=20),\n",
    "          CNN_v2_2((480, 640, 4), split_into_parts=40)]"
   ]
  },
  {
   "cell_type": "code",
   "execution_count": 5,
   "metadata": {},
   "outputs": [],
   "source": [
    "for name, model in zip(model_names, models):\n",
    "  model.def_model()\n",
    "  keras.utils.plot_model(model.model,\n",
    "                         \"Theoretical/Plots/\" + name + \".png\",\n",
    "                         show_shapes=True,\n",
    "                         show_layer_names=False)"
   ]
  }
 ],
 "metadata": {
  "kernelspec": {
   "display_name": "Python 3",
   "language": "python",
   "name": "python3"
  },
  "language_info": {
   "codemirror_mode": {
    "name": "ipython",
    "version": 3
   },
   "file_extension": ".py",
   "mimetype": "text/x-python",
   "name": "python",
   "nbconvert_exporter": "python",
   "pygments_lexer": "ipython3",
   "version": "3.6.6"
  }
 },
 "nbformat": 4,
 "nbformat_minor": 2
}
