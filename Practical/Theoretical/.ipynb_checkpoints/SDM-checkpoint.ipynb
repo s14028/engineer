{
 "cells": [
  {
   "cell_type": "code",
   "execution_count": 1,
   "metadata": {},
   "outputs": [],
   "source": [
    "def def_model(self):\n",
    "  input_shape = (self._y_length * self._x_length * self._z_length,)\n",
    "  metrics = [\"accuracy\"]\n",
    "  \n",
    "  model = keras.Sequential()\n",
    "\n",
    "  model.add(keras.layers.BatchNormalization(input_shape=input_shape))\n",
    "  model.add(keras.layers.Dense(128, activation=\"relu\")\n",
    "\n",
    "  model.add(keras.layers.BatchNormalization())\n",
    "  model.add(keras.layers.Dense(1, activation=\"sigmoid\"))\n",
    "\n",
    "  model.compile(loss=\"binary_crossentropy\", optimizer=\"adam\", metrics=metrics)\n",
    "\n",
    "  self.model = model\n",
    "\n",
    "  return model"
   ]
  }
 ],
 "metadata": {
  "kernelspec": {
   "display_name": "Python 3",
   "language": "python",
   "name": "python3"
  },
  "language_info": {
   "codemirror_mode": {
    "name": "ipython",
    "version": 3
   },
   "file_extension": ".py",
   "mimetype": "text/x-python",
   "name": "python",
   "nbconvert_exporter": "python",
   "pygments_lexer": "ipython3",
   "version": "3.6.6"
  }
 },
 "nbformat": 4,
 "nbformat_minor": 2
}
