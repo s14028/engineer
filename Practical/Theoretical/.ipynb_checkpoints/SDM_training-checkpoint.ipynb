{
 "cells": [
  {
   "cell_type": "code",
   "execution_count": 1,
   "metadata": {},
   "outputs": [
    {
     "name": "stderr",
     "output_type": "stream",
     "text": [
      "Using TensorFlow backend.\n"
     ]
    }
   ],
   "source": [
    "import keras\n",
    "\n",
    "from common import *\n",
    "from testing import test_model\n",
    "from testing import best_cop_diff\n",
    "\n",
    "from SDM.SDM import SDM"
   ]
  },
  {
   "cell_type": "code",
   "execution_count": 2,
   "metadata": {},
   "outputs": [],
   "source": [
    "train, test = data_sets()\n",
    "image_tensors = train[0], test[0]\n",
    "person_coo_tensors = train[1], test[1]\n",
    "count_matrix = train[2], test[2]\n",
    "\n",
    "image_train, image_test = image_tensors\n",
    "person_coo_train, person_coo_test = person_coo_tensors\n",
    "count_train, count_test = count_matrix\n",
    "count_train = count_train.astype(np.uint16)\n",
    "count_test = count_test.astype(np.uint16)"
   ]
  },
  {
   "cell_type": "code",
   "execution_count": 3,
   "metadata": {},
   "outputs": [
    {
     "data": {
      "text/plain": [
       "<keras.engine.sequential.Sequential at 0x7f5f2b6da0f0>"
      ]
     },
     "execution_count": 3,
     "metadata": {},
     "output_type": "execute_result"
    }
   ],
   "source": [
    "sdm = SDM((480, 640, 3), split_into_parts=20)\n",
    "sdm.def_model()"
   ]
  },
  {
   "cell_type": "code",
   "execution_count": 4,
   "metadata": {},
   "outputs": [],
   "source": [
    "images = sdm._prepare_images(image_train)\n",
    "anwsers = sdm._prepare_anwsers(person_coo_train)"
   ]
  },
  {
   "cell_type": "code",
   "execution_count": 5,
   "metadata": {},
   "outputs": [
    {
     "name": "stdout",
     "output_type": "stream",
     "text": [
      "Epoch 1/1\n",
      "1/1 [==============================] - 4s 4s/step - loss: 0.6931 - acc: 1.0000\n"
     ]
    }
   ],
   "source": [
    "history = sdm.model.fit(images[:1], anwsers[:1])"
   ]
  },
  {
   "cell_type": "code",
   "execution_count": 6,
   "metadata": {},
   "outputs": [],
   "source": [
    "parallel_model = keras.utils.multi_gpu_model(\n",
    "        sdm.model,\n",
    "        gpus=6,\n",
    "        cpu_merge=False)\n",
    "parallel_model.compile(\n",
    "        loss=\"binary_crossentropy\", \n",
    "        optimizer=\"adam\", \n",
    "        metrics=[\"accuracy\"])"
   ]
  },
  {
   "cell_type": "code",
   "execution_count": 7,
   "metadata": {},
   "outputs": [
    {
     "name": "stdout",
     "output_type": "stream",
     "text": [
      "Train on 612000 samples, validate on 68000 samples\n",
      "Epoch 1/30\n",
      "612000/612000 [==============================] - 6s 10us/step - loss: 0.8001 - acc: 0.4828 - val_loss: 0.7717 - val_acc: 0.7957\n",
      "Epoch 2/30\n",
      "612000/612000 [==============================] - 4s 7us/step - loss: 0.9878 - acc: 0.5912 - val_loss: 0.6581 - val_acc: 0.7105\n",
      "Epoch 3/30\n",
      "612000/612000 [==============================] - 4s 7us/step - loss: 0.7657 - acc: 0.5758 - val_loss: 1.0490 - val_acc: 0.4260\n",
      "Epoch 4/30\n",
      "612000/612000 [==============================] - 4s 7us/step - loss: 0.7510 - acc: 0.5765 - val_loss: 1.1112 - val_acc: 0.3670\n",
      "Epoch 5/30\n",
      "612000/612000 [==============================] - 4s 7us/step - loss: 0.7199 - acc: 0.5676 - val_loss: 0.9491 - val_acc: 0.3457\n",
      "Epoch 6/30\n",
      "612000/612000 [==============================] - 4s 7us/step - loss: 0.6860 - acc: 0.5855 - val_loss: 0.8104 - val_acc: 0.3866\n",
      "Epoch 7/30\n",
      "612000/612000 [==============================] - 4s 7us/step - loss: 0.6644 - acc: 0.6012 - val_loss: 0.7105 - val_acc: 0.5060\n",
      "Epoch 8/30\n",
      "612000/612000 [==============================] - 4s 7us/step - loss: 0.6485 - acc: 0.6354 - val_loss: 0.6421 - val_acc: 0.6885\n",
      "Epoch 9/30\n",
      "612000/612000 [==============================] - 4s 7us/step - loss: 0.6376 - acc: 0.6939 - val_loss: 0.6031 - val_acc: 0.7487\n",
      "Epoch 10/30\n",
      "612000/612000 [==============================] - 4s 7us/step - loss: 0.6313 - acc: 0.7181 - val_loss: 0.5862 - val_acc: 0.7723\n",
      "Epoch 11/30\n",
      "612000/612000 [==============================] - 4s 7us/step - loss: 0.6272 - acc: 0.7323 - val_loss: 0.5776 - val_acc: 0.7675\n",
      "Epoch 12/30\n",
      "612000/612000 [==============================] - 4s 7us/step - loss: 0.6223 - acc: 0.7345 - val_loss: 0.5679 - val_acc: 0.7629\n",
      "Epoch 13/30\n",
      "612000/612000 [==============================] - 5s 7us/step - loss: 0.6151 - acc: 0.7312 - val_loss: 0.5558 - val_acc: 0.7677\n",
      "Epoch 14/30\n",
      "612000/612000 [==============================] - 4s 7us/step - loss: 0.6062 - acc: 0.7337 - val_loss: 0.5422 - val_acc: 0.7812\n",
      "Epoch 15/30\n",
      "612000/612000 [==============================] - 5s 7us/step - loss: 0.5968 - acc: 0.7464 - val_loss: 0.5305 - val_acc: 0.8150\n",
      "Epoch 16/30\n",
      "612000/612000 [==============================] - 5s 7us/step - loss: 0.5881 - acc: 0.7812 - val_loss: 0.5235 - val_acc: 0.8483\n",
      "Epoch 17/30\n",
      "612000/612000 [==============================] - 4s 7us/step - loss: 0.5810 - acc: 0.7944 - val_loss: 0.5208 - val_acc: 0.8555\n",
      "Epoch 18/30\n",
      "612000/612000 [==============================] - 4s 6us/step - loss: 0.5753 - acc: 0.8035 - val_loss: 0.5204 - val_acc: 0.8483\n",
      "Epoch 19/30\n",
      "612000/612000 [==============================] - 4s 7us/step - loss: 0.5707 - acc: 0.8074 - val_loss: 0.5187 - val_acc: 0.8458\n",
      "Epoch 20/30\n",
      "612000/612000 [==============================] - 5s 7us/step - loss: 0.5663 - acc: 0.8105 - val_loss: 0.5139 - val_acc: 0.8476\n",
      "Epoch 21/30\n",
      "612000/612000 [==============================] - 4s 7us/step - loss: 0.5613 - acc: 0.8155 - val_loss: 0.5059 - val_acc: 0.8549\n",
      "Epoch 22/30\n",
      "612000/612000 [==============================] - 4s 7us/step - loss: 0.5556 - acc: 0.8226 - val_loss: 0.4970 - val_acc: 0.8670\n",
      "Epoch 23/30\n",
      "612000/612000 [==============================] - 4s 7us/step - loss: 0.5495 - acc: 0.8326 - val_loss: 0.4886 - val_acc: 0.8772\n",
      "Epoch 24/30\n",
      "612000/612000 [==============================] - 4s 7us/step - loss: 0.5432 - acc: 0.8444 - val_loss: 0.4800 - val_acc: 0.8851\n",
      "Epoch 25/30\n",
      "612000/612000 [==============================] - 5s 7us/step - loss: 0.5369 - acc: 0.8568 - val_loss: 0.4723 - val_acc: 0.8913\n",
      "Epoch 26/30\n",
      "612000/612000 [==============================] - 4s 7us/step - loss: 0.5309 - acc: 0.8683 - val_loss: 0.4652 - val_acc: 0.8977\n",
      "Epoch 27/30\n",
      "612000/612000 [==============================] - 4s 7us/step - loss: 0.5253 - acc: 0.8781 - val_loss: 0.4589 - val_acc: 0.9026\n",
      "Epoch 28/30\n",
      "612000/612000 [==============================] - 5s 8us/step - loss: 0.5199 - acc: 0.8871 - val_loss: 0.4532 - val_acc: 0.9058\n",
      "Epoch 29/30\n",
      "612000/612000 [==============================] - 4s 7us/step - loss: 0.5148 - acc: 0.8944 - val_loss: 0.4477 - val_acc: 0.9085\n",
      "Epoch 30/30\n",
      "612000/612000 [==============================] - 5s 7us/step - loss: 0.5099 - acc: 0.8996 - val_loss: 0.4429 - val_acc: 0.9119\n"
     ]
    },
    {
     "data": {
      "text/plain": [
       "<keras.callbacks.History at 0x7fc7c4938a58>"
      ]
     },
     "execution_count": 7,
     "metadata": {},
     "output_type": "execute_result"
    }
   ],
   "source": [
    "parallel_model.fit(images, anwsers, batch_size=612000, epochs=30,\n",
    "                   validation_split=0.1)"
   ]
  }
 ],
 "metadata": {
  "kernelspec": {
   "display_name": "Python 3",
   "language": "python",
   "name": "python3"
  },
  "language_info": {
   "codemirror_mode": {
    "name": "ipython",
    "version": 3
   },
   "file_extension": ".py",
   "mimetype": "text/x-python",
   "name": "python",
   "nbconvert_exporter": "python",
   "pygments_lexer": "ipython3",
   "version": "3.6.6"
  }
 },
 "nbformat": 4,
 "nbformat_minor": 2
}
