{
 "cells": [
  {
   "cell_type": "code",
   "execution_count": 1,
   "metadata": {},
   "outputs": [
    {
     "name": "stderr",
     "output_type": "stream",
     "text": [
      "Using TensorFlow backend.\n"
     ]
    }
   ],
   "source": [
    "import matplotlib.pyplot as plt\n",
    "\n",
    "from common import *\n",
    "\n",
    "from base_model import ImagePersonCounter"
   ]
  },
  {
   "cell_type": "code",
   "execution_count": 2,
   "metadata": {},
   "outputs": [],
   "source": [
    "train, test = data_sets()\n",
    "image_tensors = train[0], test[0]\n",
    "person_coo_tensors = train[1], test[1]\n",
    "count_matrix = train[2], test[2]\n",
    "\n",
    "image_train, image_test = image_tensors\n",
    "person_coo_train, person_coo_test = person_coo_tensors\n",
    "count_train, count_test = count_matrix\n",
    "count_train, count_test = count_train.astype(np.uint16), count_test.astype(np.uint16)"
   ]
  },
  {
   "cell_type": "code",
   "execution_count": 3,
   "metadata": {},
   "outputs": [],
   "source": [
    "def test_splitters(images, person_coo, split_into_parts=[]):\n",
    "  results = {}\n",
    "  shape = np.array(images.shape)[1:]\n",
    "  \n",
    "  for splitter in split_into_parts:\n",
    "    model = ImagePersonCounter(shape, split_into_parts=splitter)\n",
    "    new_images = model._prepare_images(images)\n",
    "    anwsers = model._prepare_anwsers(person_coo)\n",
    "    \n",
    "    p = np.sum(anwsers == 1) / anwsers.shape[0]\n",
    "    q = 1 - p\n",
    "    \n",
    "    p *= 100\n",
    "    q *= 100\n",
    "    \n",
    "    yx_length = model._y_length, model._x_length\n",
    "    \n",
    "    results[splitter] = [new_images, anwsers, (p, q), yx_length]\n",
    "  \n",
    "  return results"
   ]
  },
  {
   "cell_type": "code",
   "execution_count": 4,
   "metadata": {},
   "outputs": [],
   "source": [
    "person_coo = np.concatenate([person_coo_train, person_coo_test])"
   ]
  },
  {
   "cell_type": "code",
   "execution_count": 5,
   "metadata": {},
   "outputs": [],
   "source": [
    "results = test_splitters(image_train[:1], person_coo, [10, 20, 40])"
   ]
  },
  {
   "cell_type": "code",
   "execution_count": 6,
   "metadata": {},
   "outputs": [
    {
     "name": "stdout",
     "output_type": "stream",
     "text": [
      "10\n",
      "(21.054000000000002, 78.946)\n",
      "(48, 64)\n",
      "\n",
      "20\n",
      "(6.789499999999999, 93.2105)\n",
      "(24, 32)\n",
      "\n",
      "40\n",
      "(1.88459375, 98.11540625)\n",
      "(12, 16)\n",
      "\n"
     ]
    }
   ],
   "source": [
    "for splitter, values in results.items():\n",
    "  print(splitter)\n",
    "  print(values[2])\n",
    "  print(values[3], end=\"\\n\\n\")"
   ]
  },
  {
   "cell_type": "code",
   "execution_count": 12,
   "metadata": {},
   "outputs": [
    {
     "data": {
      "image/png": "[encoded data removed]",
      "text/plain": [
       "<Figure size 432x288 with 3 Axes>"
      ]
     },
     "metadata": {},
     "output_type": "display_data"
    }
   ],
   "source": [
    "fig, ax = plt.subplots(1, 3)\n",
    "fig.tight_layout()\n",
    "\n",
    "for index, (splitter, values) in enumerate(results.items()):\n",
    "  images = values[0]\n",
    "  ax[index].imshow(images[images.shape[0] // 2])"
   ]
  },
  {
   "cell_type": "code",
   "execution_count": 6,
   "metadata": {},
   "outputs": [],
   "source": [
    "counts = np.concatenate([count_train, count_test])"
   ]
  },
  {
   "cell_type": "code",
   "execution_count": 7,
   "metadata": {},
   "outputs": [
    {
     "name": "stdout",
     "output_type": "stream",
     "text": [
      "-10.1035\n",
      "3.7834888330745735\n",
      "\n",
      "-3.9995\n",
      "2.1153013378712737\n",
      "\n",
      "-1.004\n",
      "1.0143884857390684\n",
      "\n"
     ]
    }
   ],
   "source": [
    "for splitter, values in results.items():\n",
    "  anwsers = values[1]\n",
    "  anwsers = anwsers.reshape((-1, splitter ** 2))\n",
    "  anwsers = np.sum(anwsers, axis=1)\n",
    "  \n",
    "  diff = anwsers - counts\n",
    "  print(np.mean(diff))\n",
    "  print(np.std(diff), end=\"\\n\\n\")"
   ]
  }
 ],
 "metadata": {
  "kernelspec": {
   "display_name": "Python 3",
   "language": "python",
   "name": "python3"
  },
  "language_info": {
   "codemirror_mode": {
    "name": "ipython",
    "version": 3
   },
   "file_extension": ".py",
   "mimetype": "text/x-python",
   "name": "python",
   "nbconvert_exporter": "python",
   "pygments_lexer": "ipython3",
   "version": "3.6.6"
  }
 },
 "nbformat": 4,
 "nbformat_minor": 2
}
