{
 "cells": [
  {
   "cell_type": "code",
   "execution_count": 1,
   "metadata": {},
   "outputs": [],
   "source": [
    "import numpy as np\n",
    "\n",
    "from base_model import ImagePersonCounter"
   ]
  },
  {
   "cell_type": "code",
   "execution_count": 2,
   "metadata": {},
   "outputs": [],
   "source": [
    "def accuracy(predictions, anwsers):\n",
    "  return np.clip(1 - (np.abs(predictions - anwsers) / anwsers), 0, 1)"
   ]
  },
  {
   "cell_type": "code",
   "execution_count": 3,
   "metadata": {},
   "outputs": [],
   "source": [
    "def test_model(model, images, counts, cut_of_points):\n",
    "  if not isinstance(model, ImagePersonCounter):\n",
    "    return {}\n",
    "    \n",
    "  probabilities = model.predict_proba(images)\n",
    "  counts = counts.astype(np.int16)\n",
    "  results = {}\n",
    "\n",
    "  for cof in cut_of_points:\n",
    "    predictions = np.sum((probabilities > cof), axis=1)\n",
    "    predictions = predictions.astype(np.int16)\n",
    "    acc = np.mean(accuracy(predictions, counts)) * 100\n",
    "        \n",
    "    results[cof] = acc, predictions\n",
    "    \n",
    "  return results"
   ]
  },
  {
   "cell_type": "code",
   "execution_count": 4,
   "metadata": {},
   "outputs": [],
   "source": [
    "def best_cop_diff(results, counts):\n",
    "  best_cop = [-1, -1, None]\n",
    "  for key, value in results.items():\n",
    "    accuracy = value[0]\n",
    "    if accuracy > best_cop[1]:\n",
    "      best_cop[0] = key\n",
    "      best_cop[1] = accuracy\n",
    "      best_cop[2] = value[1]\n",
    "\n",
    "  best_cop[2] = best_cop[2] - counts\n",
    "  return best_cop"
   ]
  }
 ],
 "metadata": {
  "kernelspec": {
   "display_name": "Python 3",
   "language": "python",
   "name": "python3"
  },
  "language_info": {
   "codemirror_mode": {
    "name": "ipython",
    "version": 3
   },
   "file_extension": ".py",
   "mimetype": "text/x-python",
   "name": "python",
   "nbconvert_exporter": "python",
   "pygments_lexer": "ipython3",
   "version": "3.6.6"
  }
 },
 "nbformat": 4,
 "nbformat_minor": 2
}
