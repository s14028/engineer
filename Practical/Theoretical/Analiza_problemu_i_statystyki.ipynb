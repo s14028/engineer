{
 "cells": [
  {
   "cell_type": "markdown",
   "metadata": {},
   "source": [
    "### Najpierw importujemy moduł, który zawiera implementację wczytania pliku typu mat"
   ]
  },
  {
   "cell_type": "code",
   "execution_count": 2,
   "metadata": {},
   "outputs": [],
   "source": [
    "import prepare"
   ]
  },
  {
   "cell_type": "markdown",
   "metadata": {},
   "source": [
    "### Kolejne moduły są podstawowe i powszechnie używane"
   ]
  },
  {
   "cell_type": "code",
   "execution_count": 3,
   "metadata": {},
   "outputs": [],
   "source": [
    "# numpy (od. angielskiego NUMerical PYthon) posiada implementację\n",
    "# ulepszonych tablic python'owych z całym mnóstwem predefiniowanych operacji\n",
    "# na nich. Poza tym dostarcza bibliotekę linalg (Linear Algebra) do operowania\n",
    "# na macierzach. Ta biblioteka jest fundamentem dla wielu innych bibliotek.\n",
    "import numpy as np\n",
    "# matplotlib.pyplot jest bogatą biblioteką w rozmaite narzędzia do rysowania\n",
    "# grafów, histogramów i ogólnie do wizualizacji danych\n",
    "import matplotlib.pyplot as plt"
   ]
  },
  {
   "cell_type": "markdown",
   "metadata": {},
   "source": [
    "### Wczytujemy dane wejściowe składające się ze współrzędnych środków twarzy i liczby osób na obrazie"
   ]
  },
  {
   "cell_type": "code",
   "execution_count": 4,
   "metadata": {},
   "outputs": [],
   "source": [
    "coo, counts = prepare.read_anwsers(\"mall_dataset/mall_gt.mat\")"
   ]
  },
  {
   "cell_type": "markdown",
   "metadata": {},
   "source": [
    "### Podstawowe statystyki"
   ]
  },
  {
   "cell_type": "code",
   "execution_count": 5,
   "metadata": {},
   "outputs": [
    {
     "name": "stdout",
     "output_type": "stream",
     "text": [
      "Maksymalna liczebność osób na obrazie: 53\n",
      "Minimalna liczebność osób na obrazie: 13\n",
      "Średnia dla danej próbki: 31.1575\n",
      "Odchylenie standardowe dla danej próbki: 6.9436801301615265\n"
     ]
    }
   ],
   "source": [
    "print(f\"Maksymalna liczebność osób na obrazie: {np.max(counts)}\")\n",
    "print(f\"Minimalna liczebność osób na obrazie: {np.min(counts)}\")\n",
    "print(f\"Średnia dla danej próbki: {np.mean(counts)}\")\n",
    "print(f\"Odchylenie standardowe dla danej próbki: {np.std(counts)}\")"
   ]
  }
 ],
 "metadata": {
  "kernelspec": {
   "display_name": "Python 3",
   "language": "python",
   "name": "python3"
  },
  "language_info": {
   "codemirror_mode": {
    "name": "ipython",
    "version": 3
   },
   "file_extension": ".py",
   "mimetype": "text/x-python",
   "name": "python",
   "nbconvert_exporter": "python",
   "pygments_lexer": "ipython3",
   "version": "3.6.6"
  }
 },
 "nbformat": 4,
 "nbformat_minor": 2
}
