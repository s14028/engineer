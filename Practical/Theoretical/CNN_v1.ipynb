{
 "cells": [
  {
   "cell_type": "code",
   "execution_count": 1,
   "metadata": {},
   "outputs": [],
   "source": [
    "def def_model(self):\n",
    "  input_shape = (self._y_length, self._x_length, self._z_length)  \n",
    "  metrics = [\"accuracy\"]\n",
    "  ar = 1e-7\n",
    "  kr = 1e-7\n",
    "  br = 1e-7\n",
    "  model = keras.Sequential()\n",
    "  model.add(keras.layers.BatchNormalization(input_shape=shape))\n",
    "  model.add(keras.layers.ZeroPadding2D((2, 2)))\n",
    "  model.add(keras.layers.Conv2D(16, (3, 3), activation=\"relu\",\n",
    "                        activity_regularizer=keras.regularizers.l2(ar),\n",
    "                        kernel_regularizer=keras.regularizers.l2(kr),\n",
    "                        bias_regularizer=keras.regularizers.l2(br)))\n",
    "\n",
    "  model.add(keras.layers.BatchNormalization())\n",
    "  model.add(keras.layers.Conv2D(16, (3, 3), activation=\"relu\",\n",
    "                        activity_regularizer=keras.regularizers.l2(ar),\n",
    "                        kernel_regularizer=keras.regularizers.l2(kr),\n",
    "                        bias_regularizer=keras.regularizers.l2(br)))\n",
    "        \n",
    "  model.add(keras.layers.BatchNormalization())\n",
    "  model.add(keras.layers.Conv2D(8, (3, 3), activation=\"relu\",\n",
    "                        activity_regularizer=keras.regularizers.l2(ar),\n",
    "                        kernel_regularizer=keras.regularizers.l2(kr),\n",
    "                        bias_regularizer=keras.regularizers.l2(br)))\n",
    "  model.add(keras.layers.MaxPooling2D((2, 2)))\n",
    "  model.add(keras.layers.Flatten())\n",
    "  model.add(keras.layers.BatchNormalization())\n",
    "  model.add(keras.layers.Dense(32, activation=\"sigmoid\",\n",
    "                        activity_regularizer=keras.regularizers.l2(ar),\n",
    "                        kernel_regularizer=keras.regularizers.l2(kr),\n",
    "                        bias_regularizer=keras.regularizers.l2(br)))\n",
    "  model.add(keras.layers.Dropout(0.5))\n",
    "        \n",
    "  model.add(keras.layers.BatchNormalization())\n",
    "  model.add(keras.layers.Dense(16, activation=\"sigmoid\",\n",
    "                        activity_regularizer=keras.regularizers.l2(ar),\n",
    "                        kernel_regularizer=keras.regularizers.l2(kr),\n",
    "                        bias_regularizer=keras.regularizers.l2(br)))\n",
    "        \n",
    "  model.add(keras.layers.BatchNormalization())\n",
    "  model.add(keras.layers.Dense(1, activation=\"sigmoid\",\n",
    "                        activity_regularizer=keras.regularizers.l2(ar),\n",
    "                        kernel_regularizer=keras.regularizers.l2(kr),\n",
    "                        bias_regularizer=keras.regularizers.l2(br)))\n",
    "  model.compile(optimizer=\"adam\", loss=\"binary_crossentropy\", metrics=metrics)\n",
    "  self.model = model\n",
    "  return model"
   ]
  }
 ],
 "metadata": {
  "kernelspec": {
   "display_name": "Python 3",
   "language": "python",
   "name": "python3"
  },
  "language_info": {
   "codemirror_mode": {
    "name": "ipython",
    "version": 3
   },
   "file_extension": ".py",
   "mimetype": "text/x-python",
   "name": "python",
   "nbconvert_exporter": "python",
   "pygments_lexer": "ipython3",
   "version": "3.6.6"
  }
 },
 "nbformat": 4,
 "nbformat_minor": 2
}
