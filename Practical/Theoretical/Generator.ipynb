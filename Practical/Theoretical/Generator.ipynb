{
 "cells": [
  {
   "cell_type": "code",
   "execution_count": 1,
   "metadata": {},
   "outputs": [],
   "source": [
    "import numpy as np\n",
    "import matplotlib.pyplot as plt\n",
    "import imageio as img"
   ]
  },
  {
   "cell_type": "markdown",
   "metadata": {},
   "source": [
    "### Średnia i odchylenie standardowe liczebności osób próbki"
   ]
  },
  {
   "cell_type": "code",
   "execution_count": 2,
   "metadata": {},
   "outputs": [],
   "source": [
    "mean = 31.1575\n",
    "std = 6.9436801301615265"
   ]
  },
  {
   "cell_type": "markdown",
   "metadata": {},
   "source": [
    "### Definiujemy generator liczebności"
   ]
  },
  {
   "cell_type": "code",
   "execution_count": 3,
   "metadata": {},
   "outputs": [],
   "source": [
    "def generator(image):\n",
    "  return np.random.normal(mean, std, (1,))"
   ]
  },
  {
   "cell_type": "code",
   "execution_count": 4,
   "metadata": {},
   "outputs": [],
   "source": [
    "image = img.imread(\"mall_dataset/frames/seq_000001.jpg\")"
   ]
  },
  {
   "cell_type": "markdown",
   "metadata": {},
   "source": [
    "### Generujemy losowo liczebności"
   ]
  },
  {
   "cell_type": "code",
   "execution_count": 5,
   "metadata": {},
   "outputs": [
    {
     "name": "stdout",
     "output_type": "stream",
     "text": [
      "[25 34 33 35 29 34 31 33 30 36 31 34 33 24 29 28 36 15 33 33 27 21 38 32\n",
      " 32 26 35 28 18 29 25 27 22 35 30 30 36 31 27 25 48 29 49 25 25 23 26 30\n",
      " 39 30 35 27 32 22 23 27 32 24 28 24 30 26 29 29 29 36 41 36 42 33 34 27\n",
      " 35 29 34 40 33 40 20 36 30 23 20 34 37 40 32 32 43 32 28 37 30 20 44 17\n",
      " 30 36 40 20]\n"
     ]
    }
   ],
   "source": [
    "predictions = np.ravel(np.array([generator(image) for x in range(100)]))\n",
    "predictions = np.round(predictions).astype(np.uint32)\n",
    "print(predictions)"
   ]
  }
 ],
 "metadata": {
  "kernelspec": {
   "display_name": "Python 3",
   "language": "python",
   "name": "python3"
  },
  "language_info": {
   "codemirror_mode": {
    "name": "ipython",
    "version": 3
   },
   "file_extension": ".py",
   "mimetype": "text/x-python",
   "name": "python",
   "nbconvert_exporter": "python",
   "pygments_lexer": "ipython3",
   "version": "3.6.6"
  }
 },
 "nbformat": 4,
 "nbformat_minor": 2
}
