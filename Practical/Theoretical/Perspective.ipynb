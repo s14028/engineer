{
 "cells": [
  {
   "cell_type": "code",
   "execution_count": 1,
   "metadata": {},
   "outputs": [],
   "source": [
    "import numpy as np\n",
    "import scipy.io as mat\n",
    "import matplotlib.pyplot as plt"
   ]
  },
  {
   "cell_type": "code",
   "execution_count": 2,
   "metadata": {},
   "outputs": [],
   "source": [
    "width = 640"
   ]
  },
  {
   "cell_type": "code",
   "execution_count": 3,
   "metadata": {},
   "outputs": [],
   "source": [
    "image = plt.imread(\"mall_dataset/frames/seq_000001.jpg\")\n",
    "\n",
    "perspective = mat.loadmat(\"mall_dataset/perspective_roi.mat\")[\"pMapN\"]\n",
    "perspective = np.unique(perspective, axis=1).reshape((-1,))"
   ]
  },
  {
   "cell_type": "code",
   "execution_count": 4,
   "metadata": {},
   "outputs": [
    {
     "name": "stdout",
     "output_type": "stream",
     "text": [
      "0.7729269812318472\n",
      "14.842639673521196\n"
     ]
    }
   ],
   "source": [
    "print(f\"{np.min(perspective)}\")\n",
    "print(f\"{np.max(perspective)}\")"
   ]
  },
  {
   "cell_type": "code",
   "execution_count": 5,
   "metadata": {},
   "outputs": [],
   "source": [
    "normalized_perspective = perspective / np.min(perspective)\n",
    "normalized_perspective = np.round(normalized_perspective).astype(np.uint8)"
   ]
  },
  {
   "cell_type": "code",
   "execution_count": 6,
   "metadata": {},
   "outputs": [
    {
     "name": "stdout",
     "output_type": "stream",
     "text": [
      "(2096, 12160, 3)\n"
     ]
    }
   ],
   "source": [
    "shape = (np.sum(normalized_perspective), normalized_perspective[0] * width, 3)\n",
    "print(shape)"
   ]
  },
  {
   "cell_type": "code",
   "execution_count": 7,
   "metadata": {},
   "outputs": [],
   "source": [
    "def row_left_bound(width, max_pixel_length, pixel_length):\n",
    "    return ((max_pixel_length - pixel_length) * width) // 2\n",
    "\n",
    "new_image = np.zeros(shape, dtype=np.uint8)\n",
    "\n",
    "y = 0\n",
    "\n",
    "for row, pixel_length in enumerate(normalized_perspective):\n",
    "    left = row_left_bound(width, normalized_perspective[0], pixel_length)\n",
    "    right = new_image.shape[1] - left\n",
    "    \n",
    "    for column, x in enumerate(range(left, right, pixel_length)):\n",
    "        new_image[y:y + pixel_length, x:x + pixel_length] = image[row, column]\n",
    "    y += pixel_length"
   ]
  }
 ],
 "metadata": {
  "kernelspec": {
   "display_name": "Python 3",
   "language": "python",
   "name": "python3"
  },
  "language_info": {
   "codemirror_mode": {
    "name": "ipython",
    "version": 3
   },
   "file_extension": ".py",
   "mimetype": "text/x-python",
   "name": "python",
   "nbconvert_exporter": "python",
   "pygments_lexer": "ipython3",
   "version": "3.6.6"
  }
 },
 "nbformat": 4,
 "nbformat_minor": 2
}
