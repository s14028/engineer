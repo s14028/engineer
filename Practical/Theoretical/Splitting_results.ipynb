{
 "cells": [
  {
   "cell_type": "code",
   "execution_count": 6,
   "metadata": {},
   "outputs": [],
   "source": [
    "counts = np.concatenate([count_train, count_test])"
   ]
  },
  {
   "cell_type": "code",
   "execution_count": 7,
   "metadata": {},
   "outputs": [
    {
     "name": "stdout",
     "output_type": "stream",
     "text": [
      "-10.1035\n",
      "3.7834888330745735\n",
      "\n",
      "-3.9995\n",
      "2.1153013378712737\n",
      "\n",
      "-1.004\n",
      "1.0143884857390684\n",
      "\n"
     ]
    }
   ],
   "source": [
    "for splitter, values in results.items():\n",
    "  anwsers = values[1]\n",
    "  anwsers = anwsers.reshape((-1, splitter ** 2))\n",
    "  anwsers = np.sum(anwsers, axis=1)\n",
    "  \n",
    "  diff = anwsers - counts\n",
    "  print(np.mean(diff))\n",
    "  print(np.std(diff), end=\"\\n\\n\")"
   ]
  }
 ],
 "metadata": {
  "kernelspec": {
   "display_name": "Python 3",
   "language": "python",
   "name": "python3"
  },
  "language_info": {
   "codemirror_mode": {
    "name": "ipython",
    "version": 3
   },
   "file_extension": ".py",
   "mimetype": "text/x-python",
   "name": "python",
   "nbconvert_exporter": "python",
   "pygments_lexer": "ipython3",
   "version": "3.6.6"
  }
 },
 "nbformat": 4,
 "nbformat_minor": 2
}
